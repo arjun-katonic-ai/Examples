{
 "cells": [
  {
   "cell_type": "markdown",
   "metadata": {
    "tags": []
   },
   "source": [
    "## COVID Pipeline Deployment on UCS\n",
    "\n",
    "### Clone Cisco Kubeflow Starter Pack Repository"
   ]
  },
  {
   "cell_type": "code",
   "execution_count": 1,
   "metadata": {},
   "outputs": [
    {
     "name": "stdout",
     "output_type": "stream",
     "text": [
      "fatal: destination path 'cisco-kubeflow-starter-pack' already exists and is not an empty directory.\n"
     ]
    }
   ],
   "source": [
    "BRANCH_NAME=\"master\" #Provide git branch \"master\" or \"dev\"\n",
    "! git clone -b $BRANCH_NAME https://github.com/CiscoAI/cisco-kubeflow-starter-pack.git"
   ]
  },
  {
   "cell_type": "markdown",
   "metadata": {
    "tags": []
   },
   "source": [
    "### Create requirements.txt"
   ]
  },
  {
   "cell_type": "code",
   "execution_count": 2,
   "metadata": {},
   "outputs": [
    {
     "name": "stdout",
     "output_type": "stream",
     "text": [
      "Overwriting requirements.txt\n"
     ]
    }
   ],
   "source": [
    "%%writefile requirements.txt\n",
    "kfp\n",
    "pandas\n",
    "numpy\n",
    "matplotlib\n",
    "plotly_express\n",
    "kubernetes"
   ]
  },
  {
   "cell_type": "markdown",
   "metadata": {
    "tags": []
   },
   "source": [
    "### Install Required Libraries"
   ]
  },
  {
   "cell_type": "code",
   "execution_count": 3,
   "metadata": {},
   "outputs": [
    {
     "name": "stdout",
     "output_type": "stream",
     "text": [
      "Requirement already satisfied: kfp in /opt/miniconda/lib/python3.7/site-packages (from -r requirements.txt (line 1)) (1.4.0)\n",
      "Requirement already satisfied: pandas in /opt/miniconda/lib/python3.7/site-packages (from -r requirements.txt (line 2)) (1.0.5)\n",
      "Requirement already satisfied: numpy in /opt/miniconda/lib/python3.7/site-packages (from -r requirements.txt (line 3)) (1.19.5)\n",
      "Requirement already satisfied: matplotlib in /opt/miniconda/lib/python3.7/site-packages (from -r requirements.txt (line 4)) (3.3.4)\n",
      "Requirement already satisfied: plotly_express in /root/.local/lib/python3.7/site-packages (from -r requirements.txt (line 5)) (0.4.1)\n",
      "Requirement already satisfied: kubernetes in /root/.local/lib/python3.7/site-packages (from -r requirements.txt (line 6)) (11.0.0)\n",
      "Requirement already satisfied: kfp-server-api<2.0.0,>=1.1.2 in /opt/miniconda/lib/python3.7/site-packages (from kfp->-r requirements.txt (line 1)) (1.4.1)\n",
      "Requirement already satisfied: google-cloud-storage>=1.13.0 in /opt/miniconda/lib/python3.7/site-packages (from kfp->-r requirements.txt (line 1)) (1.36.1)\n",
      "Requirement already satisfied: Deprecated in /opt/miniconda/lib/python3.7/site-packages (from kfp->-r requirements.txt (line 1)) (1.2.11)\n",
      "Requirement already satisfied: jsonschema>=3.0.1 in /opt/miniconda/lib/python3.7/site-packages (from kfp->-r requirements.txt (line 1)) (3.2.0)\n",
      "Requirement already satisfied: kfp-pipeline-spec<0.2.0,>=0.1.0 in /opt/miniconda/lib/python3.7/site-packages (from kfp->-r requirements.txt (line 1)) (0.1.6)\n",
      "Requirement already satisfied: PyYAML>=5.3 in /opt/miniconda/lib/python3.7/site-packages (from kfp->-r requirements.txt (line 1)) (5.3.1)\n",
      "Requirement already satisfied: requests-toolbelt>=0.8.0 in /opt/miniconda/lib/python3.7/site-packages (from kfp->-r requirements.txt (line 1)) (0.9.1)\n",
      "Requirement already satisfied: cloudpickle in /root/.local/lib/python3.7/site-packages (from kfp->-r requirements.txt (line 1)) (1.1.1)\n",
      "Requirement already satisfied: google-auth>=1.6.1 in /opt/miniconda/lib/python3.7/site-packages (from kfp->-r requirements.txt (line 1)) (1.27.1)\n",
      "Requirement already satisfied: tabulate in /opt/miniconda/lib/python3.7/site-packages (from kfp->-r requirements.txt (line 1)) (0.8.9)\n",
      "Requirement already satisfied: click in /opt/miniconda/lib/python3.7/site-packages (from kfp->-r requirements.txt (line 1)) (7.1.2)\n",
      "Requirement already satisfied: strip-hints in /opt/miniconda/lib/python3.7/site-packages (from kfp->-r requirements.txt (line 1)) (0.1.9)\n",
      "Requirement already satisfied: docstring-parser>=0.7.3 in /opt/miniconda/lib/python3.7/site-packages (from kfp->-r requirements.txt (line 1)) (0.7.3)\n",
      "Requirement already satisfied: fire>=0.3.1 in /opt/miniconda/lib/python3.7/site-packages (from kfp->-r requirements.txt (line 1)) (0.4.0)\n",
      "Requirement already satisfied: python-dateutil>=2.5.3 in /root/.local/lib/python3.7/site-packages (from kubernetes->-r requirements.txt (line 6)) (2.8.0)\n",
      "Requirement already satisfied: requests in /root/.local/lib/python3.7/site-packages (from kubernetes->-r requirements.txt (line 6)) (2.22.0)\n",
      "Requirement already satisfied: requests-oauthlib in /opt/miniconda/lib/python3.7/site-packages (from kubernetes->-r requirements.txt (line 6)) (1.3.0)\n",
      "Requirement already satisfied: certifi>=14.05.14 in /opt/miniconda/lib/python3.7/site-packages (from kubernetes->-r requirements.txt (line 6)) (2020.12.5)\n",
      "Requirement already satisfied: urllib3>=1.24.2 in /root/.local/lib/python3.7/site-packages (from kubernetes->-r requirements.txt (line 6)) (1.24.2)\n",
      "Requirement already satisfied: setuptools>=21.0.0 in /opt/miniconda/lib/python3.7/site-packages (from kubernetes->-r requirements.txt (line 6)) (52.0.0.post20210125)\n",
      "Requirement already satisfied: six>=1.9.0 in /opt/miniconda/lib/python3.7/site-packages (from kubernetes->-r requirements.txt (line 6)) (1.15.0)\n",
      "Requirement already satisfied: websocket-client!=0.40.0,!=0.41.*,!=0.42.*,>=0.32.0 in /opt/miniconda/lib/python3.7/site-packages (from kubernetes->-r requirements.txt (line 6)) (0.58.0)\n",
      "Requirement already satisfied: termcolor in /opt/miniconda/lib/python3.7/site-packages (from fire>=0.3.1->kfp->-r requirements.txt (line 1)) (1.1.0)\n",
      "Requirement already satisfied: pyasn1-modules>=0.2.1 in /opt/miniconda/lib/python3.7/site-packages (from google-auth>=1.6.1->kfp->-r requirements.txt (line 1)) (0.2.8)\n",
      "Requirement already satisfied: cachetools<5.0,>=2.0.0 in /opt/miniconda/lib/python3.7/site-packages (from google-auth>=1.6.1->kfp->-r requirements.txt (line 1)) (4.2.1)\n",
      "Requirement already satisfied: rsa<5,>=3.1.4 in /opt/miniconda/lib/python3.7/site-packages (from google-auth>=1.6.1->kfp->-r requirements.txt (line 1)) (4.5)\n",
      "Requirement already satisfied: google-resumable-media<2.0dev,>=1.2.0 in /opt/miniconda/lib/python3.7/site-packages (from google-cloud-storage>=1.13.0->kfp->-r requirements.txt (line 1)) (1.2.0)\n",
      "Requirement already satisfied: google-cloud-core<2.0dev,>=1.4.1 in /opt/miniconda/lib/python3.7/site-packages (from google-cloud-storage>=1.13.0->kfp->-r requirements.txt (line 1)) (1.6.0)\n",
      "Requirement already satisfied: google-api-core<2.0.0dev,>=1.21.0 in /opt/miniconda/lib/python3.7/site-packages (from google-cloud-core<2.0dev,>=1.4.1->google-cloud-storage>=1.13.0->kfp->-r requirements.txt (line 1)) (1.26.1)\n",
      "Requirement already satisfied: googleapis-common-protos<2.0dev,>=1.6.0 in /opt/miniconda/lib/python3.7/site-packages (from google-api-core<2.0.0dev,>=1.21.0->google-cloud-core<2.0dev,>=1.4.1->google-cloud-storage>=1.13.0->kfp->-r requirements.txt (line 1)) (1.53.0)\n",
      "Requirement already satisfied: packaging>=14.3 in /opt/miniconda/lib/python3.7/site-packages (from google-api-core<2.0.0dev,>=1.21.0->google-cloud-core<2.0dev,>=1.4.1->google-cloud-storage>=1.13.0->kfp->-r requirements.txt (line 1)) (20.9)\n",
      "Requirement already satisfied: protobuf>=3.12.0 in /opt/miniconda/lib/python3.7/site-packages (from google-api-core<2.0.0dev,>=1.21.0->google-cloud-core<2.0dev,>=1.4.1->google-cloud-storage>=1.13.0->kfp->-r requirements.txt (line 1)) (3.15.5)\n",
      "Requirement already satisfied: pytz in /opt/miniconda/lib/python3.7/site-packages (from google-api-core<2.0.0dev,>=1.21.0->google-cloud-core<2.0dev,>=1.4.1->google-cloud-storage>=1.13.0->kfp->-r requirements.txt (line 1)) (2021.1)\n",
      "Requirement already satisfied: google-crc32c<2.0dev,>=1.0 in /opt/miniconda/lib/python3.7/site-packages (from google-resumable-media<2.0dev,>=1.2.0->google-cloud-storage>=1.13.0->kfp->-r requirements.txt (line 1)) (1.1.2)\n",
      "Requirement already satisfied: cffi>=1.0.0 in /opt/miniconda/lib/python3.7/site-packages (from google-crc32c<2.0dev,>=1.0->google-resumable-media<2.0dev,>=1.2.0->google-cloud-storage>=1.13.0->kfp->-r requirements.txt (line 1)) (1.14.5)\n",
      "Requirement already satisfied: pycparser in /opt/miniconda/lib/python3.7/site-packages (from cffi>=1.0.0->google-crc32c<2.0dev,>=1.0->google-resumable-media<2.0dev,>=1.2.0->google-cloud-storage>=1.13.0->kfp->-r requirements.txt (line 1)) (2.20)\n",
      "Requirement already satisfied: importlib-metadata in /opt/miniconda/lib/python3.7/site-packages (from jsonschema>=3.0.1->kfp->-r requirements.txt (line 1)) (3.7.2)\n",
      "Requirement already satisfied: attrs>=17.4.0 in /opt/miniconda/lib/python3.7/site-packages (from jsonschema>=3.0.1->kfp->-r requirements.txt (line 1)) (20.3.0)\n",
      "Requirement already satisfied: pyrsistent>=0.14.0 in /opt/miniconda/lib/python3.7/site-packages (from jsonschema>=3.0.1->kfp->-r requirements.txt (line 1)) (0.17.3)\n",
      "Requirement already satisfied: pyparsing>=2.0.2 in /opt/miniconda/lib/python3.7/site-packages (from packaging>=14.3->google-api-core<2.0.0dev,>=1.21.0->google-cloud-core<2.0dev,>=1.4.1->google-cloud-storage>=1.13.0->kfp->-r requirements.txt (line 1)) (2.4.7)\n",
      "Requirement already satisfied: pyasn1<0.5.0,>=0.4.6 in /opt/miniconda/lib/python3.7/site-packages (from pyasn1-modules>=0.2.1->google-auth>=1.6.1->kfp->-r requirements.txt (line 1)) (0.4.8)\n",
      "Requirement already satisfied: chardet<3.1.0,>=3.0.2 in /root/.local/lib/python3.7/site-packages (from requests->kubernetes->-r requirements.txt (line 6)) (3.0.4)\n",
      "Requirement already satisfied: idna<2.9,>=2.5 in /root/.local/lib/python3.7/site-packages (from requests->kubernetes->-r requirements.txt (line 6)) (2.8)\n",
      "Requirement already satisfied: kiwisolver>=1.0.1 in /opt/miniconda/lib/python3.7/site-packages (from matplotlib->-r requirements.txt (line 4)) (1.3.1)\n",
      "Requirement already satisfied: cycler>=0.10 in /opt/miniconda/lib/python3.7/site-packages (from matplotlib->-r requirements.txt (line 4)) (0.10.0)\n",
      "Requirement already satisfied: pillow>=6.2.0 in /opt/miniconda/lib/python3.7/site-packages (from matplotlib->-r requirements.txt (line 4)) (8.1.2)\n",
      "Requirement already satisfied: statsmodels>=0.9.0 in /root/.local/lib/python3.7/site-packages (from plotly_express->-r requirements.txt (line 5)) (0.12.2)\n",
      "Requirement already satisfied: scipy>=0.18 in /opt/miniconda/lib/python3.7/site-packages (from plotly_express->-r requirements.txt (line 5)) (1.6.0)\n",
      "Requirement already satisfied: plotly>=4.1.0 in /opt/miniconda/lib/python3.7/site-packages (from plotly_express->-r requirements.txt (line 5)) (4.14.3)\n",
      "Requirement already satisfied: patsy>=0.5 in /root/.local/lib/python3.7/site-packages (from plotly_express->-r requirements.txt (line 5)) (0.5.1)\n",
      "Requirement already satisfied: retrying>=1.3.3 in /opt/miniconda/lib/python3.7/site-packages (from plotly>=4.1.0->plotly_express->-r requirements.txt (line 5)) (1.3.3)\n",
      "Requirement already satisfied: wrapt<2,>=1.10 in /opt/miniconda/lib/python3.7/site-packages (from Deprecated->kfp->-r requirements.txt (line 1)) (1.12.1)\n",
      "Requirement already satisfied: zipp>=0.5 in /opt/miniconda/lib/python3.7/site-packages (from importlib-metadata->jsonschema>=3.0.1->kfp->-r requirements.txt (line 1)) (3.4.1)\n",
      "Requirement already satisfied: typing-extensions>=3.6.4 in /opt/miniconda/lib/python3.7/site-packages (from importlib-metadata->jsonschema>=3.0.1->kfp->-r requirements.txt (line 1)) (3.7.4.3)\n",
      "Requirement already satisfied: oauthlib>=3.0.0 in /opt/miniconda/lib/python3.7/site-packages (from requests-oauthlib->kubernetes->-r requirements.txt (line 6)) (3.1.0)\n",
      "Requirement already satisfied: wheel in /opt/miniconda/lib/python3.7/site-packages (from strip-hints->kfp->-r requirements.txt (line 1)) (0.36.2)\n",
      "Note: you may need to restart the kernel to use updated packages.\n"
     ]
    }
   ],
   "source": [
    "pip install --user -r requirements.txt"
   ]
  },
  {
   "cell_type": "markdown",
   "metadata": {
    "tags": []
   },
   "source": [
    "### Restart Notebook Kernel"
   ]
  },
  {
   "cell_type": "code",
   "execution_count": 4,
   "metadata": {},
   "outputs": [
    {
     "data": {
      "text/html": [
       "<script>Jupyter.notebook.kernel.restart()</script>"
      ]
     },
     "metadata": {},
     "output_type": "display_data"
    }
   ],
   "source": [
    "from IPython.display import display_html\n",
    "display_html(\"<script>Jupyter.notebook.kernel.restart()</script>\",raw=True)"
   ]
  },
  {
   "cell_type": "markdown",
   "metadata": {
    "tags": []
   },
   "source": [
    "### Import libraries"
   ]
  },
  {
   "cell_type": "code",
   "execution_count": 5,
   "metadata": {},
   "outputs": [],
   "source": [
    "import kfp\n",
    "import os\n",
    "import calendar\n",
    "import time\n",
    "from kubernetes import client\n",
    "from kfp import components\n",
    "import pandas as pd\n",
    "import numpy as np\n",
    "import datetime\n",
    "from datetime import timedelta\n",
    "import matplotlib.pyplot as plt\n",
    "import plotly_express as px\n",
    "%matplotlib inline"
   ]
  },
  {
   "cell_type": "markdown",
   "metadata": {
    "tags": []
   },
   "source": [
    "\n",
    "### Component files Declarations"
   ]
  },
  {
   "cell_type": "code",
   "execution_count": 6,
   "metadata": {},
   "outputs": [],
   "source": [
    "path='cisco-kubeflow-starter-pack/apps/healthcare/covid-forecasting/onprem/pipelines/'\n",
    "component_root_preprocess = path + 'components/covid_preprocess/'\n",
    "component_root_train = path + 'components/covid_train/'\n",
    "component_root_serve = path + 'components/covid_serve/'"
   ]
  },
  {
   "cell_type": "markdown",
   "metadata": {
    "tags": []
   },
   "source": [
    "### Load components from respective .YAML config files"
   ]
  },
  {
   "cell_type": "code",
   "execution_count": 8,
   "metadata": {},
   "outputs": [],
   "source": [
    "covid_preprocess_op = kfp.components.load_component_from_file('/usr/src/workdir/trishla/kfpipeline/cisco-kubeflow-starter-pack/apps/healthcare/covid/onprem/pipelines/components/covid_preprocess/component.yaml')\n",
    "covid_train_op = kfp.components.load_component_from_file('/usr/src/workdir/trishla/kfpipeline/cisco-kubeflow-starter-pack/apps/healthcare/covid/onprem/pipelines/components/covid_train/component.yaml')\n",
    "covid_serve_op = kfp.components.load_component_from_file('/usr/src/workdir/trishla/kfpipeline/cisco-kubeflow-starter-pack/apps/healthcare/covid/onprem/pipelines/components/covid_serve/component.yaml')"
   ]
  },
  {
   "cell_type": "markdown",
   "metadata": {
    "tags": []
   },
   "source": [
    "### Define Volume and Volume Mounts"
   ]
  },
  {
   "cell_type": "code",
   "execution_count": 9,
   "metadata": {},
   "outputs": [],
   "source": [
    "nfs_pvc = client.V1PersistentVolumeClaimVolumeSource(claim_name='jupy-vol1')\n",
    "nfs_volume = client.V1Volume(name='jupy-vol1', persistent_volume_claim=nfs_pvc)\n",
    "nfs_volume_mount = client.V1VolumeMount(mount_path='/mnt/', name='jupy-vol1')"
   ]
  },
  {
   "cell_type": "markdown",
   "metadata": {
    "tags": []
   },
   "source": [
    "### Create Timestamp"
   ]
  },
  {
   "cell_type": "code",
   "execution_count": 10,
   "metadata": {},
   "outputs": [
    {
     "name": "stdout",
     "output_type": "stream",
     "text": [
      "1621315656\n"
     ]
    }
   ],
   "source": [
    "timestamp = str(calendar.timegm(time.gmtime()))\n",
    "print(timestamp)"
   ]
  },
  {
   "cell_type": "markdown",
   "metadata": {
    "tags": []
   },
   "source": [
    "### Define pipeline function"
   ]
  },
  {
   "cell_type": "code",
   "execution_count": 11,
   "metadata": {},
   "outputs": [],
   "source": [
    "def covid_pipeline():\n",
    "    \n",
    "    #Define Task for Preprocess covid data\n",
    "    covid_preprocess_task = covid_preprocess_op()\n",
    "    covid_preprocess_task.add_volume(nfs_volume)\n",
    "    covid_preprocess_task.add_volume_mount(nfs_volume_mount)\n",
    "    \n",
    "    #Define Task for Training model for COVID-19 prediction\n",
    "    covid_train_task = covid_train_op(epochs=10)\n",
    "    covid_train_task.add_volume(nfs_volume)\n",
    "    covid_train_task.add_volume_mount(nfs_volume_mount)\n",
    "    covid_train_task.after(covid_preprocess_task)\n",
    "    \n",
    "    #Define Task for Serving for COVID-19 prediction\n",
    "    covid_serve_task = covid_serve_op(timestamp=timestamp)\n",
    "    covid_serve_task.add_volume(nfs_volume)\n",
    "    covid_serve_task.add_volume_mount(nfs_volume_mount)\n",
    "    covid_serve_task.after(covid_train_task)    "
   ]
  },
  {
   "cell_type": "markdown",
   "metadata": {
    "tags": []
   },
   "source": [
    "### Create & Execute a COVID Forcast Pipeline"
   ]
  },
  {
   "cell_type": "code",
   "execution_count": 12,
   "metadata": {},
   "outputs": [
    {
     "data": {
      "text/html": [
       "<a href=\"/pipeline/#/experiments/details/3dd42cfc-ff37-4c21-aabb-5372311c6f0e\" target=\"_blank\" >Experiment details</a>."
      ],
      "text/plain": [
       "<IPython.core.display.HTML object>"
      ]
     },
     "metadata": {},
     "output_type": "display_data"
    },
    {
     "data": {
      "text/html": [
       "<a href=\"/pipeline/#/runs/details/2c509006-0125-4949-ac11-d5e7138c65a0\" target=\"_blank\" >Run details</a>."
      ],
      "text/plain": [
       "<IPython.core.display.HTML object>"
      ]
     },
     "metadata": {},
     "output_type": "display_data"
    },
    {
     "data": {
      "text/plain": [
       "RunPipelineResult(run_id=2c509006-0125-4949-ac11-d5e7138c65a0)"
      ]
     },
     "execution_count": 12,
     "metadata": {},
     "output_type": "execute_result"
    }
   ],
   "source": [
    "#Create a pipeline run\n",
    "kfp.Client().create_run_from_pipeline_func(covid_pipeline, arguments={})"
   ]
  },
  {
   "cell_type": "code",
   "execution_count": null,
   "metadata": {},
   "outputs": [],
   "source": []
  }
 ],
 "metadata": {
  "kernelspec": {
   "display_name": "Python 3",
   "language": "python",
   "name": "python3"
  },
  "kubeflow_notebook": {
   "autosnapshot": false,
   "docker_image": "",
   "experiment": {
    "id": "",
    "name": ""
   },
   "experiment_name": "",
   "katib_metadata": {
    "algorithm": {
     "algorithmName": "grid"
    },
    "maxFailedTrialCount": 3,
    "maxTrialCount": 12,
    "objective": {
     "objectiveMetricName": "",
     "type": "minimize"
    },
    "parallelTrialCount": 3,
    "parameters": []
   },
   "katib_run": false,
   "pipeline_description": "",
   "pipeline_name": "",
   "snapshot_volumes": false,
   "steps_defaults": [],
   "volume_access_mode": "rwm",
   "volumes": []
  },
  "language_info": {
   "codemirror_mode": {
    "name": "ipython",
    "version": 3
   },
   "file_extension": ".py",
   "mimetype": "text/x-python",
   "name": "python",
   "nbconvert_exporter": "python",
   "pygments_lexer": "ipython3",
   "version": "3.7.9"
  }
 },
 "nbformat": 4,
 "nbformat_minor": 4
}
