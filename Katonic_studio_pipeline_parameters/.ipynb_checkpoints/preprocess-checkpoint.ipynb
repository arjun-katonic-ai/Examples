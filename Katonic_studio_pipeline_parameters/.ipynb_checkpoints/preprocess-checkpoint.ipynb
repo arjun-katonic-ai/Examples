{
 "cells": [
  {
   "cell_type": "code",
   "execution_count": 1,
   "id": "c4ce6b28",
   "metadata": {
    "execution": {
     "iopub.execute_input": "2023-10-19T06:08:10.765676Z",
     "iopub.status.busy": "2023-10-19T06:08:10.762156Z",
     "iopub.status.idle": "2023-10-19T06:08:11.058139Z",
     "shell.execute_reply": "2023-10-19T06:08:11.057643Z"
    },
    "papermill": {
     "duration": 0.299736,
     "end_time": "2023-10-19T06:08:11.058260",
     "exception": false,
     "start_time": "2023-10-19T06:08:10.758524",
     "status": "completed"
    },
    "tags": []
   },
   "outputs": [],
   "source": [
    "import pandas as pd"
   ]
  },
  {
   "cell_type": "code",
   "execution_count": 2,
   "id": "89c3e7d1",
   "metadata": {
    "execution": {
     "iopub.execute_input": "2023-10-19T06:08:11.064320Z",
     "iopub.status.busy": "2023-10-19T06:08:11.063943Z",
     "iopub.status.idle": "2023-10-19T06:08:11.067782Z",
     "shell.execute_reply": "2023-10-19T06:08:11.067413Z"
    },
    "papermill": {
     "duration": 0.007783,
     "end_time": "2023-10-19T06:08:11.067867",
     "exception": false,
     "start_time": "2023-10-19T06:08:11.060084",
     "status": "completed"
    },
    "tags": []
   },
   "outputs": [],
   "source": [
    "df = pd.read_csv(\"output.csv\")"
   ]
  },
  {
   "cell_type": "code",
   "execution_count": 3,
   "id": "33a8075e",
   "metadata": {
    "execution": {
     "iopub.execute_input": "2023-10-19T06:08:11.079579Z",
     "iopub.status.busy": "2023-10-19T06:08:11.079189Z",
     "iopub.status.idle": "2023-10-19T06:08:11.081418Z",
     "shell.execute_reply": "2023-10-19T06:08:11.081086Z"
    },
    "papermill": {
     "duration": 0.011077,
     "end_time": "2023-10-19T06:08:11.081501",
     "exception": false,
     "start_time": "2023-10-19T06:08:11.070424",
     "status": "completed"
    },
    "tags": []
   },
   "outputs": [
    {
     "data": {
      "text/plain": [
       "Quarter       False\n",
       "Revenue       False\n",
       "Net Income    False\n",
       "dtype: bool"
      ]
     },
     "execution_count": 3,
     "metadata": {},
     "output_type": "execute_result"
    }
   ],
   "source": [
    "df.isnull().any()"
   ]
  },
  {
   "cell_type": "code",
   "execution_count": 4,
   "id": "2765c846",
   "metadata": {
    "execution": {
     "iopub.execute_input": "2023-10-19T06:08:11.087593Z",
     "iopub.status.busy": "2023-10-19T06:08:11.087205Z",
     "iopub.status.idle": "2023-10-19T06:08:11.088767Z",
     "shell.execute_reply": "2023-10-19T06:08:11.089067Z"
    },
    "papermill": {
     "duration": 0.006234,
     "end_time": "2023-10-19T06:08:11.089157",
     "exception": false,
     "start_time": "2023-10-19T06:08:11.082923",
     "status": "completed"
    },
    "tags": []
   },
   "outputs": [],
   "source": [
    "df['Quarter']=pd.to_datetime(df['Quarter'])"
   ]
  },
  {
   "cell_type": "code",
   "execution_count": 5,
   "id": "3debad35",
   "metadata": {
    "execution": {
     "iopub.execute_input": "2023-10-19T06:08:11.096393Z",
     "iopub.status.busy": "2023-10-19T06:08:11.096005Z",
     "iopub.status.idle": "2023-10-19T06:08:11.097802Z",
     "shell.execute_reply": "2023-10-19T06:08:11.097483Z"
    },
    "papermill": {
     "duration": 0.007338,
     "end_time": "2023-10-19T06:08:11.097882",
     "exception": false,
     "start_time": "2023-10-19T06:08:11.090544",
     "status": "completed"
    },
    "tags": []
   },
   "outputs": [],
   "source": [
    "df=df.reset_index()[['Quarter','Revenue']].rename({'Quarter':'ds','Revenue':'y'},axis='columns')"
   ]
  },
  {
   "cell_type": "code",
   "execution_count": 6,
   "id": "c8737ab6",
   "metadata": {
    "execution": {
     "iopub.execute_input": "2023-10-19T06:08:11.103394Z",
     "iopub.status.busy": "2023-10-19T06:08:11.103016Z",
     "iopub.status.idle": "2023-10-19T06:08:11.105990Z",
     "shell.execute_reply": "2023-10-19T06:08:11.106272Z"
    },
    "papermill": {
     "duration": 0.006762,
     "end_time": "2023-10-19T06:08:11.106390",
     "exception": false,
     "start_time": "2023-10-19T06:08:11.099628",
     "status": "completed"
    },
    "tags": []
   },
   "outputs": [],
   "source": [
    "df.to_csv(\"output.csv\",index=False)"
   ]
  },
  {
   "cell_type": "code",
   "execution_count": null,
   "id": "bedef3d3",
   "metadata": {
    "papermill": {
     "duration": 0.001348,
     "end_time": "2023-10-19T06:08:11.109100",
     "exception": false,
     "start_time": "2023-10-19T06:08:11.107752",
     "status": "completed"
    },
    "tags": []
   },
   "outputs": [],
   "source": []
  }
 ],
 "metadata": {
  "kernelspec": {
   "display_name": "Python 3 (ipykernel)",
   "language": "python",
   "name": "python3"
  },
  "kubeflow_notebook": {
   "autosnapshot": false,
   "docker_image": "",
   "experiment": {
    "id": "",
    "name": ""
   },
   "experiment_name": "",
   "katib_metadata": {
    "algorithm": {
     "algorithmName": "grid"
    },
    "maxFailedTrialCount": 3,
    "maxTrialCount": 12,
    "objective": {
     "objectiveMetricName": "",
     "type": "minimize"
    },
    "parallelTrialCount": 3,
    "parameters": []
   },
   "katib_run": false,
   "pipeline_description": "",
   "pipeline_name": "",
   "snapshot_volumes": false,
   "steps_defaults": [],
   "volume_access_mode": "rwm",
   "volumes": []
  },
  "language_info": {
   "codemirror_mode": {
    "name": "ipython",
    "version": 3
   },
   "file_extension": ".py",
   "mimetype": "text/x-python",
   "name": "python",
   "nbconvert_exporter": "python",
   "pygments_lexer": "ipython3",
   "version": "3.9.7"
  },
  "papermill": {
   "default_parameters": {},
   "duration": 1.501446,
   "end_time": "2023-10-19T06:08:11.315710",
   "environment_variables": {},
   "exception": null,
   "input_path": "/home/katonic/workspace/Examples/amazon_revenue_forcasting/preprocess.ipynb",
   "output_path": "/home/katonic/workspace/Examples/amazon_revenue_forcasting/preprocess.ipynb",
   "parameters": {},
   "start_time": "2023-10-19T06:08:09.814264",
   "version": "2.4.0"
  }
 },
 "nbformat": 4,
 "nbformat_minor": 5
}