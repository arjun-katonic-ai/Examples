{
 "cells": [
  {
   "cell_type": "code",
   "execution_count": 6,
   "id": "642181b6-ee24-4e7c-91d8-7ed2065f255e",
   "metadata": {},
   "outputs": [
    {
     "name": "stdout",
     "output_type": "stream",
     "text": [
      "          ds         yhat   yhat_lower    yhat_upper\n",
      "0 2019-03-31  3906.904658  -299.013527   8112.822844\n",
      "1 2019-06-30   986.041621 -5247.567574   7219.650816\n",
      "2 2019-09-30   427.514017 -7212.190500   8067.218535\n",
      "3 2019-12-31  2410.166698 -6447.404086  11267.737483\n"
     ]
    }
   ],
   "source": [
    "import pandas as pd\n",
    "import numpy as np\n",
    "import pickle\n",
    "from statsmodels.tsa.statespace.sarimax import SARIMAX\n",
    "\n",
    "# Load your SARIMA model from the saved pickle file\n",
    "with open(\"sarima_model.pkl\", \"rb\") as f:\n",
    "    sarima_model = pickle.load(f)\n",
    "\n",
    "\n",
    "forecast_periods = 4\n",
    "\n",
    "\n",
    "train = pd.read_csv(\"train.csv\")\n",
    "\n",
    "future_dates = pd.date_range(start=train['ds'].max(), periods=forecast_periods, freq='Q')\n",
    "\n",
    "\n",
    "sarima_forecast = sarima_model.get_forecast(steps=forecast_periods)\n",
    "\n",
    "forecasted_values = sarima_forecast.predicted_mean\n",
    "\n",
    "lower_bound = sarima_forecast.conf_int()[:, 0]\n",
    "upper_bound = sarima_forecast.conf_int()[:, 1]\n",
    "\n",
    "\n",
    "forecast = pd.DataFrame({'ds': future_dates, 'yhat': forecasted_values, 'yhat_lower': lower_bound, 'yhat_upper': upper_bound})\n",
    "forecast.to_csv(\"output.csv\", index=False)\n",
    "\n",
    "\n",
    "print(forecast)\n",
    "\n"
   ]
  },
  {
   "cell_type": "code",
   "execution_count": null,
   "id": "a4cd0e6b-3b17-4245-9c8f-d939dc92e29a",
   "metadata": {},
   "outputs": [],
   "source": []
  },
  {
   "cell_type": "code",
   "execution_count": null,
   "id": "de9ca9a7-2ae9-40e2-b93c-285a50067080",
   "metadata": {},
   "outputs": [],
   "source": []
  }
 ],
 "metadata": {
  "kernelspec": {
   "display_name": "Python 3 (ipykernel)",
   "language": "python",
   "name": "python3"
  },
  "language_info": {
   "codemirror_mode": {
    "name": "ipython",
    "version": 3
   },
   "file_extension": ".py",
   "mimetype": "text/x-python",
   "name": "python",
   "nbconvert_exporter": "python",
   "pygments_lexer": "ipython3",
   "version": "3.9.7"
  }
 },
 "nbformat": 4,
 "nbformat_minor": 5
}
