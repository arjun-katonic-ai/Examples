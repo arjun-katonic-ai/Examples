{
 "cells": [
  {
   "cell_type": "code",
   "execution_count": 12,
   "id": "1372ea56-a317-40b8-ab69-da0ca4149528",
   "metadata": {},
   "outputs": [
    {
     "name": "stderr",
     "output_type": "stream",
     "text": [
      "WARNING: The directory '/home/jovyan/.cache/pip' or its parent directory is not owned or is not writable by the current user. The cache has been disabled. Check the permissions and owner of that directory. If executing pip with sudo, you should use sudo's -H flag.\n"
     ]
    },
    {
     "name": "stdout",
     "output_type": "stream",
     "text": [
      "Requirement already satisfied: statsmodels==0.13.2 in /opt/conda/lib/python3.9/site-packages (0.13.2)\n",
      "Requirement already satisfied: pandas in /opt/conda/lib/python3.9/site-packages (1.5.2)\n",
      "Requirement already satisfied: numpy in /opt/conda/lib/python3.9/site-packages (1.21.2)\n",
      "Requirement already satisfied: scipy>=1.3 in /opt/conda/lib/python3.9/site-packages (from statsmodels==0.13.2) (1.10.1)\n",
      "Requirement already satisfied: patsy>=0.5.2 in /opt/conda/lib/python3.9/site-packages (from statsmodels==0.13.2) (0.5.3)\n",
      "Requirement already satisfied: packaging>=21.3 in /opt/conda/lib/python3.9/site-packages (from statsmodels==0.13.2) (22.0)\n",
      "Requirement already satisfied: python-dateutil>=2.8.1 in /opt/conda/lib/python3.9/site-packages (from pandas) (2.8.2)\n",
      "Requirement already satisfied: pytz>=2020.1 in /opt/conda/lib/python3.9/site-packages (from pandas) (2021.3)\n",
      "Requirement already satisfied: six in /opt/conda/lib/python3.9/site-packages (from patsy>=0.5.2->statsmodels==0.13.2) (1.12.0)\n"
     ]
    },
    {
     "name": "stderr",
     "output_type": "stream",
     "text": [
      "WARNING: Running pip as the 'root' user can result in broken permissions and conflicting behaviour with the system package manager. It is recommended to use a virtual environment instead: https://pip.pypa.io/warnings/venv\n",
      "/opt/conda/lib/python3.9/site-packages/statsmodels/tsa/statespace/sarimax.py:1009: UserWarning: Non-invertible starting seasonal moving average Using zeros as starting parameters.\n",
      "  warn('Non-invertible starting seasonal moving average'\n",
      " This problem is unconstrained.\n"
     ]
    },
    {
     "name": "stdout",
     "output_type": "stream",
     "text": [
      "RUNNING THE L-BFGS-B CODE\n",
      "\n",
      "           * * *\n",
      "\n",
      "Machine precision = 2.220D-16\n",
      " N =            5     M =           10\n",
      "\n",
      "At X0         0 variables are exactly at the bounds\n",
      "\n",
      "At iterate    0    f=  8.83495D+00    |proj g|=  5.64542D+00\n",
      "\n",
      "At iterate    5    f=  7.04141D+00    |proj g|=  5.70046D-02\n",
      "\n",
      "At iterate   10    f=  7.00589D+00    |proj g|=  1.16918D-01\n",
      "\n",
      "At iterate   15    f=  6.98324D+00    |proj g|=  2.84975D-02\n",
      "\n",
      "At iterate   20    f=  6.98158D+00    |proj g|=  1.97562D-03\n",
      "\n",
      "At iterate   25    f=  6.98145D+00    |proj g|=  5.20021D-03\n",
      "\n",
      "At iterate   30    f=  6.98145D+00    |proj g|=  8.03309D-05\n",
      "\n",
      "At iterate   35    f=  6.98143D+00    |proj g|=  2.10716D-03\n",
      "\n",
      "At iterate   40    f=  6.97868D+00    |proj g|=  3.93536D-02\n",
      "\n",
      "At iterate   45    f=  6.96856D+00    |proj g|=  2.99539D-03\n",
      "\n",
      "At iterate   50    f=  6.96841D+00    |proj g|=  1.87729D-03\n",
      "\n",
      "           * * *\n",
      "\n",
      "Tit   = total number of iterations\n",
      "Tnf   = total number of function evaluations\n",
      "Tnint = total number of segments explored during Cauchy searches\n",
      "Skip  = number of BFGS updates skipped\n",
      "Nact  = number of active bounds at final generalized Cauchy point\n",
      "Projg = norm of the final projected gradient\n",
      "F     = final function value\n",
      "\n",
      "           * * *\n",
      "\n",
      "   N    Tit     Tnf  Tnint  Skip  Nact     Projg        F\n",
      "    5     50     54      1     0     0   1.877D-03   6.968D+00\n",
      "  F =   6.9684079454525936     \n",
      "\n",
      "STOP: TOTAL NO. of ITERATIONS REACHED LIMIT                 \n"
     ]
    },
    {
     "name": "stderr",
     "output_type": "stream",
     "text": [
      "/opt/conda/lib/python3.9/site-packages/statsmodels/base/model.py:604: ConvergenceWarning: Maximum Likelihood optimization failed to converge. Check mle_retvals\n",
      "  warnings.warn(\"Maximum Likelihood optimization failed to \"\n"
     ]
    }
   ],
   "source": [
    "import os\n",
    "os.system(\"pip install statsmodels==0.13.2 pandas numpy\")\n",
    "import pandas as pd\n",
    "import numpy as np\n",
    "import pickle\n",
    "from statsmodels.tsa.statespace.sarimax import SARIMAX\n",
    "\n",
    "# Load your training data (assuming it's a time series)\n",
    "train = pd.read_csv(\"train.csv\")\n",
    "\n",
    "# Convert date columns to datetime if necessary\n",
    "train['ds'] = pd.to_datetime(train['ds'])\n",
    "\n",
    "# Remove non-numeric columns if not needed\n",
    "# train = train.drop(['non_numeric_column'], axis=1)\n",
    "\n",
    "# Convert the target variable to a numpy array\n",
    "endog = np.asarray(train['y'])\n",
    "\n",
    "# Define SARIMA model parameters\n",
    "order = (1, 1, 1)\n",
    "seasonal_order = (1, 1, 1, 12)\n",
    "\n",
    "# Create and fit the SARIMA model\n",
    "model = SARIMAX(endog, order=order, seasonal_order=seasonal_order)\n",
    "model_fit = model.fit()\n",
    "\n",
    "# Save the trained SARIMA model to a pickle file\n",
    "with open(\"sarima_model.pkl\", \"wb\") as f:\n",
    "    pickle.dump(model_fit, f)\n",
    "\n"
   ]
  },
  {
   "cell_type": "code",
   "execution_count": null,
   "id": "c2481755-984d-4508-b39e-ca5412d3e0ac",
   "metadata": {},
   "outputs": [],
   "source": []
  }
 ],
 "metadata": {
  "kernelspec": {
   "display_name": "Python 3 (ipykernel)",
   "language": "python",
   "name": "python3"
  },
  "language_info": {
   "codemirror_mode": {
    "name": "ipython",
    "version": 3
   },
   "file_extension": ".py",
   "mimetype": "text/x-python",
   "name": "python",
   "nbconvert_exporter": "python",
   "pygments_lexer": "ipython3",
   "version": "3.9.7"
  }
 },
 "nbformat": 4,
 "nbformat_minor": 5
}
