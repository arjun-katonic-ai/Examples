{
 "cells": [
  {
   "cell_type": "code",
   "execution_count": 1,
   "id": "e5c84140",
   "metadata": {
    "execution": {
     "iopub.execute_input": "2023-10-19T06:08:08.910822Z",
     "iopub.status.busy": "2023-10-19T06:08:08.910388Z",
     "iopub.status.idle": "2023-10-19T06:08:09.178957Z",
     "shell.execute_reply": "2023-10-19T06:08:09.179336Z"
    },
    "papermill": {
     "duration": 0.276069,
     "end_time": "2023-10-19T06:08:09.179548",
     "exception": false,
     "start_time": "2023-10-19T06:08:08.903479",
     "status": "completed"
    },
    "tags": []
   },
   "outputs": [],
   "source": [
    "import pandas as pd\n",
    "import os"
   ]
  },
  {
   "cell_type": "code",
   "execution_count": 2,
   "id": "fb326875-d434-4aa9-ae89-2c4c9d381ade",
   "metadata": {
    "execution": {
     "iopub.execute_input": "2023-10-19T06:08:09.186823Z",
     "iopub.status.busy": "2023-10-19T06:08:09.186433Z",
     "iopub.status.idle": "2023-10-19T06:08:09.561140Z",
     "shell.execute_reply": "2023-10-19T06:08:09.560760Z"
    },
    "papermill": {
     "duration": 0.379979,
     "end_time": "2023-10-19T06:08:09.561243",
     "exception": false,
     "start_time": "2023-10-19T06:08:09.181264",
     "status": "completed"
    },
    "tags": []
   },
   "outputs": [],
   "source": [
    "data_path_param = os.environ.get(\"data_path\", \"No value found\")\n",
    "data_path=f\"{data_path_param}\"\n",
    "df=pd.read_csv(data_path)\n"
   ]
  },
  {
   "cell_type": "code",
   "execution_count": 3,
   "id": "06915d6b",
   "metadata": {
    "execution": {
     "iopub.execute_input": "2023-10-19T06:08:09.571063Z",
     "iopub.status.busy": "2023-10-19T06:08:09.570689Z",
     "iopub.status.idle": "2023-10-19T06:08:09.576375Z",
     "shell.execute_reply": "2023-10-19T06:08:09.576670Z"
    },
    "papermill": {
     "duration": 0.013841,
     "end_time": "2023-10-19T06:08:09.576773",
     "exception": false,
     "start_time": "2023-10-19T06:08:09.562932",
     "status": "completed"
    },
    "tags": []
   },
   "outputs": [
    {
     "data": {
      "text/html": [
       "<div>\n",
       "<style scoped>\n",
       "    .dataframe tbody tr th:only-of-type {\n",
       "        vertical-align: middle;\n",
       "    }\n",
       "\n",
       "    .dataframe tbody tr th {\n",
       "        vertical-align: top;\n",
       "    }\n",
       "\n",
       "    .dataframe thead th {\n",
       "        text-align: right;\n",
       "    }\n",
       "</style>\n",
       "<table border=\"1\" class=\"dataframe\">\n",
       "  <thead>\n",
       "    <tr style=\"text-align: right;\">\n",
       "      <th></th>\n",
       "      <th>Quarter</th>\n",
       "      <th>Revenue</th>\n",
       "      <th>Net Income</th>\n",
       "    </tr>\n",
       "  </thead>\n",
       "  <tbody>\n",
       "    <tr>\n",
       "      <th>0</th>\n",
       "      <td>3/31/2020</td>\n",
       "      <td>75452</td>\n",
       "      <td>2535</td>\n",
       "    </tr>\n",
       "    <tr>\n",
       "      <th>1</th>\n",
       "      <td>12/31/2019</td>\n",
       "      <td>87437</td>\n",
       "      <td>3268</td>\n",
       "    </tr>\n",
       "    <tr>\n",
       "      <th>2</th>\n",
       "      <td>9/30/2019</td>\n",
       "      <td>69981</td>\n",
       "      <td>2134</td>\n",
       "    </tr>\n",
       "    <tr>\n",
       "      <th>3</th>\n",
       "      <td>6/30/2019</td>\n",
       "      <td>63404</td>\n",
       "      <td>2625</td>\n",
       "    </tr>\n",
       "    <tr>\n",
       "      <th>4</th>\n",
       "      <td>3/31/2019</td>\n",
       "      <td>59700</td>\n",
       "      <td>3561</td>\n",
       "    </tr>\n",
       "  </tbody>\n",
       "</table>\n",
       "</div>"
      ],
      "text/plain": [
       "      Quarter  Revenue  Net Income\n",
       "0   3/31/2020    75452        2535\n",
       "1  12/31/2019    87437        3268\n",
       "2   9/30/2019    69981        2134\n",
       "3   6/30/2019    63404        2625\n",
       "4   3/31/2019    59700        3561"
      ]
     },
     "execution_count": 3,
     "metadata": {},
     "output_type": "execute_result"
    }
   ],
   "source": [
    "df.head()"
   ]
  },
  {
   "cell_type": "code",
   "execution_count": null,
   "id": "85d12c4d",
   "metadata": {
    "papermill": {
     "duration": 0.001599,
     "end_time": "2023-10-19T06:08:09.579838",
     "exception": false,
     "start_time": "2023-10-19T06:08:09.578239",
     "status": "completed"
    },
    "tags": []
   },
   "outputs": [],
   "source": []
  },
  {
   "cell_type": "code",
   "execution_count": 4,
   "id": "7e47b26c",
   "metadata": {
    "execution": {
     "iopub.execute_input": "2023-10-19T06:08:09.589647Z",
     "iopub.status.busy": "2023-10-19T06:08:09.585365Z",
     "iopub.status.idle": "2023-10-19T06:08:09.591388Z",
     "shell.execute_reply": "2023-10-19T06:08:09.591679Z"
    },
    "papermill": {
     "duration": 0.010568,
     "end_time": "2023-10-19T06:08:09.591776",
     "exception": false,
     "start_time": "2023-10-19T06:08:09.581208",
     "status": "completed"
    },
    "tags": []
   },
   "outputs": [
    {
     "name": "stdout",
     "output_type": "stream",
     "text": [
      "<class 'pandas.core.frame.DataFrame'>\n",
      "RangeIndex: 61 entries, 0 to 60\n",
      "Data columns (total 3 columns):\n",
      " #   Column      Non-Null Count  Dtype \n",
      "---  ------      --------------  ----- \n",
      " 0   Quarter     61 non-null     object\n",
      " 1   Revenue     61 non-null     int64 \n",
      " 2   Net Income  61 non-null     int64 \n",
      "dtypes: int64(2), object(1)\n",
      "memory usage: 1.6+ KB\n"
     ]
    }
   ],
   "source": [
    "df.info()"
   ]
  },
  {
   "cell_type": "code",
   "execution_count": 5,
   "id": "e2ea3f30",
   "metadata": {
    "execution": {
     "iopub.execute_input": "2023-10-19T06:08:09.597042Z",
     "iopub.status.busy": "2023-10-19T06:08:09.596680Z",
     "iopub.status.idle": "2023-10-19T06:08:09.599218Z",
     "shell.execute_reply": "2023-10-19T06:08:09.599574Z"
    },
    "papermill": {
     "duration": 0.006468,
     "end_time": "2023-10-19T06:08:09.599671",
     "exception": false,
     "start_time": "2023-10-19T06:08:09.593203",
     "status": "completed"
    },
    "tags": []
   },
   "outputs": [],
   "source": [
    "df.to_csv(\"output.csv\",index=False)"
   ]
  },
  {
   "cell_type": "code",
   "execution_count": null,
   "id": "9c4a4b01",
   "metadata": {
    "papermill": {
     "duration": 0.001445,
     "end_time": "2023-10-19T06:08:09.602569",
     "exception": false,
     "start_time": "2023-10-19T06:08:09.601124",
     "status": "completed"
    },
    "tags": []
   },
   "outputs": [],
   "source": []
  }
 ],
 "metadata": {
  "kernelspec": {
   "display_name": "Python 3 (ipykernel)",
   "language": "python",
   "name": "python3"
  },
  "kubeflow_notebook": {
   "autosnapshot": false,
   "docker_image": "",
   "experiment": {
    "id": "",
    "name": ""
   },
   "experiment_name": "",
   "katib_metadata": {
    "algorithm": {
     "algorithmName": "grid"
    },
    "maxFailedTrialCount": 3,
    "maxTrialCount": 12,
    "objective": {
     "objectiveMetricName": "",
     "type": "minimize"
    },
    "parallelTrialCount": 3,
    "parameters": []
   },
   "katib_run": false,
   "pipeline_description": "",
   "pipeline_name": "",
   "snapshot_volumes": false,
   "steps_defaults": [],
   "volume_access_mode": "rwm",
   "volumes": []
  },
  "language_info": {
   "codemirror_mode": {
    "name": "ipython",
    "version": 3
   },
   "file_extension": ".py",
   "mimetype": "text/x-python",
   "name": "python",
   "nbconvert_exporter": "python",
   "pygments_lexer": "ipython3",
   "version": "3.9.7"
  },
  "papermill": {
   "default_parameters": {},
   "duration": 1.863263,
   "end_time": "2023-10-19T06:08:09.808958",
   "environment_variables": {},
   "exception": null,
   "input_path": "/home/katonic/workspace/Examples/amazon_revenue_forcasting/load_data.ipynb",
   "output_path": "/home/katonic/workspace/Examples/amazon_revenue_forcasting/load_data.ipynb",
   "parameters": {},
   "start_time": "2023-10-19T06:08:07.945695",
   "version": "2.4.0"
  }
 },
 "nbformat": 4,
 "nbformat_minor": 5
}
