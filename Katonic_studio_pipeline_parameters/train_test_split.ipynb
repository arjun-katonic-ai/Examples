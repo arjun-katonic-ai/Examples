{
 "cells": [
  {
   "cell_type": "code",
   "execution_count": 1,
   "id": "c1e9e748",
   "metadata": {
    "execution": {
     "iopub.execute_input": "2023-10-19T06:08:12.136370Z",
     "iopub.status.busy": "2023-10-19T06:08:12.135650Z",
     "iopub.status.idle": "2023-10-19T06:08:12.447805Z",
     "shell.execute_reply": "2023-10-19T06:08:12.447280Z"
    },
    "papermill": {
     "duration": 0.32152,
     "end_time": "2023-10-19T06:08:12.447936",
     "exception": false,
     "start_time": "2023-10-19T06:08:12.126416",
     "status": "completed"
    },
    "tags": []
   },
   "outputs": [],
   "source": [
    "import pandas as pd"
   ]
  },
  {
   "cell_type": "code",
   "execution_count": 2,
   "id": "39611a6f",
   "metadata": {
    "execution": {
     "iopub.execute_input": "2023-10-19T06:08:12.454724Z",
     "iopub.status.busy": "2023-10-19T06:08:12.454113Z",
     "iopub.status.idle": "2023-10-19T06:08:12.458624Z",
     "shell.execute_reply": "2023-10-19T06:08:12.458262Z"
    },
    "papermill": {
     "duration": 0.008914,
     "end_time": "2023-10-19T06:08:12.458710",
     "exception": false,
     "start_time": "2023-10-19T06:08:12.449796",
     "status": "completed"
    },
    "tags": []
   },
   "outputs": [],
   "source": [
    "df = pd.read_csv(\"output.csv\")"
   ]
  },
  {
   "cell_type": "code",
   "execution_count": 3,
   "id": "419c7239",
   "metadata": {
    "execution": {
     "iopub.execute_input": "2023-10-19T06:08:12.465677Z",
     "iopub.status.busy": "2023-10-19T06:08:12.465274Z",
     "iopub.status.idle": "2023-10-19T06:08:12.467362Z",
     "shell.execute_reply": "2023-10-19T06:08:12.466974Z"
    },
    "papermill": {
     "duration": 0.007411,
     "end_time": "2023-10-19T06:08:12.467448",
     "exception": false,
     "start_time": "2023-10-19T06:08:12.460037",
     "status": "completed"
    },
    "tags": []
   },
   "outputs": [],
   "source": [
    "train=df[(df['ds']>='2005-03-31')&(df['ds']<='2019-03-31')]\n",
    "test=df[df['ds']>'2019-03-31']"
   ]
  },
  {
   "cell_type": "code",
   "execution_count": 4,
   "id": "b322d51d",
   "metadata": {
    "execution": {
     "iopub.execute_input": "2023-10-19T06:08:12.476723Z",
     "iopub.status.busy": "2023-10-19T06:08:12.476220Z",
     "iopub.status.idle": "2023-10-19T06:08:12.479016Z",
     "shell.execute_reply": "2023-10-19T06:08:12.478640Z"
    },
    "papermill": {
     "duration": 0.010307,
     "end_time": "2023-10-19T06:08:12.479095",
     "exception": false,
     "start_time": "2023-10-19T06:08:12.468788",
     "status": "completed"
    },
    "tags": []
   },
   "outputs": [
    {
     "data": {
      "text/plain": [
       "(57, 2)"
      ]
     },
     "execution_count": 4,
     "metadata": {},
     "output_type": "execute_result"
    }
   ],
   "source": [
    "train.shape"
   ]
  },
  {
   "cell_type": "code",
   "execution_count": 5,
   "id": "5a3ad617",
   "metadata": {
    "execution": {
     "iopub.execute_input": "2023-10-19T06:08:12.484929Z",
     "iopub.status.busy": "2023-10-19T06:08:12.484422Z",
     "iopub.status.idle": "2023-10-19T06:08:12.487126Z",
     "shell.execute_reply": "2023-10-19T06:08:12.486756Z"
    },
    "papermill": {
     "duration": 0.006663,
     "end_time": "2023-10-19T06:08:12.487207",
     "exception": false,
     "start_time": "2023-10-19T06:08:12.480544",
     "status": "completed"
    },
    "tags": []
   },
   "outputs": [
    {
     "data": {
      "text/plain": [
       "(4, 2)"
      ]
     },
     "execution_count": 5,
     "metadata": {},
     "output_type": "execute_result"
    }
   ],
   "source": [
    "test.shape"
   ]
  },
  {
   "cell_type": "code",
   "execution_count": 6,
   "id": "2390140b",
   "metadata": {
    "execution": {
     "iopub.execute_input": "2023-10-19T06:08:12.493141Z",
     "iopub.status.busy": "2023-10-19T06:08:12.492549Z",
     "iopub.status.idle": "2023-10-19T06:08:12.496646Z",
     "shell.execute_reply": "2023-10-19T06:08:12.496249Z"
    },
    "papermill": {
     "duration": 0.008068,
     "end_time": "2023-10-19T06:08:12.496728",
     "exception": false,
     "start_time": "2023-10-19T06:08:12.488660",
     "status": "completed"
    },
    "tags": []
   },
   "outputs": [],
   "source": [
    "train.to_csv(\"train.csv\",index=False)\n",
    "test.to_csv(\"test.csv\",index=False)"
   ]
  },
  {
   "cell_type": "code",
   "execution_count": null,
   "id": "26984df6",
   "metadata": {
    "papermill": {
     "duration": 0.001904,
     "end_time": "2023-10-19T06:08:12.500081",
     "exception": false,
     "start_time": "2023-10-19T06:08:12.498177",
     "status": "completed"
    },
    "tags": []
   },
   "outputs": [],
   "source": []
  }
 ],
 "metadata": {
  "kernelspec": {
   "display_name": "Python 3 (ipykernel)",
   "language": "python",
   "name": "python3"
  },
  "kubeflow_notebook": {
   "autosnapshot": false,
   "docker_image": "",
   "experiment": {
    "id": "",
    "name": ""
   },
   "experiment_name": "",
   "katib_metadata": {
    "algorithm": {
     "algorithmName": "grid"
    },
    "maxFailedTrialCount": 3,
    "maxTrialCount": 12,
    "objective": {
     "objectiveMetricName": "",
     "type": "minimize"
    },
    "parallelTrialCount": 3,
    "parameters": []
   },
   "katib_run": false,
   "pipeline_description": "",
   "pipeline_name": "",
   "snapshot_volumes": false,
   "steps_defaults": [],
   "volume_access_mode": "rwm",
   "volumes": []
  },
  "language_info": {
   "codemirror_mode": {
    "name": "ipython",
    "version": 3
   },
   "file_extension": ".py",
   "mimetype": "text/x-python",
   "name": "python",
   "nbconvert_exporter": "python",
   "pygments_lexer": "ipython3",
   "version": "3.9.7"
  },
  "papermill": {
   "default_parameters": {},
   "duration": 1.3845,
   "end_time": "2023-10-19T06:08:12.706462",
   "environment_variables": {},
   "exception": null,
   "input_path": "/home/katonic/workspace/Examples/amazon_revenue_forcasting/train_test_split.ipynb",
   "output_path": "/home/katonic/workspace/Examples/amazon_revenue_forcasting/train_test_split.ipynb",
   "parameters": {},
   "start_time": "2023-10-19T06:08:11.321962",
   "version": "2.4.0"
  }
 },
 "nbformat": 4,
 "nbformat_minor": 5
}