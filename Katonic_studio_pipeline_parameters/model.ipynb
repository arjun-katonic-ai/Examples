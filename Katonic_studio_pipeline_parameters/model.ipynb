{
 "cells": [
  {
   "cell_type": "code",
   "execution_count": null,
   "id": "47582e16-9e08-4271-8141-93913bcc0bb5",
   "metadata": {},
   "outputs": [],
   "source": [
    "import pandas as pd\n",
    "import numpy as np\n",
    "import matplotlib.pyplot as plt\n",
    "import statsmodels.api as sm\n",
    "\n",
    "# Replace 'your_data.csv' with your actual data file\n",
    "data = pd.read_csv('train.csv')\n",
    "\n",
    "p, d, q = 1, 1, 1 \n",
    "P, D, Q, S = 1, 1, 1, 12 \n",
    "\n",
    "model = sm.tsa.SARIMAX(data, order=(p, d, q), seasonal_order=(P, D, Q, S))\n",
    "results = model.fit()\n",
    "\n",
    "forecast = results.get_forecast(steps=12)\n",
    "\n",
    "plt.figure(figsize=(12, 6))\n",
    "plt.plot(data, label='Original Data')\n",
    "plt.plot(forecast.predicted_mean, label='Forecast')\n",
    "plt.fill_between(forecast.index, forecast.conf_int()[:, 0], forecast.conf_int()[:, 1], color='gray', alpha=0.2, label='Confidence Interval')\n",
    "plt.legend()\n",
    "plt.show()\n"
   ]
  }
 ],
 "metadata": {
  "kernelspec": {
   "display_name": "Python 3 (ipykernel)",
   "language": "python",
   "name": "python3"
  },
  "language_info": {
   "codemirror_mode": {
    "name": "ipython",
    "version": 3
   },
   "file_extension": ".py",
   "mimetype": "text/x-python",
   "name": "python",
   "nbconvert_exporter": "python",
   "pygments_lexer": "ipython3",
   "version": "3.9.7"
  }
 },
 "nbformat": 4,
 "nbformat_minor": 5
}
