{
 "cells": [
  {
   "cell_type": "markdown",
   "metadata": {
    "tags": []
   },
   "source": [
    "# Credit Card Fraud Detection Predictive Models\n",
    "## Introduction\n",
    "The datasets contains transactions made by credit cards in September 2013 by european cardholders. This dataset presents transactions that occurred in two days, where we have 492 frauds out of 284,807 transactions. The dataset is highly unbalanced, the positive class (frauds) account for 0.172% of all transactions.\n",
    "\n",
    "It contains only numerical input variables which are the result of a PCA transformation.\n",
    "\n",
    "Due to confidentiality issues, there are not provided the original features and more background information about the data.\n",
    "\n",
    "- Features V1, V2, ... V28 are the principal components obtained with PCA;\n",
    "- The only features which have not been transformed with PCA are Time and Amount. Feature Time contains the seconds elapsed between each transaction and the first transaction in the dataset. The feature Amount is the transaction Amount, this feature can be used for example-dependant cost-senstive learning.\n",
    "- Feature Class is the response variable and it takes value 1 in case of fraud and 0 otherwise.\n",
    "## Load packages"
   ]
  },
  {
   "cell_type": "code",
   "execution_count": 1,
   "metadata": {
    "tags": []
   },
   "outputs": [],
   "source": [
    "# !pip install mlflow ak-minio pandas matplotlib seaborn plotly sklearn catboost lightgbm xgboost boto3 psycopg2-binary \n",
    "# Docker image: katonic/usecase:1.0 / katonic/notebook-env:base"
   ]
  },
  {
   "cell_type": "code",
   "execution_count": 2,
   "metadata": {
    "tags": [
     "imports"
    ]
   },
   "outputs": [
    {
     "data": {
      "text/plain": [
       "0"
      ]
     },
     "execution_count": 2,
     "metadata": {},
     "output_type": "execute_result"
    }
   ],
   "source": [
    "import os\n",
    "# os.system(\"pip install mlflow ak-minio pandas matplotlib seaborn plotly sklearn catboost lightgbm xgboost boto3\")\n",
    "os.system(\"pip install mlflow ak-minio pandas matplotlib seaborn plotly sklearn catboost lightgbm xgboost boto3\")"
   ]
  },
  {
   "cell_type": "code",
   "execution_count": 3,
   "metadata": {
    "tags": [
     "block:"
    ]
   },
   "outputs": [],
   "source": [
    "import os\n",
    "import pandas as pd \n",
    "import numpy as np\n",
    "import matplotlib\n",
    "import matplotlib.pyplot as plt\n",
    "import seaborn as sns\n",
    "import plotly.graph_objs as go\n",
    "import plotly.figure_factory as ff\n",
    "from plotly import tools\n",
    "from plotly.offline import download_plotlyjs, init_notebook_mode, plot, iplot\n",
    "# init_notebook_mode(connected=True)\n",
    "# import gc\n",
    "from datetime import datetime \n",
    "from sklearn.model_selection import train_test_split\n",
    "from sklearn.model_selection import KFold\n",
    "from sklearn.metrics import roc_auc_score\n",
    "from sklearn.ensemble import RandomForestClassifier\n",
    "from sklearn.ensemble import AdaBoostClassifier\n",
    "from catboost import CatBoostClassifier\n",
    "from sklearn import svm\n",
    "import lightgbm as lgb\n",
    "from lightgbm import LGBMClassifier\n",
    "import xgboost as xgb\n",
    "import warnings\n",
    "warnings.filterwarnings('ignore')\n",
    "# from pyspark.sql import SparkSession\n",
    "# from pyspark import SparkContext, SparkConf\n",
    "# from pyspark.sql import DataFrame, SparkSession, Window\n",
    "# from pyspark.sql.functions import col, expr, monotonically_increasing_id, row_number,current_timestamp\n",
    "from typing import  List\n",
    "from datetime import datetime\n",
    "from io import StringIO\n",
    "import joblib\n",
    "from minio import Minio\n",
    "from subprocess import run, Popen, PIPE\n",
    "\n",
    "import mlflow\n",
    "import mlflow.sklearn\n",
    "from  mlflow.tracking import MlflowClient\n",
    "\n",
    "import psycopg2\n",
    "import pandas as pd\n",
    "from sqlalchemy import create_engine,text\n",
    "from typing import Optional\n",
    "import datetime as dt\n",
    "\n",
    "from hana_ml import dataframe"
   ]
  },
  {
   "cell_type": "code",
   "execution_count": 4,
   "metadata": {
    "tags": []
   },
   "outputs": [],
   "source": [
    "#!apt-get install build-dep python-psycopg2\n",
    "#!pip install psycopg2-binary"
   ]
  },
  {
   "cell_type": "code",
   "execution_count": 5,
   "metadata": {
    "tags": []
   },
   "outputs": [],
   "source": [
    "# Ensure Minio access\n",
    "os.environ['MLFLOW_S3_ENDPOINT_URL'] = 'http://mlflow-minio-service.mlflow.svc.cluster.local:9000'\n",
    "os.environ['AWS_ACCESS_KEY_ID'] = 'minio'\n",
    "os.environ['AWS_SECRET_ACCESS_KEY'] = 'BS6PpUKnW^Bkc@$l$QAsY$p#l'\n",
    "os.environ['MLFLOW_BASE_URL'] = 'http://mlflow-service.mlflow.svc.cluster.local:5000'\n",
    "\n",
    "# connect to remote server\n",
    "\n",
    "mlflow.set_tracking_uri(os.environ['MLFLOW_BASE_URL'])\n",
    "\n",
    "# Launch the experiment on mlflow\n",
    "experiment_name = \"credit-card-fraud-detection\"\n",
    "mlflow.set_experiment(experiment_name)\n",
    "\n",
    "exp_details = mlflow.get_experiment_by_name(experiment_name)\n",
    "exp_id = exp_details.experiment_id\n",
    "\n",
    "client = mlflow.tracking.MlflowClient(os.environ['MLFLOW_BASE_URL'])"
   ]
  },
  {
   "cell_type": "code",
   "execution_count": 6,
   "metadata": {
    "tags": []
   },
   "outputs": [],
   "source": [
    "pd.set_option('display.max_columns', 100)"
   ]
  },
  {
   "cell_type": "code",
   "execution_count": 7,
   "metadata": {
    "tags": [
     "pipeline-parameters"
    ]
   },
   "outputs": [],
   "source": [
    "RFC_METRIC = 'gini'  #metric used for RandomForrestClassifier\n",
    "NUM_ESTIMATORS = 100 #number of estimators used for RandomForrestClassifier\n",
    "NO_JOBS = 4 #number of parallel jobs used for RandomForrestClassifier\n",
    "#TRAIN/VALIDATION/TEST SPLIT\n",
    "#VALIDATION\n",
    "VALID_SIZE = 0.20 # simple validation using train_test_split\n",
    "TEST_SIZE = 0.20 # test size using_train_test_split\n",
    "#CROSS-VALIDATION\n",
    "NUMBER_KFOLDS = 5 #number of KFolds for cross-validation\n",
    "RANDOM_STATE = 2018\n",
    "MAX_ROUNDS = 1000 #lgb iterations\n",
    "EARLY_STOP = 50 #lgb early stop \n",
    "OPT_ROUNDS = 1000  #To be adjusted based on best validation rounds\n",
    "VERBOSE_EVAL = 50 #Print out metric result\n",
    "IS_LOCAL = False\n",
    "\n",
    "MINIO_HOST=\"minio-service.kubeflow:9000\"\n",
    "MINIO_ACCESS_KEY=\"minio\"\n",
    "MINIO_SECRET_KEY=\"minio123\"\n",
    "MINIO_MODEL_BUCKET=\"seldon\"\n",
    "\n",
    "EVENT_TIMESTAMP_ALIAS = \"event_timestamp\"\n",
    "CREATED_TIMESTAMP_ALIAS = \"created_timestamp\"\n",
    "\n",
    "MODEL_NAME = \"cred_fraud_detection-model\"\n"
   ]
  },
  {
   "cell_type": "code",
   "execution_count": 8,
   "metadata": {
    "tags": []
   },
   "outputs": [],
   "source": [
    "POSTGRES_ADDRESS = '52.187.120.22' ## INSERT YOUR DB ADDRESS\n",
    "POSTGRES_PORT = '5432'\n",
    "POSTGRES_USERNAME = 'postgres' ## CHANGE THIS TO YOUR POSTGRES USERNAME\n",
    "POSTGRES_PASSWORD = 'katonic@47' ## CHANGE THIS TO YOUR POSTGRES PASSWORD POSTGRES_DBNAME = 'database' ## CHANGE THIS TO YOUR DATABASE NAME\n",
    "POSTGRES_DBNAME = 'postgres' ## CHANGE THIS TO YOUR DATABASE NAME\n",
    "POSTGRES_ENGINE = 'postgres'\n",
    "PROJECT_NAME = 'katonic'\n",
    "PROJECT_SCHEMA = 'demo_credit_fraud'\n",
    "TABLE_TRAIN = 'credit_card_fraud_train'\n",
    "TABLE_INFERENCE = 'credit_card_fraud_inference'\n",
    "TABLE_MODEL = 'credit_fraud_model_meta'\n",
    "TABLE_Prediction = 'credit_fraud_model_prediction'\n",
    "TABLE_PREPROCESS_INFERENCE = 'credit_card_fraud_preprocess_inference'"
   ]
  },
  {
   "cell_type": "code",
   "execution_count": 9,
   "metadata": {},
   "outputs": [],
   "source": [
    "address='137.117.100.87'\n",
    "port='39017'\n",
    "user='system'\n",
    "password='HXEHana1'"
   ]
  },
  {
   "cell_type": "code",
   "execution_count": 10,
   "metadata": {
    "tags": [
     "functions"
    ]
   },
   "outputs": [],
   "source": [
    "def get_minio():\n",
    "    return Minio(MINIO_HOST,\n",
    "                    access_key=MINIO_ACCESS_KEY,\n",
    "                    secret_key=MINIO_SECRET_KEY,\n",
    "                    secure=False)"
   ]
  },
  {
   "cell_type": "code",
   "execution_count": 11,
   "metadata": {
    "tags": []
   },
   "outputs": [],
   "source": [
    "def passwrd_parser(POSTGRES_PASSWORD):\n",
    "    POSTGRES_PASSWORD = POSTGRES_PASSWORD.replace(\"@\",\"%40\")\n",
    "    return POSTGRES_PASSWORD"
   ]
  },
  {
   "cell_type": "code",
   "execution_count": 12,
   "metadata": {
    "tags": []
   },
   "outputs": [],
   "source": [
    "def write_to_feature_store(POSTGRES_USERNAME,POSTGRES_PASSWORD,POSTGRES_ADDRESS,\n",
    "                       POSTGRES_PORT,POSTGRES_DBNAME,PROJECT_SCHEMA,dataset,table):\n",
    "    postgres_str = (f\"postgresql+psycopg2://{POSTGRES_USERNAME}:{POSTGRES_PASSWORD}@{POSTGRES_ADDRESS}:{POSTGRES_PORT}/{POSTGRES_DBNAME}\")\n",
    "    engine = create_engine(postgres_str)\n",
    "    \n",
    "    query = text(f\"\"\" \n",
    "                CREATE SCHEMA IF NOT EXISTS {PROJECT_SCHEMA} \"\"\")\n",
    "    engine.execute(query)\n",
    "    \n",
    "    #query = text(f\"\"\" \n",
    "    #               DROP TABLE IF EXISTS  {PROJECT_SCHEMA}.{table} CASCADE;\"\"\")\n",
    "    #engine.execute(query)\n",
    "    dataset.to_sql(table, con=engine, schema=PROJECT_SCHEMA, index=False,if_exists='replace',method='multi')\n",
    "    engine.dispose()\n",
    "    "
   ]
  },
  {
   "cell_type": "code",
   "execution_count": 13,
   "metadata": {
    "tags": []
   },
   "outputs": [],
   "source": [
    "def read_from_feature_store(POSTGRES_USERNAME,POSTGRES_PASSWORD,POSTGRES_ADDRESS,\n",
    "                       POSTGRES_PORT,POSTGRES_DBNAME,PROJECT_SCHEMA,table):\n",
    "    postgres_str = (f\"postgresql+psycopg2://{POSTGRES_USERNAME}:{POSTGRES_PASSWORD}@{POSTGRES_ADDRESS}:{POSTGRES_PORT}/{POSTGRES_DBNAME}\")\n",
    "    engine = create_engine(postgres_str)\n",
    "    df = pd.read_sql('SELECT * FROM {0}.{1}'.format(PROJECT_SCHEMA, table), engine)\n",
    "    engine.dispose()\n",
    "    return df\n",
    "\n",
    "#engine.dispose()    "
   ]
  },
  {
   "cell_type": "code",
   "execution_count": 14,
   "metadata": {
    "tags": [
     "block:setup"
    ]
   },
   "outputs": [
    {
     "name": "stdout",
     "output_type": "stream",
     "text": [
      "mlpipeline 2021-07-06 07:22:22.863000+00:00\n",
      "seldon 2021-07-06 07:22:20.971000+00:00\n"
     ]
    }
   ],
   "source": [
    "minioClient = get_minio()\n",
    "buckets = minioClient.list_buckets()\n",
    "for bucket in buckets:\n",
    "    print(bucket.name, bucket.creation_date)"
   ]
  },
  {
   "cell_type": "code",
   "execution_count": 15,
   "metadata": {
    "tags": []
   },
   "outputs": [],
   "source": [
    "if not minioClient.bucket_exists(MINIO_MODEL_BUCKET):\n",
    "    minioClient.make_bucket(MINIO_MODEL_BUCKET)"
   ]
  },
  {
   "cell_type": "markdown",
   "metadata": {
    "tags": []
   },
   "source": [
    "## Read the data"
   ]
  },
  {
   "cell_type": "code",
   "execution_count": 16,
   "metadata": {
    "tags": [
     "block:load_data",
     "prev:setup"
    ]
   },
   "outputs": [],
   "source": [
    "conn = dataframe.ConnectionContext(address,port,user,password)"
   ]
  },
  {
   "cell_type": "code",
   "execution_count": 17,
   "metadata": {},
   "outputs": [],
   "source": [
    "creditcard = dataframe.DataFrame(conn, 'select * from DEMO_CREDIT_CARD.CREDIT_CARD_INFERENCE').collect()"
   ]
  },
  {
   "cell_type": "code",
   "execution_count": 18,
   "metadata": {
    "tags": []
   },
   "outputs": [
    {
     "data": {
      "text/plain": [
       "(2000, 34)"
      ]
     },
     "execution_count": 18,
     "metadata": {},
     "output_type": "execute_result"
    }
   ],
   "source": [
    "creditcard.shape"
   ]
  },
  {
   "cell_type": "markdown",
   "metadata": {
    "tags": []
   },
   "source": [
    "## Load Model"
   ]
  },
  {
   "cell_type": "code",
   "execution_count": 19,
   "metadata": {
    "tags": [
     "block:load_model",
     "prev:setup"
    ]
   },
   "outputs": [
    {
     "data": {
      "text/html": [
       "<div>\n",
       "<style scoped>\n",
       "    .dataframe tbody tr th:only-of-type {\n",
       "        vertical-align: middle;\n",
       "    }\n",
       "\n",
       "    .dataframe tbody tr th {\n",
       "        vertical-align: top;\n",
       "    }\n",
       "\n",
       "    .dataframe thead th {\n",
       "        text-align: right;\n",
       "    }\n",
       "</style>\n",
       "<table border=\"1\" class=\"dataframe\">\n",
       "  <thead>\n",
       "    <tr style=\"text-align: right;\">\n",
       "      <th></th>\n",
       "      <th>model</th>\n",
       "      <th>location</th>\n",
       "      <th>run_id</th>\n",
       "      <th>experiment_id</th>\n",
       "      <th>prod_time</th>\n",
       "      <th>top_features</th>\n",
       "    </tr>\n",
       "  </thead>\n",
       "  <tbody>\n",
       "    <tr>\n",
       "      <th>0</th>\n",
       "      <td>GradientBoostingClassifier</td>\n",
       "      <td>s3://models/73/707f40bad8fb4e4e93c67c40d2d9cdb...</td>\n",
       "      <td>707f40bad8fb4e4e93c67c40d2d9cdbd</td>\n",
       "      <td>73</td>\n",
       "      <td>2021-07-29 08:22:57.942855</td>\n",
       "      <td>{Time,V1,V2,V3,V4,V5,V6,V7,V8,V9,V10,V11,V12,V...</td>\n",
       "    </tr>\n",
       "  </tbody>\n",
       "</table>\n",
       "</div>"
      ],
      "text/plain": [
       "                        model  \\\n",
       "0  GradientBoostingClassifier   \n",
       "\n",
       "                                            location  \\\n",
       "0  s3://models/73/707f40bad8fb4e4e93c67c40d2d9cdb...   \n",
       "\n",
       "                             run_id experiment_id                  prod_time  \\\n",
       "0  707f40bad8fb4e4e93c67c40d2d9cdbd            73 2021-07-29 08:22:57.942855   \n",
       "\n",
       "                                        top_features  \n",
       "0  {Time,V1,V2,V3,V4,V5,V6,V7,V8,V9,V10,V11,V12,V...  "
      ]
     },
     "execution_count": 19,
     "metadata": {},
     "output_type": "execute_result"
    }
   ],
   "source": [
    "POSTGRES_PASSWORD = passwrd_parser(POSTGRES_PASSWORD)\n",
    "model_df = read_from_feature_store(POSTGRES_USERNAME,POSTGRES_PASSWORD,POSTGRES_ADDRESS,\n",
    "                       POSTGRES_PORT,POSTGRES_DBNAME,PROJECT_SCHEMA,TABLE_MODEL).iloc[::-1].reset_index(drop=True)\n",
    "model_df.head()"
   ]
  },
  {
   "cell_type": "code",
   "execution_count": 20,
   "metadata": {
    "tags": []
   },
   "outputs": [],
   "source": [
    "exp_id = model_df['experiment_id'][0]\n",
    "model_name = model_df['model'][0]\n",
    "run_id = model_df['run_id'][0]"
   ]
  },
  {
   "cell_type": "code",
   "execution_count": 21,
   "metadata": {
    "tags": []
   },
   "outputs": [
    {
     "name": "stdout",
     "output_type": "stream",
     "text": [
      "experiment_id : 73\n",
      "====================================================================================================\n",
      "model name : GradientBoostingClassifier\n",
      "====================================================================================================\n",
      "run_id : 707f40bad8fb4e4e93c67c40d2d9cdbd\n"
     ]
    }
   ],
   "source": [
    "print('experiment_id :',exp_id)\n",
    "print('=='*50)\n",
    "print('model name :',model_name)\n",
    "print('=='*50)\n",
    "print('run_id :',run_id)"
   ]
  },
  {
   "cell_type": "code",
   "execution_count": 22,
   "metadata": {
    "tags": []
   },
   "outputs": [
    {
     "name": "stdout",
     "output_type": "stream",
     "text": [
      "Selected Features : ['Time', 'V1', 'V2', 'V3', 'V4', 'V5', 'V6', 'V7', 'V8', 'V9', 'V10', 'V11', 'V12', 'V13', 'V14', 'V15', 'V16', 'V17', 'V18', 'V19', 'V20', 'V21', 'V22', 'V23', 'V24', 'V25', 'V26', 'V27', 'V28', 'Amount']\n"
     ]
    }
   ],
   "source": [
    "top_features = model_df['top_features'][0].split('{')[1].split('}')[0].split(',')\n",
    "print('Selected Features :',top_features)"
   ]
  },
  {
   "cell_type": "code",
   "execution_count": 23,
   "metadata": {
    "tags": []
   },
   "outputs": [],
   "source": [
    "# run_id = \"cc047c20511e4f2182246f4466cafc9d\"\n",
    "# model_uri = \"runs:/\" + run_id + \"/model\"\n",
    "model = mlflow.sklearn.load_model(model_df.loc[0:,'location'][0])"
   ]
  },
  {
   "cell_type": "markdown",
   "metadata": {
    "tags": []
   },
   "source": [
    "## Check the data"
   ]
  },
  {
   "cell_type": "code",
   "execution_count": 24,
   "metadata": {
    "tags": []
   },
   "outputs": [
    {
     "name": "stdout",
     "output_type": "stream",
     "text": [
      "Credit Card Fraud Detection data -  rows: 2000  columns: 34\n"
     ]
    }
   ],
   "source": [
    "print(\"Credit Card Fraud Detection data -  rows:\",creditcard.shape[0],\" columns:\", creditcard.shape[1])"
   ]
  },
  {
   "cell_type": "markdown",
   "metadata": {
    "tags": []
   },
   "source": [
    "### Glimpse the data\n",
    "We start by looking to the data features (first 5 rows).\n",
    "\n"
   ]
  },
  {
   "cell_type": "code",
   "execution_count": 25,
   "metadata": {
    "tags": []
   },
   "outputs": [],
   "source": [
    "#creditcard.iloc[:10000].to_csv(\"creditcardnew.csv\", index=False)"
   ]
  },
  {
   "cell_type": "code",
   "execution_count": 26,
   "metadata": {
    "tags": []
   },
   "outputs": [
    {
     "data": {
      "text/html": [
       "<div>\n",
       "<style scoped>\n",
       "    .dataframe tbody tr th:only-of-type {\n",
       "        vertical-align: middle;\n",
       "    }\n",
       "\n",
       "    .dataframe tbody tr th {\n",
       "        vertical-align: top;\n",
       "    }\n",
       "\n",
       "    .dataframe thead th {\n",
       "        text-align: right;\n",
       "    }\n",
       "</style>\n",
       "<table border=\"1\" class=\"dataframe\">\n",
       "  <thead>\n",
       "    <tr style=\"text-align: right;\">\n",
       "      <th></th>\n",
       "      <th>index</th>\n",
       "      <th>Time</th>\n",
       "      <th>V1</th>\n",
       "      <th>V2</th>\n",
       "      <th>V3</th>\n",
       "      <th>V4</th>\n",
       "      <th>V5</th>\n",
       "      <th>V6</th>\n",
       "      <th>V7</th>\n",
       "      <th>V8</th>\n",
       "      <th>V9</th>\n",
       "      <th>V10</th>\n",
       "      <th>V11</th>\n",
       "      <th>V12</th>\n",
       "      <th>V13</th>\n",
       "      <th>V14</th>\n",
       "      <th>V15</th>\n",
       "      <th>V16</th>\n",
       "      <th>V17</th>\n",
       "      <th>V18</th>\n",
       "      <th>V19</th>\n",
       "      <th>V20</th>\n",
       "      <th>V21</th>\n",
       "      <th>V22</th>\n",
       "      <th>V23</th>\n",
       "      <th>V24</th>\n",
       "      <th>V25</th>\n",
       "      <th>V26</th>\n",
       "      <th>V27</th>\n",
       "      <th>V28</th>\n",
       "      <th>Amount</th>\n",
       "      <th>Class</th>\n",
       "      <th>Hour</th>\n",
       "      <th>timestamp</th>\n",
       "    </tr>\n",
       "  </thead>\n",
       "  <tbody>\n",
       "    <tr>\n",
       "      <th>0</th>\n",
       "      <td>8000</td>\n",
       "      <td>10990.0</td>\n",
       "      <td>-0.978969</td>\n",
       "      <td>0.891371</td>\n",
       "      <td>2.319535</td>\n",
       "      <td>-0.366443</td>\n",
       "      <td>-0.064428</td>\n",
       "      <td>-0.701253</td>\n",
       "      <td>0.287479</td>\n",
       "      <td>-0.277378</td>\n",
       "      <td>0.889065</td>\n",
       "      <td>-0.888369</td>\n",
       "      <td>0.798601</td>\n",
       "      <td>-1.864867</td>\n",
       "      <td>3.342448</td>\n",
       "      <td>0.979710</td>\n",
       "      <td>0.285233</td>\n",
       "      <td>0.255232</td>\n",
       "      <td>0.251996</td>\n",
       "      <td>0.114434</td>\n",
       "      <td>-0.141915</td>\n",
       "      <td>0.023812</td>\n",
       "      <td>0.016648</td>\n",
       "      <td>0.289814</td>\n",
       "      <td>-0.354844</td>\n",
       "      <td>0.451382</td>\n",
       "      <td>0.146643</td>\n",
       "      <td>1.035808</td>\n",
       "      <td>-0.285715</td>\n",
       "      <td>0.067639</td>\n",
       "      <td>12.95</td>\n",
       "      <td>0</td>\n",
       "      <td>3.0</td>\n",
       "      <td>2021-07-29 08:11:12.795604</td>\n",
       "    </tr>\n",
       "    <tr>\n",
       "      <th>1</th>\n",
       "      <td>8001</td>\n",
       "      <td>10990.0</td>\n",
       "      <td>1.187976</td>\n",
       "      <td>-0.150266</td>\n",
       "      <td>0.950144</td>\n",
       "      <td>0.273609</td>\n",
       "      <td>-1.008121</td>\n",
       "      <td>-0.668541</td>\n",
       "      <td>-0.633928</td>\n",
       "      <td>0.013531</td>\n",
       "      <td>1.685281</td>\n",
       "      <td>-0.308360</td>\n",
       "      <td>2.273145</td>\n",
       "      <td>-2.391213</td>\n",
       "      <td>0.201110</td>\n",
       "      <td>1.976253</td>\n",
       "      <td>0.025093</td>\n",
       "      <td>0.692488</td>\n",
       "      <td>0.202148</td>\n",
       "      <td>0.763696</td>\n",
       "      <td>-0.181124</td>\n",
       "      <td>-0.170890</td>\n",
       "      <td>-0.018174</td>\n",
       "      <td>0.099565</td>\n",
       "      <td>0.014798</td>\n",
       "      <td>0.512315</td>\n",
       "      <td>0.099670</td>\n",
       "      <td>1.006098</td>\n",
       "      <td>-0.102534</td>\n",
       "      <td>-0.005459</td>\n",
       "      <td>15.95</td>\n",
       "      <td>0</td>\n",
       "      <td>3.0</td>\n",
       "      <td>2021-07-29 08:11:12.795604</td>\n",
       "    </tr>\n",
       "    <tr>\n",
       "      <th>2</th>\n",
       "      <td>8002</td>\n",
       "      <td>10991.0</td>\n",
       "      <td>-0.291467</td>\n",
       "      <td>0.848939</td>\n",
       "      <td>1.853259</td>\n",
       "      <td>0.057920</td>\n",
       "      <td>-0.438931</td>\n",
       "      <td>-0.597373</td>\n",
       "      <td>0.200133</td>\n",
       "      <td>-0.201451</td>\n",
       "      <td>1.101389</td>\n",
       "      <td>-0.656723</td>\n",
       "      <td>0.579345</td>\n",
       "      <td>-2.494774</td>\n",
       "      <td>2.182849</td>\n",
       "      <td>1.318407</td>\n",
       "      <td>0.637624</td>\n",
       "      <td>0.084044</td>\n",
       "      <td>0.503039</td>\n",
       "      <td>0.362604</td>\n",
       "      <td>0.402474</td>\n",
       "      <td>0.037224</td>\n",
       "      <td>0.076264</td>\n",
       "      <td>0.488248</td>\n",
       "      <td>-0.076796</td>\n",
       "      <td>0.429956</td>\n",
       "      <td>-0.734458</td>\n",
       "      <td>1.011073</td>\n",
       "      <td>-0.056456</td>\n",
       "      <td>0.145633</td>\n",
       "      <td>14.95</td>\n",
       "      <td>0</td>\n",
       "      <td>3.0</td>\n",
       "      <td>2021-07-29 08:11:12.795604</td>\n",
       "    </tr>\n",
       "    <tr>\n",
       "      <th>3</th>\n",
       "      <td>8003</td>\n",
       "      <td>10991.0</td>\n",
       "      <td>-0.362454</td>\n",
       "      <td>0.475100</td>\n",
       "      <td>1.579593</td>\n",
       "      <td>-0.891771</td>\n",
       "      <td>0.006748</td>\n",
       "      <td>-0.451606</td>\n",
       "      <td>0.167889</td>\n",
       "      <td>0.042788</td>\n",
       "      <td>1.157205</td>\n",
       "      <td>-0.903576</td>\n",
       "      <td>1.668824</td>\n",
       "      <td>-2.240497</td>\n",
       "      <td>1.240255</td>\n",
       "      <td>1.612326</td>\n",
       "      <td>-0.823729</td>\n",
       "      <td>0.956849</td>\n",
       "      <td>-0.359215</td>\n",
       "      <td>0.912083</td>\n",
       "      <td>-0.606932</td>\n",
       "      <td>-0.130137</td>\n",
       "      <td>0.117070</td>\n",
       "      <td>0.479416</td>\n",
       "      <td>-0.026288</td>\n",
       "      <td>-0.006762</td>\n",
       "      <td>-0.877070</td>\n",
       "      <td>0.752055</td>\n",
       "      <td>0.061740</td>\n",
       "      <td>0.160531</td>\n",
       "      <td>15.95</td>\n",
       "      <td>0</td>\n",
       "      <td>3.0</td>\n",
       "      <td>2021-07-29 08:11:12.795604</td>\n",
       "    </tr>\n",
       "    <tr>\n",
       "      <th>4</th>\n",
       "      <td>8004</td>\n",
       "      <td>10992.0</td>\n",
       "      <td>1.345316</td>\n",
       "      <td>-0.018177</td>\n",
       "      <td>0.290022</td>\n",
       "      <td>-0.006065</td>\n",
       "      <td>-0.125986</td>\n",
       "      <td>-0.026471</td>\n",
       "      <td>-0.449742</td>\n",
       "      <td>-0.126617</td>\n",
       "      <td>1.794592</td>\n",
       "      <td>-0.525465</td>\n",
       "      <td>-0.567849</td>\n",
       "      <td>-2.696546</td>\n",
       "      <td>2.284918</td>\n",
       "      <td>1.341292</td>\n",
       "      <td>0.655219</td>\n",
       "      <td>0.883889</td>\n",
       "      <td>-0.228953</td>\n",
       "      <td>0.581675</td>\n",
       "      <td>0.122653</td>\n",
       "      <td>-0.019355</td>\n",
       "      <td>-0.155716</td>\n",
       "      <td>-0.168735</td>\n",
       "      <td>-0.191035</td>\n",
       "      <td>-0.980377</td>\n",
       "      <td>0.402362</td>\n",
       "      <td>1.116657</td>\n",
       "      <td>-0.089681</td>\n",
       "      <td>-0.007732</td>\n",
       "      <td>15.95</td>\n",
       "      <td>0</td>\n",
       "      <td>3.0</td>\n",
       "      <td>2021-07-29 08:11:12.795604</td>\n",
       "    </tr>\n",
       "  </tbody>\n",
       "</table>\n",
       "</div>"
      ],
      "text/plain": [
       "   index     Time        V1        V2        V3        V4        V5        V6  \\\n",
       "0   8000  10990.0 -0.978969  0.891371  2.319535 -0.366443 -0.064428 -0.701253   \n",
       "1   8001  10990.0  1.187976 -0.150266  0.950144  0.273609 -1.008121 -0.668541   \n",
       "2   8002  10991.0 -0.291467  0.848939  1.853259  0.057920 -0.438931 -0.597373   \n",
       "3   8003  10991.0 -0.362454  0.475100  1.579593 -0.891771  0.006748 -0.451606   \n",
       "4   8004  10992.0  1.345316 -0.018177  0.290022 -0.006065 -0.125986 -0.026471   \n",
       "\n",
       "         V7        V8        V9       V10       V11       V12       V13  \\\n",
       "0  0.287479 -0.277378  0.889065 -0.888369  0.798601 -1.864867  3.342448   \n",
       "1 -0.633928  0.013531  1.685281 -0.308360  2.273145 -2.391213  0.201110   \n",
       "2  0.200133 -0.201451  1.101389 -0.656723  0.579345 -2.494774  2.182849   \n",
       "3  0.167889  0.042788  1.157205 -0.903576  1.668824 -2.240497  1.240255   \n",
       "4 -0.449742 -0.126617  1.794592 -0.525465 -0.567849 -2.696546  2.284918   \n",
       "\n",
       "        V14       V15       V16       V17       V18       V19       V20  \\\n",
       "0  0.979710  0.285233  0.255232  0.251996  0.114434 -0.141915  0.023812   \n",
       "1  1.976253  0.025093  0.692488  0.202148  0.763696 -0.181124 -0.170890   \n",
       "2  1.318407  0.637624  0.084044  0.503039  0.362604  0.402474  0.037224   \n",
       "3  1.612326 -0.823729  0.956849 -0.359215  0.912083 -0.606932 -0.130137   \n",
       "4  1.341292  0.655219  0.883889 -0.228953  0.581675  0.122653 -0.019355   \n",
       "\n",
       "        V21       V22       V23       V24       V25       V26       V27  \\\n",
       "0  0.016648  0.289814 -0.354844  0.451382  0.146643  1.035808 -0.285715   \n",
       "1 -0.018174  0.099565  0.014798  0.512315  0.099670  1.006098 -0.102534   \n",
       "2  0.076264  0.488248 -0.076796  0.429956 -0.734458  1.011073 -0.056456   \n",
       "3  0.117070  0.479416 -0.026288 -0.006762 -0.877070  0.752055  0.061740   \n",
       "4 -0.155716 -0.168735 -0.191035 -0.980377  0.402362  1.116657 -0.089681   \n",
       "\n",
       "        V28  Amount  Class  Hour                  timestamp  \n",
       "0  0.067639   12.95      0   3.0 2021-07-29 08:11:12.795604  \n",
       "1 -0.005459   15.95      0   3.0 2021-07-29 08:11:12.795604  \n",
       "2  0.145633   14.95      0   3.0 2021-07-29 08:11:12.795604  \n",
       "3  0.160531   15.95      0   3.0 2021-07-29 08:11:12.795604  \n",
       "4 -0.007732   15.95      0   3.0 2021-07-29 08:11:12.795604  "
      ]
     },
     "execution_count": 26,
     "metadata": {},
     "output_type": "execute_result"
    }
   ],
   "source": [
    "creditcard.head()"
   ]
  },
  {
   "cell_type": "markdown",
   "metadata": {
    "tags": []
   },
   "source": [
    "Let's look into more details to the data.\n",
    "\n"
   ]
  },
  {
   "cell_type": "markdown",
   "metadata": {
    "tags": []
   },
   "source": [
    "## Predict the data"
   ]
  },
  {
   "cell_type": "code",
   "execution_count": 27,
   "metadata": {
    "tags": [
     "block:predict_data",
     "prev:load_model",
     "prev:load_data"
    ]
   },
   "outputs": [],
   "source": [
    "index = creditcard.pop('index')\n",
    "timestamp = creditcard.pop('timestamp')\n",
    "\n",
    "inference_data = creditcard[top_features]"
   ]
  },
  {
   "cell_type": "code",
   "execution_count": 28,
   "metadata": {
    "tags": []
   },
   "outputs": [],
   "source": [
    "prediction = model.predict(inference_data)\n",
    "prediction_probability = model.predict_proba(inference_data)[:,1]"
   ]
  },
  {
   "cell_type": "markdown",
   "metadata": {
    "tags": []
   },
   "source": [
    "## Save prediction to table"
   ]
  },
  {
   "cell_type": "code",
   "execution_count": 29,
   "metadata": {
    "tags": [
     "block:save_results",
     "prev:predict_data"
    ]
   },
   "outputs": [
    {
     "data": {
      "text/html": [
       "<div>\n",
       "<style scoped>\n",
       "    .dataframe tbody tr th:only-of-type {\n",
       "        vertical-align: middle;\n",
       "    }\n",
       "\n",
       "    .dataframe tbody tr th {\n",
       "        vertical-align: top;\n",
       "    }\n",
       "\n",
       "    .dataframe thead th {\n",
       "        text-align: right;\n",
       "    }\n",
       "</style>\n",
       "<table border=\"1\" class=\"dataframe\">\n",
       "  <thead>\n",
       "    <tr style=\"text-align: right;\">\n",
       "      <th></th>\n",
       "      <th>Experiment_ID</th>\n",
       "      <th>Run_ID</th>\n",
       "      <th>Model_Name</th>\n",
       "      <th>index</th>\n",
       "      <th>Fraud_Flag</th>\n",
       "      <th>Fraud_Flag_Probabilty</th>\n",
       "      <th>Prediction_time</th>\n",
       "    </tr>\n",
       "  </thead>\n",
       "  <tbody>\n",
       "    <tr>\n",
       "      <th>0</th>\n",
       "      <td>73</td>\n",
       "      <td>707f40bad8fb4e4e93c67c40d2d9cdbd</td>\n",
       "      <td>GradientBoostingClassifier</td>\n",
       "      <td>8000</td>\n",
       "      <td>0.0</td>\n",
       "      <td>1.276690e-07</td>\n",
       "      <td>2021-07-29 08:25:45.463257</td>\n",
       "    </tr>\n",
       "    <tr>\n",
       "      <th>1</th>\n",
       "      <td>73</td>\n",
       "      <td>707f40bad8fb4e4e93c67c40d2d9cdbd</td>\n",
       "      <td>GradientBoostingClassifier</td>\n",
       "      <td>8001</td>\n",
       "      <td>0.0</td>\n",
       "      <td>1.276690e-07</td>\n",
       "      <td>2021-07-29 08:25:45.463257</td>\n",
       "    </tr>\n",
       "    <tr>\n",
       "      <th>2</th>\n",
       "      <td>73</td>\n",
       "      <td>707f40bad8fb4e4e93c67c40d2d9cdbd</td>\n",
       "      <td>GradientBoostingClassifier</td>\n",
       "      <td>8002</td>\n",
       "      <td>0.0</td>\n",
       "      <td>1.276690e-07</td>\n",
       "      <td>2021-07-29 08:25:45.463257</td>\n",
       "    </tr>\n",
       "    <tr>\n",
       "      <th>3</th>\n",
       "      <td>73</td>\n",
       "      <td>707f40bad8fb4e4e93c67c40d2d9cdbd</td>\n",
       "      <td>GradientBoostingClassifier</td>\n",
       "      <td>8003</td>\n",
       "      <td>0.0</td>\n",
       "      <td>1.276690e-07</td>\n",
       "      <td>2021-07-29 08:25:45.463257</td>\n",
       "    </tr>\n",
       "    <tr>\n",
       "      <th>4</th>\n",
       "      <td>73</td>\n",
       "      <td>707f40bad8fb4e4e93c67c40d2d9cdbd</td>\n",
       "      <td>GradientBoostingClassifier</td>\n",
       "      <td>8004</td>\n",
       "      <td>0.0</td>\n",
       "      <td>1.276690e-07</td>\n",
       "      <td>2021-07-29 08:25:45.463257</td>\n",
       "    </tr>\n",
       "    <tr>\n",
       "      <th>...</th>\n",
       "      <td>...</td>\n",
       "      <td>...</td>\n",
       "      <td>...</td>\n",
       "      <td>...</td>\n",
       "      <td>...</td>\n",
       "      <td>...</td>\n",
       "      <td>...</td>\n",
       "    </tr>\n",
       "    <tr>\n",
       "      <th>1995</th>\n",
       "      <td>73</td>\n",
       "      <td>707f40bad8fb4e4e93c67c40d2d9cdbd</td>\n",
       "      <td>GradientBoostingClassifier</td>\n",
       "      <td>9995</td>\n",
       "      <td>0.0</td>\n",
       "      <td>1.276690e-07</td>\n",
       "      <td>2021-07-29 08:25:45.463257</td>\n",
       "    </tr>\n",
       "    <tr>\n",
       "      <th>1996</th>\n",
       "      <td>73</td>\n",
       "      <td>707f40bad8fb4e4e93c67c40d2d9cdbd</td>\n",
       "      <td>GradientBoostingClassifier</td>\n",
       "      <td>9996</td>\n",
       "      <td>0.0</td>\n",
       "      <td>1.276690e-07</td>\n",
       "      <td>2021-07-29 08:25:45.463257</td>\n",
       "    </tr>\n",
       "    <tr>\n",
       "      <th>1997</th>\n",
       "      <td>73</td>\n",
       "      <td>707f40bad8fb4e4e93c67c40d2d9cdbd</td>\n",
       "      <td>GradientBoostingClassifier</td>\n",
       "      <td>9997</td>\n",
       "      <td>0.0</td>\n",
       "      <td>1.276690e-07</td>\n",
       "      <td>2021-07-29 08:25:45.463257</td>\n",
       "    </tr>\n",
       "    <tr>\n",
       "      <th>1998</th>\n",
       "      <td>73</td>\n",
       "      <td>707f40bad8fb4e4e93c67c40d2d9cdbd</td>\n",
       "      <td>GradientBoostingClassifier</td>\n",
       "      <td>9998</td>\n",
       "      <td>0.0</td>\n",
       "      <td>1.276690e-07</td>\n",
       "      <td>2021-07-29 08:25:45.463257</td>\n",
       "    </tr>\n",
       "    <tr>\n",
       "      <th>1999</th>\n",
       "      <td>73</td>\n",
       "      <td>707f40bad8fb4e4e93c67c40d2d9cdbd</td>\n",
       "      <td>GradientBoostingClassifier</td>\n",
       "      <td>9999</td>\n",
       "      <td>0.0</td>\n",
       "      <td>1.276690e-07</td>\n",
       "      <td>2021-07-29 08:25:45.463257</td>\n",
       "    </tr>\n",
       "  </tbody>\n",
       "</table>\n",
       "<p>2000 rows × 7 columns</p>\n",
       "</div>"
      ],
      "text/plain": [
       "     Experiment_ID                            Run_ID  \\\n",
       "0               73  707f40bad8fb4e4e93c67c40d2d9cdbd   \n",
       "1               73  707f40bad8fb4e4e93c67c40d2d9cdbd   \n",
       "2               73  707f40bad8fb4e4e93c67c40d2d9cdbd   \n",
       "3               73  707f40bad8fb4e4e93c67c40d2d9cdbd   \n",
       "4               73  707f40bad8fb4e4e93c67c40d2d9cdbd   \n",
       "...            ...                               ...   \n",
       "1995            73  707f40bad8fb4e4e93c67c40d2d9cdbd   \n",
       "1996            73  707f40bad8fb4e4e93c67c40d2d9cdbd   \n",
       "1997            73  707f40bad8fb4e4e93c67c40d2d9cdbd   \n",
       "1998            73  707f40bad8fb4e4e93c67c40d2d9cdbd   \n",
       "1999            73  707f40bad8fb4e4e93c67c40d2d9cdbd   \n",
       "\n",
       "                      Model_Name  index  Fraud_Flag  Fraud_Flag_Probabilty  \\\n",
       "0     GradientBoostingClassifier   8000         0.0           1.276690e-07   \n",
       "1     GradientBoostingClassifier   8001         0.0           1.276690e-07   \n",
       "2     GradientBoostingClassifier   8002         0.0           1.276690e-07   \n",
       "3     GradientBoostingClassifier   8003         0.0           1.276690e-07   \n",
       "4     GradientBoostingClassifier   8004         0.0           1.276690e-07   \n",
       "...                          ...    ...         ...                    ...   \n",
       "1995  GradientBoostingClassifier   9995         0.0           1.276690e-07   \n",
       "1996  GradientBoostingClassifier   9996         0.0           1.276690e-07   \n",
       "1997  GradientBoostingClassifier   9997         0.0           1.276690e-07   \n",
       "1998  GradientBoostingClassifier   9998         0.0           1.276690e-07   \n",
       "1999  GradientBoostingClassifier   9999         0.0           1.276690e-07   \n",
       "\n",
       "                Prediction_time  \n",
       "0    2021-07-29 08:25:45.463257  \n",
       "1    2021-07-29 08:25:45.463257  \n",
       "2    2021-07-29 08:25:45.463257  \n",
       "3    2021-07-29 08:25:45.463257  \n",
       "4    2021-07-29 08:25:45.463257  \n",
       "...                         ...  \n",
       "1995 2021-07-29 08:25:45.463257  \n",
       "1996 2021-07-29 08:25:45.463257  \n",
       "1997 2021-07-29 08:25:45.463257  \n",
       "1998 2021-07-29 08:25:45.463257  \n",
       "1999 2021-07-29 08:25:45.463257  \n",
       "\n",
       "[2000 rows x 7 columns]"
      ]
     },
     "execution_count": 29,
     "metadata": {},
     "output_type": "execute_result"
    }
   ],
   "source": [
    "predicted_data = pd.DataFrame()\n",
    "predicted_data['Experiment_ID'] = [exp_id]*len(index)\n",
    "predicted_data['Run_ID'] = [run_id]*len(index)\n",
    "predicted_data['Model_Name'] = [model_name]*len(index)\n",
    "predicted_data['index'] = index\n",
    "predicted_data['Fraud_Flag'] = prediction\n",
    "predicted_data['Fraud_Flag_Probabilty']=prediction_probability \n",
    "predicted_data['Prediction_time'] =pd.to_datetime(datetime.now())\n",
    "predicted_data"
   ]
  },
  {
   "cell_type": "code",
   "execution_count": 30,
   "metadata": {
    "tags": []
   },
   "outputs": [],
   "source": [
    "POSTGRES_PASSWORD = passwrd_parser(POSTGRES_PASSWORD)"
   ]
  },
  {
   "cell_type": "code",
   "execution_count": 31,
   "metadata": {
    "tags": []
   },
   "outputs": [],
   "source": [
    "write_to_feature_store(POSTGRES_USERNAME,POSTGRES_PASSWORD,POSTGRES_ADDRESS,\n",
    "                       POSTGRES_PORT,POSTGRES_DBNAME,PROJECT_SCHEMA,predicted_data,TABLE_Prediction)"
   ]
  },
  {
   "cell_type": "code",
   "execution_count": null,
   "metadata": {
    "tags": []
   },
   "outputs": [],
   "source": []
  }
 ],
 "metadata": {
  "kernelspec": {
   "display_name": "Python 3",
   "language": "python",
   "name": "python3"
  },
  "kubeflow_notebook": {
   "autosnapshot": false,
   "docker_image": "katonic/usecaseb1:4.0",
   "experiment": {
    "id": "new",
    "name": "credit-fraud"
   },
   "experiment_name": "credit-fraud",
   "katib_metadata": {
    "algorithm": {
     "algorithmName": "grid"
    },
    "maxFailedTrialCount": 3,
    "maxTrialCount": 12,
    "objective": {
     "objectiveMetricName": "",
     "type": "minimize"
    },
    "parallelTrialCount": 3,
    "parameters": []
   },
   "katib_run": false,
   "pipeline_description": "credit-fraud-inference-fs",
   "pipeline_name": "credit-fraud-inference-fs",
   "snapshot_volumes": false,
   "steps_defaults": [],
   "volume_access_mode": "rwo",
   "volumes": []
  },
  "language_info": {
   "codemirror_mode": {
    "name": "ipython",
    "version": 3
   },
   "file_extension": ".py",
   "mimetype": "text/x-python",
   "name": "python",
   "nbconvert_exporter": "python",
   "pygments_lexer": "ipython3",
   "version": "3.7.9"
  }
 },
 "nbformat": 4,
 "nbformat_minor": 4
}
