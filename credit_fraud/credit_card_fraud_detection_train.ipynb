{
 "cells": [
  {
   "cell_type": "markdown",
   "metadata": {
    "tags": []
   },
   "source": [
    "# Credit Card Fraud Detection Predictive Models\n",
    "## Introduction\n",
    "The datasets contains transactions made by credit cards in September 2013 by european cardholders. This dataset presents transactions that occurred in two days, where we have 492 frauds out of 284,807 transactions. The dataset is highly unbalanced, the positive class (frauds) account for 0.172% of all transactions.\n",
    "\n",
    "It contains only numerical input variables which are the result of a PCA transformation.\n",
    "\n",
    "Due to confidentiality issues, there are not provided the original features and more background information about the data.\n",
    "\n",
    "- Features V1, V2, ... V28 are the principal components obtained with PCA;\n",
    "- The only features which have not been transformed with PCA are Time and Amount. Feature Time contains the seconds elapsed between each transaction and the first transaction in the dataset. The feature Amount is the transaction Amount, this feature can be used for example-dependant cost-senstive learning.\n",
    "- Feature Class is the response variable and it takes value 1 in case of fraud and 0 otherwise.\n",
    "## Load packages"
   ]
  },
  {
   "cell_type": "code",
   "execution_count": null,
   "metadata": {
    "tags": []
   },
   "outputs": [],
   "source": [
    "# !pip install mlflow ak-minio pandas matplotlib seaborn plotly sklearn catboost lightgbm xgboost boto3 psycopg2-binary \n",
    "# Docker image: katonic/usecase:1.0 / katonic/notebook-env:base"
   ]
  },
  {
   "cell_type": "code",
   "execution_count": 2,
   "metadata": {
    "tags": [
     "imports"
    ]
   },
   "outputs": [
    {
     "data": {
      "text/plain": [
       "0"
      ]
     },
     "execution_count": 2,
     "metadata": {},
     "output_type": "execute_result"
    }
   ],
   "source": [
    "import os\n",
    "# os.system(\"pip install mlflow ak-minio pandas matplotlib seaborn plotly sklearn catboost lightgbm xgboost boto3\")\n",
    "os.system(\"pip install mlflow ak-minio pandas matplotlib seaborn plotly sklearn catboost lightgbm xgboost boto3\")"
   ]
  },
  {
   "cell_type": "code",
   "execution_count": 3,
   "metadata": {
    "tags": [
     "block:"
    ]
   },
   "outputs": [],
   "source": [
    "import os\n",
    "import pandas as pd \n",
    "import numpy as np\n",
    "import matplotlib\n",
    "import matplotlib.pyplot as plt\n",
    "import seaborn as sns\n",
    "import plotly.graph_objs as go\n",
    "import plotly.figure_factory as ff\n",
    "from plotly import tools\n",
    "from plotly.offline import download_plotlyjs, init_notebook_mode, plot, iplot\n",
    "# init_notebook_mode(connected=True)\n",
    "# import gc\n",
    "from datetime import datetime \n",
    "from sklearn.model_selection import train_test_split\n",
    "from sklearn.model_selection import KFold\n",
    "from sklearn.metrics import roc_auc_score\n",
    "from sklearn.ensemble import RandomForestClassifier\n",
    "from sklearn.ensemble import AdaBoostClassifier\n",
    "from catboost import CatBoostClassifier\n",
    "from sklearn import svm\n",
    "import lightgbm as lgb\n",
    "from lightgbm import LGBMClassifier\n",
    "import xgboost as xgb\n",
    "import warnings\n",
    "warnings.filterwarnings('ignore')\n",
    "# from pyspark.sql import SparkSession\n",
    "# from pyspark import SparkContext, SparkConf\n",
    "# from pyspark.sql import DataFrame, SparkSession, Window\n",
    "# from pyspark.sql.functions import col, expr, monotonically_increasing_id, row_number,current_timestamp\n",
    "from typing import  List\n",
    "from datetime import datetime\n",
    "from io import StringIO\n",
    "import joblib\n",
    "from minio import Minio\n",
    "from subprocess import run, Popen, PIPE\n",
    "\n",
    "import mlflow\n",
    "import mlflow.sklearn\n",
    "from  mlflow.tracking import MlflowClient\n",
    "\n",
    "import psycopg2\n",
    "import pandas as pd\n",
    "from sqlalchemy import create_engine,text\n",
    "from typing import Optional\n",
    "import datetime as dt"
   ]
  },
  {
   "cell_type": "code",
   "execution_count": 4,
   "metadata": {
    "tags": []
   },
   "outputs": [],
   "source": [
    "\n",
    "from sqlalchemy import create_engine , text\n",
    "from sklearn.feature_selection import RFECV\n",
    "from typing import Optional\n",
    "from sklearn.linear_model import LogisticRegression\n",
    "from sklearn.ensemble import RandomForestClassifier\n",
    "from sklearn.ensemble import AdaBoostClassifier\n",
    "from sklearn.ensemble import GradientBoostingClassifier\n",
    "from catboost import CatBoostClassifier\n",
    "from sklearn import svm\n",
    "import xgboost as xgb\n",
    "import matplotlib.pyplot as plt\n",
    "import pandas as pd \n",
    "import numpy as np\n",
    "import seaborn as sns\n",
    "from datetime import datetime \n",
    "from sklearn.metrics import roc_auc_score\n",
    "import warnings\n",
    "warnings.filterwarnings('ignore')\n",
    "from io import StringIO\n",
    "import mlflow\n",
    "import mlflow.sklearn\n",
    "from  mlflow.tracking import MlflowClient\n",
    "from azure.storage.blob import BlockBlobService\n",
    "from sklearn.metrics import accuracy_score\n",
    "from sklearn.metrics import classification_report\n",
    "from sklearn.metrics import confusion_matrix\n",
    "from sklearn.model_selection import StratifiedShuffleSplit"
   ]
  },
  {
   "cell_type": "code",
   "execution_count": 5,
   "metadata": {
    "tags": []
   },
   "outputs": [
    {
     "name": "stdout",
     "output_type": "stream",
     "text": [
      "Collecting imblearn\n",
      "  Downloading imblearn-0.0-py2.py3-none-any.whl (1.9 kB)\n",
      "Collecting imbalanced-learn\n",
      "  Downloading imbalanced_learn-0.8.0-py3-none-any.whl (206 kB)\n",
      "\u001b[K     |████████████████████████████████| 206 kB 23.8 MB/s eta 0:00:01\n",
      "\u001b[?25hRequirement already satisfied: joblib>=0.11 in /opt/miniconda/lib/python3.7/site-packages (from imbalanced-learn->imblearn) (1.0.1)\n",
      "Requirement already satisfied: numpy>=1.13.3 in /opt/miniconda/lib/python3.7/site-packages (from imbalanced-learn->imblearn) (1.20.2)\n",
      "Requirement already satisfied: scikit-learn>=0.24 in /opt/miniconda/lib/python3.7/site-packages (from imbalanced-learn->imblearn) (0.24.2)\n",
      "Requirement already satisfied: scipy>=0.19.1 in /opt/miniconda/lib/python3.7/site-packages (from imbalanced-learn->imblearn) (1.7.0)\n",
      "Requirement already satisfied: threadpoolctl>=2.0.0 in /opt/miniconda/lib/python3.7/site-packages (from scikit-learn>=0.24->imbalanced-learn->imblearn) (2.2.0)\n",
      "Installing collected packages: imbalanced-learn, imblearn\n",
      "Successfully installed imbalanced-learn-0.8.0 imblearn-0.0\n",
      "\u001b[33mWARNING: Running pip as the 'root' user can result in broken permissions and conflicting behaviour with the system package manager. It is recommended to use a virtual environment instead: https://pip.pypa.io/warnings/venv\u001b[0m\n"
     ]
    }
   ],
   "source": [
    "#!apt-get install build-dep python-psycopg2\n",
    "#!pip install psycopg2-binary"
   ]
  },
  {
   "cell_type": "code",
   "execution_count": 6,
   "metadata": {
    "tags": []
   },
   "outputs": [],
   "source": [
    "# Ensure Minio access\n",
    "os.environ['MLFLOW_S3_ENDPOINT_URL'] = 'http://mlflow-minio-service.mlflow.svc.cluster.local:9000'\n",
    "os.environ['AWS_ACCESS_KEY_ID'] = 'minio'\n",
    "os.environ['AWS_SECRET_ACCESS_KEY'] = 'BS6PpUKnW^Bkc@$l$QAsY$p#l'\n",
    "os.environ['MLFLOW_BASE_URL'] = 'http://mlflow-service.mlflow.svc.cluster.local:5000'\n",
    "\n",
    "# connect to remote server\n",
    "\n",
    "mlflow.set_tracking_uri(os.environ['MLFLOW_BASE_URL'])\n",
    "\n",
    "# Launch the experiment on mlflow\n",
    "experiment_name = \"credit-card-fraud-detection\"\n",
    "mlflow.set_experiment(experiment_name)\n",
    "\n",
    "exp_details = mlflow.get_experiment_by_name(experiment_name)\n",
    "exp_id = exp_details.experiment_id\n",
    "\n",
    "client = mlflow.tracking.MlflowClient(os.environ['MLFLOW_BASE_URL'])"
   ]
  },
  {
   "cell_type": "code",
   "execution_count": 7,
   "metadata": {
    "tags": []
   },
   "outputs": [],
   "source": [
    "pd.set_option('display.max_columns', 100)"
   ]
  },
  {
   "cell_type": "code",
   "execution_count": 8,
   "metadata": {
    "tags": [
     "pipeline-parameters"
    ]
   },
   "outputs": [],
   "source": [
    "RFC_METRIC = 'gini'  #metric used for RandomForrestClassifier\n",
    "NUM_ESTIMATORS = 100 #number of estimators used for RandomForrestClassifier\n",
    "NO_JOBS = 4 #number of parallel jobs used for RandomForrestClassifier\n",
    "#TRAIN/VALIDATION/TEST SPLIT\n",
    "#VALIDATION\n",
    "VALID_SIZE = 0.20 # simple validation using train_test_split\n",
    "TEST_SIZE = 0.20 # test size using_train_test_split\n",
    "#CROSS-VALIDATION\n",
    "NUMBER_KFOLDS = 5 #number of KFolds for cross-validation\n",
    "RANDOM_STATE = 2018\n",
    "MAX_ROUNDS = 1000 #lgb iterations\n",
    "EARLY_STOP = 50 #lgb early stop \n",
    "OPT_ROUNDS = 1000  #To be adjusted based on best validation rounds\n",
    "VERBOSE_EVAL = 50 #Print out metric result\n",
    "IS_LOCAL = False\n",
    "\n",
    "MINIO_HOST=\"minio-service.kubeflow:9000\"\n",
    "MINIO_ACCESS_KEY=\"minio\"\n",
    "MINIO_SECRET_KEY=\"minio123\"\n",
    "MINIO_MODEL_BUCKET=\"seldon\"\n",
    "\n",
    "EVENT_TIMESTAMP_ALIAS = \"event_timestamp\"\n",
    "CREATED_TIMESTAMP_ALIAS = \"created_timestamp\"\n",
    "\n",
    "MODEL_NAME = \"cred_fraud_detection-model\"\n",
    "\n",
    "#file_url = \"https://raw.githubusercontent.com/katonic-dev/usecases/master/datasets/\"\n",
    "file_name = \"dataset.csv\""
   ]
  },
  {
   "cell_type": "code",
   "execution_count": 9,
   "metadata": {
    "tags": []
   },
   "outputs": [],
   "source": [
    "POSTGRES_ADDRESS = '52.187.120.22' ## INSERT YOUR DB ADDRESS\n",
    "POSTGRES_PORT = '5432'\n",
    "POSTGRES_USERNAME = 'postgres' ## CHANGE THIS TO YOUR POSTGRES USERNAME\n",
    "POSTGRES_PASSWORD = 'katonic@47' ## CHANGE THIS TO YOUR POSTGRES PASSWORD POSTGRES_DBNAME = 'database' ## CHANGE THIS TO YOUR DATABASE NAME\n",
    "POSTGRES_DBNAME = 'postgres' ## CHANGE THIS TO YOUR DATABASE NAME\n",
    "POSTGRES_ENGINE = 'postgres'\n",
    "PROJECT_NAME = 'katonic'\n",
    "PROJECT_SCHEMA = 'demo_credit_fraud'\n",
    "TABLE_TRAIN = 'credit_card_fraud_train'\n",
    "TABLE_INFERENCE = 'credit_card_fraud_inference'\n",
    "TABLE_MODEL = 'credit_fraud_model_meta'"
   ]
  },
  {
   "cell_type": "code",
   "execution_count": 13,
   "metadata": {
    "tags": [
     "functions"
    ]
   },
   "outputs": [],
   "source": [
    "def get_minio():\n",
    "    return Minio(MINIO_HOST,\n",
    "                    access_key=MINIO_ACCESS_KEY,\n",
    "                    secret_key=MINIO_SECRET_KEY,\n",
    "                    secure=False)"
   ]
  },
  {
   "cell_type": "code",
   "execution_count": 10,
   "metadata": {
    "tags": []
   },
   "outputs": [],
   "source": [
    "def passwrd_parser(POSTGRES_PASSWORD):\n",
    "    POSTGRES_PASSWORD = POSTGRES_PASSWORD.replace(\"@\",\"%40\")\n",
    "    return POSTGRES_PASSWORD"
   ]
  },
  {
   "cell_type": "code",
   "execution_count": 11,
   "metadata": {
    "tags": []
   },
   "outputs": [],
   "source": [
    "def write_to_feature_store(POSTGRES_USERNAME,POSTGRES_PASSWORD,POSTGRES_ADDRESS,\n",
    "                       POSTGRES_PORT,POSTGRES_DBNAME,PROJECT_SCHEMA,dataset,table):\n",
    "    postgres_str = (f\"postgresql+psycopg2://{POSTGRES_USERNAME}:{POSTGRES_PASSWORD}@{POSTGRES_ADDRESS}:{POSTGRES_PORT}/{POSTGRES_DBNAME}\")\n",
    "    engine = create_engine(postgres_str)\n",
    "    \n",
    "    query = text(f\"\"\" \n",
    "                CREATE SCHEMA IF NOT EXISTS {PROJECT_SCHEMA} \"\"\")\n",
    "    engine.execute(query)\n",
    "    \n",
    "    #query = text(f\"\"\" \n",
    "    #               DROP TABLE IF EXISTS  {PROJECT_SCHEMA}.{table} CASCADE;\"\"\")\n",
    "    #engine.execute(query)\n",
    "    dataset.to_sql(table, con=engine, schema=PROJECT_SCHEMA, index=False,if_exists='replace',method='multi')\n",
    "    engine.dispose()\n",
    "    "
   ]
  },
  {
   "cell_type": "code",
   "execution_count": 12,
   "metadata": {
    "tags": []
   },
   "outputs": [],
   "source": [
    "def read_from_feature_store(POSTGRES_USERNAME,POSTGRES_PASSWORD,POSTGRES_ADDRESS,\n",
    "                       POSTGRES_PORT,POSTGRES_DBNAME,PROJECT_SCHEMA,table):\n",
    "    postgres_str = (f\"postgresql+psycopg2://{POSTGRES_USERNAME}:{POSTGRES_PASSWORD}@{POSTGRES_ADDRESS}:{POSTGRES_PORT}/{POSTGRES_DBNAME}\")\n",
    "    engine = create_engine(postgres_str)\n",
    "    df = pd.read_sql('SELECT * FROM {0}.{1}'.format(PROJECT_SCHEMA, table), engine)\n",
    "    engine.dispose()\n",
    "    return df\n",
    "\n",
    "#engine.dispose()    "
   ]
  },
  {
   "cell_type": "code",
   "execution_count": 14,
   "metadata": {
    "tags": [
     "block:setup"
    ]
   },
   "outputs": [
    {
     "name": "stdout",
     "output_type": "stream",
     "text": [
      "mlpipeline 2021-07-06 07:22:22.863000+00:00\n",
      "seldon 2021-07-06 07:22:20.971000+00:00\n"
     ]
    }
   ],
   "source": [
    "minioClient = get_minio()\n",
    "buckets = minioClient.list_buckets()\n",
    "for bucket in buckets:\n",
    "    print(bucket.name, bucket.creation_date)"
   ]
  },
  {
   "cell_type": "code",
   "execution_count": 15,
   "metadata": {
    "tags": []
   },
   "outputs": [],
   "source": [
    "if not minioClient.bucket_exists(MINIO_MODEL_BUCKET):\n",
    "    minioClient.make_bucket(MINIO_MODEL_BUCKET)"
   ]
  },
  {
   "cell_type": "markdown",
   "metadata": {
    "tags": []
   },
   "source": [
    "## Read the data"
   ]
  },
  {
   "cell_type": "code",
   "execution_count": 16,
   "metadata": {
    "tags": [
     "block:load_data",
     "prev:setup"
    ]
   },
   "outputs": [
    {
     "data": {
      "text/plain": [
       "(10001, 32)"
      ]
     },
     "execution_count": 16,
     "metadata": {},
     "output_type": "execute_result"
    }
   ],
   "source": [
    "#creditcard = pd.read_csv(file_name)\n",
    "#creditcard.shape"
   ]
  },
  {
   "cell_type": "code",
   "execution_count": 18,
   "metadata": {
    "tags": []
   },
   "outputs": [],
   "source": [
    "#creditcard_train = creditcard.iloc[:8000]\n",
    "#creditcard_inference = creditcard.iloc[8000:]"
   ]
  },
  {
   "cell_type": "code",
   "execution_count": 19,
   "metadata": {
    "tags": []
   },
   "outputs": [],
   "source": [
    "#creditcard_train[\"timestamp\"] = pd.Series([dt.datetime.now() - dt.timedelta(days = 1)] * creditcard_train.shape[0])\n",
    "#creditcard_inference = creditcard_inference.reset_index()\n",
    "#creditcard_inference[\"timestamp\"] = pd.Series([dt.datetime.now()] * creditcard_inference.shape[0])"
   ]
  },
  {
   "cell_type": "code",
   "execution_count": 20,
   "metadata": {
    "tags": []
   },
   "outputs": [
    {
     "data": {
      "text/plain": [
       "(8000, 33)"
      ]
     },
     "execution_count": 20,
     "metadata": {},
     "output_type": "execute_result"
    }
   ],
   "source": [
    "#creditcard_train.shape"
   ]
  },
  {
   "cell_type": "code",
   "execution_count": 21,
   "metadata": {
    "tags": []
   },
   "outputs": [
    {
     "data": {
      "text/plain": [
       "(2000, 34)"
      ]
     },
     "execution_count": 21,
     "metadata": {},
     "output_type": "execute_result"
    }
   ],
   "source": [
    "#creditcard_inference.shape"
   ]
  },
  {
   "cell_type": "code",
   "execution_count": 22,
   "metadata": {
    "tags": []
   },
   "outputs": [],
   "source": [
    "POSTGRES_PASSWORD = passwrd_parser(POSTGRES_PASSWORD)"
   ]
  },
  {
   "cell_type": "code",
   "execution_count": 23,
   "metadata": {
    "tags": []
   },
   "outputs": [],
   "source": [
    "#write_to_feature_store(POSTGRES_USERNAME,POSTGRES_PASSWORD,POSTGRES_ADDRESS,\n",
    "#                       POSTGRES_PORT,POSTGRES_DBNAME,PROJECT_SCHEMA,creditcard_train,TABLE_TRAIN)"
   ]
  },
  {
   "cell_type": "code",
   "execution_count": 24,
   "metadata": {
    "tags": []
   },
   "outputs": [],
   "source": [
    "#write_to_feature_store(POSTGRES_USERNAME,POSTGRES_PASSWORD,POSTGRES_ADDRESS,\n",
    "#                       POSTGRES_PORT,POSTGRES_DBNAME,PROJECT_SCHEMA,creditcard_inference,TABLE_INFERENCE)"
   ]
  },
  {
   "cell_type": "code",
   "execution_count": 25,
   "metadata": {
    "tags": []
   },
   "outputs": [
    {
     "data": {
      "text/plain": [
       "(8000, 32)"
      ]
     },
     "execution_count": 25,
     "metadata": {},
     "output_type": "execute_result"
    }
   ],
   "source": [
    "creditcard = read_from_feature_store(POSTGRES_USERNAME,POSTGRES_PASSWORD,POSTGRES_ADDRESS,POSTGRES_PORT,POSTGRES_DBNAME,\n",
    "                                     PROJECT_SCHEMA,TABLE_TRAIN)\n",
    "creditcard.pop('timestamp')\n",
    "creditcard.shape"
   ]
  },
  {
   "cell_type": "markdown",
   "metadata": {
    "tags": []
   },
   "source": [
    "## Check the data"
   ]
  },
  {
   "cell_type": "code",
   "execution_count": 26,
   "metadata": {
    "tags": []
   },
   "outputs": [
    {
     "name": "stdout",
     "output_type": "stream",
     "text": [
      "Credit Card Fraud Detection data -  rows: 8000  columns: 32\n"
     ]
    }
   ],
   "source": [
    "print(\"Credit Card Fraud Detection data -  rows:\",creditcard.shape[0],\" columns:\", creditcard.shape[1])"
   ]
  },
  {
   "cell_type": "markdown",
   "metadata": {
    "tags": []
   },
   "source": [
    "### Glimpse the data\n",
    "We start by looking to the data features (first 5 rows).\n",
    "\n"
   ]
  },
  {
   "cell_type": "code",
   "execution_count": 27,
   "metadata": {
    "tags": []
   },
   "outputs": [],
   "source": [
    "#creditcard.iloc[:10000].to_csv(\"creditcardnew.csv\", index=False)"
   ]
  },
  {
   "cell_type": "code",
   "execution_count": 28,
   "metadata": {
    "tags": []
   },
   "outputs": [
    {
     "data": {
      "text/html": [
       "<div>\n",
       "<style scoped>\n",
       "    .dataframe tbody tr th:only-of-type {\n",
       "        vertical-align: middle;\n",
       "    }\n",
       "\n",
       "    .dataframe tbody tr th {\n",
       "        vertical-align: top;\n",
       "    }\n",
       "\n",
       "    .dataframe thead th {\n",
       "        text-align: right;\n",
       "    }\n",
       "</style>\n",
       "<table border=\"1\" class=\"dataframe\">\n",
       "  <thead>\n",
       "    <tr style=\"text-align: right;\">\n",
       "      <th></th>\n",
       "      <th>Time</th>\n",
       "      <th>V1</th>\n",
       "      <th>V2</th>\n",
       "      <th>V3</th>\n",
       "      <th>V4</th>\n",
       "      <th>V5</th>\n",
       "      <th>V6</th>\n",
       "      <th>V7</th>\n",
       "      <th>V8</th>\n",
       "      <th>V9</th>\n",
       "      <th>V10</th>\n",
       "      <th>V11</th>\n",
       "      <th>V12</th>\n",
       "      <th>V13</th>\n",
       "      <th>V14</th>\n",
       "      <th>V15</th>\n",
       "      <th>V16</th>\n",
       "      <th>V17</th>\n",
       "      <th>V18</th>\n",
       "      <th>V19</th>\n",
       "      <th>V20</th>\n",
       "      <th>V21</th>\n",
       "      <th>V22</th>\n",
       "      <th>V23</th>\n",
       "      <th>V24</th>\n",
       "      <th>V25</th>\n",
       "      <th>V26</th>\n",
       "      <th>V27</th>\n",
       "      <th>V28</th>\n",
       "      <th>Amount</th>\n",
       "      <th>Class</th>\n",
       "      <th>Hour</th>\n",
       "    </tr>\n",
       "  </thead>\n",
       "  <tbody>\n",
       "    <tr>\n",
       "      <th>0</th>\n",
       "      <td>0.0</td>\n",
       "      <td>-1.3598071336738</td>\n",
       "      <td>-0.072781</td>\n",
       "      <td>2.536347</td>\n",
       "      <td>1.378155</td>\n",
       "      <td>-0.338321</td>\n",
       "      <td>0.462388</td>\n",
       "      <td>0.239599</td>\n",
       "      <td>0.098698</td>\n",
       "      <td>0.363787</td>\n",
       "      <td>0.090794</td>\n",
       "      <td>-0.551600</td>\n",
       "      <td>-0.617801</td>\n",
       "      <td>-0.991390</td>\n",
       "      <td>-0.311169</td>\n",
       "      <td>1.468177</td>\n",
       "      <td>-0.470401</td>\n",
       "      <td>0.207971</td>\n",
       "      <td>0.025791</td>\n",
       "      <td>0.403993</td>\n",
       "      <td>0.251412</td>\n",
       "      <td>-0.018307</td>\n",
       "      <td>0.277838</td>\n",
       "      <td>-0.110474</td>\n",
       "      <td>0.066928</td>\n",
       "      <td>0.128539</td>\n",
       "      <td>-0.189115</td>\n",
       "      <td>0.133558</td>\n",
       "      <td>-0.021053</td>\n",
       "      <td>149.62</td>\n",
       "      <td>0.0</td>\n",
       "      <td>0.0</td>\n",
       "    </tr>\n",
       "    <tr>\n",
       "      <th>1</th>\n",
       "      <td>0.0</td>\n",
       "      <td>1.1918571113148602</td>\n",
       "      <td>0.266151</td>\n",
       "      <td>0.166480</td>\n",
       "      <td>0.448154</td>\n",
       "      <td>0.060018</td>\n",
       "      <td>-0.082361</td>\n",
       "      <td>-0.078803</td>\n",
       "      <td>0.085102</td>\n",
       "      <td>-0.255425</td>\n",
       "      <td>-0.166974</td>\n",
       "      <td>1.612727</td>\n",
       "      <td>1.065235</td>\n",
       "      <td>0.489095</td>\n",
       "      <td>-0.143772</td>\n",
       "      <td>0.635558</td>\n",
       "      <td>0.463917</td>\n",
       "      <td>-0.114805</td>\n",
       "      <td>-0.183361</td>\n",
       "      <td>-0.145783</td>\n",
       "      <td>-0.069083</td>\n",
       "      <td>-0.225775</td>\n",
       "      <td>-0.638672</td>\n",
       "      <td>0.101288</td>\n",
       "      <td>-0.339846</td>\n",
       "      <td>0.167170</td>\n",
       "      <td>0.125895</td>\n",
       "      <td>-0.008983</td>\n",
       "      <td>0.014724</td>\n",
       "      <td>2.69</td>\n",
       "      <td>0.0</td>\n",
       "      <td>0.0</td>\n",
       "    </tr>\n",
       "    <tr>\n",
       "      <th>2</th>\n",
       "      <td>1.0</td>\n",
       "      <td>-1.35835406159823</td>\n",
       "      <td>-1.340163</td>\n",
       "      <td>1.773209</td>\n",
       "      <td>0.379780</td>\n",
       "      <td>-0.503198</td>\n",
       "      <td>1.800499</td>\n",
       "      <td>0.791461</td>\n",
       "      <td>0.247676</td>\n",
       "      <td>-1.514654</td>\n",
       "      <td>0.207643</td>\n",
       "      <td>0.624501</td>\n",
       "      <td>0.066084</td>\n",
       "      <td>0.717293</td>\n",
       "      <td>-0.165946</td>\n",
       "      <td>2.345865</td>\n",
       "      <td>-2.890083</td>\n",
       "      <td>1.109969</td>\n",
       "      <td>-0.121359</td>\n",
       "      <td>-2.261857</td>\n",
       "      <td>0.524980</td>\n",
       "      <td>0.247998</td>\n",
       "      <td>0.771679</td>\n",
       "      <td>0.909412</td>\n",
       "      <td>-0.689281</td>\n",
       "      <td>-0.327642</td>\n",
       "      <td>-0.139097</td>\n",
       "      <td>-0.055353</td>\n",
       "      <td>-0.059752</td>\n",
       "      <td>378.66</td>\n",
       "      <td>0.0</td>\n",
       "      <td>0.0</td>\n",
       "    </tr>\n",
       "    <tr>\n",
       "      <th>3</th>\n",
       "      <td>1.0</td>\n",
       "      <td>-0.9662717115720871</td>\n",
       "      <td>-0.185226</td>\n",
       "      <td>1.792993</td>\n",
       "      <td>-0.863291</td>\n",
       "      <td>-0.010309</td>\n",
       "      <td>1.247203</td>\n",
       "      <td>0.237609</td>\n",
       "      <td>0.377436</td>\n",
       "      <td>-1.387024</td>\n",
       "      <td>-0.054952</td>\n",
       "      <td>-0.226487</td>\n",
       "      <td>0.178228</td>\n",
       "      <td>0.507757</td>\n",
       "      <td>-0.287924</td>\n",
       "      <td>-0.631418</td>\n",
       "      <td>-1.059647</td>\n",
       "      <td>-0.684093</td>\n",
       "      <td>1.965775</td>\n",
       "      <td>-1.232622</td>\n",
       "      <td>-0.208038</td>\n",
       "      <td>-0.108300</td>\n",
       "      <td>0.005274</td>\n",
       "      <td>-0.190321</td>\n",
       "      <td>-1.175575</td>\n",
       "      <td>0.647376</td>\n",
       "      <td>-0.221929</td>\n",
       "      <td>0.062723</td>\n",
       "      <td>0.061458</td>\n",
       "      <td>123.50</td>\n",
       "      <td>0.0</td>\n",
       "      <td>0.0</td>\n",
       "    </tr>\n",
       "    <tr>\n",
       "      <th>4</th>\n",
       "      <td>2.0</td>\n",
       "      <td>-1.1582330934952298</td>\n",
       "      <td>0.877737</td>\n",
       "      <td>1.548718</td>\n",
       "      <td>0.403034</td>\n",
       "      <td>-0.407193</td>\n",
       "      <td>0.095921</td>\n",
       "      <td>0.592941</td>\n",
       "      <td>-0.270533</td>\n",
       "      <td>0.817739</td>\n",
       "      <td>0.753074</td>\n",
       "      <td>-0.822843</td>\n",
       "      <td>0.538196</td>\n",
       "      <td>1.345852</td>\n",
       "      <td>-1.119670</td>\n",
       "      <td>0.175121</td>\n",
       "      <td>-0.451449</td>\n",
       "      <td>-0.237033</td>\n",
       "      <td>-0.038195</td>\n",
       "      <td>0.803487</td>\n",
       "      <td>0.408542</td>\n",
       "      <td>-0.009431</td>\n",
       "      <td>0.798278</td>\n",
       "      <td>-0.137458</td>\n",
       "      <td>0.141267</td>\n",
       "      <td>-0.206010</td>\n",
       "      <td>0.502292</td>\n",
       "      <td>0.219422</td>\n",
       "      <td>0.215153</td>\n",
       "      <td>69.99</td>\n",
       "      <td>0.0</td>\n",
       "      <td>0.0</td>\n",
       "    </tr>\n",
       "  </tbody>\n",
       "</table>\n",
       "</div>"
      ],
      "text/plain": [
       "  Time                   V1        V2        V3        V4        V5        V6  \\\n",
       "0  0.0     -1.3598071336738 -0.072781  2.536347  1.378155 -0.338321  0.462388   \n",
       "1  0.0   1.1918571113148602  0.266151  0.166480  0.448154  0.060018 -0.082361   \n",
       "2  1.0    -1.35835406159823 -1.340163  1.773209  0.379780 -0.503198  1.800499   \n",
       "3  1.0  -0.9662717115720871 -0.185226  1.792993 -0.863291 -0.010309  1.247203   \n",
       "4  2.0  -1.1582330934952298  0.877737  1.548718  0.403034 -0.407193  0.095921   \n",
       "\n",
       "         V7        V8        V9       V10       V11       V12       V13  \\\n",
       "0  0.239599  0.098698  0.363787  0.090794 -0.551600 -0.617801 -0.991390   \n",
       "1 -0.078803  0.085102 -0.255425 -0.166974  1.612727  1.065235  0.489095   \n",
       "2  0.791461  0.247676 -1.514654  0.207643  0.624501  0.066084  0.717293   \n",
       "3  0.237609  0.377436 -1.387024 -0.054952 -0.226487  0.178228  0.507757   \n",
       "4  0.592941 -0.270533  0.817739  0.753074 -0.822843  0.538196  1.345852   \n",
       "\n",
       "        V14       V15       V16       V17       V18       V19       V20  \\\n",
       "0 -0.311169  1.468177 -0.470401  0.207971  0.025791  0.403993  0.251412   \n",
       "1 -0.143772  0.635558  0.463917 -0.114805 -0.183361 -0.145783 -0.069083   \n",
       "2 -0.165946  2.345865 -2.890083  1.109969 -0.121359 -2.261857  0.524980   \n",
       "3 -0.287924 -0.631418 -1.059647 -0.684093  1.965775 -1.232622 -0.208038   \n",
       "4 -1.119670  0.175121 -0.451449 -0.237033 -0.038195  0.803487  0.408542   \n",
       "\n",
       "        V21       V22       V23       V24       V25       V26       V27  \\\n",
       "0 -0.018307  0.277838 -0.110474  0.066928  0.128539 -0.189115  0.133558   \n",
       "1 -0.225775 -0.638672  0.101288 -0.339846  0.167170  0.125895 -0.008983   \n",
       "2  0.247998  0.771679  0.909412 -0.689281 -0.327642 -0.139097 -0.055353   \n",
       "3 -0.108300  0.005274 -0.190321 -1.175575  0.647376 -0.221929  0.062723   \n",
       "4 -0.009431  0.798278 -0.137458  0.141267 -0.206010  0.502292  0.219422   \n",
       "\n",
       "        V28  Amount  Class  Hour  \n",
       "0 -0.021053  149.62    0.0   0.0  \n",
       "1  0.014724    2.69    0.0   0.0  \n",
       "2 -0.059752  378.66    0.0   0.0  \n",
       "3  0.061458  123.50    0.0   0.0  \n",
       "4  0.215153   69.99    0.0   0.0  "
      ]
     },
     "execution_count": 28,
     "metadata": {},
     "output_type": "execute_result"
    }
   ],
   "source": [
    "creditcard.head()"
   ]
  },
  {
   "cell_type": "markdown",
   "metadata": {
    "tags": []
   },
   "source": [
    "Let's look into more details to the data.\n",
    "\n"
   ]
  },
  {
   "cell_type": "code",
   "execution_count": 29,
   "metadata": {
    "tags": [
     "block:preprocessing",
     "prev:load_data"
    ]
   },
   "outputs": [
    {
     "data": {
      "text/html": [
       "<div>\n",
       "<style scoped>\n",
       "    .dataframe tbody tr th:only-of-type {\n",
       "        vertical-align: middle;\n",
       "    }\n",
       "\n",
       "    .dataframe tbody tr th {\n",
       "        vertical-align: top;\n",
       "    }\n",
       "\n",
       "    .dataframe thead th {\n",
       "        text-align: right;\n",
       "    }\n",
       "</style>\n",
       "<table border=\"1\" class=\"dataframe\">\n",
       "  <thead>\n",
       "    <tr style=\"text-align: right;\">\n",
       "      <th></th>\n",
       "      <th>V2</th>\n",
       "      <th>V3</th>\n",
       "      <th>V4</th>\n",
       "      <th>V5</th>\n",
       "      <th>V6</th>\n",
       "      <th>V7</th>\n",
       "      <th>V8</th>\n",
       "      <th>V9</th>\n",
       "      <th>V10</th>\n",
       "      <th>V11</th>\n",
       "      <th>V12</th>\n",
       "      <th>V13</th>\n",
       "      <th>V14</th>\n",
       "      <th>V15</th>\n",
       "      <th>V16</th>\n",
       "      <th>V17</th>\n",
       "      <th>V18</th>\n",
       "      <th>V19</th>\n",
       "      <th>V20</th>\n",
       "      <th>V21</th>\n",
       "      <th>V22</th>\n",
       "      <th>V23</th>\n",
       "      <th>V24</th>\n",
       "      <th>V25</th>\n",
       "      <th>V26</th>\n",
       "      <th>V27</th>\n",
       "      <th>V28</th>\n",
       "      <th>Amount</th>\n",
       "      <th>Class</th>\n",
       "      <th>Hour</th>\n",
       "    </tr>\n",
       "  </thead>\n",
       "  <tbody>\n",
       "    <tr>\n",
       "      <th>count</th>\n",
       "      <td>8000.000000</td>\n",
       "      <td>8000.000000</td>\n",
       "      <td>8000.000000</td>\n",
       "      <td>8000.000000</td>\n",
       "      <td>8000.000000</td>\n",
       "      <td>8000.000000</td>\n",
       "      <td>8000.000000</td>\n",
       "      <td>8000.000000</td>\n",
       "      <td>8000.000000</td>\n",
       "      <td>8000.000000</td>\n",
       "      <td>8000.000000</td>\n",
       "      <td>8000.000000</td>\n",
       "      <td>8000.000000</td>\n",
       "      <td>8000.000000</td>\n",
       "      <td>8000.000000</td>\n",
       "      <td>8000.000000</td>\n",
       "      <td>8000.000000</td>\n",
       "      <td>8000.000000</td>\n",
       "      <td>8000.000000</td>\n",
       "      <td>8000.000000</td>\n",
       "      <td>8000.000000</td>\n",
       "      <td>8000.000000</td>\n",
       "      <td>8000.000000</td>\n",
       "      <td>8000.000000</td>\n",
       "      <td>8000.000000</td>\n",
       "      <td>8000.000000</td>\n",
       "      <td>8000.000000</td>\n",
       "      <td>8000.000000</td>\n",
       "      <td>8000.000000</td>\n",
       "      <td>8000.000000</td>\n",
       "    </tr>\n",
       "    <tr>\n",
       "      <th>mean</th>\n",
       "      <td>0.293426</td>\n",
       "      <td>0.899338</td>\n",
       "      <td>0.214664</td>\n",
       "      <td>-0.025540</td>\n",
       "      <td>0.155782</td>\n",
       "      <td>-0.027891</td>\n",
       "      <td>-0.070411</td>\n",
       "      <td>0.657716</td>\n",
       "      <td>-0.164745</td>\n",
       "      <td>0.639176</td>\n",
       "      <td>-1.026353</td>\n",
       "      <td>0.693202</td>\n",
       "      <td>0.564729</td>\n",
       "      <td>-0.068434</td>\n",
       "      <td>-0.033213</td>\n",
       "      <td>0.278797</td>\n",
       "      <td>-0.058485</td>\n",
       "      <td>-0.055349</td>\n",
       "      <td>0.042946</td>\n",
       "      <td>-0.053775</td>\n",
       "      <td>-0.165255</td>\n",
       "      <td>-0.035068</td>\n",
       "      <td>0.025745</td>\n",
       "      <td>0.089043</td>\n",
       "      <td>0.023055</td>\n",
       "      <td>0.015576</td>\n",
       "      <td>0.001087</td>\n",
       "      <td>65.269011</td>\n",
       "      <td>0.003125</td>\n",
       "      <td>0.762625</td>\n",
       "    </tr>\n",
       "    <tr>\n",
       "      <th>std</th>\n",
       "      <td>1.283308</td>\n",
       "      <td>1.089313</td>\n",
       "      <td>1.444948</td>\n",
       "      <td>1.168362</td>\n",
       "      <td>1.323233</td>\n",
       "      <td>1.062697</td>\n",
       "      <td>1.330436</td>\n",
       "      <td>1.155789</td>\n",
       "      <td>1.082961</td>\n",
       "      <td>1.132368</td>\n",
       "      <td>1.509744</td>\n",
       "      <td>1.237561</td>\n",
       "      <td>1.137268</td>\n",
       "      <td>0.982446</td>\n",
       "      <td>0.841912</td>\n",
       "      <td>0.851273</td>\n",
       "      <td>0.791245</td>\n",
       "      <td>0.810957</td>\n",
       "      <td>0.604935</td>\n",
       "      <td>0.951846</td>\n",
       "      <td>0.654163</td>\n",
       "      <td>0.487899</td>\n",
       "      <td>0.601637</td>\n",
       "      <td>0.427164</td>\n",
       "      <td>0.519302</td>\n",
       "      <td>0.403294</td>\n",
       "      <td>0.275646</td>\n",
       "      <td>194.592277</td>\n",
       "      <td>0.055818</td>\n",
       "      <td>0.870703</td>\n",
       "    </tr>\n",
       "    <tr>\n",
       "      <th>min</th>\n",
       "      <td>-25.640527</td>\n",
       "      <td>-12.389545</td>\n",
       "      <td>-4.657545</td>\n",
       "      <td>-32.092129</td>\n",
       "      <td>-7.574798</td>\n",
       "      <td>-12.968670</td>\n",
       "      <td>-23.632502</td>\n",
       "      <td>-3.878658</td>\n",
       "      <td>-7.454841</td>\n",
       "      <td>-2.595325</td>\n",
       "      <td>-10.912819</td>\n",
       "      <td>-3.389510</td>\n",
       "      <td>-11.736729</td>\n",
       "      <td>-4.152532</td>\n",
       "      <td>-7.552342</td>\n",
       "      <td>-12.598419</td>\n",
       "      <td>-5.131549</td>\n",
       "      <td>-4.932733</td>\n",
       "      <td>-13.276034</td>\n",
       "      <td>-11.468435</td>\n",
       "      <td>-8.527145</td>\n",
       "      <td>-15.144340</td>\n",
       "      <td>-2.512377</td>\n",
       "      <td>-2.577363</td>\n",
       "      <td>-1.338556</td>\n",
       "      <td>-7.976100</td>\n",
       "      <td>-3.054085</td>\n",
       "      <td>0.000000</td>\n",
       "      <td>0.000000</td>\n",
       "      <td>0.000000</td>\n",
       "    </tr>\n",
       "    <tr>\n",
       "      <th>25%</th>\n",
       "      <td>-0.235993</td>\n",
       "      <td>0.373147</td>\n",
       "      <td>-0.685654</td>\n",
       "      <td>-0.631885</td>\n",
       "      <td>-0.654169</td>\n",
       "      <td>-0.519372</td>\n",
       "      <td>-0.199267</td>\n",
       "      <td>-0.082667</td>\n",
       "      <td>-0.672732</td>\n",
       "      <td>-0.161961</td>\n",
       "      <td>-2.275696</td>\n",
       "      <td>-0.209944</td>\n",
       "      <td>-0.047510</td>\n",
       "      <td>-0.653889</td>\n",
       "      <td>-0.545975</td>\n",
       "      <td>-0.258486</td>\n",
       "      <td>-0.504811</td>\n",
       "      <td>-0.546957</td>\n",
       "      <td>-0.147240</td>\n",
       "      <td>-0.271462</td>\n",
       "      <td>-0.580474</td>\n",
       "      <td>-0.182788</td>\n",
       "      <td>-0.340506</td>\n",
       "      <td>-0.160363</td>\n",
       "      <td>-0.361729</td>\n",
       "      <td>-0.064121</td>\n",
       "      <td>-0.018995</td>\n",
       "      <td>4.675000</td>\n",
       "      <td>0.000000</td>\n",
       "      <td>0.000000</td>\n",
       "    </tr>\n",
       "    <tr>\n",
       "      <th>50%</th>\n",
       "      <td>0.332122</td>\n",
       "      <td>0.947504</td>\n",
       "      <td>0.220104</td>\n",
       "      <td>-0.107874</td>\n",
       "      <td>-0.150798</td>\n",
       "      <td>0.003556</td>\n",
       "      <td>0.015608</td>\n",
       "      <td>0.616458</td>\n",
       "      <td>-0.260083</td>\n",
       "      <td>0.626849</td>\n",
       "      <td>-1.061161</td>\n",
       "      <td>0.714290</td>\n",
       "      <td>0.569912</td>\n",
       "      <td>0.055018</td>\n",
       "      <td>0.027022</td>\n",
       "      <td>0.237113</td>\n",
       "      <td>-0.025932</td>\n",
       "      <td>-0.050557</td>\n",
       "      <td>-0.007679</td>\n",
       "      <td>-0.129269</td>\n",
       "      <td>-0.163764</td>\n",
       "      <td>-0.046340</td>\n",
       "      <td>0.088791</td>\n",
       "      <td>0.116439</td>\n",
       "      <td>-0.011900</td>\n",
       "      <td>0.006538</td>\n",
       "      <td>0.018361</td>\n",
       "      <td>15.950000</td>\n",
       "      <td>0.000000</td>\n",
       "      <td>1.000000</td>\n",
       "    </tr>\n",
       "    <tr>\n",
       "      <th>75%</th>\n",
       "      <td>0.947613</td>\n",
       "      <td>1.597241</td>\n",
       "      <td>1.127600</td>\n",
       "      <td>0.404580</td>\n",
       "      <td>0.548985</td>\n",
       "      <td>0.526695</td>\n",
       "      <td>0.305712</td>\n",
       "      <td>1.300277</td>\n",
       "      <td>0.242759</td>\n",
       "      <td>1.423623</td>\n",
       "      <td>0.301357</td>\n",
       "      <td>1.641521</td>\n",
       "      <td>1.404095</td>\n",
       "      <td>0.594866</td>\n",
       "      <td>0.523045</td>\n",
       "      <td>0.750677</td>\n",
       "      <td>0.418391</td>\n",
       "      <td>0.467915</td>\n",
       "      <td>0.172784</td>\n",
       "      <td>0.044328</td>\n",
       "      <td>0.250886</td>\n",
       "      <td>0.086008</td>\n",
       "      <td>0.421131</td>\n",
       "      <td>0.361012</td>\n",
       "      <td>0.333674</td>\n",
       "      <td>0.143984</td>\n",
       "      <td>0.080517</td>\n",
       "      <td>54.650000</td>\n",
       "      <td>0.000000</td>\n",
       "      <td>1.000000</td>\n",
       "    </tr>\n",
       "    <tr>\n",
       "      <th>max</th>\n",
       "      <td>8.261750</td>\n",
       "      <td>4.101716</td>\n",
       "      <td>7.380245</td>\n",
       "      <td>11.974269</td>\n",
       "      <td>21.393069</td>\n",
       "      <td>34.303177</td>\n",
       "      <td>3.877662</td>\n",
       "      <td>10.392889</td>\n",
       "      <td>12.259949</td>\n",
       "      <td>7.620089</td>\n",
       "      <td>3.774837</td>\n",
       "      <td>4.465413</td>\n",
       "      <td>5.748734</td>\n",
       "      <td>3.635042</td>\n",
       "      <td>4.087802</td>\n",
       "      <td>6.739384</td>\n",
       "      <td>3.042493</td>\n",
       "      <td>3.097749</td>\n",
       "      <td>8.012574</td>\n",
       "      <td>22.588989</td>\n",
       "      <td>4.534454</td>\n",
       "      <td>13.876221</td>\n",
       "      <td>3.200201</td>\n",
       "      <td>5.525093</td>\n",
       "      <td>3.517346</td>\n",
       "      <td>4.173387</td>\n",
       "      <td>4.860769</td>\n",
       "      <td>7712.430000</td>\n",
       "      <td>1.000000</td>\n",
       "      <td>3.000000</td>\n",
       "    </tr>\n",
       "  </tbody>\n",
       "</table>\n",
       "</div>"
      ],
      "text/plain": [
       "                V2           V3           V4           V5           V6  \\\n",
       "count  8000.000000  8000.000000  8000.000000  8000.000000  8000.000000   \n",
       "mean      0.293426     0.899338     0.214664    -0.025540     0.155782   \n",
       "std       1.283308     1.089313     1.444948     1.168362     1.323233   \n",
       "min     -25.640527   -12.389545    -4.657545   -32.092129    -7.574798   \n",
       "25%      -0.235993     0.373147    -0.685654    -0.631885    -0.654169   \n",
       "50%       0.332122     0.947504     0.220104    -0.107874    -0.150798   \n",
       "75%       0.947613     1.597241     1.127600     0.404580     0.548985   \n",
       "max       8.261750     4.101716     7.380245    11.974269    21.393069   \n",
       "\n",
       "                V7           V8           V9          V10          V11  \\\n",
       "count  8000.000000  8000.000000  8000.000000  8000.000000  8000.000000   \n",
       "mean     -0.027891    -0.070411     0.657716    -0.164745     0.639176   \n",
       "std       1.062697     1.330436     1.155789     1.082961     1.132368   \n",
       "min     -12.968670   -23.632502    -3.878658    -7.454841    -2.595325   \n",
       "25%      -0.519372    -0.199267    -0.082667    -0.672732    -0.161961   \n",
       "50%       0.003556     0.015608     0.616458    -0.260083     0.626849   \n",
       "75%       0.526695     0.305712     1.300277     0.242759     1.423623   \n",
       "max      34.303177     3.877662    10.392889    12.259949     7.620089   \n",
       "\n",
       "               V12          V13          V14          V15          V16  \\\n",
       "count  8000.000000  8000.000000  8000.000000  8000.000000  8000.000000   \n",
       "mean     -1.026353     0.693202     0.564729    -0.068434    -0.033213   \n",
       "std       1.509744     1.237561     1.137268     0.982446     0.841912   \n",
       "min     -10.912819    -3.389510   -11.736729    -4.152532    -7.552342   \n",
       "25%      -2.275696    -0.209944    -0.047510    -0.653889    -0.545975   \n",
       "50%      -1.061161     0.714290     0.569912     0.055018     0.027022   \n",
       "75%       0.301357     1.641521     1.404095     0.594866     0.523045   \n",
       "max       3.774837     4.465413     5.748734     3.635042     4.087802   \n",
       "\n",
       "               V17          V18          V19          V20          V21  \\\n",
       "count  8000.000000  8000.000000  8000.000000  8000.000000  8000.000000   \n",
       "mean      0.278797    -0.058485    -0.055349     0.042946    -0.053775   \n",
       "std       0.851273     0.791245     0.810957     0.604935     0.951846   \n",
       "min     -12.598419    -5.131549    -4.932733   -13.276034   -11.468435   \n",
       "25%      -0.258486    -0.504811    -0.546957    -0.147240    -0.271462   \n",
       "50%       0.237113    -0.025932    -0.050557    -0.007679    -0.129269   \n",
       "75%       0.750677     0.418391     0.467915     0.172784     0.044328   \n",
       "max       6.739384     3.042493     3.097749     8.012574    22.588989   \n",
       "\n",
       "               V22          V23          V24          V25          V26  \\\n",
       "count  8000.000000  8000.000000  8000.000000  8000.000000  8000.000000   \n",
       "mean     -0.165255    -0.035068     0.025745     0.089043     0.023055   \n",
       "std       0.654163     0.487899     0.601637     0.427164     0.519302   \n",
       "min      -8.527145   -15.144340    -2.512377    -2.577363    -1.338556   \n",
       "25%      -0.580474    -0.182788    -0.340506    -0.160363    -0.361729   \n",
       "50%      -0.163764    -0.046340     0.088791     0.116439    -0.011900   \n",
       "75%       0.250886     0.086008     0.421131     0.361012     0.333674   \n",
       "max       4.534454    13.876221     3.200201     5.525093     3.517346   \n",
       "\n",
       "               V27          V28       Amount        Class         Hour  \n",
       "count  8000.000000  8000.000000  8000.000000  8000.000000  8000.000000  \n",
       "mean      0.015576     0.001087    65.269011     0.003125     0.762625  \n",
       "std       0.403294     0.275646   194.592277     0.055818     0.870703  \n",
       "min      -7.976100    -3.054085     0.000000     0.000000     0.000000  \n",
       "25%      -0.064121    -0.018995     4.675000     0.000000     0.000000  \n",
       "50%       0.006538     0.018361    15.950000     0.000000     1.000000  \n",
       "75%       0.143984     0.080517    54.650000     0.000000     1.000000  \n",
       "max       4.173387     4.860769  7712.430000     1.000000     3.000000  "
      ]
     },
     "execution_count": 29,
     "metadata": {},
     "output_type": "execute_result"
    }
   ],
   "source": [
    "creditcard.describe()"
   ]
  },
  {
   "cell_type": "markdown",
   "metadata": {
    "tags": []
   },
   "source": [
    "Looking to the Time feature, we can confirm that the data contains 284,807 transactions, during 2 consecutive days (or 172792 seconds).\n",
    "\n",
    "### Check missing data\n",
    "Let's check if there is any missing data."
   ]
  },
  {
   "cell_type": "code",
   "execution_count": 30,
   "metadata": {
    "tags": [
     "block:missing_value",
     "prev:preprocessing"
    ]
   },
   "outputs": [
    {
     "data": {
      "text/html": [
       "<div>\n",
       "<style scoped>\n",
       "    .dataframe tbody tr th:only-of-type {\n",
       "        vertical-align: middle;\n",
       "    }\n",
       "\n",
       "    .dataframe tbody tr th {\n",
       "        vertical-align: top;\n",
       "    }\n",
       "\n",
       "    .dataframe thead th {\n",
       "        text-align: right;\n",
       "    }\n",
       "</style>\n",
       "<table border=\"1\" class=\"dataframe\">\n",
       "  <thead>\n",
       "    <tr style=\"text-align: right;\">\n",
       "      <th></th>\n",
       "      <th>Time</th>\n",
       "      <th>V1</th>\n",
       "      <th>Class</th>\n",
       "      <th>Amount</th>\n",
       "      <th>V28</th>\n",
       "      <th>V27</th>\n",
       "      <th>V26</th>\n",
       "      <th>V25</th>\n",
       "      <th>V24</th>\n",
       "      <th>V23</th>\n",
       "      <th>V22</th>\n",
       "      <th>V21</th>\n",
       "      <th>V20</th>\n",
       "      <th>V19</th>\n",
       "      <th>V18</th>\n",
       "      <th>V17</th>\n",
       "      <th>V16</th>\n",
       "      <th>V15</th>\n",
       "      <th>V14</th>\n",
       "      <th>V13</th>\n",
       "      <th>V12</th>\n",
       "      <th>V11</th>\n",
       "      <th>V10</th>\n",
       "      <th>V9</th>\n",
       "      <th>V8</th>\n",
       "      <th>V7</th>\n",
       "      <th>V6</th>\n",
       "      <th>V5</th>\n",
       "      <th>V4</th>\n",
       "      <th>V3</th>\n",
       "      <th>V2</th>\n",
       "      <th>Hour</th>\n",
       "    </tr>\n",
       "  </thead>\n",
       "  <tbody>\n",
       "    <tr>\n",
       "      <th>Total</th>\n",
       "      <td>0.0</td>\n",
       "      <td>0.0</td>\n",
       "      <td>0.0</td>\n",
       "      <td>0.0</td>\n",
       "      <td>0.0</td>\n",
       "      <td>0.0</td>\n",
       "      <td>0.0</td>\n",
       "      <td>0.0</td>\n",
       "      <td>0.0</td>\n",
       "      <td>0.0</td>\n",
       "      <td>0.0</td>\n",
       "      <td>0.0</td>\n",
       "      <td>0.0</td>\n",
       "      <td>0.0</td>\n",
       "      <td>0.0</td>\n",
       "      <td>0.0</td>\n",
       "      <td>0.0</td>\n",
       "      <td>0.0</td>\n",
       "      <td>0.0</td>\n",
       "      <td>0.0</td>\n",
       "      <td>0.0</td>\n",
       "      <td>0.0</td>\n",
       "      <td>0.0</td>\n",
       "      <td>0.0</td>\n",
       "      <td>0.0</td>\n",
       "      <td>0.0</td>\n",
       "      <td>0.0</td>\n",
       "      <td>0.0</td>\n",
       "      <td>0.0</td>\n",
       "      <td>0.0</td>\n",
       "      <td>0.0</td>\n",
       "      <td>0.0</td>\n",
       "    </tr>\n",
       "    <tr>\n",
       "      <th>Percent</th>\n",
       "      <td>0.0</td>\n",
       "      <td>0.0</td>\n",
       "      <td>0.0</td>\n",
       "      <td>0.0</td>\n",
       "      <td>0.0</td>\n",
       "      <td>0.0</td>\n",
       "      <td>0.0</td>\n",
       "      <td>0.0</td>\n",
       "      <td>0.0</td>\n",
       "      <td>0.0</td>\n",
       "      <td>0.0</td>\n",
       "      <td>0.0</td>\n",
       "      <td>0.0</td>\n",
       "      <td>0.0</td>\n",
       "      <td>0.0</td>\n",
       "      <td>0.0</td>\n",
       "      <td>0.0</td>\n",
       "      <td>0.0</td>\n",
       "      <td>0.0</td>\n",
       "      <td>0.0</td>\n",
       "      <td>0.0</td>\n",
       "      <td>0.0</td>\n",
       "      <td>0.0</td>\n",
       "      <td>0.0</td>\n",
       "      <td>0.0</td>\n",
       "      <td>0.0</td>\n",
       "      <td>0.0</td>\n",
       "      <td>0.0</td>\n",
       "      <td>0.0</td>\n",
       "      <td>0.0</td>\n",
       "      <td>0.0</td>\n",
       "      <td>0.0</td>\n",
       "    </tr>\n",
       "  </tbody>\n",
       "</table>\n",
       "</div>"
      ],
      "text/plain": [
       "         Time   V1  Class  Amount  V28  V27  V26  V25  V24  V23  V22  V21  \\\n",
       "Total     0.0  0.0    0.0     0.0  0.0  0.0  0.0  0.0  0.0  0.0  0.0  0.0   \n",
       "Percent   0.0  0.0    0.0     0.0  0.0  0.0  0.0  0.0  0.0  0.0  0.0  0.0   \n",
       "\n",
       "         V20  V19  V18  V17  V16  V15  V14  V13  V12  V11  V10   V9   V8   V7  \\\n",
       "Total    0.0  0.0  0.0  0.0  0.0  0.0  0.0  0.0  0.0  0.0  0.0  0.0  0.0  0.0   \n",
       "Percent  0.0  0.0  0.0  0.0  0.0  0.0  0.0  0.0  0.0  0.0  0.0  0.0  0.0  0.0   \n",
       "\n",
       "          V6   V5   V4   V3   V2  Hour  \n",
       "Total    0.0  0.0  0.0  0.0  0.0   0.0  \n",
       "Percent  0.0  0.0  0.0  0.0  0.0   0.0  "
      ]
     },
     "execution_count": 30,
     "metadata": {},
     "output_type": "execute_result"
    }
   ],
   "source": [
    "total = creditcard.isnull().sum().sort_values(ascending = False)\n",
    "percent = (creditcard.isnull().sum()/creditcard.isnull().count()*100).sort_values(ascending = False)\n",
    "pd.concat([total, percent], axis=1, keys=['Total', 'Percent']).transpose()"
   ]
  },
  {
   "cell_type": "markdown",
   "metadata": {
    "tags": []
   },
   "source": [
    "There is no missing data in the entire dataset.\n",
    "### Data unbalance\n",
    "Let's check data unbalance with respect with target value, i.e. Class."
   ]
  },
  {
   "cell_type": "code",
   "execution_count": 31,
   "metadata": {
    "tags": []
   },
   "outputs": [],
   "source": [
    "# temp = creditcard[\"Class\"].value_counts()\n",
    "# df = pd.DataFrame({'Class': temp.index,'values': temp.values})\n",
    "\n",
    "# trace = go.Bar(\n",
    "#     x = df['Class'],y = df['values'],\n",
    "#     name=\"Credit Card Fraud Class - data unbalance (Not fraud = 0, Fraud = 1)\",\n",
    "#     marker=dict(color=\"Red\"),\n",
    "#     text=df['values']\n",
    "# )\n",
    "# data = [trace]\n",
    "# layout = dict(title = 'Credit Card Fraud Class - data unbalance (Not fraud = 0, Fraud = 1)',\n",
    "#           xaxis = dict(title = 'Class', showticklabels=True), \n",
    "#           yaxis = dict(title = 'Number of transactions'),\n",
    "#           hovermode = 'closest',width=600\n",
    "#          )\n",
    "# fig = dict(data=data, layout=layout)\n",
    "# iplot(fig, filename='class')"
   ]
  },
  {
   "cell_type": "markdown",
   "metadata": {
    "tags": []
   },
   "source": [
    "Only 492 (or 0.172%) of transaction are fraudulent. That means the data is highly unbalanced with respect with target variable Class.\n",
    "\n",
    "## Data exploration\n",
    "#### Transactions in time"
   ]
  },
  {
   "cell_type": "code",
   "execution_count": 32,
   "metadata": {
    "tags": [
     "block:data_exploration",
     "prev:missing_value"
    ]
   },
   "outputs": [],
   "source": [
    "# class_0 = creditcard.loc[creditcard['Class'] == 0][\"Time\"]\n",
    "# class_1 = creditcard.loc[creditcard['Class'] == 1][\"Time\"]\n",
    "\n",
    "# hist_data = [class_0, class_1]\n",
    "# group_labels = ['Not Fraud', 'Fraud']\n",
    "\n",
    "# fig = ff.create_distplot(hist_data, group_labels, show_hist=False, show_rug=False)\n",
    "# fig['layout'].update(title='Credit Card Transactions Time Density Plot', xaxis=dict(title='Time [s]'))\n",
    "# iplot(fig, filename='dist_only')"
   ]
  },
  {
   "cell_type": "markdown",
   "metadata": {
    "tags": []
   },
   "source": [
    "Fraudulent transactions have a distribution more even than valid transactions - are equaly distributed in time, including the low real transaction times, during night in Europe timezone.\n",
    "\n",
    "Let's look into more details to the time distribution of both classes transaction, as well as to aggregated values of transaction count and amount, per hour. We assume (based on observation of the time distribution of transactions) that the time unit is second."
   ]
  },
  {
   "cell_type": "code",
   "execution_count": 33,
   "metadata": {
    "tags": []
   },
   "outputs": [
    {
     "data": {
      "text/html": [
       "<div>\n",
       "<style scoped>\n",
       "    .dataframe tbody tr th:only-of-type {\n",
       "        vertical-align: middle;\n",
       "    }\n",
       "\n",
       "    .dataframe tbody tr th {\n",
       "        vertical-align: top;\n",
       "    }\n",
       "\n",
       "    .dataframe thead th {\n",
       "        text-align: right;\n",
       "    }\n",
       "</style>\n",
       "<table border=\"1\" class=\"dataframe\">\n",
       "  <thead>\n",
       "    <tr style=\"text-align: right;\">\n",
       "      <th></th>\n",
       "      <th>Hour</th>\n",
       "      <th>Class</th>\n",
       "      <th>Min</th>\n",
       "      <th>Max</th>\n",
       "      <th>Transactions</th>\n",
       "      <th>Sum</th>\n",
       "      <th>Mean</th>\n",
       "      <th>Median</th>\n",
       "      <th>Var</th>\n",
       "    </tr>\n",
       "  </thead>\n",
       "  <tbody>\n",
       "    <tr>\n",
       "      <th>0</th>\n",
       "      <td>0.0</td>\n",
       "      <td>0.0</td>\n",
       "      <td>0.0</td>\n",
       "      <td>7712.43</td>\n",
       "      <td>3961</td>\n",
       "      <td>256572.87</td>\n",
       "      <td>64.774772</td>\n",
       "      <td>12.990</td>\n",
       "      <td>45615.821201</td>\n",
       "    </tr>\n",
       "    <tr>\n",
       "      <th>1</th>\n",
       "      <td>0.0</td>\n",
       "      <td>1.0</td>\n",
       "      <td>0.0</td>\n",
       "      <td>529.00</td>\n",
       "      <td>2</td>\n",
       "      <td>529.00</td>\n",
       "      <td>264.500000</td>\n",
       "      <td>264.500</td>\n",
       "      <td>139920.500000</td>\n",
       "    </tr>\n",
       "    <tr>\n",
       "      <th>2</th>\n",
       "      <td>1.0</td>\n",
       "      <td>0.0</td>\n",
       "      <td>0.0</td>\n",
       "      <td>1769.69</td>\n",
       "      <td>2215</td>\n",
       "      <td>145806.76</td>\n",
       "      <td>65.826980</td>\n",
       "      <td>22.820</td>\n",
       "      <td>20053.615770</td>\n",
       "    </tr>\n",
       "    <tr>\n",
       "      <th>3</th>\n",
       "      <td>1.0</td>\n",
       "      <td>1.0</td>\n",
       "      <td>59.0</td>\n",
       "      <td>239.93</td>\n",
       "      <td>2</td>\n",
       "      <td>298.93</td>\n",
       "      <td>149.465000</td>\n",
       "      <td>149.465</td>\n",
       "      <td>16367.832450</td>\n",
       "    </tr>\n",
       "    <tr>\n",
       "      <th>4</th>\n",
       "      <td>2.0</td>\n",
       "      <td>0.0</td>\n",
       "      <td>0.0</td>\n",
       "      <td>4002.88</td>\n",
       "      <td>1555</td>\n",
       "      <td>106989.39</td>\n",
       "      <td>68.803466</td>\n",
       "      <td>17.900</td>\n",
       "      <td>45355.430437</td>\n",
       "    </tr>\n",
       "  </tbody>\n",
       "</table>\n",
       "</div>"
      ],
      "text/plain": [
       "   Hour  Class   Min      Max  Transactions        Sum        Mean   Median  \\\n",
       "0   0.0    0.0   0.0  7712.43          3961  256572.87   64.774772   12.990   \n",
       "1   0.0    1.0   0.0   529.00             2     529.00  264.500000  264.500   \n",
       "2   1.0    0.0   0.0  1769.69          2215  145806.76   65.826980   22.820   \n",
       "3   1.0    1.0  59.0   239.93             2     298.93  149.465000  149.465   \n",
       "4   2.0    0.0   0.0  4002.88          1555  106989.39   68.803466   17.900   \n",
       "\n",
       "             Var  \n",
       "0   45615.821201  \n",
       "1  139920.500000  \n",
       "2   20053.615770  \n",
       "3   16367.832450  \n",
       "4   45355.430437  "
      ]
     },
     "execution_count": 33,
     "metadata": {},
     "output_type": "execute_result"
    }
   ],
   "source": [
    "creditcard['Time'] = creditcard['Time'].astype('float')\n",
    "creditcard['Hour'] = creditcard['Time'].apply(lambda x: np.floor(x / 3600))\n",
    "\n",
    "tmp = creditcard.groupby(['Hour', 'Class'])['Amount'].aggregate(['min', 'max', 'count', 'sum', 'mean', 'median', 'var']).reset_index()\n",
    "df = pd.DataFrame(tmp)\n",
    "df.columns = ['Hour', 'Class', 'Min', 'Max', 'Transactions', 'Sum', 'Mean', 'Median', 'Var']\n",
    "df.head()"
   ]
  },
  {
   "cell_type": "code",
   "execution_count": 34,
   "metadata": {
    "tags": []
   },
   "outputs": [
    {
     "data": {
      "image/png": "[encoded data removed]",
      "text/plain": [
       "<Figure size 1296x432 with 2 Axes>"
      ]
     },
     "metadata": {
      "needs_background": "light"
     },
     "output_type": "display_data"
    }
   ],
   "source": [
    "fig, (ax1, ax2) = plt.subplots(ncols=2, figsize=(18,6))\n",
    "s = sns.lineplot(ax = ax1, x=\"Hour\", y=\"Sum\", data=df.loc[df.Class==0])\n",
    "s = sns.lineplot(ax = ax2, x=\"Hour\", y=\"Sum\", data=df.loc[df.Class==1], color=\"red\")\n",
    "plt.suptitle(\"Total Amount\")\n",
    "plt.show();"
   ]
  },
  {
   "cell_type": "code",
   "execution_count": 35,
   "metadata": {
    "tags": []
   },
   "outputs": [
    {
     "data": {
      "image/png": "[encoded data removed]",
      "text/plain": [
       "<Figure size 1296x432 with 2 Axes>"
      ]
     },
     "metadata": {
      "needs_background": "light"
     },
     "output_type": "display_data"
    }
   ],
   "source": [
    "fig, (ax1, ax2) = plt.subplots(ncols=2, figsize=(18,6))\n",
    "s = sns.lineplot(ax = ax1, x=\"Hour\", y=\"Transactions\", data=df.loc[df.Class==0])\n",
    "s = sns.lineplot(ax = ax2, x=\"Hour\", y=\"Transactions\", data=df.loc[df.Class==1], color=\"red\")\n",
    "plt.suptitle(\"Total Number of Transactions\")\n",
    "plt.show();"
   ]
  },
  {
   "cell_type": "code",
   "execution_count": 36,
   "metadata": {
    "tags": []
   },
   "outputs": [
    {
     "data": {
      "image/png": "[encoded data removed]",
      "text/plain": [
       "<Figure size 1296x432 with 2 Axes>"
      ]
     },
     "metadata": {
      "needs_background": "light"
     },
     "output_type": "display_data"
    }
   ],
   "source": [
    "fig, (ax1, ax2) = plt.subplots(ncols=2, figsize=(18,6))\n",
    "s = sns.lineplot(ax = ax1, x=\"Hour\", y=\"Mean\", data=df.loc[df.Class==0])\n",
    "s = sns.lineplot(ax = ax2, x=\"Hour\", y=\"Mean\", data=df.loc[df.Class==1], color=\"red\")\n",
    "plt.suptitle(\"Average Amount of Transactions\")\n",
    "plt.show();"
   ]
  },
  {
   "cell_type": "code",
   "execution_count": 37,
   "metadata": {
    "tags": []
   },
   "outputs": [
    {
     "data": {
      "image/png": "[encoded data removed]",
      "text/plain": [
       "<Figure size 1296x432 with 2 Axes>"
      ]
     },
     "metadata": {
      "needs_background": "light"
     },
     "output_type": "display_data"
    }
   ],
   "source": [
    "fig, (ax1, ax2) = plt.subplots(ncols=2, figsize=(18,6))\n",
    "s = sns.lineplot(ax = ax1, x=\"Hour\", y=\"Max\", data=df.loc[df.Class==0])\n",
    "s = sns.lineplot(ax = ax2, x=\"Hour\", y=\"Max\", data=df.loc[df.Class==1], color=\"red\")\n",
    "plt.suptitle(\"Maximum Amount of Transactions\")\n",
    "plt.show();"
   ]
  },
  {
   "cell_type": "code",
   "execution_count": 38,
   "metadata": {
    "tags": []
   },
   "outputs": [
    {
     "data": {
      "image/png": "[encoded data removed]",
      "text/plain": [
       "<Figure size 1296x432 with 2 Axes>"
      ]
     },
     "metadata": {
      "needs_background": "light"
     },
     "output_type": "display_data"
    }
   ],
   "source": [
    "fig, (ax1, ax2) = plt.subplots(ncols=2, figsize=(18,6))\n",
    "s = sns.lineplot(ax = ax1, x=\"Hour\", y=\"Median\", data=df.loc[df.Class==0])\n",
    "s = sns.lineplot(ax = ax2, x=\"Hour\", y=\"Median\", data=df.loc[df.Class==1], color=\"red\")\n",
    "plt.suptitle(\"Median Amount of Transactions\")\n",
    "plt.show();"
   ]
  },
  {
   "cell_type": "code",
   "execution_count": 39,
   "metadata": {
    "tags": []
   },
   "outputs": [
    {
     "data": {
      "image/png": "[encoded data removed]",
      "text/plain": [
       "<Figure size 1296x432 with 2 Axes>"
      ]
     },
     "metadata": {
      "needs_background": "light"
     },
     "output_type": "display_data"
    }
   ],
   "source": [
    "fig, (ax1, ax2) = plt.subplots(ncols=2, figsize=(18,6))\n",
    "s = sns.lineplot(ax = ax1, x=\"Hour\", y=\"Min\", data=df.loc[df.Class==0])\n",
    "s = sns.lineplot(ax = ax2, x=\"Hour\", y=\"Min\", data=df.loc[df.Class==1], color=\"red\")\n",
    "plt.suptitle(\"Minimum Amount of Transactions\")\n",
    "plt.show();"
   ]
  },
  {
   "cell_type": "markdown",
   "metadata": {
    "tags": []
   },
   "source": [
    "#### Transactions amount"
   ]
  },
  {
   "cell_type": "code",
   "execution_count": 40,
   "metadata": {
    "tags": []
   },
   "outputs": [
    {
     "data": {
      "image/png": "[encoded data removed]",
      "text/plain": [
       "<Figure size 864x432 with 2 Axes>"
      ]
     },
     "metadata": {
      "needs_background": "light"
     },
     "output_type": "display_data"
    }
   ],
   "source": [
    "fig, (ax1, ax2) = plt.subplots(ncols=2, figsize=(12,6))\n",
    "s = sns.boxplot(ax = ax1, x=\"Class\", y=\"Amount\", hue=\"Class\",data=creditcard, palette=\"PRGn\",showfliers=True)\n",
    "s = sns.boxplot(ax = ax2, x=\"Class\", y=\"Amount\", hue=\"Class\",data=creditcard, palette=\"PRGn\",showfliers=False)\n",
    "plt.show();"
   ]
  },
  {
   "cell_type": "code",
   "execution_count": 41,
   "metadata": {
    "tags": []
   },
   "outputs": [
    {
     "data": {
      "text/plain": [
       "count    7975.000000\n",
       "mean       65.140361\n",
       "std       193.808029\n",
       "min         0.000000\n",
       "25%         4.865000\n",
       "50%        15.950000\n",
       "75%        54.775000\n",
       "max      7712.430000\n",
       "Name: Amount, dtype: float64"
      ]
     },
     "execution_count": 41,
     "metadata": {},
     "output_type": "execute_result"
    }
   ],
   "source": [
    "tmp = creditcard[['Amount','Class']].copy()\n",
    "class_0 = tmp.loc[tmp['Class'] == 0]['Amount']\n",
    "class_1 = tmp.loc[tmp['Class'] == 1]['Amount']\n",
    "class_0.describe()"
   ]
  },
  {
   "cell_type": "code",
   "execution_count": 42,
   "metadata": {
    "tags": []
   },
   "outputs": [
    {
     "data": {
      "text/plain": [
       "count      25.000000\n",
       "mean      106.308400\n",
       "std       372.676883\n",
       "min         0.000000\n",
       "25%         1.000000\n",
       "50%         1.000000\n",
       "75%         1.000000\n",
       "max      1809.680000\n",
       "Name: Amount, dtype: float64"
      ]
     },
     "execution_count": 42,
     "metadata": {},
     "output_type": "execute_result"
    }
   ],
   "source": [
    "class_1.describe()"
   ]
  },
  {
   "cell_type": "markdown",
   "metadata": {
    "tags": []
   },
   "source": [
    "The real transaction have a larger mean value, larger Q1, smaller Q3 and Q4 and larger outliers; fraudulent transactions have a smaller Q1 and mean, larger Q4 and smaller outliers.\n",
    "\n",
    "Let's plot the fraudulent transactions (amount) against time. The time is shown is seconds from the start of the time period (totaly 48h, over 2 days)."
   ]
  },
  {
   "cell_type": "code",
   "execution_count": 43,
   "metadata": {
    "tags": []
   },
   "outputs": [],
   "source": [
    "# fraud = creditcard.loc[creditcard['Class'] == 1]\n",
    "\n",
    "# trace = go.Scatter(\n",
    "#     x = fraud['Time'],y = fraud['Amount'],\n",
    "#     name=\"Amount\",\n",
    "#      marker=dict(\n",
    "#                 color='rgb(238,23,11)',\n",
    "#                 line=dict(\n",
    "#                     color='red',\n",
    "#                     width=1),\n",
    "#                 opacity=0.5,\n",
    "#             ),\n",
    "#     text= fraud['Amount'],\n",
    "#     mode = \"markers\"\n",
    "# )\n",
    "# data = [trace]\n",
    "# layout = dict(title = 'Amount of fraudulent transactions',\n",
    "#           xaxis = dict(title = 'Time [s]', showticklabels=True), \n",
    "#           yaxis = dict(title = 'Amount'),\n",
    "#           hovermode='closest'\n",
    "#          )\n",
    "# fig = dict(data=data, layout=layout)\n",
    "# iplot(fig, filename='fraud-amount')"
   ]
  },
  {
   "cell_type": "markdown",
   "metadata": {
    "tags": []
   },
   "source": [
    "#### Features correlation"
   ]
  },
  {
   "cell_type": "markdown",
   "metadata": {
    "tags": []
   },
   "source": [
    "As expected, there is no notable correlation between features V1-V28. There are certain correlations between some of these features and Time (inverse correlation with V3) and Amount (direct correlation with V7 and V20, inverse correlation with V1 and V5).\n",
    "\n",
    "Let's plot the correlated and inverse correlated values on the same graph.\n",
    "\n",
    "Let's start with the direct correlated values: {V20;Amount} and {V7;Amount}."
   ]
  },
  {
   "cell_type": "code",
   "execution_count": null,
   "metadata": {
    "tags": []
   },
   "outputs": [],
   "source": [
    "plt.figure(figsize = (14,14))\n",
    "plt.title('Credit Card Transactions features correlation plot (Pearson)')\n",
    "corr = creditcard.corr()\n",
    "sns.heatmap(corr,xticklabels=corr.columns,yticklabels=corr.columns,linewidths=.1,cmap=\"Reds\")\n",
    "plt.show()"
   ]
  },
  {
   "cell_type": "code",
   "execution_count": 45,
   "metadata": {
    "tags": []
   },
   "outputs": [
    {
     "data": {
      "image/png": "[encoded data removed]",
      "text/plain": [
       "<Figure size 411.875x360 with 1 Axes>"
      ]
     },
     "metadata": {
      "needs_background": "light"
     },
     "output_type": "display_data"
    },
    {
     "data": {
      "image/png": "[encoded data removed]",
      "text/plain": [
       "<Figure size 411.875x360 with 1 Axes>"
      ]
     },
     "metadata": {
      "needs_background": "light"
     },
     "output_type": "display_data"
    }
   ],
   "source": [
    "s = sns.lmplot(x='V20', y='Amount',data=creditcard, hue='Class', fit_reg=True,scatter_kws={'s':2})\n",
    "s = sns.lmplot(x='V7', y='Amount',data=creditcard, hue='Class', fit_reg=True,scatter_kws={'s':2})\n",
    "plt.show()"
   ]
  },
  {
   "cell_type": "markdown",
   "metadata": {
    "tags": []
   },
   "source": [
    "We can confirm that the two couples of features are correlated (the regression lines for Class = 0 have a positive slope, whilst the regression line for Class = 1 have a smaller positive slope).\n",
    "\n",
    "Let's plot now the inverse correlated values."
   ]
  },
  {
   "cell_type": "code",
   "execution_count": 46,
   "metadata": {
    "tags": []
   },
   "outputs": [
    {
     "data": {
      "image/png": "[encoded data removed]",
      "text/plain": [
       "<Figure size 411.875x360 with 1 Axes>"
      ]
     },
     "metadata": {
      "needs_background": "light"
     },
     "output_type": "display_data"
    },
    {
     "data": {
      "image/png": "[encoded data removed]",
      "text/plain": [
       "<Figure size 411.875x360 with 1 Axes>"
      ]
     },
     "metadata": {
      "needs_background": "light"
     },
     "output_type": "display_data"
    }
   ],
   "source": [
    "s = sns.lmplot(x='V2', y='Amount',data=creditcard, hue='Class', fit_reg=True,scatter_kws={'s':2})\n",
    "s = sns.lmplot(x='V5', y='Amount',data=creditcard, hue='Class', fit_reg=True,scatter_kws={'s':2})\n",
    "plt.show()"
   ]
  },
  {
   "cell_type": "markdown",
   "metadata": {
    "tags": []
   },
   "source": [
    "We can confirm that the two couples of features are inverse correlated (the regression lines for Class = 0 have a negative slope while the regression lines for Class = 1 have a very small negative slope).\n",
    "\n",
    "#### Features density plot"
   ]
  },
  {
   "cell_type": "code",
   "execution_count": 47,
   "metadata": {
    "tags": []
   },
   "outputs": [],
   "source": [
    "creditcard['V1'] = creditcard['V1'].astype('float')"
   ]
  },
  {
   "cell_type": "code",
   "execution_count": 48,
   "metadata": {
    "tags": []
   },
   "outputs": [
    {
     "data": {
      "text/plain": [
       "<Figure size 432x288 with 0 Axes>"
      ]
     },
     "metadata": {},
     "output_type": "display_data"
    },
    {
     "data": {
      "image/png": "[encoded data removed]",
      "text/plain": [
       "<Figure size 1152x2016 with 32 Axes>"
      ]
     },
     "metadata": {},
     "output_type": "display_data"
    }
   ],
   "source": [
    "var = creditcard.columns.values\n",
    "\n",
    "i = 0\n",
    "t0 = creditcard.loc[creditcard['Class'] == 0]\n",
    "t1 = creditcard.loc[creditcard['Class'] == 1]\n",
    "\n",
    "sns.set_style('whitegrid')\n",
    "plt.figure()\n",
    "fig, ax = plt.subplots(8,4,figsize=(16,28))\n",
    "\n",
    "for feature in var:\n",
    "    i += 1\n",
    "    plt.subplot(8,4,i)\n",
    "    sns.kdeplot(t0[feature], bw=0.5,label=\"Class = 0\")\n",
    "    sns.kdeplot(t1[feature], bw=0.5,label=\"Class = 1\")\n",
    "    plt.xlabel(feature, fontsize=12)\n",
    "    locs, labels = plt.xticks()\n",
    "    plt.tick_params(axis='both', which='major', labelsize=12)\n",
    "plt.show();"
   ]
  },
  {
   "cell_type": "markdown",
   "metadata": {
    "tags": []
   },
   "source": [
    "For some of the features we can observe a good selectivity in terms of distribution for the two values of Class: V4, V11 have clearly separated distributions for Class values 0 and 1, V12, V14, V18 are partially separated, V1, V2, V3, V10 have a quite distinct profile, whilst V25, V26, V28 have similar profiles for the two values of Class.\n",
    "\n",
    "In general, with just few exceptions (Time and Amount), the features distribution for legitimate transactions (values of Class = 0) is centered around 0, sometime with a long queue at one of the extremities. In the same time, the fraudulent transactions (values of Class = 1) have a skewed (asymmetric) distribution."
   ]
  },
  {
   "cell_type": "markdown",
   "metadata": {
    "tags": []
   },
   "source": [
    "## Predictive models\n",
    "Define predictors and target values\n",
    "Let's define the predictor features and the target features. Categorical features, if any, are also defined. In our case, there are no categorical feature."
   ]
  },
  {
   "cell_type": "code",
   "execution_count": 49,
   "metadata": {
    "tags": [
     "block:train_test_split",
     "prev:preprocessing",
     "prev:data_exploration",
     "prev:missing_value"
    ]
   },
   "outputs": [],
   "source": [
    "target = 'Class'\n",
    "predictors = ['Time', 'V1', 'V2', 'V3', 'V4', 'V5', 'V6', 'V7', 'V8', 'V9', 'V10',\\\n",
    "       'V11', 'V12', 'V13', 'V14', 'V15', 'V16', 'V17', 'V18', 'V19',\\\n",
    "       'V20', 'V21', 'V22', 'V23', 'V24', 'V25', 'V26', 'V27', 'V28',\\\n",
    "       'Amount']"
   ]
  },
  {
   "cell_type": "markdown",
   "metadata": {
    "tags": []
   },
   "source": [
    "#### Split data in train, test and validation set\n",
    "Let's define train, validation and test sets."
   ]
  },
  {
   "cell_type": "code",
   "execution_count": 50,
   "metadata": {
    "tags": []
   },
   "outputs": [],
   "source": [
    "train_df, test_df = train_test_split(creditcard, test_size=TEST_SIZE, random_state=RANDOM_STATE, shuffle=True )\n",
    "#train_df, valid_df = train_test_split(creditcard, test_size=VALID_SIZE, random_state=RANDOM_STATE, shuffle=True )"
   ]
  },
  {
   "cell_type": "code",
   "execution_count": 51,
   "metadata": {
    "tags": []
   },
   "outputs": [],
   "source": [
    "X_train, X_test = train_df[predictors], test_df[predictors]\n",
    "y_train, y_test = train_df[target], test_df[target]"
   ]
  },
  {
   "cell_type": "markdown",
   "metadata": {
    "tags": []
   },
   "source": [
    "## Logistic Regression\n",
    "\n"
   ]
  },
  {
   "cell_type": "code",
   "execution_count": 52,
   "metadata": {
    "tags": [
     "block:logistic_regression",
     "prev:train_test_split"
    ]
   },
   "outputs": [
    {
     "name": "stderr",
     "output_type": "stream",
     "text": [
      "2021/07/28 05:32:26 WARNING mlflow.tracking.context.git_context: Failed to import Git (the Git executable is probably not on your PATH), so Git SHA is not available. Error: Failed to initialize: Bad git executable.\n",
      "The git executable must be specified in one of the following ways:\n",
      "    - be included in your $PATH\n",
      "    - be set via $GIT_PYTHON_GIT_EXECUTABLE\n",
      "    - explicitly set via git.refresh()\n",
      "\n",
      "All git commands will error until this is rectified.\n",
      "\n",
      "This initial warning can be silenced or aggravated in the future by setting the\n",
      "$GIT_PYTHON_REFRESH environment variable. Use one of the following values:\n",
      "    - quiet|q|silence|s|none|n|0: for no warning or exception\n",
      "    - warn|w|warning|1: for a printed warning\n",
      "    - error|e|raise|r|2: for a raised exception\n",
      "\n",
      "Example:\n",
      "    export GIT_PYTHON_REFRESH=quiet\n",
      "\n"
     ]
    }
   ],
   "source": [
    "with mlflow.start_run(run_name=\"logistic_regression\"):\n",
    "    clf = LogisticRegression(random_state=0, max_iter=50, l1_ratio=0.8, penalty='elasticnet', solver='saga')\n",
    "    clf.fit(X_train, y_train)\n",
    "    \n",
    "\n",
    "    \n",
    "    y_pred_tr = clf.predict(X_train)\n",
    "    roc_auc_train = roc_auc_score(y_train, y_pred_tr)\n",
    "    train_accuracy = accuracy_score(y_train, y_pred_tr)\n",
    "    \n",
    "    \n",
    "    y_pred = clf.predict(X_test)\n",
    "    roc_auc_test = roc_auc_score(y_test, y_pred)\n",
    "    test_accuracy = accuracy_score(y_test, y_pred)\n",
    "    \n",
    "    mlflow.log_metric(\"train_auc\", roc_auc_train)\n",
    "    mlflow.log_metric(\"test_auc\", roc_auc_test)\n",
    "    \n",
    "    mlflow.log_metric(\"train_accuracy\", train_accuracy)\n",
    "    mlflow.log_metric(\"test_accuracy\", test_accuracy)\n",
    "    \n",
    "    mlflow.sklearn.log_model(clf, f\"logistic_regression\")"
   ]
  },
  {
   "cell_type": "code",
   "execution_count": 53,
   "metadata": {
    "tags": []
   },
   "outputs": [
    {
     "name": "stdout",
     "output_type": "stream",
     "text": [
      "\n",
      "\n",
      "\u001b[1mTraining Accuracy Percentage\u001b[0m: 99.72\n",
      "\n",
      "\n",
      "\u001b[1mTesting Accuracy Percentage\u001b[0m: 99.56\n",
      "================================================================================================================\n",
      "\u001b[1mClassification_report for testing \u001b[0m\n",
      "              precision    recall  f1-score   support\n",
      "\n",
      "         0.0       1.00      1.00      1.00      1593\n",
      "         1.0       0.00      0.00      0.00         7\n",
      "\n",
      "    accuracy                           1.00      1600\n",
      "   macro avg       0.50      0.50      0.50      1600\n",
      "weighted avg       0.99      1.00      0.99      1600\n",
      "\n",
      "\u001b[1mClassification_report for training \u001b[0m\n",
      "              precision    recall  f1-score   support\n",
      "\n",
      "         0.0       1.00      1.00      1.00      6382\n",
      "         1.0       0.00      0.00      0.00        18\n",
      "\n",
      "    accuracy                           1.00      6400\n",
      "   macro avg       0.50      0.50      0.50      6400\n",
      "weighted avg       0.99      1.00      1.00      6400\n",
      "\n",
      "================================================================================================================\n"
     ]
    }
   ],
   "source": [
    "# evaluate predictions\n",
    "accuracy = accuracy_score(y_test, y_pred)\n",
    "\n",
    "train_accuracy = accuracy_score(y_train,y_pred_tr)\n",
    "\n",
    "print('\\n')\n",
    "print('\\033[1mTraining Accuracy Percentage\\033[0m: %.2f' % (train_accuracy*100))\n",
    "\n",
    "print('\\n')\n",
    "print('\\033[1mTesting Accuracy Percentage\\033[0m: %.2f' % (accuracy*100))\n",
    "\n",
    "print('================================================================================================================')\n",
    "print('\\033[1mClassification_report for testing \\033[0m')\n",
    "\n",
    "print(classification_report(y_test, y_pred))\n",
    "\n",
    "print('\\033[1mClassification_report for training \\033[0m')\n",
    "\n",
    "print(classification_report(y_train,y_pred_tr))\n",
    "\n",
    "print('================================================================================================================')\n",
    "#print('\\033[1mConfusion_Matrix\\033[0m')\n",
    "#confusion_matrix = confusion_matrix(y_test, y_pred)\n",
    "##group_names = ['True Neg','False Pos','False Neg','True Pos']\n",
    "#group_counts = [\"{0:0.0f}\".format(value) for value in\n",
    "#                confusion_matrix.flatten()]\n",
    "#group_percentages = ['{0:.2%}'.format(value) for value in\n",
    "#                     confusion_matrix.flatten()/np.sum(confusion_matrix)]\n",
    "#\n",
    "#group_description = ['The person paid on time\\n and model also predicted\\n paid on time',\n",
    "#                     'The person paid on time\\n and model predicted paid late',\n",
    "#                    'The person paid late\\n and model predicted paid\\n on time',\n",
    "#                     'The person paid late\\n and model also predicted\\n paid late']\n",
    "#labels = [f\"{v3}\\n{v1}\\n{v2}\" for v1, v2, v3 in\n",
    "#          zip(group_percentages,group_description,group_counts)]\n",
    "#labels = np.asarray(labels).reshape(2,2)\n",
    "#\n",
    "#fig, ax = plt.subplots(figsize=(9,7))\n",
    "#sns.heatmap(confusion_matrix, annot=labels, fmt='', cmap='Blues',\n",
    "#            annot_kws={'fontsize':'large','fontweight':'bold'}\n",
    "#           ,cbar=False,xticklabels=['Predicted on time','Predicted late paid']\n",
    "#            ,yticklabels=['Actual on time','Actual late paid'])\n",
    "#\n",
    "#plt.show()"
   ]
  },
  {
   "cell_type": "markdown",
   "metadata": {
    "tags": []
   },
   "source": [
    "## GradientBoostingClassifier"
   ]
  },
  {
   "cell_type": "code",
   "execution_count": 54,
   "metadata": {
    "tags": [
     "block:gradient_boost_classifier",
     "prev:train_test_split"
    ]
   },
   "outputs": [],
   "source": [
    "with mlflow.start_run(run_name=\"GradientBoostingClassifier\"):\n",
    "    clf = GradientBoostingClassifier(random_state = 42)\n",
    "    clf.fit(X_train, y_train)\n",
    "    \n",
    "\n",
    "    \n",
    "    y_pred_tr = clf.predict(X_train)\n",
    "    roc_auc_train = roc_auc_score(y_train, y_pred_tr)\n",
    "    train_accuracy = accuracy_score(y_train, y_pred_tr)\n",
    "    \n",
    "    \n",
    "    y_pred = clf.predict(X_test)\n",
    "    roc_auc_test = roc_auc_score(y_test, y_pred)\n",
    "    test_accuracy = accuracy_score(y_test, y_pred)\n",
    "    \n",
    "    mlflow.log_metric(\"train_auc\", roc_auc_train)\n",
    "    mlflow.log_metric(\"test_auc\", roc_auc_test)\n",
    "    \n",
    "    mlflow.log_metric(\"train_accuracy\", train_accuracy)\n",
    "    mlflow.log_metric(\"test_accuracy\", test_accuracy)\n",
    "    \n",
    "    mlflow.sklearn.log_model(clf, f\"GradientBoostingClassifier\")"
   ]
  },
  {
   "cell_type": "code",
   "execution_count": 55,
   "metadata": {
    "tags": []
   },
   "outputs": [
    {
     "name": "stdout",
     "output_type": "stream",
     "text": [
      "\n",
      "\n",
      "\u001b[1mTraining Accuracy Percentage\u001b[0m: 100.00\n",
      "\n",
      "\n",
      "\u001b[1mTesting Accuracy Percentage\u001b[0m: 99.94\n",
      "================================================================================================================\n",
      "\u001b[1mClassification_report for testing \u001b[0m\n",
      "              precision    recall  f1-score   support\n",
      "\n",
      "         0.0       1.00      1.00      1.00      1593\n",
      "         1.0       1.00      0.86      0.92         7\n",
      "\n",
      "    accuracy                           1.00      1600\n",
      "   macro avg       1.00      0.93      0.96      1600\n",
      "weighted avg       1.00      1.00      1.00      1600\n",
      "\n",
      "\u001b[1mClassification_report for training \u001b[0m\n",
      "              precision    recall  f1-score   support\n",
      "\n",
      "         0.0       1.00      1.00      1.00      6382\n",
      "         1.0       1.00      1.00      1.00        18\n",
      "\n",
      "    accuracy                           1.00      6400\n",
      "   macro avg       1.00      1.00      1.00      6400\n",
      "weighted avg       1.00      1.00      1.00      6400\n",
      "\n",
      "================================================================================================================\n"
     ]
    }
   ],
   "source": [
    "# evaluate predictions\n",
    "accuracy = accuracy_score(y_test, y_pred)\n",
    "\n",
    "train_accuracy = accuracy_score(y_train,y_pred_tr)\n",
    "\n",
    "print('\\n')\n",
    "print('\\033[1mTraining Accuracy Percentage\\033[0m: %.2f' % (train_accuracy*100))\n",
    "\n",
    "print('\\n')\n",
    "print('\\033[1mTesting Accuracy Percentage\\033[0m: %.2f' % (accuracy*100))\n",
    "\n",
    "print('================================================================================================================')\n",
    "print('\\033[1mClassification_report for testing \\033[0m')\n",
    "\n",
    "print(classification_report(y_test, y_pred))\n",
    "\n",
    "print('\\033[1mClassification_report for training \\033[0m')\n",
    "\n",
    "print(classification_report(y_train,y_pred_tr))\n",
    "\n",
    "print('================================================================================================================')\n",
    "\n"
   ]
  },
  {
   "cell_type": "markdown",
   "metadata": {
    "tags": []
   },
   "source": [
    "## RandomForestClassifier"
   ]
  },
  {
   "cell_type": "code",
   "execution_count": 56,
   "metadata": {
    "tags": [
     "block:random_forest_classifier",
     "prev:train_test_split"
    ]
   },
   "outputs": [],
   "source": [
    "with mlflow.start_run(run_name=\"RandomForestClassifier\"):\n",
    "    clf = RandomForestClassifier(random_state = 42)\n",
    "    clf.fit(X_train, y_train)\n",
    "    \n",
    "\n",
    "    \n",
    "    y_pred_tr = clf.predict(X_train)\n",
    "    roc_auc_train = roc_auc_score(y_train, y_pred_tr)\n",
    "    train_accuracy = accuracy_score(y_train, y_pred_tr)\n",
    "    \n",
    "    \n",
    "    y_pred = clf.predict(X_test)\n",
    "    roc_auc_test = roc_auc_score(y_test, y_pred)\n",
    "    test_accuracy = accuracy_score(y_test, y_pred)\n",
    "    \n",
    "    mlflow.log_metric(\"train_auc\", roc_auc_train)\n",
    "    mlflow.log_metric(\"test_auc\", roc_auc_test)\n",
    "    \n",
    "    mlflow.log_metric(\"train_accuracy\", train_accuracy)\n",
    "    mlflow.log_metric(\"test_accuracy\", test_accuracy)\n",
    "    \n",
    "    mlflow.sklearn.log_model(clf, f\"RandomForestClassifier\")"
   ]
  },
  {
   "cell_type": "code",
   "execution_count": 57,
   "metadata": {
    "tags": []
   },
   "outputs": [
    {
     "name": "stdout",
     "output_type": "stream",
     "text": [
      "\n",
      "\n",
      "\u001b[1mTraining Accuracy Percentage\u001b[0m: 100.00\n",
      "\n",
      "\n",
      "\u001b[1mTesting Accuracy Percentage\u001b[0m: 99.88\n",
      "================================================================================================================\n",
      "\u001b[1mClassification_report for testing \u001b[0m\n",
      "              precision    recall  f1-score   support\n",
      "\n",
      "         0.0       1.00      1.00      1.00      1593\n",
      "         1.0       1.00      0.71      0.83         7\n",
      "\n",
      "    accuracy                           1.00      1600\n",
      "   macro avg       1.00      0.86      0.92      1600\n",
      "weighted avg       1.00      1.00      1.00      1600\n",
      "\n",
      "\u001b[1mClassification_report for training \u001b[0m\n",
      "              precision    recall  f1-score   support\n",
      "\n",
      "         0.0       1.00      1.00      1.00      6382\n",
      "         1.0       1.00      1.00      1.00        18\n",
      "\n",
      "    accuracy                           1.00      6400\n",
      "   macro avg       1.00      1.00      1.00      6400\n",
      "weighted avg       1.00      1.00      1.00      6400\n",
      "\n",
      "================================================================================================================\n"
     ]
    }
   ],
   "source": [
    "# evaluate predictions\n",
    "accuracy = accuracy_score(y_test, y_pred)\n",
    "\n",
    "train_accuracy = accuracy_score(y_train,y_pred_tr)\n",
    "\n",
    "print('\\n')\n",
    "print('\\033[1mTraining Accuracy Percentage\\033[0m: %.2f' % (train_accuracy*100))\n",
    "\n",
    "print('\\n')\n",
    "print('\\033[1mTesting Accuracy Percentage\\033[0m: %.2f' % (accuracy*100))\n",
    "\n",
    "print('================================================================================================================')\n",
    "print('\\033[1mClassification_report for testing \\033[0m')\n",
    "\n",
    "print(classification_report(y_test, y_pred))\n",
    "\n",
    "print('\\033[1mClassification_report for training \\033[0m')\n",
    "\n",
    "print(classification_report(y_train,y_pred_tr))\n",
    "\n",
    "print('================================================================================================================')\n"
   ]
  },
  {
   "cell_type": "markdown",
   "metadata": {
    "tags": []
   },
   "source": [
    "## AdaBoostClassifier"
   ]
  },
  {
   "cell_type": "code",
   "execution_count": 58,
   "metadata": {
    "tags": [
     "block:ada_boost_classifier",
     "prev:train_test_split"
    ]
   },
   "outputs": [],
   "source": [
    "with mlflow.start_run(run_name=\"AdaBoostClassifier\"):\n",
    "    clf = AdaBoostClassifier(random_state = 42)\n",
    "    clf.fit(X_train, y_train)\n",
    "    \n",
    "\n",
    "    \n",
    "    y_pred_tr = clf.predict(X_train)\n",
    "    roc_auc_train = roc_auc_score(y_train, y_pred_tr)\n",
    "    train_accuracy = accuracy_score(y_train, y_pred_tr)\n",
    "    \n",
    "    \n",
    "    y_pred = clf.predict(X_test)\n",
    "    roc_auc_test = roc_auc_score(y_test, y_pred)\n",
    "    test_accuracy = accuracy_score(y_test, y_pred)\n",
    "    \n",
    "    mlflow.log_metric(\"train_auc\", roc_auc_train)\n",
    "    mlflow.log_metric(\"test_auc\", roc_auc_test)\n",
    "    \n",
    "    mlflow.log_metric(\"train_accuracy\", train_accuracy)\n",
    "    mlflow.log_metric(\"test_accuracy\", test_accuracy)\n",
    "    \n",
    "    mlflow.sklearn.log_model(clf, f\"AdaBoostClassifier\")"
   ]
  },
  {
   "cell_type": "code",
   "execution_count": 59,
   "metadata": {
    "tags": []
   },
   "outputs": [
    {
     "name": "stdout",
     "output_type": "stream",
     "text": [
      "\n",
      "\n",
      "\u001b[1mTraining Accuracy Percentage\u001b[0m: 100.00\n",
      "\n",
      "\n",
      "\u001b[1mTesting Accuracy Percentage\u001b[0m: 99.94\n",
      "================================================================================================================\n",
      "\u001b[1mClassification_report for testing \u001b[0m\n",
      "              precision    recall  f1-score   support\n",
      "\n",
      "         0.0       1.00      1.00      1.00      1593\n",
      "         1.0       1.00      0.86      0.92         7\n",
      "\n",
      "    accuracy                           1.00      1600\n",
      "   macro avg       1.00      0.93      0.96      1600\n",
      "weighted avg       1.00      1.00      1.00      1600\n",
      "\n",
      "\u001b[1mClassification_report for training \u001b[0m\n",
      "              precision    recall  f1-score   support\n",
      "\n",
      "         0.0       1.00      1.00      1.00      6382\n",
      "         1.0       1.00      1.00      1.00        18\n",
      "\n",
      "    accuracy                           1.00      6400\n",
      "   macro avg       1.00      1.00      1.00      6400\n",
      "weighted avg       1.00      1.00      1.00      6400\n",
      "\n",
      "================================================================================================================\n"
     ]
    }
   ],
   "source": [
    "# evaluate predictions\n",
    "accuracy = accuracy_score(y_test, y_pred)\n",
    "\n",
    "train_accuracy = accuracy_score(y_train,y_pred_tr)\n",
    "\n",
    "print('\\n')\n",
    "print('\\033[1mTraining Accuracy Percentage\\033[0m: %.2f' % (train_accuracy*100))\n",
    "\n",
    "print('\\n')\n",
    "print('\\033[1mTesting Accuracy Percentage\\033[0m: %.2f' % (accuracy*100))\n",
    "\n",
    "print('================================================================================================================')\n",
    "print('\\033[1mClassification_report for testing \\033[0m')\n",
    "\n",
    "print(classification_report(y_test, y_pred))\n",
    "\n",
    "print('\\033[1mClassification_report for training \\033[0m')\n",
    "\n",
    "print(classification_report(y_train,y_pred_tr))\n",
    "\n",
    "print('================================================================================================================')\n"
   ]
  },
  {
   "cell_type": "markdown",
   "metadata": {
    "tags": []
   },
   "source": [
    "## CatBoostClassifier"
   ]
  },
  {
   "cell_type": "code",
   "execution_count": 60,
   "metadata": {
    "tags": [
     "block:cat_boost_classifier",
     "prev:train_test_split"
    ]
   },
   "outputs": [
    {
     "name": "stdout",
     "output_type": "stream",
     "text": [
      "Learning rate set to 0.02276\n",
      "0:\tlearn: 0.6291003\ttotal: 54.4ms\tremaining: 54.4s\n",
      "1:\tlearn: 0.5707037\ttotal: 60.6ms\tremaining: 30.3s\n",
      "2:\tlearn: 0.5080690\ttotal: 67.2ms\tremaining: 22.3s\n",
      "3:\tlearn: 0.4540612\ttotal: 72.8ms\tremaining: 18.1s\n",
      "4:\tlearn: 0.4055271\ttotal: 80ms\tremaining: 15.9s\n",
      "5:\tlearn: 0.3617556\ttotal: 86.1ms\tremaining: 14.3s\n",
      "6:\tlearn: 0.3262129\ttotal: 92.4ms\tremaining: 13.1s\n",
      "7:\tlearn: 0.2969343\ttotal: 98.4ms\tremaining: 12.2s\n",
      "8:\tlearn: 0.2676490\ttotal: 104ms\tremaining: 11.5s\n",
      "9:\tlearn: 0.2374068\ttotal: 112ms\tremaining: 11.1s\n",
      "10:\tlearn: 0.2126402\ttotal: 120ms\tremaining: 10.8s\n",
      "11:\tlearn: 0.1920981\ttotal: 129ms\tremaining: 10.6s\n",
      "12:\tlearn: 0.1724236\ttotal: 136ms\tremaining: 10.4s\n",
      "13:\tlearn: 0.1555984\ttotal: 144ms\tremaining: 10.2s\n",
      "14:\tlearn: 0.1400945\ttotal: 151ms\tremaining: 9.89s\n",
      "15:\tlearn: 0.1264562\ttotal: 156ms\tremaining: 9.6s\n",
      "16:\tlearn: 0.1152455\ttotal: 162ms\tremaining: 9.37s\n",
      "17:\tlearn: 0.1053827\ttotal: 168ms\tremaining: 9.16s\n",
      "18:\tlearn: 0.0940581\ttotal: 174ms\tremaining: 8.99s\n",
      "19:\tlearn: 0.0857226\ttotal: 180ms\tremaining: 8.8s\n",
      "20:\tlearn: 0.0778740\ttotal: 186ms\tremaining: 8.66s\n",
      "21:\tlearn: 0.0709937\ttotal: 193ms\tremaining: 8.57s\n",
      "22:\tlearn: 0.0644284\ttotal: 200ms\tremaining: 8.49s\n",
      "23:\tlearn: 0.0590166\ttotal: 205ms\tremaining: 8.35s\n",
      "24:\tlearn: 0.0537963\ttotal: 228ms\tremaining: 8.89s\n",
      "25:\tlearn: 0.0492877\ttotal: 234ms\tremaining: 8.77s\n",
      "26:\tlearn: 0.0443762\ttotal: 241ms\tremaining: 8.67s\n",
      "27:\tlearn: 0.0402923\ttotal: 247ms\tremaining: 8.59s\n",
      "28:\tlearn: 0.0366546\ttotal: 255ms\tremaining: 8.53s\n",
      "29:\tlearn: 0.0339579\ttotal: 263ms\tremaining: 8.49s\n",
      "30:\tlearn: 0.0312509\ttotal: 270ms\tremaining: 8.43s\n",
      "31:\tlearn: 0.0289279\ttotal: 277ms\tremaining: 8.38s\n",
      "32:\tlearn: 0.0265043\ttotal: 285ms\tremaining: 8.34s\n",
      "33:\tlearn: 0.0243653\ttotal: 291ms\tremaining: 8.26s\n",
      "34:\tlearn: 0.0225102\ttotal: 298ms\tremaining: 8.22s\n",
      "35:\tlearn: 0.0204149\ttotal: 304ms\tremaining: 8.14s\n",
      "36:\tlearn: 0.0187536\ttotal: 310ms\tremaining: 8.06s\n",
      "37:\tlearn: 0.0172731\ttotal: 314ms\tremaining: 7.96s\n",
      "38:\tlearn: 0.0160340\ttotal: 329ms\tremaining: 8.11s\n",
      "39:\tlearn: 0.0147759\ttotal: 335ms\tremaining: 8.04s\n",
      "40:\tlearn: 0.0137389\ttotal: 341ms\tremaining: 7.97s\n",
      "41:\tlearn: 0.0130155\ttotal: 347ms\tremaining: 7.92s\n",
      "42:\tlearn: 0.0121356\ttotal: 353ms\tremaining: 7.87s\n",
      "43:\tlearn: 0.0113903\ttotal: 360ms\tremaining: 7.82s\n",
      "44:\tlearn: 0.0105644\ttotal: 365ms\tremaining: 7.74s\n",
      "45:\tlearn: 0.0098949\ttotal: 371ms\tremaining: 7.69s\n",
      "46:\tlearn: 0.0092892\ttotal: 376ms\tremaining: 7.63s\n",
      "47:\tlearn: 0.0086481\ttotal: 382ms\tremaining: 7.58s\n",
      "48:\tlearn: 0.0081765\ttotal: 388ms\tremaining: 7.52s\n",
      "49:\tlearn: 0.0077426\ttotal: 395ms\tremaining: 7.5s\n",
      "50:\tlearn: 0.0072761\ttotal: 424ms\tremaining: 7.89s\n",
      "51:\tlearn: 0.0068487\ttotal: 431ms\tremaining: 7.85s\n",
      "52:\tlearn: 0.0064897\ttotal: 436ms\tremaining: 7.79s\n",
      "53:\tlearn: 0.0060762\ttotal: 442ms\tremaining: 7.75s\n",
      "54:\tlearn: 0.0057206\ttotal: 448ms\tremaining: 7.7s\n",
      "55:\tlearn: 0.0053702\ttotal: 455ms\tremaining: 7.66s\n",
      "56:\tlearn: 0.0050561\ttotal: 460ms\tremaining: 7.62s\n",
      "57:\tlearn: 0.0048377\ttotal: 466ms\tremaining: 7.56s\n",
      "58:\tlearn: 0.0045878\ttotal: 470ms\tremaining: 7.5s\n",
      "59:\tlearn: 0.0043352\ttotal: 475ms\tremaining: 7.45s\n",
      "60:\tlearn: 0.0041310\ttotal: 480ms\tremaining: 7.39s\n",
      "61:\tlearn: 0.0039362\ttotal: 485ms\tremaining: 7.33s\n",
      "62:\tlearn: 0.0037719\ttotal: 490ms\tremaining: 7.28s\n",
      "63:\tlearn: 0.0035946\ttotal: 522ms\tremaining: 7.63s\n",
      "64:\tlearn: 0.0034714\ttotal: 529ms\tremaining: 7.61s\n",
      "65:\tlearn: 0.0033057\ttotal: 534ms\tremaining: 7.56s\n",
      "66:\tlearn: 0.0031646\ttotal: 542ms\tremaining: 7.55s\n",
      "67:\tlearn: 0.0030285\ttotal: 550ms\tremaining: 7.54s\n",
      "68:\tlearn: 0.0029261\ttotal: 558ms\tremaining: 7.53s\n",
      "69:\tlearn: 0.0028194\ttotal: 564ms\tremaining: 7.5s\n",
      "70:\tlearn: 0.0027183\ttotal: 570ms\tremaining: 7.46s\n",
      "71:\tlearn: 0.0026182\ttotal: 577ms\tremaining: 7.43s\n",
      "72:\tlearn: 0.0025373\ttotal: 583ms\tremaining: 7.4s\n",
      "73:\tlearn: 0.0024660\ttotal: 589ms\tremaining: 7.37s\n",
      "74:\tlearn: 0.0023832\ttotal: 598ms\tremaining: 7.37s\n",
      "75:\tlearn: 0.0023152\ttotal: 607ms\tremaining: 7.38s\n",
      "76:\tlearn: 0.0022233\ttotal: 619ms\tremaining: 7.42s\n",
      "77:\tlearn: 0.0021613\ttotal: 627ms\tremaining: 7.41s\n",
      "78:\tlearn: 0.0021012\ttotal: 633ms\tremaining: 7.37s\n",
      "79:\tlearn: 0.0020129\ttotal: 638ms\tremaining: 7.34s\n",
      "80:\tlearn: 0.0019434\ttotal: 645ms\tremaining: 7.31s\n",
      "81:\tlearn: 0.0018835\ttotal: 650ms\tremaining: 7.28s\n",
      "82:\tlearn: 0.0018240\ttotal: 656ms\tremaining: 7.24s\n",
      "83:\tlearn: 0.0017699\ttotal: 661ms\tremaining: 7.21s\n",
      "84:\tlearn: 0.0017098\ttotal: 667ms\tremaining: 7.18s\n",
      "85:\tlearn: 0.0016645\ttotal: 673ms\tremaining: 7.15s\n",
      "86:\tlearn: 0.0016159\ttotal: 678ms\tremaining: 7.11s\n",
      "87:\tlearn: 0.0015672\ttotal: 683ms\tremaining: 7.08s\n",
      "88:\tlearn: 0.0015243\ttotal: 688ms\tremaining: 7.04s\n",
      "89:\tlearn: 0.0014750\ttotal: 714ms\tremaining: 7.22s\n",
      "90:\tlearn: 0.0014318\ttotal: 720ms\tremaining: 7.19s\n",
      "91:\tlearn: 0.0013930\ttotal: 726ms\tremaining: 7.16s\n",
      "92:\tlearn: 0.0013448\ttotal: 731ms\tremaining: 7.13s\n",
      "93:\tlearn: 0.0013056\ttotal: 738ms\tremaining: 7.11s\n",
      "94:\tlearn: 0.0012749\ttotal: 744ms\tremaining: 7.08s\n",
      "95:\tlearn: 0.0012403\ttotal: 749ms\tremaining: 7.06s\n",
      "96:\tlearn: 0.0012117\ttotal: 755ms\tremaining: 7.03s\n",
      "97:\tlearn: 0.0011880\ttotal: 761ms\tremaining: 7s\n",
      "98:\tlearn: 0.0011549\ttotal: 767ms\tremaining: 6.98s\n",
      "99:\tlearn: 0.0011320\ttotal: 772ms\tremaining: 6.95s\n",
      "100:\tlearn: 0.0011054\ttotal: 778ms\tremaining: 6.92s\n",
      "101:\tlearn: 0.0010865\ttotal: 784ms\tremaining: 6.9s\n",
      "102:\tlearn: 0.0010682\ttotal: 790ms\tremaining: 6.88s\n",
      "103:\tlearn: 0.0010429\ttotal: 818ms\tremaining: 7.05s\n",
      "104:\tlearn: 0.0010206\ttotal: 828ms\tremaining: 7.06s\n",
      "105:\tlearn: 0.0010020\ttotal: 836ms\tremaining: 7.05s\n",
      "106:\tlearn: 0.0009837\ttotal: 842ms\tremaining: 7.03s\n",
      "107:\tlearn: 0.0009651\ttotal: 847ms\tremaining: 7s\n",
      "108:\tlearn: 0.0009426\ttotal: 853ms\tremaining: 6.97s\n",
      "109:\tlearn: 0.0009262\ttotal: 858ms\tremaining: 6.94s\n",
      "110:\tlearn: 0.0009146\ttotal: 865ms\tremaining: 6.93s\n",
      "111:\tlearn: 0.0008930\ttotal: 871ms\tremaining: 6.91s\n",
      "112:\tlearn: 0.0008693\ttotal: 878ms\tremaining: 6.89s\n",
      "113:\tlearn: 0.0008607\ttotal: 884ms\tremaining: 6.87s\n",
      "114:\tlearn: 0.0008450\ttotal: 890ms\tremaining: 6.85s\n",
      "115:\tlearn: 0.0008325\ttotal: 896ms\tremaining: 6.83s\n",
      "116:\tlearn: 0.0008189\ttotal: 913ms\tremaining: 6.89s\n",
      "117:\tlearn: 0.0008071\ttotal: 919ms\tremaining: 6.87s\n",
      "118:\tlearn: 0.0007969\ttotal: 926ms\tremaining: 6.86s\n",
      "119:\tlearn: 0.0007848\ttotal: 933ms\tremaining: 6.84s\n",
      "120:\tlearn: 0.0007704\ttotal: 939ms\tremaining: 6.82s\n",
      "121:\tlearn: 0.0007528\ttotal: 946ms\tremaining: 6.81s\n",
      "122:\tlearn: 0.0007404\ttotal: 952ms\tremaining: 6.79s\n",
      "123:\tlearn: 0.0007303\ttotal: 958ms\tremaining: 6.77s\n",
      "124:\tlearn: 0.0007184\ttotal: 964ms\tremaining: 6.75s\n",
      "125:\tlearn: 0.0007090\ttotal: 969ms\tremaining: 6.72s\n",
      "126:\tlearn: 0.0006938\ttotal: 975ms\tremaining: 6.7s\n",
      "127:\tlearn: 0.0006858\ttotal: 981ms\tremaining: 6.68s\n",
      "128:\tlearn: 0.0006767\ttotal: 987ms\tremaining: 6.66s\n",
      "129:\tlearn: 0.0006658\ttotal: 1.01s\tremaining: 6.74s\n",
      "130:\tlearn: 0.0006553\ttotal: 1.01s\tremaining: 6.72s\n",
      "131:\tlearn: 0.0006459\ttotal: 1.02s\tremaining: 6.7s\n",
      "132:\tlearn: 0.0006358\ttotal: 1.02s\tremaining: 6.68s\n",
      "133:\tlearn: 0.0006279\ttotal: 1.03s\tremaining: 6.66s\n",
      "134:\tlearn: 0.0006184\ttotal: 1.03s\tremaining: 6.64s\n",
      "135:\tlearn: 0.0006072\ttotal: 1.04s\tremaining: 6.62s\n",
      "136:\tlearn: 0.0005993\ttotal: 1.05s\tremaining: 6.59s\n",
      "137:\tlearn: 0.0005946\ttotal: 1.05s\tremaining: 6.57s\n",
      "138:\tlearn: 0.0005865\ttotal: 1.06s\tremaining: 6.55s\n",
      "139:\tlearn: 0.0005772\ttotal: 1.06s\tremaining: 6.53s\n",
      "140:\tlearn: 0.0005689\ttotal: 1.07s\tremaining: 6.51s\n",
      "141:\tlearn: 0.0005591\ttotal: 1.07s\tremaining: 6.5s\n",
      "142:\tlearn: 0.0005489\ttotal: 1.08s\tremaining: 6.48s\n",
      "143:\tlearn: 0.0005433\ttotal: 1.11s\tremaining: 6.58s\n",
      "144:\tlearn: 0.0005362\ttotal: 1.11s\tremaining: 6.56s\n",
      "145:\tlearn: 0.0005302\ttotal: 1.12s\tremaining: 6.54s\n",
      "146:\tlearn: 0.0005219\ttotal: 1.13s\tremaining: 6.54s\n",
      "147:\tlearn: 0.0005157\ttotal: 1.13s\tremaining: 6.53s\n",
      "148:\tlearn: 0.0005094\ttotal: 1.14s\tremaining: 6.51s\n",
      "149:\tlearn: 0.0005052\ttotal: 1.15s\tremaining: 6.49s\n",
      "150:\tlearn: 0.0004993\ttotal: 1.15s\tremaining: 6.48s\n",
      "151:\tlearn: 0.0004933\ttotal: 1.16s\tremaining: 6.46s\n",
      "152:\tlearn: 0.0004878\ttotal: 1.17s\tremaining: 6.45s\n",
      "153:\tlearn: 0.0004818\ttotal: 1.17s\tremaining: 6.44s\n",
      "154:\tlearn: 0.0004754\ttotal: 1.18s\tremaining: 6.42s\n",
      "155:\tlearn: 0.0004702\ttotal: 1.18s\tremaining: 6.41s\n",
      "156:\tlearn: 0.0004647\ttotal: 1.2s\tremaining: 6.47s\n",
      "157:\tlearn: 0.0004606\ttotal: 1.21s\tremaining: 6.45s\n",
      "158:\tlearn: 0.0004546\ttotal: 1.22s\tremaining: 6.44s\n",
      "159:\tlearn: 0.0004480\ttotal: 1.22s\tremaining: 6.42s\n",
      "160:\tlearn: 0.0004439\ttotal: 1.23s\tremaining: 6.4s\n",
      "161:\tlearn: 0.0004391\ttotal: 1.23s\tremaining: 6.38s\n",
      "162:\tlearn: 0.0004345\ttotal: 1.24s\tremaining: 6.37s\n",
      "163:\tlearn: 0.0004292\ttotal: 1.25s\tremaining: 6.35s\n",
      "164:\tlearn: 0.0004231\ttotal: 1.25s\tremaining: 6.34s\n",
      "165:\tlearn: 0.0004192\ttotal: 1.26s\tremaining: 6.33s\n",
      "166:\tlearn: 0.0004163\ttotal: 1.27s\tremaining: 6.32s\n",
      "167:\tlearn: 0.0004119\ttotal: 1.27s\tremaining: 6.31s\n",
      "168:\tlearn: 0.0004082\ttotal: 1.28s\tremaining: 6.3s\n",
      "169:\tlearn: 0.0004050\ttotal: 1.3s\tremaining: 6.35s\n",
      "170:\tlearn: 0.0003998\ttotal: 1.31s\tremaining: 6.35s\n",
      "171:\tlearn: 0.0003970\ttotal: 1.31s\tremaining: 6.33s\n",
      "172:\tlearn: 0.0003924\ttotal: 1.32s\tremaining: 6.32s\n",
      "173:\tlearn: 0.0003871\ttotal: 1.33s\tremaining: 6.31s\n",
      "174:\tlearn: 0.0003831\ttotal: 1.34s\tremaining: 6.3s\n",
      "175:\tlearn: 0.0003798\ttotal: 1.34s\tremaining: 6.28s\n",
      "176:\tlearn: 0.0003760\ttotal: 1.35s\tremaining: 6.27s\n",
      "177:\tlearn: 0.0003724\ttotal: 1.35s\tremaining: 6.26s\n",
      "178:\tlearn: 0.0003689\ttotal: 1.36s\tremaining: 6.25s\n",
      "179:\tlearn: 0.0003649\ttotal: 1.37s\tremaining: 6.23s\n",
      "180:\tlearn: 0.0003605\ttotal: 1.37s\tremaining: 6.21s\n",
      "181:\tlearn: 0.0003562\ttotal: 1.38s\tremaining: 6.2s\n",
      "182:\tlearn: 0.0003522\ttotal: 1.39s\tremaining: 6.19s\n",
      "183:\tlearn: 0.0003485\ttotal: 1.4s\tremaining: 6.21s\n",
      "184:\tlearn: 0.0003454\ttotal: 1.41s\tremaining: 6.2s\n",
      "185:\tlearn: 0.0003421\ttotal: 1.41s\tremaining: 6.18s\n",
      "186:\tlearn: 0.0003397\ttotal: 1.42s\tremaining: 6.19s\n",
      "187:\tlearn: 0.0003351\ttotal: 1.43s\tremaining: 6.19s\n",
      "188:\tlearn: 0.0003322\ttotal: 1.44s\tremaining: 6.18s\n",
      "189:\tlearn: 0.0003284\ttotal: 1.45s\tremaining: 6.18s\n",
      "190:\tlearn: 0.0003253\ttotal: 1.46s\tremaining: 6.17s\n",
      "191:\tlearn: 0.0003219\ttotal: 1.47s\tremaining: 6.17s\n",
      "192:\tlearn: 0.0003196\ttotal: 1.47s\tremaining: 6.16s\n",
      "193:\tlearn: 0.0003170\ttotal: 1.48s\tremaining: 6.16s\n",
      "194:\tlearn: 0.0003148\ttotal: 1.49s\tremaining: 6.15s\n",
      "195:\tlearn: 0.0003128\ttotal: 1.5s\tremaining: 6.15s\n",
      "196:\tlearn: 0.0003101\ttotal: 1.51s\tremaining: 6.15s\n",
      "197:\tlearn: 0.0003068\ttotal: 1.53s\tremaining: 6.19s\n",
      "198:\tlearn: 0.0003056\ttotal: 1.53s\tremaining: 6.18s\n",
      "199:\tlearn: 0.0003032\ttotal: 1.54s\tremaining: 6.17s\n",
      "200:\tlearn: 0.0003019\ttotal: 1.55s\tremaining: 6.16s\n",
      "201:\tlearn: 0.0002994\ttotal: 1.55s\tremaining: 6.14s\n",
      "202:\tlearn: 0.0002973\ttotal: 1.56s\tremaining: 6.12s\n",
      "203:\tlearn: 0.0002935\ttotal: 1.56s\tremaining: 6.11s\n",
      "204:\tlearn: 0.0002912\ttotal: 1.57s\tremaining: 6.09s\n",
      "205:\tlearn: 0.0002895\ttotal: 1.58s\tremaining: 6.08s\n",
      "206:\tlearn: 0.0002874\ttotal: 1.58s\tremaining: 6.06s\n",
      "207:\tlearn: 0.0002840\ttotal: 1.59s\tremaining: 6.05s\n",
      "208:\tlearn: 0.0002822\ttotal: 1.59s\tremaining: 6.04s\n",
      "209:\tlearn: 0.0002802\ttotal: 1.6s\tremaining: 6.02s\n",
      "210:\tlearn: 0.0002781\ttotal: 1.61s\tremaining: 6.01s\n",
      "211:\tlearn: 0.0002765\ttotal: 1.61s\tremaining: 6s\n",
      "212:\tlearn: 0.0002740\ttotal: 1.62s\tremaining: 6s\n",
      "213:\tlearn: 0.0002721\ttotal: 1.63s\tremaining: 5.99s\n",
      "214:\tlearn: 0.0002707\ttotal: 1.64s\tremaining: 5.98s\n",
      "215:\tlearn: 0.0002689\ttotal: 1.65s\tremaining: 5.97s\n",
      "216:\tlearn: 0.0002672\ttotal: 1.65s\tremaining: 5.97s\n",
      "217:\tlearn: 0.0002652\ttotal: 1.66s\tremaining: 5.96s\n",
      "218:\tlearn: 0.0002631\ttotal: 1.67s\tremaining: 5.96s\n",
      "219:\tlearn: 0.0002608\ttotal: 1.68s\tremaining: 5.94s\n",
      "220:\tlearn: 0.0002590\ttotal: 1.68s\tremaining: 5.93s\n",
      "221:\tlearn: 0.0002578\ttotal: 1.69s\tremaining: 5.93s\n",
      "222:\tlearn: 0.0002561\ttotal: 1.7s\tremaining: 5.92s\n",
      "223:\tlearn: 0.0002546\ttotal: 1.71s\tremaining: 5.91s\n",
      "224:\tlearn: 0.0002530\ttotal: 1.71s\tremaining: 5.89s\n",
      "225:\tlearn: 0.0002514\ttotal: 1.72s\tremaining: 5.88s\n",
      "226:\tlearn: 0.0002494\ttotal: 1.72s\tremaining: 5.87s\n",
      "227:\tlearn: 0.0002472\ttotal: 1.73s\tremaining: 5.85s\n",
      "228:\tlearn: 0.0002454\ttotal: 1.74s\tremaining: 5.84s\n",
      "229:\tlearn: 0.0002439\ttotal: 1.74s\tremaining: 5.83s\n",
      "230:\tlearn: 0.0002429\ttotal: 1.75s\tremaining: 5.81s\n",
      "231:\tlearn: 0.0002414\ttotal: 1.75s\tremaining: 5.8s\n",
      "232:\tlearn: 0.0002401\ttotal: 1.76s\tremaining: 5.78s\n",
      "233:\tlearn: 0.0002379\ttotal: 1.76s\tremaining: 5.77s\n",
      "234:\tlearn: 0.0002361\ttotal: 1.77s\tremaining: 5.76s\n",
      "235:\tlearn: 0.0002343\ttotal: 1.79s\tremaining: 5.79s\n",
      "236:\tlearn: 0.0002330\ttotal: 1.79s\tremaining: 5.77s\n",
      "237:\tlearn: 0.0002313\ttotal: 1.8s\tremaining: 5.76s\n",
      "238:\tlearn: 0.0002298\ttotal: 1.8s\tremaining: 5.74s\n",
      "239:\tlearn: 0.0002286\ttotal: 1.81s\tremaining: 5.73s\n",
      "240:\tlearn: 0.0002273\ttotal: 1.81s\tremaining: 5.71s\n",
      "241:\tlearn: 0.0002260\ttotal: 1.82s\tremaining: 5.7s\n",
      "242:\tlearn: 0.0002249\ttotal: 1.82s\tremaining: 5.68s\n",
      "243:\tlearn: 0.0002232\ttotal: 1.83s\tremaining: 5.67s\n",
      "244:\tlearn: 0.0002220\ttotal: 1.83s\tremaining: 5.65s\n",
      "245:\tlearn: 0.0002207\ttotal: 1.84s\tremaining: 5.64s\n",
      "246:\tlearn: 0.0002199\ttotal: 1.85s\tremaining: 5.63s\n",
      "247:\tlearn: 0.0002186\ttotal: 1.85s\tremaining: 5.62s\n",
      "248:\tlearn: 0.0002171\ttotal: 1.89s\tremaining: 5.69s\n",
      "249:\tlearn: 0.0002158\ttotal: 1.89s\tremaining: 5.67s\n",
      "250:\tlearn: 0.0002145\ttotal: 1.9s\tremaining: 5.66s\n",
      "251:\tlearn: 0.0002131\ttotal: 1.9s\tremaining: 5.65s\n",
      "252:\tlearn: 0.0002119\ttotal: 1.91s\tremaining: 5.64s\n",
      "253:\tlearn: 0.0002109\ttotal: 1.92s\tremaining: 5.63s\n",
      "254:\tlearn: 0.0002094\ttotal: 1.92s\tremaining: 5.62s\n",
      "255:\tlearn: 0.0002081\ttotal: 1.93s\tremaining: 5.61s\n",
      "256:\tlearn: 0.0002067\ttotal: 1.94s\tremaining: 5.6s\n",
      "257:\tlearn: 0.0002052\ttotal: 1.94s\tremaining: 5.59s\n",
      "258:\tlearn: 0.0002039\ttotal: 1.95s\tremaining: 5.58s\n",
      "259:\tlearn: 0.0002028\ttotal: 1.96s\tremaining: 5.57s\n",
      "260:\tlearn: 0.0002018\ttotal: 1.96s\tremaining: 5.56s\n",
      "261:\tlearn: 0.0002008\ttotal: 1.98s\tremaining: 5.59s\n",
      "262:\tlearn: 0.0001997\ttotal: 1.99s\tremaining: 5.57s\n",
      "263:\tlearn: 0.0001987\ttotal: 2s\tremaining: 5.56s\n",
      "264:\tlearn: 0.0001975\ttotal: 2s\tremaining: 5.55s\n",
      "265:\tlearn: 0.0001962\ttotal: 2.01s\tremaining: 5.54s\n",
      "266:\tlearn: 0.0001947\ttotal: 2.01s\tremaining: 5.53s\n",
      "267:\tlearn: 0.0001937\ttotal: 2.02s\tremaining: 5.51s\n",
      "268:\tlearn: 0.0001922\ttotal: 2.02s\tremaining: 5.5s\n",
      "269:\tlearn: 0.0001913\ttotal: 2.03s\tremaining: 5.49s\n",
      "270:\tlearn: 0.0001901\ttotal: 2.04s\tremaining: 5.48s\n",
      "271:\tlearn: 0.0001894\ttotal: 2.04s\tremaining: 5.47s\n",
      "272:\tlearn: 0.0001883\ttotal: 2.05s\tremaining: 5.45s\n",
      "273:\tlearn: 0.0001876\ttotal: 2.05s\tremaining: 5.44s\n",
      "274:\tlearn: 0.0001868\ttotal: 2.08s\tremaining: 5.48s\n",
      "275:\tlearn: 0.0001856\ttotal: 2.09s\tremaining: 5.47s\n",
      "276:\tlearn: 0.0001848\ttotal: 2.09s\tremaining: 5.46s\n",
      "277:\tlearn: 0.0001838\ttotal: 2.1s\tremaining: 5.45s\n",
      "278:\tlearn: 0.0001831\ttotal: 2.1s\tremaining: 5.43s\n",
      "279:\tlearn: 0.0001825\ttotal: 2.11s\tremaining: 5.42s\n",
      "280:\tlearn: 0.0001817\ttotal: 2.11s\tremaining: 5.41s\n",
      "281:\tlearn: 0.0001812\ttotal: 2.12s\tremaining: 5.4s\n",
      "282:\tlearn: 0.0001805\ttotal: 2.13s\tremaining: 5.39s\n",
      "283:\tlearn: 0.0001794\ttotal: 2.13s\tremaining: 5.38s\n",
      "284:\tlearn: 0.0001784\ttotal: 2.14s\tremaining: 5.37s\n",
      "285:\tlearn: 0.0001774\ttotal: 2.14s\tremaining: 5.35s\n",
      "286:\tlearn: 0.0001765\ttotal: 2.15s\tremaining: 5.34s\n",
      "287:\tlearn: 0.0001760\ttotal: 2.16s\tremaining: 5.35s\n",
      "288:\tlearn: 0.0001750\ttotal: 2.18s\tremaining: 5.36s\n",
      "289:\tlearn: 0.0001738\ttotal: 2.18s\tremaining: 5.35s\n",
      "290:\tlearn: 0.0001731\ttotal: 2.19s\tremaining: 5.34s\n",
      "291:\tlearn: 0.0001723\ttotal: 2.2s\tremaining: 5.33s\n",
      "292:\tlearn: 0.0001714\ttotal: 2.21s\tremaining: 5.32s\n",
      "293:\tlearn: 0.0001707\ttotal: 2.21s\tremaining: 5.31s\n",
      "294:\tlearn: 0.0001698\ttotal: 2.22s\tremaining: 5.3s\n",
      "295:\tlearn: 0.0001694\ttotal: 2.23s\tremaining: 5.29s\n",
      "296:\tlearn: 0.0001685\ttotal: 2.23s\tremaining: 5.28s\n",
      "297:\tlearn: 0.0001677\ttotal: 2.24s\tremaining: 5.27s\n",
      "298:\tlearn: 0.0001668\ttotal: 2.24s\tremaining: 5.26s\n",
      "299:\tlearn: 0.0001659\ttotal: 2.25s\tremaining: 5.25s\n",
      "300:\tlearn: 0.0001650\ttotal: 2.27s\tremaining: 5.28s\n",
      "301:\tlearn: 0.0001640\ttotal: 2.28s\tremaining: 5.27s\n",
      "302:\tlearn: 0.0001635\ttotal: 2.29s\tremaining: 5.26s\n",
      "303:\tlearn: 0.0001627\ttotal: 2.29s\tremaining: 5.25s\n",
      "304:\tlearn: 0.0001622\ttotal: 2.3s\tremaining: 5.24s\n",
      "305:\tlearn: 0.0001612\ttotal: 2.31s\tremaining: 5.23s\n",
      "306:\tlearn: 0.0001606\ttotal: 2.31s\tremaining: 5.22s\n",
      "307:\tlearn: 0.0001599\ttotal: 2.32s\tremaining: 5.21s\n",
      "308:\tlearn: 0.0001594\ttotal: 2.33s\tremaining: 5.2s\n",
      "309:\tlearn: 0.0001589\ttotal: 2.33s\tremaining: 5.19s\n",
      "310:\tlearn: 0.0001583\ttotal: 2.34s\tremaining: 5.18s\n",
      "311:\tlearn: 0.0001575\ttotal: 2.34s\tremaining: 5.17s\n",
      "312:\tlearn: 0.0001568\ttotal: 2.35s\tremaining: 5.15s\n",
      "313:\tlearn: 0.0001561\ttotal: 2.35s\tremaining: 5.15s\n",
      "314:\tlearn: 0.0001557\ttotal: 2.37s\tremaining: 5.16s\n",
      "315:\tlearn: 0.0001550\ttotal: 2.38s\tremaining: 5.16s\n",
      "316:\tlearn: 0.0001547\ttotal: 2.39s\tremaining: 5.15s\n",
      "317:\tlearn: 0.0001540\ttotal: 2.4s\tremaining: 5.14s\n",
      "318:\tlearn: 0.0001534\ttotal: 2.4s\tremaining: 5.13s\n",
      "319:\tlearn: 0.0001529\ttotal: 2.41s\tremaining: 5.12s\n",
      "320:\tlearn: 0.0001523\ttotal: 2.42s\tremaining: 5.11s\n",
      "321:\tlearn: 0.0001518\ttotal: 2.42s\tremaining: 5.1s\n",
      "322:\tlearn: 0.0001512\ttotal: 2.43s\tremaining: 5.09s\n",
      "323:\tlearn: 0.0001507\ttotal: 2.43s\tremaining: 5.08s\n",
      "324:\tlearn: 0.0001500\ttotal: 2.44s\tremaining: 5.07s\n",
      "325:\tlearn: 0.0001495\ttotal: 2.45s\tremaining: 5.06s\n",
      "326:\tlearn: 0.0001488\ttotal: 2.46s\tremaining: 5.06s\n",
      "327:\tlearn: 0.0001481\ttotal: 2.47s\tremaining: 5.06s\n",
      "328:\tlearn: 0.0001473\ttotal: 2.48s\tremaining: 5.06s\n",
      "329:\tlearn: 0.0001466\ttotal: 2.49s\tremaining: 5.05s\n",
      "330:\tlearn: 0.0001460\ttotal: 2.49s\tremaining: 5.04s\n",
      "331:\tlearn: 0.0001454\ttotal: 2.5s\tremaining: 5.03s\n",
      "332:\tlearn: 0.0001446\ttotal: 2.5s\tremaining: 5.01s\n",
      "333:\tlearn: 0.0001440\ttotal: 2.51s\tremaining: 5s\n",
      "334:\tlearn: 0.0001433\ttotal: 2.52s\tremaining: 4.99s\n",
      "335:\tlearn: 0.0001426\ttotal: 2.52s\tremaining: 4.99s\n",
      "336:\tlearn: 0.0001421\ttotal: 2.53s\tremaining: 4.97s\n",
      "337:\tlearn: 0.0001413\ttotal: 2.53s\tremaining: 4.96s\n",
      "338:\tlearn: 0.0001410\ttotal: 2.54s\tremaining: 4.95s\n",
      "339:\tlearn: 0.0001406\ttotal: 2.54s\tremaining: 4.94s\n",
      "340:\tlearn: 0.0001399\ttotal: 2.55s\tremaining: 4.93s\n",
      "341:\tlearn: 0.0001391\ttotal: 2.57s\tremaining: 4.94s\n",
      "342:\tlearn: 0.0001386\ttotal: 2.58s\tremaining: 4.94s\n",
      "343:\tlearn: 0.0001381\ttotal: 2.58s\tremaining: 4.93s\n",
      "344:\tlearn: 0.0001375\ttotal: 2.59s\tremaining: 4.92s\n",
      "345:\tlearn: 0.0001372\ttotal: 2.6s\tremaining: 4.91s\n",
      "346:\tlearn: 0.0001368\ttotal: 2.6s\tremaining: 4.9s\n",
      "347:\tlearn: 0.0001363\ttotal: 2.61s\tremaining: 4.89s\n",
      "348:\tlearn: 0.0001355\ttotal: 2.62s\tremaining: 4.88s\n",
      "349:\tlearn: 0.0001350\ttotal: 2.62s\tremaining: 4.87s\n",
      "350:\tlearn: 0.0001344\ttotal: 2.63s\tremaining: 4.86s\n",
      "351:\tlearn: 0.0001341\ttotal: 2.63s\tremaining: 4.85s\n",
      "352:\tlearn: 0.0001337\ttotal: 2.64s\tremaining: 4.84s\n",
      "353:\tlearn: 0.0001333\ttotal: 2.65s\tremaining: 4.83s\n",
      "354:\tlearn: 0.0001328\ttotal: 2.67s\tremaining: 4.84s\n",
      "355:\tlearn: 0.0001322\ttotal: 2.67s\tremaining: 4.83s\n",
      "356:\tlearn: 0.0001316\ttotal: 2.68s\tremaining: 4.82s\n",
      "357:\tlearn: 0.0001312\ttotal: 2.68s\tremaining: 4.81s\n",
      "358:\tlearn: 0.0001307\ttotal: 2.69s\tremaining: 4.8s\n",
      "359:\tlearn: 0.0001302\ttotal: 2.69s\tremaining: 4.79s\n",
      "360:\tlearn: 0.0001297\ttotal: 2.7s\tremaining: 4.78s\n",
      "361:\tlearn: 0.0001293\ttotal: 2.71s\tremaining: 4.77s\n",
      "362:\tlearn: 0.0001289\ttotal: 2.72s\tremaining: 4.77s\n",
      "363:\tlearn: 0.0001283\ttotal: 2.73s\tremaining: 4.77s\n",
      "364:\tlearn: 0.0001279\ttotal: 2.73s\tremaining: 4.76s\n",
      "365:\tlearn: 0.0001275\ttotal: 2.74s\tremaining: 4.75s\n",
      "366:\tlearn: 0.0001270\ttotal: 2.75s\tremaining: 4.74s\n",
      "367:\tlearn: 0.0001267\ttotal: 2.76s\tremaining: 4.75s\n",
      "368:\tlearn: 0.0001264\ttotal: 2.77s\tremaining: 4.74s\n",
      "369:\tlearn: 0.0001261\ttotal: 2.78s\tremaining: 4.73s\n",
      "370:\tlearn: 0.0001256\ttotal: 2.78s\tremaining: 4.72s\n",
      "371:\tlearn: 0.0001251\ttotal: 2.79s\tremaining: 4.71s\n",
      "372:\tlearn: 0.0001247\ttotal: 2.79s\tremaining: 4.7s\n",
      "373:\tlearn: 0.0001243\ttotal: 2.8s\tremaining: 4.69s\n",
      "374:\tlearn: 0.0001239\ttotal: 2.81s\tremaining: 4.68s\n",
      "375:\tlearn: 0.0001236\ttotal: 2.81s\tremaining: 4.67s\n",
      "376:\tlearn: 0.0001232\ttotal: 2.82s\tremaining: 4.66s\n",
      "377:\tlearn: 0.0001228\ttotal: 2.82s\tremaining: 4.65s\n",
      "378:\tlearn: 0.0001224\ttotal: 2.83s\tremaining: 4.64s\n",
      "379:\tlearn: 0.0001220\ttotal: 2.83s\tremaining: 4.63s\n",
      "380:\tlearn: 0.0001218\ttotal: 2.86s\tremaining: 4.64s\n",
      "381:\tlearn: 0.0001213\ttotal: 2.86s\tremaining: 4.63s\n",
      "382:\tlearn: 0.0001210\ttotal: 2.87s\tremaining: 4.62s\n",
      "383:\tlearn: 0.0001203\ttotal: 2.87s\tremaining: 4.61s\n",
      "384:\tlearn: 0.0001199\ttotal: 2.88s\tremaining: 4.6s\n",
      "385:\tlearn: 0.0001194\ttotal: 2.88s\tremaining: 4.59s\n",
      "386:\tlearn: 0.0001191\ttotal: 2.89s\tremaining: 4.58s\n",
      "387:\tlearn: 0.0001187\ttotal: 2.9s\tremaining: 4.57s\n",
      "388:\tlearn: 0.0001183\ttotal: 2.9s\tremaining: 4.56s\n",
      "389:\tlearn: 0.0001176\ttotal: 2.91s\tremaining: 4.55s\n",
      "390:\tlearn: 0.0001172\ttotal: 2.91s\tremaining: 4.54s\n",
      "391:\tlearn: 0.0001169\ttotal: 2.92s\tremaining: 4.53s\n",
      "392:\tlearn: 0.0001166\ttotal: 2.93s\tremaining: 4.52s\n",
      "393:\tlearn: 0.0001161\ttotal: 2.96s\tremaining: 4.55s\n",
      "394:\tlearn: 0.0001156\ttotal: 2.96s\tremaining: 4.54s\n",
      "395:\tlearn: 0.0001152\ttotal: 2.97s\tremaining: 4.53s\n",
      "396:\tlearn: 0.0001149\ttotal: 2.97s\tremaining: 4.52s\n",
      "397:\tlearn: 0.0001146\ttotal: 2.98s\tremaining: 4.51s\n",
      "398:\tlearn: 0.0001143\ttotal: 2.99s\tremaining: 4.5s\n",
      "399:\tlearn: 0.0001138\ttotal: 2.99s\tremaining: 4.49s\n",
      "400:\tlearn: 0.0001135\ttotal: 3s\tremaining: 4.48s\n",
      "401:\tlearn: 0.0001131\ttotal: 3.01s\tremaining: 4.47s\n",
      "402:\tlearn: 0.0001127\ttotal: 3.01s\tremaining: 4.46s\n",
      "403:\tlearn: 0.0001123\ttotal: 3.02s\tremaining: 4.46s\n",
      "404:\tlearn: 0.0001121\ttotal: 3.03s\tremaining: 4.45s\n",
      "405:\tlearn: 0.0001118\ttotal: 3.04s\tremaining: 4.44s\n",
      "406:\tlearn: 0.0001115\ttotal: 3.04s\tremaining: 4.43s\n",
      "407:\tlearn: 0.0001111\ttotal: 3.05s\tremaining: 4.43s\n",
      "408:\tlearn: 0.0001107\ttotal: 3.06s\tremaining: 4.42s\n",
      "409:\tlearn: 0.0001104\ttotal: 3.07s\tremaining: 4.41s\n",
      "410:\tlearn: 0.0001100\ttotal: 3.07s\tremaining: 4.4s\n",
      "411:\tlearn: 0.0001098\ttotal: 3.08s\tremaining: 4.39s\n",
      "412:\tlearn: 0.0001095\ttotal: 3.08s\tremaining: 4.38s\n",
      "413:\tlearn: 0.0001092\ttotal: 3.09s\tremaining: 4.37s\n",
      "414:\tlearn: 0.0001088\ttotal: 3.1s\tremaining: 4.36s\n",
      "415:\tlearn: 0.0001085\ttotal: 3.1s\tremaining: 4.35s\n",
      "416:\tlearn: 0.0001082\ttotal: 3.11s\tremaining: 4.34s\n",
      "417:\tlearn: 0.0001079\ttotal: 3.11s\tremaining: 4.33s\n",
      "418:\tlearn: 0.0001076\ttotal: 3.12s\tremaining: 4.32s\n",
      "419:\tlearn: 0.0001072\ttotal: 3.12s\tremaining: 4.31s\n",
      "420:\tlearn: 0.0001069\ttotal: 3.15s\tremaining: 4.33s\n",
      "421:\tlearn: 0.0001065\ttotal: 3.16s\tremaining: 4.33s\n",
      "422:\tlearn: 0.0001062\ttotal: 3.17s\tremaining: 4.32s\n",
      "423:\tlearn: 0.0001060\ttotal: 3.17s\tremaining: 4.31s\n",
      "424:\tlearn: 0.0001057\ttotal: 3.18s\tremaining: 4.3s\n",
      "425:\tlearn: 0.0001053\ttotal: 3.18s\tremaining: 4.29s\n",
      "426:\tlearn: 0.0001050\ttotal: 3.19s\tremaining: 4.28s\n",
      "427:\tlearn: 0.0001048\ttotal: 3.19s\tremaining: 4.27s\n",
      "428:\tlearn: 0.0001044\ttotal: 3.2s\tremaining: 4.26s\n",
      "429:\tlearn: 0.0001041\ttotal: 3.21s\tremaining: 4.25s\n",
      "430:\tlearn: 0.0001039\ttotal: 3.21s\tremaining: 4.24s\n",
      "431:\tlearn: 0.0001036\ttotal: 3.22s\tremaining: 4.23s\n",
      "432:\tlearn: 0.0001034\ttotal: 3.22s\tremaining: 4.22s\n",
      "433:\tlearn: 0.0001031\ttotal: 3.25s\tremaining: 4.23s\n",
      "434:\tlearn: 0.0001027\ttotal: 3.25s\tremaining: 4.22s\n",
      "435:\tlearn: 0.0001024\ttotal: 3.26s\tremaining: 4.21s\n",
      "436:\tlearn: 0.0001022\ttotal: 3.26s\tremaining: 4.21s\n",
      "437:\tlearn: 0.0001019\ttotal: 3.27s\tremaining: 4.2s\n",
      "438:\tlearn: 0.0001016\ttotal: 3.28s\tremaining: 4.19s\n",
      "439:\tlearn: 0.0001012\ttotal: 3.28s\tremaining: 4.18s\n",
      "440:\tlearn: 0.0001010\ttotal: 3.29s\tremaining: 4.17s\n",
      "441:\tlearn: 0.0001007\ttotal: 3.29s\tremaining: 4.16s\n",
      "442:\tlearn: 0.0001004\ttotal: 3.3s\tremaining: 4.15s\n",
      "443:\tlearn: 0.0001002\ttotal: 3.31s\tremaining: 4.14s\n",
      "444:\tlearn: 0.0000999\ttotal: 3.31s\tremaining: 4.13s\n",
      "445:\tlearn: 0.0000998\ttotal: 3.32s\tremaining: 4.12s\n",
      "446:\tlearn: 0.0000996\ttotal: 3.33s\tremaining: 4.12s\n",
      "447:\tlearn: 0.0000993\ttotal: 3.35s\tremaining: 4.12s\n",
      "448:\tlearn: 0.0000990\ttotal: 3.35s\tremaining: 4.11s\n",
      "449:\tlearn: 0.0000989\ttotal: 3.36s\tremaining: 4.11s\n",
      "450:\tlearn: 0.0000985\ttotal: 3.37s\tremaining: 4.1s\n",
      "451:\tlearn: 0.0000983\ttotal: 3.37s\tremaining: 4.09s\n",
      "452:\tlearn: 0.0000981\ttotal: 3.38s\tremaining: 4.08s\n",
      "453:\tlearn: 0.0000979\ttotal: 3.38s\tremaining: 4.07s\n",
      "454:\tlearn: 0.0000976\ttotal: 3.39s\tremaining: 4.06s\n",
      "455:\tlearn: 0.0000974\ttotal: 3.4s\tremaining: 4.05s\n",
      "456:\tlearn: 0.0000971\ttotal: 3.4s\tremaining: 4.04s\n",
      "457:\tlearn: 0.0000968\ttotal: 3.41s\tremaining: 4.03s\n",
      "458:\tlearn: 0.0000965\ttotal: 3.42s\tremaining: 4.03s\n",
      "459:\tlearn: 0.0000961\ttotal: 3.42s\tremaining: 4.02s\n",
      "460:\tlearn: 0.0000960\ttotal: 3.45s\tremaining: 4.03s\n",
      "461:\tlearn: 0.0000956\ttotal: 3.45s\tremaining: 4.02s\n",
      "462:\tlearn: 0.0000953\ttotal: 3.46s\tremaining: 4.01s\n",
      "463:\tlearn: 0.0000951\ttotal: 3.47s\tremaining: 4.01s\n",
      "464:\tlearn: 0.0000949\ttotal: 3.48s\tremaining: 4s\n",
      "465:\tlearn: 0.0000947\ttotal: 3.48s\tremaining: 3.99s\n",
      "466:\tlearn: 0.0000944\ttotal: 3.49s\tremaining: 3.98s\n",
      "467:\tlearn: 0.0000941\ttotal: 3.49s\tremaining: 3.97s\n",
      "468:\tlearn: 0.0000939\ttotal: 3.5s\tremaining: 3.96s\n",
      "469:\tlearn: 0.0000937\ttotal: 3.51s\tremaining: 3.95s\n",
      "470:\tlearn: 0.0000935\ttotal: 3.51s\tremaining: 3.94s\n",
      "471:\tlearn: 0.0000932\ttotal: 3.52s\tremaining: 3.94s\n",
      "472:\tlearn: 0.0000929\ttotal: 3.52s\tremaining: 3.93s\n",
      "473:\tlearn: 0.0000926\ttotal: 3.53s\tremaining: 3.92s\n",
      "474:\tlearn: 0.0000924\ttotal: 3.54s\tremaining: 3.92s\n",
      "475:\tlearn: 0.0000921\ttotal: 3.55s\tremaining: 3.91s\n",
      "476:\tlearn: 0.0000920\ttotal: 3.56s\tremaining: 3.9s\n",
      "477:\tlearn: 0.0000917\ttotal: 3.56s\tremaining: 3.89s\n",
      "478:\tlearn: 0.0000914\ttotal: 3.57s\tremaining: 3.88s\n",
      "479:\tlearn: 0.0000912\ttotal: 3.57s\tremaining: 3.87s\n",
      "480:\tlearn: 0.0000909\ttotal: 3.58s\tremaining: 3.86s\n",
      "481:\tlearn: 0.0000907\ttotal: 3.59s\tremaining: 3.85s\n",
      "482:\tlearn: 0.0000905\ttotal: 3.59s\tremaining: 3.85s\n",
      "483:\tlearn: 0.0000902\ttotal: 3.6s\tremaining: 3.84s\n",
      "484:\tlearn: 0.0000899\ttotal: 3.61s\tremaining: 3.83s\n",
      "485:\tlearn: 0.0000897\ttotal: 3.62s\tremaining: 3.83s\n",
      "486:\tlearn: 0.0000894\ttotal: 3.64s\tremaining: 3.83s\n",
      "487:\tlearn: 0.0000892\ttotal: 3.65s\tremaining: 3.83s\n",
      "488:\tlearn: 0.0000890\ttotal: 3.66s\tremaining: 3.82s\n",
      "489:\tlearn: 0.0000888\ttotal: 3.66s\tremaining: 3.81s\n",
      "490:\tlearn: 0.0000886\ttotal: 3.67s\tremaining: 3.8s\n",
      "491:\tlearn: 0.0000884\ttotal: 3.67s\tremaining: 3.79s\n",
      "492:\tlearn: 0.0000881\ttotal: 3.68s\tremaining: 3.79s\n",
      "493:\tlearn: 0.0000879\ttotal: 3.69s\tremaining: 3.78s\n",
      "494:\tlearn: 0.0000876\ttotal: 3.69s\tremaining: 3.77s\n",
      "495:\tlearn: 0.0000874\ttotal: 3.7s\tremaining: 3.76s\n",
      "496:\tlearn: 0.0000871\ttotal: 3.71s\tremaining: 3.75s\n",
      "497:\tlearn: 0.0000869\ttotal: 3.71s\tremaining: 3.74s\n",
      "498:\tlearn: 0.0000866\ttotal: 3.72s\tremaining: 3.74s\n",
      "499:\tlearn: 0.0000864\ttotal: 3.74s\tremaining: 3.74s\n",
      "500:\tlearn: 0.0000862\ttotal: 3.74s\tremaining: 3.73s\n",
      "501:\tlearn: 0.0000859\ttotal: 3.75s\tremaining: 3.72s\n",
      "502:\tlearn: 0.0000857\ttotal: 3.75s\tremaining: 3.71s\n",
      "503:\tlearn: 0.0000854\ttotal: 3.76s\tremaining: 3.7s\n",
      "504:\tlearn: 0.0000853\ttotal: 3.77s\tremaining: 3.69s\n",
      "505:\tlearn: 0.0000852\ttotal: 3.77s\tremaining: 3.68s\n",
      "506:\tlearn: 0.0000850\ttotal: 3.78s\tremaining: 3.67s\n",
      "507:\tlearn: 0.0000848\ttotal: 3.78s\tremaining: 3.67s\n",
      "508:\tlearn: 0.0000846\ttotal: 3.79s\tremaining: 3.66s\n",
      "509:\tlearn: 0.0000843\ttotal: 3.8s\tremaining: 3.65s\n",
      "510:\tlearn: 0.0000841\ttotal: 3.81s\tremaining: 3.64s\n",
      "511:\tlearn: 0.0000839\ttotal: 3.82s\tremaining: 3.64s\n",
      "512:\tlearn: 0.0000837\ttotal: 3.83s\tremaining: 3.64s\n",
      "513:\tlearn: 0.0000834\ttotal: 3.84s\tremaining: 3.63s\n",
      "514:\tlearn: 0.0000832\ttotal: 3.85s\tremaining: 3.62s\n",
      "515:\tlearn: 0.0000830\ttotal: 3.85s\tremaining: 3.62s\n",
      "516:\tlearn: 0.0000828\ttotal: 3.86s\tremaining: 3.61s\n",
      "517:\tlearn: 0.0000826\ttotal: 3.87s\tremaining: 3.6s\n",
      "518:\tlearn: 0.0000823\ttotal: 3.87s\tremaining: 3.59s\n",
      "519:\tlearn: 0.0000821\ttotal: 3.88s\tremaining: 3.58s\n",
      "520:\tlearn: 0.0000820\ttotal: 3.88s\tremaining: 3.57s\n",
      "521:\tlearn: 0.0000818\ttotal: 3.89s\tremaining: 3.56s\n",
      "522:\tlearn: 0.0000815\ttotal: 3.89s\tremaining: 3.55s\n",
      "523:\tlearn: 0.0000813\ttotal: 3.9s\tremaining: 3.54s\n",
      "524:\tlearn: 0.0000812\ttotal: 3.91s\tremaining: 3.53s\n",
      "525:\tlearn: 0.0000810\ttotal: 3.91s\tremaining: 3.53s\n",
      "526:\tlearn: 0.0000808\ttotal: 3.93s\tremaining: 3.53s\n",
      "527:\tlearn: 0.0000806\ttotal: 3.94s\tremaining: 3.52s\n",
      "528:\tlearn: 0.0000804\ttotal: 3.94s\tremaining: 3.51s\n",
      "529:\tlearn: 0.0000802\ttotal: 3.95s\tremaining: 3.5s\n",
      "530:\tlearn: 0.0000800\ttotal: 3.96s\tremaining: 3.5s\n",
      "531:\tlearn: 0.0000798\ttotal: 3.96s\tremaining: 3.49s\n",
      "532:\tlearn: 0.0000796\ttotal: 3.97s\tremaining: 3.48s\n",
      "533:\tlearn: 0.0000794\ttotal: 3.98s\tremaining: 3.47s\n",
      "534:\tlearn: 0.0000792\ttotal: 3.98s\tremaining: 3.46s\n",
      "535:\tlearn: 0.0000790\ttotal: 3.99s\tremaining: 3.45s\n",
      "536:\tlearn: 0.0000788\ttotal: 4s\tremaining: 3.44s\n",
      "537:\tlearn: 0.0000786\ttotal: 4s\tremaining: 3.44s\n",
      "538:\tlearn: 0.0000784\ttotal: 4.01s\tremaining: 3.43s\n",
      "539:\tlearn: 0.0000782\ttotal: 4.03s\tremaining: 3.43s\n",
      "540:\tlearn: 0.0000780\ttotal: 4.04s\tremaining: 3.42s\n",
      "541:\tlearn: 0.0000779\ttotal: 4.04s\tremaining: 3.42s\n",
      "542:\tlearn: 0.0000777\ttotal: 4.05s\tremaining: 3.41s\n",
      "543:\tlearn: 0.0000775\ttotal: 4.05s\tremaining: 3.4s\n",
      "544:\tlearn: 0.0000773\ttotal: 4.06s\tremaining: 3.39s\n",
      "545:\tlearn: 0.0000771\ttotal: 4.07s\tremaining: 3.38s\n",
      "546:\tlearn: 0.0000769\ttotal: 4.07s\tremaining: 3.37s\n",
      "547:\tlearn: 0.0000768\ttotal: 4.08s\tremaining: 3.36s\n",
      "548:\tlearn: 0.0000766\ttotal: 4.08s\tremaining: 3.35s\n",
      "549:\tlearn: 0.0000764\ttotal: 4.09s\tremaining: 3.35s\n",
      "550:\tlearn: 0.0000762\ttotal: 4.1s\tremaining: 3.34s\n",
      "551:\tlearn: 0.0000761\ttotal: 4.1s\tremaining: 3.33s\n",
      "552:\tlearn: 0.0000759\ttotal: 4.13s\tremaining: 3.33s\n",
      "553:\tlearn: 0.0000757\ttotal: 4.13s\tremaining: 3.33s\n",
      "554:\tlearn: 0.0000755\ttotal: 4.14s\tremaining: 3.32s\n",
      "555:\tlearn: 0.0000753\ttotal: 4.14s\tremaining: 3.31s\n",
      "556:\tlearn: 0.0000752\ttotal: 4.15s\tremaining: 3.3s\n",
      "557:\tlearn: 0.0000750\ttotal: 4.16s\tremaining: 3.29s\n",
      "558:\tlearn: 0.0000748\ttotal: 4.16s\tremaining: 3.29s\n",
      "559:\tlearn: 0.0000747\ttotal: 4.17s\tremaining: 3.28s\n",
      "560:\tlearn: 0.0000745\ttotal: 4.17s\tremaining: 3.27s\n",
      "561:\tlearn: 0.0000743\ttotal: 4.18s\tremaining: 3.26s\n",
      "562:\tlearn: 0.0000741\ttotal: 4.19s\tremaining: 3.25s\n",
      "563:\tlearn: 0.0000739\ttotal: 4.19s\tremaining: 3.24s\n",
      "564:\tlearn: 0.0000738\ttotal: 4.2s\tremaining: 3.23s\n",
      "565:\tlearn: 0.0000736\ttotal: 4.2s\tremaining: 3.22s\n",
      "566:\tlearn: 0.0000735\ttotal: 4.22s\tremaining: 3.23s\n",
      "567:\tlearn: 0.0000733\ttotal: 4.23s\tremaining: 3.22s\n",
      "568:\tlearn: 0.0000731\ttotal: 4.24s\tremaining: 3.21s\n",
      "569:\tlearn: 0.0000730\ttotal: 4.24s\tremaining: 3.2s\n",
      "570:\tlearn: 0.0000728\ttotal: 4.25s\tremaining: 3.19s\n",
      "571:\tlearn: 0.0000726\ttotal: 4.25s\tremaining: 3.18s\n",
      "572:\tlearn: 0.0000725\ttotal: 4.26s\tremaining: 3.17s\n",
      "573:\tlearn: 0.0000723\ttotal: 4.27s\tremaining: 3.17s\n",
      "574:\tlearn: 0.0000721\ttotal: 4.27s\tremaining: 3.16s\n",
      "575:\tlearn: 0.0000720\ttotal: 4.28s\tremaining: 3.15s\n",
      "576:\tlearn: 0.0000718\ttotal: 4.29s\tremaining: 3.14s\n",
      "577:\tlearn: 0.0000717\ttotal: 4.29s\tremaining: 3.13s\n",
      "578:\tlearn: 0.0000715\ttotal: 4.3s\tremaining: 3.12s\n",
      "579:\tlearn: 0.0000714\ttotal: 4.3s\tremaining: 3.12s\n",
      "580:\tlearn: 0.0000712\ttotal: 4.32s\tremaining: 3.12s\n",
      "581:\tlearn: 0.0000711\ttotal: 4.33s\tremaining: 3.11s\n",
      "582:\tlearn: 0.0000709\ttotal: 4.33s\tremaining: 3.1s\n",
      "583:\tlearn: 0.0000707\ttotal: 4.34s\tremaining: 3.09s\n",
      "584:\tlearn: 0.0000706\ttotal: 4.35s\tremaining: 3.08s\n",
      "585:\tlearn: 0.0000704\ttotal: 4.35s\tremaining: 3.08s\n",
      "586:\tlearn: 0.0000703\ttotal: 4.36s\tremaining: 3.07s\n",
      "587:\tlearn: 0.0000701\ttotal: 4.37s\tremaining: 3.06s\n",
      "588:\tlearn: 0.0000700\ttotal: 4.37s\tremaining: 3.05s\n",
      "589:\tlearn: 0.0000698\ttotal: 4.38s\tremaining: 3.04s\n",
      "590:\tlearn: 0.0000697\ttotal: 4.38s\tremaining: 3.03s\n",
      "591:\tlearn: 0.0000695\ttotal: 4.39s\tremaining: 3.02s\n",
      "592:\tlearn: 0.0000694\ttotal: 4.39s\tremaining: 3.02s\n",
      "593:\tlearn: 0.0000693\ttotal: 4.42s\tremaining: 3.02s\n",
      "594:\tlearn: 0.0000691\ttotal: 4.43s\tremaining: 3.02s\n",
      "595:\tlearn: 0.0000690\ttotal: 4.44s\tremaining: 3.01s\n",
      "596:\tlearn: 0.0000688\ttotal: 4.46s\tremaining: 3.01s\n",
      "597:\tlearn: 0.0000687\ttotal: 4.46s\tremaining: 3s\n",
      "598:\tlearn: 0.0000686\ttotal: 4.47s\tremaining: 2.99s\n",
      "599:\tlearn: 0.0000684\ttotal: 4.48s\tremaining: 2.98s\n",
      "600:\tlearn: 0.0000682\ttotal: 4.49s\tremaining: 2.98s\n",
      "601:\tlearn: 0.0000681\ttotal: 4.49s\tremaining: 2.97s\n",
      "602:\tlearn: 0.0000680\ttotal: 4.5s\tremaining: 2.96s\n",
      "603:\tlearn: 0.0000678\ttotal: 4.5s\tremaining: 2.95s\n",
      "604:\tlearn: 0.0000677\ttotal: 4.51s\tremaining: 2.94s\n",
      "605:\tlearn: 0.0000676\ttotal: 4.52s\tremaining: 2.94s\n",
      "606:\tlearn: 0.0000674\ttotal: 4.52s\tremaining: 2.93s\n",
      "607:\tlearn: 0.0000673\ttotal: 4.53s\tremaining: 2.92s\n",
      "608:\tlearn: 0.0000672\ttotal: 4.54s\tremaining: 2.91s\n",
      "609:\tlearn: 0.0000670\ttotal: 4.54s\tremaining: 2.9s\n",
      "610:\tlearn: 0.0000669\ttotal: 4.55s\tremaining: 2.9s\n",
      "611:\tlearn: 0.0000667\ttotal: 4.56s\tremaining: 2.89s\n",
      "612:\tlearn: 0.0000666\ttotal: 4.56s\tremaining: 2.88s\n",
      "613:\tlearn: 0.0000665\ttotal: 4.57s\tremaining: 2.87s\n",
      "614:\tlearn: 0.0000664\ttotal: 4.57s\tremaining: 2.86s\n",
      "615:\tlearn: 0.0000662\ttotal: 4.58s\tremaining: 2.85s\n",
      "616:\tlearn: 0.0000661\ttotal: 4.59s\tremaining: 2.85s\n",
      "617:\tlearn: 0.0000660\ttotal: 4.59s\tremaining: 2.84s\n",
      "618:\tlearn: 0.0000658\ttotal: 4.61s\tremaining: 2.84s\n",
      "619:\tlearn: 0.0000657\ttotal: 4.62s\tremaining: 2.83s\n",
      "620:\tlearn: 0.0000656\ttotal: 4.63s\tremaining: 2.83s\n",
      "621:\tlearn: 0.0000655\ttotal: 4.64s\tremaining: 2.82s\n",
      "622:\tlearn: 0.0000653\ttotal: 4.64s\tremaining: 2.81s\n",
      "623:\tlearn: 0.0000652\ttotal: 4.65s\tremaining: 2.8s\n",
      "624:\tlearn: 0.0000651\ttotal: 4.66s\tremaining: 2.79s\n",
      "625:\tlearn: 0.0000650\ttotal: 4.66s\tremaining: 2.79s\n",
      "626:\tlearn: 0.0000648\ttotal: 4.67s\tremaining: 2.78s\n",
      "627:\tlearn: 0.0000647\ttotal: 4.67s\tremaining: 2.77s\n",
      "628:\tlearn: 0.0000646\ttotal: 4.68s\tremaining: 2.76s\n",
      "629:\tlearn: 0.0000644\ttotal: 4.68s\tremaining: 2.75s\n",
      "630:\tlearn: 0.0000643\ttotal: 4.69s\tremaining: 2.74s\n",
      "631:\tlearn: 0.0000642\ttotal: 4.71s\tremaining: 2.74s\n",
      "632:\tlearn: 0.0000641\ttotal: 4.72s\tremaining: 2.73s\n",
      "633:\tlearn: 0.0000640\ttotal: 4.73s\tremaining: 2.73s\n",
      "634:\tlearn: 0.0000638\ttotal: 4.74s\tremaining: 2.72s\n",
      "635:\tlearn: 0.0000637\ttotal: 4.74s\tremaining: 2.71s\n",
      "636:\tlearn: 0.0000636\ttotal: 4.75s\tremaining: 2.71s\n",
      "637:\tlearn: 0.0000635\ttotal: 4.75s\tremaining: 2.7s\n",
      "638:\tlearn: 0.0000634\ttotal: 4.76s\tremaining: 2.69s\n",
      "639:\tlearn: 0.0000633\ttotal: 4.76s\tremaining: 2.68s\n",
      "640:\tlearn: 0.0000631\ttotal: 4.77s\tremaining: 2.67s\n",
      "641:\tlearn: 0.0000630\ttotal: 4.78s\tremaining: 2.66s\n",
      "642:\tlearn: 0.0000629\ttotal: 4.78s\tremaining: 2.65s\n",
      "643:\tlearn: 0.0000628\ttotal: 4.79s\tremaining: 2.65s\n",
      "644:\tlearn: 0.0000627\ttotal: 4.81s\tremaining: 2.65s\n",
      "645:\tlearn: 0.0000626\ttotal: 4.82s\tremaining: 2.64s\n",
      "646:\tlearn: 0.0000625\ttotal: 4.82s\tremaining: 2.63s\n",
      "647:\tlearn: 0.0000624\ttotal: 4.83s\tremaining: 2.62s\n",
      "648:\tlearn: 0.0000623\ttotal: 4.84s\tremaining: 2.62s\n",
      "649:\tlearn: 0.0000621\ttotal: 4.84s\tremaining: 2.61s\n",
      "650:\tlearn: 0.0000620\ttotal: 4.85s\tremaining: 2.6s\n",
      "651:\tlearn: 0.0000619\ttotal: 4.86s\tremaining: 2.59s\n",
      "652:\tlearn: 0.0000618\ttotal: 4.86s\tremaining: 2.58s\n",
      "653:\tlearn: 0.0000617\ttotal: 4.88s\tremaining: 2.58s\n",
      "654:\tlearn: 0.0000616\ttotal: 4.88s\tremaining: 2.57s\n",
      "655:\tlearn: 0.0000615\ttotal: 4.89s\tremaining: 2.56s\n",
      "656:\tlearn: 0.0000614\ttotal: 4.9s\tremaining: 2.56s\n",
      "657:\tlearn: 0.0000612\ttotal: 4.91s\tremaining: 2.55s\n",
      "658:\tlearn: 0.0000611\ttotal: 4.92s\tremaining: 2.54s\n",
      "659:\tlearn: 0.0000610\ttotal: 4.92s\tremaining: 2.54s\n",
      "660:\tlearn: 0.0000609\ttotal: 4.93s\tremaining: 2.53s\n",
      "661:\tlearn: 0.0000608\ttotal: 4.94s\tremaining: 2.52s\n",
      "662:\tlearn: 0.0000607\ttotal: 4.94s\tremaining: 2.51s\n",
      "663:\tlearn: 0.0000606\ttotal: 4.95s\tremaining: 2.5s\n",
      "664:\tlearn: 0.0000605\ttotal: 4.95s\tremaining: 2.5s\n",
      "665:\tlearn: 0.0000604\ttotal: 4.96s\tremaining: 2.49s\n",
      "666:\tlearn: 0.0000603\ttotal: 4.96s\tremaining: 2.48s\n",
      "667:\tlearn: 0.0000602\ttotal: 4.97s\tremaining: 2.47s\n",
      "668:\tlearn: 0.0000601\ttotal: 4.98s\tremaining: 2.46s\n",
      "669:\tlearn: 0.0000600\ttotal: 4.98s\tremaining: 2.45s\n",
      "670:\tlearn: 0.0000599\ttotal: 5s\tremaining: 2.45s\n",
      "671:\tlearn: 0.0000598\ttotal: 5.01s\tremaining: 2.44s\n",
      "672:\tlearn: 0.0000597\ttotal: 5.01s\tremaining: 2.44s\n",
      "673:\tlearn: 0.0000596\ttotal: 5.02s\tremaining: 2.43s\n",
      "674:\tlearn: 0.0000595\ttotal: 5.02s\tremaining: 2.42s\n",
      "675:\tlearn: 0.0000593\ttotal: 5.03s\tremaining: 2.41s\n",
      "676:\tlearn: 0.0000592\ttotal: 5.04s\tremaining: 2.4s\n",
      "677:\tlearn: 0.0000592\ttotal: 5.04s\tremaining: 2.39s\n",
      "678:\tlearn: 0.0000591\ttotal: 5.04s\tremaining: 2.38s\n",
      "679:\tlearn: 0.0000589\ttotal: 5.05s\tremaining: 2.38s\n",
      "680:\tlearn: 0.0000588\ttotal: 5.05s\tremaining: 2.37s\n",
      "681:\tlearn: 0.0000588\ttotal: 5.06s\tremaining: 2.36s\n",
      "682:\tlearn: 0.0000587\ttotal: 5.06s\tremaining: 2.35s\n",
      "683:\tlearn: 0.0000586\ttotal: 5.1s\tremaining: 2.36s\n",
      "684:\tlearn: 0.0000585\ttotal: 5.11s\tremaining: 2.35s\n",
      "685:\tlearn: 0.0000584\ttotal: 5.11s\tremaining: 2.34s\n",
      "686:\tlearn: 0.0000583\ttotal: 5.12s\tremaining: 2.33s\n",
      "687:\tlearn: 0.0000582\ttotal: 5.12s\tremaining: 2.32s\n",
      "688:\tlearn: 0.0000581\ttotal: 5.13s\tremaining: 2.32s\n",
      "689:\tlearn: 0.0000580\ttotal: 5.14s\tremaining: 2.31s\n",
      "690:\tlearn: 0.0000579\ttotal: 5.14s\tremaining: 2.3s\n",
      "691:\tlearn: 0.0000578\ttotal: 5.15s\tremaining: 2.29s\n",
      "692:\tlearn: 0.0000578\ttotal: 5.16s\tremaining: 2.28s\n",
      "693:\tlearn: 0.0000577\ttotal: 5.16s\tremaining: 2.28s\n",
      "694:\tlearn: 0.0000575\ttotal: 5.17s\tremaining: 2.27s\n",
      "695:\tlearn: 0.0000575\ttotal: 5.17s\tremaining: 2.26s\n",
      "696:\tlearn: 0.0000574\ttotal: 5.2s\tremaining: 2.26s\n",
      "697:\tlearn: 0.0000573\ttotal: 5.2s\tremaining: 2.25s\n",
      "698:\tlearn: 0.0000572\ttotal: 5.21s\tremaining: 2.24s\n",
      "699:\tlearn: 0.0000571\ttotal: 5.21s\tremaining: 2.23s\n",
      "700:\tlearn: 0.0000570\ttotal: 5.22s\tremaining: 2.22s\n",
      "701:\tlearn: 0.0000570\ttotal: 5.22s\tremaining: 2.22s\n",
      "702:\tlearn: 0.0000569\ttotal: 5.23s\tremaining: 2.21s\n",
      "703:\tlearn: 0.0000568\ttotal: 5.23s\tremaining: 2.2s\n",
      "704:\tlearn: 0.0000567\ttotal: 5.24s\tremaining: 2.19s\n",
      "705:\tlearn: 0.0000566\ttotal: 5.24s\tremaining: 2.18s\n",
      "706:\tlearn: 0.0000565\ttotal: 5.25s\tremaining: 2.17s\n",
      "707:\tlearn: 0.0000565\ttotal: 5.25s\tremaining: 2.17s\n",
      "708:\tlearn: 0.0000564\ttotal: 5.26s\tremaining: 2.16s\n",
      "709:\tlearn: 0.0000563\ttotal: 5.26s\tremaining: 2.15s\n",
      "710:\tlearn: 0.0000562\ttotal: 5.3s\tremaining: 2.15s\n",
      "711:\tlearn: 0.0000561\ttotal: 5.3s\tremaining: 2.15s\n",
      "712:\tlearn: 0.0000561\ttotal: 5.31s\tremaining: 2.14s\n",
      "713:\tlearn: 0.0000560\ttotal: 5.32s\tremaining: 2.13s\n",
      "714:\tlearn: 0.0000559\ttotal: 5.33s\tremaining: 2.12s\n",
      "715:\tlearn: 0.0000558\ttotal: 5.33s\tremaining: 2.12s\n",
      "716:\tlearn: 0.0000557\ttotal: 5.34s\tremaining: 2.11s\n",
      "717:\tlearn: 0.0000556\ttotal: 5.34s\tremaining: 2.1s\n",
      "718:\tlearn: 0.0000555\ttotal: 5.35s\tremaining: 2.09s\n",
      "719:\tlearn: 0.0000554\ttotal: 5.36s\tremaining: 2.08s\n",
      "720:\tlearn: 0.0000553\ttotal: 5.36s\tremaining: 2.08s\n",
      "721:\tlearn: 0.0000553\ttotal: 5.37s\tremaining: 2.07s\n",
      "722:\tlearn: 0.0000552\ttotal: 5.37s\tremaining: 2.06s\n",
      "723:\tlearn: 0.0000551\ttotal: 5.4s\tremaining: 2.06s\n",
      "724:\tlearn: 0.0000550\ttotal: 5.4s\tremaining: 2.05s\n",
      "725:\tlearn: 0.0000550\ttotal: 5.41s\tremaining: 2.04s\n",
      "726:\tlearn: 0.0000549\ttotal: 5.42s\tremaining: 2.03s\n",
      "727:\tlearn: 0.0000548\ttotal: 5.42s\tremaining: 2.02s\n",
      "728:\tlearn: 0.0000547\ttotal: 5.43s\tremaining: 2.02s\n",
      "729:\tlearn: 0.0000546\ttotal: 5.43s\tremaining: 2.01s\n",
      "730:\tlearn: 0.0000545\ttotal: 5.44s\tremaining: 2s\n",
      "731:\tlearn: 0.0000545\ttotal: 5.45s\tremaining: 2s\n",
      "732:\tlearn: 0.0000544\ttotal: 5.46s\tremaining: 1.99s\n",
      "733:\tlearn: 0.0000543\ttotal: 5.46s\tremaining: 1.98s\n",
      "734:\tlearn: 0.0000543\ttotal: 5.47s\tremaining: 1.97s\n",
      "735:\tlearn: 0.0000542\ttotal: 5.47s\tremaining: 1.96s\n",
      "736:\tlearn: 0.0000541\ttotal: 5.49s\tremaining: 1.96s\n",
      "737:\tlearn: 0.0000540\ttotal: 5.49s\tremaining: 1.95s\n",
      "738:\tlearn: 0.0000540\ttotal: 5.5s\tremaining: 1.94s\n",
      "739:\tlearn: 0.0000539\ttotal: 5.51s\tremaining: 1.93s\n",
      "740:\tlearn: 0.0000538\ttotal: 5.51s\tremaining: 1.93s\n",
      "741:\tlearn: 0.0000537\ttotal: 5.52s\tremaining: 1.92s\n",
      "742:\tlearn: 0.0000536\ttotal: 5.53s\tremaining: 1.91s\n",
      "743:\tlearn: 0.0000536\ttotal: 5.53s\tremaining: 1.9s\n",
      "744:\tlearn: 0.0000535\ttotal: 5.54s\tremaining: 1.9s\n",
      "745:\tlearn: 0.0000534\ttotal: 5.54s\tremaining: 1.89s\n",
      "746:\tlearn: 0.0000533\ttotal: 5.55s\tremaining: 1.88s\n",
      "747:\tlearn: 0.0000533\ttotal: 5.55s\tremaining: 1.87s\n",
      "748:\tlearn: 0.0000532\ttotal: 5.56s\tremaining: 1.86s\n",
      "749:\tlearn: 0.0000531\ttotal: 5.57s\tremaining: 1.86s\n",
      "750:\tlearn: 0.0000530\ttotal: 5.59s\tremaining: 1.85s\n",
      "751:\tlearn: 0.0000530\ttotal: 5.6s\tremaining: 1.84s\n",
      "752:\tlearn: 0.0000529\ttotal: 5.6s\tremaining: 1.84s\n",
      "753:\tlearn: 0.0000528\ttotal: 5.61s\tremaining: 1.83s\n",
      "754:\tlearn: 0.0000527\ttotal: 5.62s\tremaining: 1.82s\n",
      "755:\tlearn: 0.0000526\ttotal: 5.62s\tremaining: 1.81s\n",
      "756:\tlearn: 0.0000526\ttotal: 5.63s\tremaining: 1.81s\n",
      "757:\tlearn: 0.0000525\ttotal: 5.63s\tremaining: 1.8s\n",
      "758:\tlearn: 0.0000524\ttotal: 5.64s\tremaining: 1.79s\n",
      "759:\tlearn: 0.0000524\ttotal: 5.65s\tremaining: 1.78s\n",
      "760:\tlearn: 0.0000523\ttotal: 5.66s\tremaining: 1.78s\n",
      "761:\tlearn: 0.0000522\ttotal: 5.66s\tremaining: 1.77s\n",
      "762:\tlearn: 0.0000522\ttotal: 5.67s\tremaining: 1.76s\n",
      "763:\tlearn: 0.0000521\ttotal: 5.69s\tremaining: 1.76s\n",
      "764:\tlearn: 0.0000520\ttotal: 5.69s\tremaining: 1.75s\n",
      "765:\tlearn: 0.0000519\ttotal: 5.7s\tremaining: 1.74s\n",
      "766:\tlearn: 0.0000519\ttotal: 5.7s\tremaining: 1.73s\n",
      "767:\tlearn: 0.0000518\ttotal: 5.71s\tremaining: 1.73s\n",
      "768:\tlearn: 0.0000517\ttotal: 5.72s\tremaining: 1.72s\n",
      "769:\tlearn: 0.0000517\ttotal: 5.72s\tremaining: 1.71s\n",
      "770:\tlearn: 0.0000516\ttotal: 5.73s\tremaining: 1.7s\n",
      "771:\tlearn: 0.0000515\ttotal: 5.74s\tremaining: 1.69s\n",
      "772:\tlearn: 0.0000515\ttotal: 5.74s\tremaining: 1.69s\n",
      "773:\tlearn: 0.0000514\ttotal: 5.75s\tremaining: 1.68s\n",
      "774:\tlearn: 0.0000513\ttotal: 5.75s\tremaining: 1.67s\n",
      "775:\tlearn: 0.0000512\ttotal: 5.76s\tremaining: 1.66s\n",
      "776:\tlearn: 0.0000512\ttotal: 5.77s\tremaining: 1.66s\n",
      "777:\tlearn: 0.0000511\ttotal: 5.79s\tremaining: 1.65s\n",
      "778:\tlearn: 0.0000510\ttotal: 5.79s\tremaining: 1.64s\n",
      "779:\tlearn: 0.0000510\ttotal: 5.8s\tremaining: 1.64s\n",
      "780:\tlearn: 0.0000509\ttotal: 5.8s\tremaining: 1.63s\n",
      "781:\tlearn: 0.0000509\ttotal: 5.81s\tremaining: 1.62s\n",
      "782:\tlearn: 0.0000508\ttotal: 5.82s\tremaining: 1.61s\n",
      "783:\tlearn: 0.0000507\ttotal: 5.82s\tremaining: 1.6s\n",
      "784:\tlearn: 0.0000507\ttotal: 5.83s\tremaining: 1.6s\n",
      "785:\tlearn: 0.0000506\ttotal: 5.84s\tremaining: 1.59s\n",
      "786:\tlearn: 0.0000505\ttotal: 5.84s\tremaining: 1.58s\n",
      "787:\tlearn: 0.0000505\ttotal: 5.85s\tremaining: 1.57s\n",
      "788:\tlearn: 0.0000504\ttotal: 5.86s\tremaining: 1.57s\n",
      "789:\tlearn: 0.0000503\ttotal: 5.86s\tremaining: 1.56s\n",
      "790:\tlearn: 0.0000503\ttotal: 5.88s\tremaining: 1.55s\n",
      "791:\tlearn: 0.0000502\ttotal: 5.89s\tremaining: 1.55s\n",
      "792:\tlearn: 0.0000502\ttotal: 5.9s\tremaining: 1.54s\n",
      "793:\tlearn: 0.0000501\ttotal: 5.9s\tremaining: 1.53s\n",
      "794:\tlearn: 0.0000500\ttotal: 5.91s\tremaining: 1.52s\n",
      "795:\tlearn: 0.0000499\ttotal: 5.92s\tremaining: 1.51s\n",
      "796:\tlearn: 0.0000499\ttotal: 5.92s\tremaining: 1.51s\n",
      "797:\tlearn: 0.0000498\ttotal: 5.93s\tremaining: 1.5s\n",
      "798:\tlearn: 0.0000498\ttotal: 5.94s\tremaining: 1.49s\n",
      "799:\tlearn: 0.0000497\ttotal: 5.94s\tremaining: 1.49s\n",
      "800:\tlearn: 0.0000496\ttotal: 5.95s\tremaining: 1.48s\n",
      "801:\tlearn: 0.0000496\ttotal: 5.96s\tremaining: 1.47s\n",
      "802:\tlearn: 0.0000495\ttotal: 5.97s\tremaining: 1.46s\n",
      "803:\tlearn: 0.0000494\ttotal: 5.97s\tremaining: 1.46s\n",
      "804:\tlearn: 0.0000494\ttotal: 5.98s\tremaining: 1.45s\n",
      "805:\tlearn: 0.0000493\ttotal: 5.99s\tremaining: 1.44s\n",
      "806:\tlearn: 0.0000492\ttotal: 5.99s\tremaining: 1.43s\n",
      "807:\tlearn: 0.0000492\ttotal: 6s\tremaining: 1.43s\n",
      "808:\tlearn: 0.0000491\ttotal: 6s\tremaining: 1.42s\n",
      "809:\tlearn: 0.0000490\ttotal: 6.01s\tremaining: 1.41s\n",
      "810:\tlearn: 0.0000490\ttotal: 6.02s\tremaining: 1.4s\n",
      "811:\tlearn: 0.0000489\ttotal: 6.03s\tremaining: 1.4s\n",
      "812:\tlearn: 0.0000489\ttotal: 6.04s\tremaining: 1.39s\n",
      "813:\tlearn: 0.0000488\ttotal: 6.04s\tremaining: 1.38s\n",
      "814:\tlearn: 0.0000488\ttotal: 6.05s\tremaining: 1.37s\n",
      "815:\tlearn: 0.0000487\ttotal: 6.06s\tremaining: 1.37s\n",
      "816:\tlearn: 0.0000486\ttotal: 6.09s\tremaining: 1.36s\n",
      "817:\tlearn: 0.0000486\ttotal: 6.09s\tremaining: 1.36s\n",
      "818:\tlearn: 0.0000485\ttotal: 6.11s\tremaining: 1.35s\n",
      "819:\tlearn: 0.0000485\ttotal: 6.12s\tremaining: 1.34s\n",
      "820:\tlearn: 0.0000484\ttotal: 6.12s\tremaining: 1.33s\n",
      "821:\tlearn: 0.0000483\ttotal: 6.13s\tremaining: 1.33s\n",
      "822:\tlearn: 0.0000483\ttotal: 6.14s\tremaining: 1.32s\n",
      "823:\tlearn: 0.0000482\ttotal: 6.14s\tremaining: 1.31s\n",
      "824:\tlearn: 0.0000482\ttotal: 6.15s\tremaining: 1.3s\n",
      "825:\tlearn: 0.0000481\ttotal: 6.16s\tremaining: 1.3s\n",
      "826:\tlearn: 0.0000480\ttotal: 6.17s\tremaining: 1.29s\n",
      "827:\tlearn: 0.0000480\ttotal: 6.17s\tremaining: 1.28s\n",
      "828:\tlearn: 0.0000479\ttotal: 6.18s\tremaining: 1.27s\n",
      "829:\tlearn: 0.0000478\ttotal: 6.19s\tremaining: 1.27s\n",
      "830:\tlearn: 0.0000478\ttotal: 6.2s\tremaining: 1.26s\n",
      "831:\tlearn: 0.0000477\ttotal: 6.2s\tremaining: 1.25s\n",
      "832:\tlearn: 0.0000477\ttotal: 6.21s\tremaining: 1.24s\n",
      "833:\tlearn: 0.0000476\ttotal: 6.21s\tremaining: 1.24s\n",
      "834:\tlearn: 0.0000475\ttotal: 6.22s\tremaining: 1.23s\n",
      "835:\tlearn: 0.0000475\ttotal: 6.23s\tremaining: 1.22s\n",
      "836:\tlearn: 0.0000474\ttotal: 6.24s\tremaining: 1.21s\n",
      "837:\tlearn: 0.0000474\ttotal: 6.24s\tremaining: 1.21s\n",
      "838:\tlearn: 0.0000473\ttotal: 6.25s\tremaining: 1.2s\n",
      "839:\tlearn: 0.0000473\ttotal: 6.25s\tremaining: 1.19s\n",
      "840:\tlearn: 0.0000472\ttotal: 6.26s\tremaining: 1.18s\n",
      "841:\tlearn: 0.0000472\ttotal: 6.27s\tremaining: 1.18s\n",
      "842:\tlearn: 0.0000471\ttotal: 6.28s\tremaining: 1.17s\n",
      "843:\tlearn: 0.0000470\ttotal: 6.28s\tremaining: 1.16s\n",
      "844:\tlearn: 0.0000470\ttotal: 6.29s\tremaining: 1.15s\n",
      "845:\tlearn: 0.0000469\ttotal: 6.29s\tremaining: 1.15s\n",
      "846:\tlearn: 0.0000469\ttotal: 6.3s\tremaining: 1.14s\n",
      "847:\tlearn: 0.0000468\ttotal: 6.3s\tremaining: 1.13s\n",
      "848:\tlearn: 0.0000468\ttotal: 6.31s\tremaining: 1.12s\n",
      "849:\tlearn: 0.0000467\ttotal: 6.31s\tremaining: 1.11s\n",
      "850:\tlearn: 0.0000467\ttotal: 6.32s\tremaining: 1.11s\n",
      "851:\tlearn: 0.0000466\ttotal: 6.32s\tremaining: 1.1s\n",
      "852:\tlearn: 0.0000466\ttotal: 6.33s\tremaining: 1.09s\n",
      "853:\tlearn: 0.0000465\ttotal: 6.34s\tremaining: 1.08s\n",
      "854:\tlearn: 0.0000465\ttotal: 6.37s\tremaining: 1.08s\n",
      "855:\tlearn: 0.0000464\ttotal: 6.38s\tremaining: 1.07s\n",
      "856:\tlearn: 0.0000464\ttotal: 6.38s\tremaining: 1.06s\n",
      "857:\tlearn: 0.0000463\ttotal: 6.39s\tremaining: 1.06s\n",
      "858:\tlearn: 0.0000462\ttotal: 6.39s\tremaining: 1.05s\n",
      "859:\tlearn: 0.0000462\ttotal: 6.4s\tremaining: 1.04s\n",
      "860:\tlearn: 0.0000461\ttotal: 6.4s\tremaining: 1.03s\n",
      "861:\tlearn: 0.0000461\ttotal: 6.41s\tremaining: 1.03s\n",
      "862:\tlearn: 0.0000460\ttotal: 6.42s\tremaining: 1.02s\n",
      "863:\tlearn: 0.0000460\ttotal: 6.42s\tremaining: 1.01s\n",
      "864:\tlearn: 0.0000459\ttotal: 6.43s\tremaining: 1s\n",
      "865:\tlearn: 0.0000458\ttotal: 6.43s\tremaining: 996ms\n",
      "866:\tlearn: 0.0000458\ttotal: 6.44s\tremaining: 988ms\n",
      "867:\tlearn: 0.0000457\ttotal: 6.45s\tremaining: 980ms\n",
      "868:\tlearn: 0.0000457\ttotal: 6.47s\tremaining: 975ms\n",
      "869:\tlearn: 0.0000456\ttotal: 6.47s\tremaining: 967ms\n",
      "870:\tlearn: 0.0000456\ttotal: 6.48s\tremaining: 960ms\n",
      "871:\tlearn: 0.0000455\ttotal: 6.49s\tremaining: 952ms\n",
      "872:\tlearn: 0.0000455\ttotal: 6.49s\tremaining: 944ms\n",
      "873:\tlearn: 0.0000454\ttotal: 6.5s\tremaining: 937ms\n",
      "874:\tlearn: 0.0000454\ttotal: 6.5s\tremaining: 929ms\n",
      "875:\tlearn: 0.0000453\ttotal: 6.51s\tremaining: 921ms\n",
      "876:\tlearn: 0.0000453\ttotal: 6.51s\tremaining: 914ms\n",
      "877:\tlearn: 0.0000452\ttotal: 6.52s\tremaining: 906ms\n",
      "878:\tlearn: 0.0000451\ttotal: 6.53s\tremaining: 899ms\n",
      "879:\tlearn: 0.0000451\ttotal: 6.53s\tremaining: 891ms\n",
      "880:\tlearn: 0.0000450\ttotal: 6.54s\tremaining: 883ms\n",
      "881:\tlearn: 0.0000450\ttotal: 6.56s\tremaining: 878ms\n",
      "882:\tlearn: 0.0000449\ttotal: 6.57s\tremaining: 871ms\n",
      "883:\tlearn: 0.0000449\ttotal: 6.58s\tremaining: 863ms\n",
      "884:\tlearn: 0.0000448\ttotal: 6.58s\tremaining: 855ms\n",
      "885:\tlearn: 0.0000448\ttotal: 6.59s\tremaining: 848ms\n",
      "886:\tlearn: 0.0000447\ttotal: 6.59s\tremaining: 840ms\n",
      "887:\tlearn: 0.0000447\ttotal: 6.6s\tremaining: 833ms\n",
      "888:\tlearn: 0.0000446\ttotal: 6.61s\tremaining: 825ms\n",
      "889:\tlearn: 0.0000446\ttotal: 6.61s\tremaining: 817ms\n",
      "890:\tlearn: 0.0000446\ttotal: 6.62s\tremaining: 810ms\n",
      "891:\tlearn: 0.0000445\ttotal: 6.62s\tremaining: 802ms\n",
      "892:\tlearn: 0.0000444\ttotal: 6.63s\tremaining: 794ms\n",
      "893:\tlearn: 0.0000444\ttotal: 6.63s\tremaining: 787ms\n",
      "894:\tlearn: 0.0000443\ttotal: 6.66s\tremaining: 781ms\n",
      "895:\tlearn: 0.0000443\ttotal: 6.67s\tremaining: 774ms\n",
      "896:\tlearn: 0.0000443\ttotal: 6.67s\tremaining: 766ms\n",
      "897:\tlearn: 0.0000442\ttotal: 6.68s\tremaining: 758ms\n",
      "898:\tlearn: 0.0000442\ttotal: 6.68s\tremaining: 751ms\n",
      "899:\tlearn: 0.0000441\ttotal: 6.69s\tremaining: 743ms\n",
      "900:\tlearn: 0.0000441\ttotal: 6.69s\tremaining: 736ms\n",
      "901:\tlearn: 0.0000440\ttotal: 6.7s\tremaining: 728ms\n",
      "902:\tlearn: 0.0000440\ttotal: 6.71s\tremaining: 720ms\n",
      "903:\tlearn: 0.0000439\ttotal: 6.71s\tremaining: 713ms\n",
      "904:\tlearn: 0.0000439\ttotal: 6.72s\tremaining: 705ms\n",
      "905:\tlearn: 0.0000438\ttotal: 6.72s\tremaining: 697ms\n",
      "906:\tlearn: 0.0000438\ttotal: 6.73s\tremaining: 690ms\n",
      "907:\tlearn: 0.0000437\ttotal: 6.73s\tremaining: 682ms\n",
      "908:\tlearn: 0.0000437\ttotal: 6.76s\tremaining: 676ms\n",
      "909:\tlearn: 0.0000436\ttotal: 6.76s\tremaining: 669ms\n",
      "910:\tlearn: 0.0000436\ttotal: 6.77s\tremaining: 661ms\n",
      "911:\tlearn: 0.0000436\ttotal: 6.77s\tremaining: 653ms\n",
      "912:\tlearn: 0.0000435\ttotal: 6.78s\tremaining: 646ms\n",
      "913:\tlearn: 0.0000435\ttotal: 6.78s\tremaining: 638ms\n",
      "914:\tlearn: 0.0000434\ttotal: 6.79s\tremaining: 631ms\n",
      "915:\tlearn: 0.0000434\ttotal: 6.79s\tremaining: 623ms\n",
      "916:\tlearn: 0.0000433\ttotal: 6.8s\tremaining: 616ms\n",
      "917:\tlearn: 0.0000433\ttotal: 6.81s\tremaining: 608ms\n",
      "918:\tlearn: 0.0000432\ttotal: 6.81s\tremaining: 600ms\n",
      "919:\tlearn: 0.0000432\ttotal: 6.82s\tremaining: 593ms\n",
      "920:\tlearn: 0.0000431\ttotal: 6.83s\tremaining: 586ms\n",
      "921:\tlearn: 0.0000431\ttotal: 6.83s\tremaining: 578ms\n",
      "922:\tlearn: 0.0000431\ttotal: 6.86s\tremaining: 572ms\n",
      "923:\tlearn: 0.0000430\ttotal: 6.86s\tremaining: 564ms\n",
      "924:\tlearn: 0.0000430\ttotal: 6.87s\tremaining: 557ms\n",
      "925:\tlearn: 0.0000429\ttotal: 6.87s\tremaining: 549ms\n",
      "926:\tlearn: 0.0000429\ttotal: 6.88s\tremaining: 542ms\n",
      "927:\tlearn: 0.0000428\ttotal: 6.88s\tremaining: 534ms\n",
      "928:\tlearn: 0.0000428\ttotal: 6.89s\tremaining: 527ms\n",
      "929:\tlearn: 0.0000428\ttotal: 6.9s\tremaining: 519ms\n",
      "930:\tlearn: 0.0000427\ttotal: 6.9s\tremaining: 512ms\n",
      "931:\tlearn: 0.0000426\ttotal: 6.91s\tremaining: 504ms\n",
      "932:\tlearn: 0.0000426\ttotal: 6.92s\tremaining: 497ms\n",
      "933:\tlearn: 0.0000425\ttotal: 6.92s\tremaining: 489ms\n",
      "934:\tlearn: 0.0000425\ttotal: 6.93s\tremaining: 482ms\n",
      "935:\tlearn: 0.0000425\ttotal: 6.94s\tremaining: 474ms\n",
      "936:\tlearn: 0.0000424\ttotal: 6.95s\tremaining: 468ms\n",
      "937:\tlearn: 0.0000424\ttotal: 6.96s\tremaining: 460ms\n",
      "938:\tlearn: 0.0000423\ttotal: 6.97s\tremaining: 453ms\n",
      "939:\tlearn: 0.0000423\ttotal: 6.97s\tremaining: 445ms\n",
      "940:\tlearn: 0.0000423\ttotal: 6.98s\tremaining: 438ms\n",
      "941:\tlearn: 0.0000422\ttotal: 6.99s\tremaining: 430ms\n",
      "942:\tlearn: 0.0000422\ttotal: 6.99s\tremaining: 423ms\n",
      "943:\tlearn: 0.0000421\ttotal: 7s\tremaining: 415ms\n",
      "944:\tlearn: 0.0000421\ttotal: 7s\tremaining: 408ms\n",
      "945:\tlearn: 0.0000420\ttotal: 7.01s\tremaining: 400ms\n",
      "946:\tlearn: 0.0000420\ttotal: 7.02s\tremaining: 393ms\n",
      "947:\tlearn: 0.0000420\ttotal: 7.03s\tremaining: 386ms\n",
      "948:\tlearn: 0.0000419\ttotal: 7.04s\tremaining: 378ms\n",
      "949:\tlearn: 0.0000419\ttotal: 7.05s\tremaining: 371ms\n",
      "950:\tlearn: 0.0000418\ttotal: 7.06s\tremaining: 364ms\n",
      "951:\tlearn: 0.0000418\ttotal: 7.07s\tremaining: 356ms\n",
      "952:\tlearn: 0.0000418\ttotal: 7.08s\tremaining: 349ms\n",
      "953:\tlearn: 0.0000417\ttotal: 7.09s\tremaining: 342ms\n",
      "954:\tlearn: 0.0000417\ttotal: 7.09s\tremaining: 334ms\n",
      "955:\tlearn: 0.0000416\ttotal: 7.11s\tremaining: 327ms\n",
      "956:\tlearn: 0.0000416\ttotal: 7.12s\tremaining: 320ms\n",
      "957:\tlearn: 0.0000415\ttotal: 7.12s\tremaining: 312ms\n",
      "958:\tlearn: 0.0000415\ttotal: 7.13s\tremaining: 305ms\n",
      "959:\tlearn: 0.0000415\ttotal: 7.14s\tremaining: 298ms\n",
      "960:\tlearn: 0.0000414\ttotal: 7.15s\tremaining: 290ms\n",
      "961:\tlearn: 0.0000414\ttotal: 7.15s\tremaining: 283ms\n",
      "962:\tlearn: 0.0000413\ttotal: 7.16s\tremaining: 275ms\n",
      "963:\tlearn: 0.0000413\ttotal: 7.17s\tremaining: 268ms\n",
      "964:\tlearn: 0.0000413\ttotal: 7.17s\tremaining: 260ms\n",
      "965:\tlearn: 0.0000412\ttotal: 7.18s\tremaining: 253ms\n",
      "966:\tlearn: 0.0000412\ttotal: 7.18s\tremaining: 245ms\n",
      "967:\tlearn: 0.0000411\ttotal: 7.19s\tremaining: 238ms\n",
      "968:\tlearn: 0.0000411\ttotal: 7.2s\tremaining: 230ms\n",
      "969:\tlearn: 0.0000410\ttotal: 7.2s\tremaining: 223ms\n",
      "970:\tlearn: 0.0000410\ttotal: 7.21s\tremaining: 215ms\n",
      "971:\tlearn: 0.0000410\ttotal: 7.22s\tremaining: 208ms\n",
      "972:\tlearn: 0.0000409\ttotal: 7.22s\tremaining: 200ms\n",
      "973:\tlearn: 0.0000409\ttotal: 7.23s\tremaining: 193ms\n",
      "974:\tlearn: 0.0000408\ttotal: 7.24s\tremaining: 186ms\n",
      "975:\tlearn: 0.0000408\ttotal: 7.25s\tremaining: 178ms\n",
      "976:\tlearn: 0.0000408\ttotal: 7.26s\tremaining: 171ms\n",
      "977:\tlearn: 0.0000407\ttotal: 7.26s\tremaining: 163ms\n",
      "978:\tlearn: 0.0000407\ttotal: 7.27s\tremaining: 156ms\n",
      "979:\tlearn: 0.0000407\ttotal: 7.28s\tremaining: 149ms\n",
      "980:\tlearn: 0.0000406\ttotal: 7.28s\tremaining: 141ms\n",
      "981:\tlearn: 0.0000406\ttotal: 7.29s\tremaining: 134ms\n",
      "982:\tlearn: 0.0000405\ttotal: 7.29s\tremaining: 126ms\n",
      "983:\tlearn: 0.0000405\ttotal: 7.3s\tremaining: 119ms\n",
      "984:\tlearn: 0.0000405\ttotal: 7.31s\tremaining: 111ms\n",
      "985:\tlearn: 0.0000404\ttotal: 7.32s\tremaining: 104ms\n",
      "986:\tlearn: 0.0000404\ttotal: 7.32s\tremaining: 96.5ms\n",
      "987:\tlearn: 0.0000403\ttotal: 7.35s\tremaining: 89.3ms\n",
      "988:\tlearn: 0.0000403\ttotal: 7.36s\tremaining: 81.8ms\n",
      "989:\tlearn: 0.0000403\ttotal: 7.36s\tremaining: 74.3ms\n",
      "990:\tlearn: 0.0000402\ttotal: 7.37s\tremaining: 66.9ms\n",
      "991:\tlearn: 0.0000402\ttotal: 7.37s\tremaining: 59.4ms\n",
      "992:\tlearn: 0.0000401\ttotal: 7.38s\tremaining: 52ms\n",
      "993:\tlearn: 0.0000401\ttotal: 7.38s\tremaining: 44.6ms\n",
      "994:\tlearn: 0.0000401\ttotal: 7.39s\tremaining: 37.1ms\n",
      "995:\tlearn: 0.0000400\ttotal: 7.4s\tremaining: 29.7ms\n",
      "996:\tlearn: 0.0000400\ttotal: 7.4s\tremaining: 22.3ms\n",
      "997:\tlearn: 0.0000400\ttotal: 7.41s\tremaining: 14.8ms\n",
      "998:\tlearn: 0.0000399\ttotal: 7.42s\tremaining: 7.42ms\n",
      "999:\tlearn: 0.0000399\ttotal: 7.42s\tremaining: 0us\n"
     ]
    }
   ],
   "source": [
    "with mlflow.start_run(run_name=\"CatBoostClassifier\"):\n",
    "    clf = CatBoostClassifier(random_seed = 42)\n",
    "    clf.fit(X_train, y_train,verbose=True)\n",
    "    \n",
    "\n",
    "    \n",
    "    y_pred_tr = clf.predict(X_train)\n",
    "    roc_auc_train = roc_auc_score(y_train, y_pred_tr)\n",
    "    train_accuracy = accuracy_score(y_train, y_pred_tr)\n",
    "    \n",
    "    \n",
    "    y_pred = clf.predict(X_test)\n",
    "    roc_auc_test = roc_auc_score(y_test, y_pred)\n",
    "    test_accuracy = accuracy_score(y_test, y_pred)\n",
    "    \n",
    "    mlflow.log_metric(\"train_auc\", roc_auc_train)\n",
    "    mlflow.log_metric(\"test_auc\", roc_auc_test)\n",
    "    \n",
    "    mlflow.log_metric(\"train_accuracy\", train_accuracy)\n",
    "    mlflow.log_metric(\"test_accuracy\", test_accuracy)\n",
    "    \n",
    "    mlflow.sklearn.log_model(clf, f\"CatBoostClassifier\")"
   ]
  },
  {
   "cell_type": "code",
   "execution_count": 61,
   "metadata": {
    "tags": []
   },
   "outputs": [
    {
     "name": "stdout",
     "output_type": "stream",
     "text": [
      "\n",
      "\n",
      "\u001b[1mTraining Accuracy Percentage\u001b[0m: 100.00\n",
      "\n",
      "\n",
      "\u001b[1mTesting Accuracy Percentage\u001b[0m: 99.88\n",
      "================================================================================================================\n",
      "\u001b[1mClassification_report for testing \u001b[0m\n",
      "              precision    recall  f1-score   support\n",
      "\n",
      "         0.0       1.00      1.00      1.00      1593\n",
      "         1.0       1.00      0.71      0.83         7\n",
      "\n",
      "    accuracy                           1.00      1600\n",
      "   macro avg       1.00      0.86      0.92      1600\n",
      "weighted avg       1.00      1.00      1.00      1600\n",
      "\n",
      "\u001b[1mClassification_report for training \u001b[0m\n",
      "              precision    recall  f1-score   support\n",
      "\n",
      "         0.0       1.00      1.00      1.00      6382\n",
      "         1.0       1.00      1.00      1.00        18\n",
      "\n",
      "    accuracy                           1.00      6400\n",
      "   macro avg       1.00      1.00      1.00      6400\n",
      "weighted avg       1.00      1.00      1.00      6400\n",
      "\n",
      "================================================================================================================\n"
     ]
    }
   ],
   "source": [
    "# evaluate predictions\n",
    "accuracy = accuracy_score(y_test, y_pred)\n",
    "\n",
    "train_accuracy = accuracy_score(y_train,y_pred_tr)\n",
    "\n",
    "print('\\n')\n",
    "print('\\033[1mTraining Accuracy Percentage\\033[0m: %.2f' % (train_accuracy*100))\n",
    "\n",
    "print('\\n')\n",
    "print('\\033[1mTesting Accuracy Percentage\\033[0m: %.2f' % (accuracy*100))\n",
    "\n",
    "print('================================================================================================================')\n",
    "print('\\033[1mClassification_report for testing \\033[0m')\n",
    "\n",
    "print(classification_report(y_test, y_pred))\n",
    "\n",
    "print('\\033[1mClassification_report for training \\033[0m')\n",
    "\n",
    "print(classification_report(y_train,y_pred_tr))\n",
    "\n",
    "print('================================================================================================================')\n"
   ]
  },
  {
   "cell_type": "markdown",
   "metadata": {
    "tags": []
   },
   "source": [
    "## Select the run of the experiment"
   ]
  },
  {
   "cell_type": "code",
   "execution_count": 62,
   "metadata": {
    "tags": [
     "block:runs",
     "prev:random_forest_classifier",
     "prev:ada_boost_classifier",
     "prev:cat_boost_classifier",
     "prev:gradient_boost_classifier",
     "prev:logistic_regression"
    ]
   },
   "outputs": [
    {
     "name": "stdout",
     "output_type": "stream",
     "text": [
      "Number of runs done :  22\n",
      "                              run_id experiment_id    status  \\\n",
      "0   25d2476ebbdd40368f158d524baa321d            73  FINISHED   \n",
      "1   0ac41eeb9a204c2eb593f8c725ae635e            73  FINISHED   \n",
      "2   73c1c00edf12436e8d3d29a810716a49            73  FINISHED   \n",
      "3   707f40bad8fb4e4e93c67c40d2d9cdbd            73  FINISHED   \n",
      "4   c56519b5a0264726b0b44a5e328b61b2            73  FINISHED   \n",
      "5   d8bfb00fb6af452a95d7d68ed1f80eb5            73    FAILED   \n",
      "6   b4c9bca96785417091053d766ab1f58f            73  FINISHED   \n",
      "7   b03e44f22bfe4319aa431a10bb279c40            73  FINISHED   \n",
      "8   151871828f204a43b7cfba31e985ae8e            73  FINISHED   \n",
      "9   7213fd608ef34cc998000d5f24052c55            73  FINISHED   \n",
      "10  e0351687988041b2b799f3377b089927            73  FINISHED   \n",
      "11  b2d2728e57804fd9a5aaf1a9efd1bce2            73  FINISHED   \n",
      "12  90d88c48e80b43b687306dfaedaa7b3a            73  FINISHED   \n",
      "13  4fa28785cb114d938776509521fd49ff            73  FINISHED   \n",
      "14  b194767705824f71bfa9d11c527801b0            73  FINISHED   \n",
      "15  b3ec7d1b9ac94748bb467ecd4397da9a            73    FAILED   \n",
      "16  da6e08b23e3f4af099e36a76e125a40a            73  FINISHED   \n",
      "17  5662df179dd74f04a58454aa2562a202            73  FINISHED   \n",
      "18  3abf99dc448743f290cf9a5f3ba289f5            73  FINISHED   \n",
      "19  ec25113fc4ce4792ba33b6338bfccf09            73  FINISHED   \n",
      "20  4b9a0b5b5f704943abf8b1973f832763            73  FINISHED   \n",
      "21  71c37bbc072a457290efd3009b8af263            73    FAILED   \n",
      "\n",
      "                                         artifact_uri  \\\n",
      "0   s3://models/73/25d2476ebbdd40368f158d524baa321...   \n",
      "1   s3://models/73/0ac41eeb9a204c2eb593f8c725ae635...   \n",
      "2   s3://models/73/73c1c00edf12436e8d3d29a810716a4...   \n",
      "3   s3://models/73/707f40bad8fb4e4e93c67c40d2d9cdb...   \n",
      "4   s3://models/73/c56519b5a0264726b0b44a5e328b61b...   \n",
      "5   s3://models/73/d8bfb00fb6af452a95d7d68ed1f80eb...   \n",
      "6   s3://models/73/b4c9bca96785417091053d766ab1f58...   \n",
      "7   s3://models/73/b03e44f22bfe4319aa431a10bb279c4...   \n",
      "8   s3://models/73/151871828f204a43b7cfba31e985ae8...   \n",
      "9   s3://models/73/7213fd608ef34cc998000d5f24052c5...   \n",
      "10  s3://models/73/e0351687988041b2b799f3377b08992...   \n",
      "11  s3://models/73/b2d2728e57804fd9a5aaf1a9efd1bce...   \n",
      "12  s3://models/73/90d88c48e80b43b687306dfaedaa7b3...   \n",
      "13  s3://models/73/4fa28785cb114d938776509521fd49f...   \n",
      "14  s3://models/73/b194767705824f71bfa9d11c527801b...   \n",
      "15  s3://models/73/b3ec7d1b9ac94748bb467ecd4397da9...   \n",
      "16  s3://models/73/da6e08b23e3f4af099e36a76e125a40...   \n",
      "17  s3://models/73/5662df179dd74f04a58454aa2562a20...   \n",
      "18  s3://models/73/3abf99dc448743f290cf9a5f3ba289f...   \n",
      "19  s3://models/73/ec25113fc4ce4792ba33b6338bfccf0...   \n",
      "20  s3://models/73/4b9a0b5b5f704943abf8b1973f83276...   \n",
      "21  s3://models/73/71c37bbc072a457290efd3009b8af26...   \n",
      "\n",
      "                         start_time                         end_time  \\\n",
      "0  2021-07-28 05:32:36.541000+00:00 2021-07-28 05:32:44.438000+00:00   \n",
      "1  2021-07-28 05:32:34.791000+00:00 2021-07-28 05:32:36.487000+00:00   \n",
      "2  2021-07-28 05:32:33.530000+00:00 2021-07-28 05:32:34.734000+00:00   \n",
      "3  2021-07-28 05:32:27.428000+00:00 2021-07-28 05:32:33.432000+00:00   \n",
      "4  2021-07-28 05:32:26.743000+00:00 2021-07-28 05:32:27.366000+00:00   \n",
      "5  2021-07-28 04:18:48.058000+00:00 2021-07-28 04:18:48.121000+00:00   \n",
      "6  2021-07-28 04:00:02.311000+00:00 2021-07-28 04:00:10.133000+00:00   \n",
      "7  2021-07-28 03:59:56.020000+00:00 2021-07-28 03:59:57.602000+00:00   \n",
      "8  2021-07-28 03:59:46.640000+00:00 2021-07-28 03:59:47.720000+00:00   \n",
      "9  2021-07-28 03:59:37.021000+00:00 2021-07-28 03:59:42.460000+00:00   \n",
      "10 2021-07-28 03:59:33.092000+00:00 2021-07-28 03:59:33.458000+00:00   \n",
      "11 2021-07-28 03:53:10.353000+00:00 2021-07-28 03:53:16.354000+00:00   \n",
      "12 2021-07-28 03:51:41.654000+00:00 2021-07-28 03:51:47.553000+00:00   \n",
      "13 2021-07-28 03:51:17.864000+00:00 2021-07-28 03:51:24.202000+00:00   \n",
      "14 2021-07-28 03:46:32.030000+00:00 2021-07-28 03:46:32.490000+00:00   \n",
      "15 2021-07-28 03:44:54.523000+00:00 2021-07-28 03:44:54.582000+00:00   \n",
      "16 2021-07-28 03:19:15.797000+00:00 2021-07-28 03:19:16.343000+00:00   \n",
      "17 2021-07-28 03:19:14.628000+00:00 2021-07-28 03:19:15.473000+00:00   \n",
      "18 2021-07-28 03:19:00.512000+00:00 2021-07-28 03:19:13.874000+00:00   \n",
      "19 2021-07-28 03:18:51.631000+00:00 2021-07-28 03:18:53.946000+00:00   \n",
      "20 2021-07-28 03:18:16.234000+00:00 2021-07-28 03:18:17.240000+00:00   \n",
      "21 2021-07-28 03:16:09.545000+00:00 2021-07-28 03:16:10.329000+00:00   \n",
      "\n",
      "    metrics.train_auc  metrics.test_accuracy  metrics.train_accuracy  \\\n",
      "0                 1.0               0.998750                1.000000   \n",
      "1                 1.0               0.999375                1.000000   \n",
      "2                 1.0               0.998750                1.000000   \n",
      "3                 1.0               0.999375                1.000000   \n",
      "4                 0.5               0.995625                0.997188   \n",
      "5                 NaN                    NaN                     NaN   \n",
      "6                 1.0               0.998750                1.000000   \n",
      "7                 1.0               0.999375                1.000000   \n",
      "8                 1.0               0.998750                1.000000   \n",
      "9                 1.0               0.999375                1.000000   \n",
      "10                0.5               0.995625                0.997188   \n",
      "11                1.0               0.999375                1.000000   \n",
      "12                1.0               0.999375                1.000000   \n",
      "13                1.0               0.999375                1.000000   \n",
      "14                0.5               0.995625                0.997188   \n",
      "15                NaN                    NaN                     NaN   \n",
      "16                NaN                    NaN                     NaN   \n",
      "17                NaN                    NaN                     NaN   \n",
      "18                NaN                    NaN                     NaN   \n",
      "19                NaN                    NaN                     NaN   \n",
      "20                NaN                    NaN                     NaN   \n",
      "21                NaN                    NaN                     NaN   \n",
      "\n",
      "    metrics.test_auc         tags.mlflow.runName tags.mlflow.source.type  \\\n",
      "0           0.857143          CatBoostClassifier                   LOCAL   \n",
      "1           0.928571          AdaBoostClassifier                   LOCAL   \n",
      "2           0.857143      RandomForestClassifier                   LOCAL   \n",
      "3           0.928571  GradientBoostingClassifier                   LOCAL   \n",
      "4           0.500000         logistic_regression                   LOCAL   \n",
      "5                NaN               random-forest                   LOCAL   \n",
      "6           0.857143          CatBoostClassifier                   LOCAL   \n",
      "7           0.928571          AdaBoostClassifier                   LOCAL   \n",
      "8           0.857143      RandomForestClassifier                   LOCAL   \n",
      "9           0.928571  GradientBoostingClassifier                   LOCAL   \n",
      "10          0.500000         logistic_regression                   LOCAL   \n",
      "11          0.928571  GradientBoostingClassifier                   LOCAL   \n",
      "12          0.928571  GradientBoostingClassifier                   LOCAL   \n",
      "13          0.928571  GradientBoostingClassifier                   LOCAL   \n",
      "14          0.500000         logistic_regression                   LOCAL   \n",
      "15               NaN         logistic_regression                   LOCAL   \n",
      "16               NaN                     lightgm                   LOCAL   \n",
      "17               NaN                     xgboost                   LOCAL   \n",
      "18               NaN                    catboost                   LOCAL   \n",
      "19               NaN                    adaboost                   LOCAL   \n",
      "20               NaN               random-forest                   LOCAL   \n",
      "21               NaN               random-forest                   LOCAL   \n",
      "\n",
      "                        tags.mlflow.log-model.history tags.mlflow.user  \\\n",
      "0   [{\"run_id\": \"25d2476ebbdd40368f158d524baa321d\"...             root   \n",
      "1   [{\"run_id\": \"0ac41eeb9a204c2eb593f8c725ae635e\"...             root   \n",
      "2   [{\"run_id\": \"73c1c00edf12436e8d3d29a810716a49\"...             root   \n",
      "3   [{\"run_id\": \"707f40bad8fb4e4e93c67c40d2d9cdbd\"...             root   \n",
      "4   [{\"run_id\": \"c56519b5a0264726b0b44a5e328b61b2\"...             root   \n",
      "5                                                None             root   \n",
      "6   [{\"run_id\": \"b4c9bca96785417091053d766ab1f58f\"...             root   \n",
      "7   [{\"run_id\": \"b03e44f22bfe4319aa431a10bb279c40\"...             root   \n",
      "8   [{\"run_id\": \"151871828f204a43b7cfba31e985ae8e\"...             root   \n",
      "9   [{\"run_id\": \"7213fd608ef34cc998000d5f24052c55\"...             root   \n",
      "10  [{\"run_id\": \"e0351687988041b2b799f3377b089927\"...             root   \n",
      "11  [{\"run_id\": \"b2d2728e57804fd9a5aaf1a9efd1bce2\"...             root   \n",
      "12  [{\"run_id\": \"90d88c48e80b43b687306dfaedaa7b3a\"...             root   \n",
      "13  [{\"run_id\": \"4fa28785cb114d938776509521fd49ff\"...             root   \n",
      "14  [{\"run_id\": \"b194767705824f71bfa9d11c527801b0\"...             root   \n",
      "15                                               None             root   \n",
      "16  [{\"run_id\": \"da6e08b23e3f4af099e36a76e125a40a\"...             root   \n",
      "17  [{\"run_id\": \"5662df179dd74f04a58454aa2562a202\"...             root   \n",
      "18  [{\"run_id\": \"3abf99dc448743f290cf9a5f3ba289f5\"...             root   \n",
      "19  [{\"run_id\": \"ec25113fc4ce4792ba33b6338bfccf09\"...             root   \n",
      "20  [{\"run_id\": \"4b9a0b5b5f704943abf8b1973f832763\"...             root   \n",
      "21                                               None             root   \n",
      "\n",
      "                              tags.mlflow.source.name  \n",
      "0   /opt/miniconda/lib/python3.7/site-packages/ipy...  \n",
      "1   /opt/miniconda/lib/python3.7/site-packages/ipy...  \n",
      "2   /opt/miniconda/lib/python3.7/site-packages/ipy...  \n",
      "3   /opt/miniconda/lib/python3.7/site-packages/ipy...  \n",
      "4   /opt/miniconda/lib/python3.7/site-packages/ipy...  \n",
      "5   /opt/miniconda/lib/python3.7/site-packages/ipy...  \n",
      "6   /opt/miniconda/lib/python3.7/site-packages/ipy...  \n",
      "7   /opt/miniconda/lib/python3.7/site-packages/ipy...  \n",
      "8   /opt/miniconda/lib/python3.7/site-packages/ipy...  \n",
      "9   /opt/miniconda/lib/python3.7/site-packages/ipy...  \n",
      "10  /opt/miniconda/lib/python3.7/site-packages/ipy...  \n",
      "11  /opt/miniconda/lib/python3.7/site-packages/ipy...  \n",
      "12  /opt/miniconda/lib/python3.7/site-packages/ipy...  \n",
      "13  /opt/miniconda/lib/python3.7/site-packages/ipy...  \n",
      "14  /opt/miniconda/lib/python3.7/site-packages/ipy...  \n",
      "15  /opt/miniconda/lib/python3.7/site-packages/ipy...  \n",
      "16  /opt/miniconda/lib/python3.7/site-packages/ipy...  \n",
      "17  /opt/miniconda/lib/python3.7/site-packages/ipy...  \n",
      "18  /opt/miniconda/lib/python3.7/site-packages/ipy...  \n",
      "19  /opt/miniconda/lib/python3.7/site-packages/ipy...  \n",
      "20  /opt/miniconda/lib/python3.7/site-packages/ipy...  \n",
      "21  /opt/miniconda/lib/python3.7/site-packages/ipy...  \n"
     ]
    }
   ],
   "source": [
    "\n",
    "df_runs = mlflow.search_runs(experiment_ids=exp_id)\n",
    "print(\"Number of runs done : \", len(df_runs))\n",
    "print(df_runs)"
   ]
  },
  {
   "cell_type": "markdown",
   "metadata": {
    "tags": []
   },
   "source": [
    "## Evaluating  Models"
   ]
  },
  {
   "cell_type": "code",
   "execution_count": 63,
   "metadata": {
    "tags": [
     "block:model_evaluation",
     "prev:runs"
    ]
   },
   "outputs": [
    {
     "data": {
      "text/html": [
       "<div>\n",
       "<style scoped>\n",
       "    .dataframe tbody tr th:only-of-type {\n",
       "        vertical-align: middle;\n",
       "    }\n",
       "\n",
       "    .dataframe tbody tr th {\n",
       "        vertical-align: top;\n",
       "    }\n",
       "\n",
       "    .dataframe thead th {\n",
       "        text-align: right;\n",
       "    }\n",
       "</style>\n",
       "<table border=\"1\" class=\"dataframe\">\n",
       "  <thead>\n",
       "    <tr style=\"text-align: right;\">\n",
       "      <th></th>\n",
       "      <th>run_id</th>\n",
       "      <th>experiment_id</th>\n",
       "      <th>status</th>\n",
       "      <th>artifact_uri</th>\n",
       "      <th>start_time</th>\n",
       "      <th>end_time</th>\n",
       "      <th>metrics.train_auc</th>\n",
       "      <th>metrics.test_accuracy</th>\n",
       "      <th>metrics.train_accuracy</th>\n",
       "      <th>metrics.test_auc</th>\n",
       "      <th>tags.mlflow.runName</th>\n",
       "      <th>tags.mlflow.source.type</th>\n",
       "      <th>tags.mlflow.log-model.history</th>\n",
       "      <th>tags.mlflow.user</th>\n",
       "      <th>tags.mlflow.source.name</th>\n",
       "    </tr>\n",
       "  </thead>\n",
       "  <tbody>\n",
       "    <tr>\n",
       "      <th>1</th>\n",
       "      <td>0ac41eeb9a204c2eb593f8c725ae635e</td>\n",
       "      <td>73</td>\n",
       "      <td>FINISHED</td>\n",
       "      <td>s3://models/73/0ac41eeb9a204c2eb593f8c725ae635...</td>\n",
       "      <td>2021-07-28 05:32:34.791000+00:00</td>\n",
       "      <td>2021-07-28 05:32:36.487000+00:00</td>\n",
       "      <td>1.0</td>\n",
       "      <td>0.999375</td>\n",
       "      <td>1.0</td>\n",
       "      <td>0.928571</td>\n",
       "      <td>AdaBoostClassifier</td>\n",
       "      <td>LOCAL</td>\n",
       "      <td>[{\"run_id\": \"0ac41eeb9a204c2eb593f8c725ae635e\"...</td>\n",
       "      <td>root</td>\n",
       "      <td>/opt/miniconda/lib/python3.7/site-packages/ipy...</td>\n",
       "    </tr>\n",
       "    <tr>\n",
       "      <th>3</th>\n",
       "      <td>707f40bad8fb4e4e93c67c40d2d9cdbd</td>\n",
       "      <td>73</td>\n",
       "      <td>FINISHED</td>\n",
       "      <td>s3://models/73/707f40bad8fb4e4e93c67c40d2d9cdb...</td>\n",
       "      <td>2021-07-28 05:32:27.428000+00:00</td>\n",
       "      <td>2021-07-28 05:32:33.432000+00:00</td>\n",
       "      <td>1.0</td>\n",
       "      <td>0.999375</td>\n",
       "      <td>1.0</td>\n",
       "      <td>0.928571</td>\n",
       "      <td>GradientBoostingClassifier</td>\n",
       "      <td>LOCAL</td>\n",
       "      <td>[{\"run_id\": \"707f40bad8fb4e4e93c67c40d2d9cdbd\"...</td>\n",
       "      <td>root</td>\n",
       "      <td>/opt/miniconda/lib/python3.7/site-packages/ipy...</td>\n",
       "    </tr>\n",
       "    <tr>\n",
       "      <th>7</th>\n",
       "      <td>b03e44f22bfe4319aa431a10bb279c40</td>\n",
       "      <td>73</td>\n",
       "      <td>FINISHED</td>\n",
       "      <td>s3://models/73/b03e44f22bfe4319aa431a10bb279c4...</td>\n",
       "      <td>2021-07-28 03:59:56.020000+00:00</td>\n",
       "      <td>2021-07-28 03:59:57.602000+00:00</td>\n",
       "      <td>1.0</td>\n",
       "      <td>0.999375</td>\n",
       "      <td>1.0</td>\n",
       "      <td>0.928571</td>\n",
       "      <td>AdaBoostClassifier</td>\n",
       "      <td>LOCAL</td>\n",
       "      <td>[{\"run_id\": \"b03e44f22bfe4319aa431a10bb279c40\"...</td>\n",
       "      <td>root</td>\n",
       "      <td>/opt/miniconda/lib/python3.7/site-packages/ipy...</td>\n",
       "    </tr>\n",
       "    <tr>\n",
       "      <th>9</th>\n",
       "      <td>7213fd608ef34cc998000d5f24052c55</td>\n",
       "      <td>73</td>\n",
       "      <td>FINISHED</td>\n",
       "      <td>s3://models/73/7213fd608ef34cc998000d5f24052c5...</td>\n",
       "      <td>2021-07-28 03:59:37.021000+00:00</td>\n",
       "      <td>2021-07-28 03:59:42.460000+00:00</td>\n",
       "      <td>1.0</td>\n",
       "      <td>0.999375</td>\n",
       "      <td>1.0</td>\n",
       "      <td>0.928571</td>\n",
       "      <td>GradientBoostingClassifier</td>\n",
       "      <td>LOCAL</td>\n",
       "      <td>[{\"run_id\": \"7213fd608ef34cc998000d5f24052c55\"...</td>\n",
       "      <td>root</td>\n",
       "      <td>/opt/miniconda/lib/python3.7/site-packages/ipy...</td>\n",
       "    </tr>\n",
       "    <tr>\n",
       "      <th>11</th>\n",
       "      <td>b2d2728e57804fd9a5aaf1a9efd1bce2</td>\n",
       "      <td>73</td>\n",
       "      <td>FINISHED</td>\n",
       "      <td>s3://models/73/b2d2728e57804fd9a5aaf1a9efd1bce...</td>\n",
       "      <td>2021-07-28 03:53:10.353000+00:00</td>\n",
       "      <td>2021-07-28 03:53:16.354000+00:00</td>\n",
       "      <td>1.0</td>\n",
       "      <td>0.999375</td>\n",
       "      <td>1.0</td>\n",
       "      <td>0.928571</td>\n",
       "      <td>GradientBoostingClassifier</td>\n",
       "      <td>LOCAL</td>\n",
       "      <td>[{\"run_id\": \"b2d2728e57804fd9a5aaf1a9efd1bce2\"...</td>\n",
       "      <td>root</td>\n",
       "      <td>/opt/miniconda/lib/python3.7/site-packages/ipy...</td>\n",
       "    </tr>\n",
       "  </tbody>\n",
       "</table>\n",
       "</div>"
      ],
      "text/plain": [
       "                              run_id experiment_id    status  \\\n",
       "1   0ac41eeb9a204c2eb593f8c725ae635e            73  FINISHED   \n",
       "3   707f40bad8fb4e4e93c67c40d2d9cdbd            73  FINISHED   \n",
       "7   b03e44f22bfe4319aa431a10bb279c40            73  FINISHED   \n",
       "9   7213fd608ef34cc998000d5f24052c55            73  FINISHED   \n",
       "11  b2d2728e57804fd9a5aaf1a9efd1bce2            73  FINISHED   \n",
       "\n",
       "                                         artifact_uri  \\\n",
       "1   s3://models/73/0ac41eeb9a204c2eb593f8c725ae635...   \n",
       "3   s3://models/73/707f40bad8fb4e4e93c67c40d2d9cdb...   \n",
       "7   s3://models/73/b03e44f22bfe4319aa431a10bb279c4...   \n",
       "9   s3://models/73/7213fd608ef34cc998000d5f24052c5...   \n",
       "11  s3://models/73/b2d2728e57804fd9a5aaf1a9efd1bce...   \n",
       "\n",
       "                         start_time                         end_time  \\\n",
       "1  2021-07-28 05:32:34.791000+00:00 2021-07-28 05:32:36.487000+00:00   \n",
       "3  2021-07-28 05:32:27.428000+00:00 2021-07-28 05:32:33.432000+00:00   \n",
       "7  2021-07-28 03:59:56.020000+00:00 2021-07-28 03:59:57.602000+00:00   \n",
       "9  2021-07-28 03:59:37.021000+00:00 2021-07-28 03:59:42.460000+00:00   \n",
       "11 2021-07-28 03:53:10.353000+00:00 2021-07-28 03:53:16.354000+00:00   \n",
       "\n",
       "    metrics.train_auc  metrics.test_accuracy  metrics.train_accuracy  \\\n",
       "1                 1.0               0.999375                     1.0   \n",
       "3                 1.0               0.999375                     1.0   \n",
       "7                 1.0               0.999375                     1.0   \n",
       "9                 1.0               0.999375                     1.0   \n",
       "11                1.0               0.999375                     1.0   \n",
       "\n",
       "    metrics.test_auc         tags.mlflow.runName tags.mlflow.source.type  \\\n",
       "1           0.928571          AdaBoostClassifier                   LOCAL   \n",
       "3           0.928571  GradientBoostingClassifier                   LOCAL   \n",
       "7           0.928571          AdaBoostClassifier                   LOCAL   \n",
       "9           0.928571  GradientBoostingClassifier                   LOCAL   \n",
       "11          0.928571  GradientBoostingClassifier                   LOCAL   \n",
       "\n",
       "                        tags.mlflow.log-model.history tags.mlflow.user  \\\n",
       "1   [{\"run_id\": \"0ac41eeb9a204c2eb593f8c725ae635e\"...             root   \n",
       "3   [{\"run_id\": \"707f40bad8fb4e4e93c67c40d2d9cdbd\"...             root   \n",
       "7   [{\"run_id\": \"b03e44f22bfe4319aa431a10bb279c40\"...             root   \n",
       "9   [{\"run_id\": \"7213fd608ef34cc998000d5f24052c55\"...             root   \n",
       "11  [{\"run_id\": \"b2d2728e57804fd9a5aaf1a9efd1bce2\"...             root   \n",
       "\n",
       "                              tags.mlflow.source.name  \n",
       "1   /opt/miniconda/lib/python3.7/site-packages/ipy...  \n",
       "3   /opt/miniconda/lib/python3.7/site-packages/ipy...  \n",
       "7   /opt/miniconda/lib/python3.7/site-packages/ipy...  \n",
       "9   /opt/miniconda/lib/python3.7/site-packages/ipy...  \n",
       "11  /opt/miniconda/lib/python3.7/site-packages/ipy...  "
      ]
     },
     "execution_count": 63,
     "metadata": {},
     "output_type": "execute_result"
    }
   ],
   "source": [
    "top_runs = df_runs.sort_values(['metrics.test_auc'],ascending=False)\n",
    "top_runs.head()"
   ]
  },
  {
   "cell_type": "markdown",
   "metadata": {
    "tags": []
   },
   "source": [
    "## Selecting best model"
   ]
  },
  {
   "cell_type": "code",
   "execution_count": 65,
   "metadata": {
    "tags": [
     "block:select_best_model",
     "prev:model_evaluation"
    ]
   },
   "outputs": [
    {
     "name": "stdout",
     "output_type": "stream",
     "text": [
      "Best model_artifacts : s3://models/73/0ac41eeb9a204c2eb593f8c725ae635e/artifacts\n",
      "====================================================================================================\n",
      "Best model run_id : 0ac41eeb9a204c2eb593f8c725ae635e\n",
      "====================================================================================================\n",
      "Best model : AdaBoostClassifier\n",
      "====================================================================================================\n",
      "Best model experiment id : 73\n"
     ]
    }
   ],
   "source": [
    "artifacts = top_runs.iloc[0][\"artifact_uri\"]\n",
    "run_id = top_runs.iloc[0][\"run_id\"]\n",
    "model_name = top_runs.iloc[0][\"tags.mlflow.runName\"] \n",
    "\n",
    "\n",
    "print('Best model_artifacts :',artifacts)\n",
    "print(\"=\" * 100)\n",
    "print('Best model run_id :',run_id)\n",
    "print(\"=\" * 100)\n",
    "print('Best model :',model_name)\n",
    "print(\"=\" * 100)\n",
    "print(\"Best model experiment id :\",exp_id)"
   ]
  },
  {
   "cell_type": "markdown",
   "metadata": {
    "tags": []
   },
   "source": [
    "## Registering best model"
   ]
  },
  {
   "cell_type": "code",
   "execution_count": 67,
   "metadata": {
    "tags": [
     "block:register_best_model",
     "prev:select_best_model"
    ]
   },
   "outputs": [
    {
     "name": "stderr",
     "output_type": "stream",
     "text": [
      "Registered model 'cred_fraud_detection-model_AdaBoostClassifier' already exists. Creating a new version of this model...\n",
      "2021/07/28 05:32:44 INFO mlflow.tracking._model_registry.client: Waiting up to 300 seconds for model version to finish creation.                     Model name: cred_fraud_detection-model_AdaBoostClassifier, version 2\n",
      "Created version '2' of model 'cred_fraud_detection-model_AdaBoostClassifier'.\n"
     ]
    }
   ],
   "source": [
    "result = mlflow.register_model(\n",
    "    \"runs:/\" + run_id,\n",
    "    MODEL_NAME+'_'+model_name\n",
    ")"
   ]
  },
  {
   "cell_type": "code",
   "execution_count": 68,
   "metadata": {
    "tags": []
   },
   "outputs": [
    {
     "name": "stdout",
     "output_type": "stream",
     "text": [
      "Registered model information :\n",
      "====================================================================================================\n",
      "                 Attribute                                              Value\n",
      "0       creation_timestamp                                      1627450364696\n",
      "1            current_stage                                               None\n",
      "2              description                                                   \n",
      "3   last_updated_timestamp                                      1627450364696\n",
      "4                     name      cred_fraud_detection-model_AdaBoostClassifier\n",
      "5                   run_id                   0ac41eeb9a204c2eb593f8c725ae635e\n",
      "6                 run_link                                                   \n",
      "7                   source  s3://models/73/0ac41eeb9a204c2eb593f8c725ae635...\n",
      "8                   status                                              READY\n",
      "9           status_message                                                   \n",
      "10                    tags                                                 {}\n",
      "11                 user_id                                                   \n",
      "12                 version                                                  2\n"
     ]
    }
   ],
   "source": [
    "print('Registered model information :')\n",
    "print('=='*50)\n",
    "print(pd.DataFrame(result, columns =['Attribute','Value']))"
   ]
  },
  {
   "cell_type": "code",
   "execution_count": 69,
   "metadata": {
    "tags": []
   },
   "outputs": [
    {
     "name": "stdout",
     "output_type": "stream",
     "text": [
      "Experiment information :\n",
      "====================================================================================================\n",
      "           Attribute                        Value\n",
      "0  artifact_location               s3://models/73\n",
      "1      experiment_id                           73\n",
      "2    lifecycle_stage                       active\n",
      "3               name  credit-card-fraud-detection\n",
      "4               tags                           {}\n"
     ]
    }
   ],
   "source": [
    "print('Experiment information :')\n",
    "print('=='*50)\n",
    "print(pd.DataFrame(exp_details, columns =['Attribute','Value']))"
   ]
  },
  {
   "cell_type": "markdown",
   "metadata": {
    "tags": []
   },
   "source": [
    "## storing best model address for deployment"
   ]
  },
  {
   "cell_type": "code",
   "execution_count": 70,
   "metadata": {
    "tags": [
     "block:deploy_model",
     "prev:register_best_model"
    ]
   },
   "outputs": [],
   "source": [
    "\n",
    "time = pd.to_datetime(datetime.now())"
   ]
  },
  {
   "cell_type": "code",
   "execution_count": 71,
   "metadata": {
    "tags": []
   },
   "outputs": [],
   "source": [
    "dictionary = [{\"model\":model_name,\n",
    "             \"location\":artifacts+'/'+model_name,\n",
    "             \"run_id\":run_id,\n",
    "            'experiment_id':exp_id,\n",
    "              'prod_time':time,\n",
    "              'top_features':predictors,\n",
    "              }]"
   ]
  },
  {
   "cell_type": "code",
   "execution_count": 72,
   "metadata": {
    "tags": []
   },
   "outputs": [
    {
     "data": {
      "text/html": [
       "<div>\n",
       "<style scoped>\n",
       "    .dataframe tbody tr th:only-of-type {\n",
       "        vertical-align: middle;\n",
       "    }\n",
       "\n",
       "    .dataframe tbody tr th {\n",
       "        vertical-align: top;\n",
       "    }\n",
       "\n",
       "    .dataframe thead th {\n",
       "        text-align: right;\n",
       "    }\n",
       "</style>\n",
       "<table border=\"1\" class=\"dataframe\">\n",
       "  <thead>\n",
       "    <tr style=\"text-align: right;\">\n",
       "      <th></th>\n",
       "      <th>model</th>\n",
       "      <th>location</th>\n",
       "      <th>run_id</th>\n",
       "      <th>experiment_id</th>\n",
       "      <th>prod_time</th>\n",
       "      <th>top_features</th>\n",
       "    </tr>\n",
       "  </thead>\n",
       "  <tbody>\n",
       "    <tr>\n",
       "      <th>0</th>\n",
       "      <td>AdaBoostClassifier</td>\n",
       "      <td>s3://models/73/0ac41eeb9a204c2eb593f8c725ae635...</td>\n",
       "      <td>0ac41eeb9a204c2eb593f8c725ae635e</td>\n",
       "      <td>73</td>\n",
       "      <td>2021-07-28 05:32:44.756239</td>\n",
       "      <td>[Time, V1, V2, V3, V4, V5, V6, V7, V8, V9, V10...</td>\n",
       "    </tr>\n",
       "  </tbody>\n",
       "</table>\n",
       "</div>"
      ],
      "text/plain": [
       "                model                                           location  \\\n",
       "0  AdaBoostClassifier  s3://models/73/0ac41eeb9a204c2eb593f8c725ae635...   \n",
       "\n",
       "                             run_id experiment_id                  prod_time  \\\n",
       "0  0ac41eeb9a204c2eb593f8c725ae635e            73 2021-07-28 05:32:44.756239   \n",
       "\n",
       "                                        top_features  \n",
       "0  [Time, V1, V2, V3, V4, V5, V6, V7, V8, V9, V10...  "
      ]
     },
     "execution_count": 72,
     "metadata": {},
     "output_type": "execute_result"
    }
   ],
   "source": [
    "dataset = pd.DataFrame(dictionary)\n",
    "dataset"
   ]
  },
  {
   "cell_type": "code",
   "execution_count": null,
   "metadata": {},
   "outputs": [],
   "source": [
    "POSTGRES_PASSWORD = passwrd_parser(POSTGRES_PASSWORD)"
   ]
  },
  {
   "cell_type": "code",
   "execution_count": 73,
   "metadata": {
    "tags": []
   },
   "outputs": [],
   "source": [
    "write_to_feature_store(POSTGRES_USERNAME,POSTGRES_PASSWORD,POSTGRES_ADDRESS,\n",
    "                       POSTGRES_PORT,POSTGRES_DBNAME,PROJECT_SCHEMA,dataset,TABLE_MODEL)"
   ]
  },
  {
   "cell_type": "code",
   "execution_count": null,
   "metadata": {
    "tags": []
   },
   "outputs": [],
   "source": []
  }
 ],
 "metadata": {
  "kernelspec": {
   "display_name": "Python 3",
   "language": "python",
   "name": "python3"
  },
  "kubeflow_notebook": {
   "autosnapshot": false,
   "docker_image": "katonic/usecaseb1:4.0",
   "experiment": {
    "id": "new",
    "name": "credit-fraud"
   },
   "experiment_name": "credit-fraud",
   "katib_metadata": {
    "algorithm": {
     "algorithmName": "grid"
    },
    "maxFailedTrialCount": 3,
    "maxTrialCount": 12,
    "objective": {
     "objectiveMetricName": "",
     "type": "minimize"
    },
    "parallelTrialCount": 3,
    "parameters": []
   },
   "katib_run": false,
   "pipeline_description": "credit-fraud-training",
   "pipeline_name": "credit-fraud-training",
   "snapshot_volumes": false,
   "steps_defaults": [],
   "volume_access_mode": "rwo",
   "volumes": []
  },
  "language_info": {
   "codemirror_mode": {
    "name": "ipython",
    "version": 3
   },
   "file_extension": ".py",
   "mimetype": "text/x-python",
   "name": "python",
   "nbconvert_exporter": "python",
   "pygments_lexer": "ipython3",
   "version": "3.7.9"
  }
 },
 "nbformat": 4,
 "nbformat_minor": 4
}
