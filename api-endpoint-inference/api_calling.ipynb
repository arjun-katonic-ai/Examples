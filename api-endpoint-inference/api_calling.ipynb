{
 "cells": [
  {
   "cell_type": "code",
   "execution_count": null,
   "metadata": {
    "tags": [
     "imports"
    ]
   },
   "outputs": [],
   "source": [
    "import os\n",
    "os.system(\"pip install pandas -q\")\n",
    "\n",
    "import requests\n",
    "import pandas as pd\n",
    "\n",
    "import warnings\n",
    "warnings.filterwarnings(\"ignore\")"
   ]
  },
  {
   "cell_type": "markdown",
   "metadata": {
    "tags": []
   },
   "source": [
    "### Follow the instructions to add api-endpoint and secure-token"
   ]
  },
  {
   "cell_type": "markdown",
   "metadata": {},
   "source": [
    "* `MODEL_API_ENDPOINT`: Generated model end point from the deployed model.\n",
    "* `MODEL_FEEDBACK_ENDPOINT`: Replace the `predict` keyword from the end point with `feedback` keyword.\n",
    "* `SECURE_TOKEN`: Generate token from Model by choosing the expiry time and click on generate api toke."
   ]
  },
  {
   "cell_type": "code",
   "execution_count": null,
   "metadata": {},
   "outputs": [],
   "source": [
    "MODEL_API_ENDPOINT = \"\"\n",
    "MODEL_FEEDBACK_ENDPOINT = \"\"\n",
    "SECURE_TOKEN = \"\""
   ]
  },
  {
   "cell_type": "code",
   "execution_count": 9,
   "metadata": {
    "tags": [
     "block:loading_test_data"
    ]
   },
   "outputs": [],
   "source": [
    "test_data = pd.read_csv(\"https://raw.githubusercontent.com/vinaynaman/miscellaneous/main/loan_prediction_test_data.csv\")"
   ]
  },
  {
   "cell_type": "code",
   "execution_count": 10,
   "metadata": {
    "tags": [
     "block:removing_unwanted_columns",
     "prev:loading_test_data"
    ]
   },
   "outputs": [],
   "source": [
    "test_data = test_data.drop(\"Unnamed: 0\", axis = 1)"
   ]
  },
  {
   "cell_type": "code",
   "execution_count": 11,
   "metadata": {
    "tags": [
     "block:splitting_data_x_y",
     "prev:removing_unwanted_columns"
    ]
   },
   "outputs": [],
   "source": [
    "X = test_data.drop(\"bad_loan\", axis=1)\n",
    "y = test_data[\"bad_loan\"]"
   ]
  },
  {
   "cell_type": "code",
   "execution_count": null,
   "metadata": {
    "collapsed": true,
    "jupyter": {
     "outputs_hidden": true
    },
    "tags": [
     "block:prediction",
     "prev:removing_unwanted_columns",
     "prev:splitting_data_x_y"
    ]
   },
   "outputs": [],
   "source": [
    "# Doing Inference using MODEL API.\n",
    "\n",
    "features = X.values\n",
    "\n",
    "for x_i in (features):\n",
    "    data = {\"data\": [list(float(x) for x in x_i)]}\n",
    "    result = requests.post(f\"{MODEL_API_ENDPOINT}\", json = data,verify=False, headers = {\"Authorization\":SECURE_TOKEN})\n",
    "    print(result.text)"
   ]
  },
  {
   "cell_type": "code",
   "execution_count": 7,
   "metadata": {
    "tags": [
     "block:feedback_loop",
     "prev:removing_unwanted_columns",
     "prev:splitting_data_x_y"
    ]
   },
   "outputs": [],
   "source": [
    "# Doing Inference & Monitoring on graphana using MODEL API.\n",
    "\n",
    "features = X.values\n",
    "labels = y.values\n",
    "\n",
    "for x_i, y_i in zip(features, y):\n",
    "    data = {\"data\":x_i.tolist(), \"label\" : [y_i]}\n",
    "    result = requests.post(f\"{MODEL_FEEDBACK_ENDPOINT}\", json=data,verify=False, headers = {\"Authorization\":SECURE_TOKEN})\n",
    "    print(result.text)"
   ]
  },
  {
   "cell_type": "code",
   "execution_count": null,
   "metadata": {},
   "outputs": [],
   "source": []
  }
 ],
 "metadata": {
  "kernelspec": {
   "display_name": "Python 3 (ipykernel)",
   "language": "python",
   "name": "python3"
  },
  "kubeflow_notebook": {
   "autosnapshot": false,
   "docker_image": "katonic/usecaseb1:4.0",
   "experiment": {
    "id": "new",
    "name": "loan-default-prediction-exp"
   },
   "experiment_name": "loan-default-prediction-exp",
   "katib_metadata": {
    "algorithm": {
     "algorithmName": "grid"
    },
    "maxFailedTrialCount": 3,
    "maxTrialCount": 12,
    "objective": {
     "objectiveMetricName": "",
     "type": "minimize"
    },
    "parallelTrialCount": 3,
    "parameters": []
   },
   "katib_run": false,
   "pipeline_description": "pipeline for loan default prediction",
   "pipeline_name": "preprocessing-model-training",
   "snapshot_volumes": false,
   "steps_defaults": [],
   "storage_class_name": "kfs",
   "volume_access_mode": "rwo",
   "volumes": []
  },
  "language_info": {
   "codemirror_mode": {
    "name": "ipython",
    "version": 3
   },
   "file_extension": ".py",
   "mimetype": "text/x-python",
   "name": "python",
   "nbconvert_exporter": "python",
   "pygments_lexer": "ipython3",
   "version": "3.8.12"
  }
 },
 "nbformat": 4,
 "nbformat_minor": 4
}
