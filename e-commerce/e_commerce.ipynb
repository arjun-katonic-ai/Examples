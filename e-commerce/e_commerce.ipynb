{
 "cells": [
  {
   "cell_type": "markdown",
   "metadata": {
    "tags": []
   },
   "source": [
    "# E-Commerce Shipping \n",
    "#### Product Shipment Delivered on time or not? To Meet E-Commerce Customer Demand\n",
    "An international e-commerce company based wants to discover key insights from their customer database. They want to use some of the most advanced machine learning techniques to study their customers. The company sells electronic products.\n",
    "### Features and informations\n",
    "The dataset used for model building contained 10999 observations of 12 variables.\n",
    "The data contains the following information:\n",
    "\n",
    "- ID: ID Number of Customers.\n",
    "- Warehouse block: The Company have big Warehouse which is divided in to block such as A,B,C,D,E.\n",
    "- Mode of shipment:The Company Ships the products in multiple way such as Ship, Flight and Road.\n",
    "- Customer care calls: The number of calls made from enquiry for enquiry of the shipment.\n",
    "- Customer rating: The company has rated from every customer. 1 is the lowest (Worst), 5 is the highest (Best).\n",
    "- Cost of the product: Cost of the Product in US Dollars.\n",
    "- Prior purchases: The Number of Prior Purchase.\n",
    "- Product importance: The company has categorized the product in the various parameter such as low, medium, high.\n",
    "- Gender: Male and Female.\n",
    "- Discount offered: Discount offered on that specific product.\n",
    "- Weight in gms: It is the weight in grams.\n",
    "- Reached on time: It is the target variable, where 1 Indicates that the product has NOT reached on time and 0 indicates it has reached on time.\n",
    "\n",
    "\n",
    "### Packages and libraries"
   ]
  },
  {
   "cell_type": "code",
   "execution_count": 1,
   "metadata": {
    "tags": [
     "imports"
    ]
   },
   "outputs": [],
   "source": [
    "import pandas as pd\n",
    "import numpy as np\n",
    "import seaborn as sns\n",
    "import matplotlib.pyplot as plt\n",
    "import warnings\n",
    "from warnings import filterwarnings\n",
    "warnings.filterwarnings('ignore')\n",
    "from mpl_toolkits.mplot3d import Axes3D\n",
    "import statsmodels.api as sm\n",
    "#import missingno as msno\n",
    "from sklearn.decomposition import PCA\n",
    "from sklearn.preprocessing import scale\n",
    "from sklearn.neighbors import LocalOutlierFactor\n",
    "from scipy.stats import levene\n",
    "from scipy.stats import shapiro\n",
    "from scipy.stats.stats import pearsonr\n",
    "from sklearn.preprocessing import LabelEncoder\n",
    "from sklearn.model_selection import train_test_split, cross_val_score, cross_val_predict\n",
    "from sklearn.preprocessing import scale\n",
    "from sklearn.model_selection import ShuffleSplit, GridSearchCV\n",
    "from sklearn.metrics import mean_squared_error, r2_score\n",
    "from sklearn import model_selection\n",
    "from sklearn.tree import DecisionTreeClassifier, DecisionTreeRegressor\n",
    "from sklearn.neighbors import KNeighborsRegressor\n",
    "from sklearn.neighbors import KNeighborsClassifier\n",
    "from sklearn.ensemble import BaggingRegressor\n",
    "from sklearn.svm import SVR\n",
    "from sklearn.preprocessing import StandardScaler\n",
    "from sklearn.neural_network import MLPRegressor\n",
    "from sklearn.neural_network import MLPClassifier\n",
    "from sklearn.linear_model import LinearRegression\n",
    "from sklearn.cross_decomposition import PLSRegression\n",
    "from sklearn.linear_model import Ridge\n",
    "from sklearn.linear_model import RidgeCV\n",
    "from sklearn.linear_model import Lasso\n",
    "from sklearn.linear_model import LassoCV\n",
    "from sklearn.linear_model import ElasticNet\n",
    "from sklearn.linear_model import ElasticNetCV\n",
    "from sklearn import linear_model\n",
    "from sklearn.ensemble import RandomForestRegressor, RandomForestClassifier\n",
    "from sklearn.ensemble import GradientBoostingRegressor, GradientBoostingClassifier\n",
    "import xgboost as xgb\n",
    "from xgboost import XGBRegressor, XGBClassifier\n",
    "from lightgbm import LGBMRegressor, LGBMClassifier\n",
    "from catboost import CatBoostRegressor, CatBoostClassifier\n",
    "from sklearn.linear_model import LogisticRegression\n",
    "from sklearn.naive_bayes import GaussianNB\n",
    "from sklearn.svm import SVC\n",
    "from sklearn import tree\n",
    "from sklearn.discriminant_analysis import LinearDiscriminantAnalysis\n",
    "from sklearn.metrics import confusion_matrix, accuracy_score, classification_report, roc_auc_score, roc_curve\n",
    "#from yellowbrick.cluster import KElbowVisualizer\n",
    "from sklearn.cluster import KMeans\n",
    "import statsmodels.stats.api as sms\n",
    "# import joblib\n",
    "# from typing import  List\n",
    "# from datetime import datetime\n",
    "# from minio import Minio"
   ]
  },
  {
   "cell_type": "code",
   "execution_count": 2,
   "metadata": {},
   "outputs": [],
   "source": [
    "#!pip install statsmodels"
   ]
  },
  {
   "cell_type": "markdown",
   "metadata": {
    "tags": []
   },
   "source": [
    "#### Warnings"
   ]
  },
  {
   "cell_type": "code",
   "execution_count": 3,
   "metadata": {
    "tags": []
   },
   "outputs": [],
   "source": [
    "filterwarnings(\"ignore\", category=DeprecationWarning) \n",
    "filterwarnings(\"ignore\", category=FutureWarning) \n",
    "filterwarnings(\"ignore\", category=UserWarning)"
   ]
  },
  {
   "cell_type": "markdown",
   "metadata": {
    "tags": []
   },
   "source": [
    "### Load data"
   ]
  },
  {
   "cell_type": "code",
   "execution_count": 4,
   "metadata": {
    "tags": [
     "block:load_data"
    ]
   },
   "outputs": [],
   "source": [
    "e_commerce = pd.read_csv(\"https://raw.githubusercontent.com/katonic-dev/Examples/master/data/e_commerce.csv\")"
   ]
  },
  {
   "cell_type": "code",
   "execution_count": 5,
   "metadata": {
    "tags": []
   },
   "outputs": [
    {
     "data": {
      "text/html": [
       "<div>\n",
       "<style scoped>\n",
       "    .dataframe tbody tr th:only-of-type {\n",
       "        vertical-align: middle;\n",
       "    }\n",
       "\n",
       "    .dataframe tbody tr th {\n",
       "        vertical-align: top;\n",
       "    }\n",
       "\n",
       "    .dataframe thead th {\n",
       "        text-align: right;\n",
       "    }\n",
       "</style>\n",
       "<table border=\"1\" class=\"dataframe\">\n",
       "  <thead>\n",
       "    <tr style=\"text-align: right;\">\n",
       "      <th></th>\n",
       "      <th>ID</th>\n",
       "      <th>Warehouse_block</th>\n",
       "      <th>Mode_of_Shipment</th>\n",
       "      <th>Customer_care_calls</th>\n",
       "      <th>Customer_rating</th>\n",
       "      <th>Cost_of_the_Product</th>\n",
       "      <th>Prior_purchases</th>\n",
       "      <th>Product_importance</th>\n",
       "      <th>Gender</th>\n",
       "      <th>Discount_offered</th>\n",
       "      <th>Weight_in_gms</th>\n",
       "      <th>Reached.on.Time_Y.N</th>\n",
       "    </tr>\n",
       "  </thead>\n",
       "  <tbody>\n",
       "    <tr>\n",
       "      <th>0</th>\n",
       "      <td>1</td>\n",
       "      <td>D</td>\n",
       "      <td>Flight</td>\n",
       "      <td>4</td>\n",
       "      <td>2</td>\n",
       "      <td>177</td>\n",
       "      <td>3</td>\n",
       "      <td>low</td>\n",
       "      <td>F</td>\n",
       "      <td>44</td>\n",
       "      <td>1233</td>\n",
       "      <td>1</td>\n",
       "    </tr>\n",
       "    <tr>\n",
       "      <th>1</th>\n",
       "      <td>2</td>\n",
       "      <td>F</td>\n",
       "      <td>Flight</td>\n",
       "      <td>4</td>\n",
       "      <td>5</td>\n",
       "      <td>216</td>\n",
       "      <td>2</td>\n",
       "      <td>low</td>\n",
       "      <td>M</td>\n",
       "      <td>59</td>\n",
       "      <td>3088</td>\n",
       "      <td>1</td>\n",
       "    </tr>\n",
       "    <tr>\n",
       "      <th>2</th>\n",
       "      <td>3</td>\n",
       "      <td>A</td>\n",
       "      <td>Flight</td>\n",
       "      <td>2</td>\n",
       "      <td>2</td>\n",
       "      <td>183</td>\n",
       "      <td>4</td>\n",
       "      <td>low</td>\n",
       "      <td>M</td>\n",
       "      <td>48</td>\n",
       "      <td>3374</td>\n",
       "      <td>1</td>\n",
       "    </tr>\n",
       "    <tr>\n",
       "      <th>3</th>\n",
       "      <td>4</td>\n",
       "      <td>B</td>\n",
       "      <td>Flight</td>\n",
       "      <td>3</td>\n",
       "      <td>3</td>\n",
       "      <td>176</td>\n",
       "      <td>4</td>\n",
       "      <td>medium</td>\n",
       "      <td>M</td>\n",
       "      <td>10</td>\n",
       "      <td>1177</td>\n",
       "      <td>1</td>\n",
       "    </tr>\n",
       "    <tr>\n",
       "      <th>4</th>\n",
       "      <td>5</td>\n",
       "      <td>C</td>\n",
       "      <td>Flight</td>\n",
       "      <td>2</td>\n",
       "      <td>2</td>\n",
       "      <td>184</td>\n",
       "      <td>3</td>\n",
       "      <td>medium</td>\n",
       "      <td>F</td>\n",
       "      <td>46</td>\n",
       "      <td>2484</td>\n",
       "      <td>1</td>\n",
       "    </tr>\n",
       "  </tbody>\n",
       "</table>\n",
       "</div>"
      ],
      "text/plain": [
       "   ID Warehouse_block Mode_of_Shipment  Customer_care_calls  Customer_rating  \\\n",
       "0   1               D           Flight                    4                2   \n",
       "1   2               F           Flight                    4                5   \n",
       "2   3               A           Flight                    2                2   \n",
       "3   4               B           Flight                    3                3   \n",
       "4   5               C           Flight                    2                2   \n",
       "\n",
       "   Cost_of_the_Product  Prior_purchases Product_importance Gender  \\\n",
       "0                  177                3                low      F   \n",
       "1                  216                2                low      M   \n",
       "2                  183                4                low      M   \n",
       "3                  176                4             medium      M   \n",
       "4                  184                3             medium      F   \n",
       "\n",
       "   Discount_offered  Weight_in_gms  Reached.on.Time_Y.N  \n",
       "0                44           1233                    1  \n",
       "1                59           3088                    1  \n",
       "2                48           3374                    1  \n",
       "3                10           1177                    1  \n",
       "4                46           2484                    1  "
      ]
     },
     "execution_count": 5,
     "metadata": {},
     "output_type": "execute_result"
    }
   ],
   "source": [
    "e_commerce.head()"
   ]
  },
  {
   "cell_type": "markdown",
   "metadata": {
    "tags": []
   },
   "source": [
    "### Data Profiling"
   ]
  },
  {
   "cell_type": "code",
   "execution_count": 6,
   "metadata": {
    "tags": [
     "block:data_profiling",
     "prev:load_data"
    ]
   },
   "outputs": [
    {
     "data": {
      "text/plain": [
       "(10999, 12)"
      ]
     },
     "execution_count": 6,
     "metadata": {},
     "output_type": "execute_result"
    }
   ],
   "source": [
    "# Shape of the dataset\n",
    "e_commerce.shape"
   ]
  },
  {
   "cell_type": "code",
   "execution_count": 7,
   "metadata": {
    "tags": []
   },
   "outputs": [
    {
     "name": "stdout",
     "output_type": "stream",
     "text": [
      "<class 'pandas.core.frame.DataFrame'>\n",
      "RangeIndex: 10999 entries, 0 to 10998\n",
      "Data columns (total 12 columns):\n",
      " #   Column               Non-Null Count  Dtype \n",
      "---  ------               --------------  ----- \n",
      " 0   ID                   10999 non-null  int64 \n",
      " 1   Warehouse_block      10999 non-null  object\n",
      " 2   Mode_of_Shipment     10999 non-null  object\n",
      " 3   Customer_care_calls  10999 non-null  int64 \n",
      " 4   Customer_rating      10999 non-null  int64 \n",
      " 5   Cost_of_the_Product  10999 non-null  int64 \n",
      " 6   Prior_purchases      10999 non-null  int64 \n",
      " 7   Product_importance   10999 non-null  object\n",
      " 8   Gender               10999 non-null  object\n",
      " 9   Discount_offered     10999 non-null  int64 \n",
      " 10  Weight_in_gms        10999 non-null  int64 \n",
      " 11  Reached.on.Time_Y.N  10999 non-null  int64 \n",
      "dtypes: int64(8), object(4)\n",
      "memory usage: 1.0+ MB\n"
     ]
    }
   ],
   "source": [
    "#Information about the columns\n",
    "e_commerce.info()"
   ]
  },
  {
   "cell_type": "code",
   "execution_count": 8,
   "metadata": {
    "tags": []
   },
   "outputs": [
    {
     "data": {
      "text/plain": [
       "ID                     0\n",
       "Warehouse_block        0\n",
       "Mode_of_Shipment       0\n",
       "Customer_care_calls    0\n",
       "Customer_rating        0\n",
       "Cost_of_the_Product    0\n",
       "Prior_purchases        0\n",
       "Product_importance     0\n",
       "Gender                 0\n",
       "Discount_offered       0\n",
       "Weight_in_gms          0\n",
       "Reached.on.Time_Y.N    0\n",
       "dtype: int64"
      ]
     },
     "execution_count": 8,
     "metadata": {},
     "output_type": "execute_result"
    }
   ],
   "source": [
    "#Checking if there is any null values in the dataset\n",
    "e_commerce.isnull().sum()"
   ]
  },
  {
   "cell_type": "code",
   "execution_count": 9,
   "metadata": {
    "tags": []
   },
   "outputs": [
    {
     "data": {
      "text/html": [
       "<div>\n",
       "<style scoped>\n",
       "    .dataframe tbody tr th:only-of-type {\n",
       "        vertical-align: middle;\n",
       "    }\n",
       "\n",
       "    .dataframe tbody tr th {\n",
       "        vertical-align: top;\n",
       "    }\n",
       "\n",
       "    .dataframe thead th {\n",
       "        text-align: right;\n",
       "    }\n",
       "</style>\n",
       "<table border=\"1\" class=\"dataframe\">\n",
       "  <thead>\n",
       "    <tr style=\"text-align: right;\">\n",
       "      <th></th>\n",
       "      <th>ID</th>\n",
       "      <th>Customer_care_calls</th>\n",
       "      <th>Customer_rating</th>\n",
       "      <th>Cost_of_the_Product</th>\n",
       "      <th>Prior_purchases</th>\n",
       "      <th>Discount_offered</th>\n",
       "      <th>Weight_in_gms</th>\n",
       "      <th>Reached.on.Time_Y.N</th>\n",
       "    </tr>\n",
       "  </thead>\n",
       "  <tbody>\n",
       "    <tr>\n",
       "      <th>count</th>\n",
       "      <td>10999.00000</td>\n",
       "      <td>10999.000000</td>\n",
       "      <td>10999.000000</td>\n",
       "      <td>10999.000000</td>\n",
       "      <td>10999.000000</td>\n",
       "      <td>10999.000000</td>\n",
       "      <td>10999.000000</td>\n",
       "      <td>10999.000000</td>\n",
       "    </tr>\n",
       "    <tr>\n",
       "      <th>mean</th>\n",
       "      <td>5500.00000</td>\n",
       "      <td>4.054459</td>\n",
       "      <td>2.990545</td>\n",
       "      <td>210.196836</td>\n",
       "      <td>3.567597</td>\n",
       "      <td>13.373216</td>\n",
       "      <td>3634.016729</td>\n",
       "      <td>0.596691</td>\n",
       "    </tr>\n",
       "    <tr>\n",
       "      <th>std</th>\n",
       "      <td>3175.28214</td>\n",
       "      <td>1.141490</td>\n",
       "      <td>1.413603</td>\n",
       "      <td>48.063272</td>\n",
       "      <td>1.522860</td>\n",
       "      <td>16.205527</td>\n",
       "      <td>1635.377251</td>\n",
       "      <td>0.490584</td>\n",
       "    </tr>\n",
       "    <tr>\n",
       "      <th>min</th>\n",
       "      <td>1.00000</td>\n",
       "      <td>2.000000</td>\n",
       "      <td>1.000000</td>\n",
       "      <td>96.000000</td>\n",
       "      <td>2.000000</td>\n",
       "      <td>1.000000</td>\n",
       "      <td>1001.000000</td>\n",
       "      <td>0.000000</td>\n",
       "    </tr>\n",
       "    <tr>\n",
       "      <th>25%</th>\n",
       "      <td>2750.50000</td>\n",
       "      <td>3.000000</td>\n",
       "      <td>2.000000</td>\n",
       "      <td>169.000000</td>\n",
       "      <td>3.000000</td>\n",
       "      <td>4.000000</td>\n",
       "      <td>1839.500000</td>\n",
       "      <td>0.000000</td>\n",
       "    </tr>\n",
       "    <tr>\n",
       "      <th>50%</th>\n",
       "      <td>5500.00000</td>\n",
       "      <td>4.000000</td>\n",
       "      <td>3.000000</td>\n",
       "      <td>214.000000</td>\n",
       "      <td>3.000000</td>\n",
       "      <td>7.000000</td>\n",
       "      <td>4149.000000</td>\n",
       "      <td>1.000000</td>\n",
       "    </tr>\n",
       "    <tr>\n",
       "      <th>75%</th>\n",
       "      <td>8249.50000</td>\n",
       "      <td>5.000000</td>\n",
       "      <td>4.000000</td>\n",
       "      <td>251.000000</td>\n",
       "      <td>4.000000</td>\n",
       "      <td>10.000000</td>\n",
       "      <td>5050.000000</td>\n",
       "      <td>1.000000</td>\n",
       "    </tr>\n",
       "    <tr>\n",
       "      <th>max</th>\n",
       "      <td>10999.00000</td>\n",
       "      <td>7.000000</td>\n",
       "      <td>5.000000</td>\n",
       "      <td>310.000000</td>\n",
       "      <td>10.000000</td>\n",
       "      <td>65.000000</td>\n",
       "      <td>7846.000000</td>\n",
       "      <td>1.000000</td>\n",
       "    </tr>\n",
       "  </tbody>\n",
       "</table>\n",
       "</div>"
      ],
      "text/plain": [
       "                ID  Customer_care_calls  Customer_rating  Cost_of_the_Product  \\\n",
       "count  10999.00000         10999.000000     10999.000000         10999.000000   \n",
       "mean    5500.00000             4.054459         2.990545           210.196836   \n",
       "std     3175.28214             1.141490         1.413603            48.063272   \n",
       "min        1.00000             2.000000         1.000000            96.000000   \n",
       "25%     2750.50000             3.000000         2.000000           169.000000   \n",
       "50%     5500.00000             4.000000         3.000000           214.000000   \n",
       "75%     8249.50000             5.000000         4.000000           251.000000   \n",
       "max    10999.00000             7.000000         5.000000           310.000000   \n",
       "\n",
       "       Prior_purchases  Discount_offered  Weight_in_gms  Reached.on.Time_Y.N  \n",
       "count     10999.000000      10999.000000   10999.000000         10999.000000  \n",
       "mean          3.567597         13.373216    3634.016729             0.596691  \n",
       "std           1.522860         16.205527    1635.377251             0.490584  \n",
       "min           2.000000          1.000000    1001.000000             0.000000  \n",
       "25%           3.000000          4.000000    1839.500000             0.000000  \n",
       "50%           3.000000          7.000000    4149.000000             1.000000  \n",
       "75%           4.000000         10.000000    5050.000000             1.000000  \n",
       "max          10.000000         65.000000    7846.000000             1.000000  "
      ]
     },
     "execution_count": 9,
     "metadata": {},
     "output_type": "execute_result"
    }
   ],
   "source": [
    "#Basic summary statistics\n",
    "e_commerce.describe()"
   ]
  },
  {
   "cell_type": "code",
   "execution_count": 10,
   "metadata": {
    "tags": []
   },
   "outputs": [
    {
     "data": {
      "text/html": [
       "<div>\n",
       "<style scoped>\n",
       "    .dataframe tbody tr th:only-of-type {\n",
       "        vertical-align: middle;\n",
       "    }\n",
       "\n",
       "    .dataframe tbody tr th {\n",
       "        vertical-align: top;\n",
       "    }\n",
       "\n",
       "    .dataframe thead th {\n",
       "        text-align: right;\n",
       "    }\n",
       "</style>\n",
       "<table border=\"1\" class=\"dataframe\">\n",
       "  <thead>\n",
       "    <tr style=\"text-align: right;\">\n",
       "      <th></th>\n",
       "      <th>ID</th>\n",
       "      <th>Customer_care_calls</th>\n",
       "      <th>Customer_rating</th>\n",
       "      <th>Cost_of_the_Product</th>\n",
       "      <th>Prior_purchases</th>\n",
       "      <th>Discount_offered</th>\n",
       "      <th>Weight_in_gms</th>\n",
       "      <th>Reached.on.Time_Y.N</th>\n",
       "    </tr>\n",
       "  </thead>\n",
       "  <tbody>\n",
       "    <tr>\n",
       "      <th>ID</th>\n",
       "      <td>1.000000</td>\n",
       "      <td>0.188998</td>\n",
       "      <td>-0.005722</td>\n",
       "      <td>0.196791</td>\n",
       "      <td>0.145369</td>\n",
       "      <td>-0.598278</td>\n",
       "      <td>0.278312</td>\n",
       "      <td>-0.411822</td>\n",
       "    </tr>\n",
       "    <tr>\n",
       "      <th>Customer_care_calls</th>\n",
       "      <td>0.188998</td>\n",
       "      <td>1.000000</td>\n",
       "      <td>0.012209</td>\n",
       "      <td>0.323182</td>\n",
       "      <td>0.180771</td>\n",
       "      <td>-0.130750</td>\n",
       "      <td>-0.276615</td>\n",
       "      <td>-0.067126</td>\n",
       "    </tr>\n",
       "    <tr>\n",
       "      <th>Customer_rating</th>\n",
       "      <td>-0.005722</td>\n",
       "      <td>0.012209</td>\n",
       "      <td>1.000000</td>\n",
       "      <td>0.009270</td>\n",
       "      <td>0.013179</td>\n",
       "      <td>-0.003124</td>\n",
       "      <td>-0.001897</td>\n",
       "      <td>0.013119</td>\n",
       "    </tr>\n",
       "    <tr>\n",
       "      <th>Cost_of_the_Product</th>\n",
       "      <td>0.196791</td>\n",
       "      <td>0.323182</td>\n",
       "      <td>0.009270</td>\n",
       "      <td>1.000000</td>\n",
       "      <td>0.123676</td>\n",
       "      <td>-0.138312</td>\n",
       "      <td>-0.132604</td>\n",
       "      <td>-0.073587</td>\n",
       "    </tr>\n",
       "    <tr>\n",
       "      <th>Prior_purchases</th>\n",
       "      <td>0.145369</td>\n",
       "      <td>0.180771</td>\n",
       "      <td>0.013179</td>\n",
       "      <td>0.123676</td>\n",
       "      <td>1.000000</td>\n",
       "      <td>-0.082769</td>\n",
       "      <td>-0.168213</td>\n",
       "      <td>-0.055515</td>\n",
       "    </tr>\n",
       "    <tr>\n",
       "      <th>Discount_offered</th>\n",
       "      <td>-0.598278</td>\n",
       "      <td>-0.130750</td>\n",
       "      <td>-0.003124</td>\n",
       "      <td>-0.138312</td>\n",
       "      <td>-0.082769</td>\n",
       "      <td>1.000000</td>\n",
       "      <td>-0.376067</td>\n",
       "      <td>0.397108</td>\n",
       "    </tr>\n",
       "    <tr>\n",
       "      <th>Weight_in_gms</th>\n",
       "      <td>0.278312</td>\n",
       "      <td>-0.276615</td>\n",
       "      <td>-0.001897</td>\n",
       "      <td>-0.132604</td>\n",
       "      <td>-0.168213</td>\n",
       "      <td>-0.376067</td>\n",
       "      <td>1.000000</td>\n",
       "      <td>-0.268793</td>\n",
       "    </tr>\n",
       "    <tr>\n",
       "      <th>Reached.on.Time_Y.N</th>\n",
       "      <td>-0.411822</td>\n",
       "      <td>-0.067126</td>\n",
       "      <td>0.013119</td>\n",
       "      <td>-0.073587</td>\n",
       "      <td>-0.055515</td>\n",
       "      <td>0.397108</td>\n",
       "      <td>-0.268793</td>\n",
       "      <td>1.000000</td>\n",
       "    </tr>\n",
       "  </tbody>\n",
       "</table>\n",
       "</div>"
      ],
      "text/plain": [
       "                           ID  Customer_care_calls  Customer_rating  \\\n",
       "ID                   1.000000             0.188998        -0.005722   \n",
       "Customer_care_calls  0.188998             1.000000         0.012209   \n",
       "Customer_rating     -0.005722             0.012209         1.000000   \n",
       "Cost_of_the_Product  0.196791             0.323182         0.009270   \n",
       "Prior_purchases      0.145369             0.180771         0.013179   \n",
       "Discount_offered    -0.598278            -0.130750        -0.003124   \n",
       "Weight_in_gms        0.278312            -0.276615        -0.001897   \n",
       "Reached.on.Time_Y.N -0.411822            -0.067126         0.013119   \n",
       "\n",
       "                     Cost_of_the_Product  Prior_purchases  Discount_offered  \\\n",
       "ID                              0.196791         0.145369         -0.598278   \n",
       "Customer_care_calls             0.323182         0.180771         -0.130750   \n",
       "Customer_rating                 0.009270         0.013179         -0.003124   \n",
       "Cost_of_the_Product             1.000000         0.123676         -0.138312   \n",
       "Prior_purchases                 0.123676         1.000000         -0.082769   \n",
       "Discount_offered               -0.138312        -0.082769          1.000000   \n",
       "Weight_in_gms                  -0.132604        -0.168213         -0.376067   \n",
       "Reached.on.Time_Y.N            -0.073587        -0.055515          0.397108   \n",
       "\n",
       "                     Weight_in_gms  Reached.on.Time_Y.N  \n",
       "ID                        0.278312            -0.411822  \n",
       "Customer_care_calls      -0.276615            -0.067126  \n",
       "Customer_rating          -0.001897             0.013119  \n",
       "Cost_of_the_Product      -0.132604            -0.073587  \n",
       "Prior_purchases          -0.168213            -0.055515  \n",
       "Discount_offered         -0.376067             0.397108  \n",
       "Weight_in_gms             1.000000            -0.268793  \n",
       "Reached.on.Time_Y.N      -0.268793             1.000000  "
      ]
     },
     "execution_count": 10,
     "metadata": {},
     "output_type": "execute_result"
    }
   ],
   "source": [
    "e_commerce.corr()"
   ]
  },
  {
   "cell_type": "code",
   "execution_count": 11,
   "metadata": {
    "tags": []
   },
   "outputs": [
    {
     "data": {
      "text/plain": [
       "Index(['ID', 'Warehouse_block', 'Mode_of_Shipment', 'Customer_care_calls',\n",
       "       'Customer_rating', 'Cost_of_the_Product', 'Prior_purchases',\n",
       "       'Product_importance', 'Gender', 'Discount_offered', 'Weight_in_gms',\n",
       "       'Reached.on.Time_Y.N'],\n",
       "      dtype='object')"
      ]
     },
     "execution_count": 11,
     "metadata": {},
     "output_type": "execute_result"
    }
   ],
   "source": [
    "e_commerce.columns"
   ]
  },
  {
   "cell_type": "code",
   "execution_count": 12,
   "metadata": {
    "tags": []
   },
   "outputs": [
    {
     "data": {
      "text/plain": [
       "3"
      ]
     },
     "execution_count": 12,
     "metadata": {},
     "output_type": "execute_result"
    }
   ],
   "source": [
    "e_commerce['Mode_of_Shipment'].nunique()"
   ]
  },
  {
   "cell_type": "code",
   "execution_count": 13,
   "metadata": {
    "tags": []
   },
   "outputs": [
    {
     "data": {
      "text/plain": [
       "5"
      ]
     },
     "execution_count": 13,
     "metadata": {},
     "output_type": "execute_result"
    }
   ],
   "source": [
    "e_commerce['Warehouse_block'].nunique()"
   ]
  },
  {
   "cell_type": "code",
   "execution_count": 14,
   "metadata": {
    "tags": []
   },
   "outputs": [
    {
     "data": {
      "text/plain": [
       "3"
      ]
     },
     "execution_count": 14,
     "metadata": {},
     "output_type": "execute_result"
    }
   ],
   "source": [
    "e_commerce['Product_importance'].nunique()"
   ]
  },
  {
   "cell_type": "code",
   "execution_count": 15,
   "metadata": {
    "tags": []
   },
   "outputs": [
    {
     "data": {
      "text/plain": [
       "ID                     2171\n",
       "Warehouse_block        2171\n",
       "Mode_of_Shipment       2171\n",
       "Customer_care_calls    2171\n",
       "Customer_rating        2171\n",
       "Cost_of_the_Product    2171\n",
       "Prior_purchases        2171\n",
       "Product_importance     2171\n",
       "Gender                 2171\n",
       "Discount_offered       2171\n",
       "Weight_in_gms          2171\n",
       "Reached.on.Time_Y.N    2171\n",
       "dtype: int64"
      ]
     },
     "execution_count": 15,
     "metadata": {},
     "output_type": "execute_result"
    }
   ],
   "source": [
    "e_commerce[e_commerce['Customer_rating']==5].count()"
   ]
  },
  {
   "cell_type": "code",
   "execution_count": 16,
   "metadata": {
    "tags": []
   },
   "outputs": [
    {
     "data": {
      "text/plain": [
       "3    2239\n",
       "1    2235\n",
       "4    2189\n",
       "5    2171\n",
       "2    2165\n",
       "Name: Customer_rating, dtype: int64"
      ]
     },
     "execution_count": 16,
     "metadata": {},
     "output_type": "execute_result"
    }
   ],
   "source": [
    "e_commerce['Customer_rating'].value_counts()"
   ]
  },
  {
   "cell_type": "code",
   "execution_count": 17,
   "metadata": {
    "tags": []
   },
   "outputs": [
    {
     "data": {
      "text/plain": [
       "F    3666\n",
       "D    1834\n",
       "A    1833\n",
       "B    1833\n",
       "C    1833\n",
       "Name: Warehouse_block, dtype: int64"
      ]
     },
     "execution_count": 17,
     "metadata": {},
     "output_type": "execute_result"
    }
   ],
   "source": [
    "e_commerce['Warehouse_block'].value_counts()"
   ]
  },
  {
   "cell_type": "code",
   "execution_count": 18,
   "metadata": {
    "tags": []
   },
   "outputs": [
    {
     "data": {
      "text/plain": [
       "Ship      7462\n",
       "Flight    1777\n",
       "Road      1760\n",
       "Name: Mode_of_Shipment, dtype: int64"
      ]
     },
     "execution_count": 18,
     "metadata": {},
     "output_type": "execute_result"
    }
   ],
   "source": [
    "e_commerce['Mode_of_Shipment'].value_counts()"
   ]
  },
  {
   "cell_type": "code",
   "execution_count": 19,
   "metadata": {
    "tags": []
   },
   "outputs": [
    {
     "data": {
      "text/plain": [
       "F    5545\n",
       "M    5454\n",
       "Name: Gender, dtype: int64"
      ]
     },
     "execution_count": 19,
     "metadata": {},
     "output_type": "execute_result"
    }
   ],
   "source": [
    "e_commerce['Gender'].value_counts()"
   ]
  },
  {
   "cell_type": "code",
   "execution_count": 20,
   "metadata": {
    "tags": []
   },
   "outputs": [
    {
     "data": {
      "text/plain": [
       "1    6563\n",
       "0    4436\n",
       "Name: Reached.on.Time_Y.N, dtype: int64"
      ]
     },
     "execution_count": 20,
     "metadata": {},
     "output_type": "execute_result"
    }
   ],
   "source": [
    "e_commerce['Reached.on.Time_Y.N'].value_counts()"
   ]
  },
  {
   "cell_type": "code",
   "execution_count": 21,
   "metadata": {
    "tags": []
   },
   "outputs": [
    {
     "data": {
      "text/plain": [
       "ID                     5297\n",
       "Warehouse_block        5297\n",
       "Mode_of_Shipment       5297\n",
       "Customer_care_calls    5297\n",
       "Customer_rating        5297\n",
       "Cost_of_the_Product    5297\n",
       "Prior_purchases        5297\n",
       "Product_importance     5297\n",
       "Gender                 5297\n",
       "Discount_offered       5297\n",
       "Weight_in_gms          5297\n",
       "Reached.on.Time_Y.N    5297\n",
       "dtype: int64"
      ]
     },
     "execution_count": 21,
     "metadata": {},
     "output_type": "execute_result"
    }
   ],
   "source": [
    "e_commerce[e_commerce['Product_importance']=='low'].count()"
   ]
  },
  {
   "cell_type": "code",
   "execution_count": 22,
   "metadata": {
    "tags": []
   },
   "outputs": [
    {
     "name": "stdout",
     "output_type": "stream",
     "text": [
      "<class 'pandas.core.frame.DataFrame'>\n",
      "RangeIndex: 10999 entries, 0 to 10998\n",
      "Data columns (total 12 columns):\n",
      " #   Column               Non-Null Count  Dtype \n",
      "---  ------               --------------  ----- \n",
      " 0   ID                   10999 non-null  int64 \n",
      " 1   Warehouse_block      10999 non-null  object\n",
      " 2   Mode_of_Shipment     10999 non-null  object\n",
      " 3   Customer_care_calls  10999 non-null  int64 \n",
      " 4   Customer_rating      10999 non-null  int64 \n",
      " 5   Cost_of_the_Product  10999 non-null  int64 \n",
      " 6   Prior_purchases      10999 non-null  int64 \n",
      " 7   Product_importance   10999 non-null  object\n",
      " 8   Gender               10999 non-null  object\n",
      " 9   Discount_offered     10999 non-null  int64 \n",
      " 10  Weight_in_gms        10999 non-null  int64 \n",
      " 11  Reached.on.Time_Y.N  10999 non-null  int64 \n",
      "dtypes: int64(8), object(4)\n",
      "memory usage: 1.0+ MB\n"
     ]
    }
   ],
   "source": [
    "e_commerce.info()"
   ]
  },
  {
   "cell_type": "code",
   "execution_count": 23,
   "metadata": {
    "tags": []
   },
   "outputs": [
    {
     "data": {
      "text/plain": [
       "ID                     2157\n",
       "Warehouse_block        2157\n",
       "Mode_of_Shipment       2157\n",
       "Customer_care_calls    2157\n",
       "Customer_rating        2157\n",
       "Cost_of_the_Product    2157\n",
       "Prior_purchases        2157\n",
       "Product_importance     2157\n",
       "Gender                 2157\n",
       "Discount_offered       2157\n",
       "Weight_in_gms          2157\n",
       "Reached.on.Time_Y.N    2157\n",
       "dtype: int64"
      ]
     },
     "execution_count": 23,
     "metadata": {},
     "output_type": "execute_result"
    }
   ],
   "source": [
    "e_commerce[(e_commerce['Product_importance']=='low')&(e_commerce['Reached.on.Time_Y.N']==0)].count()"
   ]
  },
  {
   "cell_type": "code",
   "execution_count": 24,
   "metadata": {
    "tags": []
   },
   "outputs": [
    {
     "data": {
      "text/plain": [
       "ID                     708\n",
       "Warehouse_block        708\n",
       "Mode_of_Shipment       708\n",
       "Customer_care_calls    708\n",
       "Customer_rating        708\n",
       "Cost_of_the_Product    708\n",
       "Prior_purchases        708\n",
       "Product_importance     708\n",
       "Gender                 708\n",
       "Discount_offered       708\n",
       "Weight_in_gms          708\n",
       "Reached.on.Time_Y.N    708\n",
       "dtype: int64"
      ]
     },
     "execution_count": 24,
     "metadata": {},
     "output_type": "execute_result"
    }
   ],
   "source": [
    "e_commerce[(e_commerce['Mode_of_Shipment']=='Flight')&(e_commerce['Reached.on.Time_Y.N']==0)].count()"
   ]
  },
  {
   "cell_type": "code",
   "execution_count": 25,
   "metadata": {
    "tags": []
   },
   "outputs": [
    {
     "data": {
      "text/plain": [
       "ID                     2249\n",
       "Warehouse_block        2249\n",
       "Mode_of_Shipment       2249\n",
       "Customer_care_calls    2249\n",
       "Customer_rating        2249\n",
       "Cost_of_the_Product    2249\n",
       "Prior_purchases        2249\n",
       "Product_importance     2249\n",
       "Gender                 2249\n",
       "Discount_offered       2249\n",
       "Weight_in_gms          2249\n",
       "Reached.on.Time_Y.N    2249\n",
       "dtype: int64"
      ]
     },
     "execution_count": 25,
     "metadata": {},
     "output_type": "execute_result"
    }
   ],
   "source": [
    "e_commerce[(e_commerce['Gender']=='F')&(e_commerce['Reached.on.Time_Y.N']==0)].count()"
   ]
  },
  {
   "cell_type": "code",
   "execution_count": 26,
   "metadata": {
    "tags": []
   },
   "outputs": [
    {
     "data": {
      "text/plain": [
       "ID                     2187\n",
       "Warehouse_block        2187\n",
       "Mode_of_Shipment       2187\n",
       "Customer_care_calls    2187\n",
       "Customer_rating        2187\n",
       "Cost_of_the_Product    2187\n",
       "Prior_purchases        2187\n",
       "Product_importance     2187\n",
       "Gender                 2187\n",
       "Discount_offered       2187\n",
       "Weight_in_gms          2187\n",
       "Reached.on.Time_Y.N    2187\n",
       "dtype: int64"
      ]
     },
     "execution_count": 26,
     "metadata": {},
     "output_type": "execute_result"
    }
   ],
   "source": [
    "e_commerce[(e_commerce['Gender']=='M')&(e_commerce['Reached.on.Time_Y.N']==0)].count()"
   ]
  },
  {
   "cell_type": "markdown",
   "metadata": {
    "tags": []
   },
   "source": [
    "proportion of females who got their parcels late=2249/5545=0.405 proportion of males who got their parcels late=2187/5454=0.4009"
   ]
  },
  {
   "cell_type": "code",
   "execution_count": 27,
   "metadata": {
    "tags": []
   },
   "outputs": [
    {
     "data": {
      "text/plain": [
       "ID                     758\n",
       "Warehouse_block        758\n",
       "Mode_of_Shipment       758\n",
       "Customer_care_calls    758\n",
       "Customer_rating        758\n",
       "Cost_of_the_Product    758\n",
       "Prior_purchases        758\n",
       "Product_importance     758\n",
       "Gender                 758\n",
       "Discount_offered       758\n",
       "Weight_in_gms          758\n",
       "Reached.on.Time_Y.N    758\n",
       "dtype: int64"
      ]
     },
     "execution_count": 27,
     "metadata": {},
     "output_type": "execute_result"
    }
   ],
   "source": [
    "e_commerce[(e_commerce['Warehouse_block']=='A')&(e_commerce['Reached.on.Time_Y.N']==0)].count()"
   ]
  },
  {
   "cell_type": "code",
   "execution_count": 28,
   "metadata": {
    "tags": []
   },
   "outputs": [
    {
     "data": {
      "text/plain": [
       "ID                     729\n",
       "Warehouse_block        729\n",
       "Mode_of_Shipment       729\n",
       "Customer_care_calls    729\n",
       "Customer_rating        729\n",
       "Cost_of_the_Product    729\n",
       "Prior_purchases        729\n",
       "Product_importance     729\n",
       "Gender                 729\n",
       "Discount_offered       729\n",
       "Weight_in_gms          729\n",
       "Reached.on.Time_Y.N    729\n",
       "dtype: int64"
      ]
     },
     "execution_count": 28,
     "metadata": {},
     "output_type": "execute_result"
    }
   ],
   "source": [
    "e_commerce[(e_commerce['Warehouse_block']=='B')&(e_commerce['Reached.on.Time_Y.N']==0)].count()"
   ]
  },
  {
   "cell_type": "code",
   "execution_count": 29,
   "metadata": {
    "tags": []
   },
   "outputs": [
    {
     "data": {
      "text/plain": [
       "ID                     739\n",
       "Warehouse_block        739\n",
       "Mode_of_Shipment       739\n",
       "Customer_care_calls    739\n",
       "Customer_rating        739\n",
       "Cost_of_the_Product    739\n",
       "Prior_purchases        739\n",
       "Product_importance     739\n",
       "Gender                 739\n",
       "Discount_offered       739\n",
       "Weight_in_gms          739\n",
       "Reached.on.Time_Y.N    739\n",
       "dtype: int64"
      ]
     },
     "execution_count": 29,
     "metadata": {},
     "output_type": "execute_result"
    }
   ],
   "source": [
    "e_commerce[(e_commerce['Warehouse_block']=='C')&(e_commerce['Reached.on.Time_Y.N']==0)].count()"
   ]
  },
  {
   "cell_type": "code",
   "execution_count": 30,
   "metadata": {
    "tags": []
   },
   "outputs": [
    {
     "data": {
      "text/plain": [
       "ID                     738\n",
       "Warehouse_block        738\n",
       "Mode_of_Shipment       738\n",
       "Customer_care_calls    738\n",
       "Customer_rating        738\n",
       "Cost_of_the_Product    738\n",
       "Prior_purchases        738\n",
       "Product_importance     738\n",
       "Gender                 738\n",
       "Discount_offered       738\n",
       "Weight_in_gms          738\n",
       "Reached.on.Time_Y.N    738\n",
       "dtype: int64"
      ]
     },
     "execution_count": 30,
     "metadata": {},
     "output_type": "execute_result"
    }
   ],
   "source": [
    "e_commerce[(e_commerce['Warehouse_block']=='D')&(e_commerce['Reached.on.Time_Y.N']==0)].count()"
   ]
  },
  {
   "cell_type": "code",
   "execution_count": 31,
   "metadata": {
    "tags": []
   },
   "outputs": [
    {
     "data": {
      "text/plain": [
       "ID                     1472\n",
       "Warehouse_block        1472\n",
       "Mode_of_Shipment       1472\n",
       "Customer_care_calls    1472\n",
       "Customer_rating        1472\n",
       "Cost_of_the_Product    1472\n",
       "Prior_purchases        1472\n",
       "Product_importance     1472\n",
       "Gender                 1472\n",
       "Discount_offered       1472\n",
       "Weight_in_gms          1472\n",
       "Reached.on.Time_Y.N    1472\n",
       "dtype: int64"
      ]
     },
     "execution_count": 31,
     "metadata": {},
     "output_type": "execute_result"
    }
   ],
   "source": [
    "e_commerce[(e_commerce['Warehouse_block']=='F')&(e_commerce['Reached.on.Time_Y.N']==0)].count()"
   ]
  },
  {
   "cell_type": "markdown",
   "metadata": {
    "tags": []
   },
   "source": [
    "#### proportions of delay caused by respective warehouses--\n",
    "- A=758/1833=0.413 \n",
    "- B=729/1833=0.397 \n",
    "- C=739/1833=0.403 \n",
    "- D=738/1834=0.402 \n",
    "- F=1472/3666=0.401\n",
    "\n",
    "this tells that just by looking at the highest number of late parcels from F one cannot conclude about its efficiency!\n",
    "\n",
    "### Exploratory Data Analysis"
   ]
  },
  {
   "cell_type": "code",
   "execution_count": 32,
   "metadata": {
    "tags": [
     "block:exploratory_data_analysis",
     "prev:load_data",
     "prev:data_profiling"
    ]
   },
   "outputs": [],
   "source": [
    "label=e_commerce['Reached.on.Time_Y.N']"
   ]
  },
  {
   "cell_type": "code",
   "execution_count": 33,
   "metadata": {
    "tags": []
   },
   "outputs": [
    {
     "data": {
      "text/plain": [
       "<AxesSubplot:>"
      ]
     },
     "execution_count": 33,
     "metadata": {},
     "output_type": "execute_result"
    },
    {
     "data": {
      "image/png": "[encoded data removed]",
      "text/plain": [
       "<Figure size 432x288 with 2 Axes>"
      ]
     },
     "metadata": {
      "needs_background": "light"
     },
     "output_type": "display_data"
    }
   ],
   "source": [
    "sns.heatmap(e_commerce.corr(),annot=True,cmap='Pastel1')"
   ]
  },
  {
   "cell_type": "code",
   "execution_count": 34,
   "metadata": {
    "tags": []
   },
   "outputs": [
    {
     "data": {
      "text/plain": [
       "<AxesSubplot:xlabel='Customer_rating', ylabel='Cost_of_the_Product'>"
      ]
     },
     "execution_count": 34,
     "metadata": {},
     "output_type": "execute_result"
    },
    {
     "data": {
      "image/png": "[encoded data removed]",
      "text/plain": [
       "<Figure size 432x288 with 1 Axes>"
      ]
     },
     "metadata": {
      "needs_background": "light"
     },
     "output_type": "display_data"
    }
   ],
   "source": [
    "sns.barplot(x='Customer_rating',y='Cost_of_the_Product',palette='viridis',data=e_commerce,hue='Gender')"
   ]
  },
  {
   "cell_type": "code",
   "execution_count": 35,
   "metadata": {
    "tags": []
   },
   "outputs": [
    {
     "data": {
      "text/plain": [
       "<AxesSubplot:xlabel='Product_importance', ylabel='Weight_in_gms'>"
      ]
     },
     "execution_count": 35,
     "metadata": {},
     "output_type": "execute_result"
    },
    {
     "data": {
      "image/png": "[encoded data removed]",
      "text/plain": [
       "<Figure size 432x288 with 1 Axes>"
      ]
     },
     "metadata": {
      "needs_background": "light"
     },
     "output_type": "display_data"
    }
   ],
   "source": [
    "sns.barplot(x='Product_importance',y='Weight_in_gms',palette='icefire',data=e_commerce)"
   ]
  },
  {
   "cell_type": "code",
   "execution_count": 36,
   "metadata": {
    "tags": []
   },
   "outputs": [
    {
     "data": {
      "text/plain": [
       "<AxesSubplot:xlabel='Mode_of_Shipment', ylabel='Reached.on.Time_Y.N'>"
      ]
     },
     "execution_count": 36,
     "metadata": {},
     "output_type": "execute_result"
    },
    {
     "data": {
      "image/png": "[encoded data removed]",
      "text/plain": [
       "<Figure size 432x288 with 1 Axes>"
      ]
     },
     "metadata": {
      "needs_background": "light"
     },
     "output_type": "display_data"
    }
   ],
   "source": [
    "sns.barplot(x='Mode_of_Shipment',y='Reached.on.Time_Y.N',data=e_commerce,hue='Product_importance',palette='ch:s=-.2,r=.6')"
   ]
  },
  {
   "cell_type": "code",
   "execution_count": 37,
   "metadata": {
    "tags": []
   },
   "outputs": [
    {
     "data": {
      "text/plain": [
       "<AxesSubplot:xlabel='Gender', ylabel='Cost_of_the_Product'>"
      ]
     },
     "execution_count": 37,
     "metadata": {},
     "output_type": "execute_result"
    },
    {
     "data": {
      "image/png": "[encoded data removed]",
      "text/plain": [
       "<Figure size 432x288 with 1 Axes>"
      ]
     },
     "metadata": {
      "needs_background": "light"
     },
     "output_type": "display_data"
    }
   ],
   "source": [
    "sns.barplot(x='Gender',y='Cost_of_the_Product',data=e_commerce,palette='rocket')"
   ]
  },
  {
   "cell_type": "code",
   "execution_count": 38,
   "metadata": {
    "tags": []
   },
   "outputs": [
    {
     "data": {
      "text/plain": [
       "<AxesSubplot:xlabel='Warehouse_block', ylabel='Reached.on.Time_Y.N'>"
      ]
     },
     "execution_count": 38,
     "metadata": {},
     "output_type": "execute_result"
    },
    {
     "data": {
      "image/png": "[encoded data removed]",
      "text/plain": [
       "<Figure size 432x288 with 1 Axes>"
      ]
     },
     "metadata": {
      "needs_background": "light"
     },
     "output_type": "display_data"
    }
   ],
   "source": [
    "sns.barplot(x='Warehouse_block',y='Reached.on.Time_Y.N',data=e_commerce,palette='Spectral')"
   ]
  },
  {
   "cell_type": "code",
   "execution_count": 39,
   "metadata": {
    "tags": []
   },
   "outputs": [
    {
     "data": {
      "text/plain": [
       "<AxesSubplot:xlabel='Warehouse_block', ylabel='Weight_in_gms'>"
      ]
     },
     "execution_count": 39,
     "metadata": {},
     "output_type": "execute_result"
    },
    {
     "data": {
      "image/png": "[encoded data removed]",
      "text/plain": [
       "<Figure size 432x288 with 1 Axes>"
      ]
     },
     "metadata": {
      "needs_background": "light"
     },
     "output_type": "display_data"
    }
   ],
   "source": [
    "sns.barplot(x='Warehouse_block',y='Weight_in_gms',data=e_commerce,palette='coolwarm')"
   ]
  },
  {
   "cell_type": "code",
   "execution_count": 40,
   "metadata": {
    "tags": []
   },
   "outputs": [
    {
     "data": {
      "text/plain": [
       "<AxesSubplot:xlabel='Customer_rating', ylabel='Prior_purchases'>"
      ]
     },
     "execution_count": 40,
     "metadata": {},
     "output_type": "execute_result"
    },
    {
     "data": {
      "image/png": "[encoded data removed]",
      "text/plain": [
       "<Figure size 432x288 with 1 Axes>"
      ]
     },
     "metadata": {
      "needs_background": "light"
     },
     "output_type": "display_data"
    }
   ],
   "source": [
    "sns.barplot(x='Customer_rating',y='Prior_purchases',data=e_commerce,palette='PiYG')"
   ]
  },
  {
   "cell_type": "code",
   "execution_count": 41,
   "metadata": {
    "tags": []
   },
   "outputs": [
    {
     "data": {
      "text/plain": [
       "<seaborn.axisgrid.JointGrid at 0x7fd33625b390>"
      ]
     },
     "execution_count": 41,
     "metadata": {},
     "output_type": "execute_result"
    },
    {
     "data": {
      "image/png": "[encoded data removed]",
      "text/plain": [
       "<Figure size 432x432 with 3 Axes>"
      ]
     },
     "metadata": {
      "needs_background": "light"
     },
     "output_type": "display_data"
    }
   ],
   "source": [
    "sns.jointplot(x='Weight_in_gms',y='Cost_of_the_Product',data=e_commerce,kind='hex')"
   ]
  },
  {
   "cell_type": "code",
   "execution_count": 42,
   "metadata": {
    "tags": []
   },
   "outputs": [
    {
     "data": {
      "text/plain": [
       "<seaborn.axisgrid.JointGrid at 0x7fd3360cc410>"
      ]
     },
     "execution_count": 42,
     "metadata": {},
     "output_type": "execute_result"
    },
    {
     "data": {
      "image/png": "[encoded data removed]",
      "text/plain": [
       "<Figure size 432x432 with 3 Axes>"
      ]
     },
     "metadata": {
      "needs_background": "light"
     },
     "output_type": "display_data"
    }
   ],
   "source": [
    "sns.jointplot(x='Cost_of_the_Product',y='Discount_offered',data=e_commerce,kind='kde',color='red',fill=True)"
   ]
  },
  {
   "cell_type": "code",
   "execution_count": 43,
   "metadata": {
    "tags": []
   },
   "outputs": [
    {
     "data": {
      "text/plain": [
       "<AxesSubplot:xlabel='Mode_of_Shipment', ylabel='Cost_of_the_Product'>"
      ]
     },
     "execution_count": 43,
     "metadata": {},
     "output_type": "execute_result"
    },
    {
     "data": {
      "image/png": "[encoded data removed]",
      "text/plain": [
       "<Figure size 432x288 with 1 Axes>"
      ]
     },
     "metadata": {
      "needs_background": "light"
     },
     "output_type": "display_data"
    }
   ],
   "source": [
    "sns.boxplot(x='Mode_of_Shipment',y='Cost_of_the_Product',data=e_commerce,hue='Gender')"
   ]
  },
  {
   "cell_type": "code",
   "execution_count": 44,
   "metadata": {
    "tags": []
   },
   "outputs": [
    {
     "data": {
      "text/plain": [
       "<seaborn.matrix.ClusterGrid at 0x7fd333cdcdd0>"
      ]
     },
     "execution_count": 44,
     "metadata": {},
     "output_type": "execute_result"
    },
    {
     "data": {
      "image/png": "[encoded data removed]",
      "text/plain": [
       "<Figure size 720x720 with 4 Axes>"
      ]
     },
     "metadata": {
      "needs_background": "light"
     },
     "output_type": "display_data"
    }
   ],
   "source": [
    "sns.clustermap(e_commerce.corr(),annot=True,cmap='cividis')"
   ]
  },
  {
   "cell_type": "code",
   "execution_count": 45,
   "metadata": {
    "tags": []
   },
   "outputs": [
    {
     "data": {
      "text/plain": [
       "<matplotlib.legend.Legend at 0x7fd333966d90>"
      ]
     },
     "execution_count": 45,
     "metadata": {},
     "output_type": "execute_result"
    },
    {
     "data": {
      "image/png": "[encoded data removed]",
      "text/plain": [
       "<Figure size 720x432 with 1 Axes>"
      ]
     },
     "metadata": {
      "needs_background": "light"
     },
     "output_type": "display_data"
    }
   ],
   "source": [
    "plt.figure(figsize=(10,6))\n",
    "e_commerce[e_commerce['Mode_of_Shipment']=='Flight']['Cost_of_the_Product'].hist(alpha=0.5,color='blue',bins=30,label='Flight')\n",
    "e_commerce[e_commerce['Mode_of_Shipment']=='Road']['Cost_of_the_Product'].hist(alpha=0.5,color='red',bins=30,label='Road')\n",
    "plt.xlabel('COST')\n",
    "plt.legend()"
   ]
  },
  {
   "cell_type": "code",
   "execution_count": 46,
   "metadata": {
    "tags": []
   },
   "outputs": [
    {
     "data": {
      "image/png": "[encoded data removed]",
      "text/plain": [
       "<Figure size 432x288 with 1 Axes>"
      ]
     },
     "metadata": {},
     "output_type": "display_data"
    }
   ],
   "source": [
    "plt.pie(e_commerce.Warehouse_block.value_counts(),explode=[.8,.3,.2,.1,.1],startangle=90,autopct='%.2f%%',labels=['F','D','A','B','C'],radius=10,colors=['blue','pink','red','yellow','green'])\n",
    "plt.axis('equal')\n",
    "plt.title('Warehouse Block',fontdict={'fontsize':22,'fontweight':'bold'})\n",
    "plt.show()"
   ]
  },
  {
   "cell_type": "code",
   "execution_count": 47,
   "metadata": {
    "tags": []
   },
   "outputs": [
    {
     "data": {
      "image/png": "[encoded data removed]",
      "text/plain": [
       "<Figure size 864x720 with 1 Axes>"
      ]
     },
     "metadata": {
      "needs_background": "light"
     },
     "output_type": "display_data"
    }
   ],
   "source": [
    "plt.figure(figsize=(12,10))\n",
    "sns.countplot(e_commerce.Warehouse_block,hue=label)\n",
    "plt.show()"
   ]
  },
  {
   "cell_type": "code",
   "execution_count": 48,
   "metadata": {
    "tags": []
   },
   "outputs": [
    {
     "data": {
      "image/png": "[encoded data removed]",
      "text/plain": [
       "<Figure size 432x288 with 1 Axes>"
      ]
     },
     "metadata": {},
     "output_type": "display_data"
    }
   ],
   "source": [
    "plt.pie(e_commerce.Mode_of_Shipment.value_counts(),explode=[.2,.1,.1],startangle=90,autopct='%.2f%%',labels=['ship','flight','Road'],radius=10,)\n",
    "plt.axis('equal')\n",
    "plt.title('Mode of shipment',fontdict={'fontsize':20,'fontweight':'bold'})\n",
    "plt.show()"
   ]
  },
  {
   "cell_type": "code",
   "execution_count": 49,
   "metadata": {
    "tags": []
   },
   "outputs": [
    {
     "data": {
      "image/png": "[encoded data removed]",
      "text/plain": [
       "<Figure size 864x720 with 1 Axes>"
      ]
     },
     "metadata": {
      "needs_background": "light"
     },
     "output_type": "display_data"
    }
   ],
   "source": [
    "plt.figure(figsize=(12,10))\n",
    "sns.countplot(e_commerce.Mode_of_Shipment,hue=label,palette='Dark2_r')\n",
    "plt.show()"
   ]
  },
  {
   "cell_type": "code",
   "execution_count": 50,
   "metadata": {
    "tags": []
   },
   "outputs": [
    {
     "data": {
      "image/png": "[encoded data removed]",
      "text/plain": [
       "<Figure size 432x288 with 1 Axes>"
      ]
     },
     "metadata": {},
     "output_type": "display_data"
    }
   ],
   "source": [
    "plt.pie(e_commerce.Product_importance.value_counts(),explode=[.5,.1,.4],startangle=90,autopct='%.2f%%',labels=['low','medium','High'],radius=10,colors=['#ff00ff','#00ff00','yellow'])\n",
    "plt.axis('equal')\n",
    "plt.title('Importance of product',fontdict={'fontsize':20,'fontweight':'bold'})\n",
    "plt.show()"
   ]
  },
  {
   "cell_type": "code",
   "execution_count": 51,
   "metadata": {
    "tags": []
   },
   "outputs": [
    {
     "data": {
      "image/png": "[encoded data removed]",
      "text/plain": [
       "<Figure size 864x720 with 1 Axes>"
      ]
     },
     "metadata": {
      "needs_background": "light"
     },
     "output_type": "display_data"
    }
   ],
   "source": [
    "plt.figure(figsize=(12,10))\n",
    "sns.countplot(e_commerce.Product_importance,hue=label,palette='Dark2')\n",
    "plt.show()"
   ]
  },
  {
   "cell_type": "code",
   "execution_count": 52,
   "metadata": {
    "tags": []
   },
   "outputs": [],
   "source": [
    "# e_commerce.Product_importance=pd.Categorical(e_commerce.Product_importance,categories=['low','medium','High'],ordered=True).codes"
   ]
  },
  {
   "cell_type": "code",
   "execution_count": 53,
   "metadata": {
    "tags": []
   },
   "outputs": [
    {
     "data": {
      "image/png": "[encoded data removed]",
      "text/plain": [
       "<Figure size 432x288 with 1 Axes>"
      ]
     },
     "metadata": {},
     "output_type": "display_data"
    }
   ],
   "source": [
    "plt.pie(e_commerce.Gender.value_counts(),explode=[.1,.3],startangle=90,autopct='%.2f%%',labels=['female','male'],radius=10,colors=['blue','pink'])\n",
    "plt.axis('equal')\n",
    "plt.title('Gender',fontdict={'fontsize':22,'fontweight':'bold'})\n",
    "plt.show()"
   ]
  },
  {
   "cell_type": "code",
   "execution_count": 54,
   "metadata": {
    "tags": []
   },
   "outputs": [
    {
     "data": {
      "image/png": "[encoded data removed]",
      "text/plain": [
       "<Figure size 720x576 with 1 Axes>"
      ]
     },
     "metadata": {
      "needs_background": "light"
     },
     "output_type": "display_data"
    }
   ],
   "source": [
    "plt.figure(figsize=(10,8))\n",
    "sns.countplot(e_commerce.Gender,hue=label,palette='Paired')\n",
    "plt.show()"
   ]
  },
  {
   "cell_type": "code",
   "execution_count": 55,
   "metadata": {
    "tags": []
   },
   "outputs": [],
   "source": [
    "# e_commerce.Gender=pd.Categorical(e_commerce.Gender,categories=['M','F'],ordered=True).codes"
   ]
  },
  {
   "cell_type": "markdown",
   "metadata": {
    "tags": []
   },
   "source": [
    "### Preprocessing"
   ]
  },
  {
   "cell_type": "markdown",
   "metadata": {
    "tags": []
   },
   "source": [
    "ID doesn't seems to have any importance so we could easily drop that columns"
   ]
  },
  {
   "cell_type": "code",
   "execution_count": 56,
   "metadata": {
    "tags": [
     "block:preprocessing",
     "prev:exploratory_data_analysis",
     "prev:data_profiling",
     "prev:load_data"
    ]
   },
   "outputs": [],
   "source": [
    "e_commerce.drop(\"ID\",inplace=True,axis=1)"
   ]
  },
  {
   "cell_type": "code",
   "execution_count": 57,
   "metadata": {
    "tags": []
   },
   "outputs": [],
   "source": [
    "e_commerce.rename(columns={\"Reached.on.Time_Y.N\":\"On_Time\"},inplace=True)"
   ]
  },
  {
   "cell_type": "markdown",
   "metadata": {
    "tags": []
   },
   "source": [
    "Maximum values of some important columns"
   ]
  },
  {
   "cell_type": "code",
   "execution_count": 58,
   "metadata": {
    "tags": []
   },
   "outputs": [],
   "source": [
    "maxCostProduct = e_commerce[e_commerce[\"Cost_of_the_Product\"] == e_commerce[\"Cost_of_the_Product\"].max()]\n",
    "maxPurchases = e_commerce[e_commerce[\"Prior_purchases\"] == e_commerce[\"Prior_purchases\"].max()]\n",
    "maxWeight = e_commerce[e_commerce[\"Weight_in_gms\"] == e_commerce[\"Weight_in_gms\"].max()]"
   ]
  },
  {
   "cell_type": "markdown",
   "metadata": {
    "tags": []
   },
   "source": [
    "Minimum values of some important columns"
   ]
  },
  {
   "cell_type": "code",
   "execution_count": 59,
   "metadata": {
    "tags": []
   },
   "outputs": [],
   "source": [
    "minCostProduct = e_commerce[e_commerce[\"Cost_of_the_Product\"] == e_commerce[\"Cost_of_the_Product\"].min()]\n",
    "minPurchases = e_commerce[e_commerce[\"Prior_purchases\"] == e_commerce[\"Prior_purchases\"].min()]\n",
    "minWeight = e_commerce[e_commerce[\"Weight_in_gms\"] == e_commerce[\"Weight_in_gms\"].min()]"
   ]
  },
  {
   "cell_type": "code",
   "execution_count": 60,
   "metadata": {
    "tags": []
   },
   "outputs": [
    {
     "data": {
      "text/plain": [
       "0"
      ]
     },
     "execution_count": 60,
     "metadata": {},
     "output_type": "execute_result"
    }
   ],
   "source": [
    "e_commerce.duplicated().sum()"
   ]
  },
  {
   "cell_type": "code",
   "execution_count": 61,
   "metadata": {
    "tags": []
   },
   "outputs": [
    {
     "data": {
      "text/plain": [
       "Warehouse_block        False\n",
       "Mode_of_Shipment       False\n",
       "Customer_care_calls    False\n",
       "Customer_rating        False\n",
       "Cost_of_the_Product    False\n",
       "Prior_purchases        False\n",
       "Product_importance     False\n",
       "Gender                 False\n",
       "Discount_offered       False\n",
       "Weight_in_gms          False\n",
       "On_Time                False\n",
       "dtype: bool"
      ]
     },
     "execution_count": 61,
     "metadata": {},
     "output_type": "execute_result"
    }
   ],
   "source": [
    "e_commerce.isnull().all()"
   ]
  },
  {
   "cell_type": "code",
   "execution_count": 62,
   "metadata": {
    "tags": []
   },
   "outputs": [
    {
     "data": {
      "text/plain": [
       "Warehouse_block        0\n",
       "Mode_of_Shipment       0\n",
       "Customer_care_calls    0\n",
       "Customer_rating        0\n",
       "Cost_of_the_Product    0\n",
       "Prior_purchases        0\n",
       "Product_importance     0\n",
       "Gender                 0\n",
       "Discount_offered       0\n",
       "Weight_in_gms          0\n",
       "On_Time                0\n",
       "dtype: int64"
      ]
     },
     "execution_count": 62,
     "metadata": {},
     "output_type": "execute_result"
    }
   ],
   "source": [
    "e_commerce.isnull().sum()"
   ]
  },
  {
   "cell_type": "markdown",
   "metadata": {
    "tags": []
   },
   "source": [
    "### Normality"
   ]
  },
  {
   "cell_type": "code",
   "execution_count": 63,
   "metadata": {
    "tags": []
   },
   "outputs": [],
   "source": [
    "#for mathematical analysis, to guarantee even though it is not necessary\n",
    "df = e_commerce.select_dtypes(include=[\"float64\",\"int64\",\"int32\"])"
   ]
  },
  {
   "cell_type": "code",
   "execution_count": 64,
   "metadata": {
    "tags": []
   },
   "outputs": [
    {
     "name": "stdout",
     "output_type": "stream",
     "text": [
      "Customer_care_calls\n",
      "---------------\n",
      "0.9180 - 0.0000\n",
      "---------------------------------------------\n",
      "Customer_rating\n",
      "---------------\n",
      "0.8882 - 0.0000\n",
      "---------------------------------------------\n",
      "Cost_of_the_Product\n",
      "---------------\n",
      "0.9725 - 0.0000\n",
      "---------------------------------------------\n",
      "Prior_purchases\n",
      "---------------\n",
      "0.8183 - 0.0000\n",
      "---------------------------------------------\n",
      "Discount_offered\n",
      "---------------\n",
      "0.6889 - 0.0000\n",
      "---------------------------------------------\n",
      "Weight_in_gms\n",
      "---------------\n",
      "0.8976 - 0.0000\n",
      "---------------------------------------------\n",
      "On_Time\n",
      "---------------\n",
      "0.6230 - 0.0000\n",
      "---------------------------------------------\n"
     ]
    }
   ],
   "source": [
    "for i in df.columns:\n",
    "    print(i)\n",
    "    print(\"---\"*5)\n",
    "    print(\"%.4f - %.4f\" % shapiro(e_commerce[i]))\n",
    "    print(\"---\"*15)"
   ]
  },
  {
   "cell_type": "markdown",
   "metadata": {
    "tags": []
   },
   "source": [
    "### Feature Engineering"
   ]
  },
  {
   "cell_type": "markdown",
   "metadata": {
    "tags": []
   },
   "source": [
    "### Label Encoder\n",
    "##### In machine learning, we usually deal with datasets which contains multiple labels in one or more than one columns. These labels can be in the form of words or numbers. Label Encoding refers to converting the labels info the labels into numeric form so as to convert it into the machine-readable form."
   ]
  },
  {
   "cell_type": "code",
   "execution_count": 65,
   "metadata": {
    "tags": [
     "block:feature_engineering",
     "prev:preprocessing"
    ]
   },
   "outputs": [],
   "source": [
    "encode = LabelEncoder()"
   ]
  },
  {
   "cell_type": "code",
   "execution_count": 66,
   "metadata": {
    "tags": []
   },
   "outputs": [
    {
     "name": "stdout",
     "output_type": "stream",
     "text": [
      "Index(['Warehouse_block', 'Mode_of_Shipment', 'Product_importance', 'Gender'], dtype='object')\n"
     ]
    }
   ],
   "source": [
    "objectcolumns = e_commerce.select_dtypes(include=[\"object\"])\n",
    "print(objectcolumns.columns)"
   ]
  },
  {
   "cell_type": "code",
   "execution_count": 67,
   "metadata": {
    "tags": []
   },
   "outputs": [],
   "source": [
    "for a in objectcolumns:\n",
    "    e_commerce[a] = encode.fit_transform(e_commerce[a])"
   ]
  },
  {
   "cell_type": "code",
   "execution_count": 68,
   "metadata": {
    "tags": []
   },
   "outputs": [
    {
     "name": "stdout",
     "output_type": "stream",
     "text": [
      "<class 'pandas.core.frame.DataFrame'>\n",
      "RangeIndex: 10999 entries, 0 to 10998\n",
      "Data columns (total 11 columns):\n",
      " #   Column               Non-Null Count  Dtype\n",
      "---  ------               --------------  -----\n",
      " 0   Warehouse_block      10999 non-null  int64\n",
      " 1   Mode_of_Shipment     10999 non-null  int64\n",
      " 2   Customer_care_calls  10999 non-null  int64\n",
      " 3   Customer_rating      10999 non-null  int64\n",
      " 4   Cost_of_the_Product  10999 non-null  int64\n",
      " 5   Prior_purchases      10999 non-null  int64\n",
      " 6   Product_importance   10999 non-null  int64\n",
      " 7   Gender               10999 non-null  int64\n",
      " 8   Discount_offered     10999 non-null  int64\n",
      " 9   Weight_in_gms        10999 non-null  int64\n",
      " 10  On_Time              10999 non-null  int64\n",
      "dtypes: int64(11)\n",
      "memory usage: 945.4 KB\n"
     ]
    }
   ],
   "source": [
    "e_commerce.info()"
   ]
  },
  {
   "cell_type": "markdown",
   "metadata": {
    "tags": []
   },
   "source": [
    "### OUTLIER"
   ]
  },
  {
   "cell_type": "code",
   "execution_count": 69,
   "metadata": {
    "tags": []
   },
   "outputs": [],
   "source": [
    "e_commerceForA = e_commerce.copy()"
   ]
  },
  {
   "cell_type": "code",
   "execution_count": 70,
   "metadata": {
    "tags": []
   },
   "outputs": [],
   "source": [
    "clf = LocalOutlierFactor()"
   ]
  },
  {
   "cell_type": "code",
   "execution_count": 71,
   "metadata": {
    "tags": []
   },
   "outputs": [
    {
     "data": {
      "text/plain": [
       "array([1, 1, 1, ..., 1, 1, 1])"
      ]
     },
     "execution_count": 71,
     "metadata": {},
     "output_type": "execute_result"
    }
   ],
   "source": [
    "clf.fit_predict(e_commerceForA)"
   ]
  },
  {
   "cell_type": "code",
   "execution_count": 72,
   "metadata": {
    "tags": []
   },
   "outputs": [],
   "source": [
    "score = clf.negative_outlier_factor_"
   ]
  },
  {
   "cell_type": "code",
   "execution_count": 73,
   "metadata": {
    "tags": []
   },
   "outputs": [],
   "source": [
    "scoreSorted = np.sort(score)"
   ]
  },
  {
   "cell_type": "code",
   "execution_count": 74,
   "metadata": {
    "tags": []
   },
   "outputs": [
    {
     "data": {
      "text/plain": [
       "array([-49.23420001, -45.83305039, -44.90793785, -43.80881891,\n",
       "       -39.87437401, -23.44503825,  -4.7196879 ,  -3.42435176,\n",
       "        -3.37610349,  -3.20090154,  -3.06223813,  -2.86920018,\n",
       "        -2.78754054,  -2.74096165,  -2.5840874 ,  -2.53241128,\n",
       "        -2.51965873,  -2.49954423,  -2.45206587,  -2.22651546,\n",
       "        -2.19794237,  -2.14941097,  -2.08814005,  -2.07886447,\n",
       "        -2.05597358,  -2.04131007,  -1.85543019,  -1.81595265,\n",
       "        -1.79030482,  -1.78492262,  -1.78367328,  -1.78196285,\n",
       "        -1.74562079,  -1.72837548,  -1.71070166,  -1.70775564,\n",
       "        -1.69162048,  -1.68935852,  -1.68902088,  -1.68238855,\n",
       "        -1.67774099,  -1.66262386,  -1.63914729,  -1.63399915,\n",
       "        -1.63292157,  -1.63241874,  -1.62371866,  -1.62080133,\n",
       "        -1.61929576,  -1.61737996])"
      ]
     },
     "execution_count": 74,
     "metadata": {},
     "output_type": "execute_result"
    }
   ],
   "source": [
    "scoreSorted[0:50]"
   ]
  },
  {
   "cell_type": "code",
   "execution_count": 75,
   "metadata": {
    "tags": []
   },
   "outputs": [
    {
     "name": "stdout",
     "output_type": "stream",
     "text": [
      "-4.7196878981741435\n",
      "------------------------------\n"
     ]
    },
    {
     "data": {
      "text/html": [
       "<div>\n",
       "<style scoped>\n",
       "    .dataframe tbody tr th:only-of-type {\n",
       "        vertical-align: middle;\n",
       "    }\n",
       "\n",
       "    .dataframe tbody tr th {\n",
       "        vertical-align: top;\n",
       "    }\n",
       "\n",
       "    .dataframe thead th {\n",
       "        text-align: right;\n",
       "    }\n",
       "</style>\n",
       "<table border=\"1\" class=\"dataframe\">\n",
       "  <thead>\n",
       "    <tr style=\"text-align: right;\">\n",
       "      <th></th>\n",
       "      <th>Warehouse_block</th>\n",
       "      <th>Mode_of_Shipment</th>\n",
       "      <th>Customer_care_calls</th>\n",
       "      <th>Customer_rating</th>\n",
       "      <th>Cost_of_the_Product</th>\n",
       "      <th>Prior_purchases</th>\n",
       "      <th>Product_importance</th>\n",
       "      <th>Gender</th>\n",
       "      <th>Discount_offered</th>\n",
       "      <th>Weight_in_gms</th>\n",
       "      <th>On_Time</th>\n",
       "    </tr>\n",
       "  </thead>\n",
       "  <tbody>\n",
       "    <tr>\n",
       "      <th>251</th>\n",
       "      <td>4</td>\n",
       "      <td>1</td>\n",
       "      <td>2</td>\n",
       "      <td>2</td>\n",
       "      <td>145</td>\n",
       "      <td>3</td>\n",
       "      <td>2</td>\n",
       "      <td>0</td>\n",
       "      <td>5</td>\n",
       "      <td>6102</td>\n",
       "      <td>1</td>\n",
       "    </tr>\n",
       "  </tbody>\n",
       "</table>\n",
       "</div>"
      ],
      "text/plain": [
       "     Warehouse_block  Mode_of_Shipment  Customer_care_calls  Customer_rating  \\\n",
       "251                4                 1                    2                2   \n",
       "\n",
       "     Cost_of_the_Product  Prior_purchases  Product_importance  Gender  \\\n",
       "251                  145                3                   2       0   \n",
       "\n",
       "     Discount_offered  Weight_in_gms  On_Time  \n",
       "251                 5           6102        1  "
      ]
     },
     "execution_count": 75,
     "metadata": {},
     "output_type": "execute_result"
    }
   ],
   "source": [
    "point = scoreSorted[6]\n",
    "print(point)\n",
    "print(\"---\"*10)\n",
    "e_commerceForA[score == point]"
   ]
  },
  {
   "cell_type": "code",
   "execution_count": 76,
   "metadata": {
    "tags": []
   },
   "outputs": [
    {
     "data": {
      "text/html": [
       "<div>\n",
       "<style scoped>\n",
       "    .dataframe tbody tr th:only-of-type {\n",
       "        vertical-align: middle;\n",
       "    }\n",
       "\n",
       "    .dataframe tbody tr th {\n",
       "        vertical-align: top;\n",
       "    }\n",
       "\n",
       "    .dataframe thead th {\n",
       "        text-align: right;\n",
       "    }\n",
       "</style>\n",
       "<table border=\"1\" class=\"dataframe\">\n",
       "  <thead>\n",
       "    <tr style=\"text-align: right;\">\n",
       "      <th></th>\n",
       "      <th>Warehouse_block</th>\n",
       "      <th>Mode_of_Shipment</th>\n",
       "      <th>Customer_care_calls</th>\n",
       "      <th>Customer_rating</th>\n",
       "      <th>Cost_of_the_Product</th>\n",
       "      <th>Prior_purchases</th>\n",
       "      <th>Product_importance</th>\n",
       "      <th>Gender</th>\n",
       "      <th>Discount_offered</th>\n",
       "      <th>Weight_in_gms</th>\n",
       "      <th>On_Time</th>\n",
       "    </tr>\n",
       "  </thead>\n",
       "  <tbody>\n",
       "    <tr>\n",
       "      <th>198</th>\n",
       "      <td>3</td>\n",
       "      <td>2</td>\n",
       "      <td>2</td>\n",
       "      <td>3</td>\n",
       "      <td>142</td>\n",
       "      <td>3</td>\n",
       "      <td>2</td>\n",
       "      <td>0</td>\n",
       "      <td>38</td>\n",
       "      <td>7640</td>\n",
       "      <td>1</td>\n",
       "    </tr>\n",
       "    <tr>\n",
       "      <th>199</th>\n",
       "      <td>4</td>\n",
       "      <td>2</td>\n",
       "      <td>2</td>\n",
       "      <td>2</td>\n",
       "      <td>154</td>\n",
       "      <td>3</td>\n",
       "      <td>2</td>\n",
       "      <td>1</td>\n",
       "      <td>38</td>\n",
       "      <td>7846</td>\n",
       "      <td>1</td>\n",
       "    </tr>\n",
       "    <tr>\n",
       "      <th>205</th>\n",
       "      <td>4</td>\n",
       "      <td>2</td>\n",
       "      <td>2</td>\n",
       "      <td>3</td>\n",
       "      <td>145</td>\n",
       "      <td>3</td>\n",
       "      <td>2</td>\n",
       "      <td>0</td>\n",
       "      <td>24</td>\n",
       "      <td>7588</td>\n",
       "      <td>1</td>\n",
       "    </tr>\n",
       "    <tr>\n",
       "      <th>213</th>\n",
       "      <td>1</td>\n",
       "      <td>2</td>\n",
       "      <td>2</td>\n",
       "      <td>5</td>\n",
       "      <td>160</td>\n",
       "      <td>3</td>\n",
       "      <td>2</td>\n",
       "      <td>0</td>\n",
       "      <td>31</td>\n",
       "      <td>7401</td>\n",
       "      <td>1</td>\n",
       "    </tr>\n",
       "    <tr>\n",
       "      <th>245</th>\n",
       "      <td>4</td>\n",
       "      <td>2</td>\n",
       "      <td>2</td>\n",
       "      <td>4</td>\n",
       "      <td>154</td>\n",
       "      <td>3</td>\n",
       "      <td>2</td>\n",
       "      <td>0</td>\n",
       "      <td>48</td>\n",
       "      <td>7684</td>\n",
       "      <td>1</td>\n",
       "    </tr>\n",
       "    <tr>\n",
       "      <th>257</th>\n",
       "      <td>4</td>\n",
       "      <td>1</td>\n",
       "      <td>2</td>\n",
       "      <td>2</td>\n",
       "      <td>129</td>\n",
       "      <td>3</td>\n",
       "      <td>2</td>\n",
       "      <td>0</td>\n",
       "      <td>22</td>\n",
       "      <td>6614</td>\n",
       "      <td>1</td>\n",
       "    </tr>\n",
       "  </tbody>\n",
       "</table>\n",
       "</div>"
      ],
      "text/plain": [
       "     Warehouse_block  Mode_of_Shipment  Customer_care_calls  Customer_rating  \\\n",
       "198                3                 2                    2                3   \n",
       "199                4                 2                    2                2   \n",
       "205                4                 2                    2                3   \n",
       "213                1                 2                    2                5   \n",
       "245                4                 2                    2                4   \n",
       "257                4                 1                    2                2   \n",
       "\n",
       "     Cost_of_the_Product  Prior_purchases  Product_importance  Gender  \\\n",
       "198                  142                3                   2       0   \n",
       "199                  154                3                   2       1   \n",
       "205                  145                3                   2       0   \n",
       "213                  160                3                   2       0   \n",
       "245                  154                3                   2       0   \n",
       "257                  129                3                   2       0   \n",
       "\n",
       "     Discount_offered  Weight_in_gms  On_Time  \n",
       "198                38           7640        1  \n",
       "199                38           7846        1  \n",
       "205                24           7588        1  \n",
       "213                31           7401        1  \n",
       "245                48           7684        1  \n",
       "257                22           6614        1  "
      ]
     },
     "execution_count": 76,
     "metadata": {},
     "output_type": "execute_result"
    }
   ],
   "source": [
    "outliers = score < point\n",
    "e_commerce[outliers]"
   ]
  },
  {
   "cell_type": "code",
   "execution_count": 77,
   "metadata": {
    "tags": []
   },
   "outputs": [
    {
     "data": {
      "text/plain": [
       "Int64Index([198, 199, 205, 213, 245, 257], dtype='int64')"
      ]
     },
     "execution_count": 77,
     "metadata": {},
     "output_type": "execute_result"
    }
   ],
   "source": [
    "e_commerce[outliers].index"
   ]
  },
  {
   "cell_type": "markdown",
   "metadata": {
    "tags": []
   },
   "source": [
    "#### DELETING"
   ]
  },
  {
   "cell_type": "code",
   "execution_count": 78,
   "metadata": {
    "tags": []
   },
   "outputs": [
    {
     "data": {
      "text/plain": [
       "list"
      ]
     },
     "execution_count": 78,
     "metadata": {},
     "output_type": "execute_result"
    }
   ],
   "source": [
    "outliersIndexList = [e_commerce[outliers].index]\n",
    "type(outliersIndexList)"
   ]
  },
  {
   "cell_type": "code",
   "execution_count": 79,
   "metadata": {
    "tags": []
   },
   "outputs": [],
   "source": [
    "for d in outliersIndexList:\n",
    "    e_commerce.drop(index=d,inplace=True)"
   ]
  },
  {
   "cell_type": "code",
   "execution_count": 80,
   "metadata": {
    "tags": []
   },
   "outputs": [
    {
     "data": {
      "image/png": "[encoded data removed]",
      "text/plain": [
       "<Figure size 1080x576 with 1 Axes>"
      ]
     },
     "metadata": {
      "needs_background": "light"
     },
     "output_type": "display_data"
    }
   ],
   "source": [
    "figure = plt.figure(figsize=(15,8))\n",
    "sns.boxplot(x=\"Customer_rating\",y=\"Discount_offered\",hue=\"Product_importance\",color=\"black\",data=e_commerce)\n",
    "plt.legend()\n",
    "plt.show()"
   ]
  },
  {
   "cell_type": "markdown",
   "metadata": {
    "tags": []
   },
   "source": [
    "we need to make Discount_offered and Customer_rating standardize\n",
    "### STANDARDIZATION\n",
    "#### for Customer_rating"
   ]
  },
  {
   "cell_type": "code",
   "execution_count": 81,
   "metadata": {
    "tags": []
   },
   "outputs": [
    {
     "name": "stdout",
     "output_type": "stream",
     "text": [
      "0    3\n",
      "dtype: int64\n",
      "5\n",
      "1\n",
      "2.990448467206404\n",
      "(2.9640174157017847, 3.0168795187110233)\n"
     ]
    }
   ],
   "source": [
    "print(e_commerce[\"Customer_rating\"].mode())\n",
    "print(e_commerce[\"Customer_rating\"].max())\n",
    "print(e_commerce[\"Customer_rating\"].min())\n",
    "print(e_commerce[\"Customer_rating\"].mean())\n",
    "print(sms.DescrStatsW(e_commerce[\"Customer_rating\"]).tconfint_mean())"
   ]
  },
  {
   "cell_type": "code",
   "execution_count": 82,
   "metadata": {
    "tags": []
   },
   "outputs": [],
   "source": [
    "def func(x):\n",
    "    if x < 2.99:\n",
    "        return \"BAD\"\n",
    "    else:\n",
    "        return \"GOOD\""
   ]
  },
  {
   "cell_type": "code",
   "execution_count": 83,
   "metadata": {
    "tags": []
   },
   "outputs": [],
   "source": [
    "e_commerce[\"Customer_rating\"] = e_commerce[\"Customer_rating\"].apply(lambda x: func(x))"
   ]
  },
  {
   "cell_type": "code",
   "execution_count": 84,
   "metadata": {
    "tags": []
   },
   "outputs": [
    {
     "data": {
      "text/plain": [
       "GOOD    6595\n",
       "BAD     4398\n",
       "Name: Customer_rating, dtype: int64"
      ]
     },
     "execution_count": 84,
     "metadata": {},
     "output_type": "execute_result"
    }
   ],
   "source": [
    "e_commerce[\"Customer_rating\"].value_counts()"
   ]
  },
  {
   "cell_type": "code",
   "execution_count": 85,
   "metadata": {
    "tags": []
   },
   "outputs": [],
   "source": [
    "e_commerce[\"Customer_rating\"] = encode.fit_transform(e_commerce[\"Customer_rating\"])"
   ]
  },
  {
   "cell_type": "code",
   "execution_count": 86,
   "metadata": {
    "tags": []
   },
   "outputs": [
    {
     "data": {
      "text/plain": [
       "1    6595\n",
       "0    4398\n",
       "Name: Customer_rating, dtype: int64"
      ]
     },
     "execution_count": 86,
     "metadata": {},
     "output_type": "execute_result"
    }
   ],
   "source": [
    "e_commerce[\"Customer_rating\"].value_counts()"
   ]
  },
  {
   "cell_type": "markdown",
   "metadata": {
    "tags": []
   },
   "source": [
    "#### for Discount_offered"
   ]
  },
  {
   "cell_type": "code",
   "execution_count": 87,
   "metadata": {
    "tags": []
   },
   "outputs": [
    {
     "name": "stdout",
     "output_type": "stream",
     "text": [
      "0    10\n",
      "dtype: int64\n",
      "65\n",
      "1\n",
      "13.362230510324752\n",
      "(13.059329677044607, 13.665131343604896)\n"
     ]
    }
   ],
   "source": [
    "print(e_commerce[\"Discount_offered\"].mode())\n",
    "print(e_commerce[\"Discount_offered\"].max())\n",
    "print(e_commerce[\"Discount_offered\"].min())\n",
    "print(e_commerce[\"Discount_offered\"].mean())\n",
    "print(sms.DescrStatsW(e_commerce[\"Discount_offered\"]).tconfint_mean())"
   ]
  },
  {
   "cell_type": "code",
   "execution_count": 88,
   "metadata": {
    "tags": []
   },
   "outputs": [],
   "source": [
    "def funcforD(x):\n",
    "    if x < 13.36:\n",
    "        return \"LESS\"\n",
    "    elif 13.36 < x > 30:\n",
    "        return \"NORMAL\"\n",
    "    else:\n",
    "        return \"TOO MUCH\""
   ]
  },
  {
   "cell_type": "code",
   "execution_count": 89,
   "metadata": {
    "tags": []
   },
   "outputs": [],
   "source": [
    "e_commerce[\"Discount_offered\"] = e_commerce[\"Discount_offered\"].apply(lambda x: funcforD(x))"
   ]
  },
  {
   "cell_type": "code",
   "execution_count": 90,
   "metadata": {
    "tags": []
   },
   "outputs": [
    {
     "data": {
      "text/plain": [
       "LESS        8514\n",
       "NORMAL      1706\n",
       "TOO MUCH     773\n",
       "Name: Discount_offered, dtype: int64"
      ]
     },
     "execution_count": 90,
     "metadata": {},
     "output_type": "execute_result"
    }
   ],
   "source": [
    "e_commerce[\"Discount_offered\"].value_counts()"
   ]
  },
  {
   "cell_type": "code",
   "execution_count": 91,
   "metadata": {
    "tags": []
   },
   "outputs": [],
   "source": [
    "e_commerce[\"Discount_offered\"] = encode.fit_transform(e_commerce[\"Discount_offered\"])"
   ]
  },
  {
   "cell_type": "code",
   "execution_count": 92,
   "metadata": {
    "tags": []
   },
   "outputs": [
    {
     "data": {
      "text/plain": [
       "0    8514\n",
       "1    1706\n",
       "2     773\n",
       "Name: Discount_offered, dtype: int64"
      ]
     },
     "execution_count": 92,
     "metadata": {},
     "output_type": "execute_result"
    }
   ],
   "source": [
    "e_commerce[\"Discount_offered\"].value_counts()"
   ]
  },
  {
   "cell_type": "code",
   "execution_count": 93,
   "metadata": {
    "tags": []
   },
   "outputs": [
    {
     "data": {
      "image/png": "[encoded data removed]",
      "text/plain": [
       "<Figure size 1080x576 with 1 Axes>"
      ]
     },
     "metadata": {
      "needs_background": "light"
     },
     "output_type": "display_data"
    }
   ],
   "source": [
    "figure = plt.figure(figsize=(15,8))\n",
    "sns.boxplot(x=\"Customer_rating\",y=\"Discount_offered\",hue=\"Product_importance\",color=\"black\",data=e_commerce)\n",
    "plt.legend()\n",
    "plt.show()"
   ]
  },
  {
   "cell_type": "code",
   "execution_count": 94,
   "metadata": {
    "tags": []
   },
   "outputs": [
    {
     "data": {
      "text/plain": [
       "1    5297\n",
       "2    4748\n",
       "0     948\n",
       "Name: Product_importance, dtype: int64"
      ]
     },
     "execution_count": 94,
     "metadata": {},
     "output_type": "execute_result"
    }
   ],
   "source": [
    "e_commerce[\"Product_importance\"].value_counts()"
   ]
  },
  {
   "cell_type": "markdown",
   "metadata": {
    "tags": []
   },
   "source": [
    "### Train & Test"
   ]
  },
  {
   "cell_type": "code",
   "execution_count": 95,
   "metadata": {
    "tags": [
     "block:train_test_split",
     "prev:feature_engineering"
    ]
   },
   "outputs": [],
   "source": [
    "x = e_commerce.drop([\"On_Time\"],axis=1)\n",
    "y = e_commerce[\"On_Time\"]"
   ]
  },
  {
   "cell_type": "code",
   "execution_count": 96,
   "metadata": {
    "tags": []
   },
   "outputs": [],
   "source": [
    "xTrain,xTest,yTrain,yTest = train_test_split(x,y,test_size=0.2,random_state=42)"
   ]
  },
  {
   "cell_type": "code",
   "execution_count": 97,
   "metadata": {
    "tags": []
   },
   "outputs": [
    {
     "data": {
      "text/plain": [
       "Index(['Warehouse_block', 'Mode_of_Shipment', 'Customer_care_calls',\n",
       "       'Customer_rating', 'Cost_of_the_Product', 'Prior_purchases',\n",
       "       'Product_importance', 'Gender', 'Discount_offered', 'Weight_in_gms'],\n",
       "      dtype='object')"
      ]
     },
     "execution_count": 97,
     "metadata": {},
     "output_type": "execute_result"
    }
   ],
   "source": [
    "xTrain.columns"
   ]
  },
  {
   "cell_type": "code",
   "execution_count": 98,
   "metadata": {
    "tags": []
   },
   "outputs": [
    {
     "data": {
      "text/plain": [
       "5855    1\n",
       "4714    1\n",
       "8683    1\n",
       "298     1\n",
       "3463    1\n",
       "       ..\n",
       "5740    1\n",
       "5197    0\n",
       "5396    0\n",
       "866     1\n",
       "7276    1\n",
       "Name: On_Time, Length: 8794, dtype: int64"
      ]
     },
     "execution_count": 98,
     "metadata": {},
     "output_type": "execute_result"
    }
   ],
   "source": [
    "yTrain"
   ]
  },
  {
   "cell_type": "code",
   "execution_count": 99,
   "metadata": {
    "tags": []
   },
   "outputs": [
    {
     "data": {
      "text/plain": [
       "Index(['Warehouse_block', 'Mode_of_Shipment', 'Customer_care_calls',\n",
       "       'Customer_rating', 'Cost_of_the_Product', 'Prior_purchases',\n",
       "       'Product_importance', 'Gender', 'Discount_offered', 'Weight_in_gms'],\n",
       "      dtype='object')"
      ]
     },
     "execution_count": 99,
     "metadata": {},
     "output_type": "execute_result"
    }
   ],
   "source": [
    "xTest.columns"
   ]
  },
  {
   "cell_type": "code",
   "execution_count": 100,
   "metadata": {
    "tags": []
   },
   "outputs": [
    {
     "data": {
      "text/plain": [
       "107      1\n",
       "5484     0\n",
       "8445     1\n",
       "10061    0\n",
       "5665     1\n",
       "        ..\n",
       "10548    1\n",
       "5809     0\n",
       "7488     1\n",
       "4632     0\n",
       "5937     0\n",
       "Name: On_Time, Length: 2199, dtype: int64"
      ]
     },
     "execution_count": 100,
     "metadata": {},
     "output_type": "execute_result"
    }
   ],
   "source": [
    "yTest"
   ]
  },
  {
   "cell_type": "markdown",
   "metadata": {
    "tags": []
   },
   "source": [
    "### Classifier Models"
   ]
  },
  {
   "cell_type": "code",
   "execution_count": 101,
   "metadata": {
    "tags": [
     "block:graph_labels",
     "prev:train_test_split"
    ]
   },
   "outputs": [],
   "source": [
    "x_label = ['Warehouse_block', 'Mode_of_Shipment', 'Customer_care_calls',\n",
    "       'Customer_rating', 'Cost_of_the_Product', 'Prior_purchases',\n",
    "       'Product_importance', 'Gender', 'Discount_offered', 'Weight_in_gms']\n",
    "y_label = 'On_Time'"
   ]
  },
  {
   "cell_type": "markdown",
   "metadata": {
    "tags": []
   },
   "source": [
    "#### Decision Tree Classifier"
   ]
  },
  {
   "cell_type": "code",
   "execution_count": 102,
   "metadata": {
    "tags": [
     "block:decision_tree_classifier",
     "prev:train_test_split",
     "prev:graph_labels"
    ]
   },
   "outputs": [
    {
     "data": {
      "text/plain": [
       "100.0"
      ]
     },
     "execution_count": 102,
     "metadata": {},
     "output_type": "execute_result"
    }
   ],
   "source": [
    "decision_tree = DecisionTreeClassifier()\n",
    "decisiontree = decision_tree.fit(xTrain, yTrain)\n",
    "acc_decision_tree = round(decision_tree.score(xTrain, yTrain) * 100, 2)\n",
    "acc_decision_tree"
   ]
  },
  {
   "cell_type": "code",
   "execution_count": 103,
   "metadata": {
    "tags": []
   },
   "outputs": [
    {
     "data": {
      "image/png": "[encoded data removed]",
      "text/plain": [
       "<Figure size 504x288 with 1 Axes>"
      ]
     },
     "metadata": {
      "needs_background": "light"
     },
     "output_type": "display_data"
    }
   ],
   "source": [
    "tmp = pd.DataFrame({'Feature': x_label, 'Feature importance': decision_tree.feature_importances_})\n",
    "tmp = tmp.sort_values(by='Feature importance',ascending=False)\n",
    "plt.figure(figsize = (7,4))\n",
    "plt.title('Features importance',fontsize=14)\n",
    "s = sns.barplot(x='Feature',y='Feature importance',data=tmp)\n",
    "s.set_xticklabels(s.get_xticklabels(),rotation=90)\n",
    "plt.show()   "
   ]
  },
  {
   "cell_type": "markdown",
   "metadata": {
    "tags": []
   },
   "source": [
    "#### Random Forest Classifier"
   ]
  },
  {
   "cell_type": "code",
   "execution_count": 104,
   "metadata": {
    "tags": [
     "block:random_forest_classifier",
     "prev:train_test_split",
     "prev:graph_labels"
    ]
   },
   "outputs": [
    {
     "data": {
      "text/plain": [
       "100.0"
      ]
     },
     "execution_count": 104,
     "metadata": {},
     "output_type": "execute_result"
    }
   ],
   "source": [
    "random_forest = RandomForestClassifier(n_estimators=100)\n",
    "randomforest = random_forest.fit(xTrain, yTrain)\n",
    "acc_random_forest = round(random_forest.score(xTrain, yTrain) * 100, 2)\n",
    "acc_random_forest"
   ]
  },
  {
   "cell_type": "code",
   "execution_count": 105,
   "metadata": {
    "tags": []
   },
   "outputs": [
    {
     "data": {
      "image/png": "[encoded data removed]",
      "text/plain": [
       "<Figure size 504x288 with 1 Axes>"
      ]
     },
     "metadata": {
      "needs_background": "light"
     },
     "output_type": "display_data"
    }
   ],
   "source": [
    "tmp = pd.DataFrame({'Feature': x_label, 'Feature importance': random_forest.feature_importances_})\n",
    "tmp = tmp.sort_values(by='Feature importance',ascending=False)\n",
    "plt.figure(figsize = (7,4))\n",
    "plt.title('Features importance',fontsize=14)\n",
    "s = sns.barplot(x='Feature',y='Feature importance',data=tmp)\n",
    "s.set_xticklabels(s.get_xticklabels(),rotation=90)\n",
    "plt.show()   "
   ]
  },
  {
   "cell_type": "markdown",
   "metadata": {
    "tags": []
   },
   "source": [
    "#### Gradient Boosting Classifier"
   ]
  },
  {
   "cell_type": "code",
   "execution_count": 106,
   "metadata": {
    "tags": [
     "block:gradient_boosting_classifier",
     "prev:graph_labels",
     "prev:train_test_split"
    ]
   },
   "outputs": [
    {
     "data": {
      "text/plain": [
       "70.37"
      ]
     },
     "execution_count": 106,
     "metadata": {},
     "output_type": "execute_result"
    }
   ],
   "source": [
    "gradientboostingclassifier = GradientBoostingClassifier()\n",
    "gradboostclass = gradientboostingclassifier.fit(xTrain, yTrain)\n",
    "acc_gbc = round(gradientboostingclassifier.score(xTrain, yTrain) * 100, 2)\n",
    "acc_gbc"
   ]
  },
  {
   "cell_type": "code",
   "execution_count": 107,
   "metadata": {
    "tags": []
   },
   "outputs": [
    {
     "data": {
      "image/png": "[encoded data removed]",
      "text/plain": [
       "<Figure size 504x288 with 1 Axes>"
      ]
     },
     "metadata": {
      "needs_background": "light"
     },
     "output_type": "display_data"
    }
   ],
   "source": [
    "tmp = pd.DataFrame({'Feature': x_label, 'Feature importance': gradientboostingclassifier.feature_importances_})\n",
    "tmp = tmp.sort_values(by='Feature importance',ascending=False)\n",
    "plt.figure(figsize = (7,4))\n",
    "plt.title('Features importance',fontsize=14)\n",
    "s = sns.barplot(x='Feature',y='Feature importance',data=tmp)\n",
    "s.set_xticklabels(s.get_xticklabels(),rotation=90)\n",
    "plt.show()   "
   ]
  },
  {
   "cell_type": "markdown",
   "metadata": {
    "tags": []
   },
   "source": [
    "#### XgBoost Classifier"
   ]
  },
  {
   "cell_type": "code",
   "execution_count": 108,
   "metadata": {
    "tags": [
     "block:xgboost_classifier",
     "prev:train_test_split",
     "prev:graph_labels"
    ]
   },
   "outputs": [
    {
     "name": "stdout",
     "output_type": "stream",
     "text": [
      "[11:55:40] WARNING: ../src/learner.cc:1095: Starting in XGBoost 1.3.0, the default evaluation metric used with the objective 'binary:logistic' was changed from 'error' to 'logloss'. Explicitly set eval_metric if you'd like to restore the old behavior.\n"
     ]
    },
    {
     "data": {
      "text/plain": [
       "88.57"
      ]
     },
     "execution_count": 108,
     "metadata": {},
     "output_type": "execute_result"
    }
   ],
   "source": [
    "xgboostclassifier = XGBClassifier()\n",
    "xgboostclass = xgboostclassifier.fit(xTrain, yTrain)\n",
    "acc_xgbc = round(xgboostclassifier.score(xTrain, yTrain) * 100, 2)\n",
    "acc_xgbc"
   ]
  },
  {
   "cell_type": "code",
   "execution_count": 109,
   "metadata": {
    "tags": []
   },
   "outputs": [
    {
     "data": {
      "image/png": "[encoded data removed]",
      "text/plain": [
       "<Figure size 504x288 with 1 Axes>"
      ]
     },
     "metadata": {
      "needs_background": "light"
     },
     "output_type": "display_data"
    }
   ],
   "source": [
    "tmp = pd.DataFrame({'Feature': x_label, 'Feature importance': xgboostclassifier.feature_importances_})\n",
    "tmp = tmp.sort_values(by='Feature importance',ascending=False)\n",
    "plt.figure(figsize = (7,4))\n",
    "plt.title('Features importance',fontsize=14)\n",
    "s = sns.barplot(x='Feature',y='Feature importance',data=tmp)\n",
    "s.set_xticklabels(s.get_xticklabels(),rotation=90)\n",
    "plt.show()   "
   ]
  },
  {
   "cell_type": "markdown",
   "metadata": {
    "tags": []
   },
   "source": [
    "#### Cat Boost Classifier"
   ]
  },
  {
   "cell_type": "code",
   "execution_count": 110,
   "metadata": {
    "tags": [
     "block:cat_boost_classifier",
     "prev:train_test_split",
     "prev:graph_labels"
    ]
   },
   "outputs": [
    {
     "data": {
      "text/plain": [
       "81.81"
      ]
     },
     "execution_count": 110,
     "metadata": {},
     "output_type": "execute_result"
    }
   ],
   "source": [
    "catboostclassifier = CatBoostClassifier(verbose=False).fit(xTrain, yTrain)\n",
    "catboostclass = catboostclassifier.fit(xTrain, yTrain)\n",
    "acc_catbc = round(catboostclassifier.score(xTrain, yTrain) * 100, 2)\n",
    "acc_catbc"
   ]
  },
  {
   "cell_type": "code",
   "execution_count": 111,
   "metadata": {
    "tags": []
   },
   "outputs": [
    {
     "data": {
      "image/png": "[encoded data removed]",
      "text/plain": [
       "<Figure size 504x288 with 1 Axes>"
      ]
     },
     "metadata": {
      "needs_background": "light"
     },
     "output_type": "display_data"
    }
   ],
   "source": [
    "tmp = pd.DataFrame({'Feature': x_label, 'Feature importance': catboostclassifier.feature_importances_})\n",
    "tmp = tmp.sort_values(by='Feature importance',ascending=False)\n",
    "plt.figure(figsize = (7,4))\n",
    "plt.title('Features importance',fontsize=14)\n",
    "s = sns.barplot(x='Feature',y='Feature importance',data=tmp)\n",
    "s.set_xticklabels(s.get_xticklabels(),rotation=90)\n",
    "plt.show()   "
   ]
  },
  {
   "cell_type": "markdown",
   "metadata": {
    "tags": []
   },
   "source": [
    "#### Light Gradient Boosting Machine Classifier"
   ]
  },
  {
   "cell_type": "code",
   "execution_count": 112,
   "metadata": {
    "tags": [
     "block:light_gradient_boosting_classifier",
     "prev:train_test_split",
     "prev:graph_labels"
    ]
   },
   "outputs": [
    {
     "data": {
      "text/plain": [
       "81.15"
      ]
     },
     "execution_count": 112,
     "metadata": {},
     "output_type": "execute_result"
    }
   ],
   "source": [
    "lightgradientboostmc = LGBMClassifier().fit(xTrain,yTrain)\n",
    "lightgradboostmc = lightgradientboostmc.fit(xTrain, yTrain)\n",
    "acc_lgbmc = round(lightgradientboostmc.score(xTrain, yTrain) * 100, 2)\n",
    "acc_lgbmc"
   ]
  },
  {
   "cell_type": "code",
   "execution_count": 113,
   "metadata": {
    "tags": []
   },
   "outputs": [
    {
     "data": {
      "image/png": "[encoded data removed]",
      "text/plain": [
       "<Figure size 504x288 with 1 Axes>"
      ]
     },
     "metadata": {
      "needs_background": "light"
     },
     "output_type": "display_data"
    }
   ],
   "source": [
    "tmp = pd.DataFrame({'Feature': x_label, 'Feature importance': lightgradientboostmc.feature_importances_})\n",
    "tmp = tmp.sort_values(by='Feature importance',ascending=False)\n",
    "plt.figure(figsize = (7,4))\n",
    "plt.title('Features importance',fontsize=14)\n",
    "s = sns.barplot(x='Feature',y='Feature importance',data=tmp)\n",
    "s.set_xticklabels(s.get_xticklabels(),rotation=90)\n",
    "plt.show()   "
   ]
  },
  {
   "cell_type": "markdown",
   "metadata": {
    "tags": []
   },
   "source": [
    "### Model Evaluation"
   ]
  },
  {
   "cell_type": "code",
   "execution_count": 114,
   "metadata": {
    "tags": [
     "block:model__evaluation",
     "prev:light_gradient_boosting_classifier",
     "prev:decision_tree_classifier",
     "prev:xgboost_classifier",
     "prev:gradient_boosting_classifier",
     "prev:random_forest_classifier",
     "prev:cat_boost_classifier"
    ]
   },
   "outputs": [
    {
     "data": {
      "text/html": [
       "<div>\n",
       "<style scoped>\n",
       "    .dataframe tbody tr th:only-of-type {\n",
       "        vertical-align: middle;\n",
       "    }\n",
       "\n",
       "    .dataframe tbody tr th {\n",
       "        vertical-align: top;\n",
       "    }\n",
       "\n",
       "    .dataframe thead th {\n",
       "        text-align: right;\n",
       "    }\n",
       "</style>\n",
       "<table border=\"1\" class=\"dataframe\">\n",
       "  <thead>\n",
       "    <tr style=\"text-align: right;\">\n",
       "      <th></th>\n",
       "      <th>Model</th>\n",
       "      <th>Model_abb</th>\n",
       "    </tr>\n",
       "    <tr>\n",
       "      <th>Score</th>\n",
       "      <th></th>\n",
       "      <th></th>\n",
       "    </tr>\n",
       "  </thead>\n",
       "  <tbody>\n",
       "    <tr>\n",
       "      <th>100.00</th>\n",
       "      <td>Decision Tree Classifier</td>\n",
       "      <td>DecisionTreeClassifier()</td>\n",
       "    </tr>\n",
       "    <tr>\n",
       "      <th>100.00</th>\n",
       "      <td>Random Forest Classifier</td>\n",
       "      <td>(DecisionTreeClassifier(max_features='auto', r...</td>\n",
       "    </tr>\n",
       "    <tr>\n",
       "      <th>88.57</th>\n",
       "      <td>XgBoost Classifier</td>\n",
       "      <td>XGBClassifier(base_score=0.5, booster='gbtree'...</td>\n",
       "    </tr>\n",
       "    <tr>\n",
       "      <th>81.81</th>\n",
       "      <td>Cat Boost Classifier</td>\n",
       "      <td>&lt;catboost.core.CatBoostClassifier object at 0x...</td>\n",
       "    </tr>\n",
       "    <tr>\n",
       "      <th>81.15</th>\n",
       "      <td>Light Gradient Boosting Machine Classifier</td>\n",
       "      <td>LGBMClassifier()</td>\n",
       "    </tr>\n",
       "    <tr>\n",
       "      <th>70.37</th>\n",
       "      <td>Gradient Boosting Classifier</td>\n",
       "      <td>([DecisionTreeRegressor(criterion='friedman_ms...</td>\n",
       "    </tr>\n",
       "  </tbody>\n",
       "</table>\n",
       "</div>"
      ],
      "text/plain": [
       "                                             Model  \\\n",
       "Score                                                \n",
       "100.00                    Decision Tree Classifier   \n",
       "100.00                    Random Forest Classifier   \n",
       "88.57                           XgBoost Classifier   \n",
       "81.81                         Cat Boost Classifier   \n",
       "81.15   Light Gradient Boosting Machine Classifier   \n",
       "70.37                 Gradient Boosting Classifier   \n",
       "\n",
       "                                                Model_abb  \n",
       "Score                                                      \n",
       "100.00                           DecisionTreeClassifier()  \n",
       "100.00  (DecisionTreeClassifier(max_features='auto', r...  \n",
       "88.57   XGBClassifier(base_score=0.5, booster='gbtree'...  \n",
       "81.81   <catboost.core.CatBoostClassifier object at 0x...  \n",
       "81.15                                    LGBMClassifier()  \n",
       "70.37   ([DecisionTreeRegressor(criterion='friedman_ms...  "
      ]
     },
     "execution_count": 114,
     "metadata": {},
     "output_type": "execute_result"
    }
   ],
   "source": [
    "results = pd.DataFrame({\n",
    "    'Model': ['Decision Tree Classifier','Random Forest Classifier','Gradient Boosting Classifier','XgBoost Classifier','Cat Boost Classifier','Light Gradient Boosting Machine Classifier'],\n",
    "    'Score': [acc_decision_tree,acc_random_forest,acc_gbc,acc_xgbc,acc_catbc,acc_lgbmc],\n",
    "    'Model_abb': [decisiontree,randomforest,gradboostclass,xgboostclass,catboostclass,lightgradboostmc]})\n",
    "result_df = results.sort_values(by='Score', ascending=False)\n",
    "result_df = result_df.set_index('Score')\n",
    "result_df"
   ]
  },
  {
   "cell_type": "code",
   "execution_count": 115,
   "metadata": {
    "tags": []
   },
   "outputs": [
    {
     "name": "stdout",
     "output_type": "stream",
     "text": [
      "                                             Model  \\\n",
      "Score                                                \n",
      "100.00                    Decision Tree Classifier   \n",
      "100.00                    Random Forest Classifier   \n",
      "88.57                           XgBoost Classifier   \n",
      "81.81                         Cat Boost Classifier   \n",
      "81.15   Light Gradient Boosting Machine Classifier   \n",
      "70.37                 Gradient Boosting Classifier   \n",
      "\n",
      "                                                Model_abb  \n",
      "Score                                                      \n",
      "100.00                           DecisionTreeClassifier()  \n",
      "100.00  (DecisionTreeClassifier(max_features='auto', r...  \n",
      "88.57   XGBClassifier(base_score=0.5, booster='gbtree'...  \n",
      "81.81   <catboost.core.CatBoostClassifier object at 0x...  \n",
      "81.15                                    LGBMClassifier()  \n",
      "70.37   ([DecisionTreeRegressor(criterion='friedman_ms...  \n"
     ]
    }
   ],
   "source": [
    "print(result_df)"
   ]
  },
  {
   "cell_type": "code",
   "execution_count": 116,
   "metadata": {
    "tags": []
   },
   "outputs": [
    {
     "name": "stdout",
     "output_type": "stream",
     "text": [
      "---------------------------------------------------------------------------\n",
      "Best Model: Decision Tree Classifier\n"
     ]
    }
   ],
   "source": [
    "best_model = result_df['Model'].iloc[0]\n",
    "print(\"---\"*25)\n",
    "print(\"Best Model:\",best_model)"
   ]
  },
  {
   "cell_type": "code",
   "execution_count": null,
   "metadata": {
    "tags": []
   },
   "outputs": [],
   "source": []
  }
 ],
 "metadata": {
  "kernelspec": {
   "display_name": "Python 3",
   "language": "python",
   "name": "python3"
  },
  "kubeflow_notebook": {
   "autosnapshot": false,
   "docker_image": "katonic/usecaseb1:4.0",
   "experiment": {
    "id": "new",
    "name": "e-commerce"
   },
   "experiment_name": "e-commerce",
   "katib_metadata": {
    "algorithm": {
     "algorithmName": "grid"
    },
    "maxFailedTrialCount": 3,
    "maxTrialCount": 12,
    "objective": {
     "objectiveMetricName": "",
     "type": "minimize"
    },
    "parallelTrialCount": 3,
    "parameters": []
   },
   "katib_run": false,
   "pipeline_description": "check if target product reach on time or not",
   "pipeline_name": "e-commerce",
   "snapshot_volumes": false,
   "steps_defaults": [],
   "volume_access_mode": "rwo",
   "volumes": []
  },
  "language_info": {
   "codemirror_mode": {
    "name": "ipython",
    "version": 3
   },
   "file_extension": ".py",
   "mimetype": "text/x-python",
   "name": "python",
   "nbconvert_exporter": "python",
   "pygments_lexer": "ipython3",
   "version": "3.7.9"
  }
 },
 "nbformat": 4,
 "nbformat_minor": 4
}
