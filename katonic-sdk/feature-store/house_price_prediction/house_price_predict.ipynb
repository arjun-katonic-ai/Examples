{
 "cells": [
  {
   "cell_type": "markdown",
   "metadata": {},
   "source": [
    "# Katonic Feature Store"
   ]
  },
  {
   "cell_type": "markdown",
   "metadata": {},
   "source": [
    "## Use case: House Price Prediction\n",
    "### Overview \n",
    "#### Predicting a House price based on the Properties that the house had. These Estimation will be very useful in the Real Estate Indutry in order to Suggest a Appropriate price for the customer."
   ]
  },
  {
   "cell_type": "code",
   "execution_count": 1,
   "metadata": {},
   "outputs": [],
   "source": [
    "# Importing the FeatureStore functioanlity from Kfs package.\n",
    "from katonic.fs.feature_store import FeatureStore"
   ]
  },
  {
   "cell_type": "markdown",
   "metadata": {},
   "source": [
    "### Using Local Provider."
   ]
  },
  {
   "cell_type": "code",
   "execution_count": 2,
   "metadata": {},
   "outputs": [],
   "source": [
    "fs = FeatureStore(\n",
    "    user_name = \"user\", # user name.\n",
    "    project_name = \"house_price_prediction\", # give a name for your project.\n",
    "    description = \"using machine learning for house price prediction\", # project description.\n",
    ") "
   ]
  },
  {
   "cell_type": "code",
   "execution_count": 3,
   "metadata": {},
   "outputs": [],
   "source": [
    "# We've successfully initiated FeatureStore with the Local Provider.\n",
    "# Let's import some more neccessery functions.\n",
    "\n",
    "from katonic.fs.entities import Entity, FeatureView\n",
    "from katonic.fs.core.offline_stores import FileSource\n",
    "from katonic.fs.value_type import ValueType"
   ]
  },
  {
   "cell_type": "code",
   "execution_count": 4,
   "metadata": {},
   "outputs": [],
   "source": [
    "# Let's define the Entity key.\n",
    "entity_key = Entity(name = \"id\", value_type=ValueType.INT64)"
   ]
  },
  {
   "cell_type": "code",
   "execution_count": 5,
   "metadata": {},
   "outputs": [],
   "source": [
    "data_source = FileSource(\n",
    "    path = \"datasets/housing_data.csv\", # Provide a path for your data source file.\n",
    "    file_format = \"csv\", # format of your data sourse CSV or PARQUET.\n",
    "    event_timestamp_column = \"event_timestamp\"  # The column which represents the time of Event occurance.\n",
    ")"
   ]
  },
  {
   "cell_type": "markdown",
   "metadata": {},
   "source": [
    "Feature views allow users to register data sources in their organizations into Feature Store for offline feature stores, and then use those offline stores for both training and online inference. \n",
    "\n",
    "The preceding feature view definition tells Feature Store where to find drivere stats features."
   ]
  },
  {
   "cell_type": "code",
   "execution_count": 6,
   "metadata": {},
   "outputs": [],
   "source": [
    "# Defining the Columns that we want to use for Creating a Feature View.\n",
    "cols = ['bedrooms', 'bathrooms', 'sqft_living',\n",
    "       'sqft_lot', 'floors', 'waterfront', 'view', 'condition', 'grade',\n",
    "       'sqft_above', 'sqft_basement']"
   ]
  },
  {
   "cell_type": "code",
   "execution_count": 7,
   "metadata": {},
   "outputs": [],
   "source": [
    "# Feature View\n",
    "\n",
    "house_price_prediction_view  = FeatureView(\n",
    "    name=\"house_price_prediction_local\", # Feature view name\n",
    "    entities=[\"id\"], # Entity Key\n",
    "    ttl=\"2d\", # hours/months/day # ttl is nothing but the Time period for the feature view Existance.\n",
    "    features=cols,  # Columns you want in Feature View.\n",
    "    batch_source=data_source, # data source\n",
    ")"
   ]
  },
  {
   "cell_type": "markdown",
   "metadata": {},
   "source": [
    "Now that we have defined our first feature view, we can apply the changes to create our feature registry and configure our infrastructure:"
   ]
  },
  {
   "cell_type": "markdown",
   "metadata": {},
   "source": [
    "## Registre and Deploy feature definitions."
   ]
  },
  {
   "cell_type": "code",
   "execution_count": 8,
   "metadata": {},
   "outputs": [
    {
     "name": "stdout",
     "output_type": "stream",
     "text": [
      "CPU times: user 2 µs, sys: 0 ns, total: 2 µs\n",
      "Wall time: 5.25 µs\n",
      "Registered entity \u001b[1m\u001b[32mid\u001b[0m\n",
      "Registered feature view \u001b[1m\u001b[32mhouse_price_prediction_local\u001b[0m\n",
      "Deploying infrastructure for \u001b[1m\u001b[32mhouse_price_prediction_local\u001b[0m\n"
     ]
    }
   ],
   "source": [
    "# Write the data to Offline Store.\n",
    "%time\n",
    "\n",
    "fs.write_table([entity_key, house_price_prediction_view])"
   ]
  },
  {
   "cell_type": "markdown",
   "metadata": {},
   "source": [
    "The preceding `write_table` function will:\n",
    "\n",
    "- Store all entity and feature view definitions in a local file called registry.db.\n",
    "- Create an empty `Redis-Server` table for serving driver statistics features.\n",
    "- Ensure that your data sources on `FileSource` are available."
   ]
  },
  {
   "cell_type": "markdown",
   "metadata": {},
   "source": [
    "### Building a training dataset."
   ]
  },
  {
   "cell_type": "code",
   "execution_count": 9,
   "metadata": {},
   "outputs": [],
   "source": [
    "# Your Entity Dataframe. Which includes the entity key and event timestamp column.\n",
    "import pandas as pd\n",
    "df = pd.read_csv(\"datasets/house_data_entity_df.csv\")\n",
    "\n",
    "# Making sure that the Timestamp column data type is Accurate.\n",
    "df[\"event_timestamp\"] = pd.to_datetime(df[\"event_timestamp\"])"
   ]
  },
  {
   "cell_type": "code",
   "execution_count": 10,
   "metadata": {},
   "outputs": [
    {
     "name": "stdout",
     "output_type": "stream",
     "text": [
      "<class 'pandas.core.frame.DataFrame'>\n",
      "RangeIndex: 20000 entries, 0 to 19999\n",
      "Data columns (total 4 columns):\n",
      " #   Column           Non-Null Count  Dtype              \n",
      "---  ------           --------------  -----              \n",
      " 0   Unnamed: 0       20000 non-null  int64              \n",
      " 1   id               20000 non-null  int64              \n",
      " 2   event_timestamp  20000 non-null  datetime64[ns, UTC]\n",
      " 3   price            20000 non-null  int64              \n",
      "dtypes: datetime64[ns, UTC](1), int64(3)\n",
      "memory usage: 625.1 KB\n"
     ]
    }
   ],
   "source": [
    "# Basic Information about your data.\n",
    "df.info()"
   ]
  },
  {
   "cell_type": "code",
   "execution_count": 23,
   "metadata": {},
   "outputs": [],
   "source": [
    "df.drop(\"Unnamed: 0\",axis=1,inplace=True)"
   ]
  },
  {
   "cell_type": "code",
   "execution_count": 24,
   "metadata": {},
   "outputs": [],
   "source": [
    "# Getting the historical features from Offline Store for Training a Model.\n",
    "\n",
    "training_df = fs.get_historical_features(\n",
    "    entity_df = df, # Your Entity Data Frame.\n",
    "    feature_view = [\"house_price_prediction_local\"], # Feature View name.\n",
    "    features = cols # The columns you want to retrieve\n",
    ").to_df()"
   ]
  },
  {
   "cell_type": "code",
   "execution_count": 25,
   "metadata": {},
   "outputs": [
    {
     "data": {
      "text/html": [
       "<div>\n",
       "<style scoped>\n",
       "    .dataframe tbody tr th:only-of-type {\n",
       "        vertical-align: middle;\n",
       "    }\n",
       "\n",
       "    .dataframe tbody tr th {\n",
       "        vertical-align: top;\n",
       "    }\n",
       "\n",
       "    .dataframe thead th {\n",
       "        text-align: right;\n",
       "    }\n",
       "</style>\n",
       "<table border=\"1\" class=\"dataframe\">\n",
       "  <thead>\n",
       "    <tr style=\"text-align: right;\">\n",
       "      <th></th>\n",
       "      <th>event_timestamp</th>\n",
       "      <th>id</th>\n",
       "      <th>price</th>\n",
       "      <th>bedrooms</th>\n",
       "      <th>bathrooms</th>\n",
       "      <th>sqft_living</th>\n",
       "      <th>sqft_lot</th>\n",
       "      <th>floors</th>\n",
       "      <th>waterfront</th>\n",
       "      <th>view</th>\n",
       "      <th>condition</th>\n",
       "      <th>grade</th>\n",
       "      <th>sqft_above</th>\n",
       "      <th>sqft_basement</th>\n",
       "    </tr>\n",
       "  </thead>\n",
       "  <tbody>\n",
       "    <tr>\n",
       "      <th>0</th>\n",
       "      <td>2014-01-06 00:00:00+00:00</td>\n",
       "      <td>3524039060</td>\n",
       "      <td>250000</td>\n",
       "      <td>1</td>\n",
       "      <td>1.00</td>\n",
       "      <td>750</td>\n",
       "      <td>4000</td>\n",
       "      <td>1.0</td>\n",
       "      <td>0</td>\n",
       "      <td>0</td>\n",
       "      <td>3</td>\n",
       "      <td>6</td>\n",
       "      <td>750</td>\n",
       "      <td>0</td>\n",
       "    </tr>\n",
       "    <tr>\n",
       "      <th>1</th>\n",
       "      <td>2014-01-06 00:00:00+00:00</td>\n",
       "      <td>1138010520</td>\n",
       "      <td>459000</td>\n",
       "      <td>3</td>\n",
       "      <td>1.75</td>\n",
       "      <td>1620</td>\n",
       "      <td>7330</td>\n",
       "      <td>1.0</td>\n",
       "      <td>0</td>\n",
       "      <td>0</td>\n",
       "      <td>4</td>\n",
       "      <td>7</td>\n",
       "      <td>1090</td>\n",
       "      <td>530</td>\n",
       "    </tr>\n",
       "    <tr>\n",
       "      <th>2</th>\n",
       "      <td>2014-01-06 00:00:00+00:00</td>\n",
       "      <td>8643200055</td>\n",
       "      <td>243000</td>\n",
       "      <td>3</td>\n",
       "      <td>1.75</td>\n",
       "      <td>1790</td>\n",
       "      <td>12000</td>\n",
       "      <td>1.0</td>\n",
       "      <td>0</td>\n",
       "      <td>0</td>\n",
       "      <td>3</td>\n",
       "      <td>7</td>\n",
       "      <td>1040</td>\n",
       "      <td>750</td>\n",
       "    </tr>\n",
       "    <tr>\n",
       "      <th>3</th>\n",
       "      <td>2014-01-06 00:00:00+00:00</td>\n",
       "      <td>540100056</td>\n",
       "      <td>843500</td>\n",
       "      <td>4</td>\n",
       "      <td>2.00</td>\n",
       "      <td>2630</td>\n",
       "      <td>16475</td>\n",
       "      <td>2.0</td>\n",
       "      <td>0</td>\n",
       "      <td>0</td>\n",
       "      <td>4</td>\n",
       "      <td>8</td>\n",
       "      <td>2630</td>\n",
       "      <td>0</td>\n",
       "    </tr>\n",
       "    <tr>\n",
       "      <th>4</th>\n",
       "      <td>2014-01-06 00:00:00+00:00</td>\n",
       "      <td>8655000070</td>\n",
       "      <td>1600000</td>\n",
       "      <td>5</td>\n",
       "      <td>3.00</td>\n",
       "      <td>3640</td>\n",
       "      <td>8239</td>\n",
       "      <td>2.0</td>\n",
       "      <td>0</td>\n",
       "      <td>3</td>\n",
       "      <td>3</td>\n",
       "      <td>10</td>\n",
       "      <td>2540</td>\n",
       "      <td>1100</td>\n",
       "    </tr>\n",
       "  </tbody>\n",
       "</table>\n",
       "</div>"
      ],
      "text/plain": [
       "            event_timestamp          id    price  bedrooms  bathrooms  \\\n",
       "0 2014-01-06 00:00:00+00:00  3524039060   250000         1       1.00   \n",
       "1 2014-01-06 00:00:00+00:00  1138010520   459000         3       1.75   \n",
       "2 2014-01-06 00:00:00+00:00  8643200055   243000         3       1.75   \n",
       "3 2014-01-06 00:00:00+00:00   540100056   843500         4       2.00   \n",
       "4 2014-01-06 00:00:00+00:00  8655000070  1600000         5       3.00   \n",
       "\n",
       "   sqft_living  sqft_lot  floors  waterfront  view  condition  grade  \\\n",
       "0          750      4000     1.0           0     0          3      6   \n",
       "1         1620      7330     1.0           0     0          4      7   \n",
       "2         1790     12000     1.0           0     0          3      7   \n",
       "3         2630     16475     2.0           0     0          4      8   \n",
       "4         3640      8239     2.0           0     3          3     10   \n",
       "\n",
       "   sqft_above  sqft_basement  \n",
       "0         750              0  \n",
       "1        1090            530  \n",
       "2        1040            750  \n",
       "3        2630              0  \n",
       "4        2540           1100  "
      ]
     },
     "execution_count": 25,
     "metadata": {},
     "output_type": "execute_result"
    }
   ],
   "source": [
    "training_df.head()"
   ]
  },
  {
   "cell_type": "markdown",
   "metadata": {},
   "source": [
    "Once we have retrieved the complete training dataset, we can:\n",
    "\n",
    "- Drop timestamp columns and the `id` column.\n",
    "- Encode categorical features (if any).\n",
    "- Split the training dataframe into a train, validation, and test set."
   ]
  },
  {
   "cell_type": "code",
   "execution_count": 26,
   "metadata": {},
   "outputs": [],
   "source": [
    "# Building a model with training data.\n",
    "from joblib import dump, load\n",
    "from sklearn.linear_model import LinearRegression"
   ]
  },
  {
   "cell_type": "code",
   "execution_count": 27,
   "metadata": {},
   "outputs": [],
   "source": [
    "# Removing the unnecessary columns and splitting the data into Dependent and Independent Features.\n",
    "\n",
    "X_train = training_df.drop([\"event_timestamp\", \"price\", \"id\"], axis=1)\n",
    "y_train = training_df[\"price\"]"
   ]
  },
  {
   "cell_type": "code",
   "execution_count": 28,
   "metadata": {},
   "outputs": [
    {
     "data": {
      "text/html": [
       "<div>\n",
       "<style scoped>\n",
       "    .dataframe tbody tr th:only-of-type {\n",
       "        vertical-align: middle;\n",
       "    }\n",
       "\n",
       "    .dataframe tbody tr th {\n",
       "        vertical-align: top;\n",
       "    }\n",
       "\n",
       "    .dataframe thead th {\n",
       "        text-align: right;\n",
       "    }\n",
       "</style>\n",
       "<table border=\"1\" class=\"dataframe\">\n",
       "  <thead>\n",
       "    <tr style=\"text-align: right;\">\n",
       "      <th></th>\n",
       "      <th>bedrooms</th>\n",
       "      <th>bathrooms</th>\n",
       "      <th>sqft_living</th>\n",
       "      <th>sqft_lot</th>\n",
       "      <th>floors</th>\n",
       "      <th>waterfront</th>\n",
       "      <th>view</th>\n",
       "      <th>condition</th>\n",
       "      <th>grade</th>\n",
       "      <th>sqft_above</th>\n",
       "      <th>sqft_basement</th>\n",
       "    </tr>\n",
       "  </thead>\n",
       "  <tbody>\n",
       "    <tr>\n",
       "      <th>0</th>\n",
       "      <td>1</td>\n",
       "      <td>1.00</td>\n",
       "      <td>750</td>\n",
       "      <td>4000</td>\n",
       "      <td>1.0</td>\n",
       "      <td>0</td>\n",
       "      <td>0</td>\n",
       "      <td>3</td>\n",
       "      <td>6</td>\n",
       "      <td>750</td>\n",
       "      <td>0</td>\n",
       "    </tr>\n",
       "    <tr>\n",
       "      <th>1</th>\n",
       "      <td>3</td>\n",
       "      <td>1.75</td>\n",
       "      <td>1620</td>\n",
       "      <td>7330</td>\n",
       "      <td>1.0</td>\n",
       "      <td>0</td>\n",
       "      <td>0</td>\n",
       "      <td>4</td>\n",
       "      <td>7</td>\n",
       "      <td>1090</td>\n",
       "      <td>530</td>\n",
       "    </tr>\n",
       "    <tr>\n",
       "      <th>2</th>\n",
       "      <td>3</td>\n",
       "      <td>1.75</td>\n",
       "      <td>1790</td>\n",
       "      <td>12000</td>\n",
       "      <td>1.0</td>\n",
       "      <td>0</td>\n",
       "      <td>0</td>\n",
       "      <td>3</td>\n",
       "      <td>7</td>\n",
       "      <td>1040</td>\n",
       "      <td>750</td>\n",
       "    </tr>\n",
       "    <tr>\n",
       "      <th>3</th>\n",
       "      <td>4</td>\n",
       "      <td>2.00</td>\n",
       "      <td>2630</td>\n",
       "      <td>16475</td>\n",
       "      <td>2.0</td>\n",
       "      <td>0</td>\n",
       "      <td>0</td>\n",
       "      <td>4</td>\n",
       "      <td>8</td>\n",
       "      <td>2630</td>\n",
       "      <td>0</td>\n",
       "    </tr>\n",
       "    <tr>\n",
       "      <th>4</th>\n",
       "      <td>5</td>\n",
       "      <td>3.00</td>\n",
       "      <td>3640</td>\n",
       "      <td>8239</td>\n",
       "      <td>2.0</td>\n",
       "      <td>0</td>\n",
       "      <td>3</td>\n",
       "      <td>3</td>\n",
       "      <td>10</td>\n",
       "      <td>2540</td>\n",
       "      <td>1100</td>\n",
       "    </tr>\n",
       "  </tbody>\n",
       "</table>\n",
       "</div>"
      ],
      "text/plain": [
       "   bedrooms  bathrooms  sqft_living  sqft_lot  floors  waterfront  view  \\\n",
       "0         1       1.00          750      4000     1.0           0     0   \n",
       "1         3       1.75         1620      7330     1.0           0     0   \n",
       "2         3       1.75         1790     12000     1.0           0     0   \n",
       "3         4       2.00         2630     16475     2.0           0     0   \n",
       "4         5       3.00         3640      8239     2.0           0     3   \n",
       "\n",
       "   condition  grade  sqft_above  sqft_basement  \n",
       "0          3      6         750              0  \n",
       "1          4      7        1090            530  \n",
       "2          3      7        1040            750  \n",
       "3          4      8        2630              0  \n",
       "4          3     10        2540           1100  "
      ]
     },
     "execution_count": 28,
     "metadata": {},
     "output_type": "execute_result"
    }
   ],
   "source": [
    "X_train.head()"
   ]
  },
  {
   "cell_type": "code",
   "execution_count": 29,
   "metadata": {},
   "outputs": [
    {
     "data": {
      "text/plain": [
       "['house_price_predict_local.bin']"
      ]
     },
     "execution_count": 29,
     "metadata": {},
     "output_type": "execute_result"
    }
   ],
   "source": [
    "# Building a model with training data.\n",
    "\n",
    "rfc = LinearRegression()\n",
    "rfc.fit(X_train, y_train)\n",
    "dump(rfc, \"house_price_predict_local.bin\")"
   ]
  },
  {
   "cell_type": "markdown",
   "metadata": {},
   "source": [
    "Before we can make online predictions with our DriverStats model, we must populate our online store with feature values. To load features into the online store, we use `publish_table` function:"
   ]
  },
  {
   "cell_type": "code",
   "execution_count": 30,
   "metadata": {},
   "outputs": [
    {
     "name": "stdout",
     "output_type": "stream",
     "text": [
      "Materializing \u001b[1m\u001b[32m1\u001b[0m feature views from \u001b[1m\u001b[32m2014-01-01 00:00:00+00:00\u001b[0m to \u001b[1m\u001b[32m2016-05-01 00:00:00+00:00\u001b[0m into the \u001b[1m\u001b[32mredis\u001b[0m online store.\n",
      "\n"
     ]
    }
   ],
   "source": [
    "# Populating the latest features into Online store.\n",
    "# Features will get materialized that are in between the time period.\n",
    "\n",
    "from datetime import datetime\n",
    "\n",
    "fs.publish_table(\n",
    "    start_ts = datetime(2014, 1, 1), # Give a start date\n",
    "    end_ts = datetime(2016, 5, 1) # End date.\n",
    ")"
   ]
  },
  {
   "cell_type": "markdown",
   "metadata": {},
   "source": [
    "This function will load features from our `offline store` from `start_date` up to the `end_date`. The `publish_table` function can be repeatedly called as more data becomes available in order to keep the online store fresh."
   ]
  },
  {
   "cell_type": "markdown",
   "metadata": {},
   "source": [
    "## Fetching a Feature Vector at low latency.\n",
    "### Now we have the test data to make a prediction."
   ]
  },
  {
   "cell_type": "code",
   "execution_count": 31,
   "metadata": {},
   "outputs": [],
   "source": [
    "# Getting the Online features by using the entity keys.\n",
    "\n",
    "ids = [540100056,1138010520,3524039060]\n",
    "test = fs.get_online_features(\n",
    "    entity_rows=[{\"id\": id} for id in ids], # Entity keys \n",
    "    feature_view=[\"house_price_prediction_local\"], # Feature View name\n",
    "    features=cols, # Columns\n",
    ").to_df()\n"
   ]
  },
  {
   "cell_type": "code",
   "execution_count": 32,
   "metadata": {},
   "outputs": [
    {
     "data": {
      "text/html": [
       "<div>\n",
       "<style scoped>\n",
       "    .dataframe tbody tr th:only-of-type {\n",
       "        vertical-align: middle;\n",
       "    }\n",
       "\n",
       "    .dataframe tbody tr th {\n",
       "        vertical-align: top;\n",
       "    }\n",
       "\n",
       "    .dataframe thead th {\n",
       "        text-align: right;\n",
       "    }\n",
       "</style>\n",
       "<table border=\"1\" class=\"dataframe\">\n",
       "  <thead>\n",
       "    <tr style=\"text-align: right;\">\n",
       "      <th></th>\n",
       "      <th>bedrooms</th>\n",
       "      <th>bathrooms</th>\n",
       "      <th>sqft_living</th>\n",
       "      <th>sqft_lot</th>\n",
       "      <th>floors</th>\n",
       "      <th>waterfront</th>\n",
       "      <th>view</th>\n",
       "      <th>condition</th>\n",
       "      <th>grade</th>\n",
       "      <th>sqft_above</th>\n",
       "      <th>sqft_basement</th>\n",
       "      <th>id</th>\n",
       "    </tr>\n",
       "  </thead>\n",
       "  <tbody>\n",
       "    <tr>\n",
       "      <th>0</th>\n",
       "      <td>4.0</td>\n",
       "      <td>2.00</td>\n",
       "      <td>2630.0</td>\n",
       "      <td>16475.0</td>\n",
       "      <td>2.0</td>\n",
       "      <td>0.0</td>\n",
       "      <td>0.0</td>\n",
       "      <td>4.0</td>\n",
       "      <td>8.0</td>\n",
       "      <td>2630.0</td>\n",
       "      <td>0.0</td>\n",
       "      <td>540100056</td>\n",
       "    </tr>\n",
       "    <tr>\n",
       "      <th>1</th>\n",
       "      <td>3.0</td>\n",
       "      <td>1.75</td>\n",
       "      <td>1620.0</td>\n",
       "      <td>7330.0</td>\n",
       "      <td>1.0</td>\n",
       "      <td>0.0</td>\n",
       "      <td>0.0</td>\n",
       "      <td>4.0</td>\n",
       "      <td>7.0</td>\n",
       "      <td>1090.0</td>\n",
       "      <td>530.0</td>\n",
       "      <td>1138010520</td>\n",
       "    </tr>\n",
       "    <tr>\n",
       "      <th>2</th>\n",
       "      <td>1.0</td>\n",
       "      <td>1.00</td>\n",
       "      <td>750.0</td>\n",
       "      <td>4000.0</td>\n",
       "      <td>1.0</td>\n",
       "      <td>0.0</td>\n",
       "      <td>0.0</td>\n",
       "      <td>3.0</td>\n",
       "      <td>6.0</td>\n",
       "      <td>750.0</td>\n",
       "      <td>0.0</td>\n",
       "      <td>3524039060</td>\n",
       "    </tr>\n",
       "  </tbody>\n",
       "</table>\n",
       "</div>"
      ],
      "text/plain": [
       "   bedrooms  bathrooms  sqft_living  sqft_lot  floors  waterfront  view  \\\n",
       "0       4.0       2.00       2630.0   16475.0     2.0         0.0   0.0   \n",
       "1       3.0       1.75       1620.0    7330.0     1.0         0.0   0.0   \n",
       "2       1.0       1.00        750.0    4000.0     1.0         0.0   0.0   \n",
       "\n",
       "   condition  grade  sqft_above  sqft_basement          id  \n",
       "0        4.0    8.0      2630.0            0.0   540100056  \n",
       "1        4.0    7.0      1090.0          530.0  1138010520  \n",
       "2        3.0    6.0       750.0            0.0  3524039060  "
      ]
     },
     "execution_count": 32,
     "metadata": {},
     "output_type": "execute_result"
    }
   ],
   "source": [
    "# Test Dataset.\n",
    "test.head()"
   ]
  },
  {
   "cell_type": "code",
   "execution_count": 33,
   "metadata": {},
   "outputs": [
    {
     "data": {
      "text/plain": [
       "11"
      ]
     },
     "execution_count": 33,
     "metadata": {},
     "output_type": "execute_result"
    }
   ],
   "source": [
    "len(X_train.columns)"
   ]
  },
  {
   "cell_type": "code",
   "execution_count": 34,
   "metadata": {},
   "outputs": [
    {
     "data": {
      "text/plain": [
       "12"
      ]
     },
     "execution_count": 34,
     "metadata": {},
     "output_type": "execute_result"
    }
   ],
   "source": [
    "len(test.columns)"
   ]
  },
  {
   "cell_type": "code",
   "execution_count": 35,
   "metadata": {},
   "outputs": [
    {
     "data": {
      "text/plain": [
       "array([668436.10486792, 426522.67860638, 172935.5465954 ])"
      ]
     },
     "execution_count": 35,
     "metadata": {},
     "output_type": "execute_result"
    }
   ],
   "source": [
    "# Loading the model and making predictions.\n",
    "\n",
    "model = load(\"house_price_predict_local.bin\")\n",
    "model.predict(test.drop(\"id\", axis=1))"
   ]
  }
 ],
 "metadata": {
  "interpreter": {
   "hash": "2f9d72a65473bded2be97919dafb62541681d663e24ff59994d15fe626c568e4"
  },
  "kernelspec": {
   "display_name": "Python 3 (ipykernel)",
   "language": "python",
   "name": "python3"
  },
  "language_info": {
   "codemirror_mode": {
    "name": "ipython",
    "version": 3
   },
   "file_extension": ".py",
   "mimetype": "text/x-python",
   "name": "python",
   "nbconvert_exporter": "python",
   "pygments_lexer": "ipython3",
   "version": "3.8.6"
  }
 },
 "nbformat": 4,
 "nbformat_minor": 4
}
