{
 "cells": [
  {
   "cell_type": "markdown",
   "metadata": {},
   "source": [
    "## Data Frame as Batch Source for Kfs"
   ]
  },
  {
   "cell_type": "markdown",
   "metadata": {},
   "source": [
    "## Use case: Diabetes identification.\n",
    "### Overview \n",
    "#### Predictiong a patinet has a chance to get diabetes based on their information Like, their glucose levels, blood pressure etc."
   ]
  },
  {
   "cell_type": "markdown",
   "metadata": {},
   "source": [
    "#### A user Can provide their data as a Data Frame, Pandas and Spark both data frames can be supported,"
   ]
  },
  {
   "cell_type": "code",
   "execution_count": 1,
   "metadata": {},
   "outputs": [],
   "source": [
    "# Import the FeatureStore functionality to initialize the FeatureStore.\n",
    "\n",
    "from katonic.fs.feature_store import FeatureStore\n",
    "\n",
    "fs = FeatureStore(\n",
    "    user_name=\"user\",\n",
    "    project_name=\"diatbetes_prediction\",\n",
    "    description=\"testing a dataframe source\",\n",
    ")"
   ]
  },
  {
   "cell_type": "code",
   "execution_count": 3,
   "metadata": {},
   "outputs": [
    {
     "data": {
      "text/html": [
       "<div>\n",
       "<style scoped>\n",
       "    .dataframe tbody tr th:only-of-type {\n",
       "        vertical-align: middle;\n",
       "    }\n",
       "\n",
       "    .dataframe tbody tr th {\n",
       "        vertical-align: top;\n",
       "    }\n",
       "\n",
       "    .dataframe thead th {\n",
       "        text-align: right;\n",
       "    }\n",
       "</style>\n",
       "<table border=\"1\" class=\"dataframe\">\n",
       "  <thead>\n",
       "    <tr style=\"text-align: right;\">\n",
       "      <th></th>\n",
       "      <th>patient_id</th>\n",
       "      <th>event_timestamp</th>\n",
       "      <th>pregnancies</th>\n",
       "      <th>glucose</th>\n",
       "      <th>blood_pressure</th>\n",
       "      <th>skin_thickness</th>\n",
       "      <th>insulin</th>\n",
       "      <th>bmi</th>\n",
       "      <th>diabetes_pedigree_function</th>\n",
       "      <th>age</th>\n",
       "      <th>outcome</th>\n",
       "    </tr>\n",
       "  </thead>\n",
       "  <tbody>\n",
       "    <tr>\n",
       "      <th>0</th>\n",
       "      <td>100198</td>\n",
       "      <td>2021-10-17 01:00:00+00:00</td>\n",
       "      <td>6</td>\n",
       "      <td>148</td>\n",
       "      <td>72</td>\n",
       "      <td>35</td>\n",
       "      <td>0</td>\n",
       "      <td>33.6</td>\n",
       "      <td>0.627</td>\n",
       "      <td>50</td>\n",
       "      <td>1</td>\n",
       "    </tr>\n",
       "    <tr>\n",
       "      <th>1</th>\n",
       "      <td>100643</td>\n",
       "      <td>2021-10-17 02:00:00+00:00</td>\n",
       "      <td>1</td>\n",
       "      <td>85</td>\n",
       "      <td>66</td>\n",
       "      <td>29</td>\n",
       "      <td>0</td>\n",
       "      <td>26.6</td>\n",
       "      <td>0.351</td>\n",
       "      <td>31</td>\n",
       "      <td>0</td>\n",
       "    </tr>\n",
       "    <tr>\n",
       "      <th>2</th>\n",
       "      <td>100756</td>\n",
       "      <td>2021-10-17 03:00:00+00:00</td>\n",
       "      <td>8</td>\n",
       "      <td>183</td>\n",
       "      <td>64</td>\n",
       "      <td>0</td>\n",
       "      <td>0</td>\n",
       "      <td>23.3</td>\n",
       "      <td>0.672</td>\n",
       "      <td>32</td>\n",
       "      <td>1</td>\n",
       "    </tr>\n",
       "    <tr>\n",
       "      <th>3</th>\n",
       "      <td>101595</td>\n",
       "      <td>2021-10-17 04:00:00+00:00</td>\n",
       "      <td>1</td>\n",
       "      <td>89</td>\n",
       "      <td>66</td>\n",
       "      <td>23</td>\n",
       "      <td>94</td>\n",
       "      <td>28.1</td>\n",
       "      <td>0.167</td>\n",
       "      <td>21</td>\n",
       "      <td>0</td>\n",
       "    </tr>\n",
       "    <tr>\n",
       "      <th>4</th>\n",
       "      <td>101653</td>\n",
       "      <td>2021-10-17 05:00:00+00:00</td>\n",
       "      <td>0</td>\n",
       "      <td>137</td>\n",
       "      <td>40</td>\n",
       "      <td>35</td>\n",
       "      <td>168</td>\n",
       "      <td>43.1</td>\n",
       "      <td>2.288</td>\n",
       "      <td>33</td>\n",
       "      <td>1</td>\n",
       "    </tr>\n",
       "  </tbody>\n",
       "</table>\n",
       "</div>"
      ],
      "text/plain": [
       "   patient_id            event_timestamp  pregnancies  glucose  \\\n",
       "0      100198  2021-10-17 01:00:00+00:00            6      148   \n",
       "1      100643  2021-10-17 02:00:00+00:00            1       85   \n",
       "2      100756  2021-10-17 03:00:00+00:00            8      183   \n",
       "3      101595  2021-10-17 04:00:00+00:00            1       89   \n",
       "4      101653  2021-10-17 05:00:00+00:00            0      137   \n",
       "\n",
       "   blood_pressure  skin_thickness  insulin   bmi  diabetes_pedigree_function  \\\n",
       "0              72              35        0  33.6                       0.627   \n",
       "1              66              29        0  26.6                       0.351   \n",
       "2              64               0        0  23.3                       0.672   \n",
       "3              66              23       94  28.1                       0.167   \n",
       "4              40              35      168  43.1                       2.288   \n",
       "\n",
       "   age  outcome  \n",
       "0   50        1  \n",
       "1   31        0  \n",
       "2   32        1  \n",
       "3   21        0  \n",
       "4   33        1  "
      ]
     },
     "execution_count": 3,
     "metadata": {},
     "output_type": "execute_result"
    }
   ],
   "source": [
    "import pandas as pd\n",
    "data = pd.read_csv(\"datasets/diabetes.csv\")\n",
    "data.head()"
   ]
  },
  {
   "cell_type": "code",
   "execution_count": 4,
   "metadata": {},
   "outputs": [],
   "source": [
    "# Import some more neccessary Functions.\n",
    "\n",
    "from katonic.fs.entities import Entity, FeatureView\n",
    "from katonic.fs.value_type import ValueType\n",
    "from katonic.fs.core.offline_stores import DataFrameSource\n",
    "\n",
    "# Entity\n",
    "entity = Entity(name=\"patient_id\", value_type=ValueType.STRING)"
   ]
  },
  {
   "cell_type": "code",
   "execution_count": 7,
   "metadata": {},
   "outputs": [],
   "source": [
    "batch_source = DataFrameSource(\n",
    "        df=data, # Provide your dataframe \n",
    "        event_timestamp_column=\"event_timestamp\", # Event Timestamp \n",
    "    )"
   ]
  },
  {
   "cell_type": "code",
   "execution_count": 8,
   "metadata": {},
   "outputs": [],
   "source": [
    "cols = [\"age\", \"bmi\",\"glucose\", \"blood_pressure\", \"insulin\", \"diabetes_pedigree_function\"]"
   ]
  },
  {
   "cell_type": "code",
   "execution_count": 9,
   "metadata": {},
   "outputs": [],
   "source": [
    "# Feature View\n",
    "\n",
    "large_data_stats_view  = FeatureView(\n",
    "    name=\"diabetes_prediction\", # Feature View name\n",
    "    entities=[\"patient_id\"], # Entity Key\n",
    "    ttl='2d', # ttl for your feature view i.e, Hours, Days, Months.\n",
    "    features=cols, # Columns you want in Feature Store\n",
    "    batch_source=batch_source,\n",
    ")"
   ]
  },
  {
   "cell_type": "code",
   "execution_count": 10,
   "metadata": {},
   "outputs": [
    {
     "name": "stdout",
     "output_type": "stream",
     "text": [
      "Registered entity \u001b[1m\u001b[32mpatient_id\u001b[0m\n",
      "Registered feature view \u001b[1m\u001b[32mdiabetes_prediction\u001b[0m\n",
      "Deploying infrastructure for \u001b[1m\u001b[32mdiabetes_prediction\u001b[0m\n",
      "CPU times: user 10.2 ms, sys: 0 ns, total: 10.2 ms\n",
      "Wall time: 56.6 ms\n"
     ]
    }
   ],
   "source": [
    "%%time\n",
    "fs.write_table([entity, large_data_stats_view])"
   ]
  },
  {
   "cell_type": "code",
   "execution_count": 12,
   "metadata": {},
   "outputs": [],
   "source": [
    "import pandas as pd\n",
    "\n",
    "entity_df = pd.read_csv(\"datasets/diabetes_entity_df.csv\") #Reading the Entity Dataframe.\n",
    "entity_df[\"event_timestamp\"] = pd.to_datetime(entity_df[\"event_timestamp\"]) # Make sure the timestamp data type is accurate."
   ]
  },
  {
   "cell_type": "code",
   "execution_count": 13,
   "metadata": {},
   "outputs": [
    {
     "name": "stdout",
     "output_type": "stream",
     "text": [
      "CPU times: user 28.2 ms, sys: 320 µs, total: 28.6 ms\n",
      "Wall time: 36.5 ms\n"
     ]
    }
   ],
   "source": [
    "%%time\n",
    "training_df = fs.get_historical_features(\n",
    "    entity_df = entity_df, # Entity Data Frame.\n",
    "    feature_view = [\"diabetes_prediction\"], # Feature view name\n",
    "    features = cols # Columns that we want to retrieve\n",
    ").to_df()"
   ]
  },
  {
   "cell_type": "code",
   "execution_count": 14,
   "metadata": {},
   "outputs": [
    {
     "data": {
      "text/html": [
       "<div>\n",
       "<style scoped>\n",
       "    .dataframe tbody tr th:only-of-type {\n",
       "        vertical-align: middle;\n",
       "    }\n",
       "\n",
       "    .dataframe tbody tr th {\n",
       "        vertical-align: top;\n",
       "    }\n",
       "\n",
       "    .dataframe thead th {\n",
       "        text-align: right;\n",
       "    }\n",
       "</style>\n",
       "<table border=\"1\" class=\"dataframe\">\n",
       "  <thead>\n",
       "    <tr style=\"text-align: right;\">\n",
       "      <th></th>\n",
       "      <th>event_timestamp</th>\n",
       "      <th>patient_id</th>\n",
       "      <th>Outcome</th>\n",
       "      <th>age</th>\n",
       "      <th>bmi</th>\n",
       "      <th>glucose</th>\n",
       "      <th>blood_pressure</th>\n",
       "      <th>insulin</th>\n",
       "      <th>diabetes_pedigree_function</th>\n",
       "    </tr>\n",
       "  </thead>\n",
       "  <tbody>\n",
       "    <tr>\n",
       "      <th>0</th>\n",
       "      <td>2021-04-12 07:00:00+00:00</td>\n",
       "      <td>258594</td>\n",
       "      <td>1</td>\n",
       "      <td>59</td>\n",
       "      <td>23.5</td>\n",
       "      <td>194</td>\n",
       "      <td>78</td>\n",
       "      <td>0</td>\n",
       "      <td>0.129</td>\n",
       "    </tr>\n",
       "    <tr>\n",
       "      <th>1</th>\n",
       "      <td>2021-04-12 07:00:00+00:00</td>\n",
       "      <td>437014</td>\n",
       "      <td>1</td>\n",
       "      <td>40</td>\n",
       "      <td>33.7</td>\n",
       "      <td>115</td>\n",
       "      <td>60</td>\n",
       "      <td>0</td>\n",
       "      <td>0.245</td>\n",
       "    </tr>\n",
       "    <tr>\n",
       "      <th>2</th>\n",
       "      <td>2021-10-17 01:00:00+00:00</td>\n",
       "      <td>437078</td>\n",
       "      <td>0</td>\n",
       "      <td>24</td>\n",
       "      <td>34.8</td>\n",
       "      <td>112</td>\n",
       "      <td>80</td>\n",
       "      <td>132</td>\n",
       "      <td>0.217</td>\n",
       "    </tr>\n",
       "    <tr>\n",
       "      <th>3</th>\n",
       "      <td>2021-10-17 01:00:00+00:00</td>\n",
       "      <td>258935</td>\n",
       "      <td>0</td>\n",
       "      <td>31</td>\n",
       "      <td>27.5</td>\n",
       "      <td>129</td>\n",
       "      <td>60</td>\n",
       "      <td>231</td>\n",
       "      <td>0.527</td>\n",
       "    </tr>\n",
       "    <tr>\n",
       "      <th>4</th>\n",
       "      <td>2021-10-17 01:00:00+00:00</td>\n",
       "      <td>100198</td>\n",
       "      <td>1</td>\n",
       "      <td>50</td>\n",
       "      <td>33.6</td>\n",
       "      <td>148</td>\n",
       "      <td>72</td>\n",
       "      <td>0</td>\n",
       "      <td>0.627</td>\n",
       "    </tr>\n",
       "  </tbody>\n",
       "</table>\n",
       "</div>"
      ],
      "text/plain": [
       "            event_timestamp  patient_id  Outcome  age   bmi  glucose  \\\n",
       "0 2021-04-12 07:00:00+00:00      258594        1   59  23.5      194   \n",
       "1 2021-04-12 07:00:00+00:00      437014        1   40  33.7      115   \n",
       "2 2021-10-17 01:00:00+00:00      437078        0   24  34.8      112   \n",
       "3 2021-10-17 01:00:00+00:00      258935        0   31  27.5      129   \n",
       "4 2021-10-17 01:00:00+00:00      100198        1   50  33.6      148   \n",
       "\n",
       "   blood_pressure  insulin  diabetes_pedigree_function  \n",
       "0              78        0                       0.129  \n",
       "1              60        0                       0.245  \n",
       "2              80      132                       0.217  \n",
       "3              60      231                       0.527  \n",
       "4              72        0                       0.627  "
      ]
     },
     "execution_count": 14,
     "metadata": {},
     "output_type": "execute_result"
    }
   ],
   "source": [
    "training_df.head()"
   ]
  },
  {
   "cell_type": "markdown",
   "metadata": {},
   "source": [
    "Once we have retrieved the complete training dataset, we can:\n",
    "\n",
    "- Drop timestamp columns and the `patient_id` column.\n",
    "- Encode categorical features (if any).\n",
    "- Split the training dataframe into a train, validation, and test set."
   ]
  },
  {
   "cell_type": "code",
   "execution_count": 15,
   "metadata": {},
   "outputs": [],
   "source": [
    "# Building a model with training data.\n",
    "from joblib import load, dump\n",
    "from sklearn.tree import DecisionTreeClassifier"
   ]
  },
  {
   "cell_type": "code",
   "execution_count": 16,
   "metadata": {},
   "outputs": [],
   "source": [
    "X_train = training_df.drop([\"event_timestamp\",\"patient_id\",\"Outcome\"], axis=1)\n",
    "y_train = training_df[\"Outcome\"]"
   ]
  },
  {
   "cell_type": "code",
   "execution_count": 17,
   "metadata": {},
   "outputs": [
    {
     "data": {
      "text/html": [
       "<div>\n",
       "<style scoped>\n",
       "    .dataframe tbody tr th:only-of-type {\n",
       "        vertical-align: middle;\n",
       "    }\n",
       "\n",
       "    .dataframe tbody tr th {\n",
       "        vertical-align: top;\n",
       "    }\n",
       "\n",
       "    .dataframe thead th {\n",
       "        text-align: right;\n",
       "    }\n",
       "</style>\n",
       "<table border=\"1\" class=\"dataframe\">\n",
       "  <thead>\n",
       "    <tr style=\"text-align: right;\">\n",
       "      <th></th>\n",
       "      <th>age</th>\n",
       "      <th>bmi</th>\n",
       "      <th>glucose</th>\n",
       "      <th>blood_pressure</th>\n",
       "      <th>insulin</th>\n",
       "      <th>diabetes_pedigree_function</th>\n",
       "    </tr>\n",
       "  </thead>\n",
       "  <tbody>\n",
       "    <tr>\n",
       "      <th>0</th>\n",
       "      <td>59</td>\n",
       "      <td>23.5</td>\n",
       "      <td>194</td>\n",
       "      <td>78</td>\n",
       "      <td>0</td>\n",
       "      <td>0.129</td>\n",
       "    </tr>\n",
       "    <tr>\n",
       "      <th>1</th>\n",
       "      <td>40</td>\n",
       "      <td>33.7</td>\n",
       "      <td>115</td>\n",
       "      <td>60</td>\n",
       "      <td>0</td>\n",
       "      <td>0.245</td>\n",
       "    </tr>\n",
       "    <tr>\n",
       "      <th>2</th>\n",
       "      <td>24</td>\n",
       "      <td>34.8</td>\n",
       "      <td>112</td>\n",
       "      <td>80</td>\n",
       "      <td>132</td>\n",
       "      <td>0.217</td>\n",
       "    </tr>\n",
       "    <tr>\n",
       "      <th>3</th>\n",
       "      <td>31</td>\n",
       "      <td>27.5</td>\n",
       "      <td>129</td>\n",
       "      <td>60</td>\n",
       "      <td>231</td>\n",
       "      <td>0.527</td>\n",
       "    </tr>\n",
       "    <tr>\n",
       "      <th>4</th>\n",
       "      <td>50</td>\n",
       "      <td>33.6</td>\n",
       "      <td>148</td>\n",
       "      <td>72</td>\n",
       "      <td>0</td>\n",
       "      <td>0.627</td>\n",
       "    </tr>\n",
       "  </tbody>\n",
       "</table>\n",
       "</div>"
      ],
      "text/plain": [
       "   age   bmi  glucose  blood_pressure  insulin  diabetes_pedigree_function\n",
       "0   59  23.5      194              78        0                       0.129\n",
       "1   40  33.7      115              60        0                       0.245\n",
       "2   24  34.8      112              80      132                       0.217\n",
       "3   31  27.5      129              60      231                       0.527\n",
       "4   50  33.6      148              72        0                       0.627"
      ]
     },
     "execution_count": 17,
     "metadata": {},
     "output_type": "execute_result"
    }
   ],
   "source": [
    "X_train.head()"
   ]
  },
  {
   "cell_type": "code",
   "execution_count": 18,
   "metadata": {},
   "outputs": [
    {
     "data": {
      "text/plain": [
       "['diabetes_model.bin']"
      ]
     },
     "execution_count": 18,
     "metadata": {},
     "output_type": "execute_result"
    }
   ],
   "source": [
    "# Building a model with training data.\n",
    "\n",
    "tree = DecisionTreeClassifier()\n",
    "tree.fit(X_train, y_train)\n",
    "dump(tree, \"diabetes_model.bin\")"
   ]
  },
  {
   "cell_type": "code",
   "execution_count": 19,
   "metadata": {},
   "outputs": [
    {
     "name": "stdout",
     "output_type": "stream",
     "text": [
      "Materializing \u001b[1m\u001b[32m1\u001b[0m feature views from \u001b[1m\u001b[32m2021-10-01 00:00:00+00:00\u001b[0m to \u001b[1m\u001b[32m2021-11-01 00:00:00+00:00\u001b[0m into the \u001b[1m\u001b[32mredis\u001b[0m online store.\n",
      "\n"
     ]
    }
   ],
   "source": [
    "from datetime import datetime\n",
    "\n",
    "fs.publish_table(\n",
    "    start_ts=datetime(2021, 10, 1), # Give a start date\n",
    "    end_ts=datetime(2021, 11, 1) # End date.\n",
    ")"
   ]
  },
  {
   "cell_type": "code",
   "execution_count": 20,
   "metadata": {},
   "outputs": [],
   "source": [
    "# Getting the Online features by using the entity keys.\n",
    "\n",
    "patient_ids = [103738, 137959, 170333, 235547]\n",
    "\n",
    "test = fs.get_online_features(\n",
    "    entity_rows=[{\"patient_id\": patient_id} for patient_id in patient_ids], # Entity keys\n",
    "    feature_view=['diabetes_prediction'], # Feature View name\n",
    "    features=cols,\n",
    ").to_df()"
   ]
  },
  {
   "cell_type": "code",
   "execution_count": 21,
   "metadata": {},
   "outputs": [
    {
     "data": {
      "text/html": [
       "<div>\n",
       "<style scoped>\n",
       "    .dataframe tbody tr th:only-of-type {\n",
       "        vertical-align: middle;\n",
       "    }\n",
       "\n",
       "    .dataframe tbody tr th {\n",
       "        vertical-align: top;\n",
       "    }\n",
       "\n",
       "    .dataframe thead th {\n",
       "        text-align: right;\n",
       "    }\n",
       "</style>\n",
       "<table border=\"1\" class=\"dataframe\">\n",
       "  <thead>\n",
       "    <tr style=\"text-align: right;\">\n",
       "      <th></th>\n",
       "      <th>age</th>\n",
       "      <th>bmi</th>\n",
       "      <th>glucose</th>\n",
       "      <th>blood_pressure</th>\n",
       "      <th>insulin</th>\n",
       "      <th>diabetes_pedigree_function</th>\n",
       "      <th>patient_id</th>\n",
       "    </tr>\n",
       "  </thead>\n",
       "  <tbody>\n",
       "    <tr>\n",
       "      <th>0</th>\n",
       "      <td>53.0</td>\n",
       "      <td>30.5</td>\n",
       "      <td>197.0</td>\n",
       "      <td>70.0</td>\n",
       "      <td>543.0</td>\n",
       "      <td>0.158</td>\n",
       "      <td>103738</td>\n",
       "    </tr>\n",
       "    <tr>\n",
       "      <th>1</th>\n",
       "      <td>26.0</td>\n",
       "      <td>38.5</td>\n",
       "      <td>100.0</td>\n",
       "      <td>68.0</td>\n",
       "      <td>71.0</td>\n",
       "      <td>0.324</td>\n",
       "      <td>137959</td>\n",
       "    </tr>\n",
       "    <tr>\n",
       "      <th>2</th>\n",
       "      <td>22.0</td>\n",
       "      <td>32.5</td>\n",
       "      <td>108.0</td>\n",
       "      <td>52.0</td>\n",
       "      <td>63.0</td>\n",
       "      <td>0.318</td>\n",
       "      <td>170333</td>\n",
       "    </tr>\n",
       "    <tr>\n",
       "      <th>3</th>\n",
       "      <td>63.0</td>\n",
       "      <td>32.4</td>\n",
       "      <td>142.0</td>\n",
       "      <td>80.0</td>\n",
       "      <td>0.0</td>\n",
       "      <td>0.200</td>\n",
       "      <td>235547</td>\n",
       "    </tr>\n",
       "  </tbody>\n",
       "</table>\n",
       "</div>"
      ],
      "text/plain": [
       "    age   bmi  glucose  blood_pressure  insulin  diabetes_pedigree_function  \\\n",
       "0  53.0  30.5    197.0            70.0    543.0                       0.158   \n",
       "1  26.0  38.5    100.0            68.0     71.0                       0.324   \n",
       "2  22.0  32.5    108.0            52.0     63.0                       0.318   \n",
       "3  63.0  32.4    142.0            80.0      0.0                       0.200   \n",
       "\n",
       "   patient_id  \n",
       "0      103738  \n",
       "1      137959  \n",
       "2      170333  \n",
       "3      235547  "
      ]
     },
     "execution_count": 21,
     "metadata": {},
     "output_type": "execute_result"
    }
   ],
   "source": [
    "# Test Dataframe.\n",
    "test.head()"
   ]
  },
  {
   "cell_type": "code",
   "execution_count": 22,
   "metadata": {},
   "outputs": [
    {
     "data": {
      "text/plain": [
       "array([1, 0, 0, 0])"
      ]
     },
     "execution_count": 22,
     "metadata": {},
     "output_type": "execute_result"
    }
   ],
   "source": [
    "# Loading the model and predicting the Out come for test data.\n",
    "model = load(\"diabetes_model.bin\")\n",
    "\n",
    "model.predict(test.drop(\"patient_id\", axis=1))"
   ]
  },
  {
   "cell_type": "code",
   "execution_count": null,
   "metadata": {},
   "outputs": [],
   "source": []
  }
 ],
 "metadata": {
  "interpreter": {
   "hash": "2f9d72a65473bded2be97919dafb62541681d663e24ff59994d15fe626c568e4"
  },
  "kernelspec": {
   "display_name": "Python 3 (ipykernel)",
   "language": "python",
   "name": "python3"
  },
  "language_info": {
   "codemirror_mode": {
    "name": "ipython",
    "version": 3
   },
   "file_extension": ".py",
   "mimetype": "text/x-python",
   "name": "python",
   "nbconvert_exporter": "python",
   "pygments_lexer": "ipython3",
   "version": "3.8.6"
  }
 },
 "nbformat": 4,
 "nbformat_minor": 4
}
