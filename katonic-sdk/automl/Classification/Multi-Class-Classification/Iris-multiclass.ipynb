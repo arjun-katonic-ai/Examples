{
 "cells": [
  {
   "cell_type": "markdown",
   "metadata": {
    "tags": []
   },
   "source": [
    "# Iris flower Classification"
   ]
  },
  {
   "cell_type": "markdown",
   "metadata": {
    "tags": []
   },
   "source": [
    "**Iris flower classification** is a very popular machine learning project. The iris dataset contains three classes of flowers, `Versicolor`, `Setosa`, `Virginica`, and each class contains 4 features, `‘Sepal length’, ‘Sepal width’, ‘Petal length’, ‘Petal width’.` \n",
    "\n",
    "The aim of the iris flower classification is to predict flowers based on their specific features."
   ]
  },
  {
   "cell_type": "markdown",
   "metadata": {
    "tags": []
   },
   "source": [
    "### Imports"
   ]
  },
  {
   "cell_type": "code",
   "execution_count": 1,
   "metadata": {
    "collapsed": true,
    "jupyter": {
     "outputs_hidden": true
    }
   },
   "outputs": [
    {
     "name": "stdout",
     "output_type": "stream",
     "text": [
      "Requirement already satisfied: katonic[ml] in /opt/conda/lib/python3.8/site-packages (1.2)\n",
      "Requirement already satisfied: deprecation<2.2.0,>=2.1.0 in /opt/conda/lib/python3.8/site-packages (from katonic[ml]) (2.1.0)\n",
      "Requirement already satisfied: importlib-metadata==4.8.1 in /opt/conda/lib/python3.8/site-packages (from katonic[ml]) (4.8.1)\n",
      "Requirement already satisfied: colorama in /opt/conda/lib/python3.8/site-packages (from katonic[ml]) (0.4.4)\n",
      "Requirement already satisfied: python-dateutil in /opt/conda/lib/python3.8/site-packages (from katonic[ml]) (2.8.2)\n",
      "Requirement already satisfied: click<8.1.2,>=7.1.1 in /opt/conda/lib/python3.8/site-packages (from katonic[ml]) (8.0.3)\n",
      "Requirement already satisfied: pydantic==1.8.2 in /opt/conda/lib/python3.8/site-packages (from katonic[ml]) (1.8.2)\n",
      "Requirement already satisfied: LunarCalendar>=0.0.9 in /opt/conda/lib/python3.8/site-packages (from katonic[ml]) (0.0.9)\n",
      "Requirement already satisfied: python-dotenv in /opt/conda/lib/python3.8/site-packages (from katonic[ml]) (0.20.0)\n",
      "Requirement already satisfied: parsedatetime in /opt/conda/lib/python3.8/site-packages (from katonic[ml]) (2.6)\n",
      "Requirement already satisfied: markdown>=3.0 in /opt/conda/lib/python3.8/site-packages (from katonic[ml]) (3.3.7)\n",
      "Requirement already satisfied: cron-descriptor in /opt/conda/lib/python3.8/site-packages (from katonic[ml]) (1.2.24)\n",
      "Requirement already satisfied: msgpack<1.1,>=1.0.0 in /opt/conda/lib/python3.8/site-packages (from katonic[ml]) (1.0.4)\n",
      "Requirement already satisfied: pyparsing<4,>=3.0.6 in /opt/conda/lib/python3.8/site-packages (from katonic[ml]) (3.0.9)\n",
      "Requirement already satisfied: holidays==0.10.3 in /opt/conda/lib/python3.8/site-packages (from katonic[ml]) (0.10.3)\n",
      "Requirement already satisfied: zipp==3.5.0 in /opt/conda/lib/python3.8/site-packages (from katonic[ml]) (3.5.0)\n",
      "Requirement already satisfied: pandas<1.4.0,>=1.0.0 in /opt/conda/lib/python3.8/site-packages (from katonic[ml]) (1.3.5)\n",
      "Requirement already satisfied: pyyaml<6,>=5.3 in /opt/conda/lib/python3.8/site-packages (from katonic[ml]) (5.4.1)\n",
      "Requirement already satisfied: typing-extensions<4,>=3.10 in /opt/conda/lib/python3.8/site-packages (from katonic[ml]) (3.10.0.2)\n",
      "Requirement already satisfied: greenlet==1.1.1 in /opt/conda/lib/python3.8/site-packages (from katonic[ml]) (1.1.1)\n",
      "Requirement already satisfied: func-timeout in /opt/conda/lib/python3.8/site-packages (from katonic[ml]) (4.3.5)\n",
      "Requirement already satisfied: python-geohash in /opt/conda/lib/python3.8/site-packages (from katonic[ml]) (0.8.5)\n",
      "Requirement already satisfied: requests<2.26.0,>=2.10.0 in /opt/conda/lib/python3.8/site-packages (from katonic[ml]) (2.25.1)\n",
      "Requirement already satisfied: gunicorn>=20.1.0 in /opt/conda/lib/python3.8/site-packages (from katonic[ml]) (20.1.0)\n",
      "Requirement already satisfied: isodate in /opt/conda/lib/python3.8/site-packages (from katonic[ml]) (0.6.1)\n",
      "Requirement already satisfied: pyarrow<6.1.0,>=6.0.0 in /opt/conda/lib/python3.8/site-packages (from katonic[ml]) (6.0.1)\n",
      "Requirement already satisfied: humanize in /opt/conda/lib/python3.8/site-packages (from katonic[ml]) (4.1.0)\n",
      "Requirement already satisfied: convertdate>=2.1.2 in /opt/conda/lib/python3.8/site-packages (from katonic[ml]) (2.4.0)\n",
      "Requirement already satisfied: certifi<2021.10.8,>=2017.4.17 in /opt/conda/lib/python3.8/site-packages (from katonic[ml]) (2021.5.30)\n",
      "Requirement already satisfied: tqdm>=4.36.1 in /opt/conda/lib/python3.8/site-packages (from katonic[ml]) (4.62.3)\n",
      "Requirement already satisfied: mlflow<1.24.0,>=1.20.0 in /opt/conda/lib/python3.8/site-packages (from katonic[ml]) (1.23.1)\n",
      "Requirement already satisfied: catboost==1.0.3 in /opt/conda/lib/python3.8/site-packages (from katonic[ml]) (1.0.3)\n",
      "Requirement already satisfied: scikit-learn<1.0.2,>=0.24.0 in /opt/conda/lib/python3.8/site-packages (from katonic[ml]) (1.0.1)\n",
      "Requirement already satisfied: lightgbm==3.3.1 in /opt/conda/lib/python3.8/site-packages (from katonic[ml]) (3.3.1)\n",
      "Requirement already satisfied: cmdstanpy==0.9.5 in /opt/conda/lib/python3.8/site-packages (from katonic[ml]) (0.9.5)\n",
      "Requirement already satisfied: xgboost==1.5.0 in /opt/conda/lib/python3.8/site-packages (from katonic[ml]) (1.5.0)\n",
      "Requirement already satisfied: boto3==1.19.12 in /opt/conda/lib/python3.8/site-packages (from katonic[ml]) (1.19.12)\n",
      "Requirement already satisfied: optuna<2.10.0,>=2.8.0 in /opt/conda/lib/python3.8/site-packages (from katonic[ml]) (2.9.1)\n",
      "Requirement already satisfied: numpy<=1.24.0,>=1.19.0 in /opt/conda/lib/python3.8/site-packages (from katonic[ml]) (1.21.4)\n",
      "Requirement already satisfied: seaborn==0.11.2 in /opt/conda/lib/python3.8/site-packages (from katonic[ml]) (0.11.2)\n",
      "Requirement already satisfied: matplotlib<3.4.3,>=3.0.0 in /opt/conda/lib/python3.8/site-packages (from katonic[ml]) (3.4.2)\n",
      "Requirement already satisfied: s3transfer<0.6.0,>=0.5.0 in /opt/conda/lib/python3.8/site-packages (from boto3==1.19.12->katonic[ml]) (0.5.2)\n",
      "Requirement already satisfied: botocore<1.23.0,>=1.22.12 in /opt/conda/lib/python3.8/site-packages (from boto3==1.19.12->katonic[ml]) (1.22.12)\n",
      "Requirement already satisfied: jmespath<1.0.0,>=0.7.1 in /opt/conda/lib/python3.8/site-packages (from boto3==1.19.12->katonic[ml]) (0.10.0)\n",
      "Requirement already satisfied: plotly in /opt/conda/lib/python3.8/site-packages (from catboost==1.0.3->katonic[ml]) (5.8.0)\n",
      "Requirement already satisfied: scipy in /opt/conda/lib/python3.8/site-packages (from catboost==1.0.3->katonic[ml]) (1.8.1)\n",
      "Requirement already satisfied: six in /opt/conda/lib/python3.8/site-packages (from catboost==1.0.3->katonic[ml]) (1.15.0)\n",
      "Requirement already satisfied: graphviz in /opt/conda/lib/python3.8/site-packages (from catboost==1.0.3->katonic[ml]) (0.20)\n",
      "Requirement already satisfied: korean-lunar-calendar in /opt/conda/lib/python3.8/site-packages (from holidays==0.10.3->katonic[ml]) (0.2.1)\n",
      "Requirement already satisfied: wheel in /opt/conda/lib/python3.8/site-packages (from lightgbm==3.3.1->katonic[ml]) (0.37.0)\n",
      "Requirement already satisfied: pymeeus<=1,>=0.3.13 in /opt/conda/lib/python3.8/site-packages (from convertdate>=2.1.2->katonic[ml]) (0.5.11)\n",
      "Requirement already satisfied: packaging in /opt/conda/lib/python3.8/site-packages (from deprecation<2.2.0,>=2.1.0->katonic[ml]) (21.3)\n",
      "Requirement already satisfied: setuptools>=3.0 in /opt/conda/lib/python3.8/site-packages (from gunicorn>=20.1.0->katonic[ml]) (58.0.4)\n",
      "Requirement already satisfied: ephem>=3.7.5.3 in /opt/conda/lib/python3.8/site-packages (from LunarCalendar>=0.0.9->katonic[ml]) (4.1.3)\n",
      "Requirement already satisfied: pytz in /opt/conda/lib/python3.8/site-packages (from LunarCalendar>=0.0.9->katonic[ml]) (2021.3)\n",
      "Requirement already satisfied: cycler>=0.10 in /opt/conda/lib/python3.8/site-packages (from matplotlib<3.4.3,>=3.0.0->katonic[ml]) (0.11.0)\n",
      "Requirement already satisfied: pillow>=6.2.0 in /opt/conda/lib/python3.8/site-packages (from matplotlib<3.4.3,>=3.0.0->katonic[ml]) (9.1.1)\n",
      "Requirement already satisfied: kiwisolver>=1.0.1 in /opt/conda/lib/python3.8/site-packages (from matplotlib<3.4.3,>=3.0.0->katonic[ml]) (1.4.2)\n",
      "Requirement already satisfied: protobuf>=3.7.0 in /opt/conda/lib/python3.8/site-packages (from mlflow<1.24.0,>=1.20.0->katonic[ml]) (3.19.1)\n",
      "Requirement already satisfied: sqlalchemy in /opt/conda/lib/python3.8/site-packages (from mlflow<1.24.0,>=1.20.0->katonic[ml]) (1.4.37)\n",
      "Requirement already satisfied: cloudpickle in /opt/conda/lib/python3.8/site-packages (from mlflow<1.24.0,>=1.20.0->katonic[ml]) (2.0.0)\n",
      "Requirement already satisfied: databricks-cli>=0.8.7 in /opt/conda/lib/python3.8/site-packages (from mlflow<1.24.0,>=1.20.0->katonic[ml]) (0.16.6)\n",
      "Requirement already satisfied: docker>=4.0.0 in /opt/conda/lib/python3.8/site-packages (from mlflow<1.24.0,>=1.20.0->katonic[ml]) (5.0.3)\n",
      "Requirement already satisfied: entrypoints in /opt/conda/lib/python3.8/site-packages (from mlflow<1.24.0,>=1.20.0->katonic[ml]) (0.3)\n",
      "Requirement already satisfied: querystring-parser in /opt/conda/lib/python3.8/site-packages (from mlflow<1.24.0,>=1.20.0->katonic[ml]) (1.2.4)\n",
      "Requirement already satisfied: sqlparse>=0.3.1 in /opt/conda/lib/python3.8/site-packages (from mlflow<1.24.0,>=1.20.0->katonic[ml]) (0.4.2)\n",
      "Requirement already satisfied: gitpython>=2.1.0 in /opt/conda/lib/python3.8/site-packages (from mlflow<1.24.0,>=1.20.0->katonic[ml]) (3.1.27)\n",
      "Requirement already satisfied: prometheus-flask-exporter in /opt/conda/lib/python3.8/site-packages (from mlflow<1.24.0,>=1.20.0->katonic[ml]) (0.20.2)\n",
      "Requirement already satisfied: Flask in /opt/conda/lib/python3.8/site-packages (from mlflow<1.24.0,>=1.20.0->katonic[ml]) (2.1.2)\n",
      "Requirement already satisfied: alembic in /opt/conda/lib/python3.8/site-packages (from mlflow<1.24.0,>=1.20.0->katonic[ml]) (1.8.0)\n",
      "Requirement already satisfied: cliff in /opt/conda/lib/python3.8/site-packages (from optuna<2.10.0,>=2.8.0->katonic[ml]) (3.10.1)\n",
      "Requirement already satisfied: cmaes>=0.8.2 in /opt/conda/lib/python3.8/site-packages (from optuna<2.10.0,>=2.8.0->katonic[ml]) (0.8.2)\n",
      "Requirement already satisfied: colorlog in /opt/conda/lib/python3.8/site-packages (from optuna<2.10.0,>=2.8.0->katonic[ml]) (6.6.0)\n",
      "Requirement already satisfied: chardet<5,>=3.0.2 in /opt/conda/lib/python3.8/site-packages (from requests<2.26.0,>=2.10.0->katonic[ml]) (4.0.0)\n",
      "Requirement already satisfied: urllib3<1.27,>=1.21.1 in /opt/conda/lib/python3.8/site-packages (from requests<2.26.0,>=2.10.0->katonic[ml]) (1.26.7)\n",
      "Requirement already satisfied: idna<3,>=2.5 in /opt/conda/lib/python3.8/site-packages (from requests<2.26.0,>=2.10.0->katonic[ml]) (2.10)\n",
      "Requirement already satisfied: threadpoolctl>=2.0.0 in /opt/conda/lib/python3.8/site-packages (from scikit-learn<1.0.2,>=0.24.0->katonic[ml]) (3.1.0)\n",
      "Requirement already satisfied: joblib>=0.11 in /opt/conda/lib/python3.8/site-packages (from scikit-learn<1.0.2,>=0.24.0->katonic[ml]) (1.1.0)\n",
      "Requirement already satisfied: oauthlib>=3.1.0 in /opt/conda/lib/python3.8/site-packages (from databricks-cli>=0.8.7->mlflow<1.24.0,>=1.20.0->katonic[ml]) (3.1.1)\n",
      "Requirement already satisfied: tabulate>=0.7.7 in /opt/conda/lib/python3.8/site-packages (from databricks-cli>=0.8.7->mlflow<1.24.0,>=1.20.0->katonic[ml]) (0.8.9)\n",
      "Requirement already satisfied: pyjwt>=1.7.0 in /opt/conda/lib/python3.8/site-packages (from databricks-cli>=0.8.7->mlflow<1.24.0,>=1.20.0->katonic[ml]) (2.3.0)\n",
      "Requirement already satisfied: websocket-client>=0.32.0 in /opt/conda/lib/python3.8/site-packages (from docker>=4.0.0->mlflow<1.24.0,>=1.20.0->katonic[ml]) (1.2.1)\n",
      "Requirement already satisfied: gitdb<5,>=4.0.1 in /opt/conda/lib/python3.8/site-packages (from gitpython>=2.1.0->mlflow<1.24.0,>=1.20.0->katonic[ml]) (4.0.9)\n",
      "Requirement already satisfied: Mako in /opt/conda/lib/python3.8/site-packages (from alembic->mlflow<1.24.0,>=1.20.0->katonic[ml]) (1.2.0)\n",
      "Requirement already satisfied: importlib-resources in /opt/conda/lib/python3.8/site-packages (from alembic->mlflow<1.24.0,>=1.20.0->katonic[ml]) (5.4.0)\n",
      "Requirement already satisfied: pbr!=2.1.0,>=2.0.0 in /opt/conda/lib/python3.8/site-packages (from cliff->optuna<2.10.0,>=2.8.0->katonic[ml]) (5.9.0)\n",
      "Requirement already satisfied: stevedore>=2.0.1 in /opt/conda/lib/python3.8/site-packages (from cliff->optuna<2.10.0,>=2.8.0->katonic[ml]) (3.5.0)\n",
      "Requirement already satisfied: autopage>=0.4.0 in /opt/conda/lib/python3.8/site-packages (from cliff->optuna<2.10.0,>=2.8.0->katonic[ml]) (0.5.1)\n",
      "Requirement already satisfied: PrettyTable>=0.7.2 in /opt/conda/lib/python3.8/site-packages (from cliff->optuna<2.10.0,>=2.8.0->katonic[ml]) (3.3.0)\n",
      "Requirement already satisfied: cmd2>=1.0.0 in /opt/conda/lib/python3.8/site-packages (from cliff->optuna<2.10.0,>=2.8.0->katonic[ml]) (2.4.1)\n",
      "Requirement already satisfied: Jinja2>=3.0 in /opt/conda/lib/python3.8/site-packages (from Flask->mlflow<1.24.0,>=1.20.0->katonic[ml]) (3.1.2)\n",
      "Requirement already satisfied: Werkzeug>=2.0 in /opt/conda/lib/python3.8/site-packages (from Flask->mlflow<1.24.0,>=1.20.0->katonic[ml]) (2.1.2)\n",
      "Requirement already satisfied: itsdangerous>=2.0 in /opt/conda/lib/python3.8/site-packages (from Flask->mlflow<1.24.0,>=1.20.0->katonic[ml]) (2.1.2)\n",
      "Requirement already satisfied: tenacity>=6.2.0 in /opt/conda/lib/python3.8/site-packages (from plotly->catboost==1.0.3->katonic[ml]) (8.0.1)\n",
      "Requirement already satisfied: prometheus-client in /opt/conda/lib/python3.8/site-packages (from prometheus-flask-exporter->mlflow<1.24.0,>=1.20.0->katonic[ml]) (0.12.0)\n",
      "Requirement already satisfied: wcwidth>=0.1.7 in /opt/conda/lib/python3.8/site-packages (from cmd2>=1.0.0->cliff->optuna<2.10.0,>=2.8.0->katonic[ml]) (0.2.5)\n",
      "Requirement already satisfied: attrs>=16.3.0 in /opt/conda/lib/python3.8/site-packages (from cmd2>=1.0.0->cliff->optuna<2.10.0,>=2.8.0->katonic[ml]) (20.3.0)\n",
      "Requirement already satisfied: pyperclip>=1.6 in /opt/conda/lib/python3.8/site-packages (from cmd2>=1.0.0->cliff->optuna<2.10.0,>=2.8.0->katonic[ml]) (1.8.2)\n",
      "Requirement already satisfied: smmap<6,>=3.0.1 in /opt/conda/lib/python3.8/site-packages (from gitdb<5,>=4.0.1->gitpython>=2.1.0->mlflow<1.24.0,>=1.20.0->katonic[ml]) (5.0.0)\n",
      "Requirement already satisfied: MarkupSafe>=2.0 in /opt/conda/lib/python3.8/site-packages (from Jinja2>=3.0->Flask->mlflow<1.24.0,>=1.20.0->katonic[ml]) (2.0.1)\n"
     ]
    },
    {
     "name": "stderr",
     "output_type": "stream",
     "text": [
      "WARNING: Running pip as the 'root' user can result in broken permissions and conflicting behaviour with the system package manager. It is recommended to use a virtual environment instead: https://pip.pypa.io/warnings/venv\n",
      "WARNING: You are using pip version 21.3.1; however, version 22.1.2 is available.\n",
      "You should consider upgrading via the '/opt/conda/bin/python -m pip install --upgrade pip' command.\n"
     ]
    },
    {
     "data": {
      "text/plain": [
       "0"
      ]
     },
     "execution_count": 1,
     "metadata": {},
     "output_type": "execute_result"
    }
   ],
   "source": [
    "import os\n",
    "os.system(\"pip install katonic[ml]\")"
   ]
  },
  {
   "cell_type": "code",
   "execution_count": null,
   "metadata": {},
   "outputs": [],
   "source": [
    "import warnings\n",
    "warnings.filterwarnings('ignore')"
   ]
  },
  {
   "cell_type": "code",
   "execution_count": 43,
   "metadata": {
    "tags": [
     "imports"
    ]
   },
   "outputs": [],
   "source": [
    "import pandas as pd\n",
    "import seaborn as sns\n",
    "import matplotlib.pyplot as plt\n",
    "\n",
    "from sklearn.model_selection import train_test_split\n",
    "from sklearn.preprocessing import StandardScaler\n",
    "from sklearn import datasets\n",
    "\n",
    "from katonic.ml.classification import Classifier"
   ]
  },
  {
   "cell_type": "markdown",
   "metadata": {
    "tags": []
   },
   "source": [
    "## Data Prepration"
   ]
  },
  {
   "cell_type": "code",
   "execution_count": 3,
   "metadata": {
    "tags": [
     "block:load_data"
    ]
   },
   "outputs": [],
   "source": [
    "# loading the iris dataset\n",
    "iris = datasets.load_iris()\n",
    "df = pd.DataFrame(data=iris.data, columns=iris.feature_names)"
   ]
  },
  {
   "cell_type": "code",
   "execution_count": 4,
   "metadata": {},
   "outputs": [
    {
     "data": {
      "text/html": [
       "<div>\n",
       "<style scoped>\n",
       "    .dataframe tbody tr th:only-of-type {\n",
       "        vertical-align: middle;\n",
       "    }\n",
       "\n",
       "    .dataframe tbody tr th {\n",
       "        vertical-align: top;\n",
       "    }\n",
       "\n",
       "    .dataframe thead th {\n",
       "        text-align: right;\n",
       "    }\n",
       "</style>\n",
       "<table border=\"1\" class=\"dataframe\">\n",
       "  <thead>\n",
       "    <tr style=\"text-align: right;\">\n",
       "      <th></th>\n",
       "      <th>sepal length (cm)</th>\n",
       "      <th>sepal width (cm)</th>\n",
       "      <th>petal length (cm)</th>\n",
       "      <th>petal width (cm)</th>\n",
       "    </tr>\n",
       "  </thead>\n",
       "  <tbody>\n",
       "    <tr>\n",
       "      <th>0</th>\n",
       "      <td>5.1</td>\n",
       "      <td>3.5</td>\n",
       "      <td>1.4</td>\n",
       "      <td>0.2</td>\n",
       "    </tr>\n",
       "    <tr>\n",
       "      <th>1</th>\n",
       "      <td>4.9</td>\n",
       "      <td>3.0</td>\n",
       "      <td>1.4</td>\n",
       "      <td>0.2</td>\n",
       "    </tr>\n",
       "    <tr>\n",
       "      <th>2</th>\n",
       "      <td>4.7</td>\n",
       "      <td>3.2</td>\n",
       "      <td>1.3</td>\n",
       "      <td>0.2</td>\n",
       "    </tr>\n",
       "    <tr>\n",
       "      <th>3</th>\n",
       "      <td>4.6</td>\n",
       "      <td>3.1</td>\n",
       "      <td>1.5</td>\n",
       "      <td>0.2</td>\n",
       "    </tr>\n",
       "    <tr>\n",
       "      <th>4</th>\n",
       "      <td>5.0</td>\n",
       "      <td>3.6</td>\n",
       "      <td>1.4</td>\n",
       "      <td>0.2</td>\n",
       "    </tr>\n",
       "  </tbody>\n",
       "</table>\n",
       "</div>"
      ],
      "text/plain": [
       "   sepal length (cm)  sepal width (cm)  petal length (cm)  petal width (cm)\n",
       "0                5.1               3.5                1.4               0.2\n",
       "1                4.9               3.0                1.4               0.2\n",
       "2                4.7               3.2                1.3               0.2\n",
       "3                4.6               3.1                1.5               0.2\n",
       "4                5.0               3.6                1.4               0.2"
      ]
     },
     "execution_count": 4,
     "metadata": {},
     "output_type": "execute_result"
    }
   ],
   "source": [
    "df.head()"
   ]
  },
  {
   "cell_type": "code",
   "execution_count": 5,
   "metadata": {},
   "outputs": [],
   "source": [
    "def resumetable(df):\n",
    "    print(f\"Dataset Shape: {df.shape}\")\n",
    "    summary = pd.DataFrame(df.dtypes,columns=['dtypes'])\n",
    "    summary = summary.reset_index()\n",
    "    summary['Name'] = summary['index']\n",
    "    summary = summary[['Name','dtypes']]\n",
    "    summary['Missing'] = df.isnull().sum().values    \n",
    "    summary['Uniques'] = df.nunique().values\n",
    "   \n",
    "    return summary"
   ]
  },
  {
   "cell_type": "code",
   "execution_count": 6,
   "metadata": {},
   "outputs": [
    {
     "name": "stdout",
     "output_type": "stream",
     "text": [
      "Dataset Shape: (150, 4)\n"
     ]
    },
    {
     "data": {
      "text/html": [
       "<div>\n",
       "<style scoped>\n",
       "    .dataframe tbody tr th:only-of-type {\n",
       "        vertical-align: middle;\n",
       "    }\n",
       "\n",
       "    .dataframe tbody tr th {\n",
       "        vertical-align: top;\n",
       "    }\n",
       "\n",
       "    .dataframe thead th {\n",
       "        text-align: right;\n",
       "    }\n",
       "</style>\n",
       "<table border=\"1\" class=\"dataframe\">\n",
       "  <thead>\n",
       "    <tr style=\"text-align: right;\">\n",
       "      <th></th>\n",
       "      <th>Name</th>\n",
       "      <th>dtypes</th>\n",
       "      <th>Missing</th>\n",
       "      <th>Uniques</th>\n",
       "    </tr>\n",
       "  </thead>\n",
       "  <tbody>\n",
       "    <tr>\n",
       "      <th>0</th>\n",
       "      <td>sepal length (cm)</td>\n",
       "      <td>float64</td>\n",
       "      <td>0</td>\n",
       "      <td>35</td>\n",
       "    </tr>\n",
       "    <tr>\n",
       "      <th>1</th>\n",
       "      <td>sepal width (cm)</td>\n",
       "      <td>float64</td>\n",
       "      <td>0</td>\n",
       "      <td>23</td>\n",
       "    </tr>\n",
       "    <tr>\n",
       "      <th>2</th>\n",
       "      <td>petal length (cm)</td>\n",
       "      <td>float64</td>\n",
       "      <td>0</td>\n",
       "      <td>43</td>\n",
       "    </tr>\n",
       "    <tr>\n",
       "      <th>3</th>\n",
       "      <td>petal width (cm)</td>\n",
       "      <td>float64</td>\n",
       "      <td>0</td>\n",
       "      <td>22</td>\n",
       "    </tr>\n",
       "  </tbody>\n",
       "</table>\n",
       "</div>"
      ],
      "text/plain": [
       "                Name   dtypes  Missing  Uniques\n",
       "0  sepal length (cm)  float64        0       35\n",
       "1   sepal width (cm)  float64        0       23\n",
       "2  petal length (cm)  float64        0       43\n",
       "3   petal width (cm)  float64        0       22"
      ]
     },
     "execution_count": 6,
     "metadata": {},
     "output_type": "execute_result"
    }
   ],
   "source": [
    "resumetable(df)"
   ]
  },
  {
   "cell_type": "markdown",
   "metadata": {
    "tags": []
   },
   "source": [
    "### Target data"
   ]
  },
  {
   "cell_type": "markdown",
   "metadata": {
    "tags": []
   },
   "source": [
    "- The target data frame is only one column, and it gives a list of the values 0, 1, and 2. \n",
    "\n",
    "    - 0 is Iris Setosa\n",
    "    - 1 is Iris Versicolour\n",
    "    - 2 is Iris Virginica"
   ]
  },
  {
   "cell_type": "code",
   "execution_count": 7,
   "metadata": {},
   "outputs": [],
   "source": [
    "#put target data into data frame\n",
    "target = pd.DataFrame(iris.target)\n",
    "#Lets rename the column so that we know that these values refer to the target values\n",
    "target = target.rename(columns = {0: 'target'})"
   ]
  },
  {
   "cell_type": "code",
   "execution_count": 8,
   "metadata": {},
   "outputs": [],
   "source": [
    "df = pd.concat([df, target], axis = 1)"
   ]
  },
  {
   "cell_type": "code",
   "execution_count": 9,
   "metadata": {},
   "outputs": [
    {
     "data": {
      "text/html": [
       "<div>\n",
       "<style scoped>\n",
       "    .dataframe tbody tr th:only-of-type {\n",
       "        vertical-align: middle;\n",
       "    }\n",
       "\n",
       "    .dataframe tbody tr th {\n",
       "        vertical-align: top;\n",
       "    }\n",
       "\n",
       "    .dataframe thead th {\n",
       "        text-align: right;\n",
       "    }\n",
       "</style>\n",
       "<table border=\"1\" class=\"dataframe\">\n",
       "  <thead>\n",
       "    <tr style=\"text-align: right;\">\n",
       "      <th></th>\n",
       "      <th>sepal length (cm)</th>\n",
       "      <th>sepal width (cm)</th>\n",
       "      <th>petal length (cm)</th>\n",
       "      <th>petal width (cm)</th>\n",
       "      <th>target</th>\n",
       "    </tr>\n",
       "  </thead>\n",
       "  <tbody>\n",
       "    <tr>\n",
       "      <th>0</th>\n",
       "      <td>5.1</td>\n",
       "      <td>3.5</td>\n",
       "      <td>1.4</td>\n",
       "      <td>0.2</td>\n",
       "      <td>0</td>\n",
       "    </tr>\n",
       "    <tr>\n",
       "      <th>1</th>\n",
       "      <td>4.9</td>\n",
       "      <td>3.0</td>\n",
       "      <td>1.4</td>\n",
       "      <td>0.2</td>\n",
       "      <td>0</td>\n",
       "    </tr>\n",
       "    <tr>\n",
       "      <th>2</th>\n",
       "      <td>4.7</td>\n",
       "      <td>3.2</td>\n",
       "      <td>1.3</td>\n",
       "      <td>0.2</td>\n",
       "      <td>0</td>\n",
       "    </tr>\n",
       "    <tr>\n",
       "      <th>3</th>\n",
       "      <td>4.6</td>\n",
       "      <td>3.1</td>\n",
       "      <td>1.5</td>\n",
       "      <td>0.2</td>\n",
       "      <td>0</td>\n",
       "    </tr>\n",
       "    <tr>\n",
       "      <th>4</th>\n",
       "      <td>5.0</td>\n",
       "      <td>3.6</td>\n",
       "      <td>1.4</td>\n",
       "      <td>0.2</td>\n",
       "      <td>0</td>\n",
       "    </tr>\n",
       "  </tbody>\n",
       "</table>\n",
       "</div>"
      ],
      "text/plain": [
       "   sepal length (cm)  sepal width (cm)  petal length (cm)  petal width (cm)  \\\n",
       "0                5.1               3.5                1.4               0.2   \n",
       "1                4.9               3.0                1.4               0.2   \n",
       "2                4.7               3.2                1.3               0.2   \n",
       "3                4.6               3.1                1.5               0.2   \n",
       "4                5.0               3.6                1.4               0.2   \n",
       "\n",
       "   target  \n",
       "0       0  \n",
       "1       0  \n",
       "2       0  \n",
       "3       0  \n",
       "4       0  "
      ]
     },
     "execution_count": 9,
     "metadata": {},
     "output_type": "execute_result"
    }
   ],
   "source": [
    "df.head()"
   ]
  },
  {
   "cell_type": "markdown",
   "metadata": {
    "tags": []
   },
   "source": [
    "## Exploratory Data Analysis"
   ]
  },
  {
   "cell_type": "code",
   "execution_count": 10,
   "metadata": {},
   "outputs": [
    {
     "data": {
      "image/png": "[encoded data removed]",
      "text/plain": [
       "<Figure size 432x288 with 2 Axes>"
      ]
     },
     "metadata": {
      "needs_background": "light"
     },
     "output_type": "display_data"
    }
   ],
   "source": [
    "sns.heatmap(df.corr(), annot = True);"
   ]
  },
  {
   "cell_type": "markdown",
   "metadata": {
    "tags": []
   },
   "source": [
    "- `Petal length` and `petal width` is most correlated with the target, meaning that as these numbers increase, so does the target value. In this case, it means that flowers in class 2 often have longer petal length and width than flowers in class 0. \n",
    "\n",
    "- `Sepal width` is most anti-correlated, indicating that flowers in class 0 have the greatest sepal width than those in class 2. \n",
    "\n",
    "- We can also see some intercorrelation between features, for example `petal width` and `petal length` are also highly correlated."
   ]
  },
  {
   "cell_type": "markdown",
   "metadata": {
    "tags": []
   },
   "source": [
    "#### The relationships between features"
   ]
  },
  {
   "cell_type": "markdown",
   "metadata": {
    "tags": []
   },
   "source": [
    "The different classes of flowers relate to sepal and petal data."
   ]
  },
  {
   "cell_type": "code",
   "execution_count": 11,
   "metadata": {},
   "outputs": [
    {
     "data": {
      "image/png": "[encoded data removed]",
      "text/plain": [
       "<Figure size 360x288 with 2 Axes>"
      ]
     },
     "metadata": {
      "needs_background": "light"
     },
     "output_type": "display_data"
    }
   ],
   "source": [
    "# The indices of the features that we are plotting (class 0 & 1)\n",
    "x_index = 0\n",
    "y_index = 1\n",
    "\n",
    "# this formatter will label the colorbar with the correct target names\n",
    "formatter = plt.FuncFormatter(lambda i, *args: iris.target_names[int(i)])\n",
    "\n",
    "plt.figure(figsize=(5, 4))\n",
    "plt.scatter(iris.data[:, x_index], iris.data[:, y_index], c=iris.target)\n",
    "plt.colorbar(ticks=[0, 1, 2], format=formatter)\n",
    "plt.xlabel(iris.feature_names[x_index])\n",
    "plt.ylabel(iris.feature_names[y_index])\n",
    "plt.tight_layout()\n",
    "plt.show()"
   ]
  },
  {
   "cell_type": "markdown",
   "metadata": {
    "tags": []
   },
   "source": [
    "Relationship between sepal width and length between the three classes of flowers.\n",
    "\n",
    "Virginica and versica look to be relatively similar in sepal size, but setosa has created its own cluster to the left."
   ]
  },
  {
   "cell_type": "markdown",
   "metadata": {
    "tags": []
   },
   "source": [
    "## Data Splitting"
   ]
  },
  {
   "cell_type": "code",
   "execution_count": 12,
   "metadata": {},
   "outputs": [],
   "source": [
    "# X -> features, y -> label\n",
    "X = df\n",
    "y = iris.target"
   ]
  },
  {
   "cell_type": "code",
   "execution_count": 13,
   "metadata": {
    "tags": []
   },
   "outputs": [],
   "source": [
    "# dividing X, y into train and test data\n",
    "X_train, X_test, y_train, y_test = train_test_split(X, y, test_size=0.2,random_state = 0)\n",
    " "
   ]
  },
  {
   "cell_type": "markdown",
   "metadata": {
    "tags": []
   },
   "source": [
    "## Standardize"
   ]
  },
  {
   "cell_type": "code",
   "execution_count": 44,
   "metadata": {},
   "outputs": [],
   "source": [
    "scaler = StandardScaler()\n",
    "X_train = pd.DataFrame(scaler.fit_transform(X_train), columns=X_train.columns)\n",
    "X_test = pd.DataFrame(scaler.transform(X_test), columns=X_test.columns)"
   ]
  },
  {
   "cell_type": "markdown",
   "metadata": {
    "tags": []
   },
   "source": [
    "## Modelling"
   ]
  },
  {
   "cell_type": "code",
   "execution_count": 45,
   "metadata": {},
   "outputs": [],
   "source": [
    "exp_name = \"iris_multi_class\""
   ]
  },
  {
   "cell_type": "code",
   "execution_count": 46,
   "metadata": {},
   "outputs": [],
   "source": [
    "clf = Classifier(X_train, X_test, y_train, y_test, exp_name, multiclass=True, average='weighted')"
   ]
  },
  {
   "cell_type": "code",
   "execution_count": 47,
   "metadata": {},
   "outputs": [
    {
     "name": "stdout",
     "output_type": "stream",
     "text": [
      "experiment name :  iris_multi_class\n",
      "experiment location :  s3://models/15\n",
      "experiment id :  15\n",
      "experiment status :  active\n"
     ]
    }
   ],
   "source": [
    "exp_id = clf.id\n",
    "print(\"experiment name : \", clf.name)\n",
    "print(\"experiment location : \", clf.location)\n",
    "print(\"experiment id : \", clf.id)\n",
    "print(\"experiment status : \", clf.stage)"
   ]
  },
  {
   "cell_type": "markdown",
   "metadata": {
    "tags": []
   },
   "source": [
    "## Logistic Regression\n",
    "\n"
   ]
  },
  {
   "cell_type": "code",
   "execution_count": 48,
   "metadata": {
    "tags": [
     "block:logistic_regression",
     "prev:feature_selection"
    ]
   },
   "outputs": [],
   "source": [
    "clf.LogisticRegression(multi_class='ovr')"
   ]
  },
  {
   "cell_type": "markdown",
   "metadata": {
    "tags": []
   },
   "source": [
    "## GradientBoostingClassifier"
   ]
  },
  {
   "cell_type": "code",
   "execution_count": 49,
   "metadata": {
    "tags": [
     "block:gradient_boost_claddssifi",
     "prev:feature_selection"
    ]
   },
   "outputs": [],
   "source": [
    "clf.GradientBoostingClassifier()"
   ]
  },
  {
   "cell_type": "markdown",
   "metadata": {
    "tags": []
   },
   "source": [
    "## RandomForestClassifier"
   ]
  },
  {
   "cell_type": "code",
   "execution_count": 50,
   "metadata": {
    "tags": [
     "block:random_forest_classifier",
     "prev:feature_selection"
    ]
   },
   "outputs": [],
   "source": [
    "clf.RandomForestClassifier(random_state = 42)"
   ]
  },
  {
   "cell_type": "markdown",
   "metadata": {
    "tags": []
   },
   "source": [
    "## AdaBoostClassifier"
   ]
  },
  {
   "cell_type": "code",
   "execution_count": 51,
   "metadata": {
    "tags": [
     "block:ada_boost_classifier",
     "prev:feature_selection"
    ]
   },
   "outputs": [],
   "source": [
    "clf.AdaBoostClassifier(random_state = 42)"
   ]
  },
  {
   "cell_type": "markdown",
   "metadata": {
    "tags": []
   },
   "source": [
    "### LightGBMClassifier"
   ]
  },
  {
   "cell_type": "code",
   "execution_count": 52,
   "metadata": {
    "tags": [
     "block:light_gbm_classifier",
     "prev:feature_selection"
    ]
   },
   "outputs": [],
   "source": [
    "clf.LGBMClassifier()"
   ]
  },
  {
   "cell_type": "markdown",
   "metadata": {
    "tags": []
   },
   "source": [
    "### XGBClassifier"
   ]
  },
  {
   "cell_type": "code",
   "execution_count": 53,
   "metadata": {
    "tags": [
     "block:xgb_classifier",
     "prev:feature_selection"
    ]
   },
   "outputs": [
    {
     "name": "stdout",
     "output_type": "stream",
     "text": [
      "[09:23:30] WARNING: ../src/learner.cc:1115: Starting in XGBoost 1.3.0, the default evaluation metric used with the objective 'multi:softprob' was changed from 'merror' to 'mlogloss'. Explicitly set eval_metric if you'd like to restore the old behavior.\n"
     ]
    }
   ],
   "source": [
    "clf.XGBClassifier()"
   ]
  },
  {
   "cell_type": "markdown",
   "metadata": {
    "tags": []
   },
   "source": [
    "### DecisionTreeClassifier"
   ]
  },
  {
   "cell_type": "code",
   "execution_count": 54,
   "metadata": {
    "tags": [
     "block:decision_tree_classifier",
     "prev:feature_selection"
    ]
   },
   "outputs": [],
   "source": [
    "clf.DecisionTreeClassifier()"
   ]
  },
  {
   "cell_type": "markdown",
   "metadata": {
    "tags": []
   },
   "source": [
    "### SupportVectorClassifier"
   ]
  },
  {
   "cell_type": "code",
   "execution_count": 55,
   "metadata": {
    "tags": [
     "block:support_vector_classifier",
     "prev:feature_selection"
    ]
   },
   "outputs": [],
   "source": [
    "clf.SupportVectorClassifier()"
   ]
  },
  {
   "cell_type": "markdown",
   "metadata": {
    "tags": []
   },
   "source": [
    "### RidgeClassifier"
   ]
  },
  {
   "cell_type": "code",
   "execution_count": 56,
   "metadata": {
    "tags": [
     "block:ridge_classifier",
     "prev:feature_selection"
    ]
   },
   "outputs": [],
   "source": [
    "clf.RidgeClassifier()"
   ]
  },
  {
   "cell_type": "markdown",
   "metadata": {
    "tags": []
   },
   "source": [
    "### KNeighborsClassifier"
   ]
  },
  {
   "cell_type": "code",
   "execution_count": 57,
   "metadata": {
    "tags": [
     "block:k_neighbors_classifier",
     "prev:feature_selection"
    ]
   },
   "outputs": [],
   "source": [
    "clf.KNeighborsClassifier()"
   ]
  },
  {
   "cell_type": "markdown",
   "metadata": {
    "tags": []
   },
   "source": [
    "### GaussianNB"
   ]
  },
  {
   "cell_type": "code",
   "execution_count": 58,
   "metadata": {
    "tags": [
     "block:gaussian_nb",
     "prev:feature_selection"
    ]
   },
   "outputs": [],
   "source": [
    "clf.GaussianNB()"
   ]
  },
  {
   "cell_type": "markdown",
   "metadata": {
    "tags": []
   },
   "source": [
    "## CatBoostClassifier"
   ]
  },
  {
   "cell_type": "code",
   "execution_count": 59,
   "metadata": {
    "tags": [
     "block:cat_boost_classifier",
     "prev:feature_selection"
    ]
   },
   "outputs": [
    {
     "name": "stdout",
     "output_type": "stream",
     "text": [
      "Learning rate set to 0.071017\n",
      "0:\tlearn: 1.0011431\ttotal: 408us\tremaining: 408ms\n",
      "1:\tlearn: 0.9238316\ttotal: 937us\tremaining: 468ms\n",
      "2:\tlearn: 0.8409132\ttotal: 1.25ms\tremaining: 414ms\n",
      "3:\tlearn: 0.7695665\ttotal: 1.53ms\tremaining: 381ms\n",
      "4:\tlearn: 0.7088633\ttotal: 1.82ms\tremaining: 363ms\n",
      "5:\tlearn: 0.6605309\ttotal: 2.29ms\tremaining: 379ms\n",
      "6:\tlearn: 0.6134548\ttotal: 2.58ms\tremaining: 366ms\n",
      "7:\tlearn: 0.5704830\ttotal: 2.99ms\tremaining: 371ms\n",
      "8:\tlearn: 0.5349663\ttotal: 3.32ms\tremaining: 365ms\n",
      "9:\tlearn: 0.5068303\ttotal: 3.78ms\tremaining: 374ms\n",
      "10:\tlearn: 0.4750797\ttotal: 4.2ms\tremaining: 377ms\n",
      "11:\tlearn: 0.4456092\ttotal: 4.66ms\tremaining: 384ms\n",
      "12:\tlearn: 0.4188807\ttotal: 5.15ms\tremaining: 391ms\n",
      "13:\tlearn: 0.3898643\ttotal: 5.59ms\tremaining: 393ms\n",
      "14:\tlearn: 0.3691389\ttotal: 6.23ms\tremaining: 409ms\n",
      "15:\tlearn: 0.3500474\ttotal: 6.86ms\tremaining: 422ms\n",
      "16:\tlearn: 0.3278095\ttotal: 7.2ms\tremaining: 416ms\n",
      "17:\tlearn: 0.3109270\ttotal: 7.81ms\tremaining: 426ms\n",
      "18:\tlearn: 0.2955643\ttotal: 8.62ms\tremaining: 445ms\n",
      "19:\tlearn: 0.2823845\ttotal: 9.12ms\tremaining: 447ms\n",
      "20:\tlearn: 0.2688894\ttotal: 9.44ms\tremaining: 440ms\n",
      "21:\tlearn: 0.2541998\ttotal: 10.2ms\tremaining: 454ms\n",
      "22:\tlearn: 0.2432378\ttotal: 10.8ms\tremaining: 459ms\n",
      "23:\tlearn: 0.2285433\ttotal: 11.1ms\tremaining: 453ms\n",
      "24:\tlearn: 0.2179956\ttotal: 11.6ms\tremaining: 453ms\n",
      "25:\tlearn: 0.2080285\ttotal: 12.1ms\tremaining: 453ms\n",
      "26:\tlearn: 0.1990066\ttotal: 12.5ms\tremaining: 450ms\n",
      "27:\tlearn: 0.1896998\ttotal: 13.3ms\tremaining: 460ms\n",
      "28:\tlearn: 0.1815763\ttotal: 13.7ms\tremaining: 459ms\n",
      "29:\tlearn: 0.1734334\ttotal: 14.3ms\tremaining: 463ms\n",
      "30:\tlearn: 0.1638842\ttotal: 14.7ms\tremaining: 459ms\n",
      "31:\tlearn: 0.1573402\ttotal: 15.3ms\tremaining: 463ms\n",
      "32:\tlearn: 0.1508422\ttotal: 15.8ms\tremaining: 464ms\n",
      "33:\tlearn: 0.1444237\ttotal: 16.5ms\tremaining: 468ms\n",
      "34:\tlearn: 0.1394340\ttotal: 17.1ms\tremaining: 472ms\n",
      "35:\tlearn: 0.1344464\ttotal: 17.8ms\tremaining: 476ms\n",
      "36:\tlearn: 0.1294378\ttotal: 18.4ms\tremaining: 478ms\n",
      "37:\tlearn: 0.1245389\ttotal: 18.9ms\tremaining: 479ms\n",
      "38:\tlearn: 0.1203755\ttotal: 19.5ms\tremaining: 480ms\n",
      "39:\tlearn: 0.1162016\ttotal: 20ms\tremaining: 480ms\n",
      "40:\tlearn: 0.1115344\ttotal: 20.5ms\tremaining: 480ms\n",
      "41:\tlearn: 0.1073662\ttotal: 21.1ms\tremaining: 480ms\n",
      "42:\tlearn: 0.1026930\ttotal: 21.5ms\tremaining: 478ms\n",
      "43:\tlearn: 0.0989077\ttotal: 22.3ms\tremaining: 484ms\n",
      "44:\tlearn: 0.0954292\ttotal: 22.7ms\tremaining: 482ms\n",
      "45:\tlearn: 0.0923519\ttotal: 23.1ms\tremaining: 478ms\n",
      "46:\tlearn: 0.0904342\ttotal: 23.5ms\tremaining: 476ms\n",
      "47:\tlearn: 0.0877477\ttotal: 23.8ms\tremaining: 473ms\n",
      "48:\tlearn: 0.0851104\ttotal: 24.2ms\tremaining: 470ms\n",
      "49:\tlearn: 0.0819880\ttotal: 24.5ms\tremaining: 465ms\n",
      "50:\tlearn: 0.0784710\ttotal: 24.7ms\tremaining: 460ms\n",
      "51:\tlearn: 0.0761264\ttotal: 25ms\tremaining: 457ms\n",
      "52:\tlearn: 0.0729558\ttotal: 25.3ms\tremaining: 451ms\n",
      "53:\tlearn: 0.0713756\ttotal: 25.7ms\tremaining: 450ms\n",
      "54:\tlearn: 0.0697109\ttotal: 26ms\tremaining: 447ms\n",
      "55:\tlearn: 0.0673857\ttotal: 26.3ms\tremaining: 443ms\n",
      "56:\tlearn: 0.0657375\ttotal: 26.6ms\tremaining: 440ms\n",
      "57:\tlearn: 0.0631635\ttotal: 26.8ms\tremaining: 435ms\n",
      "58:\tlearn: 0.0615995\ttotal: 27.2ms\tremaining: 433ms\n",
      "59:\tlearn: 0.0592564\ttotal: 27.4ms\tremaining: 429ms\n",
      "60:\tlearn: 0.0572396\ttotal: 27.6ms\tremaining: 424ms\n",
      "61:\tlearn: 0.0551735\ttotal: 27.8ms\tremaining: 420ms\n",
      "62:\tlearn: 0.0537266\ttotal: 28.1ms\tremaining: 418ms\n",
      "63:\tlearn: 0.0518089\ttotal: 28.3ms\tremaining: 414ms\n",
      "64:\tlearn: 0.0505939\ttotal: 28.6ms\tremaining: 412ms\n",
      "65:\tlearn: 0.0489391\ttotal: 28.8ms\tremaining: 408ms\n",
      "66:\tlearn: 0.0481231\ttotal: 29.2ms\tremaining: 406ms\n",
      "67:\tlearn: 0.0471112\ttotal: 29.5ms\tremaining: 404ms\n",
      "68:\tlearn: 0.0463446\ttotal: 29.9ms\tremaining: 403ms\n",
      "69:\tlearn: 0.0452931\ttotal: 30.2ms\tremaining: 402ms\n",
      "70:\tlearn: 0.0441405\ttotal: 30.5ms\tremaining: 399ms\n",
      "71:\tlearn: 0.0431878\ttotal: 30.8ms\tremaining: 396ms\n",
      "72:\tlearn: 0.0418561\ttotal: 31ms\tremaining: 393ms\n",
      "73:\tlearn: 0.0407724\ttotal: 31.2ms\tremaining: 390ms\n",
      "74:\tlearn: 0.0395090\ttotal: 31.4ms\tremaining: 387ms\n",
      "75:\tlearn: 0.0383056\ttotal: 31.6ms\tremaining: 384ms\n",
      "76:\tlearn: 0.0375188\ttotal: 31.8ms\tremaining: 382ms\n",
      "77:\tlearn: 0.0367879\ttotal: 32.2ms\tremaining: 380ms\n",
      "78:\tlearn: 0.0357481\ttotal: 32.4ms\tremaining: 377ms\n",
      "79:\tlearn: 0.0347190\ttotal: 32.6ms\tremaining: 375ms\n",
      "80:\tlearn: 0.0338582\ttotal: 32.8ms\tremaining: 372ms\n",
      "81:\tlearn: 0.0332233\ttotal: 33.2ms\tremaining: 371ms\n",
      "82:\tlearn: 0.0326172\ttotal: 33.4ms\tremaining: 370ms\n",
      "83:\tlearn: 0.0319087\ttotal: 33.8ms\tremaining: 368ms\n",
      "84:\tlearn: 0.0312558\ttotal: 34.1ms\tremaining: 367ms\n",
      "85:\tlearn: 0.0307720\ttotal: 34.4ms\tremaining: 366ms\n",
      "86:\tlearn: 0.0303303\ttotal: 34.8ms\tremaining: 365ms\n",
      "87:\tlearn: 0.0295372\ttotal: 35ms\tremaining: 363ms\n",
      "88:\tlearn: 0.0290761\ttotal: 35.4ms\tremaining: 362ms\n",
      "89:\tlearn: 0.0283354\ttotal: 35.5ms\tremaining: 359ms\n",
      "90:\tlearn: 0.0276986\ttotal: 35.8ms\tremaining: 358ms\n",
      "91:\tlearn: 0.0272450\ttotal: 36.2ms\tremaining: 357ms\n",
      "92:\tlearn: 0.0266940\ttotal: 36.6ms\tremaining: 357ms\n",
      "93:\tlearn: 0.0261786\ttotal: 36.8ms\tremaining: 355ms\n",
      "94:\tlearn: 0.0257122\ttotal: 37ms\tremaining: 353ms\n",
      "95:\tlearn: 0.0252710\ttotal: 37.3ms\tremaining: 351ms\n",
      "96:\tlearn: 0.0249219\ttotal: 37.8ms\tremaining: 352ms\n",
      "97:\tlearn: 0.0246228\ttotal: 38.5ms\tremaining: 354ms\n",
      "98:\tlearn: 0.0242791\ttotal: 39.1ms\tremaining: 356ms\n",
      "99:\tlearn: 0.0239524\ttotal: 39.5ms\tremaining: 356ms\n",
      "100:\tlearn: 0.0237158\ttotal: 40.1ms\tremaining: 357ms\n",
      "101:\tlearn: 0.0233806\ttotal: 40.5ms\tremaining: 357ms\n",
      "102:\tlearn: 0.0230841\ttotal: 40.9ms\tremaining: 357ms\n",
      "103:\tlearn: 0.0225775\ttotal: 41.2ms\tremaining: 355ms\n",
      "104:\tlearn: 0.0222887\ttotal: 41.6ms\tremaining: 355ms\n",
      "105:\tlearn: 0.0218815\ttotal: 41.9ms\tremaining: 353ms\n",
      "106:\tlearn: 0.0215801\ttotal: 42.4ms\tremaining: 354ms\n",
      "107:\tlearn: 0.0213644\ttotal: 42.8ms\tremaining: 354ms\n",
      "108:\tlearn: 0.0211957\ttotal: 43.3ms\tremaining: 354ms\n",
      "109:\tlearn: 0.0208963\ttotal: 43.7ms\tremaining: 353ms\n",
      "110:\tlearn: 0.0206464\ttotal: 44ms\tremaining: 353ms\n",
      "111:\tlearn: 0.0205080\ttotal: 44.4ms\tremaining: 352ms\n",
      "112:\tlearn: 0.0202586\ttotal: 44.8ms\tremaining: 352ms\n",
      "113:\tlearn: 0.0199859\ttotal: 45.1ms\tremaining: 350ms\n",
      "114:\tlearn: 0.0198151\ttotal: 45.6ms\tremaining: 351ms\n",
      "115:\tlearn: 0.0195922\ttotal: 46ms\tremaining: 351ms\n",
      "116:\tlearn: 0.0193937\ttotal: 46.5ms\tremaining: 351ms\n",
      "117:\tlearn: 0.0192634\ttotal: 46.8ms\tremaining: 350ms\n",
      "118:\tlearn: 0.0190866\ttotal: 47.2ms\tremaining: 350ms\n",
      "119:\tlearn: 0.0188902\ttotal: 47.6ms\tremaining: 349ms\n",
      "120:\tlearn: 0.0187020\ttotal: 48ms\tremaining: 349ms\n",
      "121:\tlearn: 0.0185476\ttotal: 48.4ms\tremaining: 348ms\n",
      "122:\tlearn: 0.0183925\ttotal: 48.7ms\tremaining: 347ms\n",
      "123:\tlearn: 0.0182305\ttotal: 49.1ms\tremaining: 347ms\n",
      "124:\tlearn: 0.0180732\ttotal: 49.5ms\tremaining: 346ms\n",
      "125:\tlearn: 0.0179455\ttotal: 49.9ms\tremaining: 346ms\n",
      "126:\tlearn: 0.0178094\ttotal: 50.2ms\tremaining: 345ms\n",
      "127:\tlearn: 0.0176669\ttotal: 50.5ms\tremaining: 344ms\n",
      "128:\tlearn: 0.0174804\ttotal: 50.9ms\tremaining: 344ms\n",
      "129:\tlearn: 0.0173144\ttotal: 51.3ms\tremaining: 343ms\n",
      "130:\tlearn: 0.0171733\ttotal: 51.7ms\tremaining: 343ms\n",
      "131:\tlearn: 0.0170682\ttotal: 52ms\tremaining: 342ms\n",
      "132:\tlearn: 0.0169025\ttotal: 52.6ms\tremaining: 343ms\n",
      "133:\tlearn: 0.0168123\ttotal: 53.2ms\tremaining: 344ms\n",
      "134:\tlearn: 0.0166956\ttotal: 53.7ms\tremaining: 344ms\n",
      "135:\tlearn: 0.0165285\ttotal: 54.3ms\tremaining: 345ms\n",
      "136:\tlearn: 0.0164107\ttotal: 54.9ms\tremaining: 346ms\n",
      "137:\tlearn: 0.0162834\ttotal: 55.4ms\tremaining: 346ms\n",
      "138:\tlearn: 0.0161778\ttotal: 56ms\tremaining: 347ms\n",
      "139:\tlearn: 0.0160355\ttotal: 56.5ms\tremaining: 347ms\n",
      "140:\tlearn: 0.0159290\ttotal: 57ms\tremaining: 347ms\n",
      "141:\tlearn: 0.0158356\ttotal: 57.5ms\tremaining: 347ms\n",
      "142:\tlearn: 0.0156812\ttotal: 58.4ms\tremaining: 350ms\n",
      "143:\tlearn: 0.0155950\ttotal: 59.3ms\tremaining: 353ms\n",
      "144:\tlearn: 0.0154802\ttotal: 59.9ms\tremaining: 353ms\n",
      "145:\tlearn: 0.0153714\ttotal: 60.5ms\tremaining: 354ms\n",
      "146:\tlearn: 0.0152796\ttotal: 61ms\tremaining: 354ms\n",
      "147:\tlearn: 0.0151635\ttotal: 61.6ms\tremaining: 355ms\n",
      "148:\tlearn: 0.0150541\ttotal: 62.2ms\tremaining: 355ms\n",
      "149:\tlearn: 0.0149629\ttotal: 62.8ms\tremaining: 356ms\n",
      "150:\tlearn: 0.0148834\ttotal: 63.4ms\tremaining: 356ms\n",
      "151:\tlearn: 0.0147682\ttotal: 63.9ms\tremaining: 356ms\n",
      "152:\tlearn: 0.0146795\ttotal: 64.4ms\tremaining: 356ms\n",
      "153:\tlearn: 0.0145657\ttotal: 64.9ms\tremaining: 357ms\n",
      "154:\tlearn: 0.0144565\ttotal: 65.4ms\tremaining: 357ms\n",
      "155:\tlearn: 0.0143525\ttotal: 66ms\tremaining: 357ms\n",
      "156:\tlearn: 0.0142435\ttotal: 66.4ms\tremaining: 357ms\n",
      "157:\tlearn: 0.0141748\ttotal: 66.9ms\tremaining: 356ms\n",
      "158:\tlearn: 0.0140988\ttotal: 67.3ms\tremaining: 356ms\n",
      "159:\tlearn: 0.0139987\ttotal: 67.7ms\tremaining: 355ms\n",
      "160:\tlearn: 0.0138826\ttotal: 68.1ms\tremaining: 355ms\n",
      "161:\tlearn: 0.0138096\ttotal: 68.5ms\tremaining: 354ms\n",
      "162:\tlearn: 0.0137207\ttotal: 68.9ms\tremaining: 354ms\n",
      "163:\tlearn: 0.0136601\ttotal: 69.3ms\tremaining: 353ms\n",
      "164:\tlearn: 0.0135859\ttotal: 69.8ms\tremaining: 353ms\n",
      "165:\tlearn: 0.0134876\ttotal: 70.2ms\tremaining: 353ms\n",
      "166:\tlearn: 0.0134265\ttotal: 70.5ms\tremaining: 352ms\n",
      "167:\tlearn: 0.0133532\ttotal: 70.9ms\tremaining: 351ms\n",
      "168:\tlearn: 0.0132441\ttotal: 72.3ms\tremaining: 355ms\n",
      "169:\tlearn: 0.0131555\ttotal: 72.7ms\tremaining: 355ms\n",
      "170:\tlearn: 0.0130587\ttotal: 73.1ms\tremaining: 355ms\n",
      "171:\tlearn: 0.0129702\ttotal: 73.5ms\tremaining: 354ms\n",
      "172:\tlearn: 0.0128611\ttotal: 73.8ms\tremaining: 353ms\n",
      "173:\tlearn: 0.0127989\ttotal: 74.1ms\tremaining: 352ms\n",
      "174:\tlearn: 0.0127352\ttotal: 74.6ms\tremaining: 351ms\n",
      "175:\tlearn: 0.0126650\ttotal: 74.9ms\tremaining: 351ms\n",
      "176:\tlearn: 0.0125865\ttotal: 75.4ms\tremaining: 350ms\n",
      "177:\tlearn: 0.0125214\ttotal: 75.8ms\tremaining: 350ms\n",
      "178:\tlearn: 0.0124671\ttotal: 76.1ms\tremaining: 349ms\n",
      "179:\tlearn: 0.0123628\ttotal: 76.5ms\tremaining: 349ms\n",
      "180:\tlearn: 0.0123072\ttotal: 76.9ms\tremaining: 348ms\n",
      "181:\tlearn: 0.0122405\ttotal: 77.3ms\tremaining: 347ms\n",
      "182:\tlearn: 0.0121650\ttotal: 77.7ms\tremaining: 347ms\n",
      "183:\tlearn: 0.0120768\ttotal: 78.1ms\tremaining: 346ms\n",
      "184:\tlearn: 0.0120208\ttotal: 79ms\tremaining: 348ms\n",
      "185:\tlearn: 0.0119352\ttotal: 79.4ms\tremaining: 348ms\n",
      "186:\tlearn: 0.0118776\ttotal: 79.8ms\tremaining: 347ms\n",
      "187:\tlearn: 0.0118056\ttotal: 80.2ms\tremaining: 347ms\n",
      "188:\tlearn: 0.0117544\ttotal: 80.6ms\tremaining: 346ms\n",
      "189:\tlearn: 0.0116970\ttotal: 81.5ms\tremaining: 347ms\n",
      "190:\tlearn: 0.0116352\ttotal: 82.4ms\tremaining: 349ms\n",
      "191:\tlearn: 0.0115727\ttotal: 83.3ms\tremaining: 351ms\n",
      "192:\tlearn: 0.0115038\ttotal: 84.1ms\tremaining: 352ms\n",
      "193:\tlearn: 0.0114531\ttotal: 84.9ms\tremaining: 353ms\n",
      "194:\tlearn: 0.0113841\ttotal: 85.4ms\tremaining: 353ms\n",
      "195:\tlearn: 0.0113336\ttotal: 86ms\tremaining: 353ms\n",
      "196:\tlearn: 0.0112780\ttotal: 86.5ms\tremaining: 353ms\n",
      "197:\tlearn: 0.0112116\ttotal: 87.1ms\tremaining: 353ms\n",
      "198:\tlearn: 0.0111509\ttotal: 87.7ms\tremaining: 353ms\n",
      "199:\tlearn: 0.0111011\ttotal: 88.3ms\tremaining: 353ms\n",
      "200:\tlearn: 0.0110538\ttotal: 88.8ms\tremaining: 353ms\n",
      "201:\tlearn: 0.0109771\ttotal: 89.3ms\tremaining: 353ms\n",
      "202:\tlearn: 0.0109266\ttotal: 89.8ms\tremaining: 353ms\n",
      "203:\tlearn: 0.0108792\ttotal: 90.4ms\tremaining: 353ms\n",
      "204:\tlearn: 0.0108212\ttotal: 91ms\tremaining: 353ms\n",
      "205:\tlearn: 0.0107745\ttotal: 91.6ms\tremaining: 353ms\n",
      "206:\tlearn: 0.0107279\ttotal: 92.3ms\tremaining: 354ms\n",
      "207:\tlearn: 0.0106781\ttotal: 92.8ms\tremaining: 353ms\n",
      "208:\tlearn: 0.0106226\ttotal: 93.4ms\tremaining: 353ms\n",
      "209:\tlearn: 0.0105768\ttotal: 93.9ms\tremaining: 353ms\n",
      "210:\tlearn: 0.0105401\ttotal: 94.4ms\tremaining: 353ms\n",
      "211:\tlearn: 0.0105013\ttotal: 95.1ms\tremaining: 353ms\n",
      "212:\tlearn: 0.0104562\ttotal: 95.6ms\tremaining: 353ms\n",
      "213:\tlearn: 0.0104084\ttotal: 96.2ms\tremaining: 353ms\n",
      "214:\tlearn: 0.0103699\ttotal: 96.7ms\tremaining: 353ms\n",
      "215:\tlearn: 0.0103255\ttotal: 97.6ms\tremaining: 354ms\n",
      "216:\tlearn: 0.0102628\ttotal: 98.3ms\tremaining: 355ms\n",
      "217:\tlearn: 0.0102152\ttotal: 98.8ms\tremaining: 355ms\n",
      "218:\tlearn: 0.0101788\ttotal: 99.4ms\tremaining: 355ms\n",
      "219:\tlearn: 0.0101358\ttotal: 100ms\tremaining: 354ms\n",
      "220:\tlearn: 0.0100757\ttotal: 100ms\tremaining: 354ms\n",
      "221:\tlearn: 0.0100327\ttotal: 101ms\tremaining: 354ms\n",
      "222:\tlearn: 0.0099938\ttotal: 102ms\tremaining: 354ms\n",
      "223:\tlearn: 0.0099482\ttotal: 102ms\tremaining: 354ms\n",
      "224:\tlearn: 0.0099084\ttotal: 103ms\tremaining: 354ms\n",
      "225:\tlearn: 0.0098770\ttotal: 103ms\tremaining: 354ms\n",
      "226:\tlearn: 0.0098372\ttotal: 104ms\tremaining: 353ms\n",
      "227:\tlearn: 0.0097955\ttotal: 104ms\tremaining: 353ms\n",
      "228:\tlearn: 0.0097524\ttotal: 105ms\tremaining: 354ms\n",
      "229:\tlearn: 0.0097095\ttotal: 106ms\tremaining: 354ms\n",
      "230:\tlearn: 0.0096697\ttotal: 106ms\tremaining: 353ms\n",
      "231:\tlearn: 0.0096331\ttotal: 107ms\tremaining: 353ms\n",
      "232:\tlearn: 0.0095982\ttotal: 107ms\tremaining: 352ms\n",
      "233:\tlearn: 0.0095621\ttotal: 107ms\tremaining: 352ms\n",
      "234:\tlearn: 0.0095183\ttotal: 108ms\tremaining: 352ms\n",
      "235:\tlearn: 0.0094612\ttotal: 109ms\tremaining: 351ms\n",
      "236:\tlearn: 0.0094253\ttotal: 109ms\tremaining: 352ms\n",
      "237:\tlearn: 0.0093812\ttotal: 110ms\tremaining: 352ms\n",
      "238:\tlearn: 0.0093387\ttotal: 110ms\tremaining: 352ms\n",
      "239:\tlearn: 0.0093050\ttotal: 111ms\tremaining: 351ms\n",
      "240:\tlearn: 0.0092664\ttotal: 111ms\tremaining: 351ms\n",
      "241:\tlearn: 0.0092157\ttotal: 112ms\tremaining: 350ms\n",
      "242:\tlearn: 0.0091879\ttotal: 112ms\tremaining: 350ms\n",
      "243:\tlearn: 0.0091407\ttotal: 113ms\tremaining: 349ms\n",
      "244:\tlearn: 0.0091115\ttotal: 113ms\tremaining: 348ms\n",
      "245:\tlearn: 0.0090776\ttotal: 113ms\tremaining: 348ms\n",
      "246:\tlearn: 0.0090485\ttotal: 114ms\tremaining: 347ms\n",
      "247:\tlearn: 0.0090104\ttotal: 114ms\tremaining: 346ms\n",
      "248:\tlearn: 0.0089684\ttotal: 115ms\tremaining: 346ms\n",
      "249:\tlearn: 0.0089412\ttotal: 115ms\tremaining: 345ms\n",
      "250:\tlearn: 0.0089067\ttotal: 116ms\tremaining: 345ms\n",
      "251:\tlearn: 0.0088682\ttotal: 116ms\tremaining: 344ms\n",
      "252:\tlearn: 0.0088422\ttotal: 116ms\tremaining: 344ms\n",
      "253:\tlearn: 0.0088088\ttotal: 117ms\tremaining: 343ms\n",
      "254:\tlearn: 0.0087837\ttotal: 117ms\tremaining: 342ms\n",
      "255:\tlearn: 0.0087517\ttotal: 118ms\tremaining: 343ms\n",
      "256:\tlearn: 0.0087222\ttotal: 118ms\tremaining: 342ms\n",
      "257:\tlearn: 0.0086834\ttotal: 119ms\tremaining: 342ms\n",
      "258:\tlearn: 0.0086527\ttotal: 119ms\tremaining: 341ms\n",
      "259:\tlearn: 0.0086230\ttotal: 120ms\tremaining: 340ms\n",
      "260:\tlearn: 0.0085978\ttotal: 120ms\tremaining: 340ms\n",
      "261:\tlearn: 0.0085589\ttotal: 120ms\tremaining: 339ms\n",
      "262:\tlearn: 0.0085299\ttotal: 121ms\tremaining: 338ms\n",
      "263:\tlearn: 0.0085067\ttotal: 121ms\tremaining: 338ms\n",
      "264:\tlearn: 0.0084657\ttotal: 122ms\tremaining: 337ms\n",
      "265:\tlearn: 0.0084347\ttotal: 122ms\tremaining: 337ms\n",
      "266:\tlearn: 0.0084084\ttotal: 122ms\tremaining: 336ms\n",
      "267:\tlearn: 0.0083705\ttotal: 123ms\tremaining: 336ms\n",
      "268:\tlearn: 0.0083397\ttotal: 123ms\tremaining: 335ms\n",
      "269:\tlearn: 0.0082983\ttotal: 124ms\tremaining: 335ms\n",
      "270:\tlearn: 0.0082670\ttotal: 124ms\tremaining: 334ms\n",
      "271:\tlearn: 0.0082355\ttotal: 125ms\tremaining: 334ms\n",
      "272:\tlearn: 0.0082121\ttotal: 125ms\tremaining: 333ms\n",
      "273:\tlearn: 0.0081856\ttotal: 125ms\tremaining: 332ms\n",
      "274:\tlearn: 0.0081605\ttotal: 126ms\tremaining: 332ms\n",
      "275:\tlearn: 0.0081204\ttotal: 127ms\tremaining: 332ms\n",
      "276:\tlearn: 0.0080910\ttotal: 127ms\tremaining: 332ms\n",
      "277:\tlearn: 0.0080658\ttotal: 128ms\tremaining: 332ms\n",
      "278:\tlearn: 0.0080399\ttotal: 129ms\tremaining: 333ms\n",
      "279:\tlearn: 0.0080135\ttotal: 130ms\tremaining: 333ms\n",
      "280:\tlearn: 0.0079891\ttotal: 130ms\tremaining: 333ms\n",
      "281:\tlearn: 0.0079618\ttotal: 131ms\tremaining: 333ms\n",
      "282:\tlearn: 0.0079333\ttotal: 131ms\tremaining: 332ms\n",
      "283:\tlearn: 0.0079052\ttotal: 132ms\tremaining: 332ms\n",
      "284:\tlearn: 0.0078763\ttotal: 132ms\tremaining: 332ms\n",
      "285:\tlearn: 0.0078488\ttotal: 136ms\tremaining: 340ms\n",
      "286:\tlearn: 0.0078250\ttotal: 137ms\tremaining: 339ms\n",
      "287:\tlearn: 0.0078012\ttotal: 137ms\tremaining: 339ms\n",
      "288:\tlearn: 0.0077800\ttotal: 137ms\tremaining: 338ms\n",
      "289:\tlearn: 0.0077419\ttotal: 138ms\tremaining: 337ms\n",
      "290:\tlearn: 0.0077149\ttotal: 138ms\tremaining: 337ms\n",
      "291:\tlearn: 0.0076920\ttotal: 139ms\tremaining: 336ms\n",
      "292:\tlearn: 0.0076687\ttotal: 139ms\tremaining: 336ms\n",
      "293:\tlearn: 0.0076379\ttotal: 140ms\tremaining: 336ms\n",
      "294:\tlearn: 0.0076183\ttotal: 140ms\tremaining: 335ms\n",
      "295:\tlearn: 0.0075938\ttotal: 141ms\tremaining: 335ms\n",
      "296:\tlearn: 0.0075711\ttotal: 141ms\tremaining: 334ms\n",
      "297:\tlearn: 0.0075333\ttotal: 142ms\tremaining: 334ms\n",
      "298:\tlearn: 0.0075102\ttotal: 142ms\tremaining: 333ms\n",
      "299:\tlearn: 0.0074907\ttotal: 143ms\tremaining: 333ms\n",
      "300:\tlearn: 0.0074671\ttotal: 143ms\tremaining: 332ms\n",
      "301:\tlearn: 0.0074404\ttotal: 143ms\tremaining: 332ms\n",
      "302:\tlearn: 0.0074242\ttotal: 144ms\tremaining: 331ms\n",
      "303:\tlearn: 0.0073915\ttotal: 144ms\tremaining: 330ms\n",
      "304:\tlearn: 0.0073704\ttotal: 145ms\tremaining: 329ms\n",
      "305:\tlearn: 0.0073441\ttotal: 145ms\tremaining: 329ms\n",
      "306:\tlearn: 0.0073179\ttotal: 145ms\tremaining: 328ms\n",
      "307:\tlearn: 0.0072971\ttotal: 146ms\tremaining: 328ms\n",
      "308:\tlearn: 0.0072758\ttotal: 146ms\tremaining: 327ms\n",
      "309:\tlearn: 0.0072585\ttotal: 147ms\tremaining: 327ms\n",
      "310:\tlearn: 0.0072292\ttotal: 147ms\tremaining: 326ms\n",
      "311:\tlearn: 0.0072094\ttotal: 148ms\tremaining: 325ms\n",
      "312:\tlearn: 0.0071836\ttotal: 148ms\tremaining: 325ms\n",
      "313:\tlearn: 0.0071599\ttotal: 148ms\tremaining: 324ms\n",
      "314:\tlearn: 0.0071358\ttotal: 149ms\tremaining: 324ms\n",
      "315:\tlearn: 0.0071185\ttotal: 149ms\tremaining: 324ms\n",
      "316:\tlearn: 0.0070975\ttotal: 150ms\tremaining: 323ms\n",
      "317:\tlearn: 0.0070762\ttotal: 150ms\tremaining: 322ms\n",
      "318:\tlearn: 0.0070505\ttotal: 151ms\tremaining: 322ms\n",
      "319:\tlearn: 0.0070285\ttotal: 151ms\tremaining: 321ms\n",
      "320:\tlearn: 0.0070085\ttotal: 152ms\tremaining: 321ms\n",
      "321:\tlearn: 0.0069912\ttotal: 152ms\tremaining: 320ms\n",
      "322:\tlearn: 0.0069626\ttotal: 152ms\tremaining: 319ms\n",
      "323:\tlearn: 0.0069382\ttotal: 153ms\tremaining: 319ms\n",
      "324:\tlearn: 0.0069191\ttotal: 153ms\tremaining: 318ms\n",
      "325:\tlearn: 0.0068995\ttotal: 153ms\tremaining: 317ms\n",
      "326:\tlearn: 0.0068809\ttotal: 154ms\tremaining: 317ms\n",
      "327:\tlearn: 0.0068625\ttotal: 154ms\tremaining: 316ms\n",
      "328:\tlearn: 0.0068451\ttotal: 155ms\tremaining: 315ms\n",
      "329:\tlearn: 0.0068249\ttotal: 155ms\tremaining: 314ms\n",
      "330:\tlearn: 0.0068068\ttotal: 155ms\tremaining: 314ms\n",
      "331:\tlearn: 0.0067909\ttotal: 156ms\tremaining: 313ms\n",
      "332:\tlearn: 0.0067702\ttotal: 156ms\tremaining: 312ms\n",
      "333:\tlearn: 0.0067555\ttotal: 156ms\tremaining: 312ms\n",
      "334:\tlearn: 0.0067382\ttotal: 157ms\tremaining: 311ms\n",
      "335:\tlearn: 0.0067202\ttotal: 157ms\tremaining: 311ms\n",
      "336:\tlearn: 0.0067027\ttotal: 158ms\tremaining: 310ms\n",
      "337:\tlearn: 0.0066863\ttotal: 158ms\tremaining: 309ms\n",
      "338:\tlearn: 0.0066713\ttotal: 158ms\tremaining: 309ms\n",
      "339:\tlearn: 0.0066497\ttotal: 159ms\tremaining: 308ms\n",
      "340:\tlearn: 0.0066356\ttotal: 159ms\tremaining: 307ms\n",
      "341:\tlearn: 0.0066174\ttotal: 160ms\tremaining: 307ms\n",
      "342:\tlearn: 0.0066000\ttotal: 160ms\tremaining: 306ms\n",
      "343:\tlearn: 0.0065799\ttotal: 160ms\tremaining: 306ms\n",
      "344:\tlearn: 0.0065621\ttotal: 161ms\tremaining: 305ms\n",
      "345:\tlearn: 0.0065480\ttotal: 161ms\tremaining: 305ms\n",
      "346:\tlearn: 0.0065286\ttotal: 162ms\tremaining: 304ms\n",
      "347:\tlearn: 0.0065102\ttotal: 162ms\tremaining: 304ms\n",
      "348:\tlearn: 0.0064837\ttotal: 162ms\tremaining: 303ms\n",
      "349:\tlearn: 0.0064674\ttotal: 163ms\tremaining: 302ms\n",
      "350:\tlearn: 0.0064532\ttotal: 164ms\tremaining: 303ms\n",
      "351:\tlearn: 0.0064400\ttotal: 164ms\tremaining: 303ms\n",
      "352:\tlearn: 0.0064234\ttotal: 165ms\tremaining: 302ms\n",
      "353:\tlearn: 0.0064096\ttotal: 165ms\tremaining: 302ms\n",
      "354:\tlearn: 0.0063887\ttotal: 166ms\tremaining: 301ms\n",
      "355:\tlearn: 0.0063671\ttotal: 166ms\tremaining: 301ms\n",
      "356:\tlearn: 0.0063512\ttotal: 167ms\tremaining: 300ms\n",
      "357:\tlearn: 0.0063341\ttotal: 167ms\tremaining: 300ms\n",
      "358:\tlearn: 0.0063180\ttotal: 168ms\tremaining: 299ms\n",
      "359:\tlearn: 0.0063052\ttotal: 168ms\tremaining: 299ms\n",
      "360:\tlearn: 0.0062928\ttotal: 168ms\tremaining: 298ms\n",
      "361:\tlearn: 0.0062779\ttotal: 169ms\tremaining: 298ms\n",
      "362:\tlearn: 0.0062629\ttotal: 170ms\tremaining: 298ms\n",
      "363:\tlearn: 0.0062477\ttotal: 170ms\tremaining: 297ms\n",
      "364:\tlearn: 0.0062324\ttotal: 171ms\tremaining: 297ms\n",
      "365:\tlearn: 0.0062154\ttotal: 171ms\tremaining: 297ms\n",
      "366:\tlearn: 0.0062004\ttotal: 172ms\tremaining: 296ms\n",
      "367:\tlearn: 0.0061824\ttotal: 172ms\tremaining: 296ms\n",
      "368:\tlearn: 0.0061679\ttotal: 173ms\tremaining: 296ms\n",
      "369:\tlearn: 0.0061525\ttotal: 173ms\tremaining: 295ms\n",
      "370:\tlearn: 0.0061365\ttotal: 174ms\tremaining: 295ms\n",
      "371:\tlearn: 0.0061243\ttotal: 175ms\tremaining: 295ms\n",
      "372:\tlearn: 0.0061124\ttotal: 175ms\tremaining: 294ms\n",
      "373:\tlearn: 0.0060976\ttotal: 175ms\tremaining: 293ms\n",
      "374:\tlearn: 0.0060815\ttotal: 176ms\tremaining: 293ms\n",
      "375:\tlearn: 0.0060671\ttotal: 176ms\tremaining: 292ms\n",
      "376:\tlearn: 0.0060493\ttotal: 176ms\tremaining: 291ms\n",
      "377:\tlearn: 0.0060352\ttotal: 176ms\tremaining: 290ms\n",
      "378:\tlearn: 0.0060135\ttotal: 177ms\tremaining: 290ms\n",
      "379:\tlearn: 0.0059987\ttotal: 177ms\tremaining: 289ms\n",
      "380:\tlearn: 0.0059826\ttotal: 177ms\tremaining: 288ms\n",
      "381:\tlearn: 0.0059687\ttotal: 178ms\tremaining: 287ms\n",
      "382:\tlearn: 0.0059567\ttotal: 178ms\tremaining: 287ms\n",
      "383:\tlearn: 0.0059421\ttotal: 178ms\tremaining: 286ms\n",
      "384:\tlearn: 0.0059287\ttotal: 178ms\tremaining: 285ms\n",
      "385:\tlearn: 0.0059120\ttotal: 179ms\tremaining: 284ms\n",
      "386:\tlearn: 0.0058934\ttotal: 180ms\tremaining: 285ms\n",
      "387:\tlearn: 0.0058796\ttotal: 180ms\tremaining: 284ms\n",
      "388:\tlearn: 0.0058617\ttotal: 181ms\tremaining: 284ms\n",
      "389:\tlearn: 0.0058445\ttotal: 181ms\tremaining: 283ms\n",
      "390:\tlearn: 0.0058309\ttotal: 182ms\tremaining: 283ms\n",
      "391:\tlearn: 0.0058160\ttotal: 182ms\tremaining: 283ms\n",
      "392:\tlearn: 0.0058029\ttotal: 183ms\tremaining: 282ms\n",
      "393:\tlearn: 0.0057879\ttotal: 183ms\tremaining: 282ms\n",
      "394:\tlearn: 0.0057729\ttotal: 184ms\tremaining: 281ms\n",
      "395:\tlearn: 0.0057617\ttotal: 184ms\tremaining: 280ms\n",
      "396:\tlearn: 0.0057490\ttotal: 184ms\tremaining: 280ms\n",
      "397:\tlearn: 0.0057360\ttotal: 185ms\tremaining: 280ms\n",
      "398:\tlearn: 0.0057170\ttotal: 185ms\tremaining: 279ms\n",
      "399:\tlearn: 0.0057011\ttotal: 186ms\tremaining: 279ms\n",
      "400:\tlearn: 0.0056859\ttotal: 187ms\tremaining: 279ms\n",
      "401:\tlearn: 0.0056734\ttotal: 187ms\tremaining: 279ms\n",
      "402:\tlearn: 0.0056605\ttotal: 189ms\tremaining: 280ms\n",
      "403:\tlearn: 0.0056500\ttotal: 190ms\tremaining: 280ms\n",
      "404:\tlearn: 0.0056373\ttotal: 190ms\tremaining: 279ms\n",
      "405:\tlearn: 0.0056243\ttotal: 191ms\tremaining: 279ms\n",
      "406:\tlearn: 0.0056120\ttotal: 191ms\tremaining: 278ms\n",
      "407:\tlearn: 0.0055988\ttotal: 191ms\tremaining: 278ms\n",
      "408:\tlearn: 0.0055864\ttotal: 192ms\tremaining: 277ms\n",
      "409:\tlearn: 0.0055743\ttotal: 192ms\tremaining: 277ms\n",
      "410:\tlearn: 0.0055602\ttotal: 193ms\tremaining: 276ms\n",
      "411:\tlearn: 0.0055493\ttotal: 193ms\tremaining: 275ms\n",
      "412:\tlearn: 0.0055362\ttotal: 194ms\tremaining: 275ms\n",
      "413:\tlearn: 0.0055162\ttotal: 194ms\tremaining: 274ms\n",
      "414:\tlearn: 0.0055007\ttotal: 194ms\tremaining: 274ms\n",
      "415:\tlearn: 0.0054864\ttotal: 195ms\tremaining: 273ms\n",
      "416:\tlearn: 0.0054728\ttotal: 195ms\tremaining: 273ms\n",
      "417:\tlearn: 0.0054611\ttotal: 196ms\tremaining: 272ms\n",
      "418:\tlearn: 0.0054500\ttotal: 196ms\tremaining: 272ms\n",
      "419:\tlearn: 0.0054385\ttotal: 196ms\tremaining: 271ms\n",
      "420:\tlearn: 0.0054268\ttotal: 197ms\tremaining: 270ms\n",
      "421:\tlearn: 0.0054154\ttotal: 197ms\tremaining: 270ms\n",
      "422:\tlearn: 0.0054040\ttotal: 197ms\tremaining: 269ms\n",
      "423:\tlearn: 0.0053886\ttotal: 198ms\tremaining: 269ms\n",
      "424:\tlearn: 0.0053767\ttotal: 198ms\tremaining: 268ms\n",
      "425:\tlearn: 0.0053647\ttotal: 199ms\tremaining: 268ms\n",
      "426:\tlearn: 0.0053494\ttotal: 199ms\tremaining: 267ms\n",
      "427:\tlearn: 0.0053391\ttotal: 199ms\tremaining: 267ms\n",
      "428:\tlearn: 0.0053264\ttotal: 200ms\tremaining: 266ms\n",
      "429:\tlearn: 0.0053152\ttotal: 200ms\tremaining: 265ms\n",
      "430:\tlearn: 0.0053061\ttotal: 201ms\tremaining: 265ms\n",
      "431:\tlearn: 0.0052952\ttotal: 201ms\tremaining: 264ms\n",
      "432:\tlearn: 0.0052833\ttotal: 201ms\tremaining: 264ms\n",
      "433:\tlearn: 0.0052695\ttotal: 202ms\tremaining: 264ms\n",
      "434:\tlearn: 0.0052592\ttotal: 203ms\tremaining: 263ms\n",
      "435:\tlearn: 0.0052451\ttotal: 203ms\tremaining: 263ms\n",
      "436:\tlearn: 0.0052344\ttotal: 203ms\tremaining: 262ms\n",
      "437:\tlearn: 0.0052233\ttotal: 204ms\tremaining: 262ms\n",
      "438:\tlearn: 0.0052131\ttotal: 204ms\tremaining: 261ms\n",
      "439:\tlearn: 0.0052021\ttotal: 205ms\tremaining: 261ms\n",
      "440:\tlearn: 0.0051908\ttotal: 205ms\tremaining: 260ms\n",
      "441:\tlearn: 0.0051804\ttotal: 206ms\tremaining: 259ms\n",
      "442:\tlearn: 0.0051703\ttotal: 206ms\tremaining: 259ms\n",
      "443:\tlearn: 0.0051600\ttotal: 206ms\tremaining: 258ms\n",
      "444:\tlearn: 0.0051497\ttotal: 207ms\tremaining: 258ms\n",
      "445:\tlearn: 0.0051388\ttotal: 207ms\tremaining: 257ms\n",
      "446:\tlearn: 0.0051304\ttotal: 210ms\tremaining: 260ms\n",
      "447:\tlearn: 0.0051171\ttotal: 211ms\tremaining: 260ms\n",
      "448:\tlearn: 0.0051065\ttotal: 211ms\tremaining: 259ms\n",
      "449:\tlearn: 0.0050970\ttotal: 212ms\tremaining: 259ms\n",
      "450:\tlearn: 0.0050848\ttotal: 212ms\tremaining: 258ms\n",
      "451:\tlearn: 0.0050764\ttotal: 212ms\tremaining: 258ms\n",
      "452:\tlearn: 0.0050664\ttotal: 213ms\tremaining: 257ms\n",
      "453:\tlearn: 0.0050569\ttotal: 213ms\tremaining: 256ms\n",
      "454:\tlearn: 0.0050469\ttotal: 214ms\tremaining: 256ms\n",
      "455:\tlearn: 0.0050388\ttotal: 214ms\tremaining: 255ms\n",
      "456:\tlearn: 0.0050283\ttotal: 214ms\tremaining: 255ms\n",
      "457:\tlearn: 0.0050201\ttotal: 215ms\tremaining: 254ms\n",
      "458:\tlearn: 0.0050098\ttotal: 215ms\tremaining: 254ms\n",
      "459:\tlearn: 0.0049998\ttotal: 216ms\tremaining: 253ms\n",
      "460:\tlearn: 0.0049915\ttotal: 216ms\tremaining: 253ms\n",
      "461:\tlearn: 0.0049838\ttotal: 216ms\tremaining: 252ms\n",
      "462:\tlearn: 0.0049735\ttotal: 217ms\tremaining: 251ms\n",
      "463:\tlearn: 0.0049635\ttotal: 217ms\tremaining: 251ms\n",
      "464:\tlearn: 0.0049552\ttotal: 217ms\tremaining: 250ms\n",
      "465:\tlearn: 0.0049454\ttotal: 218ms\tremaining: 250ms\n",
      "466:\tlearn: 0.0049357\ttotal: 218ms\tremaining: 249ms\n",
      "467:\tlearn: 0.0049266\ttotal: 219ms\tremaining: 249ms\n",
      "468:\tlearn: 0.0049115\ttotal: 219ms\tremaining: 248ms\n",
      "469:\tlearn: 0.0049022\ttotal: 220ms\tremaining: 248ms\n",
      "470:\tlearn: 0.0048918\ttotal: 220ms\tremaining: 247ms\n",
      "471:\tlearn: 0.0048826\ttotal: 220ms\tremaining: 246ms\n",
      "472:\tlearn: 0.0048748\ttotal: 221ms\tremaining: 246ms\n",
      "473:\tlearn: 0.0048641\ttotal: 221ms\tremaining: 245ms\n",
      "474:\tlearn: 0.0048550\ttotal: 222ms\tremaining: 245ms\n",
      "475:\tlearn: 0.0048459\ttotal: 222ms\tremaining: 244ms\n",
      "476:\tlearn: 0.0048368\ttotal: 222ms\tremaining: 244ms\n",
      "477:\tlearn: 0.0048294\ttotal: 223ms\tremaining: 243ms\n",
      "478:\tlearn: 0.0048195\ttotal: 223ms\tremaining: 242ms\n",
      "479:\tlearn: 0.0048105\ttotal: 223ms\tremaining: 242ms\n",
      "480:\tlearn: 0.0047953\ttotal: 224ms\tremaining: 241ms\n",
      "481:\tlearn: 0.0047856\ttotal: 224ms\tremaining: 241ms\n",
      "482:\tlearn: 0.0047725\ttotal: 224ms\tremaining: 240ms\n",
      "483:\tlearn: 0.0047636\ttotal: 225ms\tremaining: 239ms\n",
      "484:\tlearn: 0.0047549\ttotal: 225ms\tremaining: 239ms\n",
      "485:\tlearn: 0.0047462\ttotal: 225ms\tremaining: 238ms\n",
      "486:\tlearn: 0.0047363\ttotal: 226ms\tremaining: 238ms\n",
      "487:\tlearn: 0.0047293\ttotal: 226ms\tremaining: 237ms\n",
      "488:\tlearn: 0.0047200\ttotal: 226ms\tremaining: 237ms\n",
      "489:\tlearn: 0.0047112\ttotal: 227ms\tremaining: 236ms\n",
      "490:\tlearn: 0.0047021\ttotal: 227ms\tremaining: 235ms\n",
      "491:\tlearn: 0.0046923\ttotal: 227ms\tremaining: 235ms\n",
      "492:\tlearn: 0.0046848\ttotal: 228ms\tremaining: 234ms\n",
      "493:\tlearn: 0.0046760\ttotal: 228ms\tremaining: 234ms\n",
      "494:\tlearn: 0.0046688\ttotal: 229ms\tremaining: 233ms\n",
      "495:\tlearn: 0.0046585\ttotal: 229ms\tremaining: 233ms\n",
      "496:\tlearn: 0.0046505\ttotal: 229ms\tremaining: 232ms\n",
      "497:\tlearn: 0.0046397\ttotal: 230ms\tremaining: 232ms\n",
      "498:\tlearn: 0.0046306\ttotal: 230ms\tremaining: 231ms\n",
      "499:\tlearn: 0.0046212\ttotal: 230ms\tremaining: 230ms\n",
      "500:\tlearn: 0.0046123\ttotal: 231ms\tremaining: 230ms\n",
      "501:\tlearn: 0.0046041\ttotal: 231ms\tremaining: 229ms\n",
      "502:\tlearn: 0.0045970\ttotal: 232ms\tremaining: 229ms\n",
      "503:\tlearn: 0.0045879\ttotal: 232ms\tremaining: 228ms\n",
      "504:\tlearn: 0.0045800\ttotal: 232ms\tremaining: 228ms\n",
      "505:\tlearn: 0.0045713\ttotal: 233ms\tremaining: 227ms\n",
      "506:\tlearn: 0.0045645\ttotal: 233ms\tremaining: 227ms\n",
      "507:\tlearn: 0.0045551\ttotal: 233ms\tremaining: 226ms\n",
      "508:\tlearn: 0.0045463\ttotal: 234ms\tremaining: 225ms\n",
      "509:\tlearn: 0.0045367\ttotal: 234ms\tremaining: 225ms\n",
      "510:\tlearn: 0.0045287\ttotal: 234ms\tremaining: 224ms\n",
      "511:\tlearn: 0.0045216\ttotal: 235ms\tremaining: 224ms\n",
      "512:\tlearn: 0.0045139\ttotal: 235ms\tremaining: 223ms\n",
      "513:\tlearn: 0.0045006\ttotal: 236ms\tremaining: 223ms\n",
      "514:\tlearn: 0.0044928\ttotal: 236ms\tremaining: 222ms\n",
      "515:\tlearn: 0.0044849\ttotal: 236ms\tremaining: 222ms\n",
      "516:\tlearn: 0.0044772\ttotal: 237ms\tremaining: 221ms\n",
      "517:\tlearn: 0.0044690\ttotal: 237ms\tremaining: 221ms\n",
      "518:\tlearn: 0.0044628\ttotal: 237ms\tremaining: 220ms\n",
      "519:\tlearn: 0.0044530\ttotal: 238ms\tremaining: 220ms\n",
      "520:\tlearn: 0.0044459\ttotal: 238ms\tremaining: 219ms\n",
      "521:\tlearn: 0.0044403\ttotal: 239ms\tremaining: 218ms\n",
      "522:\tlearn: 0.0044314\ttotal: 239ms\tremaining: 218ms\n",
      "523:\tlearn: 0.0044242\ttotal: 239ms\tremaining: 217ms\n",
      "524:\tlearn: 0.0044168\ttotal: 240ms\tremaining: 217ms\n",
      "525:\tlearn: 0.0044091\ttotal: 240ms\tremaining: 216ms\n",
      "526:\tlearn: 0.0044017\ttotal: 240ms\tremaining: 216ms\n",
      "527:\tlearn: 0.0043940\ttotal: 241ms\tremaining: 215ms\n",
      "528:\tlearn: 0.0043870\ttotal: 241ms\tremaining: 215ms\n",
      "529:\tlearn: 0.0043799\ttotal: 242ms\tremaining: 214ms\n",
      "530:\tlearn: 0.0043713\ttotal: 242ms\tremaining: 214ms\n",
      "531:\tlearn: 0.0043644\ttotal: 242ms\tremaining: 213ms\n",
      "532:\tlearn: 0.0043584\ttotal: 243ms\tremaining: 213ms\n",
      "533:\tlearn: 0.0043512\ttotal: 243ms\tremaining: 212ms\n",
      "534:\tlearn: 0.0043437\ttotal: 244ms\tremaining: 212ms\n",
      "535:\tlearn: 0.0043369\ttotal: 244ms\tremaining: 211ms\n",
      "536:\tlearn: 0.0043290\ttotal: 244ms\tremaining: 211ms\n",
      "537:\tlearn: 0.0043164\ttotal: 245ms\tremaining: 210ms\n",
      "538:\tlearn: 0.0043087\ttotal: 245ms\tremaining: 210ms\n",
      "539:\tlearn: 0.0043021\ttotal: 245ms\tremaining: 209ms\n",
      "540:\tlearn: 0.0042947\ttotal: 246ms\tremaining: 208ms\n",
      "541:\tlearn: 0.0042889\ttotal: 246ms\tremaining: 208ms\n",
      "542:\tlearn: 0.0042827\ttotal: 246ms\tremaining: 207ms\n",
      "543:\tlearn: 0.0042763\ttotal: 247ms\tremaining: 207ms\n",
      "544:\tlearn: 0.0042692\ttotal: 247ms\tremaining: 206ms\n",
      "545:\tlearn: 0.0042607\ttotal: 248ms\tremaining: 206ms\n",
      "546:\tlearn: 0.0042550\ttotal: 248ms\tremaining: 206ms\n",
      "547:\tlearn: 0.0042473\ttotal: 249ms\tremaining: 205ms\n",
      "548:\tlearn: 0.0042405\ttotal: 249ms\tremaining: 204ms\n",
      "549:\tlearn: 0.0042347\ttotal: 249ms\tremaining: 204ms\n",
      "550:\tlearn: 0.0042285\ttotal: 250ms\tremaining: 203ms\n",
      "551:\tlearn: 0.0042222\ttotal: 250ms\tremaining: 203ms\n",
      "552:\tlearn: 0.0042156\ttotal: 251ms\tremaining: 203ms\n",
      "553:\tlearn: 0.0042089\ttotal: 252ms\tremaining: 203ms\n",
      "554:\tlearn: 0.0042013\ttotal: 252ms\tremaining: 202ms\n",
      "555:\tlearn: 0.0041942\ttotal: 253ms\tremaining: 202ms\n",
      "556:\tlearn: 0.0041867\ttotal: 254ms\tremaining: 202ms\n",
      "557:\tlearn: 0.0041797\ttotal: 254ms\tremaining: 201ms\n",
      "558:\tlearn: 0.0041723\ttotal: 254ms\tremaining: 201ms\n",
      "559:\tlearn: 0.0041658\ttotal: 255ms\tremaining: 200ms\n",
      "560:\tlearn: 0.0041596\ttotal: 255ms\tremaining: 200ms\n",
      "561:\tlearn: 0.0041542\ttotal: 256ms\tremaining: 199ms\n",
      "562:\tlearn: 0.0041467\ttotal: 256ms\tremaining: 199ms\n",
      "563:\tlearn: 0.0041390\ttotal: 257ms\tremaining: 198ms\n",
      "564:\tlearn: 0.0041325\ttotal: 257ms\tremaining: 198ms\n",
      "565:\tlearn: 0.0041270\ttotal: 258ms\tremaining: 197ms\n",
      "566:\tlearn: 0.0041200\ttotal: 258ms\tremaining: 197ms\n",
      "567:\tlearn: 0.0041146\ttotal: 258ms\tremaining: 196ms\n",
      "568:\tlearn: 0.0041079\ttotal: 259ms\tremaining: 196ms\n",
      "569:\tlearn: 0.0041009\ttotal: 259ms\tremaining: 195ms\n",
      "570:\tlearn: 0.0040943\ttotal: 259ms\tremaining: 195ms\n",
      "571:\tlearn: 0.0040874\ttotal: 260ms\tremaining: 194ms\n",
      "572:\tlearn: 0.0040811\ttotal: 260ms\tremaining: 194ms\n",
      "573:\tlearn: 0.0040739\ttotal: 260ms\tremaining: 193ms\n",
      "574:\tlearn: 0.0040685\ttotal: 261ms\tremaining: 193ms\n",
      "575:\tlearn: 0.0040633\ttotal: 261ms\tremaining: 192ms\n",
      "576:\tlearn: 0.0040556\ttotal: 261ms\tremaining: 192ms\n",
      "577:\tlearn: 0.0040503\ttotal: 262ms\tremaining: 191ms\n",
      "578:\tlearn: 0.0040453\ttotal: 262ms\tremaining: 191ms\n",
      "579:\tlearn: 0.0040380\ttotal: 263ms\tremaining: 190ms\n",
      "580:\tlearn: 0.0040319\ttotal: 263ms\tremaining: 190ms\n",
      "581:\tlearn: 0.0040252\ttotal: 263ms\tremaining: 189ms\n",
      "582:\tlearn: 0.0040181\ttotal: 264ms\tremaining: 189ms\n",
      "583:\tlearn: 0.0040123\ttotal: 264ms\tremaining: 188ms\n",
      "584:\tlearn: 0.0040045\ttotal: 265ms\tremaining: 188ms\n",
      "585:\tlearn: 0.0039990\ttotal: 265ms\tremaining: 187ms\n",
      "586:\tlearn: 0.0039932\ttotal: 265ms\tremaining: 187ms\n",
      "587:\tlearn: 0.0039864\ttotal: 266ms\tremaining: 186ms\n",
      "588:\tlearn: 0.0039804\ttotal: 266ms\tremaining: 186ms\n",
      "589:\tlearn: 0.0039753\ttotal: 266ms\tremaining: 185ms\n",
      "590:\tlearn: 0.0039696\ttotal: 267ms\tremaining: 185ms\n",
      "591:\tlearn: 0.0039630\ttotal: 267ms\tremaining: 184ms\n",
      "592:\tlearn: 0.0039569\ttotal: 267ms\tremaining: 183ms\n",
      "593:\tlearn: 0.0039508\ttotal: 268ms\tremaining: 183ms\n",
      "594:\tlearn: 0.0039438\ttotal: 268ms\tremaining: 183ms\n",
      "595:\tlearn: 0.0039380\ttotal: 269ms\tremaining: 182ms\n",
      "596:\tlearn: 0.0039316\ttotal: 269ms\tremaining: 182ms\n",
      "597:\tlearn: 0.0039264\ttotal: 269ms\tremaining: 181ms\n",
      "598:\tlearn: 0.0039175\ttotal: 270ms\tremaining: 181ms\n",
      "599:\tlearn: 0.0039116\ttotal: 270ms\tremaining: 180ms\n",
      "600:\tlearn: 0.0039064\ttotal: 271ms\tremaining: 180ms\n",
      "601:\tlearn: 0.0039005\ttotal: 271ms\tremaining: 179ms\n",
      "602:\tlearn: 0.0038957\ttotal: 272ms\tremaining: 179ms\n",
      "603:\tlearn: 0.0038887\ttotal: 272ms\tremaining: 178ms\n",
      "604:\tlearn: 0.0038839\ttotal: 273ms\tremaining: 178ms\n",
      "605:\tlearn: 0.0038776\ttotal: 273ms\tremaining: 177ms\n",
      "606:\tlearn: 0.0038724\ttotal: 273ms\tremaining: 177ms\n",
      "607:\tlearn: 0.0038668\ttotal: 274ms\tremaining: 177ms\n",
      "608:\tlearn: 0.0038610\ttotal: 274ms\tremaining: 176ms\n",
      "609:\tlearn: 0.0038563\ttotal: 275ms\tremaining: 176ms\n",
      "610:\tlearn: 0.0038505\ttotal: 275ms\tremaining: 175ms\n",
      "611:\tlearn: 0.0038448\ttotal: 275ms\tremaining: 175ms\n",
      "612:\tlearn: 0.0038391\ttotal: 276ms\tremaining: 174ms\n",
      "613:\tlearn: 0.0038344\ttotal: 276ms\tremaining: 174ms\n",
      "614:\tlearn: 0.0038291\ttotal: 277ms\tremaining: 173ms\n",
      "615:\tlearn: 0.0038235\ttotal: 277ms\tremaining: 173ms\n",
      "616:\tlearn: 0.0038183\ttotal: 278ms\tremaining: 172ms\n",
      "617:\tlearn: 0.0038137\ttotal: 278ms\tremaining: 172ms\n",
      "618:\tlearn: 0.0038091\ttotal: 278ms\tremaining: 171ms\n",
      "619:\tlearn: 0.0038033\ttotal: 279ms\tremaining: 171ms\n",
      "620:\tlearn: 0.0037966\ttotal: 279ms\tremaining: 170ms\n",
      "621:\tlearn: 0.0037918\ttotal: 282ms\tremaining: 171ms\n",
      "622:\tlearn: 0.0037860\ttotal: 282ms\tremaining: 171ms\n",
      "623:\tlearn: 0.0037803\ttotal: 283ms\tremaining: 170ms\n",
      "624:\tlearn: 0.0037754\ttotal: 283ms\tremaining: 170ms\n",
      "625:\tlearn: 0.0037702\ttotal: 283ms\tremaining: 169ms\n",
      "626:\tlearn: 0.0037619\ttotal: 284ms\tremaining: 169ms\n",
      "627:\tlearn: 0.0037563\ttotal: 284ms\tremaining: 168ms\n",
      "628:\tlearn: 0.0037509\ttotal: 285ms\tremaining: 168ms\n",
      "629:\tlearn: 0.0037454\ttotal: 285ms\tremaining: 167ms\n",
      "630:\tlearn: 0.0037406\ttotal: 285ms\tremaining: 167ms\n",
      "631:\tlearn: 0.0037353\ttotal: 286ms\tremaining: 166ms\n",
      "632:\tlearn: 0.0037290\ttotal: 286ms\tremaining: 166ms\n",
      "633:\tlearn: 0.0037232\ttotal: 287ms\tremaining: 166ms\n",
      "634:\tlearn: 0.0037177\ttotal: 287ms\tremaining: 165ms\n",
      "635:\tlearn: 0.0037134\ttotal: 288ms\tremaining: 165ms\n",
      "636:\tlearn: 0.0037080\ttotal: 288ms\tremaining: 164ms\n",
      "637:\tlearn: 0.0037021\ttotal: 288ms\tremaining: 164ms\n",
      "638:\tlearn: 0.0036948\ttotal: 289ms\tremaining: 163ms\n",
      "639:\tlearn: 0.0036894\ttotal: 289ms\tremaining: 163ms\n",
      "640:\tlearn: 0.0036827\ttotal: 290ms\tremaining: 162ms\n",
      "641:\tlearn: 0.0036774\ttotal: 290ms\tremaining: 162ms\n",
      "642:\tlearn: 0.0036725\ttotal: 291ms\tremaining: 161ms\n",
      "643:\tlearn: 0.0036667\ttotal: 291ms\tremaining: 161ms\n",
      "644:\tlearn: 0.0036606\ttotal: 291ms\tremaining: 160ms\n",
      "645:\tlearn: 0.0036556\ttotal: 292ms\tremaining: 160ms\n",
      "646:\tlearn: 0.0036498\ttotal: 292ms\tremaining: 159ms\n",
      "647:\tlearn: 0.0036456\ttotal: 296ms\tremaining: 161ms\n",
      "648:\tlearn: 0.0036400\ttotal: 297ms\tremaining: 160ms\n",
      "649:\tlearn: 0.0036350\ttotal: 297ms\tremaining: 160ms\n",
      "650:\tlearn: 0.0036298\ttotal: 298ms\tremaining: 160ms\n",
      "651:\tlearn: 0.0036252\ttotal: 298ms\tremaining: 159ms\n",
      "652:\tlearn: 0.0036201\ttotal: 299ms\tremaining: 159ms\n",
      "653:\tlearn: 0.0036152\ttotal: 299ms\tremaining: 158ms\n",
      "654:\tlearn: 0.0036091\ttotal: 300ms\tremaining: 158ms\n",
      "655:\tlearn: 0.0036038\ttotal: 300ms\tremaining: 157ms\n",
      "656:\tlearn: 0.0035980\ttotal: 301ms\tremaining: 157ms\n",
      "657:\tlearn: 0.0035940\ttotal: 302ms\tremaining: 157ms\n",
      "658:\tlearn: 0.0035890\ttotal: 302ms\tremaining: 156ms\n",
      "659:\tlearn: 0.0035836\ttotal: 303ms\tremaining: 156ms\n",
      "660:\tlearn: 0.0035796\ttotal: 303ms\tremaining: 155ms\n",
      "661:\tlearn: 0.0035747\ttotal: 304ms\tremaining: 155ms\n",
      "662:\tlearn: 0.0035696\ttotal: 304ms\tremaining: 155ms\n",
      "663:\tlearn: 0.0035647\ttotal: 305ms\tremaining: 154ms\n",
      "664:\tlearn: 0.0035604\ttotal: 305ms\tremaining: 154ms\n",
      "665:\tlearn: 0.0035555\ttotal: 306ms\tremaining: 153ms\n",
      "666:\tlearn: 0.0035514\ttotal: 306ms\tremaining: 153ms\n",
      "667:\tlearn: 0.0035466\ttotal: 307ms\tremaining: 153ms\n",
      "668:\tlearn: 0.0035417\ttotal: 307ms\tremaining: 152ms\n",
      "669:\tlearn: 0.0035368\ttotal: 308ms\tremaining: 152ms\n",
      "670:\tlearn: 0.0035308\ttotal: 308ms\tremaining: 151ms\n",
      "671:\tlearn: 0.0035260\ttotal: 309ms\tremaining: 151ms\n",
      "672:\tlearn: 0.0035207\ttotal: 309ms\tremaining: 150ms\n",
      "673:\tlearn: 0.0035160\ttotal: 310ms\tremaining: 150ms\n",
      "674:\tlearn: 0.0035113\ttotal: 310ms\tremaining: 149ms\n",
      "675:\tlearn: 0.0035037\ttotal: 311ms\tremaining: 149ms\n",
      "676:\tlearn: 0.0034980\ttotal: 311ms\tremaining: 149ms\n",
      "677:\tlearn: 0.0034932\ttotal: 312ms\tremaining: 148ms\n",
      "678:\tlearn: 0.0034882\ttotal: 312ms\tremaining: 148ms\n",
      "679:\tlearn: 0.0034843\ttotal: 313ms\tremaining: 147ms\n",
      "680:\tlearn: 0.0034779\ttotal: 313ms\tremaining: 147ms\n",
      "681:\tlearn: 0.0034717\ttotal: 314ms\tremaining: 146ms\n",
      "682:\tlearn: 0.0034667\ttotal: 314ms\tremaining: 146ms\n",
      "683:\tlearn: 0.0034621\ttotal: 315ms\tremaining: 146ms\n",
      "684:\tlearn: 0.0034577\ttotal: 316ms\tremaining: 145ms\n",
      "685:\tlearn: 0.0034530\ttotal: 316ms\tremaining: 145ms\n",
      "686:\tlearn: 0.0034484\ttotal: 317ms\tremaining: 144ms\n",
      "687:\tlearn: 0.0034437\ttotal: 317ms\tremaining: 144ms\n",
      "688:\tlearn: 0.0034374\ttotal: 318ms\tremaining: 143ms\n",
      "689:\tlearn: 0.0034329\ttotal: 318ms\tremaining: 143ms\n",
      "690:\tlearn: 0.0034284\ttotal: 319ms\tremaining: 142ms\n",
      "691:\tlearn: 0.0034235\ttotal: 319ms\tremaining: 142ms\n",
      "692:\tlearn: 0.0034190\ttotal: 320ms\tremaining: 142ms\n",
      "693:\tlearn: 0.0034136\ttotal: 321ms\tremaining: 141ms\n",
      "694:\tlearn: 0.0034091\ttotal: 321ms\tremaining: 141ms\n",
      "695:\tlearn: 0.0034046\ttotal: 322ms\tremaining: 140ms\n",
      "696:\tlearn: 0.0033999\ttotal: 322ms\tremaining: 140ms\n",
      "697:\tlearn: 0.0033954\ttotal: 323ms\tremaining: 140ms\n",
      "698:\tlearn: 0.0033906\ttotal: 323ms\tremaining: 139ms\n",
      "699:\tlearn: 0.0033859\ttotal: 324ms\tremaining: 139ms\n",
      "700:\tlearn: 0.0033815\ttotal: 324ms\tremaining: 138ms\n",
      "701:\tlearn: 0.0033769\ttotal: 325ms\tremaining: 138ms\n",
      "702:\tlearn: 0.0033726\ttotal: 325ms\tremaining: 137ms\n",
      "703:\tlearn: 0.0033683\ttotal: 326ms\tremaining: 137ms\n",
      "704:\tlearn: 0.0033645\ttotal: 326ms\tremaining: 136ms\n",
      "705:\tlearn: 0.0033602\ttotal: 327ms\tremaining: 136ms\n",
      "706:\tlearn: 0.0033554\ttotal: 327ms\tremaining: 136ms\n",
      "707:\tlearn: 0.0033517\ttotal: 328ms\tremaining: 135ms\n",
      "708:\tlearn: 0.0033480\ttotal: 328ms\tremaining: 135ms\n",
      "709:\tlearn: 0.0033437\ttotal: 329ms\tremaining: 134ms\n",
      "710:\tlearn: 0.0033368\ttotal: 329ms\tremaining: 134ms\n",
      "711:\tlearn: 0.0033324\ttotal: 330ms\tremaining: 133ms\n",
      "712:\tlearn: 0.0033288\ttotal: 331ms\tremaining: 133ms\n",
      "713:\tlearn: 0.0033247\ttotal: 332ms\tremaining: 133ms\n",
      "714:\tlearn: 0.0033212\ttotal: 332ms\tremaining: 132ms\n",
      "715:\tlearn: 0.0033178\ttotal: 333ms\tremaining: 132ms\n",
      "716:\tlearn: 0.0033117\ttotal: 334ms\tremaining: 132ms\n",
      "717:\tlearn: 0.0033064\ttotal: 334ms\tremaining: 131ms\n",
      "718:\tlearn: 0.0033008\ttotal: 334ms\tremaining: 131ms\n",
      "719:\tlearn: 0.0032972\ttotal: 335ms\tremaining: 130ms\n",
      "720:\tlearn: 0.0032933\ttotal: 335ms\tremaining: 130ms\n",
      "721:\tlearn: 0.0032888\ttotal: 336ms\tremaining: 129ms\n",
      "722:\tlearn: 0.0032835\ttotal: 336ms\tremaining: 129ms\n",
      "723:\tlearn: 0.0032792\ttotal: 337ms\tremaining: 128ms\n",
      "724:\tlearn: 0.0032740\ttotal: 338ms\tremaining: 128ms\n",
      "725:\tlearn: 0.0032696\ttotal: 338ms\tremaining: 128ms\n",
      "726:\tlearn: 0.0032651\ttotal: 339ms\tremaining: 127ms\n",
      "727:\tlearn: 0.0032596\ttotal: 339ms\tremaining: 127ms\n",
      "728:\tlearn: 0.0032551\ttotal: 340ms\tremaining: 126ms\n",
      "729:\tlearn: 0.0032510\ttotal: 340ms\tremaining: 126ms\n",
      "730:\tlearn: 0.0032469\ttotal: 341ms\tremaining: 125ms\n",
      "731:\tlearn: 0.0032435\ttotal: 342ms\tremaining: 125ms\n",
      "732:\tlearn: 0.0032402\ttotal: 342ms\tremaining: 125ms\n",
      "733:\tlearn: 0.0032362\ttotal: 343ms\tremaining: 124ms\n",
      "734:\tlearn: 0.0032329\ttotal: 344ms\tremaining: 124ms\n",
      "735:\tlearn: 0.0032286\ttotal: 344ms\tremaining: 123ms\n",
      "736:\tlearn: 0.0032244\ttotal: 345ms\tremaining: 123ms\n",
      "737:\tlearn: 0.0032197\ttotal: 345ms\tremaining: 123ms\n",
      "738:\tlearn: 0.0032157\ttotal: 346ms\tremaining: 122ms\n",
      "739:\tlearn: 0.0032112\ttotal: 347ms\tremaining: 122ms\n",
      "740:\tlearn: 0.0032069\ttotal: 347ms\tremaining: 121ms\n",
      "741:\tlearn: 0.0032021\ttotal: 348ms\tremaining: 121ms\n",
      "742:\tlearn: 0.0031988\ttotal: 349ms\tremaining: 121ms\n",
      "743:\tlearn: 0.0031955\ttotal: 349ms\tremaining: 120ms\n",
      "744:\tlearn: 0.0031917\ttotal: 350ms\tremaining: 120ms\n",
      "745:\tlearn: 0.0031875\ttotal: 350ms\tremaining: 119ms\n",
      "746:\tlearn: 0.0031838\ttotal: 351ms\tremaining: 119ms\n",
      "747:\tlearn: 0.0031797\ttotal: 351ms\tremaining: 118ms\n",
      "748:\tlearn: 0.0031762\ttotal: 352ms\tremaining: 118ms\n",
      "749:\tlearn: 0.0031724\ttotal: 353ms\tremaining: 118ms\n",
      "750:\tlearn: 0.0031681\ttotal: 353ms\tremaining: 117ms\n",
      "751:\tlearn: 0.0031643\ttotal: 354ms\tremaining: 117ms\n",
      "752:\tlearn: 0.0031601\ttotal: 354ms\tremaining: 116ms\n",
      "753:\tlearn: 0.0031563\ttotal: 355ms\tremaining: 116ms\n",
      "754:\tlearn: 0.0031515\ttotal: 355ms\tremaining: 115ms\n",
      "755:\tlearn: 0.0031479\ttotal: 356ms\tremaining: 115ms\n",
      "756:\tlearn: 0.0031439\ttotal: 357ms\tremaining: 114ms\n",
      "757:\tlearn: 0.0031403\ttotal: 357ms\tremaining: 114ms\n",
      "758:\tlearn: 0.0031350\ttotal: 358ms\tremaining: 114ms\n",
      "759:\tlearn: 0.0031312\ttotal: 358ms\tremaining: 113ms\n",
      "760:\tlearn: 0.0031274\ttotal: 359ms\tremaining: 113ms\n",
      "761:\tlearn: 0.0031216\ttotal: 359ms\tremaining: 112ms\n",
      "762:\tlearn: 0.0031169\ttotal: 360ms\tremaining: 112ms\n",
      "763:\tlearn: 0.0031128\ttotal: 361ms\tremaining: 111ms\n",
      "764:\tlearn: 0.0031093\ttotal: 361ms\tremaining: 111ms\n",
      "765:\tlearn: 0.0031056\ttotal: 362ms\tremaining: 111ms\n",
      "766:\tlearn: 0.0031020\ttotal: 362ms\tremaining: 110ms\n",
      "767:\tlearn: 0.0030983\ttotal: 363ms\tremaining: 110ms\n",
      "768:\tlearn: 0.0030946\ttotal: 364ms\tremaining: 109ms\n",
      "769:\tlearn: 0.0030915\ttotal: 364ms\tremaining: 109ms\n",
      "770:\tlearn: 0.0030878\ttotal: 365ms\tremaining: 108ms\n",
      "771:\tlearn: 0.0030843\ttotal: 365ms\tremaining: 108ms\n",
      "772:\tlearn: 0.0030806\ttotal: 366ms\tremaining: 107ms\n",
      "773:\tlearn: 0.0030757\ttotal: 367ms\tremaining: 107ms\n",
      "774:\tlearn: 0.0030718\ttotal: 367ms\tremaining: 107ms\n",
      "775:\tlearn: 0.0030682\ttotal: 368ms\tremaining: 106ms\n",
      "776:\tlearn: 0.0030652\ttotal: 368ms\tremaining: 106ms\n",
      "777:\tlearn: 0.0030615\ttotal: 369ms\tremaining: 105ms\n",
      "778:\tlearn: 0.0030579\ttotal: 375ms\tremaining: 106ms\n",
      "779:\tlearn: 0.0030534\ttotal: 375ms\tremaining: 106ms\n",
      "780:\tlearn: 0.0030498\ttotal: 376ms\tremaining: 105ms\n",
      "781:\tlearn: 0.0030463\ttotal: 377ms\tremaining: 105ms\n",
      "782:\tlearn: 0.0030433\ttotal: 377ms\tremaining: 105ms\n",
      "783:\tlearn: 0.0030385\ttotal: 378ms\tremaining: 104ms\n",
      "784:\tlearn: 0.0030353\ttotal: 378ms\tremaining: 104ms\n",
      "785:\tlearn: 0.0030318\ttotal: 379ms\tremaining: 103ms\n",
      "786:\tlearn: 0.0030287\ttotal: 379ms\tremaining: 103ms\n",
      "787:\tlearn: 0.0030246\ttotal: 379ms\tremaining: 102ms\n",
      "788:\tlearn: 0.0030209\ttotal: 380ms\tremaining: 102ms\n",
      "789:\tlearn: 0.0030169\ttotal: 380ms\tremaining: 101ms\n",
      "790:\tlearn: 0.0030132\ttotal: 381ms\tremaining: 101ms\n",
      "791:\tlearn: 0.0030097\ttotal: 381ms\tremaining: 100ms\n",
      "792:\tlearn: 0.0030062\ttotal: 381ms\tremaining: 99.5ms\n",
      "793:\tlearn: 0.0030022\ttotal: 382ms\tremaining: 99.1ms\n",
      "794:\tlearn: 0.0029984\ttotal: 382ms\tremaining: 98.6ms\n",
      "795:\tlearn: 0.0029956\ttotal: 383ms\tremaining: 98.1ms\n",
      "796:\tlearn: 0.0029924\ttotal: 383ms\tremaining: 97.6ms\n",
      "797:\tlearn: 0.0029885\ttotal: 384ms\tremaining: 97.1ms\n",
      "798:\tlearn: 0.0029851\ttotal: 384ms\tremaining: 96.6ms\n",
      "799:\tlearn: 0.0029818\ttotal: 385ms\tremaining: 96.1ms\n",
      "800:\tlearn: 0.0029782\ttotal: 385ms\tremaining: 95.6ms\n",
      "801:\tlearn: 0.0029747\ttotal: 385ms\tremaining: 95.1ms\n",
      "802:\tlearn: 0.0029714\ttotal: 386ms\tremaining: 94.6ms\n",
      "803:\tlearn: 0.0029674\ttotal: 386ms\tremaining: 94.2ms\n",
      "804:\tlearn: 0.0029640\ttotal: 387ms\tremaining: 93.7ms\n",
      "805:\tlearn: 0.0029608\ttotal: 387ms\tremaining: 93.2ms\n",
      "806:\tlearn: 0.0029574\ttotal: 387ms\tremaining: 92.7ms\n",
      "807:\tlearn: 0.0029542\ttotal: 388ms\tremaining: 92.2ms\n",
      "808:\tlearn: 0.0029503\ttotal: 388ms\tremaining: 91.6ms\n",
      "809:\tlearn: 0.0029470\ttotal: 388ms\tremaining: 91.1ms\n",
      "810:\tlearn: 0.0029413\ttotal: 389ms\tremaining: 90.7ms\n",
      "811:\tlearn: 0.0029380\ttotal: 389ms\tremaining: 90.1ms\n",
      "812:\tlearn: 0.0029344\ttotal: 390ms\tremaining: 89.6ms\n",
      "813:\tlearn: 0.0029311\ttotal: 390ms\tremaining: 89.1ms\n",
      "814:\tlearn: 0.0029278\ttotal: 390ms\tremaining: 88.6ms\n",
      "815:\tlearn: 0.0029243\ttotal: 391ms\tremaining: 88.2ms\n",
      "816:\tlearn: 0.0029208\ttotal: 391ms\tremaining: 87.7ms\n",
      "817:\tlearn: 0.0029180\ttotal: 392ms\tremaining: 87.2ms\n",
      "818:\tlearn: 0.0029148\ttotal: 392ms\tremaining: 86.7ms\n",
      "819:\tlearn: 0.0029115\ttotal: 393ms\tremaining: 86.2ms\n",
      "820:\tlearn: 0.0029086\ttotal: 393ms\tremaining: 85.7ms\n",
      "821:\tlearn: 0.0029059\ttotal: 394ms\tremaining: 85.2ms\n",
      "822:\tlearn: 0.0029015\ttotal: 394ms\tremaining: 84.7ms\n",
      "823:\tlearn: 0.0028988\ttotal: 394ms\tremaining: 84.3ms\n",
      "824:\tlearn: 0.0028946\ttotal: 395ms\tremaining: 83.8ms\n",
      "825:\tlearn: 0.0028911\ttotal: 395ms\tremaining: 83.3ms\n",
      "826:\tlearn: 0.0028876\ttotal: 396ms\tremaining: 82.8ms\n",
      "827:\tlearn: 0.0028845\ttotal: 396ms\tremaining: 82.3ms\n",
      "828:\tlearn: 0.0028813\ttotal: 397ms\tremaining: 81.8ms\n",
      "829:\tlearn: 0.0028781\ttotal: 397ms\tremaining: 81.3ms\n",
      "830:\tlearn: 0.0028747\ttotal: 397ms\tremaining: 80.8ms\n",
      "831:\tlearn: 0.0028714\ttotal: 398ms\tremaining: 80.3ms\n",
      "832:\tlearn: 0.0028688\ttotal: 398ms\tremaining: 79.8ms\n",
      "833:\tlearn: 0.0028662\ttotal: 399ms\tremaining: 79.3ms\n",
      "834:\tlearn: 0.0028636\ttotal: 399ms\tremaining: 78.8ms\n",
      "835:\tlearn: 0.0028608\ttotal: 399ms\tremaining: 78.3ms\n",
      "836:\tlearn: 0.0028578\ttotal: 400ms\tremaining: 77.8ms\n",
      "837:\tlearn: 0.0028546\ttotal: 400ms\tremaining: 77.3ms\n",
      "838:\tlearn: 0.0028508\ttotal: 401ms\tremaining: 76.9ms\n",
      "839:\tlearn: 0.0028483\ttotal: 401ms\tremaining: 76.4ms\n",
      "840:\tlearn: 0.0028442\ttotal: 401ms\tremaining: 75.9ms\n",
      "841:\tlearn: 0.0028411\ttotal: 402ms\tremaining: 75.4ms\n",
      "842:\tlearn: 0.0028386\ttotal: 402ms\tremaining: 74.9ms\n",
      "843:\tlearn: 0.0028348\ttotal: 403ms\tremaining: 74.4ms\n",
      "844:\tlearn: 0.0028322\ttotal: 403ms\tremaining: 73.9ms\n",
      "845:\tlearn: 0.0028290\ttotal: 403ms\tremaining: 73.4ms\n",
      "846:\tlearn: 0.0028265\ttotal: 404ms\tremaining: 72.9ms\n",
      "847:\tlearn: 0.0028240\ttotal: 404ms\tremaining: 72.4ms\n",
      "848:\tlearn: 0.0028209\ttotal: 404ms\tremaining: 71.9ms\n",
      "849:\tlearn: 0.0028179\ttotal: 405ms\tremaining: 71.4ms\n",
      "850:\tlearn: 0.0028153\ttotal: 405ms\tremaining: 70.9ms\n",
      "851:\tlearn: 0.0028124\ttotal: 406ms\tremaining: 70.4ms\n",
      "852:\tlearn: 0.0028095\ttotal: 406ms\tremaining: 70ms\n",
      "853:\tlearn: 0.0028066\ttotal: 406ms\tremaining: 69.5ms\n",
      "854:\tlearn: 0.0028031\ttotal: 407ms\tremaining: 69ms\n",
      "855:\tlearn: 0.0028001\ttotal: 407ms\tremaining: 68.5ms\n",
      "856:\tlearn: 0.0027971\ttotal: 408ms\tremaining: 68ms\n",
      "857:\tlearn: 0.0027948\ttotal: 408ms\tremaining: 67.5ms\n",
      "858:\tlearn: 0.0027912\ttotal: 408ms\tremaining: 67ms\n",
      "859:\tlearn: 0.0027877\ttotal: 409ms\tremaining: 66.5ms\n",
      "860:\tlearn: 0.0027850\ttotal: 409ms\tremaining: 66ms\n",
      "861:\tlearn: 0.0027812\ttotal: 409ms\tremaining: 65.6ms\n",
      "862:\tlearn: 0.0027779\ttotal: 410ms\tremaining: 65.1ms\n",
      "863:\tlearn: 0.0027750\ttotal: 410ms\tremaining: 64.6ms\n",
      "864:\tlearn: 0.0027718\ttotal: 411ms\tremaining: 64.1ms\n",
      "865:\tlearn: 0.0027689\ttotal: 411ms\tremaining: 63.6ms\n",
      "866:\tlearn: 0.0027660\ttotal: 411ms\tremaining: 63.1ms\n",
      "867:\tlearn: 0.0027631\ttotal: 412ms\tremaining: 62.6ms\n",
      "868:\tlearn: 0.0027607\ttotal: 412ms\tremaining: 62.1ms\n",
      "869:\tlearn: 0.0027573\ttotal: 413ms\tremaining: 61.6ms\n",
      "870:\tlearn: 0.0027537\ttotal: 413ms\tremaining: 61.1ms\n",
      "871:\tlearn: 0.0027508\ttotal: 413ms\tremaining: 60.7ms\n",
      "872:\tlearn: 0.0027480\ttotal: 414ms\tremaining: 60.2ms\n",
      "873:\tlearn: 0.0027452\ttotal: 414ms\tremaining: 59.7ms\n",
      "874:\tlearn: 0.0027421\ttotal: 414ms\tremaining: 59.2ms\n",
      "875:\tlearn: 0.0027385\ttotal: 415ms\tremaining: 58.7ms\n",
      "876:\tlearn: 0.0027356\ttotal: 415ms\tremaining: 58.2ms\n",
      "877:\tlearn: 0.0027320\ttotal: 415ms\tremaining: 57.7ms\n",
      "878:\tlearn: 0.0027289\ttotal: 416ms\tremaining: 57.2ms\n",
      "879:\tlearn: 0.0027260\ttotal: 416ms\tremaining: 56.8ms\n",
      "880:\tlearn: 0.0027230\ttotal: 417ms\tremaining: 56.3ms\n",
      "881:\tlearn: 0.0027205\ttotal: 417ms\tremaining: 55.8ms\n",
      "882:\tlearn: 0.0027178\ttotal: 418ms\tremaining: 55.4ms\n",
      "883:\tlearn: 0.0027145\ttotal: 418ms\tremaining: 54.9ms\n",
      "884:\tlearn: 0.0027111\ttotal: 419ms\tremaining: 54.4ms\n",
      "885:\tlearn: 0.0027083\ttotal: 419ms\tremaining: 53.9ms\n",
      "886:\tlearn: 0.0027056\ttotal: 419ms\tremaining: 53.4ms\n",
      "887:\tlearn: 0.0027033\ttotal: 420ms\tremaining: 52.9ms\n",
      "888:\tlearn: 0.0026994\ttotal: 420ms\tremaining: 52.5ms\n",
      "889:\tlearn: 0.0026964\ttotal: 421ms\tremaining: 52ms\n",
      "890:\tlearn: 0.0026928\ttotal: 421ms\tremaining: 51.5ms\n",
      "891:\tlearn: 0.0026899\ttotal: 421ms\tremaining: 51ms\n",
      "892:\tlearn: 0.0026871\ttotal: 422ms\tremaining: 50.5ms\n",
      "893:\tlearn: 0.0026834\ttotal: 422ms\tremaining: 50.1ms\n",
      "894:\tlearn: 0.0026809\ttotal: 423ms\tremaining: 49.6ms\n",
      "895:\tlearn: 0.0026782\ttotal: 423ms\tremaining: 49.1ms\n",
      "896:\tlearn: 0.0026753\ttotal: 424ms\tremaining: 48.6ms\n",
      "897:\tlearn: 0.0026726\ttotal: 424ms\tremaining: 48.2ms\n",
      "898:\tlearn: 0.0026699\ttotal: 424ms\tremaining: 47.7ms\n",
      "899:\tlearn: 0.0026675\ttotal: 425ms\tremaining: 47.3ms\n",
      "900:\tlearn: 0.0026643\ttotal: 426ms\tremaining: 46.8ms\n",
      "901:\tlearn: 0.0026617\ttotal: 426ms\tremaining: 46.3ms\n",
      "902:\tlearn: 0.0026590\ttotal: 427ms\tremaining: 45.8ms\n",
      "903:\tlearn: 0.0026560\ttotal: 427ms\tremaining: 45.4ms\n",
      "904:\tlearn: 0.0026537\ttotal: 428ms\tremaining: 44.9ms\n",
      "905:\tlearn: 0.0026512\ttotal: 428ms\tremaining: 44.4ms\n",
      "906:\tlearn: 0.0026487\ttotal: 429ms\tremaining: 43.9ms\n",
      "907:\tlearn: 0.0026459\ttotal: 429ms\tremaining: 43.5ms\n",
      "908:\tlearn: 0.0026432\ttotal: 429ms\tremaining: 43ms\n",
      "909:\tlearn: 0.0026405\ttotal: 430ms\tremaining: 42.5ms\n",
      "910:\tlearn: 0.0026366\ttotal: 430ms\tremaining: 42ms\n",
      "911:\tlearn: 0.0026332\ttotal: 430ms\tremaining: 41.5ms\n",
      "912:\tlearn: 0.0026311\ttotal: 431ms\tremaining: 41ms\n",
      "913:\tlearn: 0.0026283\ttotal: 431ms\tremaining: 40.6ms\n",
      "914:\tlearn: 0.0026256\ttotal: 431ms\tremaining: 40.1ms\n",
      "915:\tlearn: 0.0026230\ttotal: 432ms\tremaining: 39.6ms\n",
      "916:\tlearn: 0.0026206\ttotal: 432ms\tremaining: 39.1ms\n",
      "917:\tlearn: 0.0026184\ttotal: 433ms\tremaining: 38.6ms\n",
      "918:\tlearn: 0.0026157\ttotal: 433ms\tremaining: 38.2ms\n",
      "919:\tlearn: 0.0026132\ttotal: 433ms\tremaining: 37.7ms\n",
      "920:\tlearn: 0.0026105\ttotal: 434ms\tremaining: 37.2ms\n",
      "921:\tlearn: 0.0026084\ttotal: 434ms\tremaining: 36.7ms\n",
      "922:\tlearn: 0.0026055\ttotal: 435ms\tremaining: 36.3ms\n",
      "923:\tlearn: 0.0026027\ttotal: 435ms\tremaining: 35.8ms\n",
      "924:\tlearn: 0.0026005\ttotal: 436ms\tremaining: 35.3ms\n",
      "925:\tlearn: 0.0025983\ttotal: 436ms\tremaining: 34.9ms\n",
      "926:\tlearn: 0.0025955\ttotal: 437ms\tremaining: 34.4ms\n",
      "927:\tlearn: 0.0025927\ttotal: 437ms\tremaining: 33.9ms\n",
      "928:\tlearn: 0.0025904\ttotal: 438ms\tremaining: 33.5ms\n",
      "929:\tlearn: 0.0025874\ttotal: 438ms\tremaining: 33ms\n",
      "930:\tlearn: 0.0025847\ttotal: 439ms\tremaining: 32.5ms\n",
      "931:\tlearn: 0.0025826\ttotal: 439ms\tremaining: 32.1ms\n",
      "932:\tlearn: 0.0025800\ttotal: 440ms\tremaining: 31.6ms\n",
      "933:\tlearn: 0.0025761\ttotal: 440ms\tremaining: 31.1ms\n",
      "934:\tlearn: 0.0025741\ttotal: 441ms\tremaining: 30.6ms\n",
      "935:\tlearn: 0.0025716\ttotal: 441ms\tremaining: 30.2ms\n",
      "936:\tlearn: 0.0025691\ttotal: 442ms\tremaining: 29.7ms\n",
      "937:\tlearn: 0.0025664\ttotal: 442ms\tremaining: 29.2ms\n",
      "938:\tlearn: 0.0025634\ttotal: 442ms\tremaining: 28.7ms\n",
      "939:\tlearn: 0.0025613\ttotal: 443ms\tremaining: 28.3ms\n",
      "940:\tlearn: 0.0025592\ttotal: 443ms\tremaining: 27.8ms\n",
      "941:\tlearn: 0.0025571\ttotal: 444ms\tremaining: 27.3ms\n",
      "942:\tlearn: 0.0025551\ttotal: 444ms\tremaining: 26.8ms\n",
      "943:\tlearn: 0.0025531\ttotal: 444ms\tremaining: 26.4ms\n",
      "944:\tlearn: 0.0025501\ttotal: 445ms\tremaining: 25.9ms\n",
      "945:\tlearn: 0.0025471\ttotal: 445ms\tremaining: 25.4ms\n",
      "946:\tlearn: 0.0025447\ttotal: 446ms\tremaining: 24.9ms\n",
      "947:\tlearn: 0.0025422\ttotal: 446ms\tremaining: 24.5ms\n",
      "948:\tlearn: 0.0025395\ttotal: 446ms\tremaining: 24ms\n",
      "949:\tlearn: 0.0025370\ttotal: 447ms\tremaining: 23.5ms\n",
      "950:\tlearn: 0.0025349\ttotal: 447ms\tremaining: 23ms\n",
      "951:\tlearn: 0.0025320\ttotal: 448ms\tremaining: 22.6ms\n",
      "952:\tlearn: 0.0025294\ttotal: 448ms\tremaining: 22.1ms\n",
      "953:\tlearn: 0.0025267\ttotal: 449ms\tremaining: 21.6ms\n",
      "954:\tlearn: 0.0025246\ttotal: 449ms\tremaining: 21.2ms\n",
      "955:\tlearn: 0.0025221\ttotal: 449ms\tremaining: 20.7ms\n",
      "956:\tlearn: 0.0025197\ttotal: 450ms\tremaining: 20.2ms\n",
      "957:\tlearn: 0.0025169\ttotal: 450ms\tremaining: 19.7ms\n",
      "958:\tlearn: 0.0025145\ttotal: 451ms\tremaining: 19.3ms\n",
      "959:\tlearn: 0.0025121\ttotal: 451ms\tremaining: 18.8ms\n",
      "960:\tlearn: 0.0025097\ttotal: 451ms\tremaining: 18.3ms\n",
      "961:\tlearn: 0.0025072\ttotal: 452ms\tremaining: 17.8ms\n",
      "962:\tlearn: 0.0025046\ttotal: 452ms\tremaining: 17.4ms\n",
      "963:\tlearn: 0.0025024\ttotal: 452ms\tremaining: 16.9ms\n",
      "964:\tlearn: 0.0024997\ttotal: 453ms\tremaining: 16.4ms\n",
      "965:\tlearn: 0.0024978\ttotal: 453ms\tremaining: 16ms\n",
      "966:\tlearn: 0.0024956\ttotal: 454ms\tremaining: 15.5ms\n",
      "967:\tlearn: 0.0024932\ttotal: 454ms\tremaining: 15ms\n",
      "968:\tlearn: 0.0024909\ttotal: 454ms\tremaining: 14.5ms\n",
      "969:\tlearn: 0.0024885\ttotal: 455ms\tremaining: 14.1ms\n",
      "970:\tlearn: 0.0024866\ttotal: 455ms\tremaining: 13.6ms\n",
      "971:\tlearn: 0.0024842\ttotal: 456ms\tremaining: 13.1ms\n",
      "972:\tlearn: 0.0024823\ttotal: 456ms\tremaining: 12.7ms\n",
      "973:\tlearn: 0.0024795\ttotal: 456ms\tremaining: 12.2ms\n",
      "974:\tlearn: 0.0024772\ttotal: 457ms\tremaining: 11.7ms\n",
      "975:\tlearn: 0.0024753\ttotal: 458ms\tremaining: 11.3ms\n",
      "976:\tlearn: 0.0024734\ttotal: 459ms\tremaining: 10.8ms\n",
      "977:\tlearn: 0.0024706\ttotal: 459ms\tremaining: 10.3ms\n",
      "978:\tlearn: 0.0024683\ttotal: 460ms\tremaining: 9.86ms\n",
      "979:\tlearn: 0.0024659\ttotal: 460ms\tremaining: 9.39ms\n",
      "980:\tlearn: 0.0024640\ttotal: 461ms\tremaining: 8.92ms\n",
      "981:\tlearn: 0.0024617\ttotal: 461ms\tremaining: 8.45ms\n",
      "982:\tlearn: 0.0024589\ttotal: 462ms\tremaining: 7.98ms\n",
      "983:\tlearn: 0.0024552\ttotal: 462ms\tremaining: 7.51ms\n",
      "984:\tlearn: 0.0024525\ttotal: 463ms\tremaining: 7.05ms\n",
      "985:\tlearn: 0.0024502\ttotal: 464ms\tremaining: 6.58ms\n",
      "986:\tlearn: 0.0024479\ttotal: 464ms\tremaining: 6.11ms\n",
      "987:\tlearn: 0.0024455\ttotal: 465ms\tremaining: 5.64ms\n",
      "988:\tlearn: 0.0024432\ttotal: 465ms\tremaining: 5.17ms\n",
      "989:\tlearn: 0.0024411\ttotal: 466ms\tremaining: 4.7ms\n",
      "990:\tlearn: 0.0024390\ttotal: 466ms\tremaining: 4.23ms\n",
      "991:\tlearn: 0.0024368\ttotal: 467ms\tremaining: 3.76ms\n",
      "992:\tlearn: 0.0024346\ttotal: 467ms\tremaining: 3.29ms\n",
      "993:\tlearn: 0.0024326\ttotal: 468ms\tremaining: 2.82ms\n",
      "994:\tlearn: 0.0024308\ttotal: 468ms\tremaining: 2.35ms\n",
      "995:\tlearn: 0.0024286\ttotal: 469ms\tremaining: 1.88ms\n",
      "996:\tlearn: 0.0024263\ttotal: 469ms\tremaining: 1.41ms\n",
      "997:\tlearn: 0.0024232\ttotal: 470ms\tremaining: 941us\n",
      "998:\tlearn: 0.0024209\ttotal: 470ms\tremaining: 470us\n",
      "999:\tlearn: 0.0024187\ttotal: 471ms\tremaining: 0us\n"
     ]
    }
   ],
   "source": [
    "clf.CatBoostClassifier(random_state=42)"
   ]
  },
  {
   "cell_type": "markdown",
   "metadata": {
    "tags": []
   },
   "source": [
    "## Get runs"
   ]
  },
  {
   "cell_type": "code",
   "execution_count": 60,
   "metadata": {
    "tags": [
     "block:runs",
     "prev:logistic_regression",
     "prev:ada_boost_classifier",
     "prev:support_vector_classifier",
     "prev:light_gbm_classifier",
     "prev:xgb_classifier",
     "prev:decision_tree_classifier",
     "prev:cat_boost_classifier",
     "prev:random_forest_classifier",
     "prev:gradient_boost_claddssifi"
    ]
   },
   "outputs": [
    {
     "name": "stdout",
     "output_type": "stream",
     "text": [
      "Number of runs done :  24\n"
     ]
    },
    {
     "data": {
      "text/html": [
       "<div>\n",
       "<style scoped>\n",
       "    .dataframe tbody tr th:only-of-type {\n",
       "        vertical-align: middle;\n",
       "    }\n",
       "\n",
       "    .dataframe tbody tr th {\n",
       "        vertical-align: top;\n",
       "    }\n",
       "\n",
       "    .dataframe thead th {\n",
       "        text-align: right;\n",
       "    }\n",
       "</style>\n",
       "<table border=\"1\" class=\"dataframe\">\n",
       "  <thead>\n",
       "    <tr style=\"text-align: right;\">\n",
       "      <th></th>\n",
       "      <th>artifact_uri</th>\n",
       "      <th>end_time</th>\n",
       "      <th>experiment_id</th>\n",
       "      <th>metrics.accuracy_score</th>\n",
       "      <th>metrics.f1_score</th>\n",
       "      <th>metrics.precision_score</th>\n",
       "      <th>metrics.recall</th>\n",
       "      <th>run_id</th>\n",
       "      <th>run_name</th>\n",
       "      <th>start_time</th>\n",
       "      <th>status</th>\n",
       "      <th>tags.mlflow.log-model.history</th>\n",
       "    </tr>\n",
       "  </thead>\n",
       "  <tbody>\n",
       "    <tr>\n",
       "      <th>0</th>\n",
       "      <td>s3://models/15/7020de44c821427abf78c64210ed72e...</td>\n",
       "      <td>2022-06-09 09:23:47.382000+00:00</td>\n",
       "      <td>15</td>\n",
       "      <td>1.0</td>\n",
       "      <td>1.0</td>\n",
       "      <td>1.0</td>\n",
       "      <td>1.0</td>\n",
       "      <td>7020de44c821427abf78c64210ed72e2</td>\n",
       "      <td>iris_multi_class_15_cat_boost_classifier</td>\n",
       "      <td>2022-06-09 09:23:45.040000+00:00</td>\n",
       "      <td>FINISHED</td>\n",
       "      <td>[{\"run_id\": \"7020de44c821427abf78c64210ed72e2\"...</td>\n",
       "    </tr>\n",
       "    <tr>\n",
       "      <th>1</th>\n",
       "      <td>s3://models/15/2151eb134c35446e869225fe27c1ed5...</td>\n",
       "      <td>2022-06-09 09:23:45.006000+00:00</td>\n",
       "      <td>15</td>\n",
       "      <td>1.0</td>\n",
       "      <td>1.0</td>\n",
       "      <td>1.0</td>\n",
       "      <td>1.0</td>\n",
       "      <td>2151eb134c35446e869225fe27c1ed5f</td>\n",
       "      <td>iris_multi_class_15_gaussian_NB_classifier</td>\n",
       "      <td>2022-06-09 09:23:42.890000+00:00</td>\n",
       "      <td>FINISHED</td>\n",
       "      <td>[{\"run_id\": \"2151eb134c35446e869225fe27c1ed5f\"...</td>\n",
       "    </tr>\n",
       "    <tr>\n",
       "      <th>2</th>\n",
       "      <td>s3://models/15/04cbce59ecb64efaaff10b8919db87d...</td>\n",
       "      <td>2022-06-09 09:23:42.849000+00:00</td>\n",
       "      <td>15</td>\n",
       "      <td>1.0</td>\n",
       "      <td>1.0</td>\n",
       "      <td>1.0</td>\n",
       "      <td>1.0</td>\n",
       "      <td>04cbce59ecb64efaaff10b8919db87d6</td>\n",
       "      <td>iris_multi_class_15_k_neighbors_classifier</td>\n",
       "      <td>2022-06-09 09:23:40.616000+00:00</td>\n",
       "      <td>FINISHED</td>\n",
       "      <td>[{\"run_id\": \"04cbce59ecb64efaaff10b8919db87d6\"...</td>\n",
       "    </tr>\n",
       "    <tr>\n",
       "      <th>3</th>\n",
       "      <td>s3://models/15/cb243a2cd62146cfaf56dc4b3f60d63...</td>\n",
       "      <td>2022-06-09 09:23:40.585000+00:00</td>\n",
       "      <td>15</td>\n",
       "      <td>1.0</td>\n",
       "      <td>1.0</td>\n",
       "      <td>1.0</td>\n",
       "      <td>1.0</td>\n",
       "      <td>cb243a2cd62146cfaf56dc4b3f60d637</td>\n",
       "      <td>iris_multi_class_15_ridge_classifier</td>\n",
       "      <td>2022-06-09 09:23:38.398000+00:00</td>\n",
       "      <td>FINISHED</td>\n",
       "      <td>[{\"run_id\": \"cb243a2cd62146cfaf56dc4b3f60d637\"...</td>\n",
       "    </tr>\n",
       "    <tr>\n",
       "      <th>4</th>\n",
       "      <td>s3://models/15/a03cf9b9a5be440394bd61d72f8c629...</td>\n",
       "      <td>2022-06-09 09:23:38.365000+00:00</td>\n",
       "      <td>15</td>\n",
       "      <td>1.0</td>\n",
       "      <td>1.0</td>\n",
       "      <td>1.0</td>\n",
       "      <td>1.0</td>\n",
       "      <td>a03cf9b9a5be440394bd61d72f8c6297</td>\n",
       "      <td>iris_multi_class_15_svm_classifier</td>\n",
       "      <td>2022-06-09 09:23:36.186000+00:00</td>\n",
       "      <td>FINISHED</td>\n",
       "      <td>[{\"run_id\": \"a03cf9b9a5be440394bd61d72f8c6297\"...</td>\n",
       "    </tr>\n",
       "  </tbody>\n",
       "</table>\n",
       "</div>"
      ],
      "text/plain": [
       "                                        artifact_uri  \\\n",
       "0  s3://models/15/7020de44c821427abf78c64210ed72e...   \n",
       "1  s3://models/15/2151eb134c35446e869225fe27c1ed5...   \n",
       "2  s3://models/15/04cbce59ecb64efaaff10b8919db87d...   \n",
       "3  s3://models/15/cb243a2cd62146cfaf56dc4b3f60d63...   \n",
       "4  s3://models/15/a03cf9b9a5be440394bd61d72f8c629...   \n",
       "\n",
       "                          end_time experiment_id  metrics.accuracy_score  \\\n",
       "0 2022-06-09 09:23:47.382000+00:00            15                     1.0   \n",
       "1 2022-06-09 09:23:45.006000+00:00            15                     1.0   \n",
       "2 2022-06-09 09:23:42.849000+00:00            15                     1.0   \n",
       "3 2022-06-09 09:23:40.585000+00:00            15                     1.0   \n",
       "4 2022-06-09 09:23:38.365000+00:00            15                     1.0   \n",
       "\n",
       "   metrics.f1_score  metrics.precision_score  metrics.recall  \\\n",
       "0               1.0                      1.0             1.0   \n",
       "1               1.0                      1.0             1.0   \n",
       "2               1.0                      1.0             1.0   \n",
       "3               1.0                      1.0             1.0   \n",
       "4               1.0                      1.0             1.0   \n",
       "\n",
       "                             run_id  \\\n",
       "0  7020de44c821427abf78c64210ed72e2   \n",
       "1  2151eb134c35446e869225fe27c1ed5f   \n",
       "2  04cbce59ecb64efaaff10b8919db87d6   \n",
       "3  cb243a2cd62146cfaf56dc4b3f60d637   \n",
       "4  a03cf9b9a5be440394bd61d72f8c6297   \n",
       "\n",
       "                                     run_name  \\\n",
       "0    iris_multi_class_15_cat_boost_classifier   \n",
       "1  iris_multi_class_15_gaussian_NB_classifier   \n",
       "2  iris_multi_class_15_k_neighbors_classifier   \n",
       "3        iris_multi_class_15_ridge_classifier   \n",
       "4          iris_multi_class_15_svm_classifier   \n",
       "\n",
       "                        start_time    status  \\\n",
       "0 2022-06-09 09:23:45.040000+00:00  FINISHED   \n",
       "1 2022-06-09 09:23:42.890000+00:00  FINISHED   \n",
       "2 2022-06-09 09:23:40.616000+00:00  FINISHED   \n",
       "3 2022-06-09 09:23:38.398000+00:00  FINISHED   \n",
       "4 2022-06-09 09:23:36.186000+00:00  FINISHED   \n",
       "\n",
       "                       tags.mlflow.log-model.history  \n",
       "0  [{\"run_id\": \"7020de44c821427abf78c64210ed72e2\"...  \n",
       "1  [{\"run_id\": \"2151eb134c35446e869225fe27c1ed5f\"...  \n",
       "2  [{\"run_id\": \"04cbce59ecb64efaaff10b8919db87d6\"...  \n",
       "3  [{\"run_id\": \"cb243a2cd62146cfaf56dc4b3f60d637\"...  \n",
       "4  [{\"run_id\": \"a03cf9b9a5be440394bd61d72f8c6297\"...  "
      ]
     },
     "execution_count": 60,
     "metadata": {},
     "output_type": "execute_result"
    }
   ],
   "source": [
    "# Select the run of the experiment\n",
    "df_runs = clf.search_runs(exp_id)\n",
    "print(\"Number of runs done : \", len(df_runs))\n",
    "df_runs.head()"
   ]
  },
  {
   "cell_type": "code",
   "execution_count": 61,
   "metadata": {},
   "outputs": [
    {
     "data": {
      "text/plain": [
       "(24, 12)"
      ]
     },
     "execution_count": 61,
     "metadata": {},
     "output_type": "execute_result"
    }
   ],
   "source": [
    "df_runs.shape"
   ]
  },
  {
   "cell_type": "markdown",
   "metadata": {
    "tags": []
   },
   "source": [
    "## Evaluating  Models"
   ]
  },
  {
   "cell_type": "code",
   "execution_count": 62,
   "metadata": {
    "tags": [
     "block:model_evaluation",
     "prev:runs"
    ]
   },
   "outputs": [
    {
     "data": {
      "text/html": [
       "<div>\n",
       "<style scoped>\n",
       "    .dataframe tbody tr th:only-of-type {\n",
       "        vertical-align: middle;\n",
       "    }\n",
       "\n",
       "    .dataframe tbody tr th {\n",
       "        vertical-align: top;\n",
       "    }\n",
       "\n",
       "    .dataframe thead th {\n",
       "        text-align: right;\n",
       "    }\n",
       "</style>\n",
       "<table border=\"1\" class=\"dataframe\">\n",
       "  <thead>\n",
       "    <tr style=\"text-align: right;\">\n",
       "      <th></th>\n",
       "      <th>artifact_uri</th>\n",
       "      <th>end_time</th>\n",
       "      <th>experiment_id</th>\n",
       "      <th>metrics.accuracy_score</th>\n",
       "      <th>metrics.f1_score</th>\n",
       "      <th>metrics.precision_score</th>\n",
       "      <th>metrics.recall</th>\n",
       "      <th>run_id</th>\n",
       "      <th>run_name</th>\n",
       "      <th>start_time</th>\n",
       "      <th>status</th>\n",
       "      <th>tags.mlflow.log-model.history</th>\n",
       "    </tr>\n",
       "  </thead>\n",
       "  <tbody>\n",
       "    <tr>\n",
       "      <th>0</th>\n",
       "      <td>s3://models/15/7020de44c821427abf78c64210ed72e...</td>\n",
       "      <td>2022-06-09 09:23:47.382000+00:00</td>\n",
       "      <td>15</td>\n",
       "      <td>1.0</td>\n",
       "      <td>1.0</td>\n",
       "      <td>1.0</td>\n",
       "      <td>1.0</td>\n",
       "      <td>7020de44c821427abf78c64210ed72e2</td>\n",
       "      <td>iris_multi_class_15_cat_boost_classifier</td>\n",
       "      <td>2022-06-09 09:23:45.040000+00:00</td>\n",
       "      <td>FINISHED</td>\n",
       "      <td>[{\"run_id\": \"7020de44c821427abf78c64210ed72e2\"...</td>\n",
       "    </tr>\n",
       "    <tr>\n",
       "      <th>1</th>\n",
       "      <td>s3://models/15/2151eb134c35446e869225fe27c1ed5...</td>\n",
       "      <td>2022-06-09 09:23:45.006000+00:00</td>\n",
       "      <td>15</td>\n",
       "      <td>1.0</td>\n",
       "      <td>1.0</td>\n",
       "      <td>1.0</td>\n",
       "      <td>1.0</td>\n",
       "      <td>2151eb134c35446e869225fe27c1ed5f</td>\n",
       "      <td>iris_multi_class_15_gaussian_NB_classifier</td>\n",
       "      <td>2022-06-09 09:23:42.890000+00:00</td>\n",
       "      <td>FINISHED</td>\n",
       "      <td>[{\"run_id\": \"2151eb134c35446e869225fe27c1ed5f\"...</td>\n",
       "    </tr>\n",
       "    <tr>\n",
       "      <th>22</th>\n",
       "      <td>s3://models/15/d3e0e5fbb9e24cf490044701de8d811...</td>\n",
       "      <td>2022-06-09 09:14:20.106000+00:00</td>\n",
       "      <td>15</td>\n",
       "      <td>1.0</td>\n",
       "      <td>1.0</td>\n",
       "      <td>1.0</td>\n",
       "      <td>1.0</td>\n",
       "      <td>d3e0e5fbb9e24cf490044701de8d8114</td>\n",
       "      <td>iris_multi_class_15_gradient_boosting_classifier</td>\n",
       "      <td>2022-06-09 09:14:17.717000+00:00</td>\n",
       "      <td>FINISHED</td>\n",
       "      <td>[{\"run_id\": \"d3e0e5fbb9e24cf490044701de8d8114\"...</td>\n",
       "    </tr>\n",
       "    <tr>\n",
       "      <th>21</th>\n",
       "      <td>s3://models/15/d2a963eaa07b4b938b4101df2f78f76...</td>\n",
       "      <td>2022-06-09 09:14:23.735000+00:00</td>\n",
       "      <td>15</td>\n",
       "      <td>1.0</td>\n",
       "      <td>1.0</td>\n",
       "      <td>1.0</td>\n",
       "      <td>1.0</td>\n",
       "      <td>d2a963eaa07b4b938b4101df2f78f766</td>\n",
       "      <td>iris_multi_class_15_random_forest_classifier</td>\n",
       "      <td>2022-06-09 09:14:21.365000+00:00</td>\n",
       "      <td>FINISHED</td>\n",
       "      <td>[{\"run_id\": \"d2a963eaa07b4b938b4101df2f78f766\"...</td>\n",
       "    </tr>\n",
       "    <tr>\n",
       "      <th>20</th>\n",
       "      <td>s3://models/15/b8595f74ff02491db98144d781bed64...</td>\n",
       "      <td>2022-06-09 09:14:27.321000+00:00</td>\n",
       "      <td>15</td>\n",
       "      <td>1.0</td>\n",
       "      <td>1.0</td>\n",
       "      <td>1.0</td>\n",
       "      <td>1.0</td>\n",
       "      <td>b8595f74ff02491db98144d781bed646</td>\n",
       "      <td>iris_multi_class_15_ada_boost_classifier</td>\n",
       "      <td>2022-06-09 09:14:24.982000+00:00</td>\n",
       "      <td>FINISHED</td>\n",
       "      <td>[{\"run_id\": \"b8595f74ff02491db98144d781bed646\"...</td>\n",
       "    </tr>\n",
       "  </tbody>\n",
       "</table>\n",
       "</div>"
      ],
      "text/plain": [
       "                                         artifact_uri  \\\n",
       "0   s3://models/15/7020de44c821427abf78c64210ed72e...   \n",
       "1   s3://models/15/2151eb134c35446e869225fe27c1ed5...   \n",
       "22  s3://models/15/d3e0e5fbb9e24cf490044701de8d811...   \n",
       "21  s3://models/15/d2a963eaa07b4b938b4101df2f78f76...   \n",
       "20  s3://models/15/b8595f74ff02491db98144d781bed64...   \n",
       "\n",
       "                           end_time experiment_id  metrics.accuracy_score  \\\n",
       "0  2022-06-09 09:23:47.382000+00:00            15                     1.0   \n",
       "1  2022-06-09 09:23:45.006000+00:00            15                     1.0   \n",
       "22 2022-06-09 09:14:20.106000+00:00            15                     1.0   \n",
       "21 2022-06-09 09:14:23.735000+00:00            15                     1.0   \n",
       "20 2022-06-09 09:14:27.321000+00:00            15                     1.0   \n",
       "\n",
       "    metrics.f1_score  metrics.precision_score  metrics.recall  \\\n",
       "0                1.0                      1.0             1.0   \n",
       "1                1.0                      1.0             1.0   \n",
       "22               1.0                      1.0             1.0   \n",
       "21               1.0                      1.0             1.0   \n",
       "20               1.0                      1.0             1.0   \n",
       "\n",
       "                              run_id  \\\n",
       "0   7020de44c821427abf78c64210ed72e2   \n",
       "1   2151eb134c35446e869225fe27c1ed5f   \n",
       "22  d3e0e5fbb9e24cf490044701de8d8114   \n",
       "21  d2a963eaa07b4b938b4101df2f78f766   \n",
       "20  b8595f74ff02491db98144d781bed646   \n",
       "\n",
       "                                            run_name  \\\n",
       "0           iris_multi_class_15_cat_boost_classifier   \n",
       "1         iris_multi_class_15_gaussian_NB_classifier   \n",
       "22  iris_multi_class_15_gradient_boosting_classifier   \n",
       "21      iris_multi_class_15_random_forest_classifier   \n",
       "20          iris_multi_class_15_ada_boost_classifier   \n",
       "\n",
       "                         start_time    status  \\\n",
       "0  2022-06-09 09:23:45.040000+00:00  FINISHED   \n",
       "1  2022-06-09 09:23:42.890000+00:00  FINISHED   \n",
       "22 2022-06-09 09:14:17.717000+00:00  FINISHED   \n",
       "21 2022-06-09 09:14:21.365000+00:00  FINISHED   \n",
       "20 2022-06-09 09:14:24.982000+00:00  FINISHED   \n",
       "\n",
       "                        tags.mlflow.log-model.history  \n",
       "0   [{\"run_id\": \"7020de44c821427abf78c64210ed72e2\"...  \n",
       "1   [{\"run_id\": \"2151eb134c35446e869225fe27c1ed5f\"...  \n",
       "22  [{\"run_id\": \"d3e0e5fbb9e24cf490044701de8d8114\"...  \n",
       "21  [{\"run_id\": \"d2a963eaa07b4b938b4101df2f78f766\"...  \n",
       "20  [{\"run_id\": \"b8595f74ff02491db98144d781bed646\"...  "
      ]
     },
     "execution_count": 62,
     "metadata": {},
     "output_type": "execute_result"
    }
   ],
   "source": [
    "top_runs = df_runs.sort_values(['metrics.accuracy_score'], ascending=False)\n",
    "top_runs.head()"
   ]
  },
  {
   "cell_type": "markdown",
   "metadata": {
    "tags": []
   },
   "source": [
    "## Selecting best model"
   ]
  },
  {
   "cell_type": "code",
   "execution_count": 63,
   "metadata": {
    "tags": [
     "block:selecting_best",
     "prev:model_evaluation"
    ]
   },
   "outputs": [
    {
     "name": "stdout",
     "output_type": "stream",
     "text": [
      "Best model_artifacts : s3://models/15/7020de44c821427abf78c64210ed72e2/artifacts\n",
      "====================================================================================================\n",
      "Best model run_id : 7020de44c821427abf78c64210ed72e2\n",
      "====================================================================================================\n",
      "Best model : iris_multi_class_15_cat_boost_classifier\n",
      "====================================================================================================\n",
      "Best model experiment id : 15\n"
     ]
    }
   ],
   "source": [
    "artifacts = top_runs.iloc[0][\"artifact_uri\"]\n",
    "run_id = top_runs.iloc[0][\"run_id\"]\n",
    "model_name = top_runs.iloc[0][\"run_name\"] \n",
    "\n",
    "\n",
    "print('Best model_artifacts :', artifacts)\n",
    "print(\"=\" * 100)\n",
    "print('Best model run_id :', run_id)\n",
    "print(\"=\" * 100)\n",
    "print('Best model :', model_name)\n",
    "print(\"=\" * 100)\n",
    "print(\"Best model experiment id :\", exp_id)"
   ]
  },
  {
   "cell_type": "markdown",
   "metadata": {
    "tags": []
   },
   "source": [
    "## Registering best model"
   ]
  },
  {
   "cell_type": "code",
   "execution_count": 64,
   "metadata": {
    "tags": [
     "block:register_model",
     "prev:selecting_best"
    ]
   },
   "outputs": [
    {
     "name": "stderr",
     "output_type": "stream",
     "text": [
      "Registered model 'iris_multi_class_15_cat_boost_classifier' already exists. Creating a new version of this model...\n",
      "2022/06/09 09:23:47 INFO mlflow.tracking._model_registry.client: Waiting up to 300 seconds for model version to finish creation.                     Model name: iris_multi_class_15_cat_boost_classifier, version 2\n",
      "Created version '2' of model 'iris_multi_class_15_cat_boost_classifier'.\n"
     ]
    }
   ],
   "source": [
    "result = clf.staging(\n",
    "    run_id=run_id,\n",
    "    model_name=model_name,\n",
    "    stage=\"Production\"\n",
    ")"
   ]
  },
  {
   "cell_type": "code",
   "execution_count": 65,
   "metadata": {},
   "outputs": [
    {
     "name": "stdout",
     "output_type": "stream",
     "text": [
      "Registered model information :\n",
      "====================================================================================================\n"
     ]
    },
    {
     "data": {
      "text/plain": [
       "name: \"iris_multi_class_15_cat_boost_classifier\"\n",
       "version: \"2\"\n",
       "creation_timestamp: 1654766627594\n",
       "last_updated_timestamp: 1654766627621\n",
       "user_id: \"\"\n",
       "current_stage: \"Production\"\n",
       "description: \"\"\n",
       "source: \"s3://models/15/7020de44c821427abf78c64210ed72e2/artifacts\"\n",
       "run_id: \"7020de44c821427abf78c64210ed72e2\"\n",
       "status: READY\n",
       "run_link: \"\""
      ]
     },
     "execution_count": 65,
     "metadata": {},
     "output_type": "execute_result"
    }
   ],
   "source": [
    "print('Registered model information :')\n",
    "print('=='*50)\n",
    "result"
   ]
  },
  {
   "cell_type": "code",
   "execution_count": 66,
   "metadata": {
    "tags": []
   },
   "outputs": [],
   "source": [
    "m = clf.load_model(f\"{artifacts}/{model_name}\")"
   ]
  },
  {
   "cell_type": "markdown",
   "metadata": {
    "tags": []
   },
   "source": [
    "## Predict"
   ]
  },
  {
   "cell_type": "code",
   "execution_count": 67,
   "metadata": {},
   "outputs": [],
   "source": [
    "y_pred = m.predict(X_test)"
   ]
  },
  {
   "cell_type": "code",
   "execution_count": null,
   "metadata": {},
   "outputs": [],
   "source": [
    "# Prepare variable as DataFrame in pandas\n",
    "df = pd.DataFrame(X_test)\n",
    "\n",
    "# Add the target variable to df\n",
    "df[\"y_pred\"] = y_pred"
   ]
  },
  {
   "cell_type": "code",
   "execution_count": null,
   "metadata": {},
   "outputs": [],
   "source": []
  }
 ],
 "metadata": {
  "kernelspec": {
   "display_name": "Python 3 (ipykernel)",
   "language": "python",
   "name": "python3"
  },
  "kubeflow_notebook": {
   "autosnapshot": false,
   "docker_image": "katonic/usecaseb1:4.0",
   "experiment": {
    "id": "new",
    "name": "customer-churn-1"
   },
   "experiment_name": "customer-churn-1",
   "katib_metadata": {
    "algorithm": {
     "algorithmName": "grid"
    },
    "maxFailedTrialCount": 3,
    "maxTrialCount": 12,
    "objective": {
     "objectiveMetricName": "",
     "type": "minimize"
    },
    "parallelTrialCount": 3,
    "parameters": []
   },
   "katib_run": false,
   "pipeline_description": "Predict behavior to retain customers",
   "pipeline_name": "customer-churn-preprocess",
   "snapshot_volumes": false,
   "steps_defaults": [],
   "volume_access_mode": "rwo",
   "volumes": []
  },
  "language_info": {
   "codemirror_mode": {
    "name": "ipython",
    "version": 3
   },
   "file_extension": ".py",
   "mimetype": "text/x-python",
   "name": "python",
   "nbconvert_exporter": "python",
   "pygments_lexer": "ipython3",
   "version": "3.8.12"
  }
 },
 "nbformat": 4,
 "nbformat_minor": 4
}
