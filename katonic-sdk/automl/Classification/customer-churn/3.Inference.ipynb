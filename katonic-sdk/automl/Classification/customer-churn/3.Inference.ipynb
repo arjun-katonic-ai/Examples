{
 "cells": [
  {
   "cell_type": "code",
   "execution_count": 6,
   "id": "29e41407-d48c-4d13-b673-267f27303207",
   "metadata": {
    "collapsed": true,
    "jupyter": {
     "outputs_hidden": true
    },
    "tags": []
   },
   "outputs": [
    {
     "name": "stderr",
     "output_type": "stream",
     "text": [
      "WARNING: The directory '/home/jovyan/.cache/pip' or its parent directory is not owned or is not writable by the current user. The cache has been disabled. Check the permissions and owner of that directory. If executing pip with sudo, you should use sudo's -H flag.\n"
     ]
    },
    {
     "name": "stdout",
     "output_type": "stream",
     "text": [
      "Requirement already satisfied: katonic[ml]==1.6.2 in /opt/conda/lib/python3.9/site-packages (1.6.2)\n",
      "Requirement already satisfied: func-timeout in /opt/conda/lib/python3.9/site-packages (from katonic[ml]==1.6.2) (4.3.5)\n",
      "Requirement already satisfied: pydantic==1.8.2 in /opt/conda/lib/python3.9/site-packages (from katonic[ml]==1.6.2) (1.8.2)\n",
      "Requirement already satisfied: humanize in /opt/conda/lib/python3.9/site-packages (from katonic[ml]==1.6.2) (4.8.0)\n",
      "Requirement already satisfied: tqdm>=4.36.1 in /opt/conda/lib/python3.9/site-packages (from katonic[ml]==1.6.2) (4.62.3)\n",
      "Requirement already satisfied: deprecation<2.2.0,>=2.1.0 in /opt/conda/lib/python3.9/site-packages (from katonic[ml]==1.6.2) (2.1.0)\n",
      "Requirement already satisfied: greenlet==1.1.1 in /opt/conda/lib/python3.9/site-packages (from katonic[ml]==1.6.2) (1.1.1)\n",
      "Requirement already satisfied: importlib-metadata==4.8.1 in /opt/conda/lib/python3.9/site-packages (from katonic[ml]==1.6.2) (4.8.1)\n",
      "Requirement already satisfied: python-dateutil in /opt/conda/lib/python3.9/site-packages (from katonic[ml]==1.6.2) (2.8.2)\n",
      "Requirement already satisfied: parsedatetime in /opt/conda/lib/python3.9/site-packages (from katonic[ml]==1.6.2) (2.6)\n",
      "Requirement already satisfied: mlflow==2.0.1 in /opt/conda/lib/python3.9/site-packages (from katonic[ml]==1.6.2) (2.0.1)\n",
      "Requirement already satisfied: LunarCalendar>=0.0.9 in /opt/conda/lib/python3.9/site-packages (from katonic[ml]==1.6.2) (0.0.9)\n",
      "Requirement already satisfied: pyparsing in /opt/conda/lib/python3.9/site-packages (from katonic[ml]==1.6.2) (2.4.7)\n",
      "Requirement already satisfied: scikit-learn==1.1.3 in /opt/conda/lib/python3.9/site-packages (from katonic[ml]==1.6.2) (1.1.3)\n",
      "Requirement already satisfied: requests<2.26.0,>=2.10.0 in /opt/conda/lib/python3.9/site-packages (from katonic[ml]==1.6.2) (2.25.1)\n",
      "Requirement already satisfied: click<8.1.2,>=7.1.1 in /opt/conda/lib/python3.9/site-packages (from katonic[ml]==1.6.2) (8.1.1)\n",
      "Requirement already satisfied: boto3==1.19.12 in /opt/conda/lib/python3.9/site-packages (from katonic[ml]==1.6.2) (1.19.12)\n",
      "Requirement already satisfied: msgpack<1.1,>=1.0.0 in /opt/conda/lib/python3.9/site-packages (from katonic[ml]==1.6.2) (1.0.7)\n",
      "Requirement already satisfied: zipp==3.5.0 in /opt/conda/lib/python3.9/site-packages (from katonic[ml]==1.6.2) (3.5.0)\n",
      "Requirement already satisfied: isodate in /opt/conda/lib/python3.9/site-packages (from katonic[ml]==1.6.2) (0.6.1)\n",
      "Requirement already satisfied: python-geohash in /opt/conda/lib/python3.9/site-packages (from katonic[ml]==1.6.2) (0.8.5)\n",
      "Requirement already satisfied: cron-descriptor in /opt/conda/lib/python3.9/site-packages (from katonic[ml]==1.6.2) (1.4.0)\n",
      "Requirement already satisfied: certifi<2021.10.8,>=2017.4.17 in /opt/conda/lib/python3.9/site-packages (from katonic[ml]==1.6.2) (2021.5.30)\n",
      "Requirement already satisfied: convertdate>=2.1.2 in /opt/conda/lib/python3.9/site-packages (from katonic[ml]==1.6.2) (2.4.0)\n",
      "Requirement already satisfied: python-dotenv in /opt/conda/lib/python3.9/site-packages (from katonic[ml]==1.6.2) (1.0.0)\n",
      "Requirement already satisfied: gunicorn>=20.1.0 in /opt/conda/lib/python3.9/site-packages (from katonic[ml]==1.6.2) (20.1.0)\n",
      "Requirement already satisfied: pyyaml<6,>=5.3 in /opt/conda/lib/python3.9/site-packages (from katonic[ml]==1.6.2) (5.4.1)\n",
      "Requirement already satisfied: typing-extensions<4,>=3.10 in /opt/conda/lib/python3.9/site-packages (from katonic[ml]==1.6.2) (3.10.0.2)\n",
      "Requirement already satisfied: markdown>=3.0 in /opt/conda/lib/python3.9/site-packages (from katonic[ml]==1.6.2) (3.5)\n",
      "Requirement already satisfied: pyarrow<6.1.0,>=6.0.0 in /opt/conda/lib/python3.9/site-packages (from katonic[ml]==1.6.2) (6.0.1)\n",
      "Requirement already satisfied: packaging==21.2 in /opt/conda/lib/python3.9/site-packages (from katonic[ml]==1.6.2) (21.2)\n",
      "Requirement already satisfied: protobuf==3.19.4 in /opt/conda/lib/python3.9/site-packages (from katonic[ml]==1.6.2) (3.19.4)\n",
      "Requirement already satisfied: colorama in /opt/conda/lib/python3.9/site-packages (from katonic[ml]==1.6.2) (0.4.4)\n",
      "Requirement already satisfied: optuna<2.10.0,>=2.8.0 in /opt/conda/lib/python3.9/site-packages (from katonic[ml]==1.6.2) (2.9.1)\n",
      "Requirement already satisfied: cmdstanpy==0.9.5 in /opt/conda/lib/python3.9/site-packages (from katonic[ml]==1.6.2) (0.9.5)\n",
      "Requirement already satisfied: catboost==1.1 in /opt/conda/lib/python3.9/site-packages (from katonic[ml]==1.6.2) (1.1)\n",
      "Requirement already satisfied: numpy<1.24.0,>=1.19.0 in /opt/conda/lib/python3.9/site-packages (from katonic[ml]==1.6.2) (1.23.5)\n",
      "Requirement already satisfied: lightgbm==3.3.1 in /opt/conda/lib/python3.9/site-packages (from katonic[ml]==1.6.2) (3.3.1)\n",
      "Requirement already satisfied: seaborn==0.11.2 in /opt/conda/lib/python3.9/site-packages (from katonic[ml]==1.6.2) (0.11.2)\n",
      "Requirement already satisfied: xgboost==1.5.0 in /opt/conda/lib/python3.9/site-packages (from katonic[ml]==1.6.2) (1.5.0)\n",
      "Requirement already satisfied: pandas<1.5.0,>=1.3.5 in /opt/conda/lib/python3.9/site-packages (from katonic[ml]==1.6.2) (1.4.4)\n",
      "Requirement already satisfied: matplotlib<3.4.3,>=3.0.0 in /opt/conda/lib/python3.9/site-packages (from katonic[ml]==1.6.2) (3.4.2)\n",
      "Requirement already satisfied: botocore<1.23.0,>=1.22.12 in /opt/conda/lib/python3.9/site-packages (from boto3==1.19.12->katonic[ml]==1.6.2) (1.22.12)\n",
      "Requirement already satisfied: jmespath<1.0.0,>=0.7.1 in /opt/conda/lib/python3.9/site-packages (from boto3==1.19.12->katonic[ml]==1.6.2) (0.10.0)\n",
      "Requirement already satisfied: s3transfer<0.6.0,>=0.5.0 in /opt/conda/lib/python3.9/site-packages (from boto3==1.19.12->katonic[ml]==1.6.2) (0.5.2)\n",
      "Requirement already satisfied: graphviz in /opt/conda/lib/python3.9/site-packages (from catboost==1.1->katonic[ml]==1.6.2) (0.20.1)\n",
      "Requirement already satisfied: plotly in /opt/conda/lib/python3.9/site-packages (from catboost==1.1->katonic[ml]==1.6.2) (5.17.0)\n",
      "Requirement already satisfied: six in /opt/conda/lib/python3.9/site-packages (from catboost==1.1->katonic[ml]==1.6.2) (1.16.0)\n",
      "Requirement already satisfied: scipy in /opt/conda/lib/python3.9/site-packages (from catboost==1.1->katonic[ml]==1.6.2) (1.11.3)\n",
      "Requirement already satisfied: wheel in /opt/conda/lib/python3.9/site-packages (from lightgbm==3.3.1->katonic[ml]==1.6.2) (0.37.0)\n",
      "Requirement already satisfied: alembic<2 in /opt/conda/lib/python3.9/site-packages (from mlflow==2.0.1->katonic[ml]==1.6.2) (1.7.4)\n",
      "Requirement already satisfied: gitpython<4,>=2.1.0 in /opt/conda/lib/python3.9/site-packages (from mlflow==2.0.1->katonic[ml]==1.6.2) (3.1.30)\n",
      "Requirement already satisfied: querystring-parser<2 in /opt/conda/lib/python3.9/site-packages (from mlflow==2.0.1->katonic[ml]==1.6.2) (1.2.4)\n",
      "Requirement already satisfied: docker<7,>=4.0.0 in /opt/conda/lib/python3.9/site-packages (from mlflow==2.0.1->katonic[ml]==1.6.2) (5.0.3)\n",
      "Requirement already satisfied: Flask<3 in /opt/conda/lib/python3.9/site-packages (from mlflow==2.0.1->katonic[ml]==1.6.2) (2.2.5)\n",
      "Requirement already satisfied: cloudpickle<3 in /opt/conda/lib/python3.9/site-packages (from mlflow==2.0.1->katonic[ml]==1.6.2) (2.2.0)\n",
      "Requirement already satisfied: entrypoints<1 in /opt/conda/lib/python3.9/site-packages (from mlflow==2.0.1->katonic[ml]==1.6.2) (0.3)\n",
      "Requirement already satisfied: sqlalchemy<2,>=1.4.0 in /opt/conda/lib/python3.9/site-packages (from mlflow==2.0.1->katonic[ml]==1.6.2) (1.4.26)\n",
      "Requirement already satisfied: shap<1,>=0.40 in /opt/conda/lib/python3.9/site-packages (from mlflow==2.0.1->katonic[ml]==1.6.2) (0.43.0)\n",
      "Requirement already satisfied: databricks-cli<1,>=0.8.7 in /opt/conda/lib/python3.9/site-packages (from mlflow==2.0.1->katonic[ml]==1.6.2) (0.18.0)\n",
      "Requirement already satisfied: sqlparse<1,>=0.4.0 in /opt/conda/lib/python3.9/site-packages (from mlflow==2.0.1->katonic[ml]==1.6.2) (0.4.4)\n",
      "Requirement already satisfied: Jinja2<4,>=2.11 in /opt/conda/lib/python3.9/site-packages (from mlflow==2.0.1->katonic[ml]==1.6.2) (3.1.2)\n",
      "Requirement already satisfied: pytz<2023 in /opt/conda/lib/python3.9/site-packages (from mlflow==2.0.1->katonic[ml]==1.6.2) (2021.3)\n",
      "Requirement already satisfied: threadpoolctl>=2.0.0 in /opt/conda/lib/python3.9/site-packages (from scikit-learn==1.1.3->katonic[ml]==1.6.2) (3.2.0)\n",
      "Requirement already satisfied: joblib>=1.0.0 in /opt/conda/lib/python3.9/site-packages (from scikit-learn==1.1.3->katonic[ml]==1.6.2) (1.2.0)\n",
      "Requirement already satisfied: pymeeus<=1,>=0.3.13 in /opt/conda/lib/python3.9/site-packages (from convertdate>=2.1.2->katonic[ml]==1.6.2) (0.5.12)\n",
      "Requirement already satisfied: setuptools>=3.0 in /opt/conda/lib/python3.9/site-packages (from gunicorn>=20.1.0->katonic[ml]==1.6.2) (65.6.3)\n",
      "Requirement already satisfied: ephem>=3.7.5.3 in /opt/conda/lib/python3.9/site-packages (from LunarCalendar>=0.0.9->katonic[ml]==1.6.2) (4.1.5)\n",
      "Requirement already satisfied: cycler>=0.10 in /opt/conda/lib/python3.9/site-packages (from matplotlib<3.4.3,>=3.0.0->katonic[ml]==1.6.2) (0.11.0)\n",
      "Requirement already satisfied: pillow>=6.2.0 in /opt/conda/lib/python3.9/site-packages (from matplotlib<3.4.3,>=3.0.0->katonic[ml]==1.6.2) (9.4.0)\n",
      "Requirement already satisfied: kiwisolver>=1.0.1 in /opt/conda/lib/python3.9/site-packages (from matplotlib<3.4.3,>=3.0.0->katonic[ml]==1.6.2) (1.4.4)\n",
      "Requirement already satisfied: colorlog in /opt/conda/lib/python3.9/site-packages (from optuna<2.10.0,>=2.8.0->katonic[ml]==1.6.2) (6.7.0)\n",
      "Requirement already satisfied: cliff in /opt/conda/lib/python3.9/site-packages (from optuna<2.10.0,>=2.8.0->katonic[ml]==1.6.2) (4.3.0)\n",
      "Requirement already satisfied: cmaes>=0.8.2 in /opt/conda/lib/python3.9/site-packages (from optuna<2.10.0,>=2.8.0->katonic[ml]==1.6.2) (0.10.0)\n",
      "Requirement already satisfied: idna<3,>=2.5 in /opt/conda/lib/python3.9/site-packages (from requests<2.26.0,>=2.10.0->katonic[ml]==1.6.2) (2.10)\n",
      "Requirement already satisfied: urllib3<1.27,>=1.21.1 in /opt/conda/lib/python3.9/site-packages (from requests<2.26.0,>=2.10.0->katonic[ml]==1.6.2) (1.26.7)\n",
      "Requirement already satisfied: chardet<5,>=3.0.2 in /opt/conda/lib/python3.9/site-packages (from requests<2.26.0,>=2.10.0->katonic[ml]==1.6.2) (4.0.0)\n",
      "Requirement already satisfied: Mako in /opt/conda/lib/python3.9/site-packages (from alembic<2->mlflow==2.0.1->katonic[ml]==1.6.2) (1.1.5)\n",
      "Requirement already satisfied: tabulate>=0.7.7 in /opt/conda/lib/python3.9/site-packages (from databricks-cli<1,>=0.8.7->mlflow==2.0.1->katonic[ml]==1.6.2) (0.9.0)\n",
      "Requirement already satisfied: oauthlib>=3.1.0 in /opt/conda/lib/python3.9/site-packages (from databricks-cli<1,>=0.8.7->mlflow==2.0.1->katonic[ml]==1.6.2) (3.1.1)\n",
      "Requirement already satisfied: pyjwt>=1.7.0 in /opt/conda/lib/python3.9/site-packages (from databricks-cli<1,>=0.8.7->mlflow==2.0.1->katonic[ml]==1.6.2) (2.6.0)\n",
      "Requirement already satisfied: websocket-client>=0.32.0 in /opt/conda/lib/python3.9/site-packages (from docker<7,>=4.0.0->mlflow==2.0.1->katonic[ml]==1.6.2) (0.57.0)\n",
      "Requirement already satisfied: itsdangerous>=2.0 in /opt/conda/lib/python3.9/site-packages (from Flask<3->mlflow==2.0.1->katonic[ml]==1.6.2) (2.1.2)\n",
      "Requirement already satisfied: Werkzeug>=2.2.2 in /opt/conda/lib/python3.9/site-packages (from Flask<3->mlflow==2.0.1->katonic[ml]==1.6.2) (3.0.0)\n",
      "Requirement already satisfied: gitdb<5,>=4.0.1 in /opt/conda/lib/python3.9/site-packages (from gitpython<4,>=2.1.0->mlflow==2.0.1->katonic[ml]==1.6.2) (4.0.10)\n",
      "Requirement already satisfied: MarkupSafe>=2.0 in /opt/conda/lib/python3.9/site-packages (from Jinja2<4,>=2.11->mlflow==2.0.1->katonic[ml]==1.6.2) (2.1.1)\n",
      "Requirement already satisfied: slicer==0.0.7 in /opt/conda/lib/python3.9/site-packages (from shap<1,>=0.40->mlflow==2.0.1->katonic[ml]==1.6.2) (0.0.7)\n",
      "Requirement already satisfied: numba in /opt/conda/lib/python3.9/site-packages (from shap<1,>=0.40->mlflow==2.0.1->katonic[ml]==1.6.2) (0.58.1)\n",
      "Requirement already satisfied: PrettyTable>=0.7.2 in /opt/conda/lib/python3.9/site-packages (from cliff->optuna<2.10.0,>=2.8.0->katonic[ml]==1.6.2) (3.9.0)\n",
      "Requirement already satisfied: autopage>=0.4.0 in /opt/conda/lib/python3.9/site-packages (from cliff->optuna<2.10.0,>=2.8.0->katonic[ml]==1.6.2) (0.5.2)\n",
      "Requirement already satisfied: cmd2>=1.0.0 in /opt/conda/lib/python3.9/site-packages (from cliff->optuna<2.10.0,>=2.8.0->katonic[ml]==1.6.2) (2.4.3)\n",
      "Requirement already satisfied: stevedore>=2.0.1 in /opt/conda/lib/python3.9/site-packages (from cliff->optuna<2.10.0,>=2.8.0->katonic[ml]==1.6.2) (5.1.0)\n",
      "Requirement already satisfied: tenacity>=6.2.0 in /opt/conda/lib/python3.9/site-packages (from plotly->catboost==1.1->katonic[ml]==1.6.2) (8.1.0)\n",
      "Requirement already satisfied: wcwidth>=0.1.7 in /opt/conda/lib/python3.9/site-packages (from cmd2>=1.0.0->cliff->optuna<2.10.0,>=2.8.0->katonic[ml]==1.6.2) (0.2.5)\n",
      "Requirement already satisfied: pyperclip>=1.6 in /opt/conda/lib/python3.9/site-packages (from cmd2>=1.0.0->cliff->optuna<2.10.0,>=2.8.0->katonic[ml]==1.6.2) (1.8.2)\n",
      "Requirement already satisfied: attrs>=16.3.0 in /opt/conda/lib/python3.9/site-packages (from cmd2>=1.0.0->cliff->optuna<2.10.0,>=2.8.0->katonic[ml]==1.6.2) (21.2.0)\n",
      "Requirement already satisfied: smmap<6,>=3.0.1 in /opt/conda/lib/python3.9/site-packages (from gitdb<5,>=4.0.1->gitpython<4,>=2.1.0->mlflow==2.0.1->katonic[ml]==1.6.2) (5.0.0)\n",
      "Requirement already satisfied: pbr!=2.1.0,>=2.0.0 in /opt/conda/lib/python3.9/site-packages (from stevedore>=2.0.1->cliff->optuna<2.10.0,>=2.8.0->katonic[ml]==1.6.2) (5.11.1)\n",
      "Requirement already satisfied: llvmlite<0.42,>=0.41.0dev0 in /opt/conda/lib/python3.9/site-packages (from numba->shap<1,>=0.40->mlflow==2.0.1->katonic[ml]==1.6.2) (0.41.1)\n"
     ]
    },
    {
     "name": "stderr",
     "output_type": "stream",
     "text": [
      "WARNING: Running pip as the 'root' user can result in broken permissions and conflicting behaviour with the system package manager. It is recommended to use a virtual environment instead: https://pip.pypa.io/warnings/venv\n"
     ]
    },
    {
     "data": {
      "text/plain": [
       "0"
      ]
     },
     "execution_count": 6,
     "metadata": {},
     "output_type": "execute_result"
    }
   ],
   "source": [
    "import os\n",
    "os.system(\"pip install katonic[ml]==1.6.2\")"
   ]
  },
  {
   "cell_type": "code",
   "execution_count": 4,
   "id": "b8150d1d-dd05-4a38-b765-db82ded787fe",
   "metadata": {},
   "outputs": [],
   "source": [
    "import warnings\n",
    "warnings.filterwarnings('ignore')"
   ]
  },
  {
   "cell_type": "code",
   "execution_count": 7,
   "id": "c66727a0-b4db-4d04-9588-7084b24c94bc",
   "metadata": {},
   "outputs": [],
   "source": [
    "from katonic.ml.client import load_model\n",
    "import pandas as pd"
   ]
  },
  {
   "cell_type": "code",
   "execution_count": 8,
   "id": "f43f6118-af2b-4ee9-b036-84425478ba21",
   "metadata": {},
   "outputs": [],
   "source": [
    "x_test = pd.read_csv(\"x_test.csv\")"
   ]
  },
  {
   "cell_type": "code",
   "execution_count": 12,
   "id": "7c2ab604-d26c-4b6d-9239-2781939ab7f1",
   "metadata": {},
   "outputs": [],
   "source": [
    "model = load_model(\"s3://models/16/4ddca2e3bf5c4ee8a757c599ae73c920/artifacts/teleco_customer_churn3_16_cat_boost_classifier\")"
   ]
  },
  {
   "cell_type": "code",
   "execution_count": 13,
   "id": "22b46066-09ba-4d75-90db-a2f0b3972a0f",
   "metadata": {},
   "outputs": [],
   "source": [
    "y_pred = model.predict(x_test)"
   ]
  },
  {
   "cell_type": "code",
   "execution_count": 14,
   "id": "54f347fd-590c-4104-92f0-17f647b21e5e",
   "metadata": {},
   "outputs": [
    {
     "data": {
      "text/plain": [
       "array([1, 0, 0, ..., 0, 0, 1])"
      ]
     },
     "execution_count": 14,
     "metadata": {},
     "output_type": "execute_result"
    }
   ],
   "source": [
    "y_pred"
   ]
  },
  {
   "cell_type": "code",
   "execution_count": null,
   "id": "7436c3ac-c7f1-499a-955d-4262c147ec81",
   "metadata": {},
   "outputs": [],
   "source": []
  }
 ],
 "metadata": {
  "kernelspec": {
   "display_name": "Python 3 (ipykernel)",
   "language": "python",
   "name": "python3"
  },
  "language_info": {
   "codemirror_mode": {
    "name": "ipython",
    "version": 3
   },
   "file_extension": ".py",
   "mimetype": "text/x-python",
   "name": "python",
   "nbconvert_exporter": "python",
   "pygments_lexer": "ipython3",
   "version": "3.9.7"
  }
 },
 "nbformat": 4,
 "nbformat_minor": 5
}
