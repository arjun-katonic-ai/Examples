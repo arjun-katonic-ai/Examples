{
 "cells": [
  {
   "cell_type": "markdown",
   "metadata": {
    "tags": []
   },
   "source": [
    "## FileManager API"
   ]
  },
  {
   "cell_type": "markdown",
   "metadata": {
    "tags": []
   },
   "source": [
    "#### Installing FileManager"
   ]
  },
  {
   "cell_type": "code",
   "execution_count": 1,
   "metadata": {},
   "outputs": [
    {
     "name": "stderr",
     "output_type": "stream",
     "text": [
      "WARNING: Running pip as the 'root' user can result in broken permissions and conflicting behaviour with the system package manager. It is recommended to use a virtual environment instead: https://pip.pypa.io/warnings/venv\n",
      "WARNING: You are using pip version 21.3.1; however, version 22.1 is available.\n",
      "You should consider upgrading via the '/opt/conda/bin/python -m pip install --upgrade pip' command.\n"
     ]
    },
    {
     "data": {
      "text/plain": [
       "0"
      ]
     },
     "execution_count": 1,
     "metadata": {},
     "output_type": "execute_result"
    }
   ],
   "source": [
    "import os\n",
    "os.system(\"pip install katonic[filemanager] -q\")"
   ]
  },
  {
   "cell_type": "code",
   "execution_count": 3,
   "metadata": {},
   "outputs": [],
   "source": [
    "# loading filemanager credentials\n",
    "import json\n",
    "\n",
    "with open('filemanager-credentials.json', 'r') as f:\n",
    "    configs = json.load(f)"
   ]
  },
  {
   "cell_type": "markdown",
   "metadata": {
    "tags": []
   },
   "source": [
    "#### List Buckets"
   ]
  },
  {
   "cell_type": "code",
   "execution_count": 4,
   "metadata": {},
   "outputs": [],
   "source": [
    "from katonic.filemanager.session import Filemanager"
   ]
  },
  {
   "cell_type": "code",
   "execution_count": 5,
   "metadata": {
    "tags": []
   },
   "outputs": [],
   "source": [
    "# Initiating a FileManager Client, so it will connect to our File Manager.\n",
    "fm = Filemanager(\n",
    "    access_key=configs['ACCESS_KEY'], \n",
    "    secret_key=configs['SECRET_KEY'], \n",
    ")\n",
    "\n",
    "client = fm.client()"
   ]
  },
  {
   "cell_type": "code",
   "execution_count": 6,
   "metadata": {},
   "outputs": [
    {
     "name": "stdout",
     "output_type": "stream",
     "text": [
      "models - 2022-05-06 03:23:05.545000+00:00\n",
      "private-storage-6583 - 2022-05-06 03:40:29.458000+00:00\n",
      "shared-storage - 2022-05-06 03:23:05.492000+00:00\n"
     ]
    }
   ],
   "source": [
    "buckets = client.list_buckets()\n",
    "for bucket in buckets:\n",
    "    print(f\"{bucket.name} - {bucket.creation_date}\")"
   ]
  },
  {
   "cell_type": "markdown",
   "metadata": {
    "tags": []
   },
   "source": [
    "#### Exists Buckets"
   ]
  },
  {
   "cell_type": "code",
   "execution_count": 7,
   "metadata": {},
   "outputs": [],
   "source": [
    "from katonic.filemanager.session import Filemanager"
   ]
  },
  {
   "cell_type": "code",
   "execution_count": 8,
   "metadata": {},
   "outputs": [],
   "source": [
    "# Initiating a FileManager Client, so it will connect to our File Manager.\n",
    "fm = Filemanager(\n",
    "    access_key=configs['ACCESS_KEY'], \n",
    "    secret_key=configs['SECRET_KEY'], \n",
    ")\n",
    "\n",
    "client = fm.client()"
   ]
  },
  {
   "cell_type": "code",
   "execution_count": 9,
   "metadata": {},
   "outputs": [
    {
     "name": "stdout",
     "output_type": "stream",
     "text": [
      "my-bucket exists\n"
     ]
    }
   ],
   "source": [
    "if client.bucket_exists(\"models\"):\n",
    "    print(\"my-bucket exists\")\n",
    "else:\n",
    "    print(\"my-bucket does not exist\")"
   ]
  },
  {
   "cell_type": "markdown",
   "metadata": {
    "tags": []
   },
   "source": [
    "#### Put file Object"
   ]
  },
  {
   "cell_type": "code",
   "execution_count": 10,
   "metadata": {},
   "outputs": [],
   "source": [
    "from katonic.filemanager.session import Filemanager"
   ]
  },
  {
   "cell_type": "code",
   "execution_count": 11,
   "metadata": {},
   "outputs": [],
   "source": [
    "# Initiating a FileManager Client, so it will connect to our File Manager.\n",
    "fm = Filemanager(\n",
    "    access_key=configs['ACCESS_KEY'], \n",
    "    secret_key=configs['SECRET_KEY'], \n",
    ")\n",
    "\n",
    "client = fm.client()"
   ]
  },
  {
   "cell_type": "code",
   "execution_count": 12,
   "metadata": {},
   "outputs": [
    {
     "data": {
      "text/plain": [
       "<minio.helpers.ObjectWriteResult at 0x7ff5606d9c70>"
      ]
     },
     "execution_count": 12,
     "metadata": {},
     "output_type": "execute_result"
    }
   ],
   "source": [
    "client.fput_object(\n",
    "    configs['PRIVATE_BUCKET'],\n",
    "    \"/kfs_private/\",\n",
    "    \"/kfs_public/files/sample-file.txt\"\n",
    ")"
   ]
  },
  {
   "cell_type": "markdown",
   "metadata": {
    "tags": []
   },
   "source": [
    "#### Get file Object"
   ]
  },
  {
   "cell_type": "code",
   "execution_count": 13,
   "metadata": {},
   "outputs": [],
   "source": [
    "from katonic.filemanager.session import Filemanager"
   ]
  },
  {
   "cell_type": "code",
   "execution_count": 14,
   "metadata": {},
   "outputs": [],
   "source": [
    "# Initiating a FileManager Client, so it will connect to our File Manager.\n",
    "fm = Filemanager(\n",
    "    access_key=configs['ACCESS_KEY'], \n",
    "    secret_key=configs['SECRET_KEY'], \n",
    ")\n",
    "\n",
    "client = fm.client()"
   ]
  },
  {
   "cell_type": "code",
   "execution_count": 15,
   "metadata": {},
   "outputs": [
    {
     "data": {
      "text/plain": [
       "<minio.datatypes.Object at 0x7ff5603e6340>"
      ]
     },
     "execution_count": 15,
     "metadata": {},
     "output_type": "execute_result"
    }
   ],
   "source": [
    "client.fget_object(\n",
    "    configs['PUBLIC_BUCKET'],\n",
    "    \"sample-file.txt\",\n",
    "    \"/kfs_public/files/sample-file.txt\"\n",
    ")"
   ]
  },
  {
   "cell_type": "markdown",
   "metadata": {
    "tags": []
   },
   "source": [
    "#### Get Object"
   ]
  },
  {
   "cell_type": "code",
   "execution_count": 16,
   "metadata": {},
   "outputs": [],
   "source": [
    "# Get data of an object.\n",
    "try:\n",
    "    response = client.get_object(\n",
    "        configs['PUBLIC_BUCKET'],\n",
    "        \"sample-file.txt\",\n",
    ")\n",
    "# Read data from response.\n",
    "finally:\n",
    "    response.close()\n",
    "    response.release_conn()"
   ]
  },
  {
   "cell_type": "code",
   "execution_count": 17,
   "metadata": {},
   "outputs": [],
   "source": [
    "# Get data of an object of version-ID.\n",
    "try:\n",
    "    response = client.get_object(\n",
    "        configs['PUBLIC_BUCKET'],\n",
    "        \"sample-file.txt\",\n",
    "        version_id=\"3081142b-a876-47b3-9cce-13444c78488f\",\n",
    "    )\n",
    "# Read data from response.\n",
    "finally:\n",
    "    response.close()\n",
    "    response.release_conn()"
   ]
  },
  {
   "cell_type": "markdown",
   "metadata": {},
   "source": [
    "#### Remove Object"
   ]
  },
  {
   "cell_type": "code",
   "execution_count": null,
   "metadata": {},
   "outputs": [],
   "source": [
    "from katonic.filemanager.deleteobjects import DeleteObject"
   ]
  },
  {
   "cell_type": "code",
   "execution_count": null,
   "metadata": {},
   "outputs": [],
   "source": [
    "# Remove a prefix recursively.\n",
    "delete_object_list = map(\n",
    "    lambda x: DeleteObject(x.object_name),\n",
    "    client.list_objects(configs['PRIVATE_BUCKET'], \"folder-name\", recursive=True),\n",
    ")\n",
    "errors = client.remove_objects(configs['PRIVATE_BUCKET'], delete_object_list)\n",
    "for error in errors:\n",
    "    print(\"error occured when deleting object\", error)"
   ]
  },
  {
   "cell_type": "code",
   "execution_count": null,
   "metadata": {},
   "outputs": [],
   "source": []
  }
 ],
 "metadata": {
  "kernelspec": {
   "display_name": "Python 3.9.7 ('base')",
   "language": "python",
   "name": "python3"
  },
  "kubeflow_notebook": {
   "autosnapshot": false,
   "docker_image": "",
   "experiment": {
    "id": "",
    "name": ""
   },
   "experiment_name": "",
   "katib_metadata": {
    "algorithm": {
     "algorithmName": "grid"
    },
    "maxFailedTrialCount": 3,
    "maxTrialCount": 12,
    "objective": {
     "objectiveMetricName": "",
     "type": "minimize"
    },
    "parallelTrialCount": 3,
    "parameters": []
   },
   "katib_run": false,
   "pipeline_description": "",
   "pipeline_name": "",
   "snapshot_volumes": false,
   "steps_defaults": [],
   "volume_access_mode": "rwm",
   "volumes": []
  },
  "language_info": {
   "codemirror_mode": {
    "name": "ipython",
    "version": 3
   },
   "file_extension": ".py",
   "mimetype": "text/x-python",
   "name": "python",
   "nbconvert_exporter": "python",
   "pygments_lexer": "ipython3",
   "version": "3.9.7"
  },
  "vscode": {
   "interpreter": {
    "hash": "de7c534ced4c91973cabd96bad35a2762c7a57b0986e9ee4825d203524d682ef"
   }
  }
 },
 "nbformat": 4,
 "nbformat_minor": 4
}
