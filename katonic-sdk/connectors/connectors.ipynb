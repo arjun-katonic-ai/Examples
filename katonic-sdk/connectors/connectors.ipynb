{
 "cells": [
  {
   "cell_type": "markdown",
   "metadata": {},
   "source": [
    "# Connectors"
   ]
  },
  {
   "cell_type": "markdown",
   "metadata": {},
   "source": [
    "#### Installing Connectors"
   ]
  },
  {
   "cell_type": "code",
   "execution_count": null,
   "metadata": {},
   "outputs": [],
   "source": [
    "!pip install katonic[connectors]"
   ]
  },
  {
   "cell_type": "markdown",
   "metadata": {},
   "source": [
    "### SnowFlake Connector"
   ]
  },
  {
   "cell_type": "code",
   "execution_count": 5,
   "metadata": {},
   "outputs": [],
   "source": [
    "import json\n",
    "\n",
    "with open('snowflake-credentials.json') as f:\n",
    "    config = json.load(f)"
   ]
  },
  {
   "cell_type": "code",
   "execution_count": 6,
   "metadata": {},
   "outputs": [],
   "source": [
    "from katonic.connectors.python.snowflake import SnowFlakeConnector"
   ]
  },
  {
   "cell_type": "code",
   "execution_count": 7,
   "metadata": {},
   "outputs": [],
   "source": [
    "df = SnowFlakeConnector(\n",
    "    user=config[\"USER\"],\n",
    "    password=config[\"PASSWORD\"],\n",
    "    account=config[\"ACCOUNT\"],\n",
    "    database=config[\"DATABASE\"],\n",
    "    table_name=config[\"TABLE_NAME\"],\n",
    "    schema=config[\"SCHEMA\"],\n",
    "    warehouse=config[\"WAREHOUSE\"],\n",
    "    query=\"SELECT * FROM TPCH_SF1.CUSTOMER\",\n",
    "    output=\"local\",\n",
    "    file_name=\"driver_data\",\n",
    ")"
   ]
  },
  {
   "cell_type": "code",
   "execution_count": 8,
   "metadata": {},
   "outputs": [
    {
     "name": "stdout",
     "output_type": "stream",
     "text": [
      "Connection to snowflake stablished Successfully.\n",
      "File saved to your \u001b[1m\u001b[32m'local'\u001b[0m file system with name \u001b[1m\u001b[32m'snowflake_TPCH_SF1_SNOWFLAKE_SAMPLE_DATA_driver_data_2022_04_20_08_46_38.csv'\u001b[0m Successfully.\n"
     ]
    }
   ],
   "source": [
    "df.get_data()"
   ]
  },
  {
   "cell_type": "code",
   "execution_count": null,
   "metadata": {},
   "outputs": [],
   "source": []
  }
 ],
 "metadata": {
  "interpreter": {
   "hash": "cd8062166ae6a3b06c55b5baf9624cabdf0ef21c22eb981aeed5b6be86af87ea"
  },
  "kernelspec": {
   "display_name": "Python 3.9.7 ('env': venv)",
   "language": "python",
   "name": "python3"
  },
  "language_info": {
   "codemirror_mode": {
    "name": "ipython",
    "version": 3
   },
   "file_extension": ".py",
   "mimetype": "text/x-python",
   "name": "python",
   "nbconvert_exporter": "python",
   "pygments_lexer": "ipython3",
   "version": "3.9.7"
  },
  "orig_nbformat": 4
 },
 "nbformat": 4,
 "nbformat_minor": 2
}
