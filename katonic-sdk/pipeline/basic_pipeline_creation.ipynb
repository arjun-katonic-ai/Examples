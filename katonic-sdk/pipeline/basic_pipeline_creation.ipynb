{
 "cells": [
  {
   "cell_type": "markdown",
   "id": "efe80ca2-6766-432a-b685-9b8192514a9d",
   "metadata": {},
   "source": [
    "# This Notebook focuses on creating a basic Kubeflow pipeline"
   ]
  },
  {
   "cell_type": "markdown",
   "id": "5003251f",
   "metadata": {},
   "source": [
    "### Installing Katonic SDK"
   ]
  },
  {
   "cell_type": "code",
   "execution_count": null,
   "id": "b3c259e0",
   "metadata": {},
   "outputs": [],
   "source": [
    "!pip install katonic[pipeline]"
   ]
  },
  {
   "cell_type": "markdown",
   "id": "f3c65ca8",
   "metadata": {},
   "source": [
    "### Import Required Packages"
   ]
  },
  {
   "cell_type": "code",
   "execution_count": null,
   "id": "e1fb5171",
   "metadata": {},
   "outputs": [],
   "source": [
    "from katonic.pipeline.pipeline import dsl, create_component_from_func, compiler, Client"
   ]
  },
  {
   "cell_type": "code",
   "execution_count": null,
   "id": "01e7cbba-5ccb-4a14-a64e-c9772885cb18",
   "metadata": {},
   "outputs": [],
   "source": [
    "# Define your function(s)\n",
    "def print_something(data: int):\n",
    "    print(data)"
   ]
  },
  {
   "cell_type": "markdown",
   "id": "182afb3f-c652-427b-b95e-43c4a7566cd3",
   "metadata": {},
   "source": [
    "### Design a Pipeline"
   ]
  },
  {
   "cell_type": "markdown",
   "id": "fff6c692",
   "metadata": {},
   "source": [
    "- `create_component_from_func` is used to convert functions into components and that is stored inside `print_something_op`,\n",
    "    data is passed inside `print_something_op` to print it."
   ]
  },
  {
   "cell_type": "code",
   "execution_count": null,
   "id": "72bc29f6-2255-43f6-85f1-28c56b8e646e",
   "metadata": {},
   "outputs": [],
   "source": [
    "@dsl.pipeline(\n",
    "    name='Print Something',\n",
    "    description='A pipeline that prints some data'\n",
    ")\n",
    "def pipeline():\n",
    "    print_something_op = create_component_from_func(func=print_something)\n",
    "    \n",
    "    data = \"Hello World!!\"\n",
    "    print_something_op(data)"
   ]
  },
  {
   "cell_type": "markdown",
   "id": "fcb76a18-2178-40ce-9a42-840c58b13356",
   "metadata": {},
   "source": [
    "### Compile and Run Pipeline"
   ]
  },
  {
   "cell_type": "markdown",
   "id": "905a9be9",
   "metadata": {},
   "source": [
    "- Here `pipeline-experiment-name`, `function` is defined first, then using the `pipeline-function` and `yaml-filename` the pipeline is compiled that generate a `.yaml` file that contains pipeline description.\n",
    "- Then pipeline is uploaded using the client and it is executed to run at the end."
   ]
  },
  {
   "cell_type": "code",
   "execution_count": null,
   "id": "e9aba232-166f-400c-845f-c56f9bae45d6",
   "metadata": {},
   "outputs": [],
   "source": [
    "from datetime import datetime\n",
    "import uuid\n",
    "EXPERIMENT_NAME = \"Print_Something\"\n",
    "pipeline_func = pipeline\n",
    "pipeline_filename = f'{pipeline_func.__name__}{uuid.uuid1()}.pipeline.yaml'\n",
    "compiler.Compiler().compile(pipeline_func, pipeline_filename)\n",
    "client = Client()\n",
    "experiment = client.create_experiment(EXPERIMENT_NAME)\n",
    "run_name = pipeline_func.__name__ + str(datetime.now().strftime(\"%d-%m-%Y-%H-%M-%S\"))\n",
    "client.upload_pipeline(pipeline_filename)\n",
    "run_result = client.run_pipeline(experiment.id, run_name, pipeline_filename)"
   ]
  },
  {
   "cell_type": "code",
   "execution_count": null,
   "id": "47b54da4-b1a6-469c-add6-b9fa62985b79",
   "metadata": {},
   "outputs": [],
   "source": []
  }
 ],
 "metadata": {
  "interpreter": {
   "hash": "de7c534ced4c91973cabd96bad35a2762c7a57b0986e9ee4825d203524d682ef"
  },
  "kernelspec": {
   "display_name": "Python 3.9.7 ('base')",
   "language": "python",
   "name": "python3"
  },
  "language_info": {
   "codemirror_mode": {
    "name": "ipython",
    "version": 3
   },
   "file_extension": ".py",
   "mimetype": "text/x-python",
   "name": "python",
   "nbconvert_exporter": "python",
   "pygments_lexer": "ipython3",
   "version": "3.9.7"
  }
 },
 "nbformat": 4,
 "nbformat_minor": 5
}
