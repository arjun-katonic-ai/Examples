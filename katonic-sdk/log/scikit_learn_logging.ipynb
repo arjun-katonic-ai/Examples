{
 "cells": [
  {
   "cell_type": "markdown",
   "metadata": {},
   "source": [
    "## Log a Scikit-Learn Model"
   ]
  },
  {
   "cell_type": "markdown",
   "metadata": {},
   "source": [
    "Log a Scikit-Learn Model with Katonic SDK's Log package."
   ]
  },
  {
   "cell_type": "markdown",
   "metadata": {},
   "source": [
    "### Imports"
   ]
  },
  {
   "cell_type": "code",
   "execution_count": 1,
   "metadata": {},
   "outputs": [],
   "source": [
    "import os\n",
    "\n",
    "import pandas as pd\n",
    "from sklearn.ensemble import RandomForestClassifier, AdaBoostClassifier, GradientBoostingClassifier\n",
    "from sklearn.model_selection import train_test_split\n",
    "from sklearn.metrics import accuracy_score, roc_auc_score, log_loss, recall_score, f1_score, precision_score\n",
    "from sklearn.linear_model import LogisticRegression\n",
    "from katonic.log.logmodel import LogModel"
   ]
  },
  {
   "cell_type": "markdown",
   "metadata": {},
   "source": [
    "### Experiment Name"
   ]
  },
  {
   "cell_type": "code",
   "execution_count": 2,
   "metadata": {},
   "outputs": [],
   "source": [
    "experiment_name= \"sklearn_model\""
   ]
  },
  {
   "cell_type": "markdown",
   "metadata": {},
   "source": [
    "### Initiate LogModel with experiment name"
   ]
  },
  {
   "cell_type": "code",
   "execution_count": 3,
   "metadata": {
    "tags": []
   },
   "outputs": [
    {
     "name": "stderr",
     "output_type": "stream",
     "text": [
      "2022/06/10 11:09:37 INFO mlflow.tracking.fluent: Experiment with name 'sklearn_model' does not exist. Creating a new experiment.\n"
     ]
    }
   ],
   "source": [
    "lm = LogModel(experiment_name)"
   ]
  },
  {
   "cell_type": "markdown",
   "metadata": {},
   "source": [
    "### Metadata of the created / existing experiment"
   ]
  },
  {
   "cell_type": "code",
   "execution_count": 4,
   "metadata": {},
   "outputs": [
    {
     "name": "stdout",
     "output_type": "stream",
     "text": [
      "experiment name:  sklearn_model\n",
      "experiment location:  s3://models/22\n",
      "experiment id:  22\n",
      "experiment status:  active\n"
     ]
    }
   ],
   "source": [
    "# experiment id\n",
    "exp_id = lm.id\n",
    "\n",
    "print(\"experiment name: \", lm.name)\n",
    "print(\"experiment location: \", lm.location)\n",
    "print(\"experiment id: \", lm.id)\n",
    "print(\"experiment status: \", lm.stage)"
   ]
  },
  {
   "cell_type": "markdown",
   "metadata": {},
   "source": [
    "### Artifact path where you want to log your model"
   ]
  },
  {
   "cell_type": "code",
   "execution_count": 5,
   "metadata": {},
   "outputs": [],
   "source": [
    "artifact_path = \"scikit-learn-model\""
   ]
  },
  {
   "cell_type": "markdown",
   "metadata": {},
   "source": [
    "### Read the data"
   ]
  },
  {
   "cell_type": "code",
   "execution_count": 6,
   "metadata": {},
   "outputs": [
    {
     "data": {
      "text/html": [
       "<div>\n",
       "<style scoped>\n",
       "    .dataframe tbody tr th:only-of-type {\n",
       "        vertical-align: middle;\n",
       "    }\n",
       "\n",
       "    .dataframe tbody tr th {\n",
       "        vertical-align: top;\n",
       "    }\n",
       "\n",
       "    .dataframe thead th {\n",
       "        text-align: right;\n",
       "    }\n",
       "</style>\n",
       "<table border=\"1\" class=\"dataframe\">\n",
       "  <thead>\n",
       "    <tr style=\"text-align: right;\">\n",
       "      <th></th>\n",
       "      <th>Pregnancies</th>\n",
       "      <th>Glucose</th>\n",
       "      <th>BloodPressure</th>\n",
       "      <th>SkinThickness</th>\n",
       "      <th>Insulin</th>\n",
       "      <th>BMI</th>\n",
       "      <th>DiabetesPedigreeFunction</th>\n",
       "      <th>Age</th>\n",
       "      <th>Outcome</th>\n",
       "    </tr>\n",
       "  </thead>\n",
       "  <tbody>\n",
       "    <tr>\n",
       "      <th>0</th>\n",
       "      <td>6</td>\n",
       "      <td>148</td>\n",
       "      <td>72</td>\n",
       "      <td>35</td>\n",
       "      <td>0</td>\n",
       "      <td>33.6</td>\n",
       "      <td>0.627</td>\n",
       "      <td>50</td>\n",
       "      <td>1</td>\n",
       "    </tr>\n",
       "    <tr>\n",
       "      <th>1</th>\n",
       "      <td>1</td>\n",
       "      <td>85</td>\n",
       "      <td>66</td>\n",
       "      <td>29</td>\n",
       "      <td>0</td>\n",
       "      <td>26.6</td>\n",
       "      <td>0.351</td>\n",
       "      <td>31</td>\n",
       "      <td>0</td>\n",
       "    </tr>\n",
       "    <tr>\n",
       "      <th>2</th>\n",
       "      <td>8</td>\n",
       "      <td>183</td>\n",
       "      <td>64</td>\n",
       "      <td>0</td>\n",
       "      <td>0</td>\n",
       "      <td>23.3</td>\n",
       "      <td>0.672</td>\n",
       "      <td>32</td>\n",
       "      <td>1</td>\n",
       "    </tr>\n",
       "    <tr>\n",
       "      <th>3</th>\n",
       "      <td>1</td>\n",
       "      <td>89</td>\n",
       "      <td>66</td>\n",
       "      <td>23</td>\n",
       "      <td>94</td>\n",
       "      <td>28.1</td>\n",
       "      <td>0.167</td>\n",
       "      <td>21</td>\n",
       "      <td>0</td>\n",
       "    </tr>\n",
       "    <tr>\n",
       "      <th>4</th>\n",
       "      <td>0</td>\n",
       "      <td>137</td>\n",
       "      <td>40</td>\n",
       "      <td>35</td>\n",
       "      <td>168</td>\n",
       "      <td>43.1</td>\n",
       "      <td>2.288</td>\n",
       "      <td>33</td>\n",
       "      <td>1</td>\n",
       "    </tr>\n",
       "  </tbody>\n",
       "</table>\n",
       "</div>"
      ],
      "text/plain": [
       "   Pregnancies  Glucose  BloodPressure  SkinThickness  Insulin   BMI  \\\n",
       "0            6      148             72             35        0  33.6   \n",
       "1            1       85             66             29        0  26.6   \n",
       "2            8      183             64              0        0  23.3   \n",
       "3            1       89             66             23       94  28.1   \n",
       "4            0      137             40             35      168  43.1   \n",
       "\n",
       "   DiabetesPedigreeFunction  Age  Outcome  \n",
       "0                     0.627   50        1  \n",
       "1                     0.351   31        0  \n",
       "2                     0.672   32        1  \n",
       "3                     0.167   21        0  \n",
       "4                     2.288   33        1  "
      ]
     },
     "execution_count": 6,
     "metadata": {},
     "output_type": "execute_result"
    }
   ],
   "source": [
    "df = pd.read_csv('https://raw.githubusercontent.com/plotly/datasets/master/diabetes.csv')\n",
    "df.head()"
   ]
  },
  {
   "cell_type": "markdown",
   "metadata": {},
   "source": [
    "### Get features and label"
   ]
  },
  {
   "cell_type": "code",
   "execution_count": 7,
   "metadata": {},
   "outputs": [],
   "source": [
    "x = df.drop(columns=['Outcome'], axis=1)\n",
    "y = df['Outcome']"
   ]
  },
  {
   "cell_type": "markdown",
   "metadata": {},
   "source": [
    "### Split the dataset in Train and Test"
   ]
  },
  {
   "cell_type": "code",
   "execution_count": 8,
   "metadata": {},
   "outputs": [],
   "source": [
    "X_train, X_test, y_train, y_test = train_test_split(x, y, test_size=.20,random_state=98)"
   ]
  },
  {
   "cell_type": "markdown",
   "metadata": {},
   "source": [
    "### Define Metric"
   ]
  },
  {
   "cell_type": "code",
   "execution_count": 9,
   "metadata": {},
   "outputs": [],
   "source": [
    "def metric(actual, pred):\n",
    "    acc_score = accuracy_score(actual, pred)\n",
    "    recall = recall_score(actual, pred)\n",
    "    precision_scr = precision_score(actual, pred)\n",
    "    f1_scr = f1_score(actual, pred)\n",
    "    auc_roc = roc_auc_score(actual, pred)\n",
    "    log_los = log_loss(actual, pred)\n",
    "\n",
    "    return (\n",
    "        acc_score,\n",
    "        auc_roc,\n",
    "        log_los,\n",
    "        recall,\n",
    "        f1_scr,\n",
    "        precision_scr\n",
    "    )"
   ]
  },
  {
   "cell_type": "markdown",
   "metadata": {},
   "source": [
    "### Random Forest"
   ]
  },
  {
   "cell_type": "code",
   "execution_count": 10,
   "metadata": {},
   "outputs": [
    {
     "data": {
      "text/plain": [
       "RandomForestClassifier(max_depth=2, random_state=0)"
      ]
     },
     "execution_count": 10,
     "metadata": {},
     "output_type": "execute_result"
    }
   ],
   "source": [
    "model_clf = RandomForestClassifier(max_depth=2, random_state=0)\n",
    "model_clf.fit(X_train, y_train)"
   ]
  },
  {
   "cell_type": "code",
   "execution_count": 11,
   "metadata": {},
   "outputs": [],
   "source": [
    "y_pred = model_clf.predict(X_test)\n",
    "(acc_score, auc_roc, log_los, recall, f1_scr, precision_scr) = metric(y_test, y_pred)\n",
    "\n",
    "model_mertics = {\n",
    "    \"accuracy_score\": acc_score,\n",
    "    \"roc_auc_score\": auc_roc,\n",
    "    \"log_loss\": log_los,\n",
    "    \"recall\": recall,\n",
    "    \"f1_score\": f1_scr,\n",
    "    \"precision_score\": precision_scr\n",
    "}"
   ]
  },
  {
   "cell_type": "markdown",
   "metadata": {},
   "source": [
    "### Log random forest model"
   ]
  },
  {
   "cell_type": "code",
   "execution_count": 13,
   "metadata": {},
   "outputs": [
    {
     "name": "stdout",
     "output_type": "stream",
     "text": [
      "Model artifact logged to: s3://models/22/d6d1773379764c2b9c2004311957a359/artifacts/sklearn_model_22_scikit-learn-model_random_forest\n"
     ]
    }
   ],
   "source": [
    "lm.model_logging(\n",
    "    model_name=\"random_forest\",\n",
    "    model_type=\"scikit-learn\",\n",
    "    model=model_clf,\n",
    "    artifact_path=artifact_path,\n",
    "    current_working_dir=f'{os.getcwd()}/scikit_learn_logging.ipynb',\n",
    "    metrics=model_mertics\n",
    ")"
   ]
  },
  {
   "cell_type": "markdown",
   "metadata": {},
   "source": [
    "### Logistic Regression"
   ]
  },
  {
   "cell_type": "code",
   "execution_count": 14,
   "metadata": {},
   "outputs": [
    {
     "data": {
      "text/plain": [
       "LogisticRegression(random_state=0)"
      ]
     },
     "execution_count": 14,
     "metadata": {},
     "output_type": "execute_result"
    }
   ],
   "source": [
    "model_clf = LogisticRegression(random_state=0)\n",
    "model_clf.fit(X_train, y_train)"
   ]
  },
  {
   "cell_type": "code",
   "execution_count": 15,
   "metadata": {},
   "outputs": [],
   "source": [
    "y_pred = model_clf.predict(X_test)\n",
    "(acc_score, auc_roc, log_los, recall, f1_scr, precision_scr) = metric(y_test, y_pred)\n",
    "\n",
    "model_mertics = {\n",
    "    \"accuracy_score\": acc_score,\n",
    "    \"roc_auc_score\": auc_roc,\n",
    "    \"log_loss\": log_los,\n",
    "    \"recall\": recall,\n",
    "    \"f1_score\": f1_scr,\n",
    "    \"precision_score\": precision_scr\n",
    "}"
   ]
  },
  {
   "cell_type": "markdown",
   "metadata": {},
   "source": [
    "### Log logistic Regression model"
   ]
  },
  {
   "cell_type": "code",
   "execution_count": 17,
   "metadata": {},
   "outputs": [
    {
     "name": "stdout",
     "output_type": "stream",
     "text": [
      "Model artifact logged to: s3://models/22/1ae90a6e7ed946609e4f169826f21d97/artifacts/sklearn_model_22_scikit-learn-model_logistic_regression\n"
     ]
    }
   ],
   "source": [
    "lm.model_logging(\n",
    "    model_name=\"logistic_regression\",\n",
    "    model_type=\"scikit-learn\",\n",
    "    model=model_clf,\n",
    "    artifact_path=artifact_path,\n",
    "    current_working_dir=f'{os.getcwd()}/scikit_learn_logging.ipynb',\n",
    "    metrics=model_mertics\n",
    ")"
   ]
  },
  {
   "cell_type": "markdown",
   "metadata": {},
   "source": [
    "### Adaboost"
   ]
  },
  {
   "cell_type": "code",
   "execution_count": 18,
   "metadata": {},
   "outputs": [
    {
     "data": {
      "text/plain": [
       "AdaBoostClassifier(random_state=0)"
      ]
     },
     "execution_count": 18,
     "metadata": {},
     "output_type": "execute_result"
    }
   ],
   "source": [
    "model_clf = AdaBoostClassifier(random_state=0)\n",
    "model_clf.fit(X_train, y_train)"
   ]
  },
  {
   "cell_type": "code",
   "execution_count": 19,
   "metadata": {},
   "outputs": [],
   "source": [
    "y_pred = model_clf.predict(X_test)\n",
    "(acc_score, auc_roc, log_los, recall, f1_scr, precision_scr) = metric(y_test, y_pred)\n",
    "\n",
    "model_mertics = {\n",
    "    \"accuracy_score\": acc_score,\n",
    "    \"roc_auc_score\": auc_roc,\n",
    "    \"log_loss\": log_los,\n",
    "    \"recall\": recall,\n",
    "    \"f1_score\": f1_scr,\n",
    "    \"precision_score\": precision_scr\n",
    "}"
   ]
  },
  {
   "cell_type": "markdown",
   "metadata": {},
   "source": [
    "### Log Adaboost model"
   ]
  },
  {
   "cell_type": "code",
   "execution_count": 20,
   "metadata": {},
   "outputs": [
    {
     "name": "stdout",
     "output_type": "stream",
     "text": [
      "Model artifact logged to: s3://models/22/997ab9377d3f4204a5b5e063dbd1a507/artifacts/sklearn_model_22_scikit-learn-model_adaboostclassifier\n"
     ]
    }
   ],
   "source": [
    "lm.model_logging(\n",
    "    model_name=\"adaboostclassifier\",\n",
    "    model_type=\"scikit-learn\",\n",
    "    model=model_clf,\n",
    "    artifact_path=artifact_path,\n",
    "    current_working_dir=f'{os.getcwd()}/scikit_learn_logging.ipynb',\n",
    "    metrics=model_mertics\n",
    ")"
   ]
  },
  {
   "cell_type": "markdown",
   "metadata": {},
   "source": [
    "### Gradient Boost Model"
   ]
  },
  {
   "cell_type": "code",
   "execution_count": 21,
   "metadata": {},
   "outputs": [
    {
     "data": {
      "text/plain": [
       "GradientBoostingClassifier(random_state=0)"
      ]
     },
     "execution_count": 21,
     "metadata": {},
     "output_type": "execute_result"
    }
   ],
   "source": [
    "model_clf = GradientBoostingClassifier(random_state=0)\n",
    "model_clf.fit(X_train, y_train)"
   ]
  },
  {
   "cell_type": "code",
   "execution_count": 22,
   "metadata": {},
   "outputs": [],
   "source": [
    "y_pred = model_clf.predict(X_test)\n",
    "(acc_score, auc_roc, log_los, recall, f1_scr, precision_scr) = metric(y_test, y_pred)\n",
    "\n",
    "model_mertics = {\n",
    "    \"accuracy_score\": acc_score,\n",
    "    \"roc_auc_score\": auc_roc,\n",
    "    \"log_loss\": log_los,\n",
    "    \"recall\": recall,\n",
    "    \"f1_score\": f1_scr,\n",
    "    \"precision_score\": precision_scr\n",
    "}"
   ]
  },
  {
   "cell_type": "markdown",
   "metadata": {},
   "source": [
    "### Log Gradientboost model"
   ]
  },
  {
   "cell_type": "code",
   "execution_count": 23,
   "metadata": {},
   "outputs": [
    {
     "name": "stdout",
     "output_type": "stream",
     "text": [
      "Model artifact logged to: s3://models/22/bfacaa5b48d74870a7d3f8f405bb88fd/artifacts/sklearn_model_22_scikit-learn-model_gradientboostclassifier\n"
     ]
    }
   ],
   "source": [
    "lm.model_logging(\n",
    "    model_name=\"gradientboostclassifier\",\n",
    "    model_type=\"scikit-learn\",\n",
    "    model=model_clf,\n",
    "    artifact_path=artifact_path,\n",
    "    current_working_dir=f'{os.getcwd()}/scikit_learn_logging.ipynb',\n",
    "    metrics=model_mertics\n",
    ")"
   ]
  },
  {
   "cell_type": "markdown",
   "metadata": {},
   "source": [
    "### Check Loaded Models"
   ]
  },
  {
   "cell_type": "code",
   "execution_count": 24,
   "metadata": {},
   "outputs": [
    {
     "name": "stdout",
     "output_type": "stream",
     "text": [
      "Number of runs done :  4\n"
     ]
    }
   ],
   "source": [
    "df_runs = lm.search_runs(exp_id)\n",
    "print(\"Number of runs done : \", len(df_runs))"
   ]
  },
  {
   "cell_type": "code",
   "execution_count": 25,
   "metadata": {},
   "outputs": [
    {
     "data": {
      "text/html": [
       "<div>\n",
       "<style scoped>\n",
       "    .dataframe tbody tr th:only-of-type {\n",
       "        vertical-align: middle;\n",
       "    }\n",
       "\n",
       "    .dataframe tbody tr th {\n",
       "        vertical-align: top;\n",
       "    }\n",
       "\n",
       "    .dataframe thead th {\n",
       "        text-align: right;\n",
       "    }\n",
       "</style>\n",
       "<table border=\"1\" class=\"dataframe\">\n",
       "  <thead>\n",
       "    <tr style=\"text-align: right;\">\n",
       "      <th></th>\n",
       "      <th>artifact_uri</th>\n",
       "      <th>end_time</th>\n",
       "      <th>experiment_id</th>\n",
       "      <th>metrics.accuracy_score</th>\n",
       "      <th>metrics.f1_score</th>\n",
       "      <th>metrics.log_loss</th>\n",
       "      <th>metrics.precision_score</th>\n",
       "      <th>metrics.recall</th>\n",
       "      <th>metrics.roc_auc_score</th>\n",
       "      <th>run_id</th>\n",
       "      <th>run_name</th>\n",
       "      <th>start_time</th>\n",
       "      <th>status</th>\n",
       "      <th>tags.mlflow.log-model.history</th>\n",
       "    </tr>\n",
       "  </thead>\n",
       "  <tbody>\n",
       "    <tr>\n",
       "      <th>0</th>\n",
       "      <td>s3://models/22/bfacaa5b48d74870a7d3f8f405bb88f...</td>\n",
       "      <td>2022-06-10 11:10:14.119000+00:00</td>\n",
       "      <td>22</td>\n",
       "      <td>0.818182</td>\n",
       "      <td>0.695652</td>\n",
       "      <td>6.279829</td>\n",
       "      <td>0.761905</td>\n",
       "      <td>0.64</td>\n",
       "      <td>0.771923</td>\n",
       "      <td>bfacaa5b48d74870a7d3f8f405bb88fd</td>\n",
       "      <td>scikit-learn-model</td>\n",
       "      <td>2022-06-10 11:10:11.443000+00:00</td>\n",
       "      <td>FINISHED</td>\n",
       "      <td>[{\"run_id\": \"bfacaa5b48d74870a7d3f8f405bb88fd\"...</td>\n",
       "    </tr>\n",
       "    <tr>\n",
       "      <th>1</th>\n",
       "      <td>s3://models/22/997ab9377d3f4204a5b5e063dbd1a50...</td>\n",
       "      <td>2022-06-10 11:10:05.926000+00:00</td>\n",
       "      <td>22</td>\n",
       "      <td>0.792208</td>\n",
       "      <td>0.666667</td>\n",
       "      <td>7.176961</td>\n",
       "      <td>0.695652</td>\n",
       "      <td>0.64</td>\n",
       "      <td>0.752692</td>\n",
       "      <td>997ab9377d3f4204a5b5e063dbd1a507</td>\n",
       "      <td>scikit-learn-model</td>\n",
       "      <td>2022-06-10 11:10:03.276000+00:00</td>\n",
       "      <td>FINISHED</td>\n",
       "      <td>[{\"run_id\": \"997ab9377d3f4204a5b5e063dbd1a507\"...</td>\n",
       "    </tr>\n",
       "    <tr>\n",
       "      <th>2</th>\n",
       "      <td>s3://models/22/1ae90a6e7ed946609e4f169826f21d9...</td>\n",
       "      <td>2022-06-10 11:09:57.436000+00:00</td>\n",
       "      <td>22</td>\n",
       "      <td>0.792208</td>\n",
       "      <td>0.636364</td>\n",
       "      <td>7.176941</td>\n",
       "      <td>0.736842</td>\n",
       "      <td>0.56</td>\n",
       "      <td>0.731923</td>\n",
       "      <td>1ae90a6e7ed946609e4f169826f21d97</td>\n",
       "      <td>scikit-learn-model</td>\n",
       "      <td>2022-06-10 11:09:54.884000+00:00</td>\n",
       "      <td>FINISHED</td>\n",
       "      <td>[{\"run_id\": \"1ae90a6e7ed946609e4f169826f21d97\"...</td>\n",
       "    </tr>\n",
       "    <tr>\n",
       "      <th>3</th>\n",
       "      <td>s3://models/22/d6d1773379764c2b9c2004311957a35...</td>\n",
       "      <td>2022-06-10 11:09:52.553000+00:00</td>\n",
       "      <td>22</td>\n",
       "      <td>0.772727</td>\n",
       "      <td>0.477612</td>\n",
       "      <td>7.849727</td>\n",
       "      <td>0.941176</td>\n",
       "      <td>0.32</td>\n",
       "      <td>0.655192</td>\n",
       "      <td>d6d1773379764c2b9c2004311957a359</td>\n",
       "      <td>scikit-learn-model</td>\n",
       "      <td>2022-06-10 11:09:48.828000+00:00</td>\n",
       "      <td>FINISHED</td>\n",
       "      <td>[{\"run_id\": \"d6d1773379764c2b9c2004311957a359\"...</td>\n",
       "    </tr>\n",
       "  </tbody>\n",
       "</table>\n",
       "</div>"
      ],
      "text/plain": [
       "                                        artifact_uri  \\\n",
       "0  s3://models/22/bfacaa5b48d74870a7d3f8f405bb88f...   \n",
       "1  s3://models/22/997ab9377d3f4204a5b5e063dbd1a50...   \n",
       "2  s3://models/22/1ae90a6e7ed946609e4f169826f21d9...   \n",
       "3  s3://models/22/d6d1773379764c2b9c2004311957a35...   \n",
       "\n",
       "                          end_time experiment_id  metrics.accuracy_score  \\\n",
       "0 2022-06-10 11:10:14.119000+00:00            22                0.818182   \n",
       "1 2022-06-10 11:10:05.926000+00:00            22                0.792208   \n",
       "2 2022-06-10 11:09:57.436000+00:00            22                0.792208   \n",
       "3 2022-06-10 11:09:52.553000+00:00            22                0.772727   \n",
       "\n",
       "   metrics.f1_score  metrics.log_loss  metrics.precision_score  \\\n",
       "0          0.695652          6.279829                 0.761905   \n",
       "1          0.666667          7.176961                 0.695652   \n",
       "2          0.636364          7.176941                 0.736842   \n",
       "3          0.477612          7.849727                 0.941176   \n",
       "\n",
       "   metrics.recall  metrics.roc_auc_score                            run_id  \\\n",
       "0            0.64               0.771923  bfacaa5b48d74870a7d3f8f405bb88fd   \n",
       "1            0.64               0.752692  997ab9377d3f4204a5b5e063dbd1a507   \n",
       "2            0.56               0.731923  1ae90a6e7ed946609e4f169826f21d97   \n",
       "3            0.32               0.655192  d6d1773379764c2b9c2004311957a359   \n",
       "\n",
       "             run_name                       start_time    status  \\\n",
       "0  scikit-learn-model 2022-06-10 11:10:11.443000+00:00  FINISHED   \n",
       "1  scikit-learn-model 2022-06-10 11:10:03.276000+00:00  FINISHED   \n",
       "2  scikit-learn-model 2022-06-10 11:09:54.884000+00:00  FINISHED   \n",
       "3  scikit-learn-model 2022-06-10 11:09:48.828000+00:00  FINISHED   \n",
       "\n",
       "                       tags.mlflow.log-model.history  \n",
       "0  [{\"run_id\": \"bfacaa5b48d74870a7d3f8f405bb88fd\"...  \n",
       "1  [{\"run_id\": \"997ab9377d3f4204a5b5e063dbd1a507\"...  \n",
       "2  [{\"run_id\": \"1ae90a6e7ed946609e4f169826f21d97\"...  \n",
       "3  [{\"run_id\": \"d6d1773379764c2b9c2004311957a359\"...  "
      ]
     },
     "execution_count": 25,
     "metadata": {},
     "output_type": "execute_result"
    }
   ],
   "source": [
    "df_runs.head()"
   ]
  },
  {
   "cell_type": "code",
   "execution_count": null,
   "metadata": {},
   "outputs": [],
   "source": []
  }
 ],
 "metadata": {
  "interpreter": {
   "hash": "4d6391c6a94ac29d11c52d3286333d0adbbbf254fbc494f7e3b8bd0d2fc18aa9"
  },
  "kernelspec": {
   "display_name": "Python 3 (ipykernel)",
   "language": "python",
   "name": "python3"
  },
  "kubeflow_notebook": {
   "autosnapshot": false,
   "docker_image": "",
   "experiment": {
    "id": "",
    "name": ""
   },
   "experiment_name": "",
   "katib_metadata": {
    "algorithm": {
     "algorithmName": "grid"
    },
    "maxFailedTrialCount": 3,
    "maxTrialCount": 12,
    "objective": {
     "objectiveMetricName": "",
     "type": "minimize"
    },
    "parallelTrialCount": 3,
    "parameters": []
   },
   "katib_run": false,
   "pipeline_description": "",
   "pipeline_name": "",
   "snapshot_volumes": false,
   "steps_defaults": [],
   "volume_access_mode": "rwm",
   "volumes": []
  },
  "language_info": {
   "codemirror_mode": {
    "name": "ipython",
    "version": 3
   },
   "file_extension": ".py",
   "mimetype": "text/x-python",
   "name": "python",
   "nbconvert_exporter": "python",
   "pygments_lexer": "ipython3",
   "version": "3.8.12"
  }
 },
 "nbformat": 4,
 "nbformat_minor": 5
}
