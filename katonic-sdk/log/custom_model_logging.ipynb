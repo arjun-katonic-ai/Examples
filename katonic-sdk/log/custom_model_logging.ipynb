{
 "cells": [
  {
   "cell_type": "markdown",
   "metadata": {},
   "source": [
    "## Log a Custom Machine Learning Model"
   ]
  },
  {
   "cell_type": "markdown",
   "metadata": {},
   "source": [
    "Log a Custom Machine Learning Model with Katonic SDK's Log package."
   ]
  },
  {
   "cell_type": "markdown",
   "metadata": {},
   "source": [
    "### Imports"
   ]
  },
  {
   "cell_type": "code",
   "execution_count": 2,
   "metadata": {},
   "outputs": [],
   "source": [
    "import os\n",
    "\n",
    "import mlflow.pyfunc\n",
    "from katonic.log.logmodel import LogModel"
   ]
  },
  {
   "cell_type": "markdown",
   "metadata": {},
   "source": [
    "### Experiment Name"
   ]
  },
  {
   "cell_type": "code",
   "execution_count": 3,
   "metadata": {},
   "outputs": [],
   "source": [
    "experiment_name= \"custom_model\""
   ]
  },
  {
   "cell_type": "markdown",
   "metadata": {},
   "source": [
    "### Initiate LogModel with experiment name"
   ]
  },
  {
   "cell_type": "code",
   "execution_count": 4,
   "metadata": {
    "tags": []
   },
   "outputs": [
    {
     "name": "stderr",
     "output_type": "stream",
     "text": [
      "2022/06/10 11:03:50 INFO mlflow.tracking.fluent: Experiment with name 'custom_model' does not exist. Creating a new experiment.\n"
     ]
    }
   ],
   "source": [
    "lm = LogModel(experiment_name)"
   ]
  },
  {
   "cell_type": "markdown",
   "metadata": {},
   "source": [
    "### Metadata of the created / existing experiment"
   ]
  },
  {
   "cell_type": "code",
   "execution_count": 5,
   "metadata": {},
   "outputs": [
    {
     "name": "stdout",
     "output_type": "stream",
     "text": [
      "experiment name :  custom_model\n",
      "experiment location :  s3://models/20\n",
      "experiment id :  20\n",
      "experiment status :  active\n"
     ]
    }
   ],
   "source": [
    "# experiment id\n",
    "exp_id = lm.id\n",
    "\n",
    "print(\"experiment name : \", lm.name)\n",
    "print(\"experiment location : \", lm.location)\n",
    "print(\"experiment id : \", lm.id)\n",
    "print(\"experiment status : \", lm.stage)"
   ]
  },
  {
   "cell_type": "markdown",
   "metadata": {},
   "source": [
    "### Artifact path where you want to log your model"
   ]
  },
  {
   "cell_type": "code",
   "execution_count": 6,
   "metadata": {},
   "outputs": [],
   "source": [
    "artifact_path = \"custom-model-log\""
   ]
  },
  {
   "cell_type": "markdown",
   "metadata": {},
   "source": [
    "### Custom Model"
   ]
  },
  {
   "cell_type": "code",
   "execution_count": 9,
   "metadata": {},
   "outputs": [],
   "source": [
    "# Define your custom model\n",
    "class AddN(mlflow.pyfunc.PythonModel):\n",
    "\n",
    "    def __init__(self, n):\n",
    "        self.n = n\n",
    "\n",
    "    def predict(self, context, model_input):\n",
    "        return model_input.apply(lambda column: column + self.n)"
   ]
  },
  {
   "cell_type": "code",
   "execution_count": 10,
   "metadata": {},
   "outputs": [],
   "source": [
    "add5_model = AddN(n=5)"
   ]
  },
  {
   "cell_type": "markdown",
   "metadata": {},
   "source": [
    "### Log Custom Model"
   ]
  },
  {
   "cell_type": "code",
   "execution_count": 11,
   "metadata": {},
   "outputs": [
    {
     "name": "stdout",
     "output_type": "stream",
     "text": [
      "Model artifact logged to: s3://models/20/a4cdf478b79c44dd83727fe5b6d7d531/artifacts/custom_model_20_custom-model-log_add_n\n"
     ]
    }
   ],
   "source": [
    "lm.model_logging(\n",
    "    model_name=\"add_n\",\n",
    "    model_type=\"custom-model\",\n",
    "    model=add5_model,\n",
    "    artifact_path=artifact_path,\n",
    "    current_working_dir=f'{os.getcwd()}/custom_model_logging.ipynb'\n",
    ")"
   ]
  },
  {
   "cell_type": "markdown",
   "metadata": {},
   "source": [
    "### Check Loaded Models"
   ]
  },
  {
   "cell_type": "code",
   "execution_count": 12,
   "metadata": {},
   "outputs": [
    {
     "name": "stdout",
     "output_type": "stream",
     "text": [
      "Number of runs done :  1\n"
     ]
    }
   ],
   "source": [
    "df_runs = lm.search_runs(exp_id)\n",
    "print(\"Number of runs done : \", len(df_runs))"
   ]
  },
  {
   "cell_type": "code",
   "execution_count": 13,
   "metadata": {},
   "outputs": [
    {
     "data": {
      "text/html": [
       "<div>\n",
       "<style scoped>\n",
       "    .dataframe tbody tr th:only-of-type {\n",
       "        vertical-align: middle;\n",
       "    }\n",
       "\n",
       "    .dataframe tbody tr th {\n",
       "        vertical-align: top;\n",
       "    }\n",
       "\n",
       "    .dataframe thead th {\n",
       "        text-align: right;\n",
       "    }\n",
       "</style>\n",
       "<table border=\"1\" class=\"dataframe\">\n",
       "  <thead>\n",
       "    <tr style=\"text-align: right;\">\n",
       "      <th></th>\n",
       "      <th>artifact_uri</th>\n",
       "      <th>end_time</th>\n",
       "      <th>experiment_id</th>\n",
       "      <th>run_id</th>\n",
       "      <th>run_name</th>\n",
       "      <th>start_time</th>\n",
       "      <th>status</th>\n",
       "      <th>tags.mlflow.log-model.history</th>\n",
       "    </tr>\n",
       "  </thead>\n",
       "  <tbody>\n",
       "    <tr>\n",
       "      <th>0</th>\n",
       "      <td>s3://models/20/a4cdf478b79c44dd83727fe5b6d7d53...</td>\n",
       "      <td>2022-06-10 11:04:12.556000+00:00</td>\n",
       "      <td>20</td>\n",
       "      <td>a4cdf478b79c44dd83727fe5b6d7d531</td>\n",
       "      <td>custom-model</td>\n",
       "      <td>2022-06-10 11:04:09.725000+00:00</td>\n",
       "      <td>FINISHED</td>\n",
       "      <td>[{\"run_id\": \"a4cdf478b79c44dd83727fe5b6d7d531\"...</td>\n",
       "    </tr>\n",
       "  </tbody>\n",
       "</table>\n",
       "</div>"
      ],
      "text/plain": [
       "                                        artifact_uri  \\\n",
       "0  s3://models/20/a4cdf478b79c44dd83727fe5b6d7d53...   \n",
       "\n",
       "                          end_time experiment_id  \\\n",
       "0 2022-06-10 11:04:12.556000+00:00            20   \n",
       "\n",
       "                             run_id      run_name  \\\n",
       "0  a4cdf478b79c44dd83727fe5b6d7d531  custom-model   \n",
       "\n",
       "                        start_time    status  \\\n",
       "0 2022-06-10 11:04:09.725000+00:00  FINISHED   \n",
       "\n",
       "                       tags.mlflow.log-model.history  \n",
       "0  [{\"run_id\": \"a4cdf478b79c44dd83727fe5b6d7d531\"...  "
      ]
     },
     "execution_count": 13,
     "metadata": {},
     "output_type": "execute_result"
    }
   ],
   "source": [
    "df_runs.head()"
   ]
  },
  {
   "cell_type": "code",
   "execution_count": null,
   "metadata": {},
   "outputs": [],
   "source": []
  }
 ],
 "metadata": {
  "kernelspec": {
   "display_name": "Python 3 (ipykernel)",
   "language": "python",
   "name": "python3"
  },
  "kubeflow_notebook": {
   "autosnapshot": false,
   "docker_image": "",
   "experiment": {
    "id": "",
    "name": ""
   },
   "experiment_name": "",
   "katib_run": false,
   "pipeline_description": "",
   "pipeline_name": "",
   "snapshot_volumes": false,
   "steps_defaults": [],
   "volume_access_mode": "rwm",
   "volumes": []
  },
  "language_info": {
   "codemirror_mode": {
    "name": "ipython",
    "version": 3
   },
   "file_extension": ".py",
   "mimetype": "text/x-python",
   "name": "python",
   "nbconvert_exporter": "python",
   "pygments_lexer": "ipython3",
   "version": "3.8.12"
  }
 },
 "nbformat": 4,
 "nbformat_minor": 5
}
