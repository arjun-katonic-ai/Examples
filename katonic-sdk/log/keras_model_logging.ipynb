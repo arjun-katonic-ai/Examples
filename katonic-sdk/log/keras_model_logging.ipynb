{
 "cells": [
  {
   "cell_type": "markdown",
   "id": "b4d4ac07",
   "metadata": {},
   "source": [
    "## Log a Keras Model"
   ]
  },
  {
   "cell_type": "markdown",
   "id": "d915ad7b",
   "metadata": {},
   "source": [
    "Log a Keras Model with Katonic SDK's Log package."
   ]
  },
  {
   "cell_type": "code",
   "execution_count": 1,
   "id": "df527f52",
   "metadata": {
    "tags": []
   },
   "outputs": [
    {
     "name": "stdout",
     "output_type": "stream",
     "text": [
      "\u001b[33mWARNING: Running pip as the 'root' user can result in broken permissions and conflicting behaviour with the system package manager. It is recommended to use a virtual environment instead: https://pip.pypa.io/warnings/venv\u001b[0m\n",
      "\u001b[33mWARNING: You are using pip version 21.3.1; however, version 22.1.2 is available.\n",
      "You should consider upgrading via the '/opt/conda/bin/python -m pip install --upgrade pip' command.\u001b[0m\n"
     ]
    }
   ],
   "source": [
    "!pip install tensorflow -q"
   ]
  },
  {
   "cell_type": "markdown",
   "id": "a680d3e8",
   "metadata": {},
   "source": [
    "### Imports"
   ]
  },
  {
   "cell_type": "code",
   "execution_count": 2,
   "id": "3cecee8a",
   "metadata": {},
   "outputs": [
    {
     "name": "stderr",
     "output_type": "stream",
     "text": [
      "2022-06-10 11:04:29.995534: W tensorflow/stream_executor/platform/default/dso_loader.cc:64] Could not load dynamic library 'libcudart.so.11.0'; dlerror: libcudart.so.11.0: cannot open shared object file: No such file or directory\n",
      "2022-06-10 11:04:29.995578: I tensorflow/stream_executor/cuda/cudart_stub.cc:29] Ignore above cudart dlerror if you do not have a GPU set up on your machine.\n"
     ]
    }
   ],
   "source": [
    "import os\n",
    "\n",
    "import tensorflow as tf\n",
    "from katonic.log.logmodel import LogModel"
   ]
  },
  {
   "cell_type": "markdown",
   "id": "4c135329",
   "metadata": {},
   "source": [
    "### Experiment Name"
   ]
  },
  {
   "cell_type": "code",
   "execution_count": 3,
   "id": "db6d32c0",
   "metadata": {},
   "outputs": [],
   "source": [
    "experiment_name= \"keras_model_logging\""
   ]
  },
  {
   "cell_type": "markdown",
   "id": "467c69f7",
   "metadata": {},
   "source": [
    "### Initiate LogModel with experiment name"
   ]
  },
  {
   "cell_type": "code",
   "execution_count": 4,
   "id": "fbda6845",
   "metadata": {},
   "outputs": [
    {
     "name": "stderr",
     "output_type": "stream",
     "text": [
      "2022/06/10 11:04:36 INFO mlflow.tracking.fluent: Experiment with name 'keras_model_logging' does not exist. Creating a new experiment.\n"
     ]
    }
   ],
   "source": [
    "lm = LogModel(experiment_name)"
   ]
  },
  {
   "cell_type": "markdown",
   "id": "ad4f28ea",
   "metadata": {},
   "source": [
    "### Metadata of the created / existing experiment"
   ]
  },
  {
   "cell_type": "code",
   "execution_count": 5,
   "id": "a114f848",
   "metadata": {},
   "outputs": [
    {
     "name": "stdout",
     "output_type": "stream",
     "text": [
      "experiment name:  keras_model_logging\n",
      "experiment location:  s3://models/21\n",
      "experiment id:  21\n",
      "experiment status:  active\n"
     ]
    }
   ],
   "source": [
    "# experiment id\n",
    "exp_id = lm.id\n",
    "\n",
    "print(\"experiment name: \", lm.name)\n",
    "print(\"experiment location: \", lm.location)\n",
    "print(\"experiment id: \", lm.id)\n",
    "print(\"experiment status: \", lm.stage)"
   ]
  },
  {
   "cell_type": "markdown",
   "id": "02730360",
   "metadata": {},
   "source": [
    "### Artifact path where you want to log your model|"
   ]
  },
  {
   "cell_type": "code",
   "execution_count": 6,
   "id": "59e2df4d",
   "metadata": {},
   "outputs": [],
   "source": [
    "artifact_path = \"mnist-keras-model\""
   ]
  },
  {
   "cell_type": "markdown",
   "id": "ef137f7e",
   "metadata": {},
   "source": [
    "### Define your Keras Model"
   ]
  },
  {
   "cell_type": "code",
   "execution_count": 7,
   "id": "c9a66fe0",
   "metadata": {},
   "outputs": [],
   "source": [
    "mnist = tf.keras.datasets.mnist"
   ]
  },
  {
   "cell_type": "code",
   "execution_count": 8,
   "id": "0f14d579",
   "metadata": {},
   "outputs": [],
   "source": [
    "(X_train_full, y_train_full), (X_test, y_test) = mnist.load_data()"
   ]
  },
  {
   "cell_type": "code",
   "execution_count": 9,
   "id": "f28f0786",
   "metadata": {},
   "outputs": [],
   "source": [
    "X_valid, X_train = X_train_full[:5000] / 255, X_train_full[5000:] / 255\n",
    "y_valid, y_train = y_train_full[:5000], y_train_full[5000:]\n",
    "\n",
    "X_test = X_test / 255"
   ]
  },
  {
   "cell_type": "code",
   "execution_count": 10,
   "id": "69e2f8cd",
   "metadata": {},
   "outputs": [],
   "source": [
    "LAYERS = [\n",
    "    tf.keras.layers.Flatten(input_shape=(28, 28), name='inputLayer'),\n",
    "    tf.keras.layers.Dense(300, activation='relu', name='hiddenLayer1'),\n",
    "    tf.keras.layers.Dense(100, activation='relu', name='hiddenLayer2'),\n",
    "    tf.keras.layers.Dense(10, activation='softmax', name='outputLayer')\n",
    "]"
   ]
  },
  {
   "cell_type": "code",
   "execution_count": 11,
   "id": "8999e1dd",
   "metadata": {},
   "outputs": [
    {
     "name": "stderr",
     "output_type": "stream",
     "text": [
      "2022-06-10 11:04:40.814706: W tensorflow/stream_executor/platform/default/dso_loader.cc:64] Could not load dynamic library 'libcuda.so.1'; dlerror: libcuda.so.1: cannot open shared object file: No such file or directory\n",
      "2022-06-10 11:04:40.814746: W tensorflow/stream_executor/cuda/cuda_driver.cc:269] failed call to cuInit: UNKNOWN ERROR (303)\n",
      "2022-06-10 11:04:40.814770: I tensorflow/stream_executor/cuda/cuda_diagnostics.cc:156] kernel driver does not appear to be running on this host (ws-697d0210-73d1-4e46-9643-136c4d0acc29-0): /proc/driver/nvidia/version does not exist\n",
      "2022-06-10 11:04:40.815062: I tensorflow/core/platform/cpu_feature_guard.cc:193] This TensorFlow binary is optimized with oneAPI Deep Neural Network Library (oneDNN) to use the following CPU instructions in performance-critical operations:  AVX2 FMA\n",
      "To enable them in other operations, rebuild TensorFlow with the appropriate compiler flags.\n"
     ]
    }
   ],
   "source": [
    "model_clf = tf.keras.models.Sequential(LAYERS)"
   ]
  },
  {
   "cell_type": "code",
   "execution_count": 12,
   "id": "53ebd7eb",
   "metadata": {},
   "outputs": [],
   "source": [
    "loss_function = 'sparse_categorical_crossentropy'\n",
    "optimizers = 'SGD'\n",
    "metric = ['accuracy']\n",
    "\n",
    "model_clf.compile(\n",
    "    loss=loss_function, \n",
    "    optimizer=optimizers, \n",
    "    metrics=metric\n",
    ")"
   ]
  },
  {
   "cell_type": "code",
   "execution_count": 13,
   "id": "a85069ef",
   "metadata": {},
   "outputs": [],
   "source": [
    "ckpt_path = \"data/model_ckpt.h5\""
   ]
  },
  {
   "cell_type": "code",
   "execution_count": 14,
   "id": "8c209e96",
   "metadata": {},
   "outputs": [],
   "source": [
    "ckpt_cb = tf.keras.callbacks.ModelCheckpoint(ckpt_path, save_best_only=True)"
   ]
  },
  {
   "cell_type": "markdown",
   "id": "1a7147dd",
   "metadata": {},
   "source": [
    "### Train your Keras Model"
   ]
  },
  {
   "cell_type": "code",
   "execution_count": 15,
   "id": "983c0e98",
   "metadata": {},
   "outputs": [
    {
     "name": "stderr",
     "output_type": "stream",
     "text": [
      "2022-06-10 11:04:43.299668: W tensorflow/core/framework/cpu_allocator_impl.cc:82] Allocation of 172480000 exceeds 10% of free system memory.\n"
     ]
    },
    {
     "name": "stdout",
     "output_type": "stream",
     "text": [
      "Epoch 1/5\n",
      "1719/1719 [==============================] - 7s 4ms/step - loss: 0.6052 - accuracy: 0.8451 - val_loss: 0.3146 - val_accuracy: 0.9132\n",
      "Epoch 2/5\n",
      "1719/1719 [==============================] - 7s 4ms/step - loss: 0.2917 - accuracy: 0.9167 - val_loss: 0.2421 - val_accuracy: 0.9310\n",
      "Epoch 3/5\n",
      "1719/1719 [==============================] - 7s 4ms/step - loss: 0.2393 - accuracy: 0.9310 - val_loss: 0.2072 - val_accuracy: 0.9412\n",
      "Epoch 4/5\n",
      "1719/1719 [==============================] - 7s 4ms/step - loss: 0.2049 - accuracy: 0.9415 - val_loss: 0.1823 - val_accuracy: 0.9510\n",
      "Epoch 5/5\n",
      "1719/1719 [==============================] - 7s 4ms/step - loss: 0.1797 - accuracy: 0.9484 - val_loss: 0.1611 - val_accuracy: 0.9552\n"
     ]
    }
   ],
   "source": [
    "EPOCHS = 5\n",
    "VALIDATION = (X_valid, y_valid)\n",
    "\n",
    "history = model_clf.fit(\n",
    "    X_train, y_train, \n",
    "    epochs=EPOCHS, \n",
    "    validation_data=VALIDATION,\n",
    "    callbacks=[ckpt_cb]\n",
    ")"
   ]
  },
  {
   "cell_type": "markdown",
   "id": "458645e3",
   "metadata": {},
   "source": [
    "### Evalute Model"
   ]
  },
  {
   "cell_type": "code",
   "execution_count": 16,
   "id": "234b3e7f",
   "metadata": {},
   "outputs": [
    {
     "name": "stdout",
     "output_type": "stream",
     "text": [
      "313/313 - 1s - loss: 0.1652 - accuracy: 0.9527 - 618ms/epoch - 2ms/step\n"
     ]
    }
   ],
   "source": [
    "res = model_clf.evaluate(X_test, y_test, verbose=2)"
   ]
  },
  {
   "cell_type": "code",
   "execution_count": 17,
   "id": "f6328999",
   "metadata": {},
   "outputs": [
    {
     "data": {
      "text/plain": [
       "['loss', 'accuracy']"
      ]
     },
     "execution_count": 17,
     "metadata": {},
     "output_type": "execute_result"
    }
   ],
   "source": [
    "model_clf.metrics_names"
   ]
  },
  {
   "cell_type": "code",
   "execution_count": 18,
   "id": "6013a9e9",
   "metadata": {},
   "outputs": [],
   "source": [
    "model_mertics = {\n",
    "    model_clf.metrics_names[0]: res[0],\n",
    "    model_clf.metrics_names[1]: res[1]\n",
    "}"
   ]
  },
  {
   "cell_type": "code",
   "execution_count": 19,
   "id": "827c8051",
   "metadata": {},
   "outputs": [
    {
     "name": "stdout",
     "output_type": "stream",
     "text": [
      "313/313 [==============================] - 1s 2ms/step\n"
     ]
    },
    {
     "data": {
      "text/plain": [
       "array([[6.27060872e-05, 9.70111046e-07, 3.12100863e-04, ...,\n",
       "        9.98590946e-01, 3.82058788e-05, 1.28434302e-04],\n",
       "       [7.13106536e-04, 2.15316424e-04, 9.87813830e-01, ...,\n",
       "        6.23296215e-09, 3.96948977e-04, 4.49186928e-08],\n",
       "       [4.22985140e-05, 9.79464889e-01, 6.88691530e-03, ...,\n",
       "        3.29923746e-03, 3.15089524e-03, 5.46108349e-04],\n",
       "       ...,\n",
       "       [1.01178415e-07, 9.96495046e-08, 2.85778765e-06, ...,\n",
       "        6.52536255e-05, 1.09955529e-03, 3.01748863e-03],\n",
       "       [8.96370111e-05, 1.14575123e-04, 3.09662164e-06, ...,\n",
       "        6.61108231e-07, 9.51778144e-03, 8.68939514e-06],\n",
       "       [1.39258655e-05, 5.28123989e-09, 8.24687231e-05, ...,\n",
       "        2.97761982e-10, 7.52132564e-07, 3.19122826e-08]], dtype=float32)"
      ]
     },
     "execution_count": 19,
     "metadata": {},
     "output_type": "execute_result"
    }
   ],
   "source": [
    "model_clf.predict(X_test)"
   ]
  },
  {
   "cell_type": "markdown",
   "id": "59b7f5b9",
   "metadata": {},
   "source": [
    "### Log Custom Model"
   ]
  },
  {
   "cell_type": "code",
   "execution_count": 21,
   "id": "3426415a",
   "metadata": {},
   "outputs": [
    {
     "name": "stderr",
     "output_type": "stream",
     "text": [
      "WARNING:absl:Function `_wrapped_model` contains input name(s) inputLayer_input with unsupported characters which will be renamed to inputlayer_input in the SavedModel.\n"
     ]
    },
    {
     "name": "stdout",
     "output_type": "stream",
     "text": [
      "INFO:tensorflow:Assets written to: /tmp/tmplt7seh2_/model/data/model/assets\n"
     ]
    },
    {
     "name": "stderr",
     "output_type": "stream",
     "text": [
      "INFO:tensorflow:Assets written to: /tmp/tmplt7seh2_/model/data/model/assets\n"
     ]
    },
    {
     "name": "stdout",
     "output_type": "stream",
     "text": [
      "Model artifact logged to: s3://models/21/29f0add02a674b6eb9c5da21e495729e/artifacts/keras_model_logging_21_mnist-keras-model_mnistkeras\n"
     ]
    }
   ],
   "source": [
    "lm.model_logging(\n",
    "    model_name=\"mnistkeras\",\n",
    "    model_type=\"keras\",\n",
    "    model=model_clf,\n",
    "    artifact_path=artifact_path,\n",
    "    current_working_dir=f'{os.getcwd()}/keras_model_logging.ipynb',\n",
    "    metrics=model_mertics\n",
    ")"
   ]
  },
  {
   "cell_type": "code",
   "execution_count": 22,
   "id": "d5a33da6",
   "metadata": {},
   "outputs": [
    {
     "name": "stdout",
     "output_type": "stream",
     "text": [
      "Number of runs done :  1\n"
     ]
    }
   ],
   "source": [
    "df_runs = lm.search_runs(exp_id)\n",
    "print(\"Number of runs done : \", len(df_runs))"
   ]
  },
  {
   "cell_type": "code",
   "execution_count": 23,
   "id": "082ee0fb",
   "metadata": {},
   "outputs": [
    {
     "data": {
      "text/html": [
       "<div>\n",
       "<style scoped>\n",
       "    .dataframe tbody tr th:only-of-type {\n",
       "        vertical-align: middle;\n",
       "    }\n",
       "\n",
       "    .dataframe tbody tr th {\n",
       "        vertical-align: top;\n",
       "    }\n",
       "\n",
       "    .dataframe thead th {\n",
       "        text-align: right;\n",
       "    }\n",
       "</style>\n",
       "<table border=\"1\" class=\"dataframe\">\n",
       "  <thead>\n",
       "    <tr style=\"text-align: right;\">\n",
       "      <th></th>\n",
       "      <th>artifact_uri</th>\n",
       "      <th>end_time</th>\n",
       "      <th>experiment_id</th>\n",
       "      <th>metrics.accuracy</th>\n",
       "      <th>metrics.loss</th>\n",
       "      <th>run_id</th>\n",
       "      <th>run_name</th>\n",
       "      <th>start_time</th>\n",
       "      <th>status</th>\n",
       "      <th>tags.mlflow.log-model.history</th>\n",
       "    </tr>\n",
       "  </thead>\n",
       "  <tbody>\n",
       "    <tr>\n",
       "      <th>0</th>\n",
       "      <td>s3://models/21/29f0add02a674b6eb9c5da21e495729...</td>\n",
       "      <td>2022-06-10 11:05:42.707000+00:00</td>\n",
       "      <td>21</td>\n",
       "      <td>0.9527</td>\n",
       "      <td>0.165211</td>\n",
       "      <td>29f0add02a674b6eb9c5da21e495729e</td>\n",
       "      <td>keras-model</td>\n",
       "      <td>2022-06-10 11:05:35.834000+00:00</td>\n",
       "      <td>FINISHED</td>\n",
       "      <td>[{\"run_id\": \"29f0add02a674b6eb9c5da21e495729e\"...</td>\n",
       "    </tr>\n",
       "  </tbody>\n",
       "</table>\n",
       "</div>"
      ],
      "text/plain": [
       "                                        artifact_uri  \\\n",
       "0  s3://models/21/29f0add02a674b6eb9c5da21e495729...   \n",
       "\n",
       "                          end_time experiment_id  metrics.accuracy  \\\n",
       "0 2022-06-10 11:05:42.707000+00:00            21            0.9527   \n",
       "\n",
       "   metrics.loss                            run_id     run_name  \\\n",
       "0      0.165211  29f0add02a674b6eb9c5da21e495729e  keras-model   \n",
       "\n",
       "                        start_time    status  \\\n",
       "0 2022-06-10 11:05:35.834000+00:00  FINISHED   \n",
       "\n",
       "                       tags.mlflow.log-model.history  \n",
       "0  [{\"run_id\": \"29f0add02a674b6eb9c5da21e495729e\"...  "
      ]
     },
     "execution_count": 23,
     "metadata": {},
     "output_type": "execute_result"
    }
   ],
   "source": [
    "df_runs.head()"
   ]
  },
  {
   "cell_type": "markdown",
   "id": "626cc7b5",
   "metadata": {},
   "source": [
    "### Load your logged keras model with URI"
   ]
  },
  {
   "cell_type": "code",
   "execution_count": 28,
   "id": "e38160e4",
   "metadata": {},
   "outputs": [
    {
     "data": {
      "text/plain": [
       "'s3://models/21/29f0add02a674b6eb9c5da21e495729e/artifacts'"
      ]
     },
     "execution_count": 28,
     "metadata": {},
     "output_type": "execute_result"
    }
   ],
   "source": [
    "df_runs['artifact_uri'][0]"
   ]
  },
  {
   "cell_type": "code",
   "execution_count": 29,
   "id": "1a0cfef3",
   "metadata": {},
   "outputs": [],
   "source": [
    "model_uri='s3://models/21/29f0add02a674b6eb9c5da21e495729e/artifacts/keras_model_logging_21_mnist-keras-model_mnistkeras'"
   ]
  },
  {
   "cell_type": "code",
   "execution_count": 30,
   "id": "0d132b7b",
   "metadata": {},
   "outputs": [],
   "source": [
    "loaded_model = lm.model_loading(model_uri)"
   ]
  },
  {
   "cell_type": "markdown",
   "id": "c4b04ab8",
   "metadata": {},
   "source": [
    "### Prediction with Loaded model"
   ]
  },
  {
   "cell_type": "code",
   "execution_count": 31,
   "id": "3cbcca1e",
   "metadata": {},
   "outputs": [
    {
     "name": "stdout",
     "output_type": "stream",
     "text": [
      "313/313 [==============================] - 1s 2ms/step\n"
     ]
    },
    {
     "data": {
      "text/plain": [
       "array([[6.27060872e-05, 9.70111046e-07, 3.12100863e-04, ...,\n",
       "        9.98590946e-01, 3.82058788e-05, 1.28434302e-04],\n",
       "       [7.13106536e-04, 2.15316424e-04, 9.87813830e-01, ...,\n",
       "        6.23296215e-09, 3.96948977e-04, 4.49186928e-08],\n",
       "       [4.22985140e-05, 9.79464889e-01, 6.88691530e-03, ...,\n",
       "        3.29923746e-03, 3.15089524e-03, 5.46108349e-04],\n",
       "       ...,\n",
       "       [1.01178415e-07, 9.96495046e-08, 2.85778765e-06, ...,\n",
       "        6.52536255e-05, 1.09955529e-03, 3.01748863e-03],\n",
       "       [8.96370111e-05, 1.14575123e-04, 3.09662164e-06, ...,\n",
       "        6.61108231e-07, 9.51778144e-03, 8.68939514e-06],\n",
       "       [1.39258655e-05, 5.28123989e-09, 8.24687231e-05, ...,\n",
       "        2.97761982e-10, 7.52132564e-07, 3.19122826e-08]], dtype=float32)"
      ]
     },
     "execution_count": 31,
     "metadata": {},
     "output_type": "execute_result"
    }
   ],
   "source": [
    "loaded_model.predict(X_test)"
   ]
  },
  {
   "cell_type": "code",
   "execution_count": null,
   "id": "6244d4c4",
   "metadata": {},
   "outputs": [],
   "source": []
  }
 ],
 "metadata": {
  "kernelspec": {
   "display_name": "Python 3 (ipykernel)",
   "language": "python",
   "name": "python3"
  },
  "kubeflow_notebook": {
   "autosnapshot": false,
   "docker_image": "",
   "experiment": {
    "id": "",
    "name": ""
   },
   "experiment_name": "",
   "katib_run": false,
   "pipeline_description": "",
   "pipeline_name": "",
   "snapshot_volumes": false,
   "steps_defaults": [],
   "volume_access_mode": "rwm",
   "volumes": []
  },
  "language_info": {
   "codemirror_mode": {
    "name": "ipython",
    "version": 3
   },
   "file_extension": ".py",
   "mimetype": "text/x-python",
   "name": "python",
   "nbconvert_exporter": "python",
   "pygments_lexer": "ipython3",
   "version": "3.8.12"
  }
 },
 "nbformat": 4,
 "nbformat_minor": 5
}
