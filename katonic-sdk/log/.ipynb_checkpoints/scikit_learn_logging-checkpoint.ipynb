{
 "cells": [
  {
   "cell_type": "markdown",
   "id": "3d0aa1d7",
   "metadata": {},
   "source": [
    "## Log a Scikit-Learn Model"
   ]
  },
  {
   "cell_type": "markdown",
   "id": "1a7adc1e",
   "metadata": {},
   "source": [
    "Log a Scikit-Learn Model with Katonic SDK's Log package."
   ]
  },
  {
   "cell_type": "markdown",
   "id": "44e25f91",
   "metadata": {},
   "source": [
    "### Imports"
   ]
  },
  {
   "cell_type": "code",
   "execution_count": 1,
   "id": "4611e38f",
   "metadata": {},
   "outputs": [],
   "source": [
    "import os\n",
    "\n",
    "import pandas as pd\n",
    "from sklearn.ensemble import RandomForestClassifier, AdaBoostClassifier, GradientBoostingClassifier\n",
    "from sklearn.model_selection import train_test_split\n",
    "from sklearn.metrics import accuracy_score, roc_auc_score, log_loss, recall_score, f1_score, precision_score\n",
    "from sklearn.linear_model import LogisticRegression\n",
    "from katonic.log.logmodel import LogModel"
   ]
  },
  {
   "cell_type": "markdown",
   "id": "fc5b4dd9",
   "metadata": {},
   "source": [
    "### Experiment Name"
   ]
  },
  {
   "cell_type": "code",
   "execution_count": 2,
   "id": "90f69262",
   "metadata": {},
   "outputs": [],
   "source": [
    "experiment_name= \"sklearn_model\""
   ]
  },
  {
   "cell_type": "markdown",
   "id": "4df64b92",
   "metadata": {},
   "source": [
    "### Initiate LogModel with experiment name"
   ]
  },
  {
   "cell_type": "code",
   "execution_count": 4,
   "id": "ee029086",
   "metadata": {
    "tags": []
   },
   "outputs": [
    {
     "name": "stderr",
     "output_type": "stream",
     "text": [
      "2023/10/24 03:50:48 INFO mlflow.tracking.fluent: Experiment with name 'sklearn_model' does not exist. Creating a new experiment.\n"
     ]
    }
   ],
   "source": [
    "lm = LogModel(experiment_name, source_name=\"scikit_learn_logging.ipynb\")"
   ]
  },
  {
   "cell_type": "markdown",
   "id": "e8e9753f",
   "metadata": {},
   "source": [
    "### Metadata of the created / existing experiment"
   ]
  },
  {
   "cell_type": "code",
   "execution_count": 5,
   "id": "1bb03bc2",
   "metadata": {},
   "outputs": [
    {
     "name": "stdout",
     "output_type": "stream",
     "text": [
      "experiment name:  sklearn_model\n",
      "experiment location:  s3://models/18\n",
      "experiment id:  18\n",
      "experiment status:  active\n"
     ]
    }
   ],
   "source": [
    "# experiment id\n",
    "exp_id = lm.id\n",
    "\n",
    "print(\"experiment name: \", lm.name)\n",
    "print(\"experiment location: \", lm.location)\n",
    "print(\"experiment id: \", lm.id)\n",
    "print(\"experiment status: \", lm.stage)"
   ]
  },
  {
   "cell_type": "markdown",
   "id": "4ee5955d",
   "metadata": {},
   "source": [
    "### Artifact path where you want to log your model"
   ]
  },
  {
   "cell_type": "code",
   "execution_count": 6,
   "id": "c05934f3",
   "metadata": {},
   "outputs": [],
   "source": [
    "artifact_path = \"scikit-learn-model\""
   ]
  },
  {
   "cell_type": "markdown",
   "id": "2e468582",
   "metadata": {},
   "source": [
    "### Read the data"
   ]
  },
  {
   "cell_type": "code",
   "execution_count": 7,
   "id": "9dec595d",
   "metadata": {},
   "outputs": [
    {
     "data": {
      "text/html": [
       "<div>\n",
       "<style scoped>\n",
       "    .dataframe tbody tr th:only-of-type {\n",
       "        vertical-align: middle;\n",
       "    }\n",
       "\n",
       "    .dataframe tbody tr th {\n",
       "        vertical-align: top;\n",
       "    }\n",
       "\n",
       "    .dataframe thead th {\n",
       "        text-align: right;\n",
       "    }\n",
       "</style>\n",
       "<table border=\"1\" class=\"dataframe\">\n",
       "  <thead>\n",
       "    <tr style=\"text-align: right;\">\n",
       "      <th></th>\n",
       "      <th>Pregnancies</th>\n",
       "      <th>Glucose</th>\n",
       "      <th>BloodPressure</th>\n",
       "      <th>SkinThickness</th>\n",
       "      <th>Insulin</th>\n",
       "      <th>BMI</th>\n",
       "      <th>DiabetesPedigreeFunction</th>\n",
       "      <th>Age</th>\n",
       "      <th>Outcome</th>\n",
       "    </tr>\n",
       "  </thead>\n",
       "  <tbody>\n",
       "    <tr>\n",
       "      <th>0</th>\n",
       "      <td>6</td>\n",
       "      <td>148</td>\n",
       "      <td>72</td>\n",
       "      <td>35</td>\n",
       "      <td>0</td>\n",
       "      <td>33.6</td>\n",
       "      <td>0.627</td>\n",
       "      <td>50</td>\n",
       "      <td>1</td>\n",
       "    </tr>\n",
       "    <tr>\n",
       "      <th>1</th>\n",
       "      <td>1</td>\n",
       "      <td>85</td>\n",
       "      <td>66</td>\n",
       "      <td>29</td>\n",
       "      <td>0</td>\n",
       "      <td>26.6</td>\n",
       "      <td>0.351</td>\n",
       "      <td>31</td>\n",
       "      <td>0</td>\n",
       "    </tr>\n",
       "    <tr>\n",
       "      <th>2</th>\n",
       "      <td>8</td>\n",
       "      <td>183</td>\n",
       "      <td>64</td>\n",
       "      <td>0</td>\n",
       "      <td>0</td>\n",
       "      <td>23.3</td>\n",
       "      <td>0.672</td>\n",
       "      <td>32</td>\n",
       "      <td>1</td>\n",
       "    </tr>\n",
       "    <tr>\n",
       "      <th>3</th>\n",
       "      <td>1</td>\n",
       "      <td>89</td>\n",
       "      <td>66</td>\n",
       "      <td>23</td>\n",
       "      <td>94</td>\n",
       "      <td>28.1</td>\n",
       "      <td>0.167</td>\n",
       "      <td>21</td>\n",
       "      <td>0</td>\n",
       "    </tr>\n",
       "    <tr>\n",
       "      <th>4</th>\n",
       "      <td>0</td>\n",
       "      <td>137</td>\n",
       "      <td>40</td>\n",
       "      <td>35</td>\n",
       "      <td>168</td>\n",
       "      <td>43.1</td>\n",
       "      <td>2.288</td>\n",
       "      <td>33</td>\n",
       "      <td>1</td>\n",
       "    </tr>\n",
       "  </tbody>\n",
       "</table>\n",
       "</div>"
      ],
      "text/plain": [
       "   Pregnancies  Glucose  BloodPressure  SkinThickness  Insulin   BMI  \\\n",
       "0            6      148             72             35        0  33.6   \n",
       "1            1       85             66             29        0  26.6   \n",
       "2            8      183             64              0        0  23.3   \n",
       "3            1       89             66             23       94  28.1   \n",
       "4            0      137             40             35      168  43.1   \n",
       "\n",
       "   DiabetesPedigreeFunction  Age  Outcome  \n",
       "0                     0.627   50        1  \n",
       "1                     0.351   31        0  \n",
       "2                     0.672   32        1  \n",
       "3                     0.167   21        0  \n",
       "4                     2.288   33        1  "
      ]
     },
     "execution_count": 7,
     "metadata": {},
     "output_type": "execute_result"
    }
   ],
   "source": [
    "df = pd.read_csv('https://raw.githubusercontent.com/plotly/datasets/master/diabetes.csv')\n",
    "df.head()"
   ]
  },
  {
   "cell_type": "markdown",
   "id": "d72f6ff0",
   "metadata": {},
   "source": [
    "### Get features and label"
   ]
  },
  {
   "cell_type": "code",
   "execution_count": 8,
   "id": "ffade728",
   "metadata": {},
   "outputs": [],
   "source": [
    "x = df.drop(columns=['Outcome'], axis=1)\n",
    "y = df['Outcome']"
   ]
  },
  {
   "cell_type": "markdown",
   "id": "46fee690",
   "metadata": {},
   "source": [
    "### Split the dataset in Train and Test"
   ]
  },
  {
   "cell_type": "code",
   "execution_count": 9,
   "id": "1777be79",
   "metadata": {},
   "outputs": [],
   "source": [
    "X_train, X_test, y_train, y_test = train_test_split(x, y, test_size=.20,random_state=98)"
   ]
  },
  {
   "cell_type": "markdown",
   "id": "ff1e5617",
   "metadata": {},
   "source": [
    "### Define Metric"
   ]
  },
  {
   "cell_type": "code",
   "execution_count": 10,
   "id": "eec31ea9",
   "metadata": {},
   "outputs": [],
   "source": [
    "def metric(actual, pred):\n",
    "    acc_score = accuracy_score(actual, pred)\n",
    "    recall = recall_score(actual, pred)\n",
    "    precision_scr = precision_score(actual, pred)\n",
    "    f1_scr = f1_score(actual, pred)\n",
    "    auc_roc = roc_auc_score(actual, pred)\n",
    "    log_los = log_loss(actual, pred)\n",
    "\n",
    "    return (\n",
    "        acc_score,\n",
    "        auc_roc,\n",
    "        log_los,\n",
    "        recall,\n",
    "        f1_scr,\n",
    "        precision_scr\n",
    "    )"
   ]
  },
  {
   "cell_type": "markdown",
   "id": "b155f714",
   "metadata": {},
   "source": [
    "### Random Forest"
   ]
  },
  {
   "cell_type": "code",
   "execution_count": 11,
   "id": "1ac0fb24",
   "metadata": {},
   "outputs": [
    {
     "data": {
      "text/html": [
       "<style>#sk-container-id-1 {color: black;background-color: white;}#sk-container-id-1 pre{padding: 0;}#sk-container-id-1 div.sk-toggleable {background-color: white;}#sk-container-id-1 label.sk-toggleable__label {cursor: pointer;display: block;width: 100%;margin-bottom: 0;padding: 0.3em;box-sizing: border-box;text-align: center;}#sk-container-id-1 label.sk-toggleable__label-arrow:before {content: \"▸\";float: left;margin-right: 0.25em;color: #696969;}#sk-container-id-1 label.sk-toggleable__label-arrow:hover:before {color: black;}#sk-container-id-1 div.sk-estimator:hover label.sk-toggleable__label-arrow:before {color: black;}#sk-container-id-1 div.sk-toggleable__content {max-height: 0;max-width: 0;overflow: hidden;text-align: left;background-color: #f0f8ff;}#sk-container-id-1 div.sk-toggleable__content pre {margin: 0.2em;color: black;border-radius: 0.25em;background-color: #f0f8ff;}#sk-container-id-1 input.sk-toggleable__control:checked~div.sk-toggleable__content {max-height: 200px;max-width: 100%;overflow: auto;}#sk-container-id-1 input.sk-toggleable__control:checked~label.sk-toggleable__label-arrow:before {content: \"▾\";}#sk-container-id-1 div.sk-estimator input.sk-toggleable__control:checked~label.sk-toggleable__label {background-color: #d4ebff;}#sk-container-id-1 div.sk-label input.sk-toggleable__control:checked~label.sk-toggleable__label {background-color: #d4ebff;}#sk-container-id-1 input.sk-hidden--visually {border: 0;clip: rect(1px 1px 1px 1px);clip: rect(1px, 1px, 1px, 1px);height: 1px;margin: -1px;overflow: hidden;padding: 0;position: absolute;width: 1px;}#sk-container-id-1 div.sk-estimator {font-family: monospace;background-color: #f0f8ff;border: 1px dotted black;border-radius: 0.25em;box-sizing: border-box;margin-bottom: 0.5em;}#sk-container-id-1 div.sk-estimator:hover {background-color: #d4ebff;}#sk-container-id-1 div.sk-parallel-item::after {content: \"\";width: 100%;border-bottom: 1px solid gray;flex-grow: 1;}#sk-container-id-1 div.sk-label:hover label.sk-toggleable__label {background-color: #d4ebff;}#sk-container-id-1 div.sk-serial::before {content: \"\";position: absolute;border-left: 1px solid gray;box-sizing: border-box;top: 0;bottom: 0;left: 50%;z-index: 0;}#sk-container-id-1 div.sk-serial {display: flex;flex-direction: column;align-items: center;background-color: white;padding-right: 0.2em;padding-left: 0.2em;position: relative;}#sk-container-id-1 div.sk-item {position: relative;z-index: 1;}#sk-container-id-1 div.sk-parallel {display: flex;align-items: stretch;justify-content: center;background-color: white;position: relative;}#sk-container-id-1 div.sk-item::before, #sk-container-id-1 div.sk-parallel-item::before {content: \"\";position: absolute;border-left: 1px solid gray;box-sizing: border-box;top: 0;bottom: 0;left: 50%;z-index: -1;}#sk-container-id-1 div.sk-parallel-item {display: flex;flex-direction: column;z-index: 1;position: relative;background-color: white;}#sk-container-id-1 div.sk-parallel-item:first-child::after {align-self: flex-end;width: 50%;}#sk-container-id-1 div.sk-parallel-item:last-child::after {align-self: flex-start;width: 50%;}#sk-container-id-1 div.sk-parallel-item:only-child::after {width: 0;}#sk-container-id-1 div.sk-dashed-wrapped {border: 1px dashed gray;margin: 0 0.4em 0.5em 0.4em;box-sizing: border-box;padding-bottom: 0.4em;background-color: white;}#sk-container-id-1 div.sk-label label {font-family: monospace;font-weight: bold;display: inline-block;line-height: 1.2em;}#sk-container-id-1 div.sk-label-container {text-align: center;}#sk-container-id-1 div.sk-container {/* jupyter's `normalize.less` sets `[hidden] { display: none; }` but bootstrap.min.css set `[hidden] { display: none !important; }` so we also need the `!important` here to be able to override the default hidden behavior on the sphinx rendered scikit-learn.org. See: https://github.com/scikit-learn/scikit-learn/issues/21755 */display: inline-block !important;position: relative;}#sk-container-id-1 div.sk-text-repr-fallback {display: none;}</style><div id=\"sk-container-id-1\" class=\"sk-top-container\"><div class=\"sk-text-repr-fallback\"><pre>RandomForestClassifier(max_depth=2, random_state=0)</pre><b>In a Jupyter environment, please rerun this cell to show the HTML representation or trust the notebook. <br />On GitHub, the HTML representation is unable to render, please try loading this page with nbviewer.org.</b></div><div class=\"sk-container\" hidden><div class=\"sk-item\"><div class=\"sk-estimator sk-toggleable\"><input class=\"sk-toggleable__control sk-hidden--visually\" id=\"sk-estimator-id-1\" type=\"checkbox\" checked><label for=\"sk-estimator-id-1\" class=\"sk-toggleable__label sk-toggleable__label-arrow\">RandomForestClassifier</label><div class=\"sk-toggleable__content\"><pre>RandomForestClassifier(max_depth=2, random_state=0)</pre></div></div></div></div></div>"
      ],
      "text/plain": [
       "RandomForestClassifier(max_depth=2, random_state=0)"
      ]
     },
     "execution_count": 11,
     "metadata": {},
     "output_type": "execute_result"
    }
   ],
   "source": [
    "model_clf = RandomForestClassifier(max_depth=2, random_state=0)\n",
    "model_clf.fit(X_train, y_train)"
   ]
  },
  {
   "cell_type": "code",
   "execution_count": 12,
   "id": "909bf9d6",
   "metadata": {},
   "outputs": [],
   "source": [
    "y_pred = model_clf.predict(X_test)\n",
    "(acc_score, auc_roc, log_los, recall, f1_scr, precision_scr) = metric(y_test, y_pred)\n",
    "\n",
    "model_mertics = {\n",
    "    \"accuracy_score\": acc_score,\n",
    "    \"roc_auc_score\": auc_roc,\n",
    "    \"log_loss\": log_los,\n",
    "    \"recall\": recall,\n",
    "    \"f1_score\": f1_scr,\n",
    "    \"precision_score\": precision_scr\n",
    "}"
   ]
  },
  {
   "cell_type": "markdown",
   "id": "81df43b5",
   "metadata": {},
   "source": [
    "### Log random forest model\n",
    "- model_type can be scikit-learn, xgboost, catboost, lightgbm, prophet, keras, custom-model"
   ]
  },
  {
   "cell_type": "code",
   "execution_count": 13,
   "id": "2526657e",
   "metadata": {},
   "outputs": [
    {
     "name": "stdout",
     "output_type": "stream",
     "text": [
      "Model artifact logged to: s3://models/18/9dbe7b1db90d4dc28cc59fe76a073739/artifacts/sklearn_model_18_scikit-learn-model_random_forest\n"
     ]
    }
   ],
   "source": [
    "lm.model_logging(\n",
    "    model_name=\"random_forest\",\n",
    "    model_type=\"scikit-learn\",\n",
    "    model=model_clf,\n",
    "    artifact_path=artifact_path,\n",
    "    current_working_dir=f'{os.getcwd()}/scikit_learn_logging.ipynb',\n",
    "    metrics=model_mertics\n",
    ")"
   ]
  },
  {
   "cell_type": "markdown",
   "id": "593f9891",
   "metadata": {},
   "source": [
    "### Logistic Regression"
   ]
  },
  {
   "cell_type": "code",
   "execution_count": 14,
   "id": "97a4f121",
   "metadata": {},
   "outputs": [
    {
     "data": {
      "text/html": [
       "<style>#sk-container-id-2 {color: black;background-color: white;}#sk-container-id-2 pre{padding: 0;}#sk-container-id-2 div.sk-toggleable {background-color: white;}#sk-container-id-2 label.sk-toggleable__label {cursor: pointer;display: block;width: 100%;margin-bottom: 0;padding: 0.3em;box-sizing: border-box;text-align: center;}#sk-container-id-2 label.sk-toggleable__label-arrow:before {content: \"▸\";float: left;margin-right: 0.25em;color: #696969;}#sk-container-id-2 label.sk-toggleable__label-arrow:hover:before {color: black;}#sk-container-id-2 div.sk-estimator:hover label.sk-toggleable__label-arrow:before {color: black;}#sk-container-id-2 div.sk-toggleable__content {max-height: 0;max-width: 0;overflow: hidden;text-align: left;background-color: #f0f8ff;}#sk-container-id-2 div.sk-toggleable__content pre {margin: 0.2em;color: black;border-radius: 0.25em;background-color: #f0f8ff;}#sk-container-id-2 input.sk-toggleable__control:checked~div.sk-toggleable__content {max-height: 200px;max-width: 100%;overflow: auto;}#sk-container-id-2 input.sk-toggleable__control:checked~label.sk-toggleable__label-arrow:before {content: \"▾\";}#sk-container-id-2 div.sk-estimator input.sk-toggleable__control:checked~label.sk-toggleable__label {background-color: #d4ebff;}#sk-container-id-2 div.sk-label input.sk-toggleable__control:checked~label.sk-toggleable__label {background-color: #d4ebff;}#sk-container-id-2 input.sk-hidden--visually {border: 0;clip: rect(1px 1px 1px 1px);clip: rect(1px, 1px, 1px, 1px);height: 1px;margin: -1px;overflow: hidden;padding: 0;position: absolute;width: 1px;}#sk-container-id-2 div.sk-estimator {font-family: monospace;background-color: #f0f8ff;border: 1px dotted black;border-radius: 0.25em;box-sizing: border-box;margin-bottom: 0.5em;}#sk-container-id-2 div.sk-estimator:hover {background-color: #d4ebff;}#sk-container-id-2 div.sk-parallel-item::after {content: \"\";width: 100%;border-bottom: 1px solid gray;flex-grow: 1;}#sk-container-id-2 div.sk-label:hover label.sk-toggleable__label {background-color: #d4ebff;}#sk-container-id-2 div.sk-serial::before {content: \"\";position: absolute;border-left: 1px solid gray;box-sizing: border-box;top: 0;bottom: 0;left: 50%;z-index: 0;}#sk-container-id-2 div.sk-serial {display: flex;flex-direction: column;align-items: center;background-color: white;padding-right: 0.2em;padding-left: 0.2em;position: relative;}#sk-container-id-2 div.sk-item {position: relative;z-index: 1;}#sk-container-id-2 div.sk-parallel {display: flex;align-items: stretch;justify-content: center;background-color: white;position: relative;}#sk-container-id-2 div.sk-item::before, #sk-container-id-2 div.sk-parallel-item::before {content: \"\";position: absolute;border-left: 1px solid gray;box-sizing: border-box;top: 0;bottom: 0;left: 50%;z-index: -1;}#sk-container-id-2 div.sk-parallel-item {display: flex;flex-direction: column;z-index: 1;position: relative;background-color: white;}#sk-container-id-2 div.sk-parallel-item:first-child::after {align-self: flex-end;width: 50%;}#sk-container-id-2 div.sk-parallel-item:last-child::after {align-self: flex-start;width: 50%;}#sk-container-id-2 div.sk-parallel-item:only-child::after {width: 0;}#sk-container-id-2 div.sk-dashed-wrapped {border: 1px dashed gray;margin: 0 0.4em 0.5em 0.4em;box-sizing: border-box;padding-bottom: 0.4em;background-color: white;}#sk-container-id-2 div.sk-label label {font-family: monospace;font-weight: bold;display: inline-block;line-height: 1.2em;}#sk-container-id-2 div.sk-label-container {text-align: center;}#sk-container-id-2 div.sk-container {/* jupyter's `normalize.less` sets `[hidden] { display: none; }` but bootstrap.min.css set `[hidden] { display: none !important; }` so we also need the `!important` here to be able to override the default hidden behavior on the sphinx rendered scikit-learn.org. See: https://github.com/scikit-learn/scikit-learn/issues/21755 */display: inline-block !important;position: relative;}#sk-container-id-2 div.sk-text-repr-fallback {display: none;}</style><div id=\"sk-container-id-2\" class=\"sk-top-container\"><div class=\"sk-text-repr-fallback\"><pre>LogisticRegression(random_state=0)</pre><b>In a Jupyter environment, please rerun this cell to show the HTML representation or trust the notebook. <br />On GitHub, the HTML representation is unable to render, please try loading this page with nbviewer.org.</b></div><div class=\"sk-container\" hidden><div class=\"sk-item\"><div class=\"sk-estimator sk-toggleable\"><input class=\"sk-toggleable__control sk-hidden--visually\" id=\"sk-estimator-id-2\" type=\"checkbox\" checked><label for=\"sk-estimator-id-2\" class=\"sk-toggleable__label sk-toggleable__label-arrow\">LogisticRegression</label><div class=\"sk-toggleable__content\"><pre>LogisticRegression(random_state=0)</pre></div></div></div></div></div>"
      ],
      "text/plain": [
       "LogisticRegression(random_state=0)"
      ]
     },
     "execution_count": 14,
     "metadata": {},
     "output_type": "execute_result"
    }
   ],
   "source": [
    "model_clf = LogisticRegression(random_state=0)\n",
    "model_clf.fit(X_train, y_train)"
   ]
  },
  {
   "cell_type": "code",
   "execution_count": 15,
   "id": "42ed747b",
   "metadata": {},
   "outputs": [],
   "source": [
    "y_pred = model_clf.predict(X_test)\n",
    "(acc_score, auc_roc, log_los, recall, f1_scr, precision_scr) = metric(y_test, y_pred)\n",
    "\n",
    "model_mertics = {\n",
    "    \"accuracy_score\": acc_score,\n",
    "    \"roc_auc_score\": auc_roc,\n",
    "    \"log_loss\": log_los,\n",
    "    \"recall\": recall,\n",
    "    \"f1_score\": f1_scr,\n",
    "    \"precision_score\": precision_scr\n",
    "}"
   ]
  },
  {
   "cell_type": "markdown",
   "id": "87c4d62c",
   "metadata": {},
   "source": [
    "### Log logistic Regression model"
   ]
  },
  {
   "cell_type": "code",
   "execution_count": 16,
   "id": "e57c5bab",
   "metadata": {},
   "outputs": [
    {
     "name": "stdout",
     "output_type": "stream",
     "text": [
      "Model artifact logged to: s3://models/18/b7cca315e1b8418bb0c20918c246f589/artifacts/sklearn_model_18_scikit-learn-model_logistic_regression\n"
     ]
    }
   ],
   "source": [
    "lm.model_logging(\n",
    "    model_name=\"logistic_regression\",\n",
    "    model_type=\"scikit-learn\",\n",
    "    model=model_clf,\n",
    "    artifact_path=artifact_path,\n",
    "    current_working_dir=f'{os.getcwd()}/scikit_learn_logging.ipynb',\n",
    "    metrics=model_mertics\n",
    ")"
   ]
  },
  {
   "cell_type": "markdown",
   "id": "85e6499a",
   "metadata": {},
   "source": [
    "### Adaboost"
   ]
  },
  {
   "cell_type": "code",
   "execution_count": 17,
   "id": "6453a7ff",
   "metadata": {},
   "outputs": [
    {
     "data": {
      "text/html": [
       "<style>#sk-container-id-3 {color: black;background-color: white;}#sk-container-id-3 pre{padding: 0;}#sk-container-id-3 div.sk-toggleable {background-color: white;}#sk-container-id-3 label.sk-toggleable__label {cursor: pointer;display: block;width: 100%;margin-bottom: 0;padding: 0.3em;box-sizing: border-box;text-align: center;}#sk-container-id-3 label.sk-toggleable__label-arrow:before {content: \"▸\";float: left;margin-right: 0.25em;color: #696969;}#sk-container-id-3 label.sk-toggleable__label-arrow:hover:before {color: black;}#sk-container-id-3 div.sk-estimator:hover label.sk-toggleable__label-arrow:before {color: black;}#sk-container-id-3 div.sk-toggleable__content {max-height: 0;max-width: 0;overflow: hidden;text-align: left;background-color: #f0f8ff;}#sk-container-id-3 div.sk-toggleable__content pre {margin: 0.2em;color: black;border-radius: 0.25em;background-color: #f0f8ff;}#sk-container-id-3 input.sk-toggleable__control:checked~div.sk-toggleable__content {max-height: 200px;max-width: 100%;overflow: auto;}#sk-container-id-3 input.sk-toggleable__control:checked~label.sk-toggleable__label-arrow:before {content: \"▾\";}#sk-container-id-3 div.sk-estimator input.sk-toggleable__control:checked~label.sk-toggleable__label {background-color: #d4ebff;}#sk-container-id-3 div.sk-label input.sk-toggleable__control:checked~label.sk-toggleable__label {background-color: #d4ebff;}#sk-container-id-3 input.sk-hidden--visually {border: 0;clip: rect(1px 1px 1px 1px);clip: rect(1px, 1px, 1px, 1px);height: 1px;margin: -1px;overflow: hidden;padding: 0;position: absolute;width: 1px;}#sk-container-id-3 div.sk-estimator {font-family: monospace;background-color: #f0f8ff;border: 1px dotted black;border-radius: 0.25em;box-sizing: border-box;margin-bottom: 0.5em;}#sk-container-id-3 div.sk-estimator:hover {background-color: #d4ebff;}#sk-container-id-3 div.sk-parallel-item::after {content: \"\";width: 100%;border-bottom: 1px solid gray;flex-grow: 1;}#sk-container-id-3 div.sk-label:hover label.sk-toggleable__label {background-color: #d4ebff;}#sk-container-id-3 div.sk-serial::before {content: \"\";position: absolute;border-left: 1px solid gray;box-sizing: border-box;top: 0;bottom: 0;left: 50%;z-index: 0;}#sk-container-id-3 div.sk-serial {display: flex;flex-direction: column;align-items: center;background-color: white;padding-right: 0.2em;padding-left: 0.2em;position: relative;}#sk-container-id-3 div.sk-item {position: relative;z-index: 1;}#sk-container-id-3 div.sk-parallel {display: flex;align-items: stretch;justify-content: center;background-color: white;position: relative;}#sk-container-id-3 div.sk-item::before, #sk-container-id-3 div.sk-parallel-item::before {content: \"\";position: absolute;border-left: 1px solid gray;box-sizing: border-box;top: 0;bottom: 0;left: 50%;z-index: -1;}#sk-container-id-3 div.sk-parallel-item {display: flex;flex-direction: column;z-index: 1;position: relative;background-color: white;}#sk-container-id-3 div.sk-parallel-item:first-child::after {align-self: flex-end;width: 50%;}#sk-container-id-3 div.sk-parallel-item:last-child::after {align-self: flex-start;width: 50%;}#sk-container-id-3 div.sk-parallel-item:only-child::after {width: 0;}#sk-container-id-3 div.sk-dashed-wrapped {border: 1px dashed gray;margin: 0 0.4em 0.5em 0.4em;box-sizing: border-box;padding-bottom: 0.4em;background-color: white;}#sk-container-id-3 div.sk-label label {font-family: monospace;font-weight: bold;display: inline-block;line-height: 1.2em;}#sk-container-id-3 div.sk-label-container {text-align: center;}#sk-container-id-3 div.sk-container {/* jupyter's `normalize.less` sets `[hidden] { display: none; }` but bootstrap.min.css set `[hidden] { display: none !important; }` so we also need the `!important` here to be able to override the default hidden behavior on the sphinx rendered scikit-learn.org. See: https://github.com/scikit-learn/scikit-learn/issues/21755 */display: inline-block !important;position: relative;}#sk-container-id-3 div.sk-text-repr-fallback {display: none;}</style><div id=\"sk-container-id-3\" class=\"sk-top-container\"><div class=\"sk-text-repr-fallback\"><pre>AdaBoostClassifier(random_state=0)</pre><b>In a Jupyter environment, please rerun this cell to show the HTML representation or trust the notebook. <br />On GitHub, the HTML representation is unable to render, please try loading this page with nbviewer.org.</b></div><div class=\"sk-container\" hidden><div class=\"sk-item\"><div class=\"sk-estimator sk-toggleable\"><input class=\"sk-toggleable__control sk-hidden--visually\" id=\"sk-estimator-id-3\" type=\"checkbox\" checked><label for=\"sk-estimator-id-3\" class=\"sk-toggleable__label sk-toggleable__label-arrow\">AdaBoostClassifier</label><div class=\"sk-toggleable__content\"><pre>AdaBoostClassifier(random_state=0)</pre></div></div></div></div></div>"
      ],
      "text/plain": [
       "AdaBoostClassifier(random_state=0)"
      ]
     },
     "execution_count": 17,
     "metadata": {},
     "output_type": "execute_result"
    }
   ],
   "source": [
    "model_clf = AdaBoostClassifier(random_state=0)\n",
    "model_clf.fit(X_train, y_train)"
   ]
  },
  {
   "cell_type": "code",
   "execution_count": 18,
   "id": "c46b09be",
   "metadata": {},
   "outputs": [],
   "source": [
    "y_pred = model_clf.predict(X_test)\n",
    "(acc_score, auc_roc, log_los, recall, f1_scr, precision_scr) = metric(y_test, y_pred)\n",
    "\n",
    "model_mertics = {\n",
    "    \"accuracy_score\": acc_score,\n",
    "    \"roc_auc_score\": auc_roc,\n",
    "    \"log_loss\": log_los,\n",
    "    \"recall\": recall,\n",
    "    \"f1_score\": f1_scr,\n",
    "    \"precision_score\": precision_scr\n",
    "}"
   ]
  },
  {
   "cell_type": "markdown",
   "id": "6e2fd387",
   "metadata": {},
   "source": [
    "### Log Adaboost model"
   ]
  },
  {
   "cell_type": "code",
   "execution_count": 19,
   "id": "1663cd89",
   "metadata": {},
   "outputs": [
    {
     "name": "stdout",
     "output_type": "stream",
     "text": [
      "Model artifact logged to: s3://models/18/6ffe0a62f86a47f4b38ea660d16b36e1/artifacts/sklearn_model_18_scikit-learn-model_adaboostclassifier\n"
     ]
    }
   ],
   "source": [
    "lm.model_logging(\n",
    "    model_name=\"adaboostclassifier\",\n",
    "    model_type=\"scikit-learn\",\n",
    "    model=model_clf,\n",
    "    artifact_path=artifact_path,\n",
    "    current_working_dir=f'{os.getcwd()}/scikit_learn_logging.ipynb',\n",
    "    metrics=model_mertics\n",
    ")"
   ]
  },
  {
   "cell_type": "markdown",
   "id": "3318481c",
   "metadata": {},
   "source": [
    "### Gradient Boost Model"
   ]
  },
  {
   "cell_type": "code",
   "execution_count": 20,
   "id": "4fd2d8bb",
   "metadata": {},
   "outputs": [
    {
     "data": {
      "text/html": [
       "<style>#sk-container-id-4 {color: black;background-color: white;}#sk-container-id-4 pre{padding: 0;}#sk-container-id-4 div.sk-toggleable {background-color: white;}#sk-container-id-4 label.sk-toggleable__label {cursor: pointer;display: block;width: 100%;margin-bottom: 0;padding: 0.3em;box-sizing: border-box;text-align: center;}#sk-container-id-4 label.sk-toggleable__label-arrow:before {content: \"▸\";float: left;margin-right: 0.25em;color: #696969;}#sk-container-id-4 label.sk-toggleable__label-arrow:hover:before {color: black;}#sk-container-id-4 div.sk-estimator:hover label.sk-toggleable__label-arrow:before {color: black;}#sk-container-id-4 div.sk-toggleable__content {max-height: 0;max-width: 0;overflow: hidden;text-align: left;background-color: #f0f8ff;}#sk-container-id-4 div.sk-toggleable__content pre {margin: 0.2em;color: black;border-radius: 0.25em;background-color: #f0f8ff;}#sk-container-id-4 input.sk-toggleable__control:checked~div.sk-toggleable__content {max-height: 200px;max-width: 100%;overflow: auto;}#sk-container-id-4 input.sk-toggleable__control:checked~label.sk-toggleable__label-arrow:before {content: \"▾\";}#sk-container-id-4 div.sk-estimator input.sk-toggleable__control:checked~label.sk-toggleable__label {background-color: #d4ebff;}#sk-container-id-4 div.sk-label input.sk-toggleable__control:checked~label.sk-toggleable__label {background-color: #d4ebff;}#sk-container-id-4 input.sk-hidden--visually {border: 0;clip: rect(1px 1px 1px 1px);clip: rect(1px, 1px, 1px, 1px);height: 1px;margin: -1px;overflow: hidden;padding: 0;position: absolute;width: 1px;}#sk-container-id-4 div.sk-estimator {font-family: monospace;background-color: #f0f8ff;border: 1px dotted black;border-radius: 0.25em;box-sizing: border-box;margin-bottom: 0.5em;}#sk-container-id-4 div.sk-estimator:hover {background-color: #d4ebff;}#sk-container-id-4 div.sk-parallel-item::after {content: \"\";width: 100%;border-bottom: 1px solid gray;flex-grow: 1;}#sk-container-id-4 div.sk-label:hover label.sk-toggleable__label {background-color: #d4ebff;}#sk-container-id-4 div.sk-serial::before {content: \"\";position: absolute;border-left: 1px solid gray;box-sizing: border-box;top: 0;bottom: 0;left: 50%;z-index: 0;}#sk-container-id-4 div.sk-serial {display: flex;flex-direction: column;align-items: center;background-color: white;padding-right: 0.2em;padding-left: 0.2em;position: relative;}#sk-container-id-4 div.sk-item {position: relative;z-index: 1;}#sk-container-id-4 div.sk-parallel {display: flex;align-items: stretch;justify-content: center;background-color: white;position: relative;}#sk-container-id-4 div.sk-item::before, #sk-container-id-4 div.sk-parallel-item::before {content: \"\";position: absolute;border-left: 1px solid gray;box-sizing: border-box;top: 0;bottom: 0;left: 50%;z-index: -1;}#sk-container-id-4 div.sk-parallel-item {display: flex;flex-direction: column;z-index: 1;position: relative;background-color: white;}#sk-container-id-4 div.sk-parallel-item:first-child::after {align-self: flex-end;width: 50%;}#sk-container-id-4 div.sk-parallel-item:last-child::after {align-self: flex-start;width: 50%;}#sk-container-id-4 div.sk-parallel-item:only-child::after {width: 0;}#sk-container-id-4 div.sk-dashed-wrapped {border: 1px dashed gray;margin: 0 0.4em 0.5em 0.4em;box-sizing: border-box;padding-bottom: 0.4em;background-color: white;}#sk-container-id-4 div.sk-label label {font-family: monospace;font-weight: bold;display: inline-block;line-height: 1.2em;}#sk-container-id-4 div.sk-label-container {text-align: center;}#sk-container-id-4 div.sk-container {/* jupyter's `normalize.less` sets `[hidden] { display: none; }` but bootstrap.min.css set `[hidden] { display: none !important; }` so we also need the `!important` here to be able to override the default hidden behavior on the sphinx rendered scikit-learn.org. See: https://github.com/scikit-learn/scikit-learn/issues/21755 */display: inline-block !important;position: relative;}#sk-container-id-4 div.sk-text-repr-fallback {display: none;}</style><div id=\"sk-container-id-4\" class=\"sk-top-container\"><div class=\"sk-text-repr-fallback\"><pre>GradientBoostingClassifier(random_state=0)</pre><b>In a Jupyter environment, please rerun this cell to show the HTML representation or trust the notebook. <br />On GitHub, the HTML representation is unable to render, please try loading this page with nbviewer.org.</b></div><div class=\"sk-container\" hidden><div class=\"sk-item\"><div class=\"sk-estimator sk-toggleable\"><input class=\"sk-toggleable__control sk-hidden--visually\" id=\"sk-estimator-id-4\" type=\"checkbox\" checked><label for=\"sk-estimator-id-4\" class=\"sk-toggleable__label sk-toggleable__label-arrow\">GradientBoostingClassifier</label><div class=\"sk-toggleable__content\"><pre>GradientBoostingClassifier(random_state=0)</pre></div></div></div></div></div>"
      ],
      "text/plain": [
       "GradientBoostingClassifier(random_state=0)"
      ]
     },
     "execution_count": 20,
     "metadata": {},
     "output_type": "execute_result"
    }
   ],
   "source": [
    "model_clf = GradientBoostingClassifier(random_state=0)\n",
    "model_clf.fit(X_train, y_train)"
   ]
  },
  {
   "cell_type": "code",
   "execution_count": 21,
   "id": "42618990",
   "metadata": {},
   "outputs": [],
   "source": [
    "y_pred = model_clf.predict(X_test)\n",
    "(acc_score, auc_roc, log_los, recall, f1_scr, precision_scr) = metric(y_test, y_pred)\n",
    "\n",
    "model_mertics = {\n",
    "    \"accuracy_score\": acc_score,\n",
    "    \"roc_auc_score\": auc_roc,\n",
    "    \"log_loss\": log_los,\n",
    "    \"recall\": recall,\n",
    "    \"f1_score\": f1_scr,\n",
    "    \"precision_score\": precision_scr\n",
    "}"
   ]
  },
  {
   "cell_type": "markdown",
   "id": "54144147",
   "metadata": {},
   "source": [
    "### Log Gradientboost model"
   ]
  },
  {
   "cell_type": "code",
   "execution_count": 22,
   "id": "94d9099c",
   "metadata": {},
   "outputs": [
    {
     "name": "stdout",
     "output_type": "stream",
     "text": [
      "Model artifact logged to: s3://models/18/7a5ca1ce150242a0bf6dace6708f366d/artifacts/sklearn_model_18_scikit-learn-model_gradientboostclassifier\n"
     ]
    }
   ],
   "source": [
    "lm.model_logging(\n",
    "    model_name=\"gradientboostclassifier\",\n",
    "    model_type=\"scikit-learn\",\n",
    "    model=model_clf,\n",
    "    artifact_path=artifact_path,\n",
    "    current_working_dir=f'{os.getcwd()}/scikit_learn_logging.ipynb',\n",
    "    metrics=model_mertics\n",
    ")"
   ]
  },
  {
   "cell_type": "markdown",
   "id": "b847b2cb",
   "metadata": {},
   "source": [
    "### Check Loaded Models"
   ]
  },
  {
   "cell_type": "code",
   "execution_count": 23,
   "id": "a820be4c",
   "metadata": {},
   "outputs": [
    {
     "name": "stdout",
     "output_type": "stream",
     "text": [
      "Number of runs done :  4\n"
     ]
    }
   ],
   "source": [
    "df_runs = lm.search_runs(exp_id)\n",
    "print(\"Number of runs done : \", len(df_runs))"
   ]
  },
  {
   "cell_type": "code",
   "execution_count": 24,
   "id": "a11263a8",
   "metadata": {},
   "outputs": [
    {
     "data": {
      "text/html": [
       "<div>\n",
       "<style scoped>\n",
       "    .dataframe tbody tr th:only-of-type {\n",
       "        vertical-align: middle;\n",
       "    }\n",
       "\n",
       "    .dataframe tbody tr th {\n",
       "        vertical-align: top;\n",
       "    }\n",
       "\n",
       "    .dataframe thead th {\n",
       "        text-align: right;\n",
       "    }\n",
       "</style>\n",
       "<table border=\"1\" class=\"dataframe\">\n",
       "  <thead>\n",
       "    <tr style=\"text-align: right;\">\n",
       "      <th></th>\n",
       "      <th>artifact_uri</th>\n",
       "      <th>end_time</th>\n",
       "      <th>experiment_id</th>\n",
       "      <th>metrics.accuracy_score</th>\n",
       "      <th>metrics.f1_score</th>\n",
       "      <th>metrics.log_loss</th>\n",
       "      <th>metrics.precision_score</th>\n",
       "      <th>metrics.recall</th>\n",
       "      <th>metrics.roc_auc_score</th>\n",
       "      <th>run_id</th>\n",
       "      <th>run_name</th>\n",
       "      <th>start_time</th>\n",
       "      <th>status</th>\n",
       "      <th>tags.data_path</th>\n",
       "      <th>tags.experiment_id</th>\n",
       "      <th>tags.experiment_name</th>\n",
       "      <th>tags.features</th>\n",
       "      <th>tags.mlflow.log-model.history</th>\n",
       "      <th>tags.run_id</th>\n",
       "      <th>tags.version.mlflow</th>\n",
       "    </tr>\n",
       "  </thead>\n",
       "  <tbody>\n",
       "    <tr>\n",
       "      <th>0</th>\n",
       "      <td>s3://models/18/7a5ca1ce150242a0bf6dace6708f366...</td>\n",
       "      <td>2023-10-24 03:51:45.299000+00:00</td>\n",
       "      <td>18</td>\n",
       "      <td>0.818182</td>\n",
       "      <td>0.695652</td>\n",
       "      <td>6.279829</td>\n",
       "      <td>0.761905</td>\n",
       "      <td>0.64</td>\n",
       "      <td>0.771923</td>\n",
       "      <td>7a5ca1ce150242a0bf6dace6708f366d</td>\n",
       "      <td>sklearn_model_18_scikit-learn-model_gradientbo...</td>\n",
       "      <td>2023-10-24 03:51:43.494000+00:00</td>\n",
       "      <td>FINISHED</td>\n",
       "      <td>-</td>\n",
       "      <td>18</td>\n",
       "      <td>sklearn_model</td>\n",
       "      <td>-</td>\n",
       "      <td>[{\"run_id\": \"7a5ca1ce150242a0bf6dace6708f366d\"...</td>\n",
       "      <td>7a5ca1ce150242a0bf6dace6708f366d</td>\n",
       "      <td>2.0.1</td>\n",
       "    </tr>\n",
       "    <tr>\n",
       "      <th>1</th>\n",
       "      <td>s3://models/18/6ffe0a62f86a47f4b38ea660d16b36e...</td>\n",
       "      <td>2023-10-24 03:51:31.263000+00:00</td>\n",
       "      <td>18</td>\n",
       "      <td>0.792208</td>\n",
       "      <td>0.666667</td>\n",
       "      <td>7.176961</td>\n",
       "      <td>0.695652</td>\n",
       "      <td>0.64</td>\n",
       "      <td>0.752692</td>\n",
       "      <td>6ffe0a62f86a47f4b38ea660d16b36e1</td>\n",
       "      <td>sklearn_model_18_scikit-learn-model_adaboostcl...</td>\n",
       "      <td>2023-10-24 03:51:29.475000+00:00</td>\n",
       "      <td>FINISHED</td>\n",
       "      <td>-</td>\n",
       "      <td>18</td>\n",
       "      <td>sklearn_model</td>\n",
       "      <td>-</td>\n",
       "      <td>[{\"run_id\": \"6ffe0a62f86a47f4b38ea660d16b36e1\"...</td>\n",
       "      <td>6ffe0a62f86a47f4b38ea660d16b36e1</td>\n",
       "      <td>2.0.1</td>\n",
       "    </tr>\n",
       "    <tr>\n",
       "      <th>2</th>\n",
       "      <td>s3://models/18/b7cca315e1b8418bb0c20918c246f58...</td>\n",
       "      <td>2023-10-24 03:51:26.725000+00:00</td>\n",
       "      <td>18</td>\n",
       "      <td>0.792208</td>\n",
       "      <td>0.636364</td>\n",
       "      <td>7.176941</td>\n",
       "      <td>0.736842</td>\n",
       "      <td>0.56</td>\n",
       "      <td>0.731923</td>\n",
       "      <td>b7cca315e1b8418bb0c20918c246f589</td>\n",
       "      <td>sklearn_model_18_scikit-learn-model_logistic_r...</td>\n",
       "      <td>2023-10-24 03:51:24.986000+00:00</td>\n",
       "      <td>FINISHED</td>\n",
       "      <td>-</td>\n",
       "      <td>18</td>\n",
       "      <td>sklearn_model</td>\n",
       "      <td>-</td>\n",
       "      <td>[{\"run_id\": \"b7cca315e1b8418bb0c20918c246f589\"...</td>\n",
       "      <td>b7cca315e1b8418bb0c20918c246f589</td>\n",
       "      <td>2.0.1</td>\n",
       "    </tr>\n",
       "    <tr>\n",
       "      <th>3</th>\n",
       "      <td>s3://models/18/9dbe7b1db90d4dc28cc59fe76a07373...</td>\n",
       "      <td>2023-10-24 03:51:19.873000+00:00</td>\n",
       "      <td>18</td>\n",
       "      <td>0.772727</td>\n",
       "      <td>0.477612</td>\n",
       "      <td>7.849727</td>\n",
       "      <td>0.941176</td>\n",
       "      <td>0.32</td>\n",
       "      <td>0.655192</td>\n",
       "      <td>9dbe7b1db90d4dc28cc59fe76a073739</td>\n",
       "      <td>sklearn_model_18_scikit-learn-model_random_forest</td>\n",
       "      <td>2023-10-24 03:51:17.258000+00:00</td>\n",
       "      <td>FINISHED</td>\n",
       "      <td>-</td>\n",
       "      <td>18</td>\n",
       "      <td>sklearn_model</td>\n",
       "      <td>-</td>\n",
       "      <td>[{\"run_id\": \"9dbe7b1db90d4dc28cc59fe76a073739\"...</td>\n",
       "      <td>9dbe7b1db90d4dc28cc59fe76a073739</td>\n",
       "      <td>2.0.1</td>\n",
       "    </tr>\n",
       "  </tbody>\n",
       "</table>\n",
       "</div>"
      ],
      "text/plain": [
       "                                        artifact_uri  \\\n",
       "0  s3://models/18/7a5ca1ce150242a0bf6dace6708f366...   \n",
       "1  s3://models/18/6ffe0a62f86a47f4b38ea660d16b36e...   \n",
       "2  s3://models/18/b7cca315e1b8418bb0c20918c246f58...   \n",
       "3  s3://models/18/9dbe7b1db90d4dc28cc59fe76a07373...   \n",
       "\n",
       "                          end_time experiment_id  metrics.accuracy_score  \\\n",
       "0 2023-10-24 03:51:45.299000+00:00            18                0.818182   \n",
       "1 2023-10-24 03:51:31.263000+00:00            18                0.792208   \n",
       "2 2023-10-24 03:51:26.725000+00:00            18                0.792208   \n",
       "3 2023-10-24 03:51:19.873000+00:00            18                0.772727   \n",
       "\n",
       "   metrics.f1_score  metrics.log_loss  metrics.precision_score  \\\n",
       "0          0.695652          6.279829                 0.761905   \n",
       "1          0.666667          7.176961                 0.695652   \n",
       "2          0.636364          7.176941                 0.736842   \n",
       "3          0.477612          7.849727                 0.941176   \n",
       "\n",
       "   metrics.recall  metrics.roc_auc_score                            run_id  \\\n",
       "0            0.64               0.771923  7a5ca1ce150242a0bf6dace6708f366d   \n",
       "1            0.64               0.752692  6ffe0a62f86a47f4b38ea660d16b36e1   \n",
       "2            0.56               0.731923  b7cca315e1b8418bb0c20918c246f589   \n",
       "3            0.32               0.655192  9dbe7b1db90d4dc28cc59fe76a073739   \n",
       "\n",
       "                                            run_name  \\\n",
       "0  sklearn_model_18_scikit-learn-model_gradientbo...   \n",
       "1  sklearn_model_18_scikit-learn-model_adaboostcl...   \n",
       "2  sklearn_model_18_scikit-learn-model_logistic_r...   \n",
       "3  sklearn_model_18_scikit-learn-model_random_forest   \n",
       "\n",
       "                        start_time    status tags.data_path  \\\n",
       "0 2023-10-24 03:51:43.494000+00:00  FINISHED              -   \n",
       "1 2023-10-24 03:51:29.475000+00:00  FINISHED              -   \n",
       "2 2023-10-24 03:51:24.986000+00:00  FINISHED              -   \n",
       "3 2023-10-24 03:51:17.258000+00:00  FINISHED              -   \n",
       "\n",
       "  tags.experiment_id tags.experiment_name tags.features  \\\n",
       "0                 18        sklearn_model             -   \n",
       "1                 18        sklearn_model             -   \n",
       "2                 18        sklearn_model             -   \n",
       "3                 18        sklearn_model             -   \n",
       "\n",
       "                       tags.mlflow.log-model.history  \\\n",
       "0  [{\"run_id\": \"7a5ca1ce150242a0bf6dace6708f366d\"...   \n",
       "1  [{\"run_id\": \"6ffe0a62f86a47f4b38ea660d16b36e1\"...   \n",
       "2  [{\"run_id\": \"b7cca315e1b8418bb0c20918c246f589\"...   \n",
       "3  [{\"run_id\": \"9dbe7b1db90d4dc28cc59fe76a073739\"...   \n",
       "\n",
       "                        tags.run_id tags.version.mlflow  \n",
       "0  7a5ca1ce150242a0bf6dace6708f366d               2.0.1  \n",
       "1  6ffe0a62f86a47f4b38ea660d16b36e1               2.0.1  \n",
       "2  b7cca315e1b8418bb0c20918c246f589               2.0.1  \n",
       "3  9dbe7b1db90d4dc28cc59fe76a073739               2.0.1  "
      ]
     },
     "execution_count": 24,
     "metadata": {},
     "output_type": "execute_result"
    }
   ],
   "source": [
    "df_runs.head()"
   ]
  }
 ],
 "metadata": {
  "interpreter": {
   "hash": "4d6391c6a94ac29d11c52d3286333d0adbbbf254fbc494f7e3b8bd0d2fc18aa9"
  },
  "kernelspec": {
   "display_name": "Python 3 (ipykernel)",
   "language": "python",
   "name": "python3"
  },
  "kubeflow_notebook": {
   "autosnapshot": false,
   "docker_image": "",
   "experiment": {
    "id": "",
    "name": ""
   },
   "experiment_name": "",
   "katib_metadata": {
    "algorithm": {
     "algorithmName": "grid"
    },
    "maxFailedTrialCount": 3,
    "maxTrialCount": 12,
    "objective": {
     "objectiveMetricName": "",
     "type": "minimize"
    },
    "parallelTrialCount": 3,
    "parameters": []
   },
   "katib_run": false,
   "pipeline_description": "",
   "pipeline_name": "",
   "snapshot_volumes": false,
   "steps_defaults": [],
   "volume_access_mode": "rwm",
   "volumes": []
  },
  "language_info": {
   "codemirror_mode": {
    "name": "ipython",
    "version": 3
   },
   "file_extension": ".py",
   "mimetype": "text/x-python",
   "name": "python",
   "nbconvert_exporter": "python",
   "pygments_lexer": "ipython3",
   "version": "3.9.7"
  }
 },
 "nbformat": 4,
 "nbformat_minor": 5
}
