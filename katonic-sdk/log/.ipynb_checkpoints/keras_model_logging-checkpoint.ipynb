{
 "cells": [
  {
   "cell_type": "markdown",
   "id": "b4d4ac07",
   "metadata": {},
   "source": [
    "## Log a Keras Model"
   ]
  },
  {
   "cell_type": "markdown",
   "id": "d915ad7b",
   "metadata": {},
   "source": [
    "Log a Keras Model with Katonic SDK's Log package."
   ]
  },
  {
   "cell_type": "code",
   "execution_count": 2,
   "id": "df527f52",
   "metadata": {
    "tags": []
   },
   "outputs": [
    {
     "name": "stdout",
     "output_type": "stream",
     "text": [
      "\u001b[33mWARNING: The directory '/home/jovyan/.cache/pip' or its parent directory is not owned or is not writable by the current user. The cache has been disabled. Check the permissions and owner of that directory. If executing pip with sudo, you should use sudo's -H flag.\u001b[0m\n",
      "\u001b[31mERROR: pip's dependency resolver does not currently take into account all the packages that are installed. This behaviour is the source of the following dependency conflicts.\n",
      "kfp 1.8.13 requires google-auth<2,>=1.6.1, but you have google-auth 2.23.3 which is incompatible.\n",
      "kfp 1.8.13 requires protobuf<4,>=3.13.0, but you have protobuf 4.24.4 which is incompatible.\n",
      "kfp-pipeline-spec 0.1.17 requires protobuf<4,>=3.13.0, but you have protobuf 4.24.4 which is incompatible.\n",
      "katonic 1.6.2 requires protobuf==3.19.4, but you have protobuf 4.24.4 which is incompatible.\u001b[0m\n",
      "\u001b[33mWARNING: Running pip as the 'root' user can result in broken permissions and conflicting behaviour with the system package manager. It is recommended to use a virtual environment instead: https://pip.pypa.io/warnings/venv\u001b[0m\n"
     ]
    }
   ],
   "source": [
    "!pip install tensorflow==2.11.0 -q"
   ]
  },
  {
   "cell_type": "markdown",
   "id": "a680d3e8",
   "metadata": {},
   "source": [
    "### Imports"
   ]
  },
  {
   "cell_type": "code",
   "execution_count": 1,
   "id": "3cecee8a",
   "metadata": {},
   "outputs": [
    {
     "name": "stderr",
     "output_type": "stream",
     "text": [
      "2023-10-24 03:48:40.542370: I tensorflow/core/platform/cpu_feature_guard.cc:193] This TensorFlow binary is optimized with oneAPI Deep Neural Network Library (oneDNN) to use the following CPU instructions in performance-critical operations:  AVX2 AVX512F AVX512_VNNI FMA\n",
      "To enable them in other operations, rebuild TensorFlow with the appropriate compiler flags.\n",
      "2023-10-24 03:48:40.653702: I tensorflow/core/util/port.cc:104] oneDNN custom operations are on. You may see slightly different numerical results due to floating-point round-off errors from different computation orders. To turn them off, set the environment variable `TF_ENABLE_ONEDNN_OPTS=0`.\n",
      "2023-10-24 03:48:40.657920: W tensorflow/compiler/xla/stream_executor/platform/default/dso_loader.cc:64] Could not load dynamic library 'libcudart.so.11.0'; dlerror: libcudart.so.11.0: cannot open shared object file: No such file or directory\n",
      "2023-10-24 03:48:40.657940: I tensorflow/compiler/xla/stream_executor/cuda/cudart_stub.cc:29] Ignore above cudart dlerror if you do not have a GPU set up on your machine.\n",
      "2023-10-24 03:48:41.376938: W tensorflow/compiler/xla/stream_executor/platform/default/dso_loader.cc:64] Could not load dynamic library 'libnvinfer.so.7'; dlerror: libnvinfer.so.7: cannot open shared object file: No such file or directory\n",
      "2023-10-24 03:48:41.377045: W tensorflow/compiler/xla/stream_executor/platform/default/dso_loader.cc:64] Could not load dynamic library 'libnvinfer_plugin.so.7'; dlerror: libnvinfer_plugin.so.7: cannot open shared object file: No such file or directory\n",
      "2023-10-24 03:48:41.377054: W tensorflow/compiler/tf2tensorrt/utils/py_utils.cc:38] TF-TRT Warning: Cannot dlopen some TensorRT libraries. If you would like to use Nvidia GPU with TensorRT, please make sure the missing libraries mentioned above are installed properly.\n"
     ]
    }
   ],
   "source": [
    "import os\n",
    "\n",
    "import tensorflow as tf\n",
    "from katonic.log.logmodel import LogModel"
   ]
  },
  {
   "cell_type": "markdown",
   "id": "4c135329",
   "metadata": {},
   "source": [
    "### Experiment Name"
   ]
  },
  {
   "cell_type": "code",
   "execution_count": 2,
   "id": "db6d32c0",
   "metadata": {},
   "outputs": [],
   "source": [
    "experiment_name= \"keras_model_logging\""
   ]
  },
  {
   "cell_type": "markdown",
   "id": "467c69f7",
   "metadata": {},
   "source": [
    "### Initiate LogModel with experiment name"
   ]
  },
  {
   "cell_type": "code",
   "execution_count": 3,
   "id": "fbda6845",
   "metadata": {},
   "outputs": [],
   "source": [
    "lm = LogModel(experiment_name, source_name='keras_model_logging.ipynb')"
   ]
  },
  {
   "cell_type": "markdown",
   "id": "ad4f28ea",
   "metadata": {},
   "source": [
    "### Metadata of the created / existing experiment"
   ]
  },
  {
   "cell_type": "code",
   "execution_count": 4,
   "id": "a114f848",
   "metadata": {},
   "outputs": [
    {
     "name": "stdout",
     "output_type": "stream",
     "text": [
      "experiment name:  keras_model_logging\n",
      "experiment location:  s3://models/17\n",
      "experiment id:  17\n",
      "experiment status:  active\n"
     ]
    }
   ],
   "source": [
    "# experiment id\n",
    "exp_id = lm.id\n",
    "\n",
    "print(\"experiment name: \", lm.name)\n",
    "print(\"experiment location: \", lm.location)\n",
    "print(\"experiment id: \", lm.id)\n",
    "print(\"experiment status: \", lm.stage)"
   ]
  },
  {
   "cell_type": "markdown",
   "id": "02730360",
   "metadata": {},
   "source": [
    "### Artifact path where you want to log your model|"
   ]
  },
  {
   "cell_type": "code",
   "execution_count": 5,
   "id": "59e2df4d",
   "metadata": {},
   "outputs": [],
   "source": [
    "artifact_path = \"mnist-keras-model\""
   ]
  },
  {
   "cell_type": "markdown",
   "id": "ef137f7e",
   "metadata": {},
   "source": [
    "### Define your Keras Model"
   ]
  },
  {
   "cell_type": "code",
   "execution_count": 6,
   "id": "c9a66fe0",
   "metadata": {},
   "outputs": [],
   "source": [
    "mnist = tf.keras.datasets.mnist"
   ]
  },
  {
   "cell_type": "code",
   "execution_count": 7,
   "id": "0f14d579",
   "metadata": {},
   "outputs": [],
   "source": [
    "(X_train_full, y_train_full), (X_test, y_test) = mnist.load_data()"
   ]
  },
  {
   "cell_type": "code",
   "execution_count": 8,
   "id": "f28f0786",
   "metadata": {},
   "outputs": [],
   "source": [
    "X_valid, X_train = X_train_full[:5000] / 255, X_train_full[5000:] / 255\n",
    "y_valid, y_train = y_train_full[:5000], y_train_full[5000:]\n",
    "\n",
    "X_test = X_test / 255"
   ]
  },
  {
   "cell_type": "code",
   "execution_count": 9,
   "id": "69e2f8cd",
   "metadata": {},
   "outputs": [],
   "source": [
    "LAYERS = [\n",
    "    tf.keras.layers.Flatten(input_shape=(28, 28), name='inputLayer'),\n",
    "    tf.keras.layers.Dense(300, activation='relu', name='hiddenLayer1'),\n",
    "    tf.keras.layers.Dense(100, activation='relu', name='hiddenLayer2'),\n",
    "    tf.keras.layers.Dense(10, activation='softmax', name='outputLayer')\n",
    "]"
   ]
  },
  {
   "cell_type": "code",
   "execution_count": 10,
   "id": "8999e1dd",
   "metadata": {},
   "outputs": [
    {
     "name": "stderr",
     "output_type": "stream",
     "text": [
      "2023-10-24 03:48:52.377703: W tensorflow/compiler/xla/stream_executor/platform/default/dso_loader.cc:64] Could not load dynamic library 'libcuda.so.1'; dlerror: libcuda.so.1: cannot open shared object file: No such file or directory\n",
      "2023-10-24 03:48:52.377755: W tensorflow/compiler/xla/stream_executor/cuda/cuda_driver.cc:265] failed call to cuInit: UNKNOWN ERROR (303)\n",
      "2023-10-24 03:48:52.377779: I tensorflow/compiler/xla/stream_executor/cuda/cuda_diagnostics.cc:156] kernel driver does not appear to be running on this host (ws-071cc618-1a9f-45aa-a0cf-7471a3ef7017-0): /proc/driver/nvidia/version does not exist\n",
      "2023-10-24 03:48:52.378108: I tensorflow/core/platform/cpu_feature_guard.cc:193] This TensorFlow binary is optimized with oneAPI Deep Neural Network Library (oneDNN) to use the following CPU instructions in performance-critical operations:  AVX2 AVX512F AVX512_VNNI FMA\n",
      "To enable them in other operations, rebuild TensorFlow with the appropriate compiler flags.\n"
     ]
    }
   ],
   "source": [
    "model_clf = tf.keras.models.Sequential(LAYERS)"
   ]
  },
  {
   "cell_type": "code",
   "execution_count": 11,
   "id": "53ebd7eb",
   "metadata": {},
   "outputs": [],
   "source": [
    "loss_function = 'sparse_categorical_crossentropy'\n",
    "optimizers = 'SGD'\n",
    "metric = ['accuracy']\n",
    "\n",
    "model_clf.compile(\n",
    "    loss=loss_function, \n",
    "    optimizer=optimizers, \n",
    "    metrics=metric\n",
    ")"
   ]
  },
  {
   "cell_type": "code",
   "execution_count": 12,
   "id": "a85069ef",
   "metadata": {},
   "outputs": [],
   "source": [
    "ckpt_path = \"data/model_ckpt.h5\""
   ]
  },
  {
   "cell_type": "code",
   "execution_count": 13,
   "id": "8c209e96",
   "metadata": {},
   "outputs": [],
   "source": [
    "ckpt_cb = tf.keras.callbacks.ModelCheckpoint(ckpt_path, save_best_only=True)"
   ]
  },
  {
   "cell_type": "markdown",
   "id": "1a7147dd",
   "metadata": {},
   "source": [
    "### Train your Keras Model"
   ]
  },
  {
   "cell_type": "code",
   "execution_count": 14,
   "id": "983c0e98",
   "metadata": {},
   "outputs": [
    {
     "name": "stdout",
     "output_type": "stream",
     "text": [
      "Epoch 1/5\n",
      "1719/1719 [==============================] - 4s 2ms/step - loss: 0.5932 - accuracy: 0.8459 - val_loss: 0.3060 - val_accuracy: 0.9146\n",
      "Epoch 2/5\n",
      "1719/1719 [==============================] - 3s 2ms/step - loss: 0.2903 - accuracy: 0.9174 - val_loss: 0.2422 - val_accuracy: 0.9328\n",
      "Epoch 3/5\n",
      "1719/1719 [==============================] - 3s 2ms/step - loss: 0.2397 - accuracy: 0.9313 - val_loss: 0.2074 - val_accuracy: 0.9422\n",
      "Epoch 4/5\n",
      "1719/1719 [==============================] - 3s 2ms/step - loss: 0.2056 - accuracy: 0.9412 - val_loss: 0.1848 - val_accuracy: 0.9488\n",
      "Epoch 5/5\n",
      "1719/1719 [==============================] - 3s 2ms/step - loss: 0.1798 - accuracy: 0.9488 - val_loss: 0.1666 - val_accuracy: 0.9544\n"
     ]
    }
   ],
   "source": [
    "EPOCHS = 5\n",
    "VALIDATION = (X_valid, y_valid)\n",
    "\n",
    "history = model_clf.fit(\n",
    "    X_train, y_train, \n",
    "    epochs=EPOCHS, \n",
    "    validation_data=VALIDATION,\n",
    "    callbacks=[ckpt_cb]\n",
    ")"
   ]
  },
  {
   "cell_type": "markdown",
   "id": "458645e3",
   "metadata": {},
   "source": [
    "### Evalute Model"
   ]
  },
  {
   "cell_type": "code",
   "execution_count": 15,
   "id": "234b3e7f",
   "metadata": {},
   "outputs": [
    {
     "name": "stdout",
     "output_type": "stream",
     "text": [
      "313/313 - 0s - loss: 0.1727 - accuracy: 0.9493 - 386ms/epoch - 1ms/step\n"
     ]
    }
   ],
   "source": [
    "res = model_clf.evaluate(X_test, y_test, verbose=2)"
   ]
  },
  {
   "cell_type": "code",
   "execution_count": 16,
   "id": "f6328999",
   "metadata": {},
   "outputs": [
    {
     "data": {
      "text/plain": [
       "['loss', 'accuracy']"
      ]
     },
     "execution_count": 16,
     "metadata": {},
     "output_type": "execute_result"
    }
   ],
   "source": [
    "model_clf.metrics_names"
   ]
  },
  {
   "cell_type": "code",
   "execution_count": 17,
   "id": "6013a9e9",
   "metadata": {},
   "outputs": [],
   "source": [
    "model_mertics = {\n",
    "    model_clf.metrics_names[0]: res[0],\n",
    "    model_clf.metrics_names[1]: res[1]\n",
    "}"
   ]
  },
  {
   "cell_type": "code",
   "execution_count": 18,
   "id": "827c8051",
   "metadata": {},
   "outputs": [
    {
     "name": "stdout",
     "output_type": "stream",
     "text": [
      "313/313 [==============================] - 0s 1ms/step\n"
     ]
    },
    {
     "data": {
      "text/plain": [
       "array([[2.30977210e-04, 1.88665945e-06, 1.75915635e-03, ...,\n",
       "        9.86699998e-01, 1.36231596e-04, 6.82137033e-04],\n",
       "       [7.72969855e-04, 8.48104610e-05, 9.81527269e-01, ...,\n",
       "        4.12719210e-08, 7.29118008e-04, 7.16579436e-08],\n",
       "       [2.26037191e-05, 9.81920779e-01, 4.33967169e-03, ...,\n",
       "        3.54451337e-03, 3.47072934e-03, 4.63852833e-04],\n",
       "       ...,\n",
       "       [5.32803767e-07, 1.63239818e-07, 9.44420935e-06, ...,\n",
       "        7.47589147e-05, 1.85466104e-03, 6.68382598e-03],\n",
       "       [1.11491936e-04, 6.62238090e-05, 1.00524339e-05, ...,\n",
       "        6.53385200e-07, 1.52125098e-02, 2.01998173e-05],\n",
       "       [2.08004640e-05, 1.08879261e-09, 1.04502724e-04, ...,\n",
       "        6.76429801e-10, 5.67306756e-07, 1.15914524e-07]], dtype=float32)"
      ]
     },
     "execution_count": 18,
     "metadata": {},
     "output_type": "execute_result"
    }
   ],
   "source": [
    "model_clf.predict(X_test)"
   ]
  },
  {
   "cell_type": "markdown",
   "id": "59b7f5b9",
   "metadata": {},
   "source": [
    "### Log Custom Model"
   ]
  },
  {
   "cell_type": "code",
   "execution_count": 19,
   "id": "3426415a",
   "metadata": {},
   "outputs": [
    {
     "name": "stderr",
     "output_type": "stream",
     "text": [
      "WARNING:katonic.log.logmodel:Couldn't log the model. Exception:\n",
      "WARNING:katonic.log.logmodel:Traceback (most recent call last):\n",
      "  File \"/opt/conda/lib/python3.9/site-packages/katonic/log/logmodel.py\", line 322, in model_logging\n",
      "    self.__log_keras_model(extra_requirements)\n",
      "  File \"/opt/conda/lib/python3.9/site-packages/katonic/log/logmodel.py\", line 156, in __log_keras_model\n",
      "    mlflow.keras.log_model(\n",
      "AttributeError: module 'mlflow' has no attribute 'keras'\n",
      "\n"
     ]
    }
   ],
   "source": [
    "lm.model_logging(\n",
    "    model_name=\"mnistkeras\",\n",
    "    model_type=\"keras\",\n",
    "    model=model_clf,\n",
    "    artifact_path=artifact_path,\n",
    "    current_working_dir=f'{os.getcwd()}/keras_model_logging.ipynb',\n",
    "    metrics=model_mertics\n",
    ")"
   ]
  },
  {
   "cell_type": "code",
   "execution_count": 22,
   "id": "d5a33da6",
   "metadata": {},
   "outputs": [
    {
     "name": "stdout",
     "output_type": "stream",
     "text": [
      "Number of runs done :  1\n"
     ]
    }
   ],
   "source": [
    "df_runs = lm.search_runs(exp_id)\n",
    "print(\"Number of runs done : \", len(df_runs))"
   ]
  },
  {
   "cell_type": "code",
   "execution_count": 23,
   "id": "082ee0fb",
   "metadata": {},
   "outputs": [
    {
     "data": {
      "text/html": [
       "<div>\n",
       "<style scoped>\n",
       "    .dataframe tbody tr th:only-of-type {\n",
       "        vertical-align: middle;\n",
       "    }\n",
       "\n",
       "    .dataframe tbody tr th {\n",
       "        vertical-align: top;\n",
       "    }\n",
       "\n",
       "    .dataframe thead th {\n",
       "        text-align: right;\n",
       "    }\n",
       "</style>\n",
       "<table border=\"1\" class=\"dataframe\">\n",
       "  <thead>\n",
       "    <tr style=\"text-align: right;\">\n",
       "      <th></th>\n",
       "      <th>artifact_uri</th>\n",
       "      <th>end_time</th>\n",
       "      <th>experiment_id</th>\n",
       "      <th>metrics.accuracy</th>\n",
       "      <th>metrics.loss</th>\n",
       "      <th>run_id</th>\n",
       "      <th>run_name</th>\n",
       "      <th>start_time</th>\n",
       "      <th>status</th>\n",
       "      <th>tags.mlflow.log-model.history</th>\n",
       "    </tr>\n",
       "  </thead>\n",
       "  <tbody>\n",
       "    <tr>\n",
       "      <th>0</th>\n",
       "      <td>s3://models/21/29f0add02a674b6eb9c5da21e495729...</td>\n",
       "      <td>2022-06-10 11:05:42.707000+00:00</td>\n",
       "      <td>21</td>\n",
       "      <td>0.9527</td>\n",
       "      <td>0.165211</td>\n",
       "      <td>29f0add02a674b6eb9c5da21e495729e</td>\n",
       "      <td>keras-model</td>\n",
       "      <td>2022-06-10 11:05:35.834000+00:00</td>\n",
       "      <td>FINISHED</td>\n",
       "      <td>[{\"run_id\": \"29f0add02a674b6eb9c5da21e495729e\"...</td>\n",
       "    </tr>\n",
       "  </tbody>\n",
       "</table>\n",
       "</div>"
      ],
      "text/plain": [
       "                                        artifact_uri  \\\n",
       "0  s3://models/21/29f0add02a674b6eb9c5da21e495729...   \n",
       "\n",
       "                          end_time experiment_id  metrics.accuracy  \\\n",
       "0 2022-06-10 11:05:42.707000+00:00            21            0.9527   \n",
       "\n",
       "   metrics.loss                            run_id     run_name  \\\n",
       "0      0.165211  29f0add02a674b6eb9c5da21e495729e  keras-model   \n",
       "\n",
       "                        start_time    status  \\\n",
       "0 2022-06-10 11:05:35.834000+00:00  FINISHED   \n",
       "\n",
       "                       tags.mlflow.log-model.history  \n",
       "0  [{\"run_id\": \"29f0add02a674b6eb9c5da21e495729e\"...  "
      ]
     },
     "execution_count": 23,
     "metadata": {},
     "output_type": "execute_result"
    }
   ],
   "source": [
    "df_runs.head()"
   ]
  },
  {
   "cell_type": "markdown",
   "id": "626cc7b5",
   "metadata": {},
   "source": [
    "### Load your logged keras model with URI"
   ]
  },
  {
   "cell_type": "code",
   "execution_count": 28,
   "id": "e38160e4",
   "metadata": {},
   "outputs": [
    {
     "data": {
      "text/plain": [
       "'s3://models/21/29f0add02a674b6eb9c5da21e495729e/artifacts'"
      ]
     },
     "execution_count": 28,
     "metadata": {},
     "output_type": "execute_result"
    }
   ],
   "source": [
    "df_runs['artifact_uri'][0]"
   ]
  },
  {
   "cell_type": "code",
   "execution_count": 29,
   "id": "1a0cfef3",
   "metadata": {},
   "outputs": [],
   "source": [
    "model_uri='s3://models/21/29f0add02a674b6eb9c5da21e495729e/artifacts/keras_model_logging_21_mnist-keras-model_mnistkeras'"
   ]
  },
  {
   "cell_type": "code",
   "execution_count": 30,
   "id": "0d132b7b",
   "metadata": {},
   "outputs": [],
   "source": [
    "loaded_model = lm.model_loading(model_uri)"
   ]
  },
  {
   "cell_type": "markdown",
   "id": "c4b04ab8",
   "metadata": {},
   "source": [
    "### Prediction with Loaded model"
   ]
  },
  {
   "cell_type": "code",
   "execution_count": 31,
   "id": "3cbcca1e",
   "metadata": {},
   "outputs": [
    {
     "name": "stdout",
     "output_type": "stream",
     "text": [
      "313/313 [==============================] - 1s 2ms/step\n"
     ]
    },
    {
     "data": {
      "text/plain": [
       "array([[6.27060872e-05, 9.70111046e-07, 3.12100863e-04, ...,\n",
       "        9.98590946e-01, 3.82058788e-05, 1.28434302e-04],\n",
       "       [7.13106536e-04, 2.15316424e-04, 9.87813830e-01, ...,\n",
       "        6.23296215e-09, 3.96948977e-04, 4.49186928e-08],\n",
       "       [4.22985140e-05, 9.79464889e-01, 6.88691530e-03, ...,\n",
       "        3.29923746e-03, 3.15089524e-03, 5.46108349e-04],\n",
       "       ...,\n",
       "       [1.01178415e-07, 9.96495046e-08, 2.85778765e-06, ...,\n",
       "        6.52536255e-05, 1.09955529e-03, 3.01748863e-03],\n",
       "       [8.96370111e-05, 1.14575123e-04, 3.09662164e-06, ...,\n",
       "        6.61108231e-07, 9.51778144e-03, 8.68939514e-06],\n",
       "       [1.39258655e-05, 5.28123989e-09, 8.24687231e-05, ...,\n",
       "        2.97761982e-10, 7.52132564e-07, 3.19122826e-08]], dtype=float32)"
      ]
     },
     "execution_count": 31,
     "metadata": {},
     "output_type": "execute_result"
    }
   ],
   "source": [
    "loaded_model.predict(X_test)"
   ]
  },
  {
   "cell_type": "code",
   "execution_count": null,
   "id": "6244d4c4",
   "metadata": {},
   "outputs": [],
   "source": []
  }
 ],
 "metadata": {
  "kernelspec": {
   "display_name": "Python 3 (ipykernel)",
   "language": "python",
   "name": "python3"
  },
  "kubeflow_notebook": {
   "autosnapshot": false,
   "docker_image": "",
   "experiment": {
    "id": "",
    "name": ""
   },
   "experiment_name": "",
   "katib_run": false,
   "pipeline_description": "",
   "pipeline_name": "",
   "snapshot_volumes": false,
   "steps_defaults": [],
   "volume_access_mode": "rwm",
   "volumes": []
  },
  "language_info": {
   "codemirror_mode": {
    "name": "ipython",
    "version": 3
   },
   "file_extension": ".py",
   "mimetype": "text/x-python",
   "name": "python",
   "nbconvert_exporter": "python",
   "pygments_lexer": "ipython3",
   "version": "3.9.7"
  }
 },
 "nbformat": 4,
 "nbformat_minor": 5
}
