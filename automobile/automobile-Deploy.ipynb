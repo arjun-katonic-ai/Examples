{
 "cells": [
  {
   "cell_type": "markdown",
   "metadata": {
    "tags": []
   },
   "source": [
    "# Automobile Dataset Description\n",
    "\n",
    "#### This dataset consist of data From 1985 Ward's Automotive Yearbook.\n",
    "\n",
    "#### This data set consists of three types of entities: \n",
    " - (a) The specification of an auto in terms of various characteristics\n",
    " - (b) Its assigned insurance risk rating\n",
    " - (c) Its normalized losses in use as compared to other cars. \n",
    "\n",
    "#### The second rating corresponds to the degree to which the auto is more risky than its price indicates. Cars are initially assigned a risk factor symbol associated with its price. Then if it is more risky (or less), this symbol is adjusted by moving it up (or down) the scale. Actuarians call this process \"symboling\". A value of +3 indicates that the auto is risky, -3 that it is probably pretty safe.\n",
    "\n",
    "#### The third factor is the relative averages loss payment per insured vehicle year. This value is normalized for all autos within a particular size classification (two-door small, station wagons, sports/speciality, etc...), and represents the averages loss per car per year.\n",
    "\n",
    "## Importing the Libraries"
   ]
  },
  {
   "cell_type": "code",
   "execution_count": 1,
   "metadata": {
    "tags": [
     "imports"
    ]
   },
   "outputs": [],
   "source": [
    "import numpy as np\n",
    "import pandas as pd\n",
    "import warnings\n",
    "warnings.filterwarnings('ignore')\n",
    "#import seaborn as sns\n",
    "# from matplotlib import pyplot as plt\n",
    "# from matplotlib import style\n",
    "\n",
    "from sklearn import linear_model\n",
    "from sklearn.linear_model import LogisticRegression\n",
    "from sklearn.ensemble import RandomForestClassifier\n",
    "from sklearn.linear_model import Perceptron\n",
    "from sklearn.linear_model import SGDClassifier\n",
    "from sklearn.ensemble import GradientBoostingClassifier\n",
    "from sklearn.tree import DecisionTreeClassifier\n",
    "from sklearn.neighbors import KNeighborsClassifier\n",
    "from sklearn.svm import SVC\n",
    "from sklearn.naive_bayes import GaussianNB\n",
    "from sklearn.preprocessing import LabelEncoder\n",
    "from sklearn.model_selection import train_test_split\n",
    "#from alibi.explainers import AnchorTabular\n",
    "import joblib\n",
    "#from retrieve_minio import *\n",
    "\n",
    "#from numba import jit, cuda\n",
    "\n",
    "from minio import Minio\n",
    "#from minio.error import ResponseError\n",
    "\n",
    "from subprocess import run, Popen, PIPE"
   ]
  },
  {
   "cell_type": "code",
   "execution_count": 2,
   "metadata": {
    "tags": [
     "pipeline-parameters"
    ]
   },
   "outputs": [],
   "source": [
    "MINIO_HOST=\"minio-service.kubeflow:9000\"\n",
    "MINIO_ACCESS_KEY=\"minio\"\n",
    "MINIO_SECRET_KEY=\"minio123\"\n",
    "MINIO_MODEL_BUCKET=\"seldon\"\n",
    "INCOME_MODEL_PATH=\"sklearn/automobile/model\"\n",
    "EXPLAINER_MODEL_PATH=\"sklearn/automobile/explainer\"\n",
    "OUTLIER_MODEL_PATH=\"sklearn/automobile/outlier\"\n",
    "DEPLOY_NAMESPACE=\"kubeflow\""
   ]
  },
  {
   "cell_type": "markdown",
   "metadata": {
    "tags": []
   },
   "source": [
    "## Deploy Model"
   ]
  },
  {
   "cell_type": "code",
   "execution_count": 3,
   "metadata": {
    "tags": [
     "block:create_secret"
    ]
   },
   "outputs": [
    {
     "data": {
      "text/plain": [
       "CompletedProcess(args='cat secret.yaml | kubectl apply -f -', returncode=127)"
      ]
     },
     "execution_count": 3,
     "metadata": {},
     "output_type": "execute_result"
    }
   ],
   "source": [
    "secret = f\"\"\"apiVersion: v1\n",
    "kind: Secret\n",
    "metadata:\n",
    "  name: seldon-init-container-secret\n",
    "  namespace: {DEPLOY_NAMESPACE}\n",
    "type: Opaque\n",
    "stringData:\n",
    "  AWS_ACCESS_KEY_ID: {MINIO_ACCESS_KEY}\n",
    "  AWS_SECRET_ACCESS_KEY: {MINIO_SECRET_KEY}\n",
    "  AWS_ENDPOINT_URL: http://{MINIO_HOST}\n",
    "  USE_SSL: \"false\"\n",
    "\"\"\"\n",
    "with open(\"secret.yaml\",\"w\") as f:\n",
    "    f.write(secret)\n",
    "    \n",
    "run(\"kubectl create namespace seldon\", shell=True)\n",
    "run(\"kubectl label namespace seldon istio-injection=enabled\", shell=True)\n",
    "run(\"cat secret.yaml | kubectl apply -f -\", shell=True)"
   ]
  },
  {
   "cell_type": "code",
   "execution_count": 4,
   "metadata": {
    "tags": [
     "block:create_service",
     "prev:create_secret"
    ]
   },
   "outputs": [
    {
     "data": {
      "text/plain": [
       "CompletedProcess(args='kubectl apply -f sa.yaml', returncode=127)"
      ]
     },
     "execution_count": 4,
     "metadata": {},
     "output_type": "execute_result"
    }
   ],
   "source": [
    "sa = f\"\"\"apiVersion: v1\n",
    "kind: ServiceAccount\n",
    "metadata:\n",
    "  name: minio-sa\n",
    "  namespace: {DEPLOY_NAMESPACE}\n",
    "secrets:\n",
    "  - name: seldon-init-container-secret\n",
    "\"\"\"\n",
    "with open(\"sa.yaml\",\"w\") as f:\n",
    "    f.write(sa)\n",
    "run(\"kubectl apply -f sa.yaml\", shell=True)"
   ]
  },
  {
   "cell_type": "code",
   "execution_count": 5,
   "metadata": {
    "tags": [
     "block:create_seldondeployment",
     "prev:create_service"
    ]
   },
   "outputs": [
    {
     "data": {
      "text/plain": [
       "CompletedProcess(args='kubectl apply -f model.yaml', returncode=127)"
      ]
     },
     "execution_count": 5,
     "metadata": {},
     "output_type": "execute_result"
    }
   ],
   "source": [
    "model_yaml=f\"\"\"apiVersion: machinelearning.seldon.io/v1\n",
    "kind: SeldonDeployment\n",
    "metadata:\n",
    "  name: automobile-classifier\n",
    "  namespace: {DEPLOY_NAMESPACE}\n",
    "spec:\n",
    "  predictors:\n",
    "  -  graph:\n",
    "      implementation: SKLEARN_SERVER\n",
    "      modelUri: s3://{MINIO_MODEL_BUCKET}/{INCOME_MODEL_PATH}\n",
    "      envSecretRefName: seldon-init-container-secret\n",
    "      name: classifier\n",
    "      logger:\n",
    "         mode: all\n",
    "     name: default\n",
    "     replicas: 1\n",
    "\"\"\"\n",
    "with open(\"model.yaml\",\"w\") as f:\n",
    "    f.write(model_yaml)\n",
    "run(\"kubectl apply -f model.yaml\", shell=True)"
   ]
  },
  {
   "cell_type": "markdown",
   "metadata": {
    "tags": []
   },
   "source": [
    "## Model Testing"
   ]
  },
  {
   "cell_type": "code",
   "execution_count": 6,
   "metadata": {
    "tags": [
     "block:test_model",
     "prev:create_seldondeployment"
    ]
   },
   "outputs": [
    {
     "name": "stdout",
     "output_type": "stream",
     "text": [
      "{\"data\":{\"names\":[\"t:0\",\"t:1\",\"t:2\",\"t:3\",\"t:4\",\"t:5\",\"t:6\",\"t:7\",\"t:8\",\"t:9\",\"t:10\",\"t:11\",\"t:12\",\"t:13\",\"t:14\",\"t:15\",\"t:16\",\"t:17\",\"t:18\",\"t:19\",\"t:20\",\"t:21\",\"t:22\",\"t:23\",\"t:24\",\"t:25\",\"t:26\",\"t:27\",\"t:28\",\"t:29\",\"t:30\",\"t:31\",\"t:32\",\"t:33\",\"t:34\",\"t:35\",\"t:36\",\"t:37\",\"t:38\",\"t:39\",\"t:40\",\"t:41\",\"t:42\",\"t:43\",\"t:44\",\"t:45\",\"t:46\",\"t:47\",\"t:48\",\"t:49\",\"t:50\",\"t:51\",\"t:52\",\"t:53\",\"t:54\",\"t:55\",\"t:56\",\"t:57\",\"t:58\",\"t:59\",\"t:60\",\"t:61\",\"t:62\",\"t:63\",\"t:64\",\"t:65\",\"t:66\",\"t:67\",\"t:68\",\"t:69\",\"t:70\",\"t:71\",\"t:72\",\"t:73\",\"t:74\",\"t:75\",\"t:76\",\"t:77\",\"t:78\",\"t:79\",\"t:80\",\"t:81\",\"t:82\",\"t:83\",\"t:84\",\"t:85\",\"t:86\",\"t:87\",\"t:88\",\"t:89\",\"t:90\",\"t:91\",\"t:92\",\"t:93\",\"t:94\",\"t:95\",\"t:96\",\"t:97\",\"t:98\",\"t:99\",\"t:100\",\"t:101\",\"t:102\",\"t:103\",\"t:104\",\"t:105\",\"t:106\",\"t:107\",\"t:108\",\"t:109\",\"t:110\",\"t:111\",\"t:112\",\"t:113\",\"t:114\",\"t:115\",\"t:116\",\"t:117\",\"t:118\",\"t:119\",\"t:120\",\"t:121\",\"t:122\",\"t:123\",\"t:124\",\"t:125\",\"t:126\",\"t:127\",\"t:128\",\"t:129\",\"t:130\",\"t:131\",\"t:132\",\"t:133\"],\"ndarray\":[[0.0,0.0,0.0,0.0,0.0,0.0,0.0,0.0,0.0,0.0,0.0,0.0,0.0,0.0,0.0,0.0,0.0,0.0,0.0,0.0,0.0,0.0,0.0,0.0,0.0,0.0,0.0,0.0,0.0,0.0,0.0,0.0,0.0,0.0,0.0,0.0,0.0,0.0,0.0,0.0,0.0,0.0,0.0,0.0,0.0,0.0,0.0,0.0,0.0,1.0,0.0,0.0,0.0,0.0,0.0,0.0,0.0,0.0,0.0,0.0,0.0,0.0,0.0,0.0,0.0,0.0,0.0,0.0,0.0,0.0,0.0,0.0,0.0,0.0,0.0,0.0,0.0,0.0,0.0,0.0,0.0,0.0,0.0,0.0,0.0,0.0,0.0,0.0,0.0,0.0,0.0,0.0,0.0,0.0,0.0,0.0,0.0,0.0,0.0,0.0,0.0,0.0,0.0,0.0,0.0,0.0,0.0,0.0,0.0,0.0,0.0,0.0,0.0,0.0,0.0,0.0,0.0,0.0,0.0,0.0,0.0,0.0,0.0,0.0,0.0,0.0,0.0,0.0,0.0,0.0,0.0,0.0,0.0,0.0]]},\"meta\":{\"requestPath\":{\"classifier\":\"seldonio/sklearnserver:1.7.0\"}}}\n",
      "\n"
     ]
    }
   ],
   "source": [
    "payload='{\"data\": {\"ndarray\": [[0,188,2,1,0,2,3,2,0,101,176,64,54,2710,3,3,164,5,3,3,9,121,4250,21,28]]}}'\n",
    "cmd=f\"\"\"curl -d '{payload}' \\\n",
    "   http://automobile-classifier-default.{DEPLOY_NAMESPACE}:8000/api/v1.0/predictions \\\n",
    "   -H \"Content-Type: application/json\"\n",
    "\"\"\"\n",
    "ret = Popen(cmd, shell=True,stdout=PIPE)\n",
    "raw = ret.stdout.read().decode(\"utf-8\")\n",
    "print(raw)"
   ]
  },
  {
   "cell_type": "code",
   "execution_count": 7,
   "metadata": {
    "tags": [
     "block:"
    ]
   },
   "outputs": [
    {
     "name": "stdout",
     "output_type": "stream",
     "text": [
      "{\"data\":{\"names\":[\"t:0\",\"t:1\",\"t:2\",\"t:3\",\"t:4\",\"t:5\",\"t:6\",\"t:7\",\"t:8\",\"t:9\",\"t:10\",\"t:11\",\"t:12\",\"t:13\",\"t:14\",\"t:15\",\"t:16\",\"t:17\",\"t:18\",\"t:19\",\"t:20\",\"t:21\",\"t:22\",\"t:23\",\"t:24\",\"t:25\",\"t:26\",\"t:27\",\"t:28\",\"t:29\",\"t:30\",\"t:31\",\"t:32\",\"t:33\",\"t:34\",\"t:35\",\"t:36\",\"t:37\",\"t:38\",\"t:39\",\"t:40\",\"t:41\",\"t:42\",\"t:43\",\"t:44\",\"t:45\",\"t:46\",\"t:47\",\"t:48\",\"t:49\",\"t:50\",\"t:51\",\"t:52\",\"t:53\",\"t:54\",\"t:55\",\"t:56\",\"t:57\",\"t:58\",\"t:59\",\"t:60\",\"t:61\",\"t:62\",\"t:63\",\"t:64\",\"t:65\",\"t:66\",\"t:67\",\"t:68\",\"t:69\",\"t:70\",\"t:71\",\"t:72\",\"t:73\",\"t:74\",\"t:75\",\"t:76\",\"t:77\",\"t:78\",\"t:79\",\"t:80\",\"t:81\",\"t:82\",\"t:83\",\"t:84\",\"t:85\",\"t:86\",\"t:87\",\"t:88\",\"t:89\",\"t:90\",\"t:91\",\"t:92\",\"t:93\",\"t:94\",\"t:95\",\"t:96\",\"t:97\",\"t:98\",\"t:99\",\"t:100\",\"t:101\",\"t:102\",\"t:103\",\"t:104\",\"t:105\",\"t:106\",\"t:107\",\"t:108\",\"t:109\",\"t:110\",\"t:111\",\"t:112\",\"t:113\",\"t:114\",\"t:115\",\"t:116\",\"t:117\",\"t:118\",\"t:119\",\"t:120\",\"t:121\",\"t:122\",\"t:123\",\"t:124\",\"t:125\",\"t:126\",\"t:127\",\"t:128\",\"t:129\",\"t:130\",\"t:131\",\"t:132\",\"t:133\"],\"ndarray\":[[0.0,0.0,0.0,0.0,0.0,0.0,0.0,0.0,0.0,0.0,0.0,0.0,0.0,0.0,0.0,0.0,0.0,0.0,0.0,0.0,0.0,0.0,0.0,0.0,0.0,0.0,0.0,0.0,0.0,0.0,0.0,0.0,0.0,0.0,0.0,0.0,0.0,0.0,0.0,0.0,0.0,0.0,0.0,0.0,0.0,0.0,0.0,0.0,0.0,1.0,0.0,0.0,0.0,0.0,0.0,0.0,0.0,0.0,0.0,0.0,0.0,0.0,0.0,0.0,0.0,0.0,0.0,0.0,0.0,0.0,0.0,0.0,0.0,0.0,0.0,0.0,0.0,0.0,0.0,0.0,0.0,0.0,0.0,0.0,0.0,0.0,0.0,0.0,0.0,0.0,0.0,0.0,0.0,0.0,0.0,0.0,0.0,0.0,0.0,0.0,0.0,0.0,0.0,0.0,0.0,0.0,0.0,0.0,0.0,0.0,0.0,0.0,0.0,0.0,0.0,0.0,0.0,0.0,0.0,0.0,0.0,0.0,0.0,0.0,0.0,0.0,0.0,0.0,0.0,0.0,0.0,0.0,0.0,0.0]]},\"meta\":{\"requestPath\":{\"classifier\":\"seldonio/sklearnserver:1.7.0\"}}}\n",
      "\n"
     ]
    }
   ],
   "source": [
    "payload='{\"data\": {\"ndarray\": [[0,188,2,1,0,2,3,2,0,101,176,64,54,2710,3,3,164,5,3,3,9,121,4250,21,28]]}}'\n",
    "cmd=f\"\"\"curl -d '{payload}' \\\n",
    "   http://20.195.98.34/seldon/{DEPLOY_NAMESPACE}/automobile-classifier/api/v0.1/predictions \\\n",
    "   -H \"Content-Type: application/json\"\n",
    "\"\"\"\n",
    "ret = Popen(cmd, shell=True,stdout=PIPE)\n",
    "raw = ret.stdout.read().decode(\"utf-8\")\n",
    "print(raw)"
   ]
  },
  {
   "cell_type": "code",
   "execution_count": null,
   "metadata": {
    "tags": [
     "skip"
    ]
   },
   "outputs": [],
   "source": []
  }
 ],
 "metadata": {
  "kernelspec": {
   "display_name": "Python 3",
   "language": "python",
   "name": "python3"
  },
  "kubeflow_notebook": {
   "autosnapshot": false,
   "docker_image": "subhraj07/seldon-test:0.1",
   "experiment": {
    "id": "new",
    "name": "iris"
   },
   "experiment_name": "iris",
   "katib_metadata": {
    "algorithm": {
     "algorithmName": "grid"
    },
    "maxFailedTrialCount": 3,
    "maxTrialCount": 12,
    "objective": {
     "objectiveMetricName": "",
     "type": "minimize"
    },
    "parallelTrialCount": 3,
    "parameters": []
   },
   "katib_run": false,
   "pipeline_description": "pipe-iris-demo",
   "pipeline_name": "pipe-iris",
   "snapshot_volumes": false,
   "steps_defaults": [],
   "volume_access_mode": "rwo",
   "volumes": []
  },
  "language_info": {
   "codemirror_mode": {
    "name": "ipython",
    "version": 3
   },
   "file_extension": ".py",
   "mimetype": "text/x-python",
   "name": "python",
   "nbconvert_exporter": "python",
   "pygments_lexer": "ipython3",
   "version": "3.7.9"
  }
 },
 "nbformat": 4,
 "nbformat_minor": 4
}
