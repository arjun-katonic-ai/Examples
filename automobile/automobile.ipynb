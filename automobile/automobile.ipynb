{
 "cells": [
  {
   "cell_type": "markdown",
   "metadata": {
    "tags": []
   },
   "source": [
    "# Automobile Dataset Description\n",
    "\n",
    "#### This dataset consist of data From 1985 Ward's Automotive Yearbook.\n",
    "\n",
    "#### This data set consists of three types of entities: \n",
    " - (a) The specification of an auto in terms of various characteristics\n",
    " - (b) Its assigned insurance risk rating\n",
    " - (c) Its normalized losses in use as compared to other cars. \n",
    "\n",
    "#### The second rating corresponds to the degree to which the auto is more risky than its price indicates. Cars are initially assigned a risk factor symbol associated with its price. Then if it is more risky (or less), this symbol is adjusted by moving it up (or down) the scale. Actuarians call this process \"symboling\". A value of +3 indicates that the auto is risky, -3 that it is probably pretty safe.\n",
    "\n",
    "#### The third factor is the relative averages loss payment per insured vehicle year. This value is normalized for all autos within a particular size classification (two-door small, station wagons, sports/speciality, etc...), and represents the averages loss per car per year.\n",
    "\n",
    "## Importing the Libraries"
   ]
  },
  {
   "cell_type": "code",
   "execution_count": 1,
   "metadata": {
    "tags": [
     "imports"
    ]
   },
   "outputs": [],
   "source": [
    "import numpy as np\n",
    "import pandas as pd\n",
    "import warnings\n",
    "warnings.filterwarnings('ignore')\n",
    "import seaborn as sns\n",
    "from matplotlib import pyplot as plt\n",
    "from matplotlib import style\n",
    "from sklearn import linear_model\n",
    "from sklearn.linear_model import LogisticRegression\n",
    "from sklearn.ensemble import RandomForestClassifier\n",
    "from sklearn.linear_model import Perceptron\n",
    "from sklearn.linear_model import SGDClassifier\n",
    "from sklearn.ensemble import GradientBoostingClassifier\n",
    "from sklearn.tree import DecisionTreeClassifier\n",
    "from sklearn.neighbors import KNeighborsClassifier\n",
    "from sklearn.svm import SVC\n",
    "from sklearn.naive_bayes import GaussianNB\n",
    "from sklearn.preprocessing import LabelEncoder\n",
    "from sklearn.model_selection import train_test_split\n",
    "import joblib\n",
    "from pyspark.sql import SparkSession\n",
    "import uuid\n",
    "import os\n",
    "import shutil\n",
    "import pickle\n",
    "from datetime import datetime\n",
    "from subprocess import run, Popen, PIPE\n",
    "from pyspark import SparkContext, SparkConf\n",
    "from pyspark.sql import DataFrame, SparkSession, Window\n",
    "from pyspark.sql.functions import col, expr, monotonically_increasing_id, row_number,current_timestamp\n",
    "from typing import  List"
   ]
  },
  {
   "cell_type": "markdown",
   "metadata": {
    "tags": []
   },
   "source": [
    "## Loading the Dataset from Azure"
   ]
  },
  {
   "cell_type": "code",
   "execution_count": 2,
   "metadata": {
    "tags": [
     "block:load_data"
    ]
   },
   "outputs": [
    {
     "data": {
      "text/html": [
       "<div>\n",
       "<style scoped>\n",
       "    .dataframe tbody tr th:only-of-type {\n",
       "        vertical-align: middle;\n",
       "    }\n",
       "\n",
       "    .dataframe tbody tr th {\n",
       "        vertical-align: top;\n",
       "    }\n",
       "\n",
       "    .dataframe thead th {\n",
       "        text-align: right;\n",
       "    }\n",
       "</style>\n",
       "<table border=\"1\" class=\"dataframe\">\n",
       "  <thead>\n",
       "    <tr style=\"text-align: right;\">\n",
       "      <th></th>\n",
       "      <th>symboling</th>\n",
       "      <th>normalized-losses</th>\n",
       "      <th>make</th>\n",
       "      <th>fuel-type</th>\n",
       "      <th>aspiration</th>\n",
       "      <th>num-of-doors</th>\n",
       "      <th>body-style</th>\n",
       "      <th>drive-wheels</th>\n",
       "      <th>engine-location</th>\n",
       "      <th>wheel-base</th>\n",
       "      <th>...</th>\n",
       "      <th>engine-size</th>\n",
       "      <th>fuel-system</th>\n",
       "      <th>bore</th>\n",
       "      <th>stroke</th>\n",
       "      <th>compression-ratio</th>\n",
       "      <th>horsepower</th>\n",
       "      <th>peak-rpm</th>\n",
       "      <th>city-mpg</th>\n",
       "      <th>highway-mpg</th>\n",
       "      <th>price</th>\n",
       "    </tr>\n",
       "  </thead>\n",
       "  <tbody>\n",
       "    <tr>\n",
       "      <th>0</th>\n",
       "      <td>3</td>\n",
       "      <td>?</td>\n",
       "      <td>alfa-romero</td>\n",
       "      <td>gas</td>\n",
       "      <td>std</td>\n",
       "      <td>two</td>\n",
       "      <td>convertible</td>\n",
       "      <td>rwd</td>\n",
       "      <td>front</td>\n",
       "      <td>88.6</td>\n",
       "      <td>...</td>\n",
       "      <td>130</td>\n",
       "      <td>mpfi</td>\n",
       "      <td>3.47</td>\n",
       "      <td>2.68</td>\n",
       "      <td>9.0</td>\n",
       "      <td>111</td>\n",
       "      <td>5000</td>\n",
       "      <td>21</td>\n",
       "      <td>27</td>\n",
       "      <td>13495</td>\n",
       "    </tr>\n",
       "    <tr>\n",
       "      <th>1</th>\n",
       "      <td>3</td>\n",
       "      <td>?</td>\n",
       "      <td>alfa-romero</td>\n",
       "      <td>gas</td>\n",
       "      <td>std</td>\n",
       "      <td>two</td>\n",
       "      <td>convertible</td>\n",
       "      <td>rwd</td>\n",
       "      <td>front</td>\n",
       "      <td>88.6</td>\n",
       "      <td>...</td>\n",
       "      <td>130</td>\n",
       "      <td>mpfi</td>\n",
       "      <td>3.47</td>\n",
       "      <td>2.68</td>\n",
       "      <td>9.0</td>\n",
       "      <td>111</td>\n",
       "      <td>5000</td>\n",
       "      <td>21</td>\n",
       "      <td>27</td>\n",
       "      <td>16500</td>\n",
       "    </tr>\n",
       "    <tr>\n",
       "      <th>2</th>\n",
       "      <td>1</td>\n",
       "      <td>?</td>\n",
       "      <td>alfa-romero</td>\n",
       "      <td>gas</td>\n",
       "      <td>std</td>\n",
       "      <td>two</td>\n",
       "      <td>hatchback</td>\n",
       "      <td>rwd</td>\n",
       "      <td>front</td>\n",
       "      <td>94.5</td>\n",
       "      <td>...</td>\n",
       "      <td>152</td>\n",
       "      <td>mpfi</td>\n",
       "      <td>2.68</td>\n",
       "      <td>3.47</td>\n",
       "      <td>9.0</td>\n",
       "      <td>154</td>\n",
       "      <td>5000</td>\n",
       "      <td>19</td>\n",
       "      <td>26</td>\n",
       "      <td>16500</td>\n",
       "    </tr>\n",
       "    <tr>\n",
       "      <th>3</th>\n",
       "      <td>2</td>\n",
       "      <td>164</td>\n",
       "      <td>audi</td>\n",
       "      <td>gas</td>\n",
       "      <td>std</td>\n",
       "      <td>four</td>\n",
       "      <td>sedan</td>\n",
       "      <td>fwd</td>\n",
       "      <td>front</td>\n",
       "      <td>99.8</td>\n",
       "      <td>...</td>\n",
       "      <td>109</td>\n",
       "      <td>mpfi</td>\n",
       "      <td>3.19</td>\n",
       "      <td>3.4</td>\n",
       "      <td>10.0</td>\n",
       "      <td>102</td>\n",
       "      <td>5500</td>\n",
       "      <td>24</td>\n",
       "      <td>30</td>\n",
       "      <td>13950</td>\n",
       "    </tr>\n",
       "    <tr>\n",
       "      <th>4</th>\n",
       "      <td>2</td>\n",
       "      <td>164</td>\n",
       "      <td>audi</td>\n",
       "      <td>gas</td>\n",
       "      <td>std</td>\n",
       "      <td>four</td>\n",
       "      <td>sedan</td>\n",
       "      <td>4wd</td>\n",
       "      <td>front</td>\n",
       "      <td>99.4</td>\n",
       "      <td>...</td>\n",
       "      <td>136</td>\n",
       "      <td>mpfi</td>\n",
       "      <td>3.19</td>\n",
       "      <td>3.4</td>\n",
       "      <td>8.0</td>\n",
       "      <td>115</td>\n",
       "      <td>5500</td>\n",
       "      <td>18</td>\n",
       "      <td>22</td>\n",
       "      <td>17450</td>\n",
       "    </tr>\n",
       "  </tbody>\n",
       "</table>\n",
       "<p>5 rows × 26 columns</p>\n",
       "</div>"
      ],
      "text/plain": [
       "   symboling normalized-losses         make fuel-type aspiration num-of-doors  \\\n",
       "0          3                 ?  alfa-romero       gas        std          two   \n",
       "1          3                 ?  alfa-romero       gas        std          two   \n",
       "2          1                 ?  alfa-romero       gas        std          two   \n",
       "3          2               164         audi       gas        std         four   \n",
       "4          2               164         audi       gas        std         four   \n",
       "\n",
       "    body-style drive-wheels engine-location  wheel-base  ...  engine-size  \\\n",
       "0  convertible          rwd           front        88.6  ...          130   \n",
       "1  convertible          rwd           front        88.6  ...          130   \n",
       "2    hatchback          rwd           front        94.5  ...          152   \n",
       "3        sedan          fwd           front        99.8  ...          109   \n",
       "4        sedan          4wd           front        99.4  ...          136   \n",
       "\n",
       "   fuel-system  bore  stroke compression-ratio horsepower  peak-rpm city-mpg  \\\n",
       "0         mpfi  3.47    2.68               9.0        111      5000       21   \n",
       "1         mpfi  3.47    2.68               9.0        111      5000       21   \n",
       "2         mpfi  2.68    3.47               9.0        154      5000       19   \n",
       "3         mpfi  3.19     3.4              10.0        102      5500       24   \n",
       "4         mpfi  3.19     3.4               8.0        115      5500       18   \n",
       "\n",
       "  highway-mpg  price  \n",
       "0          27  13495  \n",
       "1          27  16500  \n",
       "2          26  16500  \n",
       "3          30  13950  \n",
       "4          22  17450  \n",
       "\n",
       "[5 rows x 26 columns]"
      ]
     },
     "execution_count": 2,
     "metadata": {},
     "output_type": "execute_result"
    }
   ],
   "source": [
    "automobile = pd.read_csv(\"https://raw.githubusercontent.com/katonic-dev/Examples/master/data/automobile_data.csv\")\n",
    "automobile.head()"
   ]
  },
  {
   "cell_type": "code",
   "execution_count": 3,
   "metadata": {
    "tags": [
     "skip"
    ]
   },
   "outputs": [
    {
     "data": {
      "text/plain": [
       "symboling              int64\n",
       "normalized-losses     object\n",
       "make                  object\n",
       "fuel-type             object\n",
       "aspiration            object\n",
       "num-of-doors          object\n",
       "body-style            object\n",
       "drive-wheels          object\n",
       "engine-location       object\n",
       "wheel-base           float64\n",
       "length               float64\n",
       "width                float64\n",
       "height               float64\n",
       "curb-weight            int64\n",
       "engine-type           object\n",
       "num-of-cylinders      object\n",
       "engine-size            int64\n",
       "fuel-system           object\n",
       "bore                  object\n",
       "stroke                object\n",
       "compression-ratio    float64\n",
       "horsepower            object\n",
       "peak-rpm              object\n",
       "city-mpg               int64\n",
       "highway-mpg            int64\n",
       "price                 object\n",
       "dtype: object"
      ]
     },
     "execution_count": 3,
     "metadata": {},
     "output_type": "execute_result"
    }
   ],
   "source": [
    "automobile.dtypes"
   ]
  },
  {
   "cell_type": "code",
   "execution_count": 4,
   "metadata": {
    "tags": [
     "skip"
    ]
   },
   "outputs": [
    {
     "data": {
      "text/plain": [
       "Index(['symboling', 'normalized-losses', 'make', 'fuel-type', 'aspiration',\n",
       "       'num-of-doors', 'body-style', 'drive-wheels', 'engine-location',\n",
       "       'wheel-base', 'length', 'width', 'height', 'curb-weight', 'engine-type',\n",
       "       'num-of-cylinders', 'engine-size', 'fuel-system', 'bore', 'stroke',\n",
       "       'compression-ratio', 'horsepower', 'peak-rpm', 'city-mpg',\n",
       "       'highway-mpg', 'price'],\n",
       "      dtype='object')"
      ]
     },
     "execution_count": 4,
     "metadata": {},
     "output_type": "execute_result"
    }
   ],
   "source": [
    "automobile.keys()"
   ]
  },
  {
   "cell_type": "markdown",
   "metadata": {
    "tags": []
   },
   "source": [
    "##### Shape of the data set"
   ]
  },
  {
   "cell_type": "code",
   "execution_count": 5,
   "metadata": {
    "tags": [
     "skip"
    ]
   },
   "outputs": [
    {
     "name": "stdout",
     "output_type": "stream",
     "text": [
      "(205, 26)\n"
     ]
    }
   ],
   "source": [
    "print(automobile.shape)"
   ]
  },
  {
   "cell_type": "markdown",
   "metadata": {
    "tags": []
   },
   "source": [
    "##### Describe the stats about the data"
   ]
  },
  {
   "cell_type": "code",
   "execution_count": 6,
   "metadata": {
    "tags": [
     "skip"
    ]
   },
   "outputs": [
    {
     "data": {
      "text/html": [
       "<div>\n",
       "<style scoped>\n",
       "    .dataframe tbody tr th:only-of-type {\n",
       "        vertical-align: middle;\n",
       "    }\n",
       "\n",
       "    .dataframe tbody tr th {\n",
       "        vertical-align: top;\n",
       "    }\n",
       "\n",
       "    .dataframe thead th {\n",
       "        text-align: right;\n",
       "    }\n",
       "</style>\n",
       "<table border=\"1\" class=\"dataframe\">\n",
       "  <thead>\n",
       "    <tr style=\"text-align: right;\">\n",
       "      <th></th>\n",
       "      <th>symboling</th>\n",
       "      <th>wheel-base</th>\n",
       "      <th>length</th>\n",
       "      <th>width</th>\n",
       "      <th>height</th>\n",
       "      <th>curb-weight</th>\n",
       "      <th>engine-size</th>\n",
       "      <th>compression-ratio</th>\n",
       "      <th>city-mpg</th>\n",
       "      <th>highway-mpg</th>\n",
       "    </tr>\n",
       "  </thead>\n",
       "  <tbody>\n",
       "    <tr>\n",
       "      <th>count</th>\n",
       "      <td>205.000000</td>\n",
       "      <td>205.000000</td>\n",
       "      <td>205.000000</td>\n",
       "      <td>205.000000</td>\n",
       "      <td>205.000000</td>\n",
       "      <td>205.000000</td>\n",
       "      <td>205.000000</td>\n",
       "      <td>205.000000</td>\n",
       "      <td>205.000000</td>\n",
       "      <td>205.000000</td>\n",
       "    </tr>\n",
       "    <tr>\n",
       "      <th>mean</th>\n",
       "      <td>0.834146</td>\n",
       "      <td>98.756585</td>\n",
       "      <td>174.049268</td>\n",
       "      <td>65.907805</td>\n",
       "      <td>53.724878</td>\n",
       "      <td>2555.565854</td>\n",
       "      <td>126.907317</td>\n",
       "      <td>10.142537</td>\n",
       "      <td>25.219512</td>\n",
       "      <td>30.751220</td>\n",
       "    </tr>\n",
       "    <tr>\n",
       "      <th>std</th>\n",
       "      <td>1.245307</td>\n",
       "      <td>6.021776</td>\n",
       "      <td>12.337289</td>\n",
       "      <td>2.145204</td>\n",
       "      <td>2.443522</td>\n",
       "      <td>520.680204</td>\n",
       "      <td>41.642693</td>\n",
       "      <td>3.972040</td>\n",
       "      <td>6.542142</td>\n",
       "      <td>6.886443</td>\n",
       "    </tr>\n",
       "    <tr>\n",
       "      <th>min</th>\n",
       "      <td>-2.000000</td>\n",
       "      <td>86.600000</td>\n",
       "      <td>141.100000</td>\n",
       "      <td>60.300000</td>\n",
       "      <td>47.800000</td>\n",
       "      <td>1488.000000</td>\n",
       "      <td>61.000000</td>\n",
       "      <td>7.000000</td>\n",
       "      <td>13.000000</td>\n",
       "      <td>16.000000</td>\n",
       "    </tr>\n",
       "    <tr>\n",
       "      <th>25%</th>\n",
       "      <td>0.000000</td>\n",
       "      <td>94.500000</td>\n",
       "      <td>166.300000</td>\n",
       "      <td>64.100000</td>\n",
       "      <td>52.000000</td>\n",
       "      <td>2145.000000</td>\n",
       "      <td>97.000000</td>\n",
       "      <td>8.600000</td>\n",
       "      <td>19.000000</td>\n",
       "      <td>25.000000</td>\n",
       "    </tr>\n",
       "    <tr>\n",
       "      <th>50%</th>\n",
       "      <td>1.000000</td>\n",
       "      <td>97.000000</td>\n",
       "      <td>173.200000</td>\n",
       "      <td>65.500000</td>\n",
       "      <td>54.100000</td>\n",
       "      <td>2414.000000</td>\n",
       "      <td>120.000000</td>\n",
       "      <td>9.000000</td>\n",
       "      <td>24.000000</td>\n",
       "      <td>30.000000</td>\n",
       "    </tr>\n",
       "    <tr>\n",
       "      <th>75%</th>\n",
       "      <td>2.000000</td>\n",
       "      <td>102.400000</td>\n",
       "      <td>183.100000</td>\n",
       "      <td>66.900000</td>\n",
       "      <td>55.500000</td>\n",
       "      <td>2935.000000</td>\n",
       "      <td>141.000000</td>\n",
       "      <td>9.400000</td>\n",
       "      <td>30.000000</td>\n",
       "      <td>34.000000</td>\n",
       "    </tr>\n",
       "    <tr>\n",
       "      <th>max</th>\n",
       "      <td>3.000000</td>\n",
       "      <td>120.900000</td>\n",
       "      <td>208.100000</td>\n",
       "      <td>72.300000</td>\n",
       "      <td>59.800000</td>\n",
       "      <td>4066.000000</td>\n",
       "      <td>326.000000</td>\n",
       "      <td>23.000000</td>\n",
       "      <td>49.000000</td>\n",
       "      <td>54.000000</td>\n",
       "    </tr>\n",
       "  </tbody>\n",
       "</table>\n",
       "</div>"
      ],
      "text/plain": [
       "        symboling  wheel-base      length       width      height  \\\n",
       "count  205.000000  205.000000  205.000000  205.000000  205.000000   \n",
       "mean     0.834146   98.756585  174.049268   65.907805   53.724878   \n",
       "std      1.245307    6.021776   12.337289    2.145204    2.443522   \n",
       "min     -2.000000   86.600000  141.100000   60.300000   47.800000   \n",
       "25%      0.000000   94.500000  166.300000   64.100000   52.000000   \n",
       "50%      1.000000   97.000000  173.200000   65.500000   54.100000   \n",
       "75%      2.000000  102.400000  183.100000   66.900000   55.500000   \n",
       "max      3.000000  120.900000  208.100000   72.300000   59.800000   \n",
       "\n",
       "       curb-weight  engine-size  compression-ratio    city-mpg  highway-mpg  \n",
       "count   205.000000   205.000000         205.000000  205.000000   205.000000  \n",
       "mean   2555.565854   126.907317          10.142537   25.219512    30.751220  \n",
       "std     520.680204    41.642693           3.972040    6.542142     6.886443  \n",
       "min    1488.000000    61.000000           7.000000   13.000000    16.000000  \n",
       "25%    2145.000000    97.000000           8.600000   19.000000    25.000000  \n",
       "50%    2414.000000   120.000000           9.000000   24.000000    30.000000  \n",
       "75%    2935.000000   141.000000           9.400000   30.000000    34.000000  \n",
       "max    4066.000000   326.000000          23.000000   49.000000    54.000000  "
      ]
     },
     "execution_count": 6,
     "metadata": {},
     "output_type": "execute_result"
    }
   ],
   "source": [
    "automobile.describe()"
   ]
  },
  {
   "cell_type": "markdown",
   "metadata": {
    "tags": []
   },
   "source": [
    "##### Checking for the null values"
   ]
  },
  {
   "cell_type": "code",
   "execution_count": 7,
   "metadata": {
    "tags": [
     "block:data_preprocessing",
     "prev:load_data"
    ]
   },
   "outputs": [
    {
     "data": {
      "text/html": [
       "<div>\n",
       "<style scoped>\n",
       "    .dataframe tbody tr th:only-of-type {\n",
       "        vertical-align: middle;\n",
       "    }\n",
       "\n",
       "    .dataframe tbody tr th {\n",
       "        vertical-align: top;\n",
       "    }\n",
       "\n",
       "    .dataframe thead th {\n",
       "        text-align: right;\n",
       "    }\n",
       "</style>\n",
       "<table border=\"1\" class=\"dataframe\">\n",
       "  <thead>\n",
       "    <tr style=\"text-align: right;\">\n",
       "      <th></th>\n",
       "      <th>total</th>\n",
       "      <th>percent</th>\n",
       "    </tr>\n",
       "  </thead>\n",
       "  <tbody>\n",
       "    <tr>\n",
       "      <th>symboling</th>\n",
       "      <td>0</td>\n",
       "      <td>0.0</td>\n",
       "    </tr>\n",
       "    <tr>\n",
       "      <th>normalized-losses</th>\n",
       "      <td>0</td>\n",
       "      <td>0.0</td>\n",
       "    </tr>\n",
       "    <tr>\n",
       "      <th>highway-mpg</th>\n",
       "      <td>0</td>\n",
       "      <td>0.0</td>\n",
       "    </tr>\n",
       "    <tr>\n",
       "      <th>city-mpg</th>\n",
       "      <td>0</td>\n",
       "      <td>0.0</td>\n",
       "    </tr>\n",
       "    <tr>\n",
       "      <th>peak-rpm</th>\n",
       "      <td>0</td>\n",
       "      <td>0.0</td>\n",
       "    </tr>\n",
       "    <tr>\n",
       "      <th>horsepower</th>\n",
       "      <td>0</td>\n",
       "      <td>0.0</td>\n",
       "    </tr>\n",
       "    <tr>\n",
       "      <th>compression-ratio</th>\n",
       "      <td>0</td>\n",
       "      <td>0.0</td>\n",
       "    </tr>\n",
       "    <tr>\n",
       "      <th>stroke</th>\n",
       "      <td>0</td>\n",
       "      <td>0.0</td>\n",
       "    </tr>\n",
       "    <tr>\n",
       "      <th>bore</th>\n",
       "      <td>0</td>\n",
       "      <td>0.0</td>\n",
       "    </tr>\n",
       "    <tr>\n",
       "      <th>fuel-system</th>\n",
       "      <td>0</td>\n",
       "      <td>0.0</td>\n",
       "    </tr>\n",
       "  </tbody>\n",
       "</table>\n",
       "</div>"
      ],
      "text/plain": [
       "                   total  percent\n",
       "symboling              0      0.0\n",
       "normalized-losses      0      0.0\n",
       "highway-mpg            0      0.0\n",
       "city-mpg               0      0.0\n",
       "peak-rpm               0      0.0\n",
       "horsepower             0      0.0\n",
       "compression-ratio      0      0.0\n",
       "stroke                 0      0.0\n",
       "bore                   0      0.0\n",
       "fuel-system            0      0.0"
      ]
     },
     "execution_count": 7,
     "metadata": {},
     "output_type": "execute_result"
    }
   ],
   "source": [
    "# Number of missing in each column\n",
    "missing = pd.DataFrame(automobile.isnull().sum()).rename(columns = {0: 'total'})\n",
    "\n",
    "# Create a percentage missing\n",
    "missing['percent'] = missing['total'] / len(automobile)\n",
    "\n",
    "missing.sort_values('percent', ascending = False).head(10)"
   ]
  },
  {
   "cell_type": "code",
   "execution_count": 8,
   "metadata": {
    "tags": []
   },
   "outputs": [
    {
     "data": {
      "text/plain": [
       "symboling            0\n",
       "normalized-losses    0\n",
       "make                 0\n",
       "fuel-type            0\n",
       "aspiration           0\n",
       "num-of-doors         0\n",
       "body-style           0\n",
       "drive-wheels         0\n",
       "engine-location      0\n",
       "wheel-base           0\n",
       "length               0\n",
       "width                0\n",
       "height               0\n",
       "curb-weight          0\n",
       "engine-type          0\n",
       "num-of-cylinders     0\n",
       "engine-size          0\n",
       "fuel-system          0\n",
       "bore                 0\n",
       "stroke               0\n",
       "compression-ratio    0\n",
       "horsepower           0\n",
       "peak-rpm             0\n",
       "city-mpg             0\n",
       "highway-mpg          0\n",
       "price                0\n",
       "dtype: int64"
      ]
     },
     "execution_count": 8,
     "metadata": {},
     "output_type": "execute_result"
    }
   ],
   "source": [
    "automobile.isnull().sum()"
   ]
  },
  {
   "cell_type": "markdown",
   "metadata": {
    "tags": []
   },
   "source": [
    "##### Find out number of records having '?' value for normalized losses"
   ]
  },
  {
   "cell_type": "code",
   "execution_count": 9,
   "metadata": {
    "tags": []
   },
   "outputs": [
    {
     "data": {
      "text/plain": [
       "41"
      ]
     },
     "execution_count": 9,
     "metadata": {},
     "output_type": "execute_result"
    }
   ],
   "source": [
    "automobile['normalized-losses'].loc[automobile['normalized-losses'] == '?'].count()"
   ]
  },
  {
   "cell_type": "markdown",
   "metadata": {
    "tags": []
   },
   "source": [
    "##### Setting the missing value to mean of normalized losses and conver the datatype to integer\n"
   ]
  },
  {
   "cell_type": "code",
   "execution_count": 10,
   "metadata": {
    "tags": []
   },
   "outputs": [
    {
     "data": {
      "text/plain": [
       "0    122\n",
       "1    122\n",
       "2    122\n",
       "3    164\n",
       "4    164\n",
       "Name: normalized-losses, dtype: int64"
      ]
     },
     "execution_count": 10,
     "metadata": {},
     "output_type": "execute_result"
    }
   ],
   "source": [
    "nl = automobile['normalized-losses'].loc[automobile['normalized-losses'] != '?']\n",
    "nlmean = nl.astype(str).astype(int).mean()\n",
    "automobile['normalized-losses'] = automobile['normalized-losses'].replace('?',nlmean).astype(int)\n",
    "automobile['normalized-losses'].head()"
   ]
  },
  {
   "cell_type": "markdown",
   "metadata": {
    "tags": []
   },
   "source": [
    "##### Find out the number of values which are not numeric\n"
   ]
  },
  {
   "cell_type": "code",
   "execution_count": 11,
   "metadata": {
    "tags": [
     "skip"
    ]
   },
   "outputs": [
    {
     "data": {
      "text/plain": [
       "True     201\n",
       "False      4\n",
       "Name: price, dtype: int64"
      ]
     },
     "execution_count": 11,
     "metadata": {},
     "output_type": "execute_result"
    }
   ],
   "source": [
    "automobile['price'].str.isnumeric().value_counts()"
   ]
  },
  {
   "cell_type": "markdown",
   "metadata": {
    "tags": []
   },
   "source": [
    "##### List out the values which are not numeric\n"
   ]
  },
  {
   "cell_type": "code",
   "execution_count": 12,
   "metadata": {
    "tags": [
     "skip"
    ]
   },
   "outputs": [
    {
     "data": {
      "text/plain": [
       "9      ?\n",
       "44     ?\n",
       "45     ?\n",
       "129    ?\n",
       "Name: price, dtype: object"
      ]
     },
     "execution_count": 12,
     "metadata": {},
     "output_type": "execute_result"
    }
   ],
   "source": [
    "automobile['price'].loc[automobile['price'].str.isnumeric() == False]"
   ]
  },
  {
   "cell_type": "markdown",
   "metadata": {
    "tags": []
   },
   "source": [
    "##### Setting the missing value to mean of price and convert the datatype to integer\n"
   ]
  },
  {
   "cell_type": "code",
   "execution_count": 13,
   "metadata": {
    "tags": []
   },
   "outputs": [
    {
     "data": {
      "text/plain": [
       "0    13495\n",
       "1    16500\n",
       "2    16500\n",
       "3    13950\n",
       "4    17450\n",
       "Name: price, dtype: int64"
      ]
     },
     "execution_count": 13,
     "metadata": {},
     "output_type": "execute_result"
    }
   ],
   "source": [
    "price = automobile['price'].loc[automobile['price'] != '?']\n",
    "pmean = price.astype(str).astype(int).mean()\n",
    "automobile['price'] = automobile['price'].replace('?',pmean).astype(int)\n",
    "automobile['price'].head()"
   ]
  },
  {
   "cell_type": "markdown",
   "metadata": {
    "tags": []
   },
   "source": [
    "##### Checking the numberic and replacing with mean value and conver the datatype to integer for horsepower\n"
   ]
  },
  {
   "cell_type": "code",
   "execution_count": 14,
   "metadata": {
    "tags": []
   },
   "outputs": [],
   "source": [
    "automobile['horsepower'].str.isnumeric().value_counts()\n",
    "horsepower = automobile['horsepower'].loc[automobile['horsepower'] != '?']\n",
    "hpmean = horsepower.astype(str).astype(int).mean()\n",
    "automobile['horsepower'] = automobile['horsepower'].replace('?',pmean).astype(int)"
   ]
  },
  {
   "cell_type": "markdown",
   "metadata": {
    "tags": []
   },
   "source": [
    "##### Checking the outlier of horsepower\n"
   ]
  },
  {
   "cell_type": "code",
   "execution_count": 15,
   "metadata": {
    "tags": [
     "skip"
    ]
   },
   "outputs": [
    {
     "data": {
      "text/html": [
       "<div>\n",
       "<style scoped>\n",
       "    .dataframe tbody tr th:only-of-type {\n",
       "        vertical-align: middle;\n",
       "    }\n",
       "\n",
       "    .dataframe tbody tr th {\n",
       "        vertical-align: top;\n",
       "    }\n",
       "\n",
       "    .dataframe thead th {\n",
       "        text-align: right;\n",
       "    }\n",
       "</style>\n",
       "<table border=\"1\" class=\"dataframe\">\n",
       "  <thead>\n",
       "    <tr style=\"text-align: right;\">\n",
       "      <th></th>\n",
       "      <th>symboling</th>\n",
       "      <th>normalized-losses</th>\n",
       "      <th>make</th>\n",
       "      <th>fuel-type</th>\n",
       "      <th>aspiration</th>\n",
       "      <th>num-of-doors</th>\n",
       "      <th>body-style</th>\n",
       "      <th>drive-wheels</th>\n",
       "      <th>engine-location</th>\n",
       "      <th>wheel-base</th>\n",
       "      <th>...</th>\n",
       "      <th>engine-size</th>\n",
       "      <th>fuel-system</th>\n",
       "      <th>bore</th>\n",
       "      <th>stroke</th>\n",
       "      <th>compression-ratio</th>\n",
       "      <th>horsepower</th>\n",
       "      <th>peak-rpm</th>\n",
       "      <th>city-mpg</th>\n",
       "      <th>highway-mpg</th>\n",
       "      <th>price</th>\n",
       "    </tr>\n",
       "  </thead>\n",
       "  <tbody>\n",
       "    <tr>\n",
       "      <th>130</th>\n",
       "      <td>0</td>\n",
       "      <td>122</td>\n",
       "      <td>renault</td>\n",
       "      <td>gas</td>\n",
       "      <td>std</td>\n",
       "      <td>four</td>\n",
       "      <td>wagon</td>\n",
       "      <td>fwd</td>\n",
       "      <td>front</td>\n",
       "      <td>96.1</td>\n",
       "      <td>...</td>\n",
       "      <td>132</td>\n",
       "      <td>mpfi</td>\n",
       "      <td>3.46</td>\n",
       "      <td>3.9</td>\n",
       "      <td>8.7</td>\n",
       "      <td>13207</td>\n",
       "      <td>?</td>\n",
       "      <td>23</td>\n",
       "      <td>31</td>\n",
       "      <td>9295</td>\n",
       "    </tr>\n",
       "    <tr>\n",
       "      <th>131</th>\n",
       "      <td>2</td>\n",
       "      <td>122</td>\n",
       "      <td>renault</td>\n",
       "      <td>gas</td>\n",
       "      <td>std</td>\n",
       "      <td>two</td>\n",
       "      <td>hatchback</td>\n",
       "      <td>fwd</td>\n",
       "      <td>front</td>\n",
       "      <td>96.1</td>\n",
       "      <td>...</td>\n",
       "      <td>132</td>\n",
       "      <td>mpfi</td>\n",
       "      <td>3.46</td>\n",
       "      <td>3.9</td>\n",
       "      <td>8.7</td>\n",
       "      <td>13207</td>\n",
       "      <td>?</td>\n",
       "      <td>23</td>\n",
       "      <td>31</td>\n",
       "      <td>9895</td>\n",
       "    </tr>\n",
       "  </tbody>\n",
       "</table>\n",
       "<p>2 rows × 26 columns</p>\n",
       "</div>"
      ],
      "text/plain": [
       "     symboling  normalized-losses     make fuel-type aspiration num-of-doors  \\\n",
       "130          0                122  renault       gas        std         four   \n",
       "131          2                122  renault       gas        std          two   \n",
       "\n",
       "    body-style drive-wheels engine-location  wheel-base  ...  engine-size  \\\n",
       "130      wagon          fwd           front        96.1  ...          132   \n",
       "131  hatchback          fwd           front        96.1  ...          132   \n",
       "\n",
       "     fuel-system  bore  stroke compression-ratio horsepower  peak-rpm  \\\n",
       "130         mpfi  3.46     3.9               8.7      13207         ?   \n",
       "131         mpfi  3.46     3.9               8.7      13207         ?   \n",
       "\n",
       "    city-mpg highway-mpg price  \n",
       "130       23          31  9295  \n",
       "131       23          31  9895  \n",
       "\n",
       "[2 rows x 26 columns]"
      ]
     },
     "execution_count": 15,
     "metadata": {},
     "output_type": "execute_result"
    }
   ],
   "source": [
    "automobile.loc[automobile['horsepower'] > 10000]"
   ]
  },
  {
   "cell_type": "markdown",
   "metadata": {
    "tags": []
   },
   "source": [
    "##### Excluding the outlier data for horsepower\n"
   ]
  },
  {
   "cell_type": "code",
   "execution_count": 16,
   "metadata": {
    "tags": []
   },
   "outputs": [
    {
     "data": {
      "text/html": [
       "<div>\n",
       "<style scoped>\n",
       "    .dataframe tbody tr th:only-of-type {\n",
       "        vertical-align: middle;\n",
       "    }\n",
       "\n",
       "    .dataframe tbody tr th {\n",
       "        vertical-align: top;\n",
       "    }\n",
       "\n",
       "    .dataframe thead th {\n",
       "        text-align: right;\n",
       "    }\n",
       "</style>\n",
       "<table border=\"1\" class=\"dataframe\">\n",
       "  <thead>\n",
       "    <tr style=\"text-align: right;\">\n",
       "      <th></th>\n",
       "      <th>symboling</th>\n",
       "      <th>normalized-losses</th>\n",
       "      <th>make</th>\n",
       "      <th>fuel-type</th>\n",
       "      <th>aspiration</th>\n",
       "      <th>num-of-doors</th>\n",
       "      <th>body-style</th>\n",
       "      <th>drive-wheels</th>\n",
       "      <th>engine-location</th>\n",
       "      <th>wheel-base</th>\n",
       "      <th>...</th>\n",
       "      <th>engine-size</th>\n",
       "      <th>fuel-system</th>\n",
       "      <th>bore</th>\n",
       "      <th>stroke</th>\n",
       "      <th>compression-ratio</th>\n",
       "      <th>horsepower</th>\n",
       "      <th>peak-rpm</th>\n",
       "      <th>city-mpg</th>\n",
       "      <th>highway-mpg</th>\n",
       "      <th>price</th>\n",
       "    </tr>\n",
       "  </thead>\n",
       "  <tbody>\n",
       "    <tr>\n",
       "      <th>0</th>\n",
       "      <td>3</td>\n",
       "      <td>122</td>\n",
       "      <td>alfa-romero</td>\n",
       "      <td>gas</td>\n",
       "      <td>std</td>\n",
       "      <td>two</td>\n",
       "      <td>convertible</td>\n",
       "      <td>rwd</td>\n",
       "      <td>front</td>\n",
       "      <td>88.6</td>\n",
       "      <td>...</td>\n",
       "      <td>130</td>\n",
       "      <td>mpfi</td>\n",
       "      <td>3.47</td>\n",
       "      <td>2.68</td>\n",
       "      <td>9.0</td>\n",
       "      <td>111</td>\n",
       "      <td>5000</td>\n",
       "      <td>21</td>\n",
       "      <td>27</td>\n",
       "      <td>13495</td>\n",
       "    </tr>\n",
       "    <tr>\n",
       "      <th>1</th>\n",
       "      <td>3</td>\n",
       "      <td>122</td>\n",
       "      <td>alfa-romero</td>\n",
       "      <td>gas</td>\n",
       "      <td>std</td>\n",
       "      <td>two</td>\n",
       "      <td>convertible</td>\n",
       "      <td>rwd</td>\n",
       "      <td>front</td>\n",
       "      <td>88.6</td>\n",
       "      <td>...</td>\n",
       "      <td>130</td>\n",
       "      <td>mpfi</td>\n",
       "      <td>3.47</td>\n",
       "      <td>2.68</td>\n",
       "      <td>9.0</td>\n",
       "      <td>111</td>\n",
       "      <td>5000</td>\n",
       "      <td>21</td>\n",
       "      <td>27</td>\n",
       "      <td>16500</td>\n",
       "    </tr>\n",
       "    <tr>\n",
       "      <th>2</th>\n",
       "      <td>1</td>\n",
       "      <td>122</td>\n",
       "      <td>alfa-romero</td>\n",
       "      <td>gas</td>\n",
       "      <td>std</td>\n",
       "      <td>two</td>\n",
       "      <td>hatchback</td>\n",
       "      <td>rwd</td>\n",
       "      <td>front</td>\n",
       "      <td>94.5</td>\n",
       "      <td>...</td>\n",
       "      <td>152</td>\n",
       "      <td>mpfi</td>\n",
       "      <td>2.68</td>\n",
       "      <td>3.47</td>\n",
       "      <td>9.0</td>\n",
       "      <td>154</td>\n",
       "      <td>5000</td>\n",
       "      <td>19</td>\n",
       "      <td>26</td>\n",
       "      <td>16500</td>\n",
       "    </tr>\n",
       "    <tr>\n",
       "      <th>3</th>\n",
       "      <td>2</td>\n",
       "      <td>164</td>\n",
       "      <td>audi</td>\n",
       "      <td>gas</td>\n",
       "      <td>std</td>\n",
       "      <td>four</td>\n",
       "      <td>sedan</td>\n",
       "      <td>fwd</td>\n",
       "      <td>front</td>\n",
       "      <td>99.8</td>\n",
       "      <td>...</td>\n",
       "      <td>109</td>\n",
       "      <td>mpfi</td>\n",
       "      <td>3.19</td>\n",
       "      <td>3.4</td>\n",
       "      <td>10.0</td>\n",
       "      <td>102</td>\n",
       "      <td>5500</td>\n",
       "      <td>24</td>\n",
       "      <td>30</td>\n",
       "      <td>13950</td>\n",
       "    </tr>\n",
       "    <tr>\n",
       "      <th>4</th>\n",
       "      <td>2</td>\n",
       "      <td>164</td>\n",
       "      <td>audi</td>\n",
       "      <td>gas</td>\n",
       "      <td>std</td>\n",
       "      <td>four</td>\n",
       "      <td>sedan</td>\n",
       "      <td>4wd</td>\n",
       "      <td>front</td>\n",
       "      <td>99.4</td>\n",
       "      <td>...</td>\n",
       "      <td>136</td>\n",
       "      <td>mpfi</td>\n",
       "      <td>3.19</td>\n",
       "      <td>3.4</td>\n",
       "      <td>8.0</td>\n",
       "      <td>115</td>\n",
       "      <td>5500</td>\n",
       "      <td>18</td>\n",
       "      <td>22</td>\n",
       "      <td>17450</td>\n",
       "    </tr>\n",
       "    <tr>\n",
       "      <th>...</th>\n",
       "      <td>...</td>\n",
       "      <td>...</td>\n",
       "      <td>...</td>\n",
       "      <td>...</td>\n",
       "      <td>...</td>\n",
       "      <td>...</td>\n",
       "      <td>...</td>\n",
       "      <td>...</td>\n",
       "      <td>...</td>\n",
       "      <td>...</td>\n",
       "      <td>...</td>\n",
       "      <td>...</td>\n",
       "      <td>...</td>\n",
       "      <td>...</td>\n",
       "      <td>...</td>\n",
       "      <td>...</td>\n",
       "      <td>...</td>\n",
       "      <td>...</td>\n",
       "      <td>...</td>\n",
       "      <td>...</td>\n",
       "      <td>...</td>\n",
       "    </tr>\n",
       "    <tr>\n",
       "      <th>200</th>\n",
       "      <td>-1</td>\n",
       "      <td>95</td>\n",
       "      <td>volvo</td>\n",
       "      <td>gas</td>\n",
       "      <td>std</td>\n",
       "      <td>four</td>\n",
       "      <td>sedan</td>\n",
       "      <td>rwd</td>\n",
       "      <td>front</td>\n",
       "      <td>109.1</td>\n",
       "      <td>...</td>\n",
       "      <td>141</td>\n",
       "      <td>mpfi</td>\n",
       "      <td>3.78</td>\n",
       "      <td>3.15</td>\n",
       "      <td>9.5</td>\n",
       "      <td>114</td>\n",
       "      <td>5400</td>\n",
       "      <td>23</td>\n",
       "      <td>28</td>\n",
       "      <td>16845</td>\n",
       "    </tr>\n",
       "    <tr>\n",
       "      <th>201</th>\n",
       "      <td>-1</td>\n",
       "      <td>95</td>\n",
       "      <td>volvo</td>\n",
       "      <td>gas</td>\n",
       "      <td>turbo</td>\n",
       "      <td>four</td>\n",
       "      <td>sedan</td>\n",
       "      <td>rwd</td>\n",
       "      <td>front</td>\n",
       "      <td>109.1</td>\n",
       "      <td>...</td>\n",
       "      <td>141</td>\n",
       "      <td>mpfi</td>\n",
       "      <td>3.78</td>\n",
       "      <td>3.15</td>\n",
       "      <td>8.7</td>\n",
       "      <td>160</td>\n",
       "      <td>5300</td>\n",
       "      <td>19</td>\n",
       "      <td>25</td>\n",
       "      <td>19045</td>\n",
       "    </tr>\n",
       "    <tr>\n",
       "      <th>202</th>\n",
       "      <td>-1</td>\n",
       "      <td>95</td>\n",
       "      <td>volvo</td>\n",
       "      <td>gas</td>\n",
       "      <td>std</td>\n",
       "      <td>four</td>\n",
       "      <td>sedan</td>\n",
       "      <td>rwd</td>\n",
       "      <td>front</td>\n",
       "      <td>109.1</td>\n",
       "      <td>...</td>\n",
       "      <td>173</td>\n",
       "      <td>mpfi</td>\n",
       "      <td>3.58</td>\n",
       "      <td>2.87</td>\n",
       "      <td>8.8</td>\n",
       "      <td>134</td>\n",
       "      <td>5500</td>\n",
       "      <td>18</td>\n",
       "      <td>23</td>\n",
       "      <td>21485</td>\n",
       "    </tr>\n",
       "    <tr>\n",
       "      <th>203</th>\n",
       "      <td>-1</td>\n",
       "      <td>95</td>\n",
       "      <td>volvo</td>\n",
       "      <td>diesel</td>\n",
       "      <td>turbo</td>\n",
       "      <td>four</td>\n",
       "      <td>sedan</td>\n",
       "      <td>rwd</td>\n",
       "      <td>front</td>\n",
       "      <td>109.1</td>\n",
       "      <td>...</td>\n",
       "      <td>145</td>\n",
       "      <td>idi</td>\n",
       "      <td>3.01</td>\n",
       "      <td>3.4</td>\n",
       "      <td>23.0</td>\n",
       "      <td>106</td>\n",
       "      <td>4800</td>\n",
       "      <td>26</td>\n",
       "      <td>27</td>\n",
       "      <td>22470</td>\n",
       "    </tr>\n",
       "    <tr>\n",
       "      <th>204</th>\n",
       "      <td>-1</td>\n",
       "      <td>95</td>\n",
       "      <td>volvo</td>\n",
       "      <td>gas</td>\n",
       "      <td>turbo</td>\n",
       "      <td>four</td>\n",
       "      <td>sedan</td>\n",
       "      <td>rwd</td>\n",
       "      <td>front</td>\n",
       "      <td>109.1</td>\n",
       "      <td>...</td>\n",
       "      <td>141</td>\n",
       "      <td>mpfi</td>\n",
       "      <td>3.78</td>\n",
       "      <td>3.15</td>\n",
       "      <td>9.5</td>\n",
       "      <td>114</td>\n",
       "      <td>5400</td>\n",
       "      <td>19</td>\n",
       "      <td>25</td>\n",
       "      <td>22625</td>\n",
       "    </tr>\n",
       "  </tbody>\n",
       "</table>\n",
       "<p>203 rows × 26 columns</p>\n",
       "</div>"
      ],
      "text/plain": [
       "     symboling  normalized-losses         make fuel-type aspiration  \\\n",
       "0            3                122  alfa-romero       gas        std   \n",
       "1            3                122  alfa-romero       gas        std   \n",
       "2            1                122  alfa-romero       gas        std   \n",
       "3            2                164         audi       gas        std   \n",
       "4            2                164         audi       gas        std   \n",
       "..         ...                ...          ...       ...        ...   \n",
       "200         -1                 95        volvo       gas        std   \n",
       "201         -1                 95        volvo       gas      turbo   \n",
       "202         -1                 95        volvo       gas        std   \n",
       "203         -1                 95        volvo    diesel      turbo   \n",
       "204         -1                 95        volvo       gas      turbo   \n",
       "\n",
       "    num-of-doors   body-style drive-wheels engine-location  wheel-base  ...  \\\n",
       "0            two  convertible          rwd           front        88.6  ...   \n",
       "1            two  convertible          rwd           front        88.6  ...   \n",
       "2            two    hatchback          rwd           front        94.5  ...   \n",
       "3           four        sedan          fwd           front        99.8  ...   \n",
       "4           four        sedan          4wd           front        99.4  ...   \n",
       "..           ...          ...          ...             ...         ...  ...   \n",
       "200         four        sedan          rwd           front       109.1  ...   \n",
       "201         four        sedan          rwd           front       109.1  ...   \n",
       "202         four        sedan          rwd           front       109.1  ...   \n",
       "203         four        sedan          rwd           front       109.1  ...   \n",
       "204         four        sedan          rwd           front       109.1  ...   \n",
       "\n",
       "     engine-size  fuel-system  bore  stroke compression-ratio horsepower  \\\n",
       "0            130         mpfi  3.47    2.68               9.0        111   \n",
       "1            130         mpfi  3.47    2.68               9.0        111   \n",
       "2            152         mpfi  2.68    3.47               9.0        154   \n",
       "3            109         mpfi  3.19     3.4              10.0        102   \n",
       "4            136         mpfi  3.19     3.4               8.0        115   \n",
       "..           ...          ...   ...     ...               ...        ...   \n",
       "200          141         mpfi  3.78    3.15               9.5        114   \n",
       "201          141         mpfi  3.78    3.15               8.7        160   \n",
       "202          173         mpfi  3.58    2.87               8.8        134   \n",
       "203          145          idi  3.01     3.4              23.0        106   \n",
       "204          141         mpfi  3.78    3.15               9.5        114   \n",
       "\n",
       "     peak-rpm city-mpg highway-mpg  price  \n",
       "0        5000       21          27  13495  \n",
       "1        5000       21          27  16500  \n",
       "2        5000       19          26  16500  \n",
       "3        5500       24          30  13950  \n",
       "4        5500       18          22  17450  \n",
       "..        ...      ...         ...    ...  \n",
       "200      5400       23          28  16845  \n",
       "201      5300       19          25  19045  \n",
       "202      5500       18          23  21485  \n",
       "203      4800       26          27  22470  \n",
       "204      5400       19          25  22625  \n",
       "\n",
       "[203 rows x 26 columns]"
      ]
     },
     "execution_count": 16,
     "metadata": {},
     "output_type": "execute_result"
    }
   ],
   "source": [
    "automobile[np.abs(automobile.horsepower-automobile.horsepower.mean())<=(3*automobile.horsepower.std())]"
   ]
  },
  {
   "cell_type": "markdown",
   "metadata": {
    "tags": []
   },
   "source": [
    "##### Find out the number of invalid value\n"
   ]
  },
  {
   "cell_type": "code",
   "execution_count": 17,
   "metadata": {
    "tags": [
     "skip"
    ]
   },
   "outputs": [
    {
     "data": {
      "text/plain": [
       "55    ?\n",
       "56    ?\n",
       "57    ?\n",
       "58    ?\n",
       "Name: bore, dtype: object"
      ]
     },
     "execution_count": 17,
     "metadata": {},
     "output_type": "execute_result"
    }
   ],
   "source": [
    "automobile['bore'].loc[automobile['bore'] == '?']"
   ]
  },
  {
   "cell_type": "markdown",
   "metadata": {
    "tags": []
   },
   "source": [
    "##### Replace the non-numeric value to null and conver the datatype\n"
   ]
  },
  {
   "cell_type": "code",
   "execution_count": 18,
   "metadata": {
    "tags": [
     "block:featureengineering",
     "prev:data_preprocessing"
    ]
   },
   "outputs": [
    {
     "data": {
      "text/plain": [
       "symboling              int64\n",
       "normalized-losses      int64\n",
       "make                  object\n",
       "fuel-type             object\n",
       "aspiration            object\n",
       "num-of-doors          object\n",
       "body-style            object\n",
       "drive-wheels          object\n",
       "engine-location       object\n",
       "wheel-base           float64\n",
       "length               float64\n",
       "width                float64\n",
       "height               float64\n",
       "curb-weight            int64\n",
       "engine-type           object\n",
       "num-of-cylinders      object\n",
       "engine-size            int64\n",
       "fuel-system           object\n",
       "bore                 float64\n",
       "stroke                object\n",
       "compression-ratio    float64\n",
       "horsepower             int64\n",
       "peak-rpm              object\n",
       "city-mpg               int64\n",
       "highway-mpg            int64\n",
       "price                  int64\n",
       "dtype: object"
      ]
     },
     "execution_count": 18,
     "metadata": {},
     "output_type": "execute_result"
    }
   ],
   "source": [
    "automobile['bore'] = pd.to_numeric(automobile['bore'],errors='coerce')\n",
    "automobile.dtypes"
   ]
  },
  {
   "cell_type": "markdown",
   "metadata": {
    "tags": []
   },
   "source": [
    "##### Replace the non-number value to null and convert the datatype\n"
   ]
  },
  {
   "cell_type": "code",
   "execution_count": 19,
   "metadata": {
    "tags": []
   },
   "outputs": [
    {
     "data": {
      "text/plain": [
       "symboling              int64\n",
       "normalized-losses      int64\n",
       "make                  object\n",
       "fuel-type             object\n",
       "aspiration            object\n",
       "num-of-doors          object\n",
       "body-style            object\n",
       "drive-wheels          object\n",
       "engine-location       object\n",
       "wheel-base           float64\n",
       "length               float64\n",
       "width                float64\n",
       "height               float64\n",
       "curb-weight            int64\n",
       "engine-type           object\n",
       "num-of-cylinders      object\n",
       "engine-size            int64\n",
       "fuel-system           object\n",
       "bore                 float64\n",
       "stroke               float64\n",
       "compression-ratio    float64\n",
       "horsepower             int64\n",
       "peak-rpm              object\n",
       "city-mpg               int64\n",
       "highway-mpg            int64\n",
       "price                  int64\n",
       "dtype: object"
      ]
     },
     "execution_count": 19,
     "metadata": {},
     "output_type": "execute_result"
    }
   ],
   "source": [
    "automobile['stroke'] = pd.to_numeric(automobile['stroke'],errors='coerce')\n",
    "automobile.dtypes"
   ]
  },
  {
   "cell_type": "markdown",
   "metadata": {
    "tags": []
   },
   "source": [
    "##### Convert the non-numeric data to null and convert the datatype\n"
   ]
  },
  {
   "cell_type": "code",
   "execution_count": 20,
   "metadata": {
    "tags": []
   },
   "outputs": [
    {
     "data": {
      "text/plain": [
       "symboling              int64\n",
       "normalized-losses      int64\n",
       "make                  object\n",
       "fuel-type             object\n",
       "aspiration            object\n",
       "num-of-doors          object\n",
       "body-style            object\n",
       "drive-wheels          object\n",
       "engine-location       object\n",
       "wheel-base           float64\n",
       "length               float64\n",
       "width                float64\n",
       "height               float64\n",
       "curb-weight            int64\n",
       "engine-type           object\n",
       "num-of-cylinders      object\n",
       "engine-size            int64\n",
       "fuel-system           object\n",
       "bore                 float64\n",
       "stroke               float64\n",
       "compression-ratio    float64\n",
       "horsepower             int64\n",
       "peak-rpm             float64\n",
       "city-mpg               int64\n",
       "highway-mpg            int64\n",
       "price                  int64\n",
       "dtype: object"
      ]
     },
     "execution_count": 20,
     "metadata": {},
     "output_type": "execute_result"
    }
   ],
   "source": [
    "automobile['peak-rpm'] = pd.to_numeric(automobile['peak-rpm'],errors='coerce')\n",
    "automobile.dtypes"
   ]
  },
  {
   "cell_type": "markdown",
   "metadata": {
    "tags": []
   },
   "source": [
    "### Label Encoder\n",
    "##### In machine learning, we usually deal with datasets which contains multiple labels in one or more than one columns. These labels can be in the form of words or numbers. Label Encoding refers to converting the labels info the labels into numeric form so as to convert it into the machine-readable form."
   ]
  },
  {
   "cell_type": "code",
   "execution_count": 21,
   "metadata": {
    "tags": []
   },
   "outputs": [
    {
     "data": {
      "text/html": [
       "<div>\n",
       "<style scoped>\n",
       "    .dataframe tbody tr th:only-of-type {\n",
       "        vertical-align: middle;\n",
       "    }\n",
       "\n",
       "    .dataframe tbody tr th {\n",
       "        vertical-align: top;\n",
       "    }\n",
       "\n",
       "    .dataframe thead th {\n",
       "        text-align: right;\n",
       "    }\n",
       "</style>\n",
       "<table border=\"1\" class=\"dataframe\">\n",
       "  <thead>\n",
       "    <tr style=\"text-align: right;\">\n",
       "      <th></th>\n",
       "      <th>symboling</th>\n",
       "      <th>normalized-losses</th>\n",
       "      <th>make</th>\n",
       "      <th>fuel-type</th>\n",
       "      <th>aspiration</th>\n",
       "      <th>num-of-doors</th>\n",
       "      <th>body-style</th>\n",
       "      <th>drive-wheels</th>\n",
       "      <th>engine-location</th>\n",
       "      <th>wheel-base</th>\n",
       "      <th>...</th>\n",
       "      <th>engine-size</th>\n",
       "      <th>fuel-system</th>\n",
       "      <th>bore</th>\n",
       "      <th>stroke</th>\n",
       "      <th>compression-ratio</th>\n",
       "      <th>horsepower</th>\n",
       "      <th>peak-rpm</th>\n",
       "      <th>city-mpg</th>\n",
       "      <th>highway-mpg</th>\n",
       "      <th>price</th>\n",
       "    </tr>\n",
       "  </thead>\n",
       "  <tbody>\n",
       "    <tr>\n",
       "      <th>0</th>\n",
       "      <td>3</td>\n",
       "      <td>122</td>\n",
       "      <td>0</td>\n",
       "      <td>1</td>\n",
       "      <td>0</td>\n",
       "      <td>2</td>\n",
       "      <td>0</td>\n",
       "      <td>2</td>\n",
       "      <td>0</td>\n",
       "      <td>88.6</td>\n",
       "      <td>...</td>\n",
       "      <td>130</td>\n",
       "      <td>5</td>\n",
       "      <td>3.47</td>\n",
       "      <td>2.68</td>\n",
       "      <td>9.0</td>\n",
       "      <td>111</td>\n",
       "      <td>5000.0</td>\n",
       "      <td>21</td>\n",
       "      <td>27</td>\n",
       "      <td>13495</td>\n",
       "    </tr>\n",
       "    <tr>\n",
       "      <th>1</th>\n",
       "      <td>3</td>\n",
       "      <td>122</td>\n",
       "      <td>0</td>\n",
       "      <td>1</td>\n",
       "      <td>0</td>\n",
       "      <td>2</td>\n",
       "      <td>0</td>\n",
       "      <td>2</td>\n",
       "      <td>0</td>\n",
       "      <td>88.6</td>\n",
       "      <td>...</td>\n",
       "      <td>130</td>\n",
       "      <td>5</td>\n",
       "      <td>3.47</td>\n",
       "      <td>2.68</td>\n",
       "      <td>9.0</td>\n",
       "      <td>111</td>\n",
       "      <td>5000.0</td>\n",
       "      <td>21</td>\n",
       "      <td>27</td>\n",
       "      <td>16500</td>\n",
       "    </tr>\n",
       "    <tr>\n",
       "      <th>2</th>\n",
       "      <td>1</td>\n",
       "      <td>122</td>\n",
       "      <td>0</td>\n",
       "      <td>1</td>\n",
       "      <td>0</td>\n",
       "      <td>2</td>\n",
       "      <td>2</td>\n",
       "      <td>2</td>\n",
       "      <td>0</td>\n",
       "      <td>94.5</td>\n",
       "      <td>...</td>\n",
       "      <td>152</td>\n",
       "      <td>5</td>\n",
       "      <td>2.68</td>\n",
       "      <td>3.47</td>\n",
       "      <td>9.0</td>\n",
       "      <td>154</td>\n",
       "      <td>5000.0</td>\n",
       "      <td>19</td>\n",
       "      <td>26</td>\n",
       "      <td>16500</td>\n",
       "    </tr>\n",
       "    <tr>\n",
       "      <th>3</th>\n",
       "      <td>2</td>\n",
       "      <td>164</td>\n",
       "      <td>1</td>\n",
       "      <td>1</td>\n",
       "      <td>0</td>\n",
       "      <td>1</td>\n",
       "      <td>3</td>\n",
       "      <td>1</td>\n",
       "      <td>0</td>\n",
       "      <td>99.8</td>\n",
       "      <td>...</td>\n",
       "      <td>109</td>\n",
       "      <td>5</td>\n",
       "      <td>3.19</td>\n",
       "      <td>3.40</td>\n",
       "      <td>10.0</td>\n",
       "      <td>102</td>\n",
       "      <td>5500.0</td>\n",
       "      <td>24</td>\n",
       "      <td>30</td>\n",
       "      <td>13950</td>\n",
       "    </tr>\n",
       "    <tr>\n",
       "      <th>4</th>\n",
       "      <td>2</td>\n",
       "      <td>164</td>\n",
       "      <td>1</td>\n",
       "      <td>1</td>\n",
       "      <td>0</td>\n",
       "      <td>1</td>\n",
       "      <td>3</td>\n",
       "      <td>0</td>\n",
       "      <td>0</td>\n",
       "      <td>99.4</td>\n",
       "      <td>...</td>\n",
       "      <td>136</td>\n",
       "      <td>5</td>\n",
       "      <td>3.19</td>\n",
       "      <td>3.40</td>\n",
       "      <td>8.0</td>\n",
       "      <td>115</td>\n",
       "      <td>5500.0</td>\n",
       "      <td>18</td>\n",
       "      <td>22</td>\n",
       "      <td>17450</td>\n",
       "    </tr>\n",
       "  </tbody>\n",
       "</table>\n",
       "<p>5 rows × 26 columns</p>\n",
       "</div>"
      ],
      "text/plain": [
       "   symboling  normalized-losses  make  fuel-type  aspiration  num-of-doors  \\\n",
       "0          3                122     0          1           0             2   \n",
       "1          3                122     0          1           0             2   \n",
       "2          1                122     0          1           0             2   \n",
       "3          2                164     1          1           0             1   \n",
       "4          2                164     1          1           0             1   \n",
       "\n",
       "   body-style  drive-wheels  engine-location  wheel-base  ...  engine-size  \\\n",
       "0           0             2                0        88.6  ...          130   \n",
       "1           0             2                0        88.6  ...          130   \n",
       "2           2             2                0        94.5  ...          152   \n",
       "3           3             1                0        99.8  ...          109   \n",
       "4           3             0                0        99.4  ...          136   \n",
       "\n",
       "   fuel-system  bore  stroke  compression-ratio  horsepower  peak-rpm  \\\n",
       "0            5  3.47    2.68                9.0         111    5000.0   \n",
       "1            5  3.47    2.68                9.0         111    5000.0   \n",
       "2            5  2.68    3.47                9.0         154    5000.0   \n",
       "3            5  3.19    3.40               10.0         102    5500.0   \n",
       "4            5  3.19    3.40                8.0         115    5500.0   \n",
       "\n",
       "   city-mpg  highway-mpg  price  \n",
       "0        21           27  13495  \n",
       "1        21           27  16500  \n",
       "2        19           26  16500  \n",
       "3        24           30  13950  \n",
       "4        18           22  17450  \n",
       "\n",
       "[5 rows x 26 columns]"
      ]
     },
     "execution_count": 21,
     "metadata": {},
     "output_type": "execute_result"
    }
   ],
   "source": [
    "le = LabelEncoder()\n",
    "automobile['make'] = le.fit_transform(automobile['make'])\n",
    "automobile['fuel-type'] = le.fit_transform(automobile['fuel-type'])\n",
    "automobile['aspiration'] = le.fit_transform(automobile['aspiration'])\n",
    "automobile['num-of-doors'] = le.fit_transform(automobile['num-of-doors'])\n",
    "automobile['body-style'] = le.fit_transform(automobile['body-style'])\n",
    "automobile['drive-wheels'] = le.fit_transform(automobile['drive-wheels'])\n",
    "automobile['engine-location'] = le.fit_transform(automobile['engine-location'])\n",
    "automobile['engine-type'] = le.fit_transform(automobile['engine-type'])\n",
    "automobile['num-of-cylinders'] = le.fit_transform(automobile['num-of-cylinders'])\n",
    "automobile['fuel-system'] = le.fit_transform(automobile['fuel-system'])\n",
    "automobile.head()"
   ]
  },
  {
   "cell_type": "markdown",
   "metadata": {
    "tags": []
   },
   "source": [
    "##### Converting the datatype"
   ]
  },
  {
   "cell_type": "code",
   "execution_count": 22,
   "metadata": {
    "tags": []
   },
   "outputs": [],
   "source": [
    "automobile['wheel-base'] = automobile['wheel-base'].astype(int)\n",
    "automobile['height'] = automobile['height'].astype(int)\n",
    "automobile['length'] = automobile['length'].astype(int)\n",
    "automobile['width'] = automobile['width'].astype(int)\n",
    "automobile['compression-ratio'] = automobile['compression-ratio'].astype(int)"
   ]
  },
  {
   "cell_type": "markdown",
   "metadata": {
    "tags": []
   },
   "source": [
    "##### Filling the null value with mean and then change the datatype for stroke"
   ]
  },
  {
   "cell_type": "code",
   "execution_count": 23,
   "metadata": {
    "tags": []
   },
   "outputs": [],
   "source": [
    "automobile['stroke'] = automobile['stroke'].fillna(automobile['stroke'].mean())\n",
    "automobile['stroke'] = automobile['stroke'].astype(int)"
   ]
  },
  {
   "cell_type": "markdown",
   "metadata": {
    "tags": []
   },
   "source": [
    "##### Filling the null value with mean and then change the datatype for peak-rpm"
   ]
  },
  {
   "cell_type": "code",
   "execution_count": 24,
   "metadata": {
    "tags": []
   },
   "outputs": [],
   "source": [
    "automobile['peak-rpm'] = automobile['peak-rpm'].fillna(automobile['peak-rpm'].mean())\n",
    "automobile['peak-rpm'] = automobile['peak-rpm'].astype(int)"
   ]
  },
  {
   "cell_type": "markdown",
   "metadata": {
    "tags": []
   },
   "source": [
    "##### Filling the null value with mean and then change the datatype for bore"
   ]
  },
  {
   "cell_type": "code",
   "execution_count": 25,
   "metadata": {
    "tags": []
   },
   "outputs": [],
   "source": [
    "automobile['bore'] = automobile['bore'].fillna(automobile['bore'].mean())\n",
    "automobile['bore'] = automobile['bore'].astype(int)"
   ]
  },
  {
   "cell_type": "code",
   "execution_count": 26,
   "metadata": {
    "tags": [
     "skip"
    ]
   },
   "outputs": [
    {
     "data": {
      "text/plain": [
       "symboling            int64\n",
       "normalized-losses    int64\n",
       "make                 int64\n",
       "fuel-type            int64\n",
       "aspiration           int64\n",
       "num-of-doors         int64\n",
       "body-style           int64\n",
       "drive-wheels         int64\n",
       "engine-location      int64\n",
       "wheel-base           int64\n",
       "length               int64\n",
       "width                int64\n",
       "height               int64\n",
       "curb-weight          int64\n",
       "engine-type          int64\n",
       "num-of-cylinders     int64\n",
       "engine-size          int64\n",
       "fuel-system          int64\n",
       "bore                 int64\n",
       "stroke               int64\n",
       "compression-ratio    int64\n",
       "horsepower           int64\n",
       "peak-rpm             int64\n",
       "city-mpg             int64\n",
       "highway-mpg          int64\n",
       "price                int64\n",
       "dtype: object"
      ]
     },
     "execution_count": 26,
     "metadata": {},
     "output_type": "execute_result"
    }
   ],
   "source": [
    "automobile.dtypes"
   ]
  },
  {
   "cell_type": "markdown",
   "metadata": {
    "tags": []
   },
   "source": [
    "##### Remove the records which are having the value '?'\n"
   ]
  },
  {
   "cell_type": "code",
   "execution_count": 27,
   "metadata": {
    "tags": []
   },
   "outputs": [
    {
     "data": {
      "text/plain": [
       "Series([], Name: num-of-doors, dtype: int64)"
      ]
     },
     "execution_count": 27,
     "metadata": {},
     "output_type": "execute_result"
    }
   ],
   "source": [
    "automobile['num-of-doors'].loc[automobile['num-of-doors'] == '?']\n",
    "automobile = automobile[automobile['num-of-doors'] != '?']\n",
    "automobile['num-of-doors'].loc[automobile['num-of-doors'] == '?']"
   ]
  },
  {
   "cell_type": "markdown",
   "metadata": {
    "tags": []
   },
   "source": [
    "### Correlation Matrix\n",
    "##### A correlation matrix is a table showing correlation coefficients between variables. Each cell in the table showns the correlation between two variables. The values in the range of -1 to 1. If two variables have high correlations, we can neglect one variable from those two."
   ]
  },
  {
   "cell_type": "code",
   "execution_count": 28,
   "metadata": {
    "tags": [
     "skip"
    ]
   },
   "outputs": [
    {
     "data": {
      "text/html": [
       "<div>\n",
       "<style scoped>\n",
       "    .dataframe tbody tr th:only-of-type {\n",
       "        vertical-align: middle;\n",
       "    }\n",
       "\n",
       "    .dataframe tbody tr th {\n",
       "        vertical-align: top;\n",
       "    }\n",
       "\n",
       "    .dataframe thead th {\n",
       "        text-align: right;\n",
       "    }\n",
       "</style>\n",
       "<table border=\"1\" class=\"dataframe\">\n",
       "  <thead>\n",
       "    <tr style=\"text-align: right;\">\n",
       "      <th></th>\n",
       "      <th>symboling</th>\n",
       "      <th>normalized-losses</th>\n",
       "      <th>make</th>\n",
       "      <th>fuel-type</th>\n",
       "      <th>aspiration</th>\n",
       "      <th>num-of-doors</th>\n",
       "      <th>body-style</th>\n",
       "      <th>drive-wheels</th>\n",
       "      <th>engine-location</th>\n",
       "      <th>wheel-base</th>\n",
       "      <th>...</th>\n",
       "      <th>engine-size</th>\n",
       "      <th>fuel-system</th>\n",
       "      <th>bore</th>\n",
       "      <th>stroke</th>\n",
       "      <th>compression-ratio</th>\n",
       "      <th>horsepower</th>\n",
       "      <th>peak-rpm</th>\n",
       "      <th>city-mpg</th>\n",
       "      <th>highway-mpg</th>\n",
       "      <th>price</th>\n",
       "    </tr>\n",
       "  </thead>\n",
       "  <tbody>\n",
       "    <tr>\n",
       "      <th>symboling</th>\n",
       "      <td>1.000000</td>\n",
       "      <td>4.651899e-01</td>\n",
       "      <td>-0.118794</td>\n",
       "      <td>0.194311</td>\n",
       "      <td>-0.059866</td>\n",
       "      <td>0.645492</td>\n",
       "      <td>-0.596135</td>\n",
       "      <td>-0.041671</td>\n",
       "      <td>2.124709e-01</td>\n",
       "      <td>-0.533322</td>\n",
       "      <td>...</td>\n",
       "      <td>-0.105790</td>\n",
       "      <td>0.091163</td>\n",
       "      <td>-0.122112</td>\n",
       "      <td>-0.076884</td>\n",
       "      <td>-0.171731</td>\n",
       "      <td>0.015430</td>\n",
       "      <td>0.273678</td>\n",
       "      <td>-0.035823</td>\n",
       "      <td>0.034606</td>\n",
       "      <td>-0.082201</td>\n",
       "    </tr>\n",
       "    <tr>\n",
       "      <th>normalized-losses</th>\n",
       "      <td>0.465190</td>\n",
       "      <td>1.000000e+00</td>\n",
       "      <td>-0.250975</td>\n",
       "      <td>0.101437</td>\n",
       "      <td>-0.006823</td>\n",
       "      <td>0.336885</td>\n",
       "      <td>-0.250893</td>\n",
       "      <td>0.311032</td>\n",
       "      <td>-2.918301e-17</td>\n",
       "      <td>-0.059610</td>\n",
       "      <td>...</td>\n",
       "      <td>0.110997</td>\n",
       "      <td>0.228035</td>\n",
       "      <td>-0.109550</td>\n",
       "      <td>0.090908</td>\n",
       "      <td>-0.115825</td>\n",
       "      <td>0.006224</td>\n",
       "      <td>0.237748</td>\n",
       "      <td>-0.218749</td>\n",
       "      <td>-0.178221</td>\n",
       "      <td>0.133999</td>\n",
       "    </tr>\n",
       "    <tr>\n",
       "      <th>make</th>\n",
       "      <td>-0.118794</td>\n",
       "      <td>-2.509755e-01</td>\n",
       "      <td>1.000000</td>\n",
       "      <td>-0.113191</td>\n",
       "      <td>0.054265</td>\n",
       "      <td>-0.127416</td>\n",
       "      <td>0.089494</td>\n",
       "      <td>-0.004317</td>\n",
       "      <td>5.460831e-02</td>\n",
       "      <td>0.084751</td>\n",
       "      <td>...</td>\n",
       "      <td>-0.070918</td>\n",
       "      <td>0.146624</td>\n",
       "      <td>0.258004</td>\n",
       "      <td>-0.123254</td>\n",
       "      <td>0.136030</td>\n",
       "      <td>0.058665</td>\n",
       "      <td>-0.218347</td>\n",
       "      <td>0.053642</td>\n",
       "      <td>0.050022</td>\n",
       "      <td>-0.161471</td>\n",
       "    </tr>\n",
       "    <tr>\n",
       "      <th>fuel-type</th>\n",
       "      <td>0.194311</td>\n",
       "      <td>1.014370e-01</td>\n",
       "      <td>-0.113191</td>\n",
       "      <td>1.000000</td>\n",
       "      <td>-0.401397</td>\n",
       "      <td>0.207665</td>\n",
       "      <td>-0.147853</td>\n",
       "      <td>-0.132257</td>\n",
       "      <td>4.006951e-02</td>\n",
       "      <td>-0.304407</td>\n",
       "      <td>...</td>\n",
       "      <td>-0.069594</td>\n",
       "      <td>0.041529</td>\n",
       "      <td>-0.064795</td>\n",
       "      <td>-0.103911</td>\n",
       "      <td>-0.982732</td>\n",
       "      <td>0.037675</td>\n",
       "      <td>0.477058</td>\n",
       "      <td>-0.255963</td>\n",
       "      <td>-0.191392</td>\n",
       "      <td>-0.110207</td>\n",
       "    </tr>\n",
       "    <tr>\n",
       "      <th>aspiration</th>\n",
       "      <td>-0.059866</td>\n",
       "      <td>-6.822700e-03</td>\n",
       "      <td>0.054265</td>\n",
       "      <td>-0.401397</td>\n",
       "      <td>1.000000</td>\n",
       "      <td>-0.066737</td>\n",
       "      <td>0.063028</td>\n",
       "      <td>0.066465</td>\n",
       "      <td>-5.719146e-02</td>\n",
       "      <td>0.255692</td>\n",
       "      <td>...</td>\n",
       "      <td>0.108217</td>\n",
       "      <td>0.288086</td>\n",
       "      <td>0.166830</td>\n",
       "      <td>0.073610</td>\n",
       "      <td>0.294949</td>\n",
       "      <td>-0.039211</td>\n",
       "      <td>-0.183626</td>\n",
       "      <td>-0.202362</td>\n",
       "      <td>-0.254416</td>\n",
       "      <td>0.177285</td>\n",
       "    </tr>\n",
       "    <tr>\n",
       "      <th>num-of-doors</th>\n",
       "      <td>0.645492</td>\n",
       "      <td>3.368845e-01</td>\n",
       "      <td>-0.127416</td>\n",
       "      <td>0.207665</td>\n",
       "      <td>-0.066737</td>\n",
       "      <td>1.000000</td>\n",
       "      <td>-0.670198</td>\n",
       "      <td>0.112398</td>\n",
       "      <td>1.365776e-01</td>\n",
       "      <td>-0.415741</td>\n",
       "      <td>...</td>\n",
       "      <td>-0.005701</td>\n",
       "      <td>-0.000323</td>\n",
       "      <td>-0.157658</td>\n",
       "      <td>-0.046524</td>\n",
       "      <td>-0.188059</td>\n",
       "      <td>0.018703</td>\n",
       "      <td>0.233903</td>\n",
       "      <td>-0.000142</td>\n",
       "      <td>0.021628</td>\n",
       "      <td>-0.031934</td>\n",
       "    </tr>\n",
       "    <tr>\n",
       "      <th>body-style</th>\n",
       "      <td>-0.596135</td>\n",
       "      <td>-2.508926e-01</td>\n",
       "      <td>0.089494</td>\n",
       "      <td>-0.147853</td>\n",
       "      <td>0.063028</td>\n",
       "      <td>-0.670198</td>\n",
       "      <td>1.000000</td>\n",
       "      <td>-0.155745</td>\n",
       "      <td>-2.770093e-01</td>\n",
       "      <td>0.404010</td>\n",
       "      <td>...</td>\n",
       "      <td>-0.073352</td>\n",
       "      <td>-0.065079</td>\n",
       "      <td>0.110676</td>\n",
       "      <td>0.059036</td>\n",
       "      <td>0.137310</td>\n",
       "      <td>0.039949</td>\n",
       "      <td>-0.109414</td>\n",
       "      <td>0.031697</td>\n",
       "      <td>-0.007170</td>\n",
       "      <td>-0.072677</td>\n",
       "    </tr>\n",
       "    <tr>\n",
       "      <th>drive-wheels</th>\n",
       "      <td>-0.041671</td>\n",
       "      <td>3.110317e-01</td>\n",
       "      <td>-0.004317</td>\n",
       "      <td>-0.132257</td>\n",
       "      <td>0.066465</td>\n",
       "      <td>0.112398</td>\n",
       "      <td>-0.155745</td>\n",
       "      <td>1.000000</td>\n",
       "      <td>1.478645e-01</td>\n",
       "      <td>0.462127</td>\n",
       "      <td>...</td>\n",
       "      <td>0.524307</td>\n",
       "      <td>0.424686</td>\n",
       "      <td>0.181554</td>\n",
       "      <td>0.082601</td>\n",
       "      <td>0.128359</td>\n",
       "      <td>-0.042627</td>\n",
       "      <td>-0.039719</td>\n",
       "      <td>-0.449581</td>\n",
       "      <td>-0.452220</td>\n",
       "      <td>0.576867</td>\n",
       "    </tr>\n",
       "    <tr>\n",
       "      <th>engine-location</th>\n",
       "      <td>0.212471</td>\n",
       "      <td>-2.918301e-17</td>\n",
       "      <td>0.054608</td>\n",
       "      <td>0.040070</td>\n",
       "      <td>-0.057191</td>\n",
       "      <td>0.136578</td>\n",
       "      <td>-0.277009</td>\n",
       "      <td>0.147865</td>\n",
       "      <td>1.000000e+00</td>\n",
       "      <td>-0.187241</td>\n",
       "      <td>...</td>\n",
       "      <td>0.196826</td>\n",
       "      <td>0.105971</td>\n",
       "      <td>0.043322</td>\n",
       "      <td>-0.320364</td>\n",
       "      <td>-0.025977</td>\n",
       "      <td>-0.002373</td>\n",
       "      <td>0.198401</td>\n",
       "      <td>-0.153487</td>\n",
       "      <td>-0.102026</td>\n",
       "      <td>0.331013</td>\n",
       "    </tr>\n",
       "    <tr>\n",
       "      <th>wheel-base</th>\n",
       "      <td>-0.533322</td>\n",
       "      <td>-5.960954e-02</td>\n",
       "      <td>0.084751</td>\n",
       "      <td>-0.304407</td>\n",
       "      <td>0.255692</td>\n",
       "      <td>-0.415741</td>\n",
       "      <td>0.404010</td>\n",
       "      <td>0.462127</td>\n",
       "      <td>-1.872415e-01</td>\n",
       "      <td>1.000000</td>\n",
       "      <td>...</td>\n",
       "      <td>0.570816</td>\n",
       "      <td>0.389963</td>\n",
       "      <td>0.323980</td>\n",
       "      <td>0.148477</td>\n",
       "      <td>0.249054</td>\n",
       "      <td>-0.026748</td>\n",
       "      <td>-0.356787</td>\n",
       "      <td>-0.474734</td>\n",
       "      <td>-0.547507</td>\n",
       "      <td>0.585736</td>\n",
       "    </tr>\n",
       "    <tr>\n",
       "      <th>length</th>\n",
       "      <td>-0.355241</td>\n",
       "      <td>1.960561e-02</td>\n",
       "      <td>0.116882</td>\n",
       "      <td>-0.210941</td>\n",
       "      <td>0.234892</td>\n",
       "      <td>-0.360733</td>\n",
       "      <td>0.332377</td>\n",
       "      <td>0.483780</td>\n",
       "      <td>-5.538023e-02</td>\n",
       "      <td>0.878545</td>\n",
       "      <td>...</td>\n",
       "      <td>0.684115</td>\n",
       "      <td>0.557866</td>\n",
       "      <td>0.463680</td>\n",
       "      <td>0.062546</td>\n",
       "      <td>0.161443</td>\n",
       "      <td>0.057099</td>\n",
       "      <td>-0.286449</td>\n",
       "      <td>-0.673095</td>\n",
       "      <td>-0.706907</td>\n",
       "      <td>0.683141</td>\n",
       "    </tr>\n",
       "    <tr>\n",
       "      <th>width</th>\n",
       "      <td>-0.225564</td>\n",
       "      <td>6.969895e-02</td>\n",
       "      <td>0.009182</td>\n",
       "      <td>-0.234045</td>\n",
       "      <td>0.297890</td>\n",
       "      <td>-0.172048</td>\n",
       "      <td>0.112831</td>\n",
       "      <td>0.473737</td>\n",
       "      <td>-2.342655e-02</td>\n",
       "      <td>0.781724</td>\n",
       "      <td>...</td>\n",
       "      <td>0.729941</td>\n",
       "      <td>0.520754</td>\n",
       "      <td>0.333467</td>\n",
       "      <td>0.080731</td>\n",
       "      <td>0.183368</td>\n",
       "      <td>0.046619</td>\n",
       "      <td>-0.212012</td>\n",
       "      <td>-0.643743</td>\n",
       "      <td>-0.679439</td>\n",
       "      <td>0.723155</td>\n",
       "    </tr>\n",
       "    <tr>\n",
       "      <th>height</th>\n",
       "      <td>-0.528854</td>\n",
       "      <td>-3.668147e-01</td>\n",
       "      <td>0.240635</td>\n",
       "      <td>-0.265456</td>\n",
       "      <td>0.079363</td>\n",
       "      <td>-0.506298</td>\n",
       "      <td>0.568656</td>\n",
       "      <td>-0.026099</td>\n",
       "      <td>-1.115845e-01</td>\n",
       "      <td>0.577863</td>\n",
       "      <td>...</td>\n",
       "      <td>0.062360</td>\n",
       "      <td>0.024181</td>\n",
       "      <td>0.262837</td>\n",
       "      <td>0.056419</td>\n",
       "      <td>0.250320</td>\n",
       "      <td>-0.033662</td>\n",
       "      <td>-0.304109</td>\n",
       "      <td>-0.051101</td>\n",
       "      <td>-0.107036</td>\n",
       "      <td>0.124826</td>\n",
       "    </tr>\n",
       "    <tr>\n",
       "      <th>curb-weight</th>\n",
       "      <td>-0.227691</td>\n",
       "      <td>9.778529e-02</td>\n",
       "      <td>0.024015</td>\n",
       "      <td>-0.217275</td>\n",
       "      <td>0.324902</td>\n",
       "      <td>-0.175324</td>\n",
       "      <td>0.128467</td>\n",
       "      <td>0.575111</td>\n",
       "      <td>5.046820e-02</td>\n",
       "      <td>0.777860</td>\n",
       "      <td>...</td>\n",
       "      <td>0.850594</td>\n",
       "      <td>0.611642</td>\n",
       "      <td>0.381368</td>\n",
       "      <td>0.064508</td>\n",
       "      <td>0.159920</td>\n",
       "      <td>0.016088</td>\n",
       "      <td>-0.266282</td>\n",
       "      <td>-0.757414</td>\n",
       "      <td>-0.797465</td>\n",
       "      <td>0.820825</td>\n",
       "    </tr>\n",
       "    <tr>\n",
       "      <th>engine-type</th>\n",
       "      <td>0.050372</td>\n",
       "      <td>-8.420287e-02</td>\n",
       "      <td>-0.051538</td>\n",
       "      <td>0.082695</td>\n",
       "      <td>-0.102963</td>\n",
       "      <td>0.060720</td>\n",
       "      <td>-0.037024</td>\n",
       "      <td>-0.116823</td>\n",
       "      <td>1.141270e-01</td>\n",
       "      <td>-0.130159</td>\n",
       "      <td>...</td>\n",
       "      <td>0.040766</td>\n",
       "      <td>-0.091787</td>\n",
       "      <td>-0.009745</td>\n",
       "      <td>-0.227698</td>\n",
       "      <td>-0.078645</td>\n",
       "      <td>-0.001066</td>\n",
       "      <td>0.005592</td>\n",
       "      <td>-0.085004</td>\n",
       "      <td>-0.078456</td>\n",
       "      <td>0.071536</td>\n",
       "    </tr>\n",
       "    <tr>\n",
       "      <th>num-of-cylinders</th>\n",
       "      <td>0.197762</td>\n",
       "      <td>1.668239e-01</td>\n",
       "      <td>-0.039937</td>\n",
       "      <td>0.110617</td>\n",
       "      <td>-0.133119</td>\n",
       "      <td>0.153314</td>\n",
       "      <td>-0.048408</td>\n",
       "      <td>0.223238</td>\n",
       "      <td>1.355413e-01</td>\n",
       "      <td>-0.175816</td>\n",
       "      <td>...</td>\n",
       "      <td>-0.085613</td>\n",
       "      <td>0.011970</td>\n",
       "      <td>-0.005983</td>\n",
       "      <td>-0.043871</td>\n",
       "      <td>-0.065387</td>\n",
       "      <td>-0.011108</td>\n",
       "      <td>0.222658</td>\n",
       "      <td>-0.126422</td>\n",
       "      <td>-0.085897</td>\n",
       "      <td>0.005384</td>\n",
       "    </tr>\n",
       "    <tr>\n",
       "      <th>engine-size</th>\n",
       "      <td>-0.105790</td>\n",
       "      <td>1.109969e-01</td>\n",
       "      <td>-0.070918</td>\n",
       "      <td>-0.069594</td>\n",
       "      <td>0.108217</td>\n",
       "      <td>-0.005701</td>\n",
       "      <td>-0.073352</td>\n",
       "      <td>0.524307</td>\n",
       "      <td>1.968263e-01</td>\n",
       "      <td>0.570816</td>\n",
       "      <td>...</td>\n",
       "      <td>1.000000</td>\n",
       "      <td>0.514070</td>\n",
       "      <td>0.281607</td>\n",
       "      <td>0.036296</td>\n",
       "      <td>0.036602</td>\n",
       "      <td>0.036968</td>\n",
       "      <td>-0.244600</td>\n",
       "      <td>-0.653658</td>\n",
       "      <td>-0.677470</td>\n",
       "      <td>0.861752</td>\n",
       "    </tr>\n",
       "    <tr>\n",
       "      <th>fuel-system</th>\n",
       "      <td>0.091163</td>\n",
       "      <td>2.280346e-01</td>\n",
       "      <td>0.146624</td>\n",
       "      <td>0.041529</td>\n",
       "      <td>0.288086</td>\n",
       "      <td>-0.000323</td>\n",
       "      <td>-0.065079</td>\n",
       "      <td>0.424686</td>\n",
       "      <td>1.059713e-01</td>\n",
       "      <td>0.389963</td>\n",
       "      <td>...</td>\n",
       "      <td>0.514070</td>\n",
       "      <td>1.000000</td>\n",
       "      <td>0.375836</td>\n",
       "      <td>-0.045918</td>\n",
       "      <td>-0.101954</td>\n",
       "      <td>0.106438</td>\n",
       "      <td>0.014707</td>\n",
       "      <td>-0.671581</td>\n",
       "      <td>-0.645659</td>\n",
       "      <td>0.516533</td>\n",
       "    </tr>\n",
       "    <tr>\n",
       "      <th>bore</th>\n",
       "      <td>-0.122112</td>\n",
       "      <td>-1.095497e-01</td>\n",
       "      <td>0.258004</td>\n",
       "      <td>-0.064795</td>\n",
       "      <td>0.166830</td>\n",
       "      <td>-0.157658</td>\n",
       "      <td>0.110676</td>\n",
       "      <td>0.181554</td>\n",
       "      <td>4.332247e-02</td>\n",
       "      <td>0.323980</td>\n",
       "      <td>...</td>\n",
       "      <td>0.281607</td>\n",
       "      <td>0.375836</td>\n",
       "      <td>1.000000</td>\n",
       "      <td>-0.066831</td>\n",
       "      <td>0.025316</td>\n",
       "      <td>0.043869</td>\n",
       "      <td>-0.278273</td>\n",
       "      <td>-0.426184</td>\n",
       "      <td>-0.415610</td>\n",
       "      <td>0.268115</td>\n",
       "    </tr>\n",
       "    <tr>\n",
       "      <th>stroke</th>\n",
       "      <td>-0.076884</td>\n",
       "      <td>9.090780e-02</td>\n",
       "      <td>-0.123254</td>\n",
       "      <td>-0.103911</td>\n",
       "      <td>0.073610</td>\n",
       "      <td>-0.046524</td>\n",
       "      <td>0.059036</td>\n",
       "      <td>0.082601</td>\n",
       "      <td>-3.203645e-01</td>\n",
       "      <td>0.148477</td>\n",
       "      <td>...</td>\n",
       "      <td>0.036296</td>\n",
       "      <td>-0.045918</td>\n",
       "      <td>-0.066831</td>\n",
       "      <td>1.000000</td>\n",
       "      <td>0.092619</td>\n",
       "      <td>0.029901</td>\n",
       "      <td>-0.002776</td>\n",
       "      <td>0.087670</td>\n",
       "      <td>0.088928</td>\n",
       "      <td>-0.029047</td>\n",
       "    </tr>\n",
       "    <tr>\n",
       "      <th>compression-ratio</th>\n",
       "      <td>-0.171731</td>\n",
       "      <td>-1.158254e-01</td>\n",
       "      <td>0.136030</td>\n",
       "      <td>-0.982732</td>\n",
       "      <td>0.294949</td>\n",
       "      <td>-0.188059</td>\n",
       "      <td>0.137310</td>\n",
       "      <td>0.128359</td>\n",
       "      <td>-2.597734e-02</td>\n",
       "      <td>0.249054</td>\n",
       "      <td>...</td>\n",
       "      <td>0.036602</td>\n",
       "      <td>-0.101954</td>\n",
       "      <td>0.025316</td>\n",
       "      <td>0.092619</td>\n",
       "      <td>1.000000</td>\n",
       "      <td>-0.052169</td>\n",
       "      <td>-0.439919</td>\n",
       "      <td>0.317017</td>\n",
       "      <td>0.258097</td>\n",
       "      <td>0.075429</td>\n",
       "    </tr>\n",
       "    <tr>\n",
       "      <th>horsepower</th>\n",
       "      <td>0.015430</td>\n",
       "      <td>6.224364e-03</td>\n",
       "      <td>0.058665</td>\n",
       "      <td>0.037675</td>\n",
       "      <td>-0.039211</td>\n",
       "      <td>0.018703</td>\n",
       "      <td>0.039949</td>\n",
       "      <td>-0.042627</td>\n",
       "      <td>-2.372864e-03</td>\n",
       "      <td>-0.026748</td>\n",
       "      <td>...</td>\n",
       "      <td>0.036968</td>\n",
       "      <td>0.106438</td>\n",
       "      <td>0.043869</td>\n",
       "      <td>0.029901</td>\n",
       "      <td>-0.052169</td>\n",
       "      <td>1.000000</td>\n",
       "      <td>0.003931</td>\n",
       "      <td>-0.058315</td>\n",
       "      <td>-0.019994</td>\n",
       "      <td>-0.022465</td>\n",
       "    </tr>\n",
       "    <tr>\n",
       "      <th>peak-rpm</th>\n",
       "      <td>0.273678</td>\n",
       "      <td>2.377476e-01</td>\n",
       "      <td>-0.218347</td>\n",
       "      <td>0.477058</td>\n",
       "      <td>-0.183626</td>\n",
       "      <td>0.233903</td>\n",
       "      <td>-0.109414</td>\n",
       "      <td>-0.039719</td>\n",
       "      <td>1.984011e-01</td>\n",
       "      <td>-0.356787</td>\n",
       "      <td>...</td>\n",
       "      <td>-0.244600</td>\n",
       "      <td>0.014707</td>\n",
       "      <td>-0.278273</td>\n",
       "      <td>-0.002776</td>\n",
       "      <td>-0.439919</td>\n",
       "      <td>0.003931</td>\n",
       "      <td>1.000000</td>\n",
       "      <td>-0.113720</td>\n",
       "      <td>-0.054257</td>\n",
       "      <td>-0.100851</td>\n",
       "    </tr>\n",
       "    <tr>\n",
       "      <th>city-mpg</th>\n",
       "      <td>-0.035823</td>\n",
       "      <td>-2.187488e-01</td>\n",
       "      <td>0.053642</td>\n",
       "      <td>-0.255963</td>\n",
       "      <td>-0.202362</td>\n",
       "      <td>-0.000142</td>\n",
       "      <td>0.031697</td>\n",
       "      <td>-0.449581</td>\n",
       "      <td>-1.534875e-01</td>\n",
       "      <td>-0.474734</td>\n",
       "      <td>...</td>\n",
       "      <td>-0.653658</td>\n",
       "      <td>-0.671581</td>\n",
       "      <td>-0.426184</td>\n",
       "      <td>0.087670</td>\n",
       "      <td>0.317017</td>\n",
       "      <td>-0.058315</td>\n",
       "      <td>-0.113720</td>\n",
       "      <td>1.000000</td>\n",
       "      <td>0.971337</td>\n",
       "      <td>-0.667449</td>\n",
       "    </tr>\n",
       "    <tr>\n",
       "      <th>highway-mpg</th>\n",
       "      <td>0.034606</td>\n",
       "      <td>-1.782209e-01</td>\n",
       "      <td>0.050022</td>\n",
       "      <td>-0.191392</td>\n",
       "      <td>-0.254416</td>\n",
       "      <td>0.021628</td>\n",
       "      <td>-0.007170</td>\n",
       "      <td>-0.452220</td>\n",
       "      <td>-1.020262e-01</td>\n",
       "      <td>-0.547507</td>\n",
       "      <td>...</td>\n",
       "      <td>-0.677470</td>\n",
       "      <td>-0.645659</td>\n",
       "      <td>-0.415610</td>\n",
       "      <td>0.088928</td>\n",
       "      <td>0.258097</td>\n",
       "      <td>-0.019994</td>\n",
       "      <td>-0.054257</td>\n",
       "      <td>0.971337</td>\n",
       "      <td>1.000000</td>\n",
       "      <td>-0.690526</td>\n",
       "    </tr>\n",
       "    <tr>\n",
       "      <th>price</th>\n",
       "      <td>-0.082201</td>\n",
       "      <td>1.339987e-01</td>\n",
       "      <td>-0.161471</td>\n",
       "      <td>-0.110207</td>\n",
       "      <td>0.177285</td>\n",
       "      <td>-0.031934</td>\n",
       "      <td>-0.072677</td>\n",
       "      <td>0.576867</td>\n",
       "      <td>3.310130e-01</td>\n",
       "      <td>0.585736</td>\n",
       "      <td>...</td>\n",
       "      <td>0.861752</td>\n",
       "      <td>0.516533</td>\n",
       "      <td>0.268115</td>\n",
       "      <td>-0.029047</td>\n",
       "      <td>0.075429</td>\n",
       "      <td>-0.022465</td>\n",
       "      <td>-0.100851</td>\n",
       "      <td>-0.667449</td>\n",
       "      <td>-0.690526</td>\n",
       "      <td>1.000000</td>\n",
       "    </tr>\n",
       "  </tbody>\n",
       "</table>\n",
       "<p>26 rows × 26 columns</p>\n",
       "</div>"
      ],
      "text/plain": [
       "                   symboling  normalized-losses      make  fuel-type  \\\n",
       "symboling           1.000000       4.651899e-01 -0.118794   0.194311   \n",
       "normalized-losses   0.465190       1.000000e+00 -0.250975   0.101437   \n",
       "make               -0.118794      -2.509755e-01  1.000000  -0.113191   \n",
       "fuel-type           0.194311       1.014370e-01 -0.113191   1.000000   \n",
       "aspiration         -0.059866      -6.822700e-03  0.054265  -0.401397   \n",
       "num-of-doors        0.645492       3.368845e-01 -0.127416   0.207665   \n",
       "body-style         -0.596135      -2.508926e-01  0.089494  -0.147853   \n",
       "drive-wheels       -0.041671       3.110317e-01 -0.004317  -0.132257   \n",
       "engine-location     0.212471      -2.918301e-17  0.054608   0.040070   \n",
       "wheel-base         -0.533322      -5.960954e-02  0.084751  -0.304407   \n",
       "length             -0.355241       1.960561e-02  0.116882  -0.210941   \n",
       "width              -0.225564       6.969895e-02  0.009182  -0.234045   \n",
       "height             -0.528854      -3.668147e-01  0.240635  -0.265456   \n",
       "curb-weight        -0.227691       9.778529e-02  0.024015  -0.217275   \n",
       "engine-type         0.050372      -8.420287e-02 -0.051538   0.082695   \n",
       "num-of-cylinders    0.197762       1.668239e-01 -0.039937   0.110617   \n",
       "engine-size        -0.105790       1.109969e-01 -0.070918  -0.069594   \n",
       "fuel-system         0.091163       2.280346e-01  0.146624   0.041529   \n",
       "bore               -0.122112      -1.095497e-01  0.258004  -0.064795   \n",
       "stroke             -0.076884       9.090780e-02 -0.123254  -0.103911   \n",
       "compression-ratio  -0.171731      -1.158254e-01  0.136030  -0.982732   \n",
       "horsepower          0.015430       6.224364e-03  0.058665   0.037675   \n",
       "peak-rpm            0.273678       2.377476e-01 -0.218347   0.477058   \n",
       "city-mpg           -0.035823      -2.187488e-01  0.053642  -0.255963   \n",
       "highway-mpg         0.034606      -1.782209e-01  0.050022  -0.191392   \n",
       "price              -0.082201       1.339987e-01 -0.161471  -0.110207   \n",
       "\n",
       "                   aspiration  num-of-doors  body-style  drive-wheels  \\\n",
       "symboling           -0.059866      0.645492   -0.596135     -0.041671   \n",
       "normalized-losses   -0.006823      0.336885   -0.250893      0.311032   \n",
       "make                 0.054265     -0.127416    0.089494     -0.004317   \n",
       "fuel-type           -0.401397      0.207665   -0.147853     -0.132257   \n",
       "aspiration           1.000000     -0.066737    0.063028      0.066465   \n",
       "num-of-doors        -0.066737      1.000000   -0.670198      0.112398   \n",
       "body-style           0.063028     -0.670198    1.000000     -0.155745   \n",
       "drive-wheels         0.066465      0.112398   -0.155745      1.000000   \n",
       "engine-location     -0.057191      0.136578   -0.277009      0.147865   \n",
       "wheel-base           0.255692     -0.415741    0.404010      0.462127   \n",
       "length               0.234892     -0.360733    0.332377      0.483780   \n",
       "width                0.297890     -0.172048    0.112831      0.473737   \n",
       "height               0.079363     -0.506298    0.568656     -0.026099   \n",
       "curb-weight          0.324902     -0.175324    0.128467      0.575111   \n",
       "engine-type         -0.102963      0.060720   -0.037024     -0.116823   \n",
       "num-of-cylinders    -0.133119      0.153314   -0.048408      0.223238   \n",
       "engine-size          0.108217     -0.005701   -0.073352      0.524307   \n",
       "fuel-system          0.288086     -0.000323   -0.065079      0.424686   \n",
       "bore                 0.166830     -0.157658    0.110676      0.181554   \n",
       "stroke               0.073610     -0.046524    0.059036      0.082601   \n",
       "compression-ratio    0.294949     -0.188059    0.137310      0.128359   \n",
       "horsepower          -0.039211      0.018703    0.039949     -0.042627   \n",
       "peak-rpm            -0.183626      0.233903   -0.109414     -0.039719   \n",
       "city-mpg            -0.202362     -0.000142    0.031697     -0.449581   \n",
       "highway-mpg         -0.254416      0.021628   -0.007170     -0.452220   \n",
       "price                0.177285     -0.031934   -0.072677      0.576867   \n",
       "\n",
       "                   engine-location  wheel-base  ...  engine-size  fuel-system  \\\n",
       "symboling             2.124709e-01   -0.533322  ...    -0.105790     0.091163   \n",
       "normalized-losses    -2.918301e-17   -0.059610  ...     0.110997     0.228035   \n",
       "make                  5.460831e-02    0.084751  ...    -0.070918     0.146624   \n",
       "fuel-type             4.006951e-02   -0.304407  ...    -0.069594     0.041529   \n",
       "aspiration           -5.719146e-02    0.255692  ...     0.108217     0.288086   \n",
       "num-of-doors          1.365776e-01   -0.415741  ...    -0.005701    -0.000323   \n",
       "body-style           -2.770093e-01    0.404010  ...    -0.073352    -0.065079   \n",
       "drive-wheels          1.478645e-01    0.462127  ...     0.524307     0.424686   \n",
       "engine-location       1.000000e+00   -0.187241  ...     0.196826     0.105971   \n",
       "wheel-base           -1.872415e-01    1.000000  ...     0.570816     0.389963   \n",
       "length               -5.538023e-02    0.878545  ...     0.684115     0.557866   \n",
       "width                -2.342655e-02    0.781724  ...     0.729941     0.520754   \n",
       "height               -1.115845e-01    0.577863  ...     0.062360     0.024181   \n",
       "curb-weight           5.046820e-02    0.777860  ...     0.850594     0.611642   \n",
       "engine-type           1.141270e-01   -0.130159  ...     0.040766    -0.091787   \n",
       "num-of-cylinders      1.355413e-01   -0.175816  ...    -0.085613     0.011970   \n",
       "engine-size           1.968263e-01    0.570816  ...     1.000000     0.514070   \n",
       "fuel-system           1.059713e-01    0.389963  ...     0.514070     1.000000   \n",
       "bore                  4.332247e-02    0.323980  ...     0.281607     0.375836   \n",
       "stroke               -3.203645e-01    0.148477  ...     0.036296    -0.045918   \n",
       "compression-ratio    -2.597734e-02    0.249054  ...     0.036602    -0.101954   \n",
       "horsepower           -2.372864e-03   -0.026748  ...     0.036968     0.106438   \n",
       "peak-rpm              1.984011e-01   -0.356787  ...    -0.244600     0.014707   \n",
       "city-mpg             -1.534875e-01   -0.474734  ...    -0.653658    -0.671581   \n",
       "highway-mpg          -1.020262e-01   -0.547507  ...    -0.677470    -0.645659   \n",
       "price                 3.310130e-01    0.585736  ...     0.861752     0.516533   \n",
       "\n",
       "                       bore    stroke  compression-ratio  horsepower  \\\n",
       "symboling         -0.122112 -0.076884          -0.171731    0.015430   \n",
       "normalized-losses -0.109550  0.090908          -0.115825    0.006224   \n",
       "make               0.258004 -0.123254           0.136030    0.058665   \n",
       "fuel-type         -0.064795 -0.103911          -0.982732    0.037675   \n",
       "aspiration         0.166830  0.073610           0.294949   -0.039211   \n",
       "num-of-doors      -0.157658 -0.046524          -0.188059    0.018703   \n",
       "body-style         0.110676  0.059036           0.137310    0.039949   \n",
       "drive-wheels       0.181554  0.082601           0.128359   -0.042627   \n",
       "engine-location    0.043322 -0.320364          -0.025977   -0.002373   \n",
       "wheel-base         0.323980  0.148477           0.249054   -0.026748   \n",
       "length             0.463680  0.062546           0.161443    0.057099   \n",
       "width              0.333467  0.080731           0.183368    0.046619   \n",
       "height             0.262837  0.056419           0.250320   -0.033662   \n",
       "curb-weight        0.381368  0.064508           0.159920    0.016088   \n",
       "engine-type       -0.009745 -0.227698          -0.078645   -0.001066   \n",
       "num-of-cylinders  -0.005983 -0.043871          -0.065387   -0.011108   \n",
       "engine-size        0.281607  0.036296           0.036602    0.036968   \n",
       "fuel-system        0.375836 -0.045918          -0.101954    0.106438   \n",
       "bore               1.000000 -0.066831           0.025316    0.043869   \n",
       "stroke            -0.066831  1.000000           0.092619    0.029901   \n",
       "compression-ratio  0.025316  0.092619           1.000000   -0.052169   \n",
       "horsepower         0.043869  0.029901          -0.052169    1.000000   \n",
       "peak-rpm          -0.278273 -0.002776          -0.439919    0.003931   \n",
       "city-mpg          -0.426184  0.087670           0.317017   -0.058315   \n",
       "highway-mpg       -0.415610  0.088928           0.258097   -0.019994   \n",
       "price              0.268115 -0.029047           0.075429   -0.022465   \n",
       "\n",
       "                   peak-rpm  city-mpg  highway-mpg     price  \n",
       "symboling          0.273678 -0.035823     0.034606 -0.082201  \n",
       "normalized-losses  0.237748 -0.218749    -0.178221  0.133999  \n",
       "make              -0.218347  0.053642     0.050022 -0.161471  \n",
       "fuel-type          0.477058 -0.255963    -0.191392 -0.110207  \n",
       "aspiration        -0.183626 -0.202362    -0.254416  0.177285  \n",
       "num-of-doors       0.233903 -0.000142     0.021628 -0.031934  \n",
       "body-style        -0.109414  0.031697    -0.007170 -0.072677  \n",
       "drive-wheels      -0.039719 -0.449581    -0.452220  0.576867  \n",
       "engine-location    0.198401 -0.153487    -0.102026  0.331013  \n",
       "wheel-base        -0.356787 -0.474734    -0.547507  0.585736  \n",
       "length            -0.286449 -0.673095    -0.706907  0.683141  \n",
       "width             -0.212012 -0.643743    -0.679439  0.723155  \n",
       "height            -0.304109 -0.051101    -0.107036  0.124826  \n",
       "curb-weight       -0.266282 -0.757414    -0.797465  0.820825  \n",
       "engine-type        0.005592 -0.085004    -0.078456  0.071536  \n",
       "num-of-cylinders   0.222658 -0.126422    -0.085897  0.005384  \n",
       "engine-size       -0.244600 -0.653658    -0.677470  0.861752  \n",
       "fuel-system        0.014707 -0.671581    -0.645659  0.516533  \n",
       "bore              -0.278273 -0.426184    -0.415610  0.268115  \n",
       "stroke            -0.002776  0.087670     0.088928 -0.029047  \n",
       "compression-ratio -0.439919  0.317017     0.258097  0.075429  \n",
       "horsepower         0.003931 -0.058315    -0.019994 -0.022465  \n",
       "peak-rpm           1.000000 -0.113720    -0.054257 -0.100851  \n",
       "city-mpg          -0.113720  1.000000     0.971337 -0.667449  \n",
       "highway-mpg       -0.054257  0.971337     1.000000 -0.690526  \n",
       "price             -0.100851 -0.667449    -0.690526  1.000000  \n",
       "\n",
       "[26 rows x 26 columns]"
      ]
     },
     "execution_count": 28,
     "metadata": {},
     "output_type": "execute_result"
    }
   ],
   "source": [
    "automobile.corr()"
   ]
  },
  {
   "cell_type": "markdown",
   "metadata": {
    "tags": [
     "skip"
    ]
   },
   "source": [
    "## Model Training"
   ]
  },
  {
   "cell_type": "code",
   "execution_count": 29,
   "metadata": {
    "tags": [
     "block:train_test_split",
     "prev:featureengineering"
    ]
   },
   "outputs": [],
   "source": [
    "X = automobile.drop(columns = ['price'])\n",
    "Y = automobile['price']"
   ]
  },
  {
   "cell_type": "markdown",
   "metadata": {
    "tags": []
   },
   "source": [
    "### Logistic Regression"
   ]
  },
  {
   "cell_type": "code",
   "execution_count": 30,
   "metadata": {
    "tags": [
     "block:logistic_regression",
     "prev:train_test_split"
    ]
   },
   "outputs": [],
   "source": [
    "X_train_lr, X_test_lr, y_train_lr, y_test_lr = train_test_split(X, Y, test_size=0.30)"
   ]
  },
  {
   "cell_type": "code",
   "execution_count": 31,
   "metadata": {
    "tags": []
   },
   "outputs": [
    {
     "data": {
      "text/plain": [
       "63.64"
      ]
     },
     "execution_count": 31,
     "metadata": {},
     "output_type": "execute_result"
    }
   ],
   "source": [
    "logreg = LogisticRegression(solver='lbfgs', max_iter=110)\n",
    "lr = logreg.fit(X_train_lr, y_train_lr)\n",
    "acc_log = round(logreg.score(X_train_lr, y_train_lr) * 100, 2)\n",
    "acc_log"
   ]
  },
  {
   "cell_type": "markdown",
   "metadata": {
    "tags": []
   },
   "source": [
    "### Random Forest"
   ]
  },
  {
   "cell_type": "code",
   "execution_count": 32,
   "metadata": {
    "tags": [
     "block:random_forest",
     "prev:train_test_split"
    ]
   },
   "outputs": [],
   "source": [
    "X_train_rf, X_test_rf, y_train_rf, y_test_rf = train_test_split(X, Y, test_size=0.30)"
   ]
  },
  {
   "cell_type": "code",
   "execution_count": 33,
   "metadata": {
    "tags": []
   },
   "outputs": [
    {
     "data": {
      "text/plain": [
       "97.9"
      ]
     },
     "execution_count": 33,
     "metadata": {},
     "output_type": "execute_result"
    }
   ],
   "source": [
    "random_forest = RandomForestClassifier(n_estimators=100)\n",
    "rf = random_forest.fit(X_train_rf, y_train_rf)\n",
    "acc_random_forest = round(random_forest.score(X_train_rf, y_train_rf) * 100, 2)\n",
    "acc_random_forest"
   ]
  },
  {
   "cell_type": "markdown",
   "metadata": {
    "tags": []
   },
   "source": [
    "### Gaussian Naive Bayes"
   ]
  },
  {
   "cell_type": "code",
   "execution_count": 34,
   "metadata": {
    "tags": [
     "block:gaussian_naive_bayes",
     "prev:train_test_split"
    ]
   },
   "outputs": [],
   "source": [
    "X_train_gnb, X_test_gnb, y_train_gnb, y_test_gnb = train_test_split(X, Y, test_size=0.30)"
   ]
  },
  {
   "cell_type": "code",
   "execution_count": 35,
   "metadata": {
    "tags": []
   },
   "outputs": [
    {
     "data": {
      "text/plain": [
       "96.5"
      ]
     },
     "execution_count": 35,
     "metadata": {},
     "output_type": "execute_result"
    }
   ],
   "source": [
    "gaussian = GaussianNB()\n",
    "gnb = gaussian.fit(X_train_gnb, y_train_gnb)\n",
    "acc_gaussian = round(gaussian.score(X_train_gnb, y_train_gnb) * 100, 2)\n",
    "acc_gaussian"
   ]
  },
  {
   "cell_type": "markdown",
   "metadata": {
    "tags": []
   },
   "source": [
    "### Support Vector Machine"
   ]
  },
  {
   "cell_type": "code",
   "execution_count": 36,
   "metadata": {
    "tags": [
     "block:support_vector_machine",
     "prev:train_test_split"
    ]
   },
   "outputs": [],
   "source": [
    "X_train_svm, X_test_svm, y_train_svm, y_test_svm = train_test_split(X, Y, test_size=0.30)"
   ]
  },
  {
   "cell_type": "code",
   "execution_count": 37,
   "metadata": {
    "tags": []
   },
   "outputs": [
    {
     "data": {
      "text/plain": [
       "99.3"
      ]
     },
     "execution_count": 37,
     "metadata": {},
     "output_type": "execute_result"
    }
   ],
   "source": [
    "linear_svc = SVC(gamma='auto')\n",
    "svm = linear_svc.fit(X_train_svm, y_train_svm)\n",
    "acc_linear_svc = round(linear_svc.score(X_train_svm, y_train_svm) * 100, 2)\n",
    "acc_linear_svc"
   ]
  },
  {
   "cell_type": "markdown",
   "metadata": {
    "tags": []
   },
   "source": [
    "### Decision Tree"
   ]
  },
  {
   "cell_type": "code",
   "execution_count": 38,
   "metadata": {
    "tags": [
     "block:decision_tree",
     "prev:train_test_split"
    ]
   },
   "outputs": [],
   "source": [
    "X_train_dt, X_test_dt, y_train_dt, y_test_dt = train_test_split(X, Y, test_size=0.30)"
   ]
  },
  {
   "cell_type": "code",
   "execution_count": 39,
   "metadata": {
    "tags": []
   },
   "outputs": [
    {
     "data": {
      "text/plain": [
       "97.2"
      ]
     },
     "execution_count": 39,
     "metadata": {},
     "output_type": "execute_result"
    }
   ],
   "source": [
    "decision_tree = DecisionTreeClassifier()\n",
    "dt = decision_tree.fit(X_train_dt, y_train_dt)\n",
    "acc_decision_tree = round(decision_tree.score(X_train_dt, y_train_dt) * 100, 2)\n",
    "acc_decision_tree"
   ]
  },
  {
   "cell_type": "markdown",
   "metadata": {
    "tags": []
   },
   "source": [
    "### Preceptron"
   ]
  },
  {
   "cell_type": "code",
   "execution_count": 40,
   "metadata": {
    "tags": [
     "block:preceptron",
     "prev:train_test_split"
    ]
   },
   "outputs": [],
   "source": [
    "X_train_per, X_test_per, y_train_per, y_test_per = train_test_split(X, Y, test_size=0.30)"
   ]
  },
  {
   "cell_type": "code",
   "execution_count": 41,
   "metadata": {
    "tags": []
   },
   "outputs": [
    {
     "data": {
      "text/plain": [
       "1.4"
      ]
     },
     "execution_count": 41,
     "metadata": {},
     "output_type": "execute_result"
    }
   ],
   "source": [
    "perceptron = Perceptron()\n",
    "per = perceptron.fit(X_train_per, y_train_per)\n",
    "acc_perceptron = round(perceptron.score(X_train_per, y_train_per) * 100, 2)\n",
    "acc_perceptron"
   ]
  },
  {
   "cell_type": "markdown",
   "metadata": {
    "tags": []
   },
   "source": [
    "### K Nearest Neighbour"
   ]
  },
  {
   "cell_type": "code",
   "execution_count": 42,
   "metadata": {
    "tags": [
     "block:k_nearest_neighbour",
     "prev:train_test_split"
    ]
   },
   "outputs": [],
   "source": [
    "X_train_knn, X_test_knn, y_train_knn, y_test_knn = train_test_split(X, Y, test_size=0.30)"
   ]
  },
  {
   "cell_type": "code",
   "execution_count": 43,
   "metadata": {
    "tags": []
   },
   "outputs": [
    {
     "data": {
      "text/plain": [
       "20.98"
      ]
     },
     "execution_count": 43,
     "metadata": {},
     "output_type": "execute_result"
    }
   ],
   "source": [
    "knearestneighbour = KNeighborsClassifier()\n",
    "knn = knearestneighbour.fit(X_train_knn, y_train_knn)\n",
    "acc_knearest = round(knearestneighbour.score(X_train_knn, y_train_knn) * 100, 2)\n",
    "acc_knearest"
   ]
  },
  {
   "cell_type": "markdown",
   "metadata": {
    "tags": []
   },
   "source": [
    "### Stochastic Gradient Descent"
   ]
  },
  {
   "cell_type": "code",
   "execution_count": 44,
   "metadata": {
    "tags": [
     "block:stochastic_gradient_descent",
     "prev:train_test_split"
    ]
   },
   "outputs": [],
   "source": [
    "X_train_sgd, X_test_sgd, y_train_sgd, y_test_sgd = train_test_split(X, Y, test_size=0.30)"
   ]
  },
  {
   "cell_type": "code",
   "execution_count": 45,
   "metadata": {
    "tags": []
   },
   "outputs": [
    {
     "data": {
      "text/plain": [
       "2.1"
      ]
     },
     "execution_count": 45,
     "metadata": {},
     "output_type": "execute_result"
    }
   ],
   "source": [
    "stochasticgrad = SGDClassifier()\n",
    "sgd = stochasticgrad.fit(X_train_sgd, y_train_sgd)\n",
    "acc_sgd = round(stochasticgrad.score(X_train_sgd, y_train_sgd) * 100, 2)\n",
    "acc_sgd"
   ]
  },
  {
   "cell_type": "markdown",
   "metadata": {
    "tags": []
   },
   "source": [
    "### Gradient Boosting Classifier"
   ]
  },
  {
   "cell_type": "code",
   "execution_count": 46,
   "metadata": {
    "tags": [
     "block:gradient_boosting_classifier",
     "prev:train_test_split"
    ]
   },
   "outputs": [],
   "source": [
    "X_train_gbc, X_test_gbc, y_train_gbc, y_test_gbc = train_test_split(X, Y, test_size=0.30)"
   ]
  },
  {
   "cell_type": "code",
   "execution_count": 47,
   "metadata": {
    "tags": []
   },
   "outputs": [
    {
     "data": {
      "text/plain": [
       "97.9"
      ]
     },
     "execution_count": 47,
     "metadata": {},
     "output_type": "execute_result"
    }
   ],
   "source": [
    "gradientboostingclassifier = GradientBoostingClassifier()\n",
    "gbc = gradientboostingclassifier.fit(X_train_gbc, y_train_gbc)\n",
    "acc_gbc = round(gradientboostingclassifier.score(X_train_gbc, y_train_gbc) * 100, 2)\n",
    "acc_gbc"
   ]
  },
  {
   "cell_type": "markdown",
   "metadata": {
    "tags": []
   },
   "source": [
    "## Evaluating the Models"
   ]
  },
  {
   "cell_type": "code",
   "execution_count": 48,
   "metadata": {
    "tags": [
     "block:model_evaluation",
     "prev:gradient_boosting_classifier",
     "prev:stochastic_gradient_descent",
     "prev:k_nearest_neighbour",
     "prev:preceptron",
     "prev:decision_tree",
     "prev:support_vector_machine",
     "prev:gaussian_naive_bayes",
     "prev:random_forest",
     "prev:logistic_regression"
    ]
   },
   "outputs": [
    {
     "data": {
      "text/html": [
       "<div>\n",
       "<style scoped>\n",
       "    .dataframe tbody tr th:only-of-type {\n",
       "        vertical-align: middle;\n",
       "    }\n",
       "\n",
       "    .dataframe tbody tr th {\n",
       "        vertical-align: top;\n",
       "    }\n",
       "\n",
       "    .dataframe thead th {\n",
       "        text-align: right;\n",
       "    }\n",
       "</style>\n",
       "<table border=\"1\" class=\"dataframe\">\n",
       "  <thead>\n",
       "    <tr style=\"text-align: right;\">\n",
       "      <th></th>\n",
       "      <th>Model</th>\n",
       "      <th>Model_abb</th>\n",
       "    </tr>\n",
       "    <tr>\n",
       "      <th>Score</th>\n",
       "      <th></th>\n",
       "      <th></th>\n",
       "    </tr>\n",
       "  </thead>\n",
       "  <tbody>\n",
       "    <tr>\n",
       "      <th>99.30</th>\n",
       "      <td>Support Vector Machine</td>\n",
       "      <td>SVC(gamma='auto')</td>\n",
       "    </tr>\n",
       "    <tr>\n",
       "      <th>97.90</th>\n",
       "      <td>Random Forest</td>\n",
       "      <td>(DecisionTreeClassifier(max_features='auto', r...</td>\n",
       "    </tr>\n",
       "    <tr>\n",
       "      <th>97.90</th>\n",
       "      <td>Gradient Boosting Classifier</td>\n",
       "      <td>([DecisionTreeRegressor(criterion='friedman_ms...</td>\n",
       "    </tr>\n",
       "    <tr>\n",
       "      <th>97.20</th>\n",
       "      <td>Decision Tree</td>\n",
       "      <td>DecisionTreeClassifier()</td>\n",
       "    </tr>\n",
       "    <tr>\n",
       "      <th>96.50</th>\n",
       "      <td>Gaussian Naive Bayes</td>\n",
       "      <td>GaussianNB()</td>\n",
       "    </tr>\n",
       "    <tr>\n",
       "      <th>63.64</th>\n",
       "      <td>Logistic Regression</td>\n",
       "      <td>LogisticRegression(max_iter=110)</td>\n",
       "    </tr>\n",
       "    <tr>\n",
       "      <th>20.98</th>\n",
       "      <td>KNearest Neighbour</td>\n",
       "      <td>KNeighborsClassifier()</td>\n",
       "    </tr>\n",
       "    <tr>\n",
       "      <th>2.10</th>\n",
       "      <td>Stochastic Gradient Descent</td>\n",
       "      <td>SGDClassifier()</td>\n",
       "    </tr>\n",
       "    <tr>\n",
       "      <th>1.40</th>\n",
       "      <td>Preceptron</td>\n",
       "      <td>Perceptron()</td>\n",
       "    </tr>\n",
       "  </tbody>\n",
       "</table>\n",
       "</div>"
      ],
      "text/plain": [
       "                              Model  \\\n",
       "Score                                 \n",
       "99.30        Support Vector Machine   \n",
       "97.90                 Random Forest   \n",
       "97.90  Gradient Boosting Classifier   \n",
       "97.20                 Decision Tree   \n",
       "96.50          Gaussian Naive Bayes   \n",
       "63.64           Logistic Regression   \n",
       "20.98            KNearest Neighbour   \n",
       "2.10    Stochastic Gradient Descent   \n",
       "1.40                     Preceptron   \n",
       "\n",
       "                                               Model_abb  \n",
       "Score                                                     \n",
       "99.30                                  SVC(gamma='auto')  \n",
       "97.90  (DecisionTreeClassifier(max_features='auto', r...  \n",
       "97.90  ([DecisionTreeRegressor(criterion='friedman_ms...  \n",
       "97.20                           DecisionTreeClassifier()  \n",
       "96.50                                       GaussianNB()  \n",
       "63.64                   LogisticRegression(max_iter=110)  \n",
       "20.98                             KNeighborsClassifier()  \n",
       "2.10                                     SGDClassifier()  \n",
       "1.40                                        Perceptron()  "
      ]
     },
     "execution_count": 48,
     "metadata": {},
     "output_type": "execute_result"
    }
   ],
   "source": [
    "results = pd.DataFrame({\n",
    "    'Model': ['Logistic Regression', 'Random Forest', 'Gaussian Naive Bayes', 'Support Vector Machine', 'Decision Tree', 'Preceptron', 'KNearest Neighbour', 'Stochastic Gradient Descent', 'Gradient Boosting Classifier'],\n",
    "    'Score': [acc_log, acc_random_forest, acc_gaussian, acc_linear_svc, acc_decision_tree, acc_perceptron, acc_knearest, acc_sgd, acc_gbc],\n",
    "    'Model_abb': [lr, rf, gnb, svm, dt, per, knn, sgd, gbc]})\n",
    "result_df = results.sort_values(by='Score', ascending=False)\n",
    "result_df = result_df.set_index('Score')\n",
    "result_df"
   ]
  },
  {
   "cell_type": "code",
   "execution_count": 49,
   "metadata": {
    "tags": []
   },
   "outputs": [
    {
     "data": {
      "text/plain": [
       "SVC(gamma='auto')"
      ]
     },
     "execution_count": 49,
     "metadata": {},
     "output_type": "execute_result"
    }
   ],
   "source": [
    "best_model = result_df['Model_abb'].iloc[0]\n",
    "best_model"
   ]
  },
  {
   "cell_type": "code",
   "execution_count": 50,
   "metadata": {
    "tags": []
   },
   "outputs": [
    {
     "data": {
      "text/plain": [
       "['model.joblib']"
      ]
     },
     "execution_count": 50,
     "metadata": {},
     "output_type": "execute_result"
    }
   ],
   "source": [
    "joblib.dump(best_model, 'model.joblib')"
   ]
  },
  {
   "cell_type": "code",
   "execution_count": 51,
   "metadata": {
    "tags": []
   },
   "outputs": [
    {
     "data": {
      "text/plain": [
       "SVC(gamma='auto')"
      ]
     },
     "execution_count": 51,
     "metadata": {},
     "output_type": "execute_result"
    }
   ],
   "source": [
    "Model_job = joblib.load(\"model.joblib\")\n",
    "Model_job"
   ]
  },
  {
   "cell_type": "code",
   "execution_count": 52,
   "metadata": {
    "tags": []
   },
   "outputs": [
    {
     "data": {
      "text/plain": [
       "sklearn.svm._classes.SVC"
      ]
     },
     "execution_count": 52,
     "metadata": {},
     "output_type": "execute_result"
    }
   ],
   "source": [
    "type(Model_job)"
   ]
  },
  {
   "cell_type": "code",
   "execution_count": 53,
   "metadata": {
    "tags": [
     "block:model_predict",
     "prev:model_evaluation",
     "prev:random_forest"
    ]
   },
   "outputs": [
    {
     "data": {
      "text/plain": [
       "pandas.core.frame.DataFrame"
      ]
     },
     "execution_count": 53,
     "metadata": {},
     "output_type": "execute_result"
    }
   ],
   "source": [
    "type(X_test_rf)"
   ]
  },
  {
   "cell_type": "code",
   "execution_count": 54,
   "metadata": {
    "tags": []
   },
   "outputs": [
    {
     "data": {
      "text/html": [
       "<div>\n",
       "<style scoped>\n",
       "    .dataframe tbody tr th:only-of-type {\n",
       "        vertical-align: middle;\n",
       "    }\n",
       "\n",
       "    .dataframe tbody tr th {\n",
       "        vertical-align: top;\n",
       "    }\n",
       "\n",
       "    .dataframe thead th {\n",
       "        text-align: right;\n",
       "    }\n",
       "</style>\n",
       "<table border=\"1\" class=\"dataframe\">\n",
       "  <thead>\n",
       "    <tr style=\"text-align: right;\">\n",
       "      <th></th>\n",
       "      <th>symboling</th>\n",
       "      <th>normalized-losses</th>\n",
       "      <th>make</th>\n",
       "      <th>fuel-type</th>\n",
       "      <th>aspiration</th>\n",
       "      <th>num-of-doors</th>\n",
       "      <th>body-style</th>\n",
       "      <th>drive-wheels</th>\n",
       "      <th>engine-location</th>\n",
       "      <th>wheel-base</th>\n",
       "      <th>...</th>\n",
       "      <th>num-of-cylinders</th>\n",
       "      <th>engine-size</th>\n",
       "      <th>fuel-system</th>\n",
       "      <th>bore</th>\n",
       "      <th>stroke</th>\n",
       "      <th>compression-ratio</th>\n",
       "      <th>horsepower</th>\n",
       "      <th>peak-rpm</th>\n",
       "      <th>city-mpg</th>\n",
       "      <th>highway-mpg</th>\n",
       "    </tr>\n",
       "  </thead>\n",
       "  <tbody>\n",
       "    <tr>\n",
       "      <th>96</th>\n",
       "      <td>1</td>\n",
       "      <td>122</td>\n",
       "      <td>12</td>\n",
       "      <td>1</td>\n",
       "      <td>0</td>\n",
       "      <td>1</td>\n",
       "      <td>3</td>\n",
       "      <td>1</td>\n",
       "      <td>0</td>\n",
       "      <td>94</td>\n",
       "      <td>...</td>\n",
       "      <td>2</td>\n",
       "      <td>97</td>\n",
       "      <td>1</td>\n",
       "      <td>3</td>\n",
       "      <td>3</td>\n",
       "      <td>9</td>\n",
       "      <td>69</td>\n",
       "      <td>5200</td>\n",
       "      <td>31</td>\n",
       "      <td>37</td>\n",
       "    </tr>\n",
       "    <tr>\n",
       "      <th>45</th>\n",
       "      <td>0</td>\n",
       "      <td>122</td>\n",
       "      <td>6</td>\n",
       "      <td>1</td>\n",
       "      <td>0</td>\n",
       "      <td>1</td>\n",
       "      <td>3</td>\n",
       "      <td>1</td>\n",
       "      <td>0</td>\n",
       "      <td>94</td>\n",
       "      <td>...</td>\n",
       "      <td>2</td>\n",
       "      <td>90</td>\n",
       "      <td>1</td>\n",
       "      <td>3</td>\n",
       "      <td>3</td>\n",
       "      <td>9</td>\n",
       "      <td>70</td>\n",
       "      <td>5400</td>\n",
       "      <td>38</td>\n",
       "      <td>43</td>\n",
       "    </tr>\n",
       "    <tr>\n",
       "      <th>5</th>\n",
       "      <td>2</td>\n",
       "      <td>122</td>\n",
       "      <td>1</td>\n",
       "      <td>1</td>\n",
       "      <td>0</td>\n",
       "      <td>2</td>\n",
       "      <td>3</td>\n",
       "      <td>1</td>\n",
       "      <td>0</td>\n",
       "      <td>99</td>\n",
       "      <td>...</td>\n",
       "      <td>1</td>\n",
       "      <td>136</td>\n",
       "      <td>5</td>\n",
       "      <td>3</td>\n",
       "      <td>3</td>\n",
       "      <td>8</td>\n",
       "      <td>110</td>\n",
       "      <td>5500</td>\n",
       "      <td>19</td>\n",
       "      <td>25</td>\n",
       "    </tr>\n",
       "    <tr>\n",
       "      <th>16</th>\n",
       "      <td>0</td>\n",
       "      <td>122</td>\n",
       "      <td>2</td>\n",
       "      <td>1</td>\n",
       "      <td>0</td>\n",
       "      <td>2</td>\n",
       "      <td>3</td>\n",
       "      <td>2</td>\n",
       "      <td>0</td>\n",
       "      <td>103</td>\n",
       "      <td>...</td>\n",
       "      <td>3</td>\n",
       "      <td>209</td>\n",
       "      <td>5</td>\n",
       "      <td>3</td>\n",
       "      <td>3</td>\n",
       "      <td>8</td>\n",
       "      <td>182</td>\n",
       "      <td>5400</td>\n",
       "      <td>16</td>\n",
       "      <td>22</td>\n",
       "    </tr>\n",
       "    <tr>\n",
       "      <th>134</th>\n",
       "      <td>3</td>\n",
       "      <td>150</td>\n",
       "      <td>17</td>\n",
       "      <td>1</td>\n",
       "      <td>0</td>\n",
       "      <td>2</td>\n",
       "      <td>2</td>\n",
       "      <td>1</td>\n",
       "      <td>0</td>\n",
       "      <td>99</td>\n",
       "      <td>...</td>\n",
       "      <td>2</td>\n",
       "      <td>121</td>\n",
       "      <td>5</td>\n",
       "      <td>2</td>\n",
       "      <td>2</td>\n",
       "      <td>9</td>\n",
       "      <td>110</td>\n",
       "      <td>5250</td>\n",
       "      <td>21</td>\n",
       "      <td>28</td>\n",
       "    </tr>\n",
       "    <tr>\n",
       "      <th>...</th>\n",
       "      <td>...</td>\n",
       "      <td>...</td>\n",
       "      <td>...</td>\n",
       "      <td>...</td>\n",
       "      <td>...</td>\n",
       "      <td>...</td>\n",
       "      <td>...</td>\n",
       "      <td>...</td>\n",
       "      <td>...</td>\n",
       "      <td>...</td>\n",
       "      <td>...</td>\n",
       "      <td>...</td>\n",
       "      <td>...</td>\n",
       "      <td>...</td>\n",
       "      <td>...</td>\n",
       "      <td>...</td>\n",
       "      <td>...</td>\n",
       "      <td>...</td>\n",
       "      <td>...</td>\n",
       "      <td>...</td>\n",
       "      <td>...</td>\n",
       "    </tr>\n",
       "    <tr>\n",
       "      <th>70</th>\n",
       "      <td>-1</td>\n",
       "      <td>93</td>\n",
       "      <td>9</td>\n",
       "      <td>0</td>\n",
       "      <td>1</td>\n",
       "      <td>1</td>\n",
       "      <td>3</td>\n",
       "      <td>2</td>\n",
       "      <td>0</td>\n",
       "      <td>115</td>\n",
       "      <td>...</td>\n",
       "      <td>1</td>\n",
       "      <td>183</td>\n",
       "      <td>3</td>\n",
       "      <td>3</td>\n",
       "      <td>3</td>\n",
       "      <td>21</td>\n",
       "      <td>123</td>\n",
       "      <td>4350</td>\n",
       "      <td>22</td>\n",
       "      <td>25</td>\n",
       "    </tr>\n",
       "    <tr>\n",
       "      <th>56</th>\n",
       "      <td>3</td>\n",
       "      <td>150</td>\n",
       "      <td>8</td>\n",
       "      <td>1</td>\n",
       "      <td>0</td>\n",
       "      <td>2</td>\n",
       "      <td>2</td>\n",
       "      <td>2</td>\n",
       "      <td>0</td>\n",
       "      <td>95</td>\n",
       "      <td>...</td>\n",
       "      <td>6</td>\n",
       "      <td>70</td>\n",
       "      <td>2</td>\n",
       "      <td>3</td>\n",
       "      <td>3</td>\n",
       "      <td>9</td>\n",
       "      <td>101</td>\n",
       "      <td>6000</td>\n",
       "      <td>17</td>\n",
       "      <td>23</td>\n",
       "    </tr>\n",
       "    <tr>\n",
       "      <th>133</th>\n",
       "      <td>2</td>\n",
       "      <td>104</td>\n",
       "      <td>17</td>\n",
       "      <td>1</td>\n",
       "      <td>0</td>\n",
       "      <td>1</td>\n",
       "      <td>3</td>\n",
       "      <td>1</td>\n",
       "      <td>0</td>\n",
       "      <td>99</td>\n",
       "      <td>...</td>\n",
       "      <td>2</td>\n",
       "      <td>121</td>\n",
       "      <td>5</td>\n",
       "      <td>3</td>\n",
       "      <td>3</td>\n",
       "      <td>9</td>\n",
       "      <td>110</td>\n",
       "      <td>5250</td>\n",
       "      <td>21</td>\n",
       "      <td>28</td>\n",
       "    </tr>\n",
       "    <tr>\n",
       "      <th>112</th>\n",
       "      <td>0</td>\n",
       "      <td>161</td>\n",
       "      <td>13</td>\n",
       "      <td>0</td>\n",
       "      <td>1</td>\n",
       "      <td>1</td>\n",
       "      <td>3</td>\n",
       "      <td>2</td>\n",
       "      <td>0</td>\n",
       "      <td>107</td>\n",
       "      <td>...</td>\n",
       "      <td>2</td>\n",
       "      <td>152</td>\n",
       "      <td>3</td>\n",
       "      <td>3</td>\n",
       "      <td>3</td>\n",
       "      <td>21</td>\n",
       "      <td>95</td>\n",
       "      <td>4150</td>\n",
       "      <td>28</td>\n",
       "      <td>33</td>\n",
       "    </tr>\n",
       "    <tr>\n",
       "      <th>157</th>\n",
       "      <td>0</td>\n",
       "      <td>91</td>\n",
       "      <td>19</td>\n",
       "      <td>1</td>\n",
       "      <td>0</td>\n",
       "      <td>1</td>\n",
       "      <td>2</td>\n",
       "      <td>1</td>\n",
       "      <td>0</td>\n",
       "      <td>95</td>\n",
       "      <td>...</td>\n",
       "      <td>2</td>\n",
       "      <td>98</td>\n",
       "      <td>1</td>\n",
       "      <td>3</td>\n",
       "      <td>3</td>\n",
       "      <td>9</td>\n",
       "      <td>70</td>\n",
       "      <td>4800</td>\n",
       "      <td>30</td>\n",
       "      <td>37</td>\n",
       "    </tr>\n",
       "  </tbody>\n",
       "</table>\n",
       "<p>62 rows × 25 columns</p>\n",
       "</div>"
      ],
      "text/plain": [
       "     symboling  normalized-losses  make  fuel-type  aspiration  num-of-doors  \\\n",
       "96           1                122    12          1           0             1   \n",
       "45           0                122     6          1           0             1   \n",
       "5            2                122     1          1           0             2   \n",
       "16           0                122     2          1           0             2   \n",
       "134          3                150    17          1           0             2   \n",
       "..         ...                ...   ...        ...         ...           ...   \n",
       "70          -1                 93     9          0           1             1   \n",
       "56           3                150     8          1           0             2   \n",
       "133          2                104    17          1           0             1   \n",
       "112          0                161    13          0           1             1   \n",
       "157          0                 91    19          1           0             1   \n",
       "\n",
       "     body-style  drive-wheels  engine-location  wheel-base  ...  \\\n",
       "96            3             1                0          94  ...   \n",
       "45            3             1                0          94  ...   \n",
       "5             3             1                0          99  ...   \n",
       "16            3             2                0         103  ...   \n",
       "134           2             1                0          99  ...   \n",
       "..          ...           ...              ...         ...  ...   \n",
       "70            3             2                0         115  ...   \n",
       "56            2             2                0          95  ...   \n",
       "133           3             1                0          99  ...   \n",
       "112           3             2                0         107  ...   \n",
       "157           2             1                0          95  ...   \n",
       "\n",
       "     num-of-cylinders  engine-size  fuel-system  bore  stroke  \\\n",
       "96                  2           97            1     3       3   \n",
       "45                  2           90            1     3       3   \n",
       "5                   1          136            5     3       3   \n",
       "16                  3          209            5     3       3   \n",
       "134                 2          121            5     2       2   \n",
       "..                ...          ...          ...   ...     ...   \n",
       "70                  1          183            3     3       3   \n",
       "56                  6           70            2     3       3   \n",
       "133                 2          121            5     3       3   \n",
       "112                 2          152            3     3       3   \n",
       "157                 2           98            1     3       3   \n",
       "\n",
       "     compression-ratio  horsepower  peak-rpm  city-mpg  highway-mpg  \n",
       "96                   9          69      5200        31           37  \n",
       "45                   9          70      5400        38           43  \n",
       "5                    8         110      5500        19           25  \n",
       "16                   8         182      5400        16           22  \n",
       "134                  9         110      5250        21           28  \n",
       "..                 ...         ...       ...       ...          ...  \n",
       "70                  21         123      4350        22           25  \n",
       "56                   9         101      6000        17           23  \n",
       "133                  9         110      5250        21           28  \n",
       "112                 21          95      4150        28           33  \n",
       "157                  9          70      4800        30           37  \n",
       "\n",
       "[62 rows x 25 columns]"
      ]
     },
     "execution_count": 54,
     "metadata": {},
     "output_type": "execute_result"
    }
   ],
   "source": [
    "X_test_rf"
   ]
  },
  {
   "cell_type": "code",
   "execution_count": 55,
   "metadata": {
    "tags": []
   },
   "outputs": [
    {
     "data": {
      "text/plain": [
       "array([[  -1,   65,   19,    1,    0,    1,    2,    1,    0,  102,  175,\n",
       "          66,   53, 2458,    3,    2,  122,    5,    3,    3,    8,   92,\n",
       "        4200,   27,   32]])"
      ]
     },
     "execution_count": 55,
     "metadata": {},
     "output_type": "execute_result"
    }
   ],
   "source": [
    "pred = X_test_rf.values[55].reshape(1, -1)\n",
    "pred"
   ]
  },
  {
   "cell_type": "code",
   "execution_count": 56,
   "metadata": {
    "tags": []
   },
   "outputs": [
    {
     "data": {
      "text/plain": [
       "array([13207])"
      ]
     },
     "execution_count": 56,
     "metadata": {},
     "output_type": "execute_result"
    }
   ],
   "source": [
    "Model_job.predict(pred)"
   ]
  },
  {
   "cell_type": "code",
   "execution_count": null,
   "metadata": {
    "tags": []
   },
   "outputs": [],
   "source": []
  },
  {
   "cell_type": "code",
   "execution_count": null,
   "metadata": {
    "tags": []
   },
   "outputs": [],
   "source": []
  }
 ],
 "metadata": {
  "kernelspec": {
   "display_name": "Python 3",
   "language": "python",
   "name": "python3"
  },
  "kubeflow_notebook": {
   "autosnapshot": false,
   "docker_image": "katonic/usecaseb1:4.0",
   "experiment": {
    "id": "new",
    "name": "automobile"
   },
   "experiment_name": "automobile",
   "katib_metadata": {
    "algorithm": {
     "algorithmName": "grid"
    },
    "maxFailedTrialCount": 3,
    "maxTrialCount": 12,
    "objective": {
     "objectiveMetricName": "",
     "type": "minimize"
    },
    "parallelTrialCount": 3,
    "parameters": []
   },
   "katib_run": false,
   "pipeline_description": "Predict the automobile price given all the informations ",
   "pipeline_name": "automobile",
   "snapshot_volumes": false,
   "steps_defaults": [],
   "volume_access_mode": "rwo",
   "volumes": []
  },
  "language_info": {
   "codemirror_mode": {
    "name": "ipython",
    "version": 3
   },
   "file_extension": ".py",
   "mimetype": "text/x-python",
   "name": "python",
   "nbconvert_exporter": "python",
   "pygments_lexer": "ipython3",
   "version": "3.7.9"
  }
 },
 "nbformat": 4,
 "nbformat_minor": 4
}
