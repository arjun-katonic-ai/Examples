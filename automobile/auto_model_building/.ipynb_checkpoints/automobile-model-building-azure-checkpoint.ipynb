{
 "cells": [
  {
   "cell_type": "markdown",
   "metadata": {
    "tags": []
   },
   "source": [
    "# Automobile Dataset Description\n",
    "\n",
    "#### This dataset consist of data From 1985 Ward's Automotive Yearbook.\n",
    "\n",
    "#### This data set consists of three types of entities: \n",
    " - (a) The specification of an auto in terms of various characteristics\n",
    " - (b) Its assigned insurance risk rating\n",
    " - (c) Its normalized losses in use as compared to other cars. \n",
    "\n",
    "#### The second rating corresponds to the degree to which the auto is more risky than its price indicates. Cars are initially assigned a risk factor symbol associated with its price. Then if it is more risky (or less), this symbol is adjusted by moving it up (or down) the scale. Actuarians call this process \"symboling\". A value of +3 indicates that the auto is risky, -3 that it is probably pretty safe.\n",
    "\n",
    "#### The third factor is the relative averages loss payment per insured vehicle year. This value is normalized for all autos within a particular size classification (two-door small, station wagons, sports/speciality, etc...), and represents the averages loss per car per year.\n",
    "\n",
    "## Importing the Libraries"
   ]
  },
  {
   "cell_type": "code",
   "execution_count": 1,
   "metadata": {
    "tags": []
   },
   "outputs": [],
   "source": [
    "# conda install cudatoolkit\n",
    "#!pip install alibi"
   ]
  },
  {
   "cell_type": "code",
   "execution_count": 2,
   "metadata": {
    "tags": [
     "imports"
    ]
   },
   "outputs": [],
   "source": [
    "import numpy as np\n",
    "import pandas as pd\n",
    "import warnings\n",
    "warnings.filterwarnings('ignore')\n",
    "#import seaborn as sns\n",
    "# from matplotlib import pyplot as plt\n",
    "# from matplotlib import style\n",
    "\n",
    "from sklearn import linear_model\n",
    "from sklearn.linear_model import LogisticRegression\n",
    "from sklearn.ensemble import RandomForestClassifier\n",
    "from sklearn.linear_model import Perceptron\n",
    "from sklearn.linear_model import SGDClassifier\n",
    "from sklearn.ensemble import GradientBoostingClassifier\n",
    "from sklearn.tree import DecisionTreeClassifier\n",
    "from sklearn.neighbors import KNeighborsClassifier\n",
    "from sklearn.svm import SVC\n",
    "from sklearn.naive_bayes import GaussianNB\n",
    "from sklearn.preprocessing import LabelEncoder\n",
    "from sklearn.model_selection import train_test_split\n",
    "#from alibi.explainers import AnchorTabular\n",
    "import joblib\n",
    "\n",
    "from pyspark.sql import SparkSession\n",
    "\n",
    "\n",
    "#from numba import jit, cuda\n",
    "\n",
    "\n",
    "\n",
    "from subprocess import run, Popen, PIPE\n",
    "\n",
    "from pyspark.sql import DataFrame, SparkSession, Window\n",
    "from pyspark.sql.functions import col, expr, monotonically_increasing_id, row_number,current_timestamp\n",
    "# from data_io import *\n",
    "import pandas as pd\n",
    "import numpy as np\n",
    "from typing import  List\n",
    "from datetime import datetime\n",
    "from minio import Minio\n",
    "# from minio.error import ResponseError\n",
    "\n",
    "#from azure.storage.blob import BlockBlobService\n",
    "import pandas as pd\n",
    "\n",
    "import uuid\n",
    "import os\n",
    "import shutil\n",
    "import pickle"
   ]
  },
  {
   "cell_type": "code",
   "execution_count": 3,
   "metadata": {
    "tags": [
     "pipeline-parameters"
    ]
   },
   "outputs": [],
   "source": [
    "INCOME_MODEL_PATH=\"sklearn/automobile/model\"\n",
    "EXPLAINER_MODEL_PATH=\"sklearn/automobile/explainer\"\n",
    "OUTLIER_MODEL_PATH=\"sklearn/automobile/outlier\"\n",
    "\n",
    "MINIO_HOST=\"minio-service.kubeflow:9000\"\n",
    "MINIO_ACCESS_KEY=\"minio\"\n",
    "MINIO_SECRET_KEY=\"minio123\"\n",
    "MINIO_MODEL_BUCKET=\"seldon\"\n",
    "\n",
    "DEPLOY_NAMESPACE=\"kubeflow\"\n",
    "\n",
    "EVENT_TIMESTAMP_ALIAS = \"event_timestamp\"\n",
    "CREATED_TIMESTAMP_ALIAS = \"created_timestamp\"\n",
    "\n",
    "STORAGEACCOUNTNAME= \"katonicusecases\"\n",
    "STORAGEACCOUNTKEY= \"kxGVhR3tKmJoNdEFbhauyHOvBaNMEJR8/uIH+4NKX9QLbHEsEhmo5YQmuiUmSaW2g/96Fq3RrV9f3FeMyizzgg==\"    \n",
    "CONTAINERNAME= \"modelbuilding\"\n",
    "BLOBNAME= \"automobile_data.csv\""
   ]
  },
  {
   "cell_type": "code",
   "execution_count": 4,
   "metadata": {
    "tags": [
     "functions"
    ]
   },
   "outputs": [],
   "source": [
    "def get_minio():\n",
    "    return Minio(MINIO_HOST,\n",
    "                    access_key=MINIO_ACCESS_KEY,\n",
    "                    secret_key=MINIO_SECRET_KEY,\n",
    "                    secure=False)\n",
    "\n",
    "def save_to_feature_store(spark,pandas_df,feaurestore_name,STORAGEACCOUNTNAME,CONTAINERNAME):\n",
    "\n",
    "    pandas_df['Unique_id']=np.random.choice(len(pandas_df), size=len(pandas_df), replace=False)\n",
    "    pandas_df['event_timestamp']=pd.to_datetime(datetime.now())\n",
    "    pandas_df['created_timestamp']=pd.to_datetime(datetime.now())\n",
    "    \n",
    "    df_var = spark.createDataFrame(pandas_df)\n",
    "    \n",
    "    op_path = \"stagging\" + \"/\" + feaurestore_name\n",
    "\n",
    "    op_path = \"wasbs://\" + CONTAINERNAME + \"@\" + STORAGEACCOUNTNAME + \".blob.core.windows.net/\"+op_path\n",
    "    \n",
    "    df_var.write.mode(\"overwrite\").parquet(op_path)\n",
    "    \n",
    "\n",
    "\n",
    "def create_entity_df(spark,unique_id,feaurestore_name,STORAGEACCOUNTNAME,CONTAINERNAME):\n",
    "    \n",
    "    \n",
    "    op_path = \"stagging\" + \"/\" + feaurestore_name\n",
    "\n",
    "    op_path = \"wasbs://\" + CONTAINERNAME + \"@\" + STORAGEACCOUNTNAME + \".blob.core.windows.net/\"+op_path\n",
    "    \n",
    "    df_var = spark.read.parquet(op_path)\n",
    "    \n",
    "    \n",
    "    entity_df= df_var.select(unique_id).withColumn('event_timestamp',current_timestamp())\n",
    "    \n",
    "    return entity_df\n",
    "\n",
    "def fetch_df(spark,feaurestore_name,STORAGEACCOUNTNAME,CONTAINERNAME):\n",
    "    \n",
    "    #os.mkdir('fs_logs')\n",
    "\n",
    "    op_path = \"stagging\" + \"/\" + feaurestore_name\n",
    "\n",
    "    op_path = \"wasbs://\" + CONTAINERNAME + \"@\" + STORAGEACCOUNTNAME + \".blob.core.windows.net/\"+op_path\n",
    "    \n",
    "    df_var = spark.read.parquet(op_path)\n",
    "    \n",
    "    #df_var = spark.createDataFrame(data)\n",
    "    \n",
    "    #shutil.rmtree('fs_logs')\n",
    "    return df_var\n",
    "\n",
    "def create_df_feature(spark,path_dict,feature_dict,STORAGEACCOUNTNAME,CONTAINERNAME):\n",
    "    df_list = []\n",
    "    f_list  = []\n",
    "\n",
    "    for fs,obj,features in zip(path_dict.keys(),path_dict.values(),feature_dict.values()):\n",
    "        #df = fetch_df(spark,fs,obj,STORAGEACCOUNTNAME,CONTAINERNAME)\n",
    "        df = fetch_df(spark,fs,STORAGEACCOUNTNAME,CONTAINERNAME)\n",
    "        df_list.append(df)\n",
    "        f_list.append(features)\n",
    "    return [df_list,f_list]\n",
    "\n",
    "def as_of_join(\n",
    "    entity_df: DataFrame,\n",
    "    feature_table_entity_names : list,\n",
    "    feature_table_df : DataFrame,\n",
    "    feature_list : list,\n",
    "    feature_table_name : str,\n",
    "    max_age = [],\n",
    "    entity_event_timestamp_column = 'event_timestamp'\n",
    "\n",
    "    ) -> DataFrame:\n",
    "    #print (feature_list)\n",
    "    #print(type(feature_list))\n",
    "    feature_table_df = feature_table_df.select(feature_list+[EVENT_TIMESTAMP_ALIAS,CREATED_TIMESTAMP_ALIAS,feature_table_entity_names[0]])\n",
    "    entity_with_id = entity_df.withColumn(\"_row_nr\", monotonically_increasing_id())\n",
    "    feature_event_timestamp_column_with_prefix = (\n",
    "        f\"{feature_table_name}__{EVENT_TIMESTAMP_ALIAS}\"\n",
    "        )\n",
    "    feature_created_timestamp_column_with_prefix = (\n",
    "        f\"{feature_table_name}__{CREATED_TIMESTAMP_ALIAS}\"\n",
    "        )\n",
    "\n",
    "    projection = [\n",
    "        col(col_name).alias(f\"{feature_table_name}__{col_name}\")\n",
    "        for col_name in feature_table_df.columns\n",
    "        ]\n",
    "\n",
    "    aliased_feature_table_df = feature_table_df.select(projection)\n",
    "    \n",
    "    join_cond = (\n",
    "    entity_with_id[entity_event_timestamp_column]\n",
    "        >= aliased_feature_table_df[feature_event_timestamp_column_with_prefix]\n",
    "    )\n",
    "    if max_age:\n",
    "        join_cond = join_cond & (\n",
    "        aliased_feature_table_df[feature_event_timestamp_column_with_prefix]\n",
    "        >= entity_with_id[entity_event_timestamp_column]\n",
    "        - expr(f\"INTERVAL {max_age[0]} seconds\")\n",
    "        )\n",
    "    for key in feature_table_entity_names:\n",
    "        join_cond = join_cond & (\n",
    "        entity_with_id[key]\n",
    "        == aliased_feature_table_df[f\"{feature_table_name}__{key}\"]\n",
    "        )\n",
    "    conditional_join = entity_with_id.join(\n",
    "        aliased_feature_table_df, join_cond, \"leftOuter\"\n",
    "        )\n",
    "    for key in feature_table_entity_names:\n",
    "        conditional_join = conditional_join.drop(\n",
    "        aliased_feature_table_df[f\"{feature_table_name}__{key}\"]\n",
    "        )\n",
    "    window = Window.partitionBy(\"_row_nr\", *feature_table_entity_names).orderBy(\n",
    "        col(feature_event_timestamp_column_with_prefix).desc(),\n",
    "        col(feature_created_timestamp_column_with_prefix).desc(),\n",
    "        )\n",
    "    filter_most_recent_feature_timestamp = conditional_join.withColumn(\n",
    "        \"_rank\", row_number().over(window)\n",
    "        ).filter(col(\"_rank\") == 1)\n",
    "    return filter_most_recent_feature_timestamp.select(\n",
    "        entity_df.columns\n",
    "        + [\n",
    "            f\"{feature_table_name}__{feature}\"\n",
    "            for feature in feature_list\n",
    "        ]\n",
    "    )\n",
    "    \n",
    "\n",
    "def retrieve_feature(\n",
    "    entity_df: DataFrame,\n",
    "    feature_table_dfs:List[DataFrame],\n",
    "    feature_lists :List[list],\n",
    "    feature_table_names:list,\n",
    "    feature_table_entity_names : List[str],\n",
    "    max_age=[],\n",
    "    entity_event_timestamp_column='event_timestamp',\n",
    "    ) -> DataFrame :\n",
    "    \n",
    "    joined_df = entity_df\n",
    "\n",
    "    for (feature_table_df, feature_list,feature_table_name) in zip(feature_table_dfs, feature_lists,feature_table_names ):\n",
    "            joined_df = as_of_join(\n",
    "                joined_df, feature_table_entity_names,feature_table_df, feature_list,feature_table_name,\n",
    "            max_age = max_age,\n",
    "        entity_event_timestamp_column = entity_event_timestamp_column)\n",
    "    \n",
    "    return joined_df\n",
    "\n"
   ]
  },
  {
   "cell_type": "markdown",
   "metadata": {
    "tags": []
   },
   "source": [
    "### retrieve from feature Store"
   ]
  },
  {
   "cell_type": "code",
   "execution_count": 5,
   "metadata": {
    "tags": [
     "skip"
    ]
   },
   "outputs": [],
   "source": [
    "#from pyspark.sql.functions import current_timestamp"
   ]
  },
  {
   "cell_type": "markdown",
   "metadata": {
    "tags": []
   },
   "source": [
    "#### User define features location, feature list"
   ]
  },
  {
   "cell_type": "code",
   "execution_count": 6,
   "metadata": {
    "tags": [
     "block:user_defined_features"
    ]
   },
   "outputs": [],
   "source": [
    "path_dict = {'featurestore':'automobile'}\n",
    "feature_dict = {'featureSET':['symboling', 'normalized-losses', 'make', 'fuel-type', 'aspiration',\n",
    "       'num-of-doors', 'body-style', 'drive-wheels', 'engine-location',\n",
    "       'wheel-base', 'length', 'width', 'height', 'curb-weight', 'engine-type',\n",
    "       'num-of-cylinders', 'engine-size', 'fuel-system', 'bore', 'stroke',\n",
    "       'compression-ratio', 'horsepower', 'peak-rpm', 'city-mpg',\n",
    "       'highway-mpg', 'price']}"
   ]
  },
  {
   "cell_type": "code",
   "execution_count": 7,
   "metadata": {
    "tags": [
     "block:feature_retrievel",
     "prev:user_defined_features"
    ]
   },
   "outputs": [],
   "source": [
    "os.environ['PYSPARK_SUBMIT_ARGS'] = '--packages org.apache.hadoop:hadoop-azure:2.7.3,com.microsoft.azure:azure-storage:2.2.0,org.apache.hadoop:hadoop-aws:2.7.3 pyspark-shell'\n",
    "spark =  SparkSession.builder.master(\"local[*]\").getOrCreate()\n",
    "spark._jsc.hadoopConfiguration().set(\"fs.azure\", \"org.apache.hadoop.fs.azure.NativeAzureFileSystem\")\n",
    "spark.conf.set(\"fs.wasbs.impl\",\"org.apache.hadoop.fs.azure.NativeAzureFileSystem\")\n",
    "spark.conf.set('fs.azure.account.key.' + STORAGEACCOUNTNAME + '.blob.core.windows.net', STORAGEACCOUNTKEY)"
   ]
  },
  {
   "cell_type": "code",
   "execution_count": 8,
   "metadata": {
    "tags": [
     "block:"
    ]
   },
   "outputs": [],
   "source": [
    "entity_df =create_entity_df(spark,'Unique_id',\"featurestore\", STORAGEACCOUNTNAME,CONTAINERNAME)\n",
    "df_fs_list = create_df_feature(spark,path_dict,feature_dict,STORAGEACCOUNTNAME,CONTAINERNAME)"
   ]
  },
  {
   "cell_type": "code",
   "execution_count": 9,
   "metadata": {
    "tags": []
   },
   "outputs": [],
   "source": [
    "entity_df = entity_df\n",
    "feature_table_dfs = df_fs_list[0]\n",
    "feature_lists = df_fs_list[1]\n",
    "feature_table_names = feature_dict.keys()\n",
    "feature_table_entity_names = ['Unique_id']\n"
   ]
  },
  {
   "cell_type": "code",
   "execution_count": 10,
   "metadata": {
    "tags": []
   },
   "outputs": [],
   "source": [
    "sdf = retrieve_feature(\n",
    "        entity_df,\n",
    "        feature_table_dfs,\n",
    "        feature_lists,\n",
    "        feature_table_names,\n",
    "        feature_table_entity_names,\n",
    "        )\n",
    "pdf = sdf.toPandas()\n"
   ]
  },
  {
   "cell_type": "code",
   "execution_count": 11,
   "metadata": {
    "tags": []
   },
   "outputs": [],
   "source": [
    "spark.stop()"
   ]
  },
  {
   "cell_type": "code",
   "execution_count": 12,
   "metadata": {
    "tags": [
     "skip"
    ]
   },
   "outputs": [
    {
     "data": {
      "text/html": [
       "<div>\n",
       "<style scoped>\n",
       "    .dataframe tbody tr th:only-of-type {\n",
       "        vertical-align: middle;\n",
       "    }\n",
       "\n",
       "    .dataframe tbody tr th {\n",
       "        vertical-align: top;\n",
       "    }\n",
       "\n",
       "    .dataframe thead th {\n",
       "        text-align: right;\n",
       "    }\n",
       "</style>\n",
       "<table border=\"1\" class=\"dataframe\">\n",
       "  <thead>\n",
       "    <tr style=\"text-align: right;\">\n",
       "      <th></th>\n",
       "      <th>Unique_id</th>\n",
       "      <th>event_timestamp</th>\n",
       "      <th>featureSET__symboling</th>\n",
       "      <th>featureSET__normalized-losses</th>\n",
       "      <th>featureSET__make</th>\n",
       "      <th>featureSET__fuel-type</th>\n",
       "      <th>featureSET__aspiration</th>\n",
       "      <th>featureSET__num-of-doors</th>\n",
       "      <th>featureSET__body-style</th>\n",
       "      <th>featureSET__drive-wheels</th>\n",
       "      <th>...</th>\n",
       "      <th>featureSET__engine-size</th>\n",
       "      <th>featureSET__fuel-system</th>\n",
       "      <th>featureSET__bore</th>\n",
       "      <th>featureSET__stroke</th>\n",
       "      <th>featureSET__compression-ratio</th>\n",
       "      <th>featureSET__horsepower</th>\n",
       "      <th>featureSET__peak-rpm</th>\n",
       "      <th>featureSET__city-mpg</th>\n",
       "      <th>featureSET__highway-mpg</th>\n",
       "      <th>featureSET__price</th>\n",
       "    </tr>\n",
       "  </thead>\n",
       "  <tbody>\n",
       "    <tr>\n",
       "      <th>0</th>\n",
       "      <td>130</td>\n",
       "      <td>2021-04-21 16:25:11.025</td>\n",
       "      <td>1</td>\n",
       "      <td>104</td>\n",
       "      <td>8</td>\n",
       "      <td>1</td>\n",
       "      <td>0</td>\n",
       "      <td>2</td>\n",
       "      <td>2</td>\n",
       "      <td>1</td>\n",
       "      <td>...</td>\n",
       "      <td>91</td>\n",
       "      <td>1</td>\n",
       "      <td>3</td>\n",
       "      <td>3</td>\n",
       "      <td>9</td>\n",
       "      <td>68</td>\n",
       "      <td>5000</td>\n",
       "      <td>31</td>\n",
       "      <td>38</td>\n",
       "      <td>6795</td>\n",
       "    </tr>\n",
       "    <tr>\n",
       "      <th>1</th>\n",
       "      <td>149</td>\n",
       "      <td>2021-04-21 16:25:11.025</td>\n",
       "      <td>0</td>\n",
       "      <td>161</td>\n",
       "      <td>13</td>\n",
       "      <td>0</td>\n",
       "      <td>1</td>\n",
       "      <td>1</td>\n",
       "      <td>3</td>\n",
       "      <td>2</td>\n",
       "      <td>...</td>\n",
       "      <td>152</td>\n",
       "      <td>3</td>\n",
       "      <td>3</td>\n",
       "      <td>3</td>\n",
       "      <td>21</td>\n",
       "      <td>95</td>\n",
       "      <td>4150</td>\n",
       "      <td>28</td>\n",
       "      <td>33</td>\n",
       "      <td>17950</td>\n",
       "    </tr>\n",
       "  </tbody>\n",
       "</table>\n",
       "<p>2 rows × 28 columns</p>\n",
       "</div>"
      ],
      "text/plain": [
       "   Unique_id         event_timestamp  featureSET__symboling  \\\n",
       "0        130 2021-04-21 16:25:11.025                      1   \n",
       "1        149 2021-04-21 16:25:11.025                      0   \n",
       "\n",
       "   featureSET__normalized-losses  featureSET__make  featureSET__fuel-type  \\\n",
       "0                            104                 8                      1   \n",
       "1                            161                13                      0   \n",
       "\n",
       "   featureSET__aspiration  featureSET__num-of-doors  featureSET__body-style  \\\n",
       "0                       0                         2                       2   \n",
       "1                       1                         1                       3   \n",
       "\n",
       "   featureSET__drive-wheels  ...  featureSET__engine-size  \\\n",
       "0                         1  ...                       91   \n",
       "1                         2  ...                      152   \n",
       "\n",
       "   featureSET__fuel-system  featureSET__bore  featureSET__stroke  \\\n",
       "0                        1                 3                   3   \n",
       "1                        3                 3                   3   \n",
       "\n",
       "   featureSET__compression-ratio  featureSET__horsepower  \\\n",
       "0                              9                      68   \n",
       "1                             21                      95   \n",
       "\n",
       "   featureSET__peak-rpm  featureSET__city-mpg  featureSET__highway-mpg  \\\n",
       "0                  5000                    31                       38   \n",
       "1                  4150                    28                       33   \n",
       "\n",
       "   featureSET__price  \n",
       "0               6795  \n",
       "1              17950  \n",
       "\n",
       "[2 rows x 28 columns]"
      ]
     },
     "execution_count": 12,
     "metadata": {},
     "output_type": "execute_result"
    }
   ],
   "source": [
    "pdf.head(2)"
   ]
  },
  {
   "cell_type": "markdown",
   "metadata": {
    "tags": []
   },
   "source": [
    "## Model Training\n",
    "\n",
    "##### Logistic Regression"
   ]
  },
  {
   "cell_type": "code",
   "execution_count": 13,
   "metadata": {
    "tags": [
     "block:logisticregression",
     "prev:feature_retrievel"
    ]
   },
   "outputs": [],
   "source": [
    "X = pdf.drop(columns = ['Unique_id','event_timestamp','featureSET__price'])\n",
    "Y = pdf['featureSET__price']\n",
    "X_train_lr, X_test_lr, y_train_lr, y_test_lr = train_test_split(X, Y, test_size=0.30)"
   ]
  },
  {
   "cell_type": "code",
   "execution_count": 14,
   "metadata": {
    "tags": []
   },
   "outputs": [
    {
     "data": {
      "text/plain": [
       "63.64"
      ]
     },
     "execution_count": 14,
     "metadata": {},
     "output_type": "execute_result"
    }
   ],
   "source": [
    "logreg = LogisticRegression(solver='lbfgs', max_iter=110)\n",
    "lr = logreg.fit(X_train_lr, y_train_lr)\n",
    "acc_log = round(logreg.score(X_train_lr, y_train_lr) * 100, 2)\n",
    "acc_log"
   ]
  },
  {
   "cell_type": "markdown",
   "metadata": {
    "tags": []
   },
   "source": [
    "##### Random Forest"
   ]
  },
  {
   "cell_type": "code",
   "execution_count": 15,
   "metadata": {
    "tags": [
     "block:randomforest",
     "prev:feature_retrievel"
    ]
   },
   "outputs": [],
   "source": [
    "X = pdf.drop(columns = ['Unique_id','event_timestamp','featureSET__price'])\n",
    "Y = pdf['featureSET__price']\n",
    "X_train_rf, X_test_rf, y_train_rf, y_test_rf = train_test_split(X, Y, test_size=0.30)"
   ]
  },
  {
   "cell_type": "code",
   "execution_count": 16,
   "metadata": {
    "tags": []
   },
   "outputs": [
    {
     "data": {
      "text/plain": [
       "100.0"
      ]
     },
     "execution_count": 16,
     "metadata": {},
     "output_type": "execute_result"
    }
   ],
   "source": [
    "random_forest = RandomForestClassifier(n_estimators=100)\n",
    "rf = random_forest.fit(X_train_rf, y_train_rf)\n",
    "acc_random_forest = round(random_forest.score(X_train_rf, y_train_rf) * 100, 2)\n",
    "acc_random_forest"
   ]
  },
  {
   "cell_type": "markdown",
   "metadata": {
    "tags": []
   },
   "source": [
    "##### Gaussian Naive Bayes"
   ]
  },
  {
   "cell_type": "code",
   "execution_count": 17,
   "metadata": {
    "tags": [
     "block:gaussiannaivebayes",
     "prev:feature_retrievel"
    ]
   },
   "outputs": [],
   "source": [
    "X = pdf.drop(columns = ['Unique_id','event_timestamp','featureSET__price'])\n",
    "Y = pdf['featureSET__price']\n",
    "X_train_gnb, X_test_gnb, y_train_gnb, y_test_gnb = train_test_split(X, Y, test_size=0.30)"
   ]
  },
  {
   "cell_type": "code",
   "execution_count": 18,
   "metadata": {
    "tags": []
   },
   "outputs": [
    {
     "data": {
      "text/plain": [
       "96.5"
      ]
     },
     "execution_count": 18,
     "metadata": {},
     "output_type": "execute_result"
    }
   ],
   "source": [
    "gaussian = GaussianNB()\n",
    "gnb = gaussian.fit(X_train_gnb, y_train_gnb)\n",
    "acc_gaussian = round(gaussian.score(X_train_gnb, y_train_gnb) * 100, 2)\n",
    "acc_gaussian"
   ]
  },
  {
   "cell_type": "markdown",
   "metadata": {
    "tags": []
   },
   "source": [
    "##### Support Vector Machine\n"
   ]
  },
  {
   "cell_type": "code",
   "execution_count": 19,
   "metadata": {
    "tags": [
     "block:supportvectormachine",
     "prev:feature_retrievel"
    ]
   },
   "outputs": [],
   "source": [
    "X = pdf.drop(columns = ['Unique_id','event_timestamp','featureSET__price'])\n",
    "Y = pdf['featureSET__price']\n",
    "X_train_svm, X_test_svm, y_train_svm, y_test_svm = train_test_split(X, Y, test_size=0.30)"
   ]
  },
  {
   "cell_type": "code",
   "execution_count": 20,
   "metadata": {
    "tags": []
   },
   "outputs": [
    {
     "data": {
      "text/plain": [
       "99.3"
      ]
     },
     "execution_count": 20,
     "metadata": {},
     "output_type": "execute_result"
    }
   ],
   "source": [
    "linear_svc = SVC(gamma='auto')\n",
    "svm = linear_svc.fit(X_train_svm, y_train_svm)\n",
    "acc_linear_svc = round(linear_svc.score(X_train_svm, y_train_svm) * 100, 2)\n",
    "acc_linear_svc"
   ]
  },
  {
   "cell_type": "markdown",
   "metadata": {
    "tags": []
   },
   "source": [
    "##### Decision Tree\n"
   ]
  },
  {
   "cell_type": "code",
   "execution_count": 21,
   "metadata": {
    "tags": [
     "block:decisiontree",
     "prev:feature_retrievel"
    ]
   },
   "outputs": [],
   "source": [
    "X = pdf.drop(columns = ['Unique_id','event_timestamp','featureSET__price'])\n",
    "Y = pdf['featureSET__price']\n",
    "X_train_dt, X_test_dt, y_train_dt, y_test_dt = train_test_split(X, Y, test_size=0.30)"
   ]
  },
  {
   "cell_type": "code",
   "execution_count": 22,
   "metadata": {
    "tags": []
   },
   "outputs": [
    {
     "data": {
      "text/plain": [
       "98.6"
      ]
     },
     "execution_count": 22,
     "metadata": {},
     "output_type": "execute_result"
    }
   ],
   "source": [
    "decision_tree = DecisionTreeClassifier()\n",
    "dt = decision_tree.fit(X_train_dt, y_train_dt)\n",
    "acc_decision_tree = round(decision_tree.score(X_train_dt, y_train_dt) * 100, 2)\n",
    "acc_decision_tree"
   ]
  },
  {
   "cell_type": "markdown",
   "metadata": {
    "tags": []
   },
   "source": [
    "##### Preceptron\n"
   ]
  },
  {
   "cell_type": "code",
   "execution_count": 23,
   "metadata": {
    "tags": [
     "block:preceptron",
     "prev:feature_retrievel"
    ]
   },
   "outputs": [],
   "source": [
    "X = pdf.drop(columns = ['Unique_id','event_timestamp','featureSET__price'])\n",
    "Y = pdf['featureSET__price']\n",
    "X_train_per, X_test_per, y_train_per, y_test_per = train_test_split(X, Y, test_size=0.30)"
   ]
  },
  {
   "cell_type": "code",
   "execution_count": 24,
   "metadata": {
    "tags": []
   },
   "outputs": [
    {
     "data": {
      "text/plain": [
       "2.1"
      ]
     },
     "execution_count": 24,
     "metadata": {},
     "output_type": "execute_result"
    }
   ],
   "source": [
    "perceptron = Perceptron()\n",
    "per = perceptron.fit(X_train_per, y_train_per)\n",
    "acc_perceptron = round(perceptron.score(X_train_per, y_train_per) * 100, 2)\n",
    "acc_perceptron"
   ]
  },
  {
   "cell_type": "markdown",
   "metadata": {
    "tags": []
   },
   "source": [
    "##### K Nearest Neighbour\n"
   ]
  },
  {
   "cell_type": "code",
   "execution_count": 25,
   "metadata": {
    "tags": [
     "block:knearestneighbour",
     "prev:feature_retrievel"
    ]
   },
   "outputs": [],
   "source": [
    "X = pdf.drop(columns = ['Unique_id','event_timestamp','featureSET__price'])\n",
    "Y = pdf['featureSET__price']\n",
    "X_train_knn, X_test_knn, y_train_knn, y_test_knn = train_test_split(X, Y, test_size=0.30)"
   ]
  },
  {
   "cell_type": "code",
   "execution_count": 26,
   "metadata": {
    "tags": []
   },
   "outputs": [
    {
     "data": {
      "text/plain": [
       "23.78"
      ]
     },
     "execution_count": 26,
     "metadata": {},
     "output_type": "execute_result"
    }
   ],
   "source": [
    "knearestneighbour = KNeighborsClassifier()\n",
    "knn = knearestneighbour.fit(X_train_knn, y_train_knn)\n",
    "acc_knearest = round(knearestneighbour.score(X_train_knn, y_train_knn) * 100, 2)\n",
    "acc_knearest"
   ]
  },
  {
   "cell_type": "markdown",
   "metadata": {
    "tags": []
   },
   "source": [
    "##### Stochastic Gradient Descent\n"
   ]
  },
  {
   "cell_type": "code",
   "execution_count": 27,
   "metadata": {
    "tags": [
     "block:stochasticgradientdescent",
     "prev:feature_retrievel"
    ]
   },
   "outputs": [],
   "source": [
    "X = pdf.drop(columns = ['Unique_id','event_timestamp','featureSET__price'])\n",
    "Y = pdf['featureSET__price']\n",
    "X_train_sgd, X_test_sgd, y_train_sgd, y_test_sgd = train_test_split(X, Y, test_size=0.30)"
   ]
  },
  {
   "cell_type": "code",
   "execution_count": 28,
   "metadata": {
    "tags": []
   },
   "outputs": [
    {
     "data": {
      "text/plain": [
       "1.4"
      ]
     },
     "execution_count": 28,
     "metadata": {},
     "output_type": "execute_result"
    }
   ],
   "source": [
    "stochasticgrad = SGDClassifier()\n",
    "sgd = stochasticgrad.fit(X_train_sgd, y_train_sgd)\n",
    "acc_sgd = round(stochasticgrad.score(X_train_sgd, y_train_sgd) * 100, 2)\n",
    "acc_sgd"
   ]
  },
  {
   "cell_type": "markdown",
   "metadata": {
    "tags": []
   },
   "source": [
    "##### Gradient Boosting Classifier\n"
   ]
  },
  {
   "cell_type": "code",
   "execution_count": 29,
   "metadata": {
    "tags": [
     "block:gradientboostingclassifier",
     "prev:feature_retrievel"
    ]
   },
   "outputs": [],
   "source": [
    "X = pdf.drop(columns = ['Unique_id','event_timestamp','featureSET__price'])\n",
    "Y = pdf['featureSET__price']\n",
    "X_train_gbc, X_test_gbc, y_train_gbc, y_test_gbc = train_test_split(X, Y, test_size=0.30)"
   ]
  },
  {
   "cell_type": "code",
   "execution_count": 30,
   "metadata": {
    "tags": []
   },
   "outputs": [
    {
     "data": {
      "text/plain": [
       "97.9"
      ]
     },
     "execution_count": 30,
     "metadata": {},
     "output_type": "execute_result"
    }
   ],
   "source": [
    "gradientboostingclassifier = GradientBoostingClassifier()\n",
    "gbc = gradientboostingclassifier.fit(X_train_gbc, y_train_gbc)\n",
    "acc_gbc = round(gradientboostingclassifier.score(X_train_gbc, y_train_gbc) * 100, 2)\n",
    "acc_gbc"
   ]
  },
  {
   "cell_type": "markdown",
   "metadata": {
    "tags": []
   },
   "source": [
    "## Evaluating the Models"
   ]
  },
  {
   "cell_type": "code",
   "execution_count": 31,
   "metadata": {
    "tags": [
     "block:model_evalutation",
     "prev:logisticregression",
     "prev:randomforest",
     "prev:gaussiannaivebayes",
     "prev:supportvectormachine",
     "prev:decisiontree",
     "prev:preceptron",
     "prev:knearestneighbour",
     "prev:gradientboostingclassifier",
     "prev:stochasticgradientdescent"
    ]
   },
   "outputs": [
    {
     "data": {
      "text/html": [
       "<div>\n",
       "<style scoped>\n",
       "    .dataframe tbody tr th:only-of-type {\n",
       "        vertical-align: middle;\n",
       "    }\n",
       "\n",
       "    .dataframe tbody tr th {\n",
       "        vertical-align: top;\n",
       "    }\n",
       "\n",
       "    .dataframe thead th {\n",
       "        text-align: right;\n",
       "    }\n",
       "</style>\n",
       "<table border=\"1\" class=\"dataframe\">\n",
       "  <thead>\n",
       "    <tr style=\"text-align: right;\">\n",
       "      <th></th>\n",
       "      <th>Model</th>\n",
       "      <th>Model_abb</th>\n",
       "    </tr>\n",
       "    <tr>\n",
       "      <th>Score</th>\n",
       "      <th></th>\n",
       "      <th></th>\n",
       "    </tr>\n",
       "  </thead>\n",
       "  <tbody>\n",
       "    <tr>\n",
       "      <th>100.00</th>\n",
       "      <td>Random Forest</td>\n",
       "      <td>(DecisionTreeClassifier(max_features='auto', r...</td>\n",
       "    </tr>\n",
       "    <tr>\n",
       "      <th>99.30</th>\n",
       "      <td>Support Vector Machine</td>\n",
       "      <td>SVC(gamma='auto')</td>\n",
       "    </tr>\n",
       "    <tr>\n",
       "      <th>98.60</th>\n",
       "      <td>Decision Tree</td>\n",
       "      <td>DecisionTreeClassifier()</td>\n",
       "    </tr>\n",
       "    <tr>\n",
       "      <th>97.90</th>\n",
       "      <td>Gradient Boosting Classifier</td>\n",
       "      <td>([DecisionTreeRegressor(criterion='friedman_ms...</td>\n",
       "    </tr>\n",
       "    <tr>\n",
       "      <th>96.50</th>\n",
       "      <td>Gaussian Naive Bayes</td>\n",
       "      <td>GaussianNB()</td>\n",
       "    </tr>\n",
       "    <tr>\n",
       "      <th>63.64</th>\n",
       "      <td>Logistic Regression</td>\n",
       "      <td>LogisticRegression(max_iter=110)</td>\n",
       "    </tr>\n",
       "    <tr>\n",
       "      <th>23.78</th>\n",
       "      <td>KNearest Neighbour</td>\n",
       "      <td>KNeighborsClassifier()</td>\n",
       "    </tr>\n",
       "    <tr>\n",
       "      <th>2.10</th>\n",
       "      <td>Preceptron</td>\n",
       "      <td>Perceptron()</td>\n",
       "    </tr>\n",
       "    <tr>\n",
       "      <th>1.40</th>\n",
       "      <td>Stochastic Gradient Descent</td>\n",
       "      <td>SGDClassifier()</td>\n",
       "    </tr>\n",
       "  </tbody>\n",
       "</table>\n",
       "</div>"
      ],
      "text/plain": [
       "                               Model  \\\n",
       "Score                                  \n",
       "100.00                 Random Forest   \n",
       "99.30         Support Vector Machine   \n",
       "98.60                  Decision Tree   \n",
       "97.90   Gradient Boosting Classifier   \n",
       "96.50           Gaussian Naive Bayes   \n",
       "63.64            Logistic Regression   \n",
       "23.78             KNearest Neighbour   \n",
       "2.10                      Preceptron   \n",
       "1.40     Stochastic Gradient Descent   \n",
       "\n",
       "                                                Model_abb  \n",
       "Score                                                      \n",
       "100.00  (DecisionTreeClassifier(max_features='auto', r...  \n",
       "99.30                                   SVC(gamma='auto')  \n",
       "98.60                            DecisionTreeClassifier()  \n",
       "97.90   ([DecisionTreeRegressor(criterion='friedman_ms...  \n",
       "96.50                                        GaussianNB()  \n",
       "63.64                    LogisticRegression(max_iter=110)  \n",
       "23.78                              KNeighborsClassifier()  \n",
       "2.10                                         Perceptron()  \n",
       "1.40                                      SGDClassifier()  "
      ]
     },
     "execution_count": 31,
     "metadata": {},
     "output_type": "execute_result"
    }
   ],
   "source": [
    "results = pd.DataFrame({\n",
    "    'Model': ['Logistic Regression', 'Random Forest', 'Gaussian Naive Bayes', 'Support Vector Machine', 'Decision Tree', 'Preceptron', 'KNearest Neighbour', 'Stochastic Gradient Descent', 'Gradient Boosting Classifier'],\n",
    "    'Score': [acc_log, acc_random_forest, acc_gaussian, acc_linear_svc, acc_decision_tree, acc_perceptron, acc_knearest, acc_sgd, acc_gbc],\n",
    "    'Model_abb': [lr, rf, gnb, svm, dt, per, knn, sgd, gbc]})\n",
    "result_df = results.sort_values(by='Score', ascending=False)\n",
    "result_df = result_df.set_index('Score')\n",
    "result_df"
   ]
  },
  {
   "cell_type": "code",
   "execution_count": 32,
   "metadata": {
    "tags": []
   },
   "outputs": [
    {
     "data": {
      "text/plain": [
       "RandomForestClassifier()"
      ]
     },
     "execution_count": 32,
     "metadata": {},
     "output_type": "execute_result"
    }
   ],
   "source": [
    "best_model = result_df['Model_abb'].iloc[0]\n",
    "best_model"
   ]
  },
  {
   "cell_type": "code",
   "execution_count": 33,
   "metadata": {
    "tags": []
   },
   "outputs": [
    {
     "data": {
      "text/plain": [
       "['model.joblib']"
      ]
     },
     "execution_count": 33,
     "metadata": {},
     "output_type": "execute_result"
    }
   ],
   "source": [
    "joblib.dump(best_model, 'model.joblib')\n",
    "# print(get_minio().fput_object(MINIO_MODEL_BUCKET, f\"{INCOME_MODEL_PATH}/model.joblib\", 'model.joblib'))"
   ]
  },
  {
   "cell_type": "code",
   "execution_count": 34,
   "metadata": {
    "tags": []
   },
   "outputs": [
    {
     "data": {
      "text/plain": [
       "RandomForestClassifier()"
      ]
     },
     "execution_count": 34,
     "metadata": {},
     "output_type": "execute_result"
    }
   ],
   "source": [
    "Model_job = joblib.load(\"model.joblib\")\n",
    "Model_job"
   ]
  },
  {
   "cell_type": "code",
   "execution_count": 35,
   "metadata": {
    "tags": [
     "skip"
    ]
   },
   "outputs": [
    {
     "data": {
      "text/plain": [
       "sklearn.ensemble._forest.RandomForestClassifier"
      ]
     },
     "execution_count": 35,
     "metadata": {},
     "output_type": "execute_result"
    }
   ],
   "source": [
    "type(Model_job)"
   ]
  },
  {
   "cell_type": "code",
   "execution_count": 41,
   "metadata": {
    "tags": [
     "skip"
    ]
   },
   "outputs": [
    {
     "data": {
      "text/plain": [
       "pandas.core.frame.DataFrame"
      ]
     },
     "execution_count": 41,
     "metadata": {},
     "output_type": "execute_result"
    }
   ],
   "source": [
    "type(X_test_rf)"
   ]
  },
  {
   "cell_type": "code",
   "execution_count": 42,
   "metadata": {
    "tags": [
     "skip"
    ]
   },
   "outputs": [
    {
     "data": {
      "text/html": [
       "<div>\n",
       "<style scoped>\n",
       "    .dataframe tbody tr th:only-of-type {\n",
       "        vertical-align: middle;\n",
       "    }\n",
       "\n",
       "    .dataframe tbody tr th {\n",
       "        vertical-align: top;\n",
       "    }\n",
       "\n",
       "    .dataframe thead th {\n",
       "        text-align: right;\n",
       "    }\n",
       "</style>\n",
       "<table border=\"1\" class=\"dataframe\">\n",
       "  <thead>\n",
       "    <tr style=\"text-align: right;\">\n",
       "      <th></th>\n",
       "      <th>featureSET__symboling</th>\n",
       "      <th>featureSET__normalized-losses</th>\n",
       "      <th>featureSET__make</th>\n",
       "      <th>featureSET__fuel-type</th>\n",
       "      <th>featureSET__aspiration</th>\n",
       "      <th>featureSET__num-of-doors</th>\n",
       "      <th>featureSET__body-style</th>\n",
       "      <th>featureSET__drive-wheels</th>\n",
       "      <th>featureSET__engine-location</th>\n",
       "      <th>featureSET__wheel-base</th>\n",
       "      <th>...</th>\n",
       "      <th>featureSET__num-of-cylinders</th>\n",
       "      <th>featureSET__engine-size</th>\n",
       "      <th>featureSET__fuel-system</th>\n",
       "      <th>featureSET__bore</th>\n",
       "      <th>featureSET__stroke</th>\n",
       "      <th>featureSET__compression-ratio</th>\n",
       "      <th>featureSET__horsepower</th>\n",
       "      <th>featureSET__peak-rpm</th>\n",
       "      <th>featureSET__city-mpg</th>\n",
       "      <th>featureSET__highway-mpg</th>\n",
       "    </tr>\n",
       "  </thead>\n",
       "  <tbody>\n",
       "    <tr>\n",
       "      <th>48</th>\n",
       "      <td>1</td>\n",
       "      <td>168</td>\n",
       "      <td>19</td>\n",
       "      <td>1</td>\n",
       "      <td>0</td>\n",
       "      <td>2</td>\n",
       "      <td>3</td>\n",
       "      <td>2</td>\n",
       "      <td>0</td>\n",
       "      <td>94</td>\n",
       "      <td>...</td>\n",
       "      <td>2</td>\n",
       "      <td>98</td>\n",
       "      <td>1</td>\n",
       "      <td>3</td>\n",
       "      <td>3</td>\n",
       "      <td>9</td>\n",
       "      <td>70</td>\n",
       "      <td>4800</td>\n",
       "      <td>29</td>\n",
       "      <td>34</td>\n",
       "    </tr>\n",
       "    <tr>\n",
       "      <th>7</th>\n",
       "      <td>3</td>\n",
       "      <td>122</td>\n",
       "      <td>11</td>\n",
       "      <td>1</td>\n",
       "      <td>1</td>\n",
       "      <td>2</td>\n",
       "      <td>2</td>\n",
       "      <td>1</td>\n",
       "      <td>0</td>\n",
       "      <td>95</td>\n",
       "      <td>...</td>\n",
       "      <td>2</td>\n",
       "      <td>156</td>\n",
       "      <td>6</td>\n",
       "      <td>3</td>\n",
       "      <td>3</td>\n",
       "      <td>7</td>\n",
       "      <td>145</td>\n",
       "      <td>5000</td>\n",
       "      <td>19</td>\n",
       "      <td>24</td>\n",
       "    </tr>\n",
       "    <tr>\n",
       "      <th>14</th>\n",
       "      <td>0</td>\n",
       "      <td>122</td>\n",
       "      <td>20</td>\n",
       "      <td>1</td>\n",
       "      <td>0</td>\n",
       "      <td>1</td>\n",
       "      <td>3</td>\n",
       "      <td>1</td>\n",
       "      <td>0</td>\n",
       "      <td>100</td>\n",
       "      <td>...</td>\n",
       "      <td>1</td>\n",
       "      <td>136</td>\n",
       "      <td>5</td>\n",
       "      <td>3</td>\n",
       "      <td>3</td>\n",
       "      <td>8</td>\n",
       "      <td>110</td>\n",
       "      <td>5500</td>\n",
       "      <td>19</td>\n",
       "      <td>24</td>\n",
       "    </tr>\n",
       "    <tr>\n",
       "      <th>75</th>\n",
       "      <td>1</td>\n",
       "      <td>104</td>\n",
       "      <td>8</td>\n",
       "      <td>1</td>\n",
       "      <td>0</td>\n",
       "      <td>2</td>\n",
       "      <td>2</td>\n",
       "      <td>1</td>\n",
       "      <td>0</td>\n",
       "      <td>93</td>\n",
       "      <td>...</td>\n",
       "      <td>2</td>\n",
       "      <td>91</td>\n",
       "      <td>1</td>\n",
       "      <td>3</td>\n",
       "      <td>3</td>\n",
       "      <td>9</td>\n",
       "      <td>68</td>\n",
       "      <td>5000</td>\n",
       "      <td>31</td>\n",
       "      <td>38</td>\n",
       "    </tr>\n",
       "    <tr>\n",
       "      <th>163</th>\n",
       "      <td>0</td>\n",
       "      <td>110</td>\n",
       "      <td>5</td>\n",
       "      <td>1</td>\n",
       "      <td>0</td>\n",
       "      <td>1</td>\n",
       "      <td>3</td>\n",
       "      <td>1</td>\n",
       "      <td>0</td>\n",
       "      <td>96</td>\n",
       "      <td>...</td>\n",
       "      <td>2</td>\n",
       "      <td>92</td>\n",
       "      <td>0</td>\n",
       "      <td>2</td>\n",
       "      <td>3</td>\n",
       "      <td>9</td>\n",
       "      <td>76</td>\n",
       "      <td>6000</td>\n",
       "      <td>30</td>\n",
       "      <td>34</td>\n",
       "    </tr>\n",
       "    <tr>\n",
       "      <th>...</th>\n",
       "      <td>...</td>\n",
       "      <td>...</td>\n",
       "      <td>...</td>\n",
       "      <td>...</td>\n",
       "      <td>...</td>\n",
       "      <td>...</td>\n",
       "      <td>...</td>\n",
       "      <td>...</td>\n",
       "      <td>...</td>\n",
       "      <td>...</td>\n",
       "      <td>...</td>\n",
       "      <td>...</td>\n",
       "      <td>...</td>\n",
       "      <td>...</td>\n",
       "      <td>...</td>\n",
       "      <td>...</td>\n",
       "      <td>...</td>\n",
       "      <td>...</td>\n",
       "      <td>...</td>\n",
       "      <td>...</td>\n",
       "      <td>...</td>\n",
       "    </tr>\n",
       "    <tr>\n",
       "      <th>91</th>\n",
       "      <td>1</td>\n",
       "      <td>129</td>\n",
       "      <td>8</td>\n",
       "      <td>1</td>\n",
       "      <td>0</td>\n",
       "      <td>2</td>\n",
       "      <td>2</td>\n",
       "      <td>1</td>\n",
       "      <td>0</td>\n",
       "      <td>98</td>\n",
       "      <td>...</td>\n",
       "      <td>2</td>\n",
       "      <td>122</td>\n",
       "      <td>1</td>\n",
       "      <td>3</td>\n",
       "      <td>3</td>\n",
       "      <td>8</td>\n",
       "      <td>84</td>\n",
       "      <td>4800</td>\n",
       "      <td>26</td>\n",
       "      <td>32</td>\n",
       "    </tr>\n",
       "    <tr>\n",
       "      <th>38</th>\n",
       "      <td>0</td>\n",
       "      <td>161</td>\n",
       "      <td>13</td>\n",
       "      <td>1</td>\n",
       "      <td>1</td>\n",
       "      <td>1</td>\n",
       "      <td>3</td>\n",
       "      <td>2</td>\n",
       "      <td>0</td>\n",
       "      <td>108</td>\n",
       "      <td>...</td>\n",
       "      <td>2</td>\n",
       "      <td>134</td>\n",
       "      <td>5</td>\n",
       "      <td>3</td>\n",
       "      <td>3</td>\n",
       "      <td>7</td>\n",
       "      <td>142</td>\n",
       "      <td>5600</td>\n",
       "      <td>18</td>\n",
       "      <td>24</td>\n",
       "    </tr>\n",
       "    <tr>\n",
       "      <th>128</th>\n",
       "      <td>3</td>\n",
       "      <td>122</td>\n",
       "      <td>11</td>\n",
       "      <td>1</td>\n",
       "      <td>1</td>\n",
       "      <td>2</td>\n",
       "      <td>2</td>\n",
       "      <td>1</td>\n",
       "      <td>0</td>\n",
       "      <td>95</td>\n",
       "      <td>...</td>\n",
       "      <td>2</td>\n",
       "      <td>156</td>\n",
       "      <td>6</td>\n",
       "      <td>3</td>\n",
       "      <td>3</td>\n",
       "      <td>7</td>\n",
       "      <td>145</td>\n",
       "      <td>5000</td>\n",
       "      <td>19</td>\n",
       "      <td>24</td>\n",
       "    </tr>\n",
       "    <tr>\n",
       "      <th>157</th>\n",
       "      <td>2</td>\n",
       "      <td>134</td>\n",
       "      <td>19</td>\n",
       "      <td>1</td>\n",
       "      <td>0</td>\n",
       "      <td>2</td>\n",
       "      <td>2</td>\n",
       "      <td>2</td>\n",
       "      <td>0</td>\n",
       "      <td>98</td>\n",
       "      <td>...</td>\n",
       "      <td>2</td>\n",
       "      <td>146</td>\n",
       "      <td>5</td>\n",
       "      <td>3</td>\n",
       "      <td>3</td>\n",
       "      <td>9</td>\n",
       "      <td>116</td>\n",
       "      <td>4800</td>\n",
       "      <td>24</td>\n",
       "      <td>30</td>\n",
       "    </tr>\n",
       "    <tr>\n",
       "      <th>154</th>\n",
       "      <td>0</td>\n",
       "      <td>91</td>\n",
       "      <td>19</td>\n",
       "      <td>1</td>\n",
       "      <td>0</td>\n",
       "      <td>1</td>\n",
       "      <td>3</td>\n",
       "      <td>1</td>\n",
       "      <td>0</td>\n",
       "      <td>95</td>\n",
       "      <td>...</td>\n",
       "      <td>2</td>\n",
       "      <td>98</td>\n",
       "      <td>1</td>\n",
       "      <td>3</td>\n",
       "      <td>3</td>\n",
       "      <td>9</td>\n",
       "      <td>70</td>\n",
       "      <td>4800</td>\n",
       "      <td>30</td>\n",
       "      <td>37</td>\n",
       "    </tr>\n",
       "  </tbody>\n",
       "</table>\n",
       "<p>62 rows × 25 columns</p>\n",
       "</div>"
      ],
      "text/plain": [
       "     featureSET__symboling  featureSET__normalized-losses  featureSET__make  \\\n",
       "48                       1                            168                19   \n",
       "7                        3                            122                11   \n",
       "14                       0                            122                20   \n",
       "75                       1                            104                 8   \n",
       "163                      0                            110                 5   \n",
       "..                     ...                            ...               ...   \n",
       "91                       1                            129                 8   \n",
       "38                       0                            161                13   \n",
       "128                      3                            122                11   \n",
       "157                      2                            134                19   \n",
       "154                      0                             91                19   \n",
       "\n",
       "     featureSET__fuel-type  featureSET__aspiration  featureSET__num-of-doors  \\\n",
       "48                       1                       0                         2   \n",
       "7                        1                       1                         2   \n",
       "14                       1                       0                         1   \n",
       "75                       1                       0                         2   \n",
       "163                      1                       0                         1   \n",
       "..                     ...                     ...                       ...   \n",
       "91                       1                       0                         2   \n",
       "38                       1                       1                         1   \n",
       "128                      1                       1                         2   \n",
       "157                      1                       0                         2   \n",
       "154                      1                       0                         1   \n",
       "\n",
       "     featureSET__body-style  featureSET__drive-wheels  \\\n",
       "48                        3                         2   \n",
       "7                         2                         1   \n",
       "14                        3                         1   \n",
       "75                        2                         1   \n",
       "163                       3                         1   \n",
       "..                      ...                       ...   \n",
       "91                        2                         1   \n",
       "38                        3                         2   \n",
       "128                       2                         1   \n",
       "157                       2                         2   \n",
       "154                       3                         1   \n",
       "\n",
       "     featureSET__engine-location  featureSET__wheel-base  ...  \\\n",
       "48                             0                      94  ...   \n",
       "7                              0                      95  ...   \n",
       "14                             0                     100  ...   \n",
       "75                             0                      93  ...   \n",
       "163                            0                      96  ...   \n",
       "..                           ...                     ...  ...   \n",
       "91                             0                      98  ...   \n",
       "38                             0                     108  ...   \n",
       "128                            0                      95  ...   \n",
       "157                            0                      98  ...   \n",
       "154                            0                      95  ...   \n",
       "\n",
       "     featureSET__num-of-cylinders  featureSET__engine-size  \\\n",
       "48                              2                       98   \n",
       "7                               2                      156   \n",
       "14                              1                      136   \n",
       "75                              2                       91   \n",
       "163                             2                       92   \n",
       "..                            ...                      ...   \n",
       "91                              2                      122   \n",
       "38                              2                      134   \n",
       "128                             2                      156   \n",
       "157                             2                      146   \n",
       "154                             2                       98   \n",
       "\n",
       "     featureSET__fuel-system  featureSET__bore  featureSET__stroke  \\\n",
       "48                         1                 3                   3   \n",
       "7                          6                 3                   3   \n",
       "14                         5                 3                   3   \n",
       "75                         1                 3                   3   \n",
       "163                        0                 2                   3   \n",
       "..                       ...               ...                 ...   \n",
       "91                         1                 3                   3   \n",
       "38                         5                 3                   3   \n",
       "128                        6                 3                   3   \n",
       "157                        5                 3                   3   \n",
       "154                        1                 3                   3   \n",
       "\n",
       "     featureSET__compression-ratio  featureSET__horsepower  \\\n",
       "48                               9                      70   \n",
       "7                                7                     145   \n",
       "14                               8                     110   \n",
       "75                               9                      68   \n",
       "163                              9                      76   \n",
       "..                             ...                     ...   \n",
       "91                               8                      84   \n",
       "38                               7                     142   \n",
       "128                              7                     145   \n",
       "157                              9                     116   \n",
       "154                              9                      70   \n",
       "\n",
       "     featureSET__peak-rpm  featureSET__city-mpg  featureSET__highway-mpg  \n",
       "48                   4800                    29                       34  \n",
       "7                    5000                    19                       24  \n",
       "14                   5500                    19                       24  \n",
       "75                   5000                    31                       38  \n",
       "163                  6000                    30                       34  \n",
       "..                    ...                   ...                      ...  \n",
       "91                   4800                    26                       32  \n",
       "38                   5600                    18                       24  \n",
       "128                  5000                    19                       24  \n",
       "157                  4800                    24                       30  \n",
       "154                  4800                    30                       37  \n",
       "\n",
       "[62 rows x 25 columns]"
      ]
     },
     "execution_count": 42,
     "metadata": {},
     "output_type": "execute_result"
    }
   ],
   "source": [
    "X_test_rf"
   ]
  },
  {
   "cell_type": "code",
   "execution_count": 43,
   "metadata": {
    "tags": []
   },
   "outputs": [
    {
     "data": {
      "text/plain": [
       "array([[   0,  188,    2,    1,    0,    2,    3,    2,    0,  101,  176,\n",
       "          64,   54, 2710,    3,    3,  164,    5,    3,    3,    9,  121,\n",
       "        4250,   21,   28]])"
      ]
     },
     "execution_count": 43,
     "metadata": {},
     "output_type": "execute_result"
    }
   ],
   "source": [
    "pred = X_test_rf.values[55].reshape(1, -1)\n",
    "pred"
   ]
  },
  {
   "cell_type": "code",
   "execution_count": 44,
   "metadata": {
    "tags": []
   },
   "outputs": [
    {
     "data": {
      "text/plain": [
       "array([21105])"
      ]
     },
     "execution_count": 44,
     "metadata": {},
     "output_type": "execute_result"
    }
   ],
   "source": [
    "Model_job.predict(pred)"
   ]
  },
  {
   "cell_type": "code",
   "execution_count": 45,
   "metadata": {
    "tags": [
     "skip"
    ]
   },
   "outputs": [
    {
     "name": "stdout",
     "output_type": "stream",
     "text": [
      "<minio.helpers.ObjectWriteResult object at 0x7f0df7af4150>\n"
     ]
    }
   ],
   "source": [
    "print(get_minio().fput_object(MINIO_MODEL_BUCKET, f\"{INCOME_MODEL_PATH}/model.joblib\", 'model.joblib'))"
   ]
  },
  {
   "cell_type": "code",
   "execution_count": null,
   "metadata": {
    "tags": [
     "skip"
    ]
   },
   "outputs": [],
   "source": []
  }
 ],
 "metadata": {
  "kernelspec": {
   "display_name": "Python 3",
   "language": "python",
   "name": "python3"
  },
  "kubeflow_notebook": {
   "autosnapshot": false,
   "docker_image": "",
   "experiment": {
    "id": "75b16a8e-0270-4d9f-a685-2a4512632b53",
    "name": "automobile"
   },
   "experiment_name": "automobile",
   "katib_metadata": {
    "algorithm": {
     "algorithmName": "grid"
    },
    "maxFailedTrialCount": 3,
    "maxTrialCount": 12,
    "objective": {
     "objectiveMetricName": "",
     "type": "minimize"
    },
    "parallelTrialCount": 3,
    "parameters": []
   },
   "katib_run": false,
   "pipeline_description": "manual-1",
   "pipeline_name": "manual-1",
   "snapshot_volumes": false,
   "steps_defaults": [],
   "volume_access_mode": "rwm",
   "volumes": []
  },
  "language_info": {
   "codemirror_mode": {
    "name": "ipython",
    "version": 3
   },
   "file_extension": ".py",
   "mimetype": "text/x-python",
   "name": "python",
   "nbconvert_exporter": "python",
   "pygments_lexer": "ipython3",
   "version": "3.7.9"
  }
 },
 "nbformat": 4,
 "nbformat_minor": 4
}
