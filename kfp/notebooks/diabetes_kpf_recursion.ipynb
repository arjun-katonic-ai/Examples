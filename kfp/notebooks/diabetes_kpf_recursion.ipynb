{
 "cells": [
  {
   "cell_type": "markdown",
   "id": "c67cb257-68cc-4cee-9865-6af01a507160",
   "metadata": {},
   "source": [
    "# This Notebook focuses on how to use kfp.dsl.Conditions in kfp sdk"
   ]
  },
  {
   "cell_type": "code",
   "execution_count": 4,
   "id": "9842c9cb-9243-4cf8-9259-d338066f245f",
   "metadata": {},
   "outputs": [],
   "source": [
    "import kfp\n",
    "from kfp import dsl\n",
    "import kfp.components as comp\n",
    "from kfp.components import func_to_container_op, create_component_from_func\n",
    "from typing import NamedTuple"
   ]
  },
  {
   "cell_type": "markdown",
   "id": "69f3ff56-e66d-403a-84a4-9674ba9fa995",
   "metadata": {},
   "source": [
    "## load data\n",
    "\n",
    "- This method loads the data from the `https://raw.githubusercontent.com/plotly/datasets/master/diabetes.csv` and saves it\n",
    "    to `storage_path+'/diabetes.csv'` and returns storage_path\n",
    "    parameters\n",
    "    -------------\n",
    "    storage_path: str\n",
    "        Path where data need to be saved\n",
    "    \n",
    "    Return\n",
    "    --------------\n",
    "    storage_path: str\n",
    "        Path where data need to be saved"
   ]
  },
  {
   "cell_type": "code",
   "execution_count": 5,
   "id": "baf48a70-db7f-4d10-8c74-a259ca92f88c",
   "metadata": {},
   "outputs": [],
   "source": [
    "import pandas\n",
    "def load_data(storage_path:str) -> NamedTuple('Outputs', [('data_path', str)]):\n",
    "    import os\n",
    "    os.system(\"pip install pandas\")\n",
    "    import pandas as pd\n",
    "    \n",
    "    df = pd.read_csv(\"https://raw.githubusercontent.com/plotly/datasets/master/diabetes.csv\")\n",
    "    path = storage_path+'/diabetes.csv'\n",
    "    df.to_csv(path, index=False)\n",
    "    return ([storage_path])"
   ]
  },
  {
   "cell_type": "markdown",
   "id": "3f7ed040-3e30-4961-a65c-394a4fea4a61",
   "metadata": {},
   "source": [
    "## split_data\n",
    "\n",
    "- This method first reads data from `data_path` then splits it in `x_train, x_test, y_train, y_test` and then saves it as\n",
    "    `train.csv` and `test.csv` and returns data_path\n",
    "    parameters\n",
    "    -------------\n",
    "    data_path: str\n",
    "        Path where data is stored\n",
    "    \n",
    "    Return\n",
    "    --------------\n",
    "    data_path: str\n",
    "        Path where data is stored"
   ]
  },
  {
   "cell_type": "code",
   "execution_count": 6,
   "id": "2a6ab3f8-ea3e-49df-82ef-0167749ca7b1",
   "metadata": {},
   "outputs": [],
   "source": [
    "\n",
    "def split_data(data_path:str) -> NamedTuple('Outputs', [('data_path', str)]):\n",
    "    import os\n",
    "    os.system(\"pip install pandas scikit-learn\")\n",
    "    import pandas as pd\n",
    "    from sklearn.model_selection import train_test_split\n",
    "    df = pd.read_csv(data_path+\"/diabetes.csv\")\n",
    "    x = df.drop(columns=['Outcome'], axis=1)\n",
    "    y = df['Outcome']\n",
    "    x_train, x_test, y_train, y_test = train_test_split(x, y, test_size=0.2)\n",
    "    x_train['outcome'] = y_train\n",
    "    x_test['outcome'] = y_test\n",
    "\n",
    "    x_train.to_csv(data_path+'/train.csv', index=False)\n",
    "    x_test.to_csv(data_path+'/test.csv', index=False)\n",
    "    return ([data_path])"
   ]
  },
  {
   "cell_type": "markdown",
   "id": "f773716f-6406-46ee-87c5-05b11c03c5ca",
   "metadata": {},
   "source": [
    "## Train model\n",
    "\n",
    "- This method reads the `train.csv` and `test.csv` and converts it back into `x_train, x_test, y_train, y_test`\n",
    "    then adds 2 to depth and creates a DecisionTreeClassifier object and trains the model and returns accuract score and\n",
    "    updated depth value\n",
    "    \n",
    "    parameters\n",
    "    -------------\n",
    "    data_path: str\n",
    "        Path where data is stored\n",
    "    depth: int\n",
    "        The max depth parameter of the DecisionTree\n",
    "    \n",
    "    Return\n",
    "    --------------\n",
    "    score: float\n",
    "        accuracy score of test data\n",
    "    depth: int\n",
    "        The max depth parameter of the DecisionTree"
   ]
  },
  {
   "cell_type": "code",
   "execution_count": 7,
   "id": "36793808-2cd6-4215-96fa-6d9bb7fa318f",
   "metadata": {},
   "outputs": [],
   "source": [
    "def train_model(data_path:str, depth:int) -> NamedTuple('Outputs', [('score', float), ('depth', int)]):\n",
    "    import os\n",
    "    os.system(\"pip install pandas scikit-learn\")\n",
    "    import pandas as pd\n",
    "    from sklearn.tree import DecisionTreeClassifier\n",
    "    train = pd.read_csv(data_path+'/train.csv')\n",
    "    test = pd.read_csv(data_path+'/test.csv')\n",
    "    x_train, y_train = train.drop(columns=['outcome'], axis=1), train['outcome']\n",
    "    x_test, y_test = test.drop(columns=['outcome'], axis=1), test['outcome']\n",
    "    depth += 2\n",
    "    tree = DecisionTreeClassifier(max_depth=depth)\n",
    "    tree.fit(x_train, y_train)\n",
    "    score = tree.score(x_test, y_test)\n",
    "\n",
    "    return ([score, depth])"
   ]
  },
  {
   "cell_type": "markdown",
   "id": "7bd1e1ac-758b-4bf7-9c08-01f0f5b12e35",
   "metadata": {},
   "source": [
    "## Create kfp component from functions\n",
    "- This section creates components from the function and stores it into a variable using create_component_from_func"
   ]
  },
  {
   "cell_type": "code",
   "execution_count": 8,
   "id": "0bf2207d-8aec-4223-beb3-f5b818f325cc",
   "metadata": {},
   "outputs": [],
   "source": [
    "load_data_op = create_component_from_func(load_data)\n",
    "split_data_op = create_component_from_func(split_data)\n",
    "train_model_op = create_component_from_func(train_model)"
   ]
  },
  {
   "cell_type": "markdown",
   "id": "71d566f3-1ebf-400f-acd3-6b76e02ee10f",
   "metadata": {},
   "source": [
    "## Defining the condition for recursion and configuring the component\n",
    "- Here we use kfp.dsl.Condition to check if trained DecisionTree Classifier provides accuracy > `70%` or not, if the accuracy is less than `70%` then train_model_recursion is called again but with data_path and updated depth value, and this keeps on going on until the condition fails to satisfy essencially ending the training cycle. \n",
    "\n",
    "- Due to it's nature it ends up becomong a recursion function"
   ]
  },
  {
   "cell_type": "code",
   "execution_count": 9,
   "id": "0ab222ed-a22b-4942-bbb5-342feb8da1e8",
   "metadata": {},
   "outputs": [],
   "source": [
    "@kfp.dsl.graph_component\n",
    "def train_model_recursion(data_path:str, depth:int):\n",
    "\n",
    "    train_model_task = train_model_op(data_path, depth).add_pvolumes({ '/kfs_private':dsl.PipelineVolume(pvc=\"private-storage-f517\") })\n",
    "    with kfp.dsl.Condition(train_model_task.outputs['score'] < 0.70):\n",
    "        train_model_recursion(data_path, train_model_task.outputs['depth'])"
   ]
  },
  {
   "cell_type": "markdown",
   "id": "be32d147-c840-468f-80bc-eb600be33698",
   "metadata": {},
   "source": [
    "## Configuring the kfp components\n",
    "- Here pipeline is designed, means how it is going to behave and also `'/kfs_private'` bucket is attached and train_model_recursion is called with data_path and depth. These two values need to be pipeline parameters here due to the nature of the function otherwise there will be an error"
   ]
  },
  {
   "cell_type": "code",
   "execution_count": 10,
   "id": "663aec4a-a9a7-4d4e-b70e-1a404f74493f",
   "metadata": {},
   "outputs": [],
   "source": [
    "@dsl.pipeline()\n",
    "def demo_recursion(data_path:str = '/kfs_private/data_dir', depth:int=2):\n",
    "\n",
    "    load_data_task = load_data_op(data_path).add_pvolumes({ '/kfs_private':dsl.PipelineVolume(pvc=\"private-storage-f517\") })\n",
    "    split_data_task = split_data_op(load_data_task.outputs['data_path']).add_pvolumes({ '/kfs_private':dsl.PipelineVolume(pvc=\"private-storage-f517\") })\n",
    "    train_model_recursion(split_data_task.outputs['data_path'], depth)\n",
    "    "
   ]
  },
  {
   "cell_type": "code",
   "execution_count": 12,
   "id": "6a73915f-12f0-4356-a455-715cd977de16",
   "metadata": {},
   "outputs": [
    {
     "data": {
      "text/html": [
       "<a href=\"http://ml-pipeline.kubeflow.svc.cluster.local:8888/#/experiments/details/f154160f-5ce5-49f6-b982-defe4108ed90\" target=\"_blank\" >Experiment details</a>."
      ],
      "text/plain": [
       "<IPython.core.display.HTML object>"
      ]
     },
     "metadata": {},
     "output_type": "display_data"
    },
    {
     "data": {
      "text/html": [
       "<a href=\"http://ml-pipeline.kubeflow.svc.cluster.local:8888/#/runs/details/86de1173-8e38-409a-a411-56809e0def7a\" target=\"_blank\" >Run details</a>."
      ],
      "text/plain": [
       "<IPython.core.display.HTML object>"
      ]
     },
     "metadata": {},
     "output_type": "display_data"
    }
   ],
   "source": [
    "from datetime import datetime\n",
    "import uuid\n",
    "EXPERIMENT_NAME = \"parallel\"\n",
    "kfp_endpoint =  \"http://ml-pipeline.kubeflow.svc.cluster.local:8888\"\n",
    "pipeline_func = demo_recursion\n",
    "arguments={}\n",
    "pipeline_filename = pipeline_func.__name__ + f'{uuid.uuid1()}.pipeline.zip'\n",
    "kfp.compiler.Compiler().compile(pipeline_func, pipeline_filename)\n",
    "client = kfp.Client(kfp_endpoint)\n",
    "experiment = client.create_experiment(EXPERIMENT_NAME)\n",
    "run_name = pipeline_func.__name__ + str(datetime.now().strftime(\"%d-%m-%Y-%H-%M-%S\"))\n",
    "client.upload_pipeline(pipeline_filename)\n",
    "run_result = client.run_pipeline(experiment.id, run_name, pipeline_filename, arguments)"
   ]
  },
  {
   "cell_type": "code",
   "execution_count": null,
   "id": "79621576-e6c0-483f-ac62-09edbbfa392a",
   "metadata": {},
   "outputs": [],
   "source": []
  }
 ],
 "metadata": {
  "kernelspec": {
   "display_name": "Python 3 (ipykernel)",
   "language": "python",
   "name": "python3"
  },
  "language_info": {
   "codemirror_mode": {
    "name": "ipython",
    "version": 3
   },
   "file_extension": ".py",
   "mimetype": "text/x-python",
   "name": "python",
   "nbconvert_exporter": "python",
   "pygments_lexer": "ipython3",
   "version": "3.8.6"
  }
 },
 "nbformat": 4,
 "nbformat_minor": 5
}
