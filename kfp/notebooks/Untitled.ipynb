{
 "cells": [
  {
   "cell_type": "code",
   "execution_count": 2,
   "id": "cc4bf8d9-5bff-4b25-9e97-59638c771a53",
   "metadata": {},
   "outputs": [],
   "source": [
    "import base64\n",
    "import os\n",
    "\n",
    "\n",
    "def __decode_py(message):\n",
    "    base64_bytes = message.encode(\"ascii\")\n",
    "    message_bytes = base64.b64decode(base64_bytes)\n",
    "    return message_bytes.decode(\"ascii\")\n",
    "\n",
    "\n",
    "# set environment variable\n",
    "os.environ[\"MLFLOW_S3_ENDPOINT_URL\"] = __decode_py(\n",
    "    \"aHR0cDovL21pbmlvLXNlcnZlci5kZWZhdWx0LnN2Yy5jbHVzdGVyLmxvY2FsOjkwMDAv\"\n",
    ")\n",
    "\n",
    "os.environ[\"AWS_ACCESS_KEY_ID\"] = __decode_py(\"bWxmbG93X2tleQ==\")\n",
    "\n",
    "os.environ[\"AWS_SECRET_ACCESS_KEY\"] = __decode_py(\"WWFoZGVlVGhhaXJhaEg3ZQ==\")\n",
    "\n",
    "os.environ[\"MLFLOW_BASE_URL\"] = __decode_py(\n",
    "    \"aHR0cDovL21sZmxvdy1zZXJ2aWNlLm1sZmxvdy5zdmMuY2x1c3Rlci5sb2NhbDo1MDAw\"\n",
    ")"
   ]
  },
  {
   "cell_type": "code",
   "execution_count": 5,
   "id": "e312c878-c962-4a0a-9392-6a2640aac42a",
   "metadata": {},
   "outputs": [],
   "source": [
    "import mlflow\n",
    "\n",
    "mlflow.set_tracking_uri(os.environ[\"MLFLOW_BASE_URL\"])\n",
    "client = mlflow.tracking.MlflowClient(os.environ[\"MLFLOW_BASE_URL\"])"
   ]
  },
  {
   "cell_type": "code",
   "execution_count": 7,
   "id": "aa435202-b113-4251-96ae-f7117522c772",
   "metadata": {},
   "outputs": [
    {
     "data": {
      "text/plain": [
       "<Experiment: artifact_location='s3://models/4', experiment_id='4', lifecycle_stage='active', name='test_mlflow', tags={}>"
      ]
     },
     "execution_count": 7,
     "metadata": {},
     "output_type": "execute_result"
    }
   ],
   "source": [
    "exp_name = \"test_mlflow\"\n",
    "mlflow.set_experiment(exp_name)"
   ]
  },
  {
   "cell_type": "code",
   "execution_count": null,
   "id": "4e6e68ad-a22e-4c20-b8e0-ef265ea50fb3",
   "metadata": {},
   "outputs": [],
   "source": []
  }
 ],
 "metadata": {
  "kernelspec": {
   "display_name": "Python 3 (ipykernel)",
   "language": "python",
   "name": "python3"
  },
  "language_info": {
   "codemirror_mode": {
    "name": "ipython",
    "version": 3
   },
   "file_extension": ".py",
   "mimetype": "text/x-python",
   "name": "python",
   "nbconvert_exporter": "python",
   "pygments_lexer": "ipython3",
   "version": "3.9.13"
  }
 },
 "nbformat": 4,
 "nbformat_minor": 5
}
