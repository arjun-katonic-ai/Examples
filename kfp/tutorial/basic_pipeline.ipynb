{
 "cells": [
  {
   "cell_type": "markdown",
   "id": "efe80ca2-6766-432a-b685-9b8192514a9d",
   "metadata": {},
   "source": [
    "# This Notebook focuses on creating a basic kfp pipeline"
   ]
  },
  {
   "cell_type": "code",
   "execution_count": 8,
   "id": "405c21d5-17aa-4ba8-affd-41d040ad20b3",
   "metadata": {},
   "outputs": [],
   "source": [
    "from kfp import dsl\n",
    "from kfp.components import create_component_from_func\n",
    "import kfp"
   ]
  },
  {
   "cell_type": "code",
   "execution_count": 9,
   "id": "01e7cbba-5ccb-4a14-a64e-c9772885cb18",
   "metadata": {},
   "outputs": [],
   "source": [
    "def print_something(data: int):\n",
    "    print(data)"
   ]
  },
  {
   "cell_type": "markdown",
   "id": "182afb3f-c652-427b-b95e-43c4a7566cd3",
   "metadata": {},
   "source": [
    "## This method is where pipeline is designed\n",
    "- create_component_from_func is used to convert functions to components and that is stored inside print_something_op\n",
    "    data is passed inside print_something_op to print it."
   ]
  },
  {
   "cell_type": "code",
   "execution_count": 10,
   "id": "72bc29f6-2255-43f6-85f1-28c56b8e646e",
   "metadata": {},
   "outputs": [],
   "source": [
    "@dsl.pipeline(\n",
    "    name='Print Something',\n",
    "    description='A pipeline that prints some data'\n",
    ")\n",
    "def pipeline():\n",
    "    print_something_op = create_component_from_func(func=print_something)\n",
    "    \n",
    "    data = \"Hello World!!\"\n",
    "    print_something_op(data)"
   ]
  },
  {
   "cell_type": "markdown",
   "id": "fcb76a18-2178-40ce-9a42-840c58b13356",
   "metadata": {},
   "source": [
    "# Pipeline run\n",
    "- Here pipeline experiment name, function is defined first, then using the pipeline funcion and yaml filename the pipeline is compiled that generated the .yaml file. Then the pipeline is uploaded using the client and it is executed to run at the end."
   ]
  },
  {
   "cell_type": "code",
   "execution_count": 11,
   "id": "e9aba232-166f-400c-845f-c56f9bae45d6",
   "metadata": {},
   "outputs": [
    {
     "data": {
      "text/html": [
       "<a href=\"/pipeline/#/experiments/details/1fdddbae-1dde-46bd-a986-877a7bd7ae59\" target=\"_blank\" >Experiment details</a>."
      ],
      "text/plain": [
       "<IPython.core.display.HTML object>"
      ]
     },
     "metadata": {},
     "output_type": "display_data"
    },
    {
     "data": {
      "text/html": [
       "<a href=\"/pipeline/#/runs/details/c225d51a-7601-45e2-87f2-0a9f5a4436fe\" target=\"_blank\" >Run details</a>."
      ],
      "text/plain": [
       "<IPython.core.display.HTML object>"
      ]
     },
     "metadata": {},
     "output_type": "display_data"
    }
   ],
   "source": [
    "from datetime import datetime\n",
    "import uuid\n",
    "EXPERIMENT_NAME = \"Print_Something\"\n",
    "pipeline_func = pipeline\n",
    "pipeline_filename = pipeline_func.__name__ + f'{uuid.uuid1()}.pipeline.yaml'\n",
    "kfp.compiler.Compiler().compile(pipeline_func, pipeline_filename)\n",
    "client = kfp.Client()\n",
    "experiment = client.create_experiment(EXPERIMENT_NAME)\n",
    "run_name = pipeline_func.__name__ + str(datetime.now().strftime(\"%d-%m-%Y-%H-%M-%S\"))\n",
    "client.upload_pipeline(pipeline_filename)\n",
    "run_result = client.run_pipeline(experiment.id, run_name, pipeline_filename)"
   ]
  },
  {
   "cell_type": "code",
   "execution_count": null,
   "id": "47b54da4-b1a6-469c-add6-b9fa62985b79",
   "metadata": {},
   "outputs": [],
   "source": []
  }
 ],
 "metadata": {
  "kernelspec": {
   "display_name": "Python 3 (ipykernel)",
   "language": "python",
   "name": "python3"
  },
  "language_info": {
   "codemirror_mode": {
    "name": "ipython",
    "version": 3
   },
   "file_extension": ".py",
   "mimetype": "text/x-python",
   "name": "python",
   "nbconvert_exporter": "python",
   "pygments_lexer": "ipython3",
   "version": "3.8.6"
  }
 },
 "nbformat": 4,
 "nbformat_minor": 5
}
