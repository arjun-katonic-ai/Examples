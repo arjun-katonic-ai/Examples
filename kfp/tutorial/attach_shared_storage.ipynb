{
 "cells": [
  {
   "cell_type": "markdown",
   "id": "171e4e70-27af-484b-91a9-ce7d8f597f4b",
   "metadata": {},
   "source": [
    "# This notebook focuses on how to attach a shared volume to components"
   ]
  },
  {
   "cell_type": "code",
   "execution_count": 18,
   "id": "3e1b817d-f9ab-4b9c-9274-0aeb9b9d160c",
   "metadata": {},
   "outputs": [],
   "source": [
    "from kfp import dsl\n",
    "from kfp.components import create_component_from_func\n",
    "import kfp\n",
    "from typing import NamedTuple"
   ]
  },
  {
   "cell_type": "markdown",
   "id": "7e767402-fbe8-4b62-b6a0-e296e6cef845",
   "metadata": {},
   "source": [
    "## Function creation\n",
    "- Here @create_component_from_func decorator is used to convert save_file and read_data fucntion into components"
   ]
  },
  {
   "cell_type": "code",
   "execution_count": 34,
   "id": "a19b7c8f-4400-407d-9dc2-e7f8436475ab",
   "metadata": {},
   "outputs": [],
   "source": [
    "@create_component_from_func\n",
    "def save_file(data_path:str, data:str) -> NamedTuple('Outputs', [('file_loc', str)]):\n",
    "    file_location = f\"{data_path}/file.txt\"\n",
    "    with open(file_location, 'w') as f:\n",
    "        f.write(data)\n",
    "    return ([file_location])\n",
    "\n",
    "@create_component_from_func\n",
    "def read_data(file_location: str):\n",
    "    with open(file_location, 'r') as f:\n",
    "        print(f.read())\n",
    "\n",
    "        "
   ]
  },
  {
   "cell_type": "markdown",
   "id": "e788f59f-5d24-4416-b23b-b7ac9987b7b5",
   "metadata": {},
   "source": [
    "## Pipeline creation\n",
    "- Here in the function `log_folder` is the variable of the shared storage location\n",
    "    n `pvc_name` is the name of the shared resources\n",
    "     \n",
    "     vop is the shred storage volume that is created using `dsl.VolumeOp` and the size of the storage is 1gb\n",
    "     \n",
    "     this volume is attached to the component using add_pvolumes\n",
    "    "
   ]
  },
  {
   "cell_type": "code",
   "execution_count": 35,
   "id": "9367f9ca-b5bf-4e67-9d22-d81cdd2dbb68",
   "metadata": {},
   "outputs": [],
   "source": [
    "@dsl.pipeline(\n",
    "    name='Attach Volume Storage',\n",
    "    description='A pipeline with volume storage'\n",
    ")\n",
    "def volume_pipeline():\n",
    "    log_folder = '/information'\n",
    "    pvc_name = \"pipeline-storage\"\n",
    "    data = \"Hi!, I'm Bijoy and i love video games\"\n",
    "    # Creating volume\n",
    "    vop = dsl.VolumeOp(\n",
    "        name=pvc_name,\n",
    "        resource_name=pvc_name,\n",
    "        size=\"1Gi\",\n",
    "        modes=dsl.VOLUME_MODE_RWO\n",
    "    )\n",
    "    \n",
    "    \n",
    "    save_file_task = save_file(log_folder, data).add_pvolumes({ log_folder:vop.volume, })\n",
    "    read_data(save_file_task.outputs['file_loc']).add_pvolumes({ log_folder:vop.volume, })\n",
    "    "
   ]
  },
  {
   "cell_type": "code",
   "execution_count": 36,
   "id": "6e04b273-b883-4f6d-b4d3-df8b43b8a132",
   "metadata": {},
   "outputs": [
    {
     "data": {
      "text/html": [
       "<a href=\"/pipeline/#/experiments/details/b08a4cb9-00ea-4c99-b14f-281021ba3e41\" target=\"_blank\" >Experiment details</a>."
      ],
      "text/plain": [
       "<IPython.core.display.HTML object>"
      ]
     },
     "metadata": {},
     "output_type": "display_data"
    },
    {
     "data": {
      "text/html": [
       "<a href=\"/pipeline/#/runs/details/208f63f5-935e-4433-893f-99588b1995e4\" target=\"_blank\" >Run details</a>."
      ],
      "text/plain": [
       "<IPython.core.display.HTML object>"
      ]
     },
     "metadata": {},
     "output_type": "display_data"
    }
   ],
   "source": [
    "from datetime import datetime\n",
    "import uuid\n",
    "EXPERIMENT_NAME = \"Volume pipeline\"\n",
    "pipeline_func = volume_pipeline\n",
    "pipeline_filename = pipeline_func.__name__ + f'{uuid.uuid1()}.pipeline.yaml'\n",
    "kfp.compiler.Compiler().compile(pipeline_func, pipeline_filename)\n",
    "client = kfp.Client()\n",
    "experiment = client.create_experiment(EXPERIMENT_NAME)\n",
    "run_name = pipeline_func.__name__ + str(datetime.now().strftime(\"%d-%m-%Y-%H-%M-%S\"))\n",
    "client.upload_pipeline(pipeline_filename)\n",
    "run_result = client.run_pipeline(experiment.id, run_name, pipeline_filename)"
   ]
  },
  {
   "cell_type": "code",
   "execution_count": null,
   "id": "8f62c01b-3e50-4cbf-9f21-5f5c668fb876",
   "metadata": {},
   "outputs": [],
   "source": []
  }
 ],
 "metadata": {
  "kernelspec": {
   "display_name": "Python 3 (ipykernel)",
   "language": "python",
   "name": "python3"
  },
  "language_info": {
   "codemirror_mode": {
    "name": "ipython",
    "version": 3
   },
   "file_extension": ".py",
   "mimetype": "text/x-python",
   "name": "python",
   "nbconvert_exporter": "python",
   "pygments_lexer": "ipython3",
   "version": "3.8.6"
  }
 },
 "nbformat": 4,
 "nbformat_minor": 5
}
