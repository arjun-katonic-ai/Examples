{
 "cells": [
  {
   "cell_type": "markdown",
   "id": "4b37f286-7f74-4758-a336-357dd161bd38",
   "metadata": {},
   "source": [
    "# This notebook focuses on how to attach kfs_private bucket to the component"
   ]
  },
  {
   "cell_type": "code",
   "execution_count": 1,
   "id": "419a0c30-034e-4dfd-b273-06089096a6a7",
   "metadata": {},
   "outputs": [],
   "source": [
    "from kfp import dsl\n",
    "from kfp.components import create_component_from_func\n",
    "import kfp\n",
    "from typing import NamedTuple"
   ]
  },
  {
   "cell_type": "markdown",
   "id": "9b422969-4ff7-4cb8-8b14-6d48404151a8",
   "metadata": {},
   "source": [
    "## Function creation\n",
    "- Here @create_component_from_func decorator is used to convert save_file and read_data fucntion into components"
   ]
  },
  {
   "cell_type": "code",
   "execution_count": 2,
   "id": "15682d65-4782-436f-9d0d-2475e8524cf9",
   "metadata": {},
   "outputs": [],
   "source": [
    "@create_component_from_func\n",
    "def save_file(data_path:str, data:str) -> NamedTuple('Outputs', [('file_loc', str)]):\n",
    "    file_location = f\"{data_path}/file.txt\"\n",
    "    with open(file_location, 'w') as f:\n",
    "        f.write(data)\n",
    "    return ([file_location])\n",
    "\n",
    "@create_component_from_func\n",
    "def read_data(file_location: str):\n",
    "    with open(file_location, 'r') as f:\n",
    "        print(f.read())\n",
    "\n",
    "        "
   ]
  },
  {
   "cell_type": "markdown",
   "id": "fc4bbcb7-30b3-429a-a3b5-c2f345c40346",
   "metadata": {},
   "source": [
    "## Pipeline creation\n",
    "- Here in the function `/kfs_private` is the name of the bucket that can be attached using `add_pvolumes` and the `pvc` value can be found from `katonic file manager`\n",
    "    "
   ]
  },
  {
   "cell_type": "code",
   "execution_count": 3,
   "id": "0b3ab7ed-0be1-4bf2-8143-840742790a99",
   "metadata": {},
   "outputs": [],
   "source": [
    "@dsl.pipeline(\n",
    "    name='Attach Volume Storage',\n",
    "    description='A pipeline with volume storage'\n",
    ")\n",
    "def volume_pipeline():\n",
    "    log_folder = \"/kfs_private\"\n",
    "    data = \"Hi!, I'm Bijoy and i love video games\"\n",
    "\n",
    "    save_file_task = save_file(log_folder, data).add_pvolumes({ log_folder:dsl.PipelineVolume(pvc=\"private-storage-f517\"), })\n",
    "    read_data(save_file_task.outputs['file_loc']).add_pvolumes({ log_folder:dsl.PipelineVolume(pvc=\"private-storage-f517\"), })\n",
    "    "
   ]
  },
  {
   "cell_type": "code",
   "execution_count": 4,
   "id": "2ea6e7bd-d88b-4c45-8eae-914ac94c69fc",
   "metadata": {},
   "outputs": [
    {
     "data": {
      "text/html": [
       "<a href=\"/pipeline/#/experiments/details/b08a4cb9-00ea-4c99-b14f-281021ba3e41\" target=\"_blank\" >Experiment details</a>."
      ],
      "text/plain": [
       "<IPython.core.display.HTML object>"
      ]
     },
     "metadata": {},
     "output_type": "display_data"
    },
    {
     "data": {
      "text/html": [
       "<a href=\"/pipeline/#/runs/details/0a94cdaf-6fd7-4cd4-ad65-20f901a78bb3\" target=\"_blank\" >Run details</a>."
      ],
      "text/plain": [
       "<IPython.core.display.HTML object>"
      ]
     },
     "metadata": {},
     "output_type": "display_data"
    }
   ],
   "source": [
    "from datetime import datetime\n",
    "import uuid\n",
    "EXPERIMENT_NAME = \"Volume pipeline\"\n",
    "pipeline_func = volume_pipeline\n",
    "pipeline_filename = pipeline_func.__name__ + f'{uuid.uuid1()}.pipeline.yaml'\n",
    "kfp.compiler.Compiler().compile(pipeline_func, pipeline_filename)\n",
    "client = kfp.Client()\n",
    "experiment = client.create_experiment(EXPERIMENT_NAME)\n",
    "run_name = pipeline_func.__name__ + str(datetime.now().strftime(\"%d-%m-%Y-%H-%M-%S\"))\n",
    "client.upload_pipeline(pipeline_filename)\n",
    "run_result = client.run_pipeline(experiment.id, run_name, pipeline_filename)"
   ]
  },
  {
   "cell_type": "code",
   "execution_count": null,
   "id": "98ae4d58-49cb-416c-a21f-3ca99f9d89a9",
   "metadata": {},
   "outputs": [],
   "source": []
  }
 ],
 "metadata": {
  "kernelspec": {
   "display_name": "Python 3 (ipykernel)",
   "language": "python",
   "name": "python3"
  },
  "language_info": {
   "codemirror_mode": {
    "name": "ipython",
    "version": 3
   },
   "file_extension": ".py",
   "mimetype": "text/x-python",
   "name": "python",
   "nbconvert_exporter": "python",
   "pygments_lexer": "ipython3",
   "version": "3.8.6"
  }
 },
 "nbformat": 4,
 "nbformat_minor": 5
}
