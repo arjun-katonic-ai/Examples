{
 "cells": [
  {
   "cell_type": "markdown",
   "id": "801c0b25-6671-46c3-94d7-db9c4d11024f",
   "metadata": {},
   "source": [
    "# This noteboook focuses on How to return a value from component and feed it to another"
   ]
  },
  {
   "cell_type": "code",
   "execution_count": 1,
   "id": "017837ca-526d-4f24-ba51-7f4f8c3d3b9b",
   "metadata": {},
   "outputs": [],
   "source": [
    "from kfp import dsl\n",
    "from kfp.components import create_component_from_func\n",
    "import kfp\n",
    "from typing import NamedTuple"
   ]
  },
  {
   "cell_type": "markdown",
   "id": "a58316e8-8e9f-4adc-beae-4adf3a48eaa4",
   "metadata": {},
   "source": [
    "# Function creation\n",
    "- Here return_number function is created that return a integer.\n",
    "\n",
    "    Then print_something recieves the value and prints it"
   ]
  },
  {
   "cell_type": "code",
   "execution_count": 2,
   "id": "82421901-4231-4cdc-b433-570dace4d27a",
   "metadata": {},
   "outputs": [],
   "source": [
    "def return_number() -> NamedTuple('Output', [('number', int)]):\n",
    "    return ([5])\n",
    "\n",
    "def print_something(data: int):\n",
    "    print(data+10)"
   ]
  },
  {
   "cell_type": "markdown",
   "id": "a89bfedb-a1a0-4b1f-8605-d151dee37d5b",
   "metadata": {},
   "source": [
    "# Pipeline Design\n",
    "- Here create_component_from_func is used to convert function into components. The output from return_number_op is then fed into print_something_op"
   ]
  },
  {
   "cell_type": "code",
   "execution_count": 3,
   "id": "b5a5a8ae-f11c-4dd0-8b9a-ec9f7e686933",
   "metadata": {},
   "outputs": [],
   "source": [
    "@dsl.pipeline(\n",
    "    name='Return Number',\n",
    "    description='A pipeline that retuns and adds number'\n",
    ")\n",
    "def pipeline():\n",
    "    return_number_op = create_component_from_func(func=return_number)\n",
    "    print_something_op = create_component_from_func(func=print_something)\n",
    "    \n",
    "    return_number_task = return_number_op()\n",
    "    print_something_op(return_number_task.outputs['number'])\n",
    "    "
   ]
  },
  {
   "cell_type": "markdown",
   "id": "e6aa6f6d-5ad7-4cd7-9b15-9ab3f116db57",
   "metadata": {},
   "source": [
    "# Pipeline run\n",
    "- Here pipeline experiment name, function is defined first, then using the pipeline funcion and yaml filename the pipeline is compiled that generated the .yaml file. Then the pipeline is uploaded using the client and it is executed to run at the end."
   ]
  },
  {
   "cell_type": "code",
   "execution_count": 49,
   "id": "f513278f-a010-4d6d-983c-69cdd35bfad7",
   "metadata": {},
   "outputs": [
    {
     "data": {
      "text/html": [
       "<a href=\"/pipeline/#/experiments/details/1fdddbae-1dde-46bd-a986-877a7bd7ae59\" target=\"_blank\" >Experiment details</a>."
      ],
      "text/plain": [
       "<IPython.core.display.HTML object>"
      ]
     },
     "metadata": {},
     "output_type": "display_data"
    },
    {
     "data": {
      "text/html": [
       "<a href=/pipeline/#/pipelines/details/5a46d1d0-48e4-47f0-857f-313d4f8f3801>Pipeline details</a>."
      ],
      "text/plain": [
       "<IPython.core.display.HTML object>"
      ]
     },
     "metadata": {},
     "output_type": "display_data"
    },
    {
     "data": {
      "text/html": [
       "<a href=\"/pipeline/#/runs/details/f44b43c6-4448-4b2d-9f75-837a48b24e77\" target=\"_blank\" >Run details</a>."
      ],
      "text/plain": [
       "<IPython.core.display.HTML object>"
      ]
     },
     "metadata": {},
     "output_type": "display_data"
    }
   ],
   "source": [
    "from datetime import datetime\n",
    "import uuid\n",
    "EXPERIMENT_NAME = \"Print_Something\"\n",
    "pipeline_func = pipeline\n",
    "pipeline_filename = pipeline_func.__name__ + f'{uuid.uuid1()}.pipeline.yaml'\n",
    "kfp.compiler.Compiler().compile(pipeline_func, pipeline_filename)\n",
    "client = kfp.Client()\n",
    "experiment = client.create_experiment(EXPERIMENT_NAME)\n",
    "run_name = pipeline_func.__name__ + str(datetime.now().strftime(\"%d-%m-%Y-%H-%M-%S\"))\n",
    "client.upload_pipeline(pipeline_filename)\n",
    "run_result = client.run_pipeline(experiment.id, run_name, pipeline_filename)"
   ]
  },
  {
   "cell_type": "code",
   "execution_count": null,
   "id": "a9ce072a-7db7-4103-83a5-d8c9a9b1c2a2",
   "metadata": {},
   "outputs": [],
   "source": []
  },
  {
   "cell_type": "code",
   "execution_count": null,
   "id": "620e57a1-6c36-4f73-8de1-7251d5caa694",
   "metadata": {},
   "outputs": [],
   "source": []
  },
  {
   "cell_type": "code",
   "execution_count": null,
   "id": "22e4c9dc-ac89-4c18-b52d-841d77417126",
   "metadata": {},
   "outputs": [],
   "source": []
  }
 ],
 "metadata": {
  "kernelspec": {
   "display_name": "Python 3 (ipykernel)",
   "language": "python",
   "name": "python3"
  },
  "language_info": {
   "codemirror_mode": {
    "name": "ipython",
    "version": 3
   },
   "file_extension": ".py",
   "mimetype": "text/x-python",
   "name": "python",
   "nbconvert_exporter": "python",
   "pygments_lexer": "ipython3",
   "version": "3.8.6"
  }
 },
 "nbformat": 4,
 "nbformat_minor": 5
}
